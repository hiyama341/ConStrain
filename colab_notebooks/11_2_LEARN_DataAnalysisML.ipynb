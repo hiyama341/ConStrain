{
 "cells": [
  {
   "cell_type": "markdown",
   "id": "d4ef3e51-bdb2-46e9-834d-e2ff04bef2e9",
   "metadata": {},
   "source": [
    "# 11_2_LEARN-DataAnalysisML"
   ]
  },
  {
   "cell_type": "markdown",
   "id": "7cdf256c",
   "metadata": {},
   "source": [
    "<a target=\"_blank\" href=\"https://colab.research.google.com/github/hiyama341/ConStrain/blob/main/colab_notebooks/11_2_LEARN_DataAnalysisML.ipynb\">\n",
    "  <img src=\"https://colab.research.google.com/assets/colab-badge.svg\" alt=\"Open In Colab\"/>\n",
    "</a>"
   ]
  },
  {
   "cell_type": "code",
   "execution_count": 1,
   "id": "0e11ebfb-42e8-42de-8341-b2e6a4e8e4f0",
   "metadata": {},
   "outputs": [],
   "source": [
    "import pandas as pd\n",
    "import matplotlib as plt\n",
    "import seaborn as sns\n",
    "import matplotlib.pyplot as plt\n",
    "import numpy as np\n",
    "import matplotlib as mpl"
   ]
  },
  {
   "cell_type": "code",
   "execution_count": 2,
   "id": "641c41c4-000b-4e80-ba3b-a9ae1e09afd8",
   "metadata": {},
   "outputs": [
    {
     "name": "stdout",
     "output_type": "stream",
     "text": [
      "fatal: destination path 'ConStrain_on_google_colab' already exists and is not an empty directory.\n"
     ]
    }
   ],
   "source": [
    "# cloning the data repo\n",
    "!git clone https://github.com/hiyama341/ConStrain_on_google_colab.git"
   ]
  },
  {
   "cell_type": "markdown",
   "id": "3fbd19bd-0323-4bb8-9800-31953c62175c",
   "metadata": {},
   "source": [
    "## 1. Setup H2O AutoML"
   ]
  },
  {
   "cell_type": "code",
   "execution_count": 3,
   "id": "4bebd010",
   "metadata": {},
   "outputs": [],
   "source": [
    "%%capture \n",
    "!pip install h2o"
   ]
  },
  {
   "cell_type": "code",
   "execution_count": 4,
   "id": "72df8df8-9105-4a99-837e-155d13d99e82",
   "metadata": {},
   "outputs": [],
   "source": [
    "import h2o\n",
    "from h2o.automl import H2OAutoML"
   ]
  },
  {
   "cell_type": "code",
   "execution_count": 5,
   "id": "b2feb83d-cff7-4fc4-972b-74c9e7252861",
   "metadata": {},
   "outputs": [
    {
     "name": "stdout",
     "output_type": "stream",
     "text": [
      "Checking whether there is an H2O instance running at http://localhost:54321 ..... not found.\n",
      "Attempting to start a local H2O server...\n",
      "  Java Version: java version \"1.8.0_351\"; Java(TM) SE Runtime Environment (build 1.8.0_351-b10); Java HotSpot(TM) 64-Bit Server VM (build 25.351-b10, mixed mode)\n",
      "  Starting server from /Users/lucaslevassor/opt/anaconda3/envs/constrain/lib/python3.8/site-packages/h2o/backend/bin/h2o.jar\n",
      "  Ice root: /var/folders/2f/lw3sfzbs7l7f_q1knzbtbwrr0000gp/T/tmp5g9iz67x\n",
      "  JVM stdout: /var/folders/2f/lw3sfzbs7l7f_q1knzbtbwrr0000gp/T/tmp5g9iz67x/h2o_lucaslevassor_started_from_python.out\n",
      "  JVM stderr: /var/folders/2f/lw3sfzbs7l7f_q1knzbtbwrr0000gp/T/tmp5g9iz67x/h2o_lucaslevassor_started_from_python.err\n",
      "  Server is running at http://127.0.0.1:54321\n",
      "Connecting to H2O server at http://127.0.0.1:54321 ... successful.\n",
      "Warning: Your H2O cluster version is too old (5 months and 4 days)!Please download and install the latest version from http://h2o.ai/download/\n"
     ]
    },
    {
     "data": {
      "text/html": [
       "<div style=\"overflow:auto\"><table style=\"width:50%\"><tr><td>H2O_cluster_uptime:</td>\n",
       "<td>08 secs</td></tr>\n",
       "<tr><td>H2O_cluster_timezone:</td>\n",
       "<td>Europe/Copenhagen</td></tr>\n",
       "<tr><td>H2O_data_parsing_timezone:</td>\n",
       "<td>UTC</td></tr>\n",
       "<tr><td>H2O_cluster_version:</td>\n",
       "<td>3.36.1.3</td></tr>\n",
       "<tr><td>H2O_cluster_version_age:</td>\n",
       "<td>5 months and 4 days !!!</td></tr>\n",
       "<tr><td>H2O_cluster_name:</td>\n",
       "<td>H2O_from_python_lucaslevassor_m0hs9r</td></tr>\n",
       "<tr><td>H2O_cluster_total_nodes:</td>\n",
       "<td>1</td></tr>\n",
       "<tr><td>H2O_cluster_free_memory:</td>\n",
       "<td>3.556 Gb</td></tr>\n",
       "<tr><td>H2O_cluster_total_cores:</td>\n",
       "<td>8</td></tr>\n",
       "<tr><td>H2O_cluster_allowed_cores:</td>\n",
       "<td>8</td></tr>\n",
       "<tr><td>H2O_cluster_status:</td>\n",
       "<td>locked, healthy</td></tr>\n",
       "<tr><td>H2O_connection_url:</td>\n",
       "<td>http://127.0.0.1:54321</td></tr>\n",
       "<tr><td>H2O_connection_proxy:</td>\n",
       "<td>{\"http\": null, \"https\": null}</td></tr>\n",
       "<tr><td>H2O_internal_security:</td>\n",
       "<td>False</td></tr>\n",
       "<tr><td>Python_version:</td>\n",
       "<td>3.8.13 final</td></tr></table></div>"
      ],
      "text/plain": [
       "--------------------------  ------------------------------------\n",
       "H2O_cluster_uptime:         08 secs\n",
       "H2O_cluster_timezone:       Europe/Copenhagen\n",
       "H2O_data_parsing_timezone:  UTC\n",
       "H2O_cluster_version:        3.36.1.3\n",
       "H2O_cluster_version_age:    5 months and 4 days !!!\n",
       "H2O_cluster_name:           H2O_from_python_lucaslevassor_m0hs9r\n",
       "H2O_cluster_total_nodes:    1\n",
       "H2O_cluster_free_memory:    3.556 Gb\n",
       "H2O_cluster_total_cores:    8\n",
       "H2O_cluster_allowed_cores:  8\n",
       "H2O_cluster_status:         locked, healthy\n",
       "H2O_connection_url:         http://127.0.0.1:54321\n",
       "H2O_connection_proxy:       {\"http\": null, \"https\": null}\n",
       "H2O_internal_security:      False\n",
       "Python_version:             3.8.13 final\n",
       "--------------------------  ------------------------------------"
      ]
     },
     "metadata": {},
     "output_type": "display_data"
    }
   ],
   "source": [
    "# If this doesnt work - install java. \n",
    "# Start the H2O cluster (locally)\n",
    "h2o.init(ip=\"localhost\")"
   ]
  },
  {
   "cell_type": "code",
   "execution_count": 6,
   "id": "94de2670-a31e-46cd-868a-862c40d44bea",
   "metadata": {},
   "outputs": [],
   "source": [
    "#h2o.shutdown()"
   ]
  },
  {
   "cell_type": "markdown",
   "id": "9514b361-c3c5-4e78-b533-9336930d2620",
   "metadata": {},
   "source": [
    "### 1.1 Import our dataframe as h20 object"
   ]
  },
  {
   "cell_type": "markdown",
   "id": "62d9551b-3259-4a0a-a8d4-7db00a995532",
   "metadata": {},
   "source": [
    "Train a model based on the target and the df"
   ]
  },
  {
   "cell_type": "code",
   "execution_count": 7,
   "id": "a2a73b34-a029-45b7-be1c-df9e50ad6d2d",
   "metadata": {},
   "outputs": [
    {
     "data": {
      "text/html": [
       "<div>\n",
       "<style scoped>\n",
       "    .dataframe tbody tr th:only-of-type {\n",
       "        vertical-align: middle;\n",
       "    }\n",
       "\n",
       "    .dataframe tbody tr th {\n",
       "        vertical-align: top;\n",
       "    }\n",
       "\n",
       "    .dataframe thead th {\n",
       "        text-align: right;\n",
       "    }\n",
       "</style>\n",
       "<table border=\"1\" class=\"dataframe\">\n",
       "  <thead>\n",
       "    <tr style=\"text-align: right;\">\n",
       "      <th></th>\n",
       "      <th>Line_name</th>\n",
       "      <th>0</th>\n",
       "      <th>1</th>\n",
       "      <th>2</th>\n",
       "      <th>3</th>\n",
       "      <th>Amt_norm</th>\n",
       "    </tr>\n",
       "  </thead>\n",
       "  <tbody>\n",
       "    <tr>\n",
       "      <th>0</th>\n",
       "      <td>yp49_A01</td>\n",
       "      <td>1</td>\n",
       "      <td>2</td>\n",
       "      <td>5</td>\n",
       "      <td>1</td>\n",
       "      <td>0.972701</td>\n",
       "    </tr>\n",
       "    <tr>\n",
       "      <th>1</th>\n",
       "      <td>yp49_C01</td>\n",
       "      <td>1</td>\n",
       "      <td>2</td>\n",
       "      <td>5</td>\n",
       "      <td>9</td>\n",
       "      <td>0.536658</td>\n",
       "    </tr>\n",
       "    <tr>\n",
       "      <th>2</th>\n",
       "      <td>yp49_D01</td>\n",
       "      <td>2</td>\n",
       "      <td>4</td>\n",
       "      <td>7</td>\n",
       "      <td>3</td>\n",
       "      <td>0.175896</td>\n",
       "    </tr>\n",
       "    <tr>\n",
       "      <th>3</th>\n",
       "      <td>yp49_E01</td>\n",
       "      <td>2</td>\n",
       "      <td>1</td>\n",
       "      <td>5</td>\n",
       "      <td>7</td>\n",
       "      <td>0.345201</td>\n",
       "    </tr>\n",
       "    <tr>\n",
       "      <th>4</th>\n",
       "      <td>yp49_F01</td>\n",
       "      <td>3</td>\n",
       "      <td>3</td>\n",
       "      <td>6</td>\n",
       "      <td>1</td>\n",
       "      <td>26.416324</td>\n",
       "    </tr>\n",
       "    <tr>\n",
       "      <th>...</th>\n",
       "      <td>...</td>\n",
       "      <td>...</td>\n",
       "      <td>...</td>\n",
       "      <td>...</td>\n",
       "      <td>...</td>\n",
       "      <td>...</td>\n",
       "    </tr>\n",
       "    <tr>\n",
       "      <th>162</th>\n",
       "      <td>yp51_C12</td>\n",
       "      <td>8</td>\n",
       "      <td>3</td>\n",
       "      <td>7</td>\n",
       "      <td>2</td>\n",
       "      <td>0.000000</td>\n",
       "    </tr>\n",
       "    <tr>\n",
       "      <th>163</th>\n",
       "      <td>yp51_D12</td>\n",
       "      <td>8</td>\n",
       "      <td>2</td>\n",
       "      <td>7</td>\n",
       "      <td>6</td>\n",
       "      <td>0.614962</td>\n",
       "    </tr>\n",
       "    <tr>\n",
       "      <th>164</th>\n",
       "      <td>yp51_E12</td>\n",
       "      <td>8</td>\n",
       "      <td>1</td>\n",
       "      <td>6</td>\n",
       "      <td>10</td>\n",
       "      <td>0.466688</td>\n",
       "    </tr>\n",
       "    <tr>\n",
       "      <th>165</th>\n",
       "      <td>yp50_F05</td>\n",
       "      <td>6</td>\n",
       "      <td>1</td>\n",
       "      <td>8</td>\n",
       "      <td>2</td>\n",
       "      <td>15.155009</td>\n",
       "    </tr>\n",
       "    <tr>\n",
       "      <th>166</th>\n",
       "      <td>yp50_E07</td>\n",
       "      <td>5</td>\n",
       "      <td>1</td>\n",
       "      <td>6</td>\n",
       "      <td>9</td>\n",
       "      <td>85.594690</td>\n",
       "    </tr>\n",
       "  </tbody>\n",
       "</table>\n",
       "<p>167 rows × 6 columns</p>\n",
       "</div>"
      ],
      "text/plain": [
       "    Line_name  0  1  2   3   Amt_norm\n",
       "0    yp49_A01  1  2  5   1   0.972701\n",
       "1    yp49_C01  1  2  5   9   0.536658\n",
       "2    yp49_D01  2  4  7   3   0.175896\n",
       "3    yp49_E01  2  1  5   7   0.345201\n",
       "4    yp49_F01  3  3  6   1  26.416324\n",
       "..        ... .. .. ..  ..        ...\n",
       "162  yp51_C12  8  3  7   2   0.000000\n",
       "163  yp51_D12  8  2  7   6   0.614962\n",
       "164  yp51_E12  8  1  6  10   0.466688\n",
       "165  yp50_F05  6  1  8   2  15.155009\n",
       "166  yp50_E07  5  1  6   9  85.594690\n",
       "\n",
       "[167 rows x 6 columns]"
      ]
     },
     "execution_count": 7,
     "metadata": {},
     "output_type": "execute_result"
    }
   ],
   "source": [
    "first_input_for_ml = pd.read_csv('ConStrain_on_google_colab/Data/AutoML/input_for_ml_1st_iteration_all_analytics.csv')\n",
    "first_input_for_ml "
   ]
  },
  {
   "cell_type": "markdown",
   "id": "838752cb-cd97-4c97-94c3-ef2aed601a54",
   "metadata": {},
   "source": [
    "### 1.2 Investigate how the predictions from the previous ML cycle mathced the sampled strains "
   ]
  },
  {
   "cell_type": "code",
   "execution_count": 8,
   "id": "fc14df3d-dd5a-4ae9-b3f0-3360cc1ae9d4",
   "metadata": {},
   "outputs": [],
   "source": [
    "# Run ML with new input \n",
    "second_input_for_ml = pd.read_csv('ConStrain_on_google_colab/Data/AutoML/input_for_ml_2nd_iteration_all_analytics.csv')\n",
    "second_input_for_ml = second_input_for_ml[['Line_name', '0','1','2','3','norm_strict_%']]\n",
    "second_input_for_ml.columns = ['Line_name', '0','1','2','3','Amt_norm']"
   ]
  },
  {
   "cell_type": "code",
   "execution_count": 9,
   "id": "bb2774dd-e743-4a92-ad5b-013922286585",
   "metadata": {},
   "outputs": [
    {
     "data": {
      "text/html": [
       "<div>\n",
       "<style scoped>\n",
       "    .dataframe tbody tr th:only-of-type {\n",
       "        vertical-align: middle;\n",
       "    }\n",
       "\n",
       "    .dataframe tbody tr th {\n",
       "        vertical-align: top;\n",
       "    }\n",
       "\n",
       "    .dataframe thead th {\n",
       "        text-align: right;\n",
       "    }\n",
       "</style>\n",
       "<table border=\"1\" class=\"dataframe\">\n",
       "  <thead>\n",
       "    <tr style=\"text-align: right;\">\n",
       "      <th></th>\n",
       "      <th>Line_name</th>\n",
       "      <th>0</th>\n",
       "      <th>1</th>\n",
       "      <th>2</th>\n",
       "      <th>3</th>\n",
       "      <th>Amt_norm</th>\n",
       "      <th>G8H</th>\n",
       "      <th>CPR</th>\n",
       "      <th>pG8H</th>\n",
       "      <th>pCPR</th>\n",
       "    </tr>\n",
       "  </thead>\n",
       "  <tbody>\n",
       "    <tr>\n",
       "      <th>0</th>\n",
       "      <td>yp53_A01</td>\n",
       "      <td>4</td>\n",
       "      <td>1</td>\n",
       "      <td>5</td>\n",
       "      <td>2</td>\n",
       "      <td>9.058562</td>\n",
       "      <td>Vmin</td>\n",
       "      <td>Aan</td>\n",
       "      <td>CYC1</td>\n",
       "      <td>CCW12</td>\n",
       "    </tr>\n",
       "    <tr>\n",
       "      <th>1</th>\n",
       "      <td>yp53_A02</td>\n",
       "      <td>4</td>\n",
       "      <td>1</td>\n",
       "      <td>5</td>\n",
       "      <td>2</td>\n",
       "      <td>28.175952</td>\n",
       "      <td>Vmin</td>\n",
       "      <td>Aan</td>\n",
       "      <td>CYC1</td>\n",
       "      <td>CCW12</td>\n",
       "    </tr>\n",
       "    <tr>\n",
       "      <th>2</th>\n",
       "      <td>yp53_A04</td>\n",
       "      <td>4</td>\n",
       "      <td>2</td>\n",
       "      <td>5</td>\n",
       "      <td>2</td>\n",
       "      <td>80.375862</td>\n",
       "      <td>Vmin</td>\n",
       "      <td>Aan</td>\n",
       "      <td>ENO2</td>\n",
       "      <td>CCW12</td>\n",
       "    </tr>\n",
       "    <tr>\n",
       "      <th>3</th>\n",
       "      <td>yp53_A06</td>\n",
       "      <td>5</td>\n",
       "      <td>1</td>\n",
       "      <td>5</td>\n",
       "      <td>2</td>\n",
       "      <td>121.767572</td>\n",
       "      <td>Smus</td>\n",
       "      <td>Aan</td>\n",
       "      <td>CYC1</td>\n",
       "      <td>CCW12</td>\n",
       "    </tr>\n",
       "    <tr>\n",
       "      <th>4</th>\n",
       "      <td>yp53_A07</td>\n",
       "      <td>5</td>\n",
       "      <td>2</td>\n",
       "      <td>6</td>\n",
       "      <td>2</td>\n",
       "      <td>159.059724</td>\n",
       "      <td>Smus</td>\n",
       "      <td>Aan</td>\n",
       "      <td>ENO2</td>\n",
       "      <td>TPI1</td>\n",
       "    </tr>\n",
       "    <tr>\n",
       "      <th>...</th>\n",
       "      <td>...</td>\n",
       "      <td>...</td>\n",
       "      <td>...</td>\n",
       "      <td>...</td>\n",
       "      <td>...</td>\n",
       "      <td>...</td>\n",
       "      <td>...</td>\n",
       "      <td>...</td>\n",
       "      <td>...</td>\n",
       "      <td>...</td>\n",
       "    </tr>\n",
       "    <tr>\n",
       "      <th>124</th>\n",
       "      <td>yp54_A04</td>\n",
       "      <td>4</td>\n",
       "      <td>1</td>\n",
       "      <td>6</td>\n",
       "      <td>1</td>\n",
       "      <td>15.322951</td>\n",
       "      <td>Vmin</td>\n",
       "      <td>Cro</td>\n",
       "      <td>CYC1</td>\n",
       "      <td>TPI1</td>\n",
       "    </tr>\n",
       "    <tr>\n",
       "      <th>125</th>\n",
       "      <td>yp54_C04</td>\n",
       "      <td>5</td>\n",
       "      <td>2</td>\n",
       "      <td>6</td>\n",
       "      <td>3</td>\n",
       "      <td>94.318358</td>\n",
       "      <td>Smus</td>\n",
       "      <td>Ara</td>\n",
       "      <td>ENO2</td>\n",
       "      <td>TPI1</td>\n",
       "    </tr>\n",
       "    <tr>\n",
       "      <th>126</th>\n",
       "      <td>yp54_C09</td>\n",
       "      <td>3</td>\n",
       "      <td>1</td>\n",
       "      <td>6</td>\n",
       "      <td>3</td>\n",
       "      <td>46.469517</td>\n",
       "      <td>Cro</td>\n",
       "      <td>Ara</td>\n",
       "      <td>CYC1</td>\n",
       "      <td>TPI1</td>\n",
       "    </tr>\n",
       "    <tr>\n",
       "      <th>127</th>\n",
       "      <td>yp54_D12</td>\n",
       "      <td>5</td>\n",
       "      <td>1</td>\n",
       "      <td>6</td>\n",
       "      <td>6</td>\n",
       "      <td>3.718051</td>\n",
       "      <td>Smus</td>\n",
       "      <td>Ahu</td>\n",
       "      <td>CYC1</td>\n",
       "      <td>TPI1</td>\n",
       "    </tr>\n",
       "    <tr>\n",
       "      <th>128</th>\n",
       "      <td>yp54_E04</td>\n",
       "      <td>6</td>\n",
       "      <td>1</td>\n",
       "      <td>5</td>\n",
       "      <td>6</td>\n",
       "      <td>2.985849</td>\n",
       "      <td>Rsep</td>\n",
       "      <td>Ahu</td>\n",
       "      <td>CYC1</td>\n",
       "      <td>CCW12</td>\n",
       "    </tr>\n",
       "  </tbody>\n",
       "</table>\n",
       "<p>129 rows × 10 columns</p>\n",
       "</div>"
      ],
      "text/plain": [
       "    Line_name  0  1  2  3    Amt_norm   G8H  CPR  pG8H   pCPR\n",
       "0    yp53_A01  4  1  5  2    9.058562  Vmin  Aan  CYC1  CCW12\n",
       "1    yp53_A02  4  1  5  2   28.175952  Vmin  Aan  CYC1  CCW12\n",
       "2    yp53_A04  4  2  5  2   80.375862  Vmin  Aan  ENO2  CCW12\n",
       "3    yp53_A06  5  1  5  2  121.767572  Smus  Aan  CYC1  CCW12\n",
       "4    yp53_A07  5  2  6  2  159.059724  Smus  Aan  ENO2   TPI1\n",
       "..        ... .. .. .. ..         ...   ...  ...   ...    ...\n",
       "124  yp54_A04  4  1  6  1   15.322951  Vmin  Cro  CYC1   TPI1\n",
       "125  yp54_C04  5  2  6  3   94.318358  Smus  Ara  ENO2   TPI1\n",
       "126  yp54_C09  3  1  6  3   46.469517   Cro  Ara  CYC1   TPI1\n",
       "127  yp54_D12  5  1  6  6    3.718051  Smus  Ahu  CYC1   TPI1\n",
       "128  yp54_E04  6  1  5  6    2.985849  Rsep  Ahu  CYC1  CCW12\n",
       "\n",
       "[129 rows x 10 columns]"
      ]
     },
     "execution_count": 9,
     "metadata": {},
     "output_type": "execute_result"
    }
   ],
   "source": [
    "list_of_promoters = [\"CYC1\", \"ENO2\",\"PCK1\",\"RPL15B\", \"CCW12\", \"TPI1\",\"MLS1\",\"URE2\"]\n",
    "\n",
    "promoter_dict = {i+1:list_of_promoters[i]for i in range(len(list_of_promoters))}\n",
    "\n",
    "\n",
    "g8h_list_of_index = [\"Cacu\", \"Opum\",\"Cro\",\"Vmin\",\"Smus\",\"Rsep\",\"Oeu\",\"Ccal\"]\n",
    "cpr_list_of_index = [\"Cro\", \"Aan\",\"Ara\",\"Clo\",\"Rse\",\"Ahu\",\"Ani\",\"Cac\",\"Oeu\",\"Cpo\"]\n",
    "\n",
    "pg8h_list_of_index = ['CYC1', 'ENO2']\n",
    "pcpr_list_of_index = ['CCW12', 'TPI1'] \n",
    "\n",
    "\n",
    "\n",
    "g8h_genotype = []\n",
    "cpr_genotype = []\n",
    "pg8h_genotype = []\n",
    "pcpr_genotype = []\n",
    "\n",
    "# adding index of genotypes to individual rows \n",
    "for index, row in second_input_for_ml.iterrows():\n",
    "    # homologs\n",
    "    g8h_name = g8h_list_of_index[int(row['0']-1)]\n",
    "    cpr_name = cpr_list_of_index[int(row['3']-1)]\n",
    "    \n",
    "    # promoters\n",
    "    pg8h_name =promoter_dict[row['1']]\n",
    "    pcpr_name = promoter_dict[row['2']]\n",
    "    \n",
    "    \n",
    "    # save the genotypes\n",
    "    g8h_genotype.append(g8h_name)\n",
    "    cpr_genotype.append(cpr_name)\n",
    "    pg8h_genotype.append(pg8h_name)\n",
    "    pcpr_genotype.append(pcpr_name)\n",
    "\n",
    "second_input_for_ml['G8H'] = g8h_genotype\n",
    "second_input_for_ml['CPR'] = cpr_genotype\n",
    "second_input_for_ml['pG8H'] = pg8h_genotype\n",
    "second_input_for_ml['pCPR'] = pcpr_genotype\n",
    "second_input_for_ml"
   ]
  },
  {
   "cell_type": "code",
   "execution_count": 10,
   "id": "af3c69c1-a3ad-475d-83c8-4aa1335636ef",
   "metadata": {},
   "outputs": [
    {
     "data": {
      "text/html": [
       "<div>\n",
       "<style scoped>\n",
       "    .dataframe tbody tr th:only-of-type {\n",
       "        vertical-align: middle;\n",
       "    }\n",
       "\n",
       "    .dataframe tbody tr th {\n",
       "        vertical-align: top;\n",
       "    }\n",
       "\n",
       "    .dataframe thead th {\n",
       "        text-align: right;\n",
       "    }\n",
       "</style>\n",
       "<table border=\"1\" class=\"dataframe\">\n",
       "  <thead>\n",
       "    <tr style=\"text-align: right;\">\n",
       "      <th></th>\n",
       "      <th>Names</th>\n",
       "      <th>Amt_norm</th>\n",
       "      <th>Line_name</th>\n",
       "    </tr>\n",
       "  </thead>\n",
       "  <tbody>\n",
       "    <tr>\n",
       "      <th>0</th>\n",
       "      <td>Vmin-CYC1-CCW12-Aan</td>\n",
       "      <td>9.058562</td>\n",
       "      <td>yp53_A01</td>\n",
       "    </tr>\n",
       "    <tr>\n",
       "      <th>1</th>\n",
       "      <td>Vmin-CYC1-CCW12-Aan</td>\n",
       "      <td>28.175952</td>\n",
       "      <td>yp53_A02</td>\n",
       "    </tr>\n",
       "    <tr>\n",
       "      <th>2</th>\n",
       "      <td>Vmin-ENO2-CCW12-Aan</td>\n",
       "      <td>80.375862</td>\n",
       "      <td>yp53_A04</td>\n",
       "    </tr>\n",
       "    <tr>\n",
       "      <th>3</th>\n",
       "      <td>Smus-CYC1-CCW12-Aan</td>\n",
       "      <td>121.767572</td>\n",
       "      <td>yp53_A06</td>\n",
       "    </tr>\n",
       "    <tr>\n",
       "      <th>4</th>\n",
       "      <td>Smus-ENO2-TPI1-Aan</td>\n",
       "      <td>159.059724</td>\n",
       "      <td>yp53_A07</td>\n",
       "    </tr>\n",
       "    <tr>\n",
       "      <th>...</th>\n",
       "      <td>...</td>\n",
       "      <td>...</td>\n",
       "      <td>...</td>\n",
       "    </tr>\n",
       "    <tr>\n",
       "      <th>124</th>\n",
       "      <td>Vmin-CYC1-TPI1-Cro</td>\n",
       "      <td>15.322951</td>\n",
       "      <td>yp54_A04</td>\n",
       "    </tr>\n",
       "    <tr>\n",
       "      <th>125</th>\n",
       "      <td>Smus-ENO2-TPI1-Ara</td>\n",
       "      <td>94.318358</td>\n",
       "      <td>yp54_C04</td>\n",
       "    </tr>\n",
       "    <tr>\n",
       "      <th>126</th>\n",
       "      <td>Cro-CYC1-TPI1-Ara</td>\n",
       "      <td>46.469517</td>\n",
       "      <td>yp54_C09</td>\n",
       "    </tr>\n",
       "    <tr>\n",
       "      <th>127</th>\n",
       "      <td>Smus-CYC1-TPI1-Ahu</td>\n",
       "      <td>3.718051</td>\n",
       "      <td>yp54_D12</td>\n",
       "    </tr>\n",
       "    <tr>\n",
       "      <th>128</th>\n",
       "      <td>Rsep-CYC1-CCW12-Ahu</td>\n",
       "      <td>2.985849</td>\n",
       "      <td>yp54_E04</td>\n",
       "    </tr>\n",
       "  </tbody>\n",
       "</table>\n",
       "<p>129 rows × 3 columns</p>\n",
       "</div>"
      ],
      "text/plain": [
       "                   Names    Amt_norm Line_name\n",
       "0    Vmin-CYC1-CCW12-Aan    9.058562  yp53_A01\n",
       "1    Vmin-CYC1-CCW12-Aan   28.175952  yp53_A02\n",
       "2    Vmin-ENO2-CCW12-Aan   80.375862  yp53_A04\n",
       "3    Smus-CYC1-CCW12-Aan  121.767572  yp53_A06\n",
       "4     Smus-ENO2-TPI1-Aan  159.059724  yp53_A07\n",
       "..                   ...         ...       ...\n",
       "124   Vmin-CYC1-TPI1-Cro   15.322951  yp54_A04\n",
       "125   Smus-ENO2-TPI1-Ara   94.318358  yp54_C04\n",
       "126    Cro-CYC1-TPI1-Ara   46.469517  yp54_C09\n",
       "127   Smus-CYC1-TPI1-Ahu    3.718051  yp54_D12\n",
       "128  Rsep-CYC1-CCW12-Ahu    2.985849  yp54_E04\n",
       "\n",
       "[129 rows x 3 columns]"
      ]
     },
     "execution_count": 10,
     "metadata": {},
     "output_type": "execute_result"
    }
   ],
   "source": [
    "second_input_for_ml[\"Names\"] = second_input_for_ml[['G8H', 'pG8H','pCPR', 'CPR']].agg('-'.join, axis=1)\n",
    "second_input_for_ml =second_input_for_ml[['Names', 'Amt_norm', 'Line_name']]\n",
    "second_input_for_ml"
   ]
  },
  {
   "cell_type": "code",
   "execution_count": 11,
   "id": "c711f86a-6fec-4f62-81b1-83a3742b1df3",
   "metadata": {},
   "outputs": [
    {
     "data": {
      "text/html": [
       "<div>\n",
       "<style scoped>\n",
       "    .dataframe tbody tr th:only-of-type {\n",
       "        vertical-align: middle;\n",
       "    }\n",
       "\n",
       "    .dataframe tbody tr th {\n",
       "        vertical-align: top;\n",
       "    }\n",
       "\n",
       "    .dataframe thead th {\n",
       "        text-align: right;\n",
       "    }\n",
       "</style>\n",
       "<table border=\"1\" class=\"dataframe\">\n",
       "  <thead>\n",
       "    <tr style=\"text-align: right;\">\n",
       "      <th></th>\n",
       "      <th>Names</th>\n",
       "      <th>Predicted_strict_production</th>\n",
       "      <th>Predicted_strict_production_rank_pct</th>\n",
       "    </tr>\n",
       "  </thead>\n",
       "  <tbody>\n",
       "    <tr>\n",
       "      <th>0</th>\n",
       "      <td>Smus-ENO2-TPI1-Rse</td>\n",
       "      <td>169.288180</td>\n",
       "      <td>1.000000</td>\n",
       "    </tr>\n",
       "    <tr>\n",
       "      <th>1</th>\n",
       "      <td>Rsep-ENO2-TPI1-Ara</td>\n",
       "      <td>162.151856</td>\n",
       "      <td>0.999106</td>\n",
       "    </tr>\n",
       "    <tr>\n",
       "      <th>2</th>\n",
       "      <td>Smus-ENO2-CCW12-Ara</td>\n",
       "      <td>161.904255</td>\n",
       "      <td>0.998213</td>\n",
       "    </tr>\n",
       "    <tr>\n",
       "      <th>3</th>\n",
       "      <td>Smus-CYC1-TPI1-Ara</td>\n",
       "      <td>157.638727</td>\n",
       "      <td>0.997319</td>\n",
       "    </tr>\n",
       "    <tr>\n",
       "      <th>4</th>\n",
       "      <td>Smus-ENO2-TPI1-Aan</td>\n",
       "      <td>156.976470</td>\n",
       "      <td>0.996425</td>\n",
       "    </tr>\n",
       "    <tr>\n",
       "      <th>...</th>\n",
       "      <td>...</td>\n",
       "      <td>...</td>\n",
       "      <td>...</td>\n",
       "    </tr>\n",
       "    <tr>\n",
       "      <th>1114</th>\n",
       "      <td>Rsep-CYC1-TPI1-Ani</td>\n",
       "      <td>-9.125477</td>\n",
       "      <td>0.004468</td>\n",
       "    </tr>\n",
       "    <tr>\n",
       "      <th>1115</th>\n",
       "      <td>Ccal-ENO2-TPI1-Cac</td>\n",
       "      <td>-12.768510</td>\n",
       "      <td>0.003575</td>\n",
       "    </tr>\n",
       "    <tr>\n",
       "      <th>1116</th>\n",
       "      <td>Rsep-PCK1-CCW12-Ara</td>\n",
       "      <td>-12.901417</td>\n",
       "      <td>0.002681</td>\n",
       "    </tr>\n",
       "    <tr>\n",
       "      <th>1117</th>\n",
       "      <td>Ccal-ENO2-CCW12-Cac</td>\n",
       "      <td>-16.241411</td>\n",
       "      <td>0.001787</td>\n",
       "    </tr>\n",
       "    <tr>\n",
       "      <th>1118</th>\n",
       "      <td>Rsep-PCK1-TPI1-Ara</td>\n",
       "      <td>-19.354027</td>\n",
       "      <td>0.000894</td>\n",
       "    </tr>\n",
       "  </tbody>\n",
       "</table>\n",
       "<p>1119 rows × 3 columns</p>\n",
       "</div>"
      ],
      "text/plain": [
       "                    Names  Predicted_strict_production  \\\n",
       "0      Smus-ENO2-TPI1-Rse                   169.288180   \n",
       "1      Rsep-ENO2-TPI1-Ara                   162.151856   \n",
       "2     Smus-ENO2-CCW12-Ara                   161.904255   \n",
       "3      Smus-CYC1-TPI1-Ara                   157.638727   \n",
       "4      Smus-ENO2-TPI1-Aan                   156.976470   \n",
       "...                   ...                          ...   \n",
       "1114   Rsep-CYC1-TPI1-Ani                    -9.125477   \n",
       "1115   Ccal-ENO2-TPI1-Cac                   -12.768510   \n",
       "1116  Rsep-PCK1-CCW12-Ara                   -12.901417   \n",
       "1117  Ccal-ENO2-CCW12-Cac                   -16.241411   \n",
       "1118   Rsep-PCK1-TPI1-Ara                   -19.354027   \n",
       "\n",
       "      Predicted_strict_production_rank_pct  \n",
       "0                                 1.000000  \n",
       "1                                 0.999106  \n",
       "2                                 0.998213  \n",
       "3                                 0.997319  \n",
       "4                                 0.996425  \n",
       "...                                    ...  \n",
       "1114                              0.004468  \n",
       "1115                              0.003575  \n",
       "1116                              0.002681  \n",
       "1117                              0.001787  \n",
       "1118                              0.000894  \n",
       "\n",
       "[1119 rows x 3 columns]"
      ]
     },
     "execution_count": 11,
     "metadata": {},
     "output_type": "execute_result"
    }
   ],
   "source": [
    "first_round_top_producers = pd.read_csv('ConStrain_on_google_colab/Data/AutoML/top20_ML_predicted_after_first_DBTL_1st_analytics.csv')\n",
    "first_round_top_producers = first_round_top_producers.sort_values(by='Predicted_strict_production', ascending=False)\n",
    "\n",
    "first_round_top_producers[\"Names\"] = first_round_top_producers[['G8H', 'pG8H','pCPR', 'CPR']].agg('-'.join, axis=1)\n",
    "first_round_top_producers  = first_round_top_producers[['Names', 'Predicted_strict_production']]\n",
    "first_round_top_producers['Predicted_strict_production_rank_pct']= first_round_top_producers['Predicted_strict_production'].rank(pct=True)\n",
    "first_round_top_producers"
   ]
  },
  {
   "cell_type": "code",
   "execution_count": 12,
   "id": "be8777b2-6686-4363-bb76-d4b9dd464e05",
   "metadata": {},
   "outputs": [
    {
     "data": {
      "text/html": [
       "<div>\n",
       "<style scoped>\n",
       "    .dataframe tbody tr th:only-of-type {\n",
       "        vertical-align: middle;\n",
       "    }\n",
       "\n",
       "    .dataframe tbody tr th {\n",
       "        vertical-align: top;\n",
       "    }\n",
       "\n",
       "    .dataframe thead th {\n",
       "        text-align: right;\n",
       "    }\n",
       "</style>\n",
       "<table border=\"1\" class=\"dataframe\">\n",
       "  <thead>\n",
       "    <tr style=\"text-align: right;\">\n",
       "      <th></th>\n",
       "      <th>Names</th>\n",
       "      <th>Amt_norm</th>\n",
       "      <th>Line_name</th>\n",
       "    </tr>\n",
       "  </thead>\n",
       "  <tbody>\n",
       "    <tr>\n",
       "      <th>0</th>\n",
       "      <td>Vmin-CYC1-CCW12-Aan</td>\n",
       "      <td>9.058562</td>\n",
       "      <td>yp53_A01</td>\n",
       "    </tr>\n",
       "    <tr>\n",
       "      <th>1</th>\n",
       "      <td>Vmin-CYC1-CCW12-Aan</td>\n",
       "      <td>28.175952</td>\n",
       "      <td>yp53_A02</td>\n",
       "    </tr>\n",
       "    <tr>\n",
       "      <th>2</th>\n",
       "      <td>Vmin-ENO2-CCW12-Aan</td>\n",
       "      <td>80.375862</td>\n",
       "      <td>yp53_A04</td>\n",
       "    </tr>\n",
       "    <tr>\n",
       "      <th>3</th>\n",
       "      <td>Smus-CYC1-CCW12-Aan</td>\n",
       "      <td>121.767572</td>\n",
       "      <td>yp53_A06</td>\n",
       "    </tr>\n",
       "    <tr>\n",
       "      <th>4</th>\n",
       "      <td>Smus-ENO2-TPI1-Aan</td>\n",
       "      <td>159.059724</td>\n",
       "      <td>yp53_A07</td>\n",
       "    </tr>\n",
       "    <tr>\n",
       "      <th>...</th>\n",
       "      <td>...</td>\n",
       "      <td>...</td>\n",
       "      <td>...</td>\n",
       "    </tr>\n",
       "    <tr>\n",
       "      <th>124</th>\n",
       "      <td>Vmin-CYC1-TPI1-Cro</td>\n",
       "      <td>15.322951</td>\n",
       "      <td>yp54_A04</td>\n",
       "    </tr>\n",
       "    <tr>\n",
       "      <th>125</th>\n",
       "      <td>Smus-ENO2-TPI1-Ara</td>\n",
       "      <td>94.318358</td>\n",
       "      <td>yp54_C04</td>\n",
       "    </tr>\n",
       "    <tr>\n",
       "      <th>126</th>\n",
       "      <td>Cro-CYC1-TPI1-Ara</td>\n",
       "      <td>46.469517</td>\n",
       "      <td>yp54_C09</td>\n",
       "    </tr>\n",
       "    <tr>\n",
       "      <th>127</th>\n",
       "      <td>Smus-CYC1-TPI1-Ahu</td>\n",
       "      <td>3.718051</td>\n",
       "      <td>yp54_D12</td>\n",
       "    </tr>\n",
       "    <tr>\n",
       "      <th>128</th>\n",
       "      <td>Rsep-CYC1-CCW12-Ahu</td>\n",
       "      <td>2.985849</td>\n",
       "      <td>yp54_E04</td>\n",
       "    </tr>\n",
       "  </tbody>\n",
       "</table>\n",
       "<p>129 rows × 3 columns</p>\n",
       "</div>"
      ],
      "text/plain": [
       "                   Names    Amt_norm Line_name\n",
       "0    Vmin-CYC1-CCW12-Aan    9.058562  yp53_A01\n",
       "1    Vmin-CYC1-CCW12-Aan   28.175952  yp53_A02\n",
       "2    Vmin-ENO2-CCW12-Aan   80.375862  yp53_A04\n",
       "3    Smus-CYC1-CCW12-Aan  121.767572  yp53_A06\n",
       "4     Smus-ENO2-TPI1-Aan  159.059724  yp53_A07\n",
       "..                   ...         ...       ...\n",
       "124   Vmin-CYC1-TPI1-Cro   15.322951  yp54_A04\n",
       "125   Smus-ENO2-TPI1-Ara   94.318358  yp54_C04\n",
       "126    Cro-CYC1-TPI1-Ara   46.469517  yp54_C09\n",
       "127   Smus-CYC1-TPI1-Ahu    3.718051  yp54_D12\n",
       "128  Rsep-CYC1-CCW12-Ahu    2.985849  yp54_E04\n",
       "\n",
       "[129 rows x 3 columns]"
      ]
     },
     "execution_count": 12,
     "metadata": {},
     "output_type": "execute_result"
    }
   ],
   "source": [
    "second_input_for_ml"
   ]
  },
  {
   "cell_type": "code",
   "execution_count": 13,
   "id": "c966826c-ec0c-41bb-aabb-9175fbde163f",
   "metadata": {},
   "outputs": [],
   "source": [
    "## merging the unsampled library with the second sampling\n",
    "predicted_vs_sampled = pd.merge(first_round_top_producers, second_input_for_ml, on=['Names'])\n",
    "predicted_vs_sampled['norm_strict_measured_rank'] = predicted_vs_sampled['Amt_norm'].rank(pct=True)\n",
    "predicted_vs_sampled['Predicted_strict_production_rank_pct'] = predicted_vs_sampled['Predicted_strict_production'].rank(pct=True)\n",
    "\n",
    "\n",
    "#new_input_for_ml['NA_bottom'] = new_input_for_ml['Amt_norm'].rank(na_option='bottom')\n",
    "#new_input_for_ml['pct_rank'] = new_input_for_ml['Amt_norm'].rank(pct=True)\n",
    "predicted_vs_sampled = predicted_vs_sampled.sort_values(by= 'Amt_norm', ascending = False)\n"
   ]
  },
  {
   "cell_type": "code",
   "execution_count": 14,
   "id": "28719686-32e0-49c4-9e62-12a8cf62fa85",
   "metadata": {},
   "outputs": [
    {
     "data": {
      "text/html": [
       "<div>\n",
       "<style scoped>\n",
       "    .dataframe tbody tr th:only-of-type {\n",
       "        vertical-align: middle;\n",
       "    }\n",
       "\n",
       "    .dataframe tbody tr th {\n",
       "        vertical-align: top;\n",
       "    }\n",
       "\n",
       "    .dataframe thead th {\n",
       "        text-align: right;\n",
       "    }\n",
       "</style>\n",
       "<table border=\"1\" class=\"dataframe\">\n",
       "  <thead>\n",
       "    <tr style=\"text-align: right;\">\n",
       "      <th></th>\n",
       "      <th>Names</th>\n",
       "      <th>Predicted_strict_production</th>\n",
       "      <th>Predicted_strict_production_rank_pct</th>\n",
       "      <th>Amt_norm</th>\n",
       "      <th>Line_name</th>\n",
       "      <th>norm_strict_measured_rank</th>\n",
       "    </tr>\n",
       "  </thead>\n",
       "  <tbody>\n",
       "    <tr>\n",
       "      <th>0</th>\n",
       "      <td>Smus-ENO2-TPI1-Rse</td>\n",
       "      <td>169.288180</td>\n",
       "      <td>0.995575</td>\n",
       "      <td>169.631396</td>\n",
       "      <td>yp53_D09</td>\n",
       "      <td>1.000000</td>\n",
       "    </tr>\n",
       "    <tr>\n",
       "      <th>10</th>\n",
       "      <td>Rsep-ENO2-TPI1-Clo</td>\n",
       "      <td>103.496648</td>\n",
       "      <td>0.907080</td>\n",
       "      <td>159.517718</td>\n",
       "      <td>yp53_C06</td>\n",
       "      <td>0.991150</td>\n",
       "    </tr>\n",
       "    <tr>\n",
       "      <th>4</th>\n",
       "      <td>Smus-ENO2-TPI1-Aan</td>\n",
       "      <td>156.976470</td>\n",
       "      <td>0.964602</td>\n",
       "      <td>159.059724</td>\n",
       "      <td>yp53_A07</td>\n",
       "      <td>0.982301</td>\n",
       "    </tr>\n",
       "    <tr>\n",
       "      <th>31</th>\n",
       "      <td>Smus-CYC1-CCW12-Clo</td>\n",
       "      <td>57.162466</td>\n",
       "      <td>0.725664</td>\n",
       "      <td>143.483630</td>\n",
       "      <td>yp53_C01</td>\n",
       "      <td>0.973451</td>\n",
       "    </tr>\n",
       "    <tr>\n",
       "      <th>32</th>\n",
       "      <td>Cro-ENO2-TPI1-Cro</td>\n",
       "      <td>56.438602</td>\n",
       "      <td>0.712389</td>\n",
       "      <td>138.267757</td>\n",
       "      <td>yp54_B01</td>\n",
       "      <td>0.964602</td>\n",
       "    </tr>\n",
       "    <tr>\n",
       "      <th>...</th>\n",
       "      <td>...</td>\n",
       "      <td>...</td>\n",
       "      <td>...</td>\n",
       "      <td>...</td>\n",
       "      <td>...</td>\n",
       "      <td>...</td>\n",
       "    </tr>\n",
       "    <tr>\n",
       "      <th>99</th>\n",
       "      <td>Smus-CYC1-TPI1-Ahu</td>\n",
       "      <td>2.649671</td>\n",
       "      <td>0.123894</td>\n",
       "      <td>0.000000</td>\n",
       "      <td>yp54_D10</td>\n",
       "      <td>0.061947</td>\n",
       "    </tr>\n",
       "    <tr>\n",
       "      <th>98</th>\n",
       "      <td>Smus-CYC1-TPI1-Ahu</td>\n",
       "      <td>2.649671</td>\n",
       "      <td>0.123894</td>\n",
       "      <td>0.000000</td>\n",
       "      <td>yp54_D09</td>\n",
       "      <td>0.061947</td>\n",
       "    </tr>\n",
       "    <tr>\n",
       "      <th>97</th>\n",
       "      <td>Cro-CYC1-CCW12-Ani</td>\n",
       "      <td>2.686140</td>\n",
       "      <td>0.146018</td>\n",
       "      <td>0.000000</td>\n",
       "      <td>yp53_G04</td>\n",
       "      <td>0.061947</td>\n",
       "    </tr>\n",
       "    <tr>\n",
       "      <th>96</th>\n",
       "      <td>Cro-CYC1-CCW12-Ani</td>\n",
       "      <td>2.686140</td>\n",
       "      <td>0.146018</td>\n",
       "      <td>0.000000</td>\n",
       "      <td>yp53_G03</td>\n",
       "      <td>0.061947</td>\n",
       "    </tr>\n",
       "    <tr>\n",
       "      <th>112</th>\n",
       "      <td>Rsep-CYC1-TPI1-Ani</td>\n",
       "      <td>-9.125477</td>\n",
       "      <td>0.013274</td>\n",
       "      <td>0.000000</td>\n",
       "      <td>yp53_F12</td>\n",
       "      <td>0.061947</td>\n",
       "    </tr>\n",
       "  </tbody>\n",
       "</table>\n",
       "<p>113 rows × 6 columns</p>\n",
       "</div>"
      ],
      "text/plain": [
       "                   Names  Predicted_strict_production  \\\n",
       "0     Smus-ENO2-TPI1-Rse                   169.288180   \n",
       "10    Rsep-ENO2-TPI1-Clo                   103.496648   \n",
       "4     Smus-ENO2-TPI1-Aan                   156.976470   \n",
       "31   Smus-CYC1-CCW12-Clo                    57.162466   \n",
       "32     Cro-ENO2-TPI1-Cro                    56.438602   \n",
       "..                   ...                          ...   \n",
       "99    Smus-CYC1-TPI1-Ahu                     2.649671   \n",
       "98    Smus-CYC1-TPI1-Ahu                     2.649671   \n",
       "97    Cro-CYC1-CCW12-Ani                     2.686140   \n",
       "96    Cro-CYC1-CCW12-Ani                     2.686140   \n",
       "112   Rsep-CYC1-TPI1-Ani                    -9.125477   \n",
       "\n",
       "     Predicted_strict_production_rank_pct    Amt_norm Line_name  \\\n",
       "0                                0.995575  169.631396  yp53_D09   \n",
       "10                               0.907080  159.517718  yp53_C06   \n",
       "4                                0.964602  159.059724  yp53_A07   \n",
       "31                               0.725664  143.483630  yp53_C01   \n",
       "32                               0.712389  138.267757  yp54_B01   \n",
       "..                                    ...         ...       ...   \n",
       "99                               0.123894    0.000000  yp54_D10   \n",
       "98                               0.123894    0.000000  yp54_D09   \n",
       "97                               0.146018    0.000000  yp53_G04   \n",
       "96                               0.146018    0.000000  yp53_G03   \n",
       "112                              0.013274    0.000000  yp53_F12   \n",
       "\n",
       "     norm_strict_measured_rank  \n",
       "0                     1.000000  \n",
       "10                    0.991150  \n",
       "4                     0.982301  \n",
       "31                    0.973451  \n",
       "32                    0.964602  \n",
       "..                         ...  \n",
       "99                    0.061947  \n",
       "98                    0.061947  \n",
       "97                    0.061947  \n",
       "96                    0.061947  \n",
       "112                   0.061947  \n",
       "\n",
       "[113 rows x 6 columns]"
      ]
     },
     "execution_count": 14,
     "metadata": {},
     "output_type": "execute_result"
    }
   ],
   "source": [
    "predicted_vs_sampled"
   ]
  },
  {
   "cell_type": "code",
   "execution_count": 15,
   "id": "4f9a2b8c-0754-436b-95e1-bc06ac6bbb24",
   "metadata": {},
   "outputs": [],
   "source": [
    "from constrain.plotting.plotting import correlation_plot"
   ]
  },
  {
   "cell_type": "code",
   "execution_count": 16,
   "id": "61fa7c19-ba3c-42dc-b21d-25059a8db521",
   "metadata": {},
   "outputs": [
    {
     "data": {
      "image/png": "[encoded data removed]",
      "text/plain": [
       "<Figure size 576x576 with 1 Axes>"
      ]
     },
     "metadata": {
      "needs_background": "light"
     },
     "output_type": "display_data"
    }
   ],
   "source": [
    "correlation_plot(predicted_vs_sampled,\"Amt_norm\",\"Predicted_strict_production\")"
   ]
  },
  {
   "cell_type": "code",
   "execution_count": 17,
   "id": "de28ba79-7806-4177-b5e2-b34c490ab8e1",
   "metadata": {},
   "outputs": [
    {
     "data": {
      "image/png": "[encoded data removed]",
      "text/plain": [
       "<Figure size 800x800 with 1 Axes>"
      ]
     },
     "metadata": {},
     "output_type": "display_data"
    }
   ],
   "source": [
    "correlation_plot(predicted_vs_sampled,\"Predicted_strict_production_rank_pct\",\"norm_strict_measured_rank\")"
   ]
  },
  {
   "cell_type": "markdown",
   "id": "b42b726f-d308-4d7d-81cd-eae5cddc6635",
   "metadata": {},
   "source": [
    "### 1.3 Merging the dataframes for updating the model "
   ]
  },
  {
   "cell_type": "code",
   "execution_count": 27,
   "id": "c49b1887-8c9a-4732-9255-66f9f55de1bd",
   "metadata": {},
   "outputs": [],
   "source": [
    "first_input_for_ml = pd.read_csv('ConStrain_on_google_colab/Data/AutoML/input_for_ml_1st_iteration_all_analytics.csv')\n",
    "second_input_for_ml = pd.read_csv('ConStrain_on_google_colab/Data/AutoML/input_for_ml_2nd_iteration_all_analytics.csv')\n",
    "second_input_for_ml.columns = ['Line_name', '0','1','2','3','Amt_norm']"
   ]
  },
  {
   "cell_type": "code",
   "execution_count": 30,
   "id": "8fac41b0-56ef-418f-a17f-dd763258fb40",
   "metadata": {},
   "outputs": [
    {
     "data": {
      "text/html": [
       "<div>\n",
       "<style scoped>\n",
       "    .dataframe tbody tr th:only-of-type {\n",
       "        vertical-align: middle;\n",
       "    }\n",
       "\n",
       "    .dataframe tbody tr th {\n",
       "        vertical-align: top;\n",
       "    }\n",
       "\n",
       "    .dataframe thead th {\n",
       "        text-align: right;\n",
       "    }\n",
       "</style>\n",
       "<table border=\"1\" class=\"dataframe\">\n",
       "  <thead>\n",
       "    <tr style=\"text-align: right;\">\n",
       "      <th></th>\n",
       "      <th>Line_name</th>\n",
       "      <th>0</th>\n",
       "      <th>1</th>\n",
       "      <th>2</th>\n",
       "      <th>3</th>\n",
       "      <th>Amt_norm</th>\n",
       "    </tr>\n",
       "  </thead>\n",
       "  <tbody>\n",
       "    <tr>\n",
       "      <th>0</th>\n",
       "      <td>yp49_A01</td>\n",
       "      <td>1</td>\n",
       "      <td>2</td>\n",
       "      <td>5</td>\n",
       "      <td>1</td>\n",
       "      <td>0.972701</td>\n",
       "    </tr>\n",
       "    <tr>\n",
       "      <th>1</th>\n",
       "      <td>yp49_C01</td>\n",
       "      <td>1</td>\n",
       "      <td>2</td>\n",
       "      <td>5</td>\n",
       "      <td>9</td>\n",
       "      <td>0.536658</td>\n",
       "    </tr>\n",
       "    <tr>\n",
       "      <th>2</th>\n",
       "      <td>yp49_D01</td>\n",
       "      <td>2</td>\n",
       "      <td>4</td>\n",
       "      <td>7</td>\n",
       "      <td>3</td>\n",
       "      <td>0.175896</td>\n",
       "    </tr>\n",
       "    <tr>\n",
       "      <th>3</th>\n",
       "      <td>yp49_E01</td>\n",
       "      <td>2</td>\n",
       "      <td>1</td>\n",
       "      <td>5</td>\n",
       "      <td>7</td>\n",
       "      <td>0.345201</td>\n",
       "    </tr>\n",
       "    <tr>\n",
       "      <th>4</th>\n",
       "      <td>yp49_F01</td>\n",
       "      <td>3</td>\n",
       "      <td>3</td>\n",
       "      <td>6</td>\n",
       "      <td>1</td>\n",
       "      <td>26.416324</td>\n",
       "    </tr>\n",
       "    <tr>\n",
       "      <th>...</th>\n",
       "      <td>...</td>\n",
       "      <td>...</td>\n",
       "      <td>...</td>\n",
       "      <td>...</td>\n",
       "      <td>...</td>\n",
       "      <td>...</td>\n",
       "    </tr>\n",
       "    <tr>\n",
       "      <th>124</th>\n",
       "      <td>yp54_A04</td>\n",
       "      <td>4</td>\n",
       "      <td>1</td>\n",
       "      <td>6</td>\n",
       "      <td>1</td>\n",
       "      <td>15.322951</td>\n",
       "    </tr>\n",
       "    <tr>\n",
       "      <th>125</th>\n",
       "      <td>yp54_C04</td>\n",
       "      <td>5</td>\n",
       "      <td>2</td>\n",
       "      <td>6</td>\n",
       "      <td>3</td>\n",
       "      <td>94.318358</td>\n",
       "    </tr>\n",
       "    <tr>\n",
       "      <th>126</th>\n",
       "      <td>yp54_C09</td>\n",
       "      <td>3</td>\n",
       "      <td>1</td>\n",
       "      <td>6</td>\n",
       "      <td>3</td>\n",
       "      <td>46.469517</td>\n",
       "    </tr>\n",
       "    <tr>\n",
       "      <th>127</th>\n",
       "      <td>yp54_D12</td>\n",
       "      <td>5</td>\n",
       "      <td>1</td>\n",
       "      <td>6</td>\n",
       "      <td>6</td>\n",
       "      <td>3.718051</td>\n",
       "    </tr>\n",
       "    <tr>\n",
       "      <th>128</th>\n",
       "      <td>yp54_E04</td>\n",
       "      <td>6</td>\n",
       "      <td>1</td>\n",
       "      <td>5</td>\n",
       "      <td>6</td>\n",
       "      <td>2.985849</td>\n",
       "    </tr>\n",
       "  </tbody>\n",
       "</table>\n",
       "<p>296 rows × 6 columns</p>\n",
       "</div>"
      ],
      "text/plain": [
       "    Line_name  0  1  2  3   Amt_norm\n",
       "0    yp49_A01  1  2  5  1   0.972701\n",
       "1    yp49_C01  1  2  5  9   0.536658\n",
       "2    yp49_D01  2  4  7  3   0.175896\n",
       "3    yp49_E01  2  1  5  7   0.345201\n",
       "4    yp49_F01  3  3  6  1  26.416324\n",
       "..        ... .. .. .. ..        ...\n",
       "124  yp54_A04  4  1  6  1  15.322951\n",
       "125  yp54_C04  5  2  6  3  94.318358\n",
       "126  yp54_C09  3  1  6  3  46.469517\n",
       "127  yp54_D12  5  1  6  6   3.718051\n",
       "128  yp54_E04  6  1  5  6   2.985849\n",
       "\n",
       "[296 rows x 6 columns]"
      ]
     },
     "execution_count": 30,
     "metadata": {},
     "output_type": "execute_result"
    }
   ],
   "source": [
    "new_input_for_ml = pd.concat([first_input_for_ml,second_input_for_ml ])\n",
    "new_input_for_ml.columns = ['Line_name', '0','1','2','3','Amt_norm']\n",
    "\n",
    "new_input_for_ml"
   ]
  },
  {
   "cell_type": "markdown",
   "id": "86873c7e-b07a-4a52-86fe-685d4c031d64",
   "metadata": {},
   "source": [
    "### 1.2 Update dataframe Change "
   ]
  },
  {
   "cell_type": "code",
   "execution_count": 31,
   "id": "50915012-fa3e-4a1f-86b5-be3e8b2c5e77",
   "metadata": {},
   "outputs": [
    {
     "name": "stdout",
     "output_type": "stream",
     "text": [
      "Parse progress: |████████████████████████████████████████████████████████████████| (done) 100%\n",
      "Rows:296\n",
      "Cols:6\n",
      "\n",
      "\n"
     ]
    },
    {
     "data": {
      "text/html": [
       "<table>\n",
       "<thead>\n",
       "<tr><th>       </th><th>Line_name  </th><th>0                </th><th>1                 </th><th>2                 </th><th>3                 </th><th>Amt_norm          </th></tr>\n",
       "</thead>\n",
       "<tbody>\n",
       "<tr><td>type   </td><td>string     </td><td>int              </td><td>int               </td><td>int               </td><td>int               </td><td>real              </td></tr>\n",
       "<tr><td>mins   </td><td>NaN        </td><td>1.0              </td><td>1.0               </td><td>5.0               </td><td>1.0               </td><td>0.0               </td></tr>\n",
       "<tr><td>mean   </td><td>NaN        </td><td>4.773648648648647</td><td>2.1452702702702697</td><td>6.135135135135138 </td><td>4.750000000000003 </td><td>29.09914171700607 </td></tr>\n",
       "<tr><td>maxs   </td><td>NaN        </td><td>8.0              </td><td>4.0               </td><td>8.0               </td><td>10.0              </td><td>277.3078163064027 </td></tr>\n",
       "<tr><td>sigma  </td><td>NaN        </td><td>1.946604570553522</td><td>1.115003045338059 </td><td>1.0554051268004114</td><td>2.5930153901508803</td><td>46.17102137141943 </td></tr>\n",
       "<tr><td>zeros  </td><td>0          </td><td>0                </td><td>0                 </td><td>0                 </td><td>0                 </td><td>72                </td></tr>\n",
       "<tr><td>missing</td><td>0          </td><td>0                </td><td>0                 </td><td>0                 </td><td>0                 </td><td>0                 </td></tr>\n",
       "<tr><td>0      </td><td>yp49_A01   </td><td>1.0              </td><td>2.0               </td><td>5.0               </td><td>1.0               </td><td>0.972700677969159 </td></tr>\n",
       "<tr><td>1      </td><td>yp49_C01   </td><td>1.0              </td><td>2.0               </td><td>5.0               </td><td>9.0               </td><td>0.5366584806139938</td></tr>\n",
       "<tr><td>2      </td><td>yp49_D01   </td><td>2.0              </td><td>4.0               </td><td>7.0               </td><td>3.0               </td><td>0.1758959746019849</td></tr>\n",
       "<tr><td>3      </td><td>yp49_E01   </td><td>2.0              </td><td>1.0               </td><td>5.0               </td><td>7.0               </td><td>0.3452009177161614</td></tr>\n",
       "<tr><td>4      </td><td>yp49_F01   </td><td>3.0              </td><td>3.0               </td><td>6.0               </td><td>1.0               </td><td>26.416323688167807</td></tr>\n",
       "<tr><td>5      </td><td>yp49_G01   </td><td>3.0              </td><td>2.0               </td><td>7.0               </td><td>5.0               </td><td>3.98982363042728  </td></tr>\n",
       "<tr><td>6      </td><td>yp49_H01   </td><td>3.0              </td><td>3.0               </td><td>8.0               </td><td>9.0               </td><td>0.4600673452789673</td></tr>\n",
       "<tr><td>7      </td><td>yp49_A02   </td><td>1.0              </td><td>3.0               </td><td>8.0               </td><td>1.0               </td><td>0.2694007038642038</td></tr>\n",
       "<tr><td>8      </td><td>yp49_B02   </td><td>1.0              </td><td>2.0               </td><td>8.0               </td><td>5.0               </td><td>0.2559076874481825</td></tr>\n",
       "<tr><td>9      </td><td>yp49_C02   </td><td>1.0              </td><td>3.0               </td><td>8.0               </td><td>9.0               </td><td>0.1699741868521594</td></tr>\n",
       "</tbody>\n",
       "</table>"
      ]
     },
     "metadata": {},
     "output_type": "display_data"
    }
   ],
   "source": [
    "df_test = h2o.H2OFrame(pd.concat([new_input_for_ml], axis='columns'))\n",
    "df_test.describe()"
   ]
  },
  {
   "cell_type": "code",
   "execution_count": 32,
   "id": "0ad93950-4294-4367-8f6c-073ae239f047",
   "metadata": {},
   "outputs": [],
   "source": [
    "# Since the data is categorical we need to make it from numerical to categorical \n",
    "df_test['0']= df_test['0'].asfactor()\n",
    "df_test['1']= df_test['1'].asfactor()\n",
    "df_test['2'] = df_test['2'].asfactor()\n",
    "df_test['3'] = df_test['3'].asfactor()"
   ]
  },
  {
   "cell_type": "code",
   "execution_count": 33,
   "id": "34215f37-7add-4edc-a3a3-e3ee55faeb0a",
   "metadata": {},
   "outputs": [
    {
     "name": "stdout",
     "output_type": "stream",
     "text": [
      "Rows:296\n",
      "Cols:6\n",
      "\n",
      "\n"
     ]
    },
    {
     "data": {
      "text/html": [
       "<table>\n",
       "<thead>\n",
       "<tr><th>       </th><th>Line_name  </th><th>0   </th><th>1   </th><th>2   </th><th>3   </th><th>Amt_norm          </th></tr>\n",
       "</thead>\n",
       "<tbody>\n",
       "<tr><td>type   </td><td>string     </td><td>enum</td><td>enum</td><td>enum</td><td>enum</td><td>real              </td></tr>\n",
       "<tr><td>mins   </td><td>NaN        </td><td>    </td><td>    </td><td>    </td><td>    </td><td>0.0               </td></tr>\n",
       "<tr><td>mean   </td><td>NaN        </td><td>    </td><td>    </td><td>    </td><td>    </td><td>29.09914171700607 </td></tr>\n",
       "<tr><td>maxs   </td><td>NaN        </td><td>    </td><td>    </td><td>    </td><td>    </td><td>277.3078163064027 </td></tr>\n",
       "<tr><td>sigma  </td><td>NaN        </td><td>    </td><td>    </td><td>    </td><td>    </td><td>46.17102137141943 </td></tr>\n",
       "<tr><td>zeros  </td><td>0          </td><td>    </td><td>    </td><td>    </td><td>    </td><td>72                </td></tr>\n",
       "<tr><td>missing</td><td>0          </td><td>0   </td><td>0   </td><td>0   </td><td>0   </td><td>0                 </td></tr>\n",
       "<tr><td>0      </td><td>yp49_A01   </td><td>1   </td><td>2   </td><td>5   </td><td>1   </td><td>0.972700677969159 </td></tr>\n",
       "<tr><td>1      </td><td>yp49_C01   </td><td>1   </td><td>2   </td><td>5   </td><td>9   </td><td>0.5366584806139938</td></tr>\n",
       "<tr><td>2      </td><td>yp49_D01   </td><td>2   </td><td>4   </td><td>7   </td><td>3   </td><td>0.1758959746019849</td></tr>\n",
       "<tr><td>3      </td><td>yp49_E01   </td><td>2   </td><td>1   </td><td>5   </td><td>7   </td><td>0.3452009177161614</td></tr>\n",
       "<tr><td>4      </td><td>yp49_F01   </td><td>3   </td><td>3   </td><td>6   </td><td>1   </td><td>26.416323688167807</td></tr>\n",
       "<tr><td>5      </td><td>yp49_G01   </td><td>3   </td><td>2   </td><td>7   </td><td>5   </td><td>3.98982363042728  </td></tr>\n",
       "<tr><td>6      </td><td>yp49_H01   </td><td>3   </td><td>3   </td><td>8   </td><td>9   </td><td>0.4600673452789673</td></tr>\n",
       "<tr><td>7      </td><td>yp49_A02   </td><td>1   </td><td>3   </td><td>8   </td><td>1   </td><td>0.2694007038642038</td></tr>\n",
       "<tr><td>8      </td><td>yp49_B02   </td><td>1   </td><td>2   </td><td>8   </td><td>5   </td><td>0.2559076874481825</td></tr>\n",
       "<tr><td>9      </td><td>yp49_C02   </td><td>1   </td><td>3   </td><td>8   </td><td>9   </td><td>0.1699741868521594</td></tr>\n",
       "</tbody>\n",
       "</table>"
      ]
     },
     "metadata": {},
     "output_type": "display_data"
    }
   ],
   "source": [
    "df_test.describe()"
   ]
  },
  {
   "cell_type": "markdown",
   "id": "0f465789-d841-48b2-8b77-3613dbbf790b",
   "metadata": {},
   "source": [
    "Set some arguments for the autoML. \n",
    "\n",
    "\n",
    "Important here is that we dont split the dataset but rather keep the cross-validation validate a model internally, i.e., estimate the model performance without having to sacrifice a validation split. See: https://docs.h2o.ai/h2o/latest-stable/h2o-docs/cross-validation.html\n"
   ]
  },
  {
   "cell_type": "markdown",
   "id": "0f9aab5b-6771-4f87-b5a0-052267995949",
   "metadata": {
    "tags": []
   },
   "source": [
    "## 2 RUN automl"
   ]
  },
  {
   "cell_type": "markdown",
   "id": "885aa7e3-8f8a-40b0-bd4a-8b3d029a51ff",
   "metadata": {},
   "source": [
    "Here we are defining the autoML object and after we can train it"
   ]
  },
  {
   "cell_type": "code",
   "execution_count": 34,
   "id": "041d5d48-d6b8-4412-98d7-a943e0d7bcd0",
   "metadata": {},
   "outputs": [],
   "source": [
    "# Select the columns we want to train on\n",
    "feature_cols = ['0', '1', '2', '3']\n",
    "\n",
    "# Initialize H2O autoML class\n",
    "AutoML = H2OAutoML(\n",
    "    max_runtime_secs=0,  # 1 hour =int(3600 * 1) , if unlimited time is wanted then set this to zero = 0\n",
    "    max_models=None,  # None =  no limit\n",
    "    nfolds=10,         # number of folds for k-fold cross-validation (nfolds=0 disables cross-validation)\n",
    "    seed=1,            # Reproducibility\n",
    "    #exclude_algos = [\"StackedEnsemble\"],\n",
    "    sort_metric = \"MAE\",\n",
    "    keep_cross_validation_predictions=True \n",
    ")"
   ]
  },
  {
   "cell_type": "markdown",
   "id": "0a672bad-14cd-47a8-af55-d13c63a400d9",
   "metadata": {},
   "source": [
    "Train a model based on the target and the df. \n",
    "\n",
    "\n",
    "It has been Commented out and saved as showed below"
   ]
  },
  {
   "cell_type": "code",
   "execution_count": null,
   "id": "cf8192b5-3c37-4a68-a6dd-53bcb3b8e420",
   "metadata": {},
   "outputs": [
    {
     "name": "stdout",
     "output_type": "stream",
     "text": [
      "AutoML progress: |██████████████████████████████████████████████████████████████"
     ]
    }
   ],
   "source": [
    "%%time\n",
    "\n",
    "AutoML.train(\n",
    "     x=feature_cols,\n",
    "     y='Amt_norm',\n",
    "     training_frame=df_test,\n",
    " )\n"
   ]
  },
  {
   "cell_type": "code",
   "execution_count": null,
   "id": "3e166d96-fca8-4f46-a07d-37f89894ce01",
   "metadata": {},
   "outputs": [],
   "source": [
    "print('DOOOOOOONE')"
   ]
  },
  {
   "cell_type": "markdown",
   "id": "70e6c473-62bd-47ef-8fc8-a0641410a254",
   "metadata": {},
   "source": [
    "## 3. Processing model\n"
   ]
  },
  {
   "cell_type": "code",
   "execution_count": null,
   "id": "4818d984-0a2e-42f0-9626-367f4868b592",
   "metadata": {},
   "outputs": [],
   "source": [
    "# saving the models\n",
    "leaderboard = AutoML.leaderboard\n",
    "model_ids = list(leaderboard['model_id'].as_data_frame().iloc[:,0])\n",
    "\n",
    "\n",
    "# get rid of models with stacked ensemble - they; the tree-based models, the tree ensemble (GBM or Random Forest) ends up memorizing the training data.\n",
    "#The model has a poor time generalizing on validation data\n",
    "for model in model_ids:\n",
    "    if 'StackedEnsemble' in model:\n",
    "        model_ids.remove(model)\n",
    "\n",
    "out_path = 'ConStrain_on_google_colab/Data/processed/ML_second_lib_leaderbords'\n",
    "\n",
    "for m_id in model_ids:\n",
    "     mdl = h2o.get_model(m_id)\n",
    "     h2o.save_model(model=mdl, path=out_path, force=True)\n"
   ]
  },
  {
   "cell_type": "code",
   "execution_count": null,
   "id": "e47b8aab-52ef-4d55-a189-5236a7c64c2e",
   "metadata": {},
   "outputs": [],
   "source": [
    "len(model_ids)"
   ]
  },
  {
   "cell_type": "markdown",
   "id": "ea833fc0-8364-4a5e-8d16-f2c1570c922b",
   "metadata": {},
   "source": [
    "Now we want to extract the best models that are not StackedEnsemble"
   ]
  },
  {
   "cell_type": "code",
   "execution_count": null,
   "id": "b4a0cda6-c9cc-4c7b-93c4-90e9b5210d55",
   "metadata": {},
   "outputs": [],
   "source": [
    "df_from_h2o_object = leaderboard.as_data_frame(use_pandas=True, header=True)\n",
    "df_from_h2o_object"
   ]
  },
  {
   "cell_type": "code",
   "execution_count": null,
   "id": "d25f1721-0f68-48c6-b61c-23002186a2bc",
   "metadata": {},
   "outputs": [],
   "source": [
    "index_to_delete = []\n",
    "for index, row in df_from_h2o_object.iterrows():\n",
    "    if 'StackedEnsemble' in row['model_id']:\n",
    "        index_to_delete.append(index)\n",
    "\n",
    "data_wo_ensemble = df_from_h2o_object.drop(labels=index_to_delete, axis=0)\n",
    "final_df = h2o.H2OFrame(data_wo_ensemble)\n",
    "final_df"
   ]
  },
  {
   "cell_type": "markdown",
   "id": "6e71894b-b1da-44f0-9a9f-c64999ca69a2",
   "metadata": {
    "tags": []
   },
   "source": [
    "### 3.1 Saving the best model"
   ]
  },
  {
   "cell_type": "code",
   "execution_count": null,
   "id": "c3dc1b68-dfd3-442d-ab60-957c9986ee95",
   "metadata": {
    "tags": []
   },
   "outputs": [],
   "source": [
    "best_model = AutoML.get_best_model()\n",
    "best_model"
   ]
  },
  {
   "cell_type": "code",
   "execution_count": null,
   "id": "16fd480d-f93d-42c0-ac3c-3131a4bb81e1",
   "metadata": {},
   "outputs": [],
   "source": [
    "model_path = h2o.save_model(model=best_model, path=\"ConStrain_on_google_colab/Data/processed/ML_models_second_lib\", force=True)"
   ]
  },
  {
   "cell_type": "markdown",
   "id": "d141f049-6c97-4460-967d-291541b51c32",
   "metadata": {},
   "source": [
    "### 3.2 Exporting the leaderboard"
   ]
  },
  {
   "cell_type": "code",
   "execution_count": null,
   "id": "00e84ce2-ac5b-47c8-82b8-9630b1c3148f",
   "metadata": {},
   "outputs": [],
   "source": [
    "# saving the leaderboard\n",
    "import os\n",
    "h2o.export_file(leaderboard, os.path.join(out_path, 'aml_leaderboard.h2o'), force=True)"
   ]
  },
  {
   "cell_type": "markdown",
   "id": "1c569db9-26c7-465e-a53a-5c3d786c7826",
   "metadata": {},
   "source": [
    "### 3.3 Importing the leaderboard"
   ]
  },
  {
   "cell_type": "code",
   "execution_count": null,
   "id": "5b750e97-09a0-4e23-a5a5-631460aeb3d5",
   "metadata": {},
   "outputs": [],
   "source": [
    "models_path = 'ConStrain_on_google_colab/Data/processed/ML_second_lib_leaderbords'\n",
    "\n",
    "lb = h2o.import_file(path=os.path.join(models_path, \"aml_leaderboard.h2o\"))\n",
    "lb"
   ]
  },
  {
   "cell_type": "markdown",
   "id": "43196ce7-c591-452b-b7ba-6e0386d858da",
   "metadata": {},
   "source": [
    "## 4. Importing the best model"
   ]
  },
  {
   "cell_type": "code",
   "execution_count": null,
   "id": "cdfa823a-694d-4def-832e-236e9545953e",
   "metadata": {},
   "outputs": [],
   "source": [
    "best_model = h2o.load_model(\"ConStrain_on_google_colab/Data/processed/ML_models_second_lib/\"+lb[0,0])\n",
    "my_local_model = h2o.download_model(best_model, path=\"ConStrain_on_google_colab/Data/processed/ML_models\")\n",
    "uploaded_model = h2o.upload_model(my_local_model)\n"
   ]
  },
  {
   "cell_type": "markdown",
   "id": "89633826-98a7-4362-82a5-f95a3359ee44",
   "metadata": {},
   "source": [
    "### 4.1 Investigate model"
   ]
  },
  {
   "cell_type": "code",
   "execution_count": null,
   "id": "ad0a8499-d312-4486-8245-4a0fd10a422d",
   "metadata": {},
   "outputs": [],
   "source": [
    "best_model.cross_validation_holdout_predictions()"
   ]
  },
  {
   "cell_type": "markdown",
   "id": "41c7ec54-3eed-4cf8-9519-b5b87c3e1ab5",
   "metadata": {},
   "source": [
    "Get the cross validation predictions"
   ]
  },
  {
   "cell_type": "code",
   "execution_count": null,
   "id": "c0399209-23e2-475a-a7cf-a06d08e14e9b",
   "metadata": {},
   "outputs": [],
   "source": [
    "# This is where list of cv preds are stored (one element per fold):\n",
    "cross_validation_holdout_predictions = best_model.cross_validation_holdout_predictions()\n",
    "print(cross_validation_holdout_predictions)\n",
    "print(len(cross_validation_holdout_predictions))"
   ]
  },
  {
   "cell_type": "code",
   "execution_count": null,
   "id": "95ce9fa7-b2fa-489a-81c0-faec1a7598fa",
   "metadata": {},
   "outputs": [],
   "source": [
    "cross_validation_holdout_predictions.frame_id\n"
   ]
  },
  {
   "cell_type": "code",
   "execution_count": null,
   "id": "1167d60f-771b-4c99-b949-dd36e666c6a0",
   "metadata": {},
   "outputs": [],
   "source": [
    "cv_fram = cross_validation_holdout_predictions.as_data_frame()\n",
    "cv_fram.tail(50)"
   ]
  },
  {
   "cell_type": "code",
   "execution_count": null,
   "id": "aecd6dfa-2bf4-4446-b66b-9ebc97dc9b68",
   "metadata": {},
   "outputs": [],
   "source": [
    "# However you most likely want a single-column frame including all cv preds\n",
    "cross_validation_predictions = best_model.cross_validation_predictions()\n",
    "print(len(cross_validation_predictions))"
   ]
  },
  {
   "cell_type": "code",
   "execution_count": null,
   "id": "166078d3-5610-4379-97a2-adef8830edc2",
   "metadata": {},
   "outputs": [],
   "source": [
    "as_data_frame_df_test = df_test.as_data_frame()\n",
    "as_data_frame_CV_predictions = cross_validation_holdout_predictions.as_data_frame()"
   ]
  },
  {
   "cell_type": "code",
   "execution_count": null,
   "id": "a022e19f-bc0d-4226-9859-e905a2b6c51f",
   "metadata": {},
   "outputs": [],
   "source": [
    "df3 = pd.merge(as_data_frame_df_test, as_data_frame_CV_predictions, left_index=True, right_index=True)\n",
    "df3 = df3.sort_values(by= 'Amt_norm', ascending= False)\n",
    "df3 = df3.reset_index()\n",
    "df3['ranked_pct'] = df3['Amt_norm'].rank(pct= True)\n",
    "df3['ranked_pct_predicted'] = df3['predict'].rank(pct= True)\n",
    "df3"
   ]
  },
  {
   "cell_type": "code",
   "execution_count": null,
   "id": "fcadb62d-89fc-4004-8569-885a6f624fad",
   "metadata": {},
   "outputs": [],
   "source": [
    "len(df3)"
   ]
  },
  {
   "cell_type": "code",
   "execution_count": null,
   "id": "e86eb1d1-21e5-4df2-93f6-850605f189af",
   "metadata": {},
   "outputs": [],
   "source": [
    "df3['color'] = \"black\" "
   ]
  },
  {
   "cell_type": "code",
   "execution_count": null,
   "id": "024cc910-f5ec-4805-8593-8af8a8ff0354",
   "metadata": {},
   "outputs": [],
   "source": [
    "sns.set(rc = {'figure.figsize':(30,10) })\n",
    "\n",
    "# initialize\n",
    "ds1 = df3[['Line_name', 'Amt_norm']]\n",
    "ds1.columns = ['Line_name', 'strict']\n",
    "\n",
    "ds2 = df3[['Line_name', 'predict']]\n",
    "ds2.columns = ['Line_name', 'strict']\n",
    "\n",
    "\n",
    "ds2['category'] = 'Predicted'\n",
    "ds1['category'] = 'Strictosidine'\n",
    "dss = pd.concat([ds1, ds2])\n",
    "\n",
    "ax = sns.barplot(x='Line_name', y='strict', hue='category', data=dss)\n",
    "\n",
    "ax = plt.gca()\n",
    "ax.set_xlabel('Individual strains', size = 20, fontname='Helvetica')\n",
    "ax.set_ylabel('Normalized trictosidine production', size = 20, fontname='Helvetica')\n",
    "ax.set_title('Prediction and production of strictosidine of the sampled library', size = 30, fontname='Helvetica')\n",
    "\n",
    "# white background\n",
    "ax.set_facecolor(\"white\")\n",
    "\n",
    "plt.xscale('linear') \n",
    "\n",
    "# normalized line\n",
    "ax.axhline(100)\n",
    "\n",
    "\n",
    "#ax.add_line\n",
    "name = 'Strictosidine and predicted values for all genotypes samples (dbtl1+2)'\n",
    "plt.savefig('ConStrain_on_google_colab/Data/Plots_for_publication/ML_DBTL2/'+name+'.svg',format = 'SVG',  dpi = 120)\n",
    "\n",
    "\n",
    "None"
   ]
  },
  {
   "cell_type": "code",
   "execution_count": null,
   "id": "dcea1c8f-e3be-4ed5-b5c4-5e837a82e265",
   "metadata": {},
   "outputs": [],
   "source": [
    "import seaborn as sns\n",
    "from scipy.stats import pearsonr\n",
    "import scipy as sp\n",
    "from scipy import stats\n",
    "\n",
    "#set seaborn plotting aesthetics as default\n",
    "sns.set_context(\"paper\", font_scale=2.0, rc={\"lines.linewidth\": 1.5})\n",
    "\n",
    "g = sns.lmplot(data=df3, x=\"Amt_norm\", y=\"predict\" ,hue = 'color', palette=['#000000'], fit_reg = True, height=10, line_kws={'color': 'black'}, ci=False, legend=False)\n",
    "r, p = stats.pearsonr(df3['Amt_norm'], df3['predict'])\n",
    "\n",
    "\n",
    "ax = plt.gca()\n",
    "# Add labels and titel\n",
    "ax.set_title(f\"CV-holdout predictions vs. measured - DBTL2\", size = 20, fontname='Helvetica')\n",
    "ax.set_ylabel('CV-holdout predictions of normalized strictosidine', size = 20, fontname='Helvetica')\n",
    "ax.set_xlabel('Measured normalized strictosidine', size = 20, fontname='Helvetica')\n",
    "ax.set_facecolor(\"white\")\n",
    "plt.suptitle(f\"R-squared = {r:.3f} \\n  P-value = {p:.3E}\", y=0.8 , x= 0.3, size = 15, fontname='Helvetica', fontweight='bold')\n",
    "# SIze matters\n",
    "fig = mpl.pyplot.gcf()\n",
    "fig.set_size_inches(8, 8)\n",
    "\n",
    "name = 'ML2_predicted_vs_amtnorm_corr'\n",
    "plt.savefig('ConStrain_on_google_colab/Data/Plots_for_publication/ML_DBTL2/'+name+'.pdf',format = 'pdf',  dpi = 300)\n",
    "\n",
    "\n",
    "None"
   ]
  },
  {
   "cell_type": "code",
   "execution_count": null,
   "id": "61d3c660-6ac6-4c80-b478-17d946b315c6",
   "metadata": {},
   "outputs": [],
   "source": [
    "#set seaborn plotting aesthetics as default\n",
    "sns.set_context(\"paper\", font_scale=2.0, rc={\"lines.linewidth\": 1.5})\n",
    "\n",
    "g = sns.lmplot(data=df3, x=\"ranked_pct\", y=\"ranked_pct_predicted\" ,hue = 'color', palette=['#000000'], fit_reg = True, height=10, line_kws={'color': 'black'}, ci=False, legend=False)\n",
    "r, p = stats.pearsonr(df3['ranked_pct'], df3['ranked_pct_predicted'])\n",
    "\n",
    "\n",
    "ax = plt.gca()\n",
    "# Add labels and titel\n",
    "ax.set_title(f\"CV-holdout predictions pct vs. measured ranked pct - DBTL2\", size = 20, fontname='Helvetica')\n",
    "ax.set_ylabel('CV-holdout predictions of normalized strictosidine', size = 20, fontname='Helvetica')\n",
    "ax.set_xlabel('Measure normalized strictosidine', size = 20, fontname='Helvetica')\n",
    "ax.set_facecolor(\"white\")\n",
    "plt.suptitle(f\"R-squared = {r:.3f} \\n  P-value = {p:.3E}\", y=0.8 , x= 0.3, size = 15, fontname='Helvetica', fontweight='bold')\n",
    "# SIze matters\n",
    "fig = mpl.pyplot.gcf()\n",
    "fig.set_size_inches(8, 8)\n",
    "\n",
    "name = 'ML2_predicted_vs_amtnorm_corr_ranked_pct'\n",
    "plt.savefig('ConStrain_on_google_colab/Data/Plots_for_publication/ML_DBTL2/'+name+'.pdf',format = 'pdf',  dpi = 300)\n",
    "\n",
    "\n",
    "None"
   ]
  },
  {
   "cell_type": "code",
   "execution_count": null,
   "id": "746b46e1-6393-400a-be5a-4d5dc164a658",
   "metadata": {},
   "outputs": [],
   "source": [
    "\n",
    "learning_curve = uploaded_model.learning_curve_plot()\n",
    "\n",
    "name = '1st_analytics_learning_curve'\n",
    "plt.savefig('ConStrain_on_google_colab/Data/Plots_for_publication/ML_DBTL2/'+name+'.pdf',format = 'PDF',  dpi = 120)\n",
    "\n",
    "\n",
    "#plt.title('Number of records by State')\n",
    "None"
   ]
  },
  {
   "cell_type": "code",
   "execution_count": null,
   "id": "1e4908e0-f562-4d33-acec-c9d2348b2f10",
   "metadata": {},
   "outputs": [],
   "source": [
    "as_data_frame_df_test"
   ]
  },
  {
   "cell_type": "markdown",
   "id": "8b054bd7-18f3-4dfd-a72e-473b37590fda",
   "metadata": {
    "tags": []
   },
   "source": [
    "### 4.3 Find predicted genotypes"
   ]
  },
  {
   "cell_type": "code",
   "execution_count": null,
   "id": "f76f6f98-3ebe-4901-b424-81badc7f2c9e",
   "metadata": {},
   "outputs": [],
   "source": [
    "import numpy as np"
   ]
  },
  {
   "cell_type": "code",
   "execution_count": null,
   "id": "38713aac-8fb7-40c6-95cc-0523ce0de013",
   "metadata": {},
   "outputs": [],
   "source": [
    "all_genotypes = pd.read_csv('ConStrain_on_google_colab/Data/processed/remaining_genotypes_after_first_iteration.csv',)\n",
    "all_genotypes =all_genotypes[['0','1','2','3']]\n",
    "all_genotypes"
   ]
  },
  {
   "cell_type": "code",
   "execution_count": null,
   "id": "e77987a4-af39-4001-891f-8888b0c56b27",
   "metadata": {},
   "outputs": [],
   "source": [
    "all_genotypes_df = h2o.H2OFrame(pd.concat([all_genotypes], axis='columns'))\n",
    "all_genotypes_df"
   ]
  },
  {
   "cell_type": "code",
   "execution_count": null,
   "id": "01931acf-3d65-411d-908a-5fd5f7bfc16f",
   "metadata": {},
   "outputs": [],
   "source": [
    "#merge_ = pd.merge(new_input_for_ml,all_genotypes, on= ['0','1','2','3'])\n",
    "#merge_\n",
    "new_input_for_ml = pd.read_csv('ConStrain_on_google_colab/Data/processed/input_for_ml_2nd_iteration.csv',  index_col=False)\n",
    "\n",
    "input_fixed = new_input_for_ml[['0','1','2','3']]\n",
    "input_fixed"
   ]
  },
  {
   "cell_type": "markdown",
   "id": "75591fee-40f8-41b6-bc7e-4bf8b37a2b00",
   "metadata": {},
   "source": [
    "### 4.4 Getting rid of the genotypes we have already tested:"
   ]
  },
  {
   "cell_type": "code",
   "execution_count": null,
   "id": "77a039b2-256b-4550-8001-50cb4ec1651f",
   "metadata": {},
   "outputs": [],
   "source": [
    "df_diff = all_genotypes[~all_genotypes.apply(tuple,1).isin(input_fixed.apply(tuple,1))]\n",
    "#df_diff.to_csv('../data/processed/remaining_genotypes_after_first_iteration.csv')\n",
    "df_diff"
   ]
  },
  {
   "cell_type": "code",
   "execution_count": null,
   "id": "d22e2732-afd8-4d31-9b72-7b0a2b91f095",
   "metadata": {},
   "outputs": [],
   "source": [
    "# make the diff into a df \n",
    "all_genotypes_df = h2o.H2OFrame(pd.concat([df_diff], axis='columns'))\n",
    "all_genotypes_df['0']= all_genotypes_df['0'].asfactor()\n",
    "all_genotypes_df['1']= all_genotypes_df['1'].asfactor()\n",
    "all_genotypes_df['2'] = all_genotypes_df['2'].asfactor()\n",
    "all_genotypes_df['3'] = all_genotypes_df['3'].asfactor()"
   ]
  },
  {
   "cell_type": "code",
   "execution_count": null,
   "id": "94eedd90-1c51-4709-8a61-eedc5e26f25c",
   "metadata": {},
   "outputs": [],
   "source": [
    "predicted = best_model.predict(all_genotypes_df)"
   ]
  },
  {
   "cell_type": "code",
   "execution_count": null,
   "id": "d8a0592a-1304-490f-b1ca-288a1c9206d9",
   "metadata": {},
   "outputs": [],
   "source": [
    "len(predicted)"
   ]
  },
  {
   "cell_type": "code",
   "execution_count": null,
   "id": "a285b824-5f4f-43d2-b908-d33206ec0751",
   "metadata": {},
   "outputs": [],
   "source": [
    "predicted_norm = predicted.as_data_frame()\n",
    "predicted_norm.head()"
   ]
  },
  {
   "cell_type": "code",
   "execution_count": null,
   "id": "cd4f2254-ec52-4bec-a1fb-5c2d6365468f",
   "metadata": {},
   "outputs": [],
   "source": [
    "# making predictions into a list\n",
    "predicted_list = predicted_norm['predict'].values.tolist()\n",
    "\n",
    "# Adding predictions to our dataframe\n",
    "df_diff['predicted_norm_strict'] = predicted_list\n",
    "\n",
    "# Sorting the dataframe\n",
    "predicted_merged_sorted = df_diff.sort_values('predicted_norm_strict', ascending=False)\n",
    "predicted_merged_sorted"
   ]
  },
  {
   "cell_type": "markdown",
   "id": "3f232346-4304-4b4a-8da5-6a02b5a65e7d",
   "metadata": {},
   "source": [
    "If we want the names on the genotypes we can do the following: "
   ]
  },
  {
   "cell_type": "code",
   "execution_count": null,
   "id": "01652730-b210-4902-a8c2-0414baf29b06",
   "metadata": {},
   "outputs": [],
   "source": [
    "g8h_list_of_index = [\"Cacu\", \"Opum\",\"Cro\",\"Vmin\",\"Smus\",\"Rsep\",\"Oeu\",\"Ccal\"]\n",
    "cpr_list_of_index = [\"Cro\", \"Aan\",\"Ara\",\"Clo\",\"Rse\",\"Ahu\",\"Ani\",\"Cac\",\"Oeu\",\"Cpo\"]\n",
    "promoters = [\"CYC1\", \"ENO2\",\"PCK1\",\"RPL15B\", \"CCW12\", \"TPI1\",\"MLS1\",\"URE2\"]\n",
    "\n",
    "g8h_genotype = []\n",
    "cpr_genotype = []\n",
    "\n",
    "pg8h_genotype = []\n",
    "pcpr_genotype = []\n",
    "\n",
    "predicted_list = []\n",
    "# adding index of genotypes to individual rows \n",
    "for index, row in predicted_merged_sorted.iterrows():\n",
    "    g8h_genotype.append(g8h_list_of_index[int(row['0'])-1])\n",
    "    cpr_genotype.append(cpr_list_of_index[int(row['3'])-1])\n",
    "    pg8h_genotype.append(promoters[int(row['1'])-1])\n",
    "    pcpr_genotype.append(promoters[int(row['2'])-1])\n",
    "    predicted_list.append(row['predicted_norm_strict'])\n",
    "    \n",
    "    \n",
    "list_of_lists = [g8h_genotype,pg8h_genotype,pcpr_genotype, cpr_genotype, predicted_list  ]"
   ]
  },
  {
   "cell_type": "markdown",
   "id": "e8f408ea-6195-40fe-9516-52d16d1b871b",
   "metadata": {},
   "source": [
    "Save the data to a csv "
   ]
  },
  {
   "cell_type": "markdown",
   "id": "030e7937-8f9a-48d7-b1dc-1758ba3102b7",
   "metadata": {
    "tags": []
   },
   "source": [
    "## 5. Top 20 predicted producers"
   ]
  },
  {
   "cell_type": "code",
   "execution_count": null,
   "id": "0fc58bd5-73bb-46dd-8d38-bd3e807a9b2d",
   "metadata": {},
   "outputs": [],
   "source": [
    "df_with_genotypes = pd.DataFrame(list_of_lists )\n",
    "df_with_genotypes = df_with_genotypes.T\n",
    "df_with_genotypes.columns = ['G8H', 'pG8H', 'pCPR', 'CPR', 'Predicted_strict_production']\n",
    "df_with_genotypes.head(20)"
   ]
  },
  {
   "cell_type": "code",
   "execution_count": null,
   "id": "0df24597-e58f-4588-acfc-82910e29b640",
   "metadata": {},
   "outputs": [],
   "source": [
    "df_with_genotypes.to_csv('ConStrain_on_google_colab/Data/AutoML/top20_ML_predicted_after_second_DBTL_2nd_analytics_1.csv')"
   ]
  },
  {
   "cell_type": "code",
   "execution_count": null,
   "id": "76834700-2cbd-4f26-a3c9-bd559ac0a790",
   "metadata": {},
   "outputs": [],
   "source": [
    "df_with_genotypes = pd.read_csv('ConStrain_on_google_colab/Data/AutoML/top20_ML_predicted_after_second_DBTL_2nd_analytics1.csv', index_col=False)\n",
    "df_with_genotypes"
   ]
  },
  {
   "cell_type": "code",
   "execution_count": null,
   "id": "79e5fa65-e518-43a1-82ce-b0760a72ccc7",
   "metadata": {},
   "outputs": [],
   "source": [
    "from constrain.plotting.plotting import bar_plot\n",
    "bar_plot"
   ]
  },
  {
   "cell_type": "code",
   "execution_count": null,
   "id": "560bd8cf-c5f5-48c0-9315-49c31785b614",
   "metadata": {},
   "outputs": [],
   "source": [
    "x = list(df_with_genotypes.index)\n",
    "y = list(df_with_genotypes['Predicted_strict_production'])\n",
    "\n",
    "bar_plot(x, y)"
   ]
  },
  {
   "cell_type": "code",
   "execution_count": null,
   "id": "b2f3431b-0a13-4103-b8a7-d1117be49517",
   "metadata": {},
   "outputs": [],
   "source": []
  },
  {
   "cell_type": "code",
   "execution_count": null,
   "id": "c9c4d0d2-4fda-43dd-af20-a7e864653f71",
   "metadata": {},
   "outputs": [],
   "source": [
    "df_with_genotypes.to_csv('ConStrain_on_google_colab/Data/AutoML/top20_ML_predicted_after_second_DBTL_2nd_analytics.csv', index=False)"
   ]
  },
  {
   "cell_type": "code",
   "execution_count": null,
   "id": "55337ee2-412c-4fc7-81e4-0df557fed7b8",
   "metadata": {},
   "outputs": [],
   "source": [
    "df_with_genotypes = pd.read_csv('ConStrain_on_google_colab/Data/AutoML/top20_ML_predicted_after_second_DBTL_2nd_analytics.csv')"
   ]
  },
  {
   "cell_type": "code",
   "execution_count": null,
   "id": "5e66cb6f-f1f4-4389-a38b-0d5164de3435",
   "metadata": {},
   "outputs": [],
   "source": [
    "df_with_genotypes['names'] = df_with_genotypes['G8H']+'-' +df_with_genotypes['pG8H']+ '_'+ df_with_genotypes['pCPR']+'_'+df_with_genotypes['CPR']"
   ]
  },
  {
   "cell_type": "code",
   "execution_count": null,
   "id": "bbe648a6-98cb-4696-afb7-4125999e6e16",
   "metadata": {},
   "outputs": [],
   "source": [
    "df_with_genotypes"
   ]
  },
  {
   "cell_type": "code",
   "execution_count": null,
   "id": "f5041700-637b-4715-bc8a-30eb2dc4f331",
   "metadata": {},
   "outputs": [],
   "source": [
    "x_axis = list(df_with_genotypes['names'])[:20][::-1]\n",
    "y_axis = list(df_with_genotypes['Predicted_strict_production'])[:20][::-1]"
   ]
  },
  {
   "cell_type": "code",
   "execution_count": null,
   "id": "c823eea2-0e52-4036-86a7-d5ac568ab6ab",
   "metadata": {},
   "outputs": [],
   "source": [
    "from constrain.plotting.plotting import horisontal_bar_plot"
   ]
  },
  {
   "cell_type": "code",
   "execution_count": null,
   "id": "db869889-528f-4d9d-8d21-e1fc5de2d0fc",
   "metadata": {},
   "outputs": [],
   "source": [
    "horisontal_bar_plot(x_axis,y_axis)"
   ]
  },
  {
   "cell_type": "markdown",
   "id": "224a42ec-e143-4810-b516-f87c432274d9",
   "metadata": {
    "tags": []
   },
   "source": [
    "## 8. Learning curve on data"
   ]
  },
  {
   "cell_type": "code",
   "execution_count": null,
   "id": "4305e866-f83a-478a-a669-e4aa454a6ad4",
   "metadata": {
    "tags": []
   },
   "outputs": [],
   "source": [
    "from constrain.machine_learning.auto_ml import autoML_on_partitioned_data"
   ]
  },
  {
   "cell_type": "code",
   "execution_count": null,
   "id": "9b681d93-1612-4a2e-aa54-8ed4d199b0ec",
   "metadata": {},
   "outputs": [],
   "source": [
    "%%capture\n",
    "feature_cols = ['0', '1', '2', '3']\n",
    "training_column = 'Amt_norm'\n",
    "\n",
    "\n",
    "for i in range(0,4): \n",
    "    autoML_on_partitioned_data(feature_cols, training_column,new_input_for_ml,training_time=10, partitions = 5,  path = 'ConStrain_on_google_colab/Data/')"
   ]
  },
  {
   "cell_type": "code",
   "execution_count": null,
   "id": "95817f67-77b1-410d-94ee-cc006f783ef6",
   "metadata": {},
   "outputs": [],
   "source": [
    "import os\n",
    "\n",
    "# folder path\n",
    "dir_path = 'ConStrain_on_google_colab/Data/'\n",
    "\n",
    "# list file and directories\n",
    "res = os.listdir(dir_path)\n",
    "res"
   ]
  },
  {
   "cell_type": "code",
   "execution_count": null,
   "id": "15838a34-fdee-42e2-8de7-e47cd4c877d7",
   "metadata": {},
   "outputs": [],
   "source": [
    "lst_of_pd_dataframes = []\n",
    "for ml_partitioned in res:\n",
    "    if ml_partitioned.endswith('.csv'):\n",
    "        lst_of_pd_dataframes.append(pd.read_csv(dir_path+ml_partitioned))"
   ]
  },
  {
   "cell_type": "markdown",
   "id": "8ada5bc9-b0ed-44d6-9c79-6ed767556051",
   "metadata": {},
   "source": [
    "Lets retrieve the data "
   ]
  },
  {
   "cell_type": "code",
   "execution_count": null,
   "id": "bf7e9f9c-4b37-42dc-bce0-ef6ee9fe2e2a",
   "metadata": {},
   "outputs": [],
   "source": [
    "dfs = [df.set_index('Unnamed: 0') for df in lst_of_pd_dataframes]\n",
    "concated = pd.concat(dfs, axis=1)\n",
    "concated"
   ]
  },
  {
   "cell_type": "code",
   "execution_count": null,
   "id": "ae698473-4af7-4c8c-a1e4-da3d26cdd57b",
   "metadata": {},
   "outputs": [],
   "source": [
    "# test results\n",
    "test_results = concated[['0']]\n",
    "test_results['mean'] = test_results.mean(axis=1)\n",
    "test_results['std'] = test_results.std(axis=1)\n",
    "test_results"
   ]
  },
  {
   "cell_type": "code",
   "execution_count": null,
   "id": "384f0024-1884-420d-801f-30507e04489c",
   "metadata": {},
   "outputs": [],
   "source": [
    "# Cross-validated mean MAE\n",
    "cross_validated_results = concated[['CV_mean_MAE']]\n",
    "cross_validated_results['mean'] = cross_validated_results.mean(axis=1)\n",
    "cross_validated_results"
   ]
  },
  {
   "cell_type": "code",
   "execution_count": null,
   "id": "b291011c-973c-42ae-b4a0-d0102b78c453",
   "metadata": {},
   "outputs": [],
   "source": [
    "# Cross-validated mean SD\n",
    "cross_validated_results_sd = concated[['CV_SD_MAE']]\n",
    "cross_validated_results_sd['mean'] = cross_validated_results_sd.mean(axis=1)\n",
    "cross_validated_results_sd"
   ]
  },
  {
   "cell_type": "code",
   "execution_count": null,
   "id": "ccd8e9e5-8bbd-467d-b70b-fd95a496120c",
   "metadata": {},
   "outputs": [],
   "source": [
    "from constrain.plotting.plotting import plot_ml_learning_curve"
   ]
  },
  {
   "cell_type": "code",
   "execution_count": null,
   "id": "ef7b3e3b-4486-4b1a-9d80-c047afdce4da",
   "metadata": {},
   "outputs": [],
   "source": [
    "# CV\n",
    "x = list(cross_validated_results.index)\n",
    "y = list(cross_validated_results['mean'])\n",
    "sd =  np.array(list(cross_validated_results_sd['mean']))\n",
    "\n",
    "# model_performance\n",
    "y1 = list(test_results['mean'])\n",
    "sd1 = np.array(list(test_results['std']))\n",
    "\n",
    "\n",
    "plot = plot_ml_learning_curve(x, y1, y,sd1,  sd, save_pdf = True , path = 'ConStrain_on_google_colab/Data/Plots_for_publication/11_2_LEARN_Data_analysis/Learning_curve_on_partitioned_data_DBTL2')"
   ]
  },
  {
   "cell_type": "code",
   "execution_count": null,
   "id": "28ad5a9b-d785-4f18-b5db-4a4f361ce47c",
   "metadata": {},
   "outputs": [],
   "source": []
  }
 ],
 "metadata": {
  "kernelspec": {
   "display_name": "Python 3 (ipykernel)",
   "language": "python",
   "name": "python3"
  },
  "language_info": {
   "codemirror_mode": {
    "name": "ipython",
    "version": 3
   },
   "file_extension": ".py",
   "mimetype": "text/x-python",
   "name": "python",
   "nbconvert_exporter": "python",
   "pygments_lexer": "ipython3",
   "version": "3.8.13"
  }
 },
 "nbformat": 4,
 "nbformat_minor": 5
}
