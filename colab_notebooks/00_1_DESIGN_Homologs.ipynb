{
 "cells": [
  {
   "cell_type": "markdown",
   "id": "5ce6139f-e1f5-4ff9-8a62-8f0ddf7a63a7",
   "metadata": {
    "id": "5ce6139f-e1f5-4ff9-8a62-8f0ddf7a63a7",
    "tags": []
   },
   "source": [
    "# 00_1_DESIGN_Homologs"
   ]
  },
  {
   "cell_type": "markdown",
   "id": "1e01cc07",
   "metadata": {
    "colab_type": "text",
    "id": "view-in-github"
   },
   "source": [
    "<a target=\"_blank\" href=\"https://colab.research.google.com/github/hiyama341/ConStrain/blob/main/colab_notebooks/00_1_DESIGN_Homologs.ipynb\">\n",
    "  <img src=\"https://colab.research.google.com/assets/colab-badge.svg\" alt=\"Open In Colab\"/>\n",
    "</a>"
   ]
  },
  {
   "cell_type": "code",
   "execution_count": 1,
   "id": "c02a6fca-9f19-4c12-9999-f137952fcf79",
   "metadata": {},
   "outputs": [],
   "source": [
    "%%capture\n",
    "!pip install pydna\n",
    "!pip install constrain\n",
    "!pip install matplotlib\n",
    "!pip install Bio"
   ]
  },
  {
   "cell_type": "code",
   "execution_count": null,
   "id": "e1d80cde-c2a8-4b8c-bc61-489630e8a718",
   "metadata": {
    "id": "e1d80cde-c2a8-4b8c-bc61-489630e8a718"
   },
   "outputs": [],
   "source": [
    "from Bio.Blast import NCBIWWW\n",
    "from Bio.Seq import Seq\n",
    "from Bio import SeqIO\n",
    "blast = True\n",
    "import pathlib\n",
    "from Bio.Blast import NCBIXML\n",
    "import pandas as pd\n",
    "import numpy as np"
   ]
  },
  {
   "cell_type": "markdown",
   "id": "cdf71913-3a8f-460a-a86d-2f1095fdc0f2",
   "metadata": {
    "id": "cdf71913-3a8f-460a-a86d-2f1095fdc0f2",
    "tags": []
   },
   "source": [
    "## 1. Intro\n",
    "\n",
    "This notebook is made to be able to find homologs from protein queries. As a **test case** the G8H step in the Strictosidine pathway was chosen.  \n",
    "\n",
    "**Some background on Strictosidine:** \n",
    "Strictosidine is a precurser for several anti-cancer compounds and is interesting because it is extracted from plants and due to weather and agricultural pests yields vary year to year (Brown et al., 2015). Additionally, Strictosidine is difficult to chemically synthesisze. Therefore we want to take the prouction to a yeast cell factory. However, the G8H (cytochrome p450) part of the pathway is the limiting step of the pathway and we want to optimize that via combinatorial optimizition. We have therefore chosen this step as test case for developing algorithms that can standardize homolog selection. The pathway is shown below.\n",
    "\n",
    "This notebook has been developed to answer the following question:\n",
    "\n",
    "**Can we via algorithms determine and standardize homolog selection?** \n",
    "\n"
   ]
  },
  {
   "cell_type": "code",
   "execution_count": null,
   "id": "e6047d97",
   "metadata": {},
   "outputs": [],
   "source": [
    "!git clone https://github.com/hiyama341/ConStrain_on_google_colab.git"
   ]
  },
  {
   "cell_type": "code",
   "execution_count": null,
   "id": "3e21740e-84a7-452e-9019-ac2b78eb748f",
   "metadata": {
    "id": "3e21740e-84a7-452e-9019-ac2b78eb748f",
    "outputId": "6e1a6f5d-500b-460b-b083-f571a5197a25"
   },
   "outputs": [],
   "source": [
    "from IPython import display\n",
    "display.Image('ConStrain_on_google_colab/pictures/Strictosidine_pathway.png')"
   ]
  },
  {
   "cell_type": "markdown",
   "id": "973d5b74-44cd-4331-a78c-7e03871082ee",
   "metadata": {
    "id": "973d5b74-44cd-4331-a78c-7e03871082ee"
   },
   "source": [
    "**Main objective:**\n",
    "\n",
    "- Finding Homologs for G8H, a major bottleneck in the Strictosidine pathway. More specifically two groups: \n",
    "    - G8H-CYP (Cytochrome p450)\n",
    "    - G8H-CPR (Cytochrome p450 reductase)\n",
    "    "
   ]
  },
  {
   "cell_type": "markdown",
   "id": "a63fe7c1-79e7-4fa9-9980-71b5ce11394c",
   "metadata": {
    "id": "a63fe7c1-79e7-4fa9-9980-71b5ce11394c"
   },
   "source": [
    "**The method/algorithm for finding the set of homologs is described as follows:**\n",
    "\n",
    "1. Read in the protein sequence of interest\n",
    "2. BLAST the sequence with the Biopython NCBIWWW.qblast function and select “blastp”. \n",
    "3. Search through the newly generated alignment XML file and find proteins that fit your parameters and save ACC numbers. Parameters included here are: \n",
    "    - Identity: 50-95% \n",
    "    - E-value threshold 0.04\n",
    "4. The ACC numbers are then used for fetching the protein sequences and saved as a FASTA file. \n",
    "5. The protein sequences are then made into DNA sequences in a 2 step process.\n",
    "6. A temporary DNA sequence is made from a translation table\n",
    "7. Codon optimized with “DNA chisel” for the organism of choice.\n",
    "8. The codon-optimized sequences are made into Biopython SeqRecord objects and can be: \n",
    "    - Exported to a database of choice through an API (Benchling, Teselagen)\n",
    "    - Saved as a FASTA file. \n"
   ]
  },
  {
   "cell_type": "markdown",
   "id": "2a922f0a-399b-47de-9280-caaa0bbe87ee",
   "metadata": {},
   "source": [
    "## 2. G8H BLAST"
   ]
  },
  {
   "cell_type": "markdown",
   "id": "e53f8afe-000c-494e-875f-5418f5a20e06",
   "metadata": {
    "id": "e53f8afe-000c-494e-875f-5418f5a20e06"
   },
   "source": [
    "#### First we make a file path for the fasta file we want to blast"
   ]
  },
  {
   "cell_type": "code",
   "execution_count": null,
   "id": "142fc45f-ffb2-4ee4-a5c0-78b2838f21a3",
   "metadata": {
    "id": "142fc45f-ffb2-4ee4-a5c0-78b2838f21a3",
    "outputId": "5f53169a-d712-4a27-b0c9-908199fd6b35"
   },
   "outputs": [],
   "source": [
    "pathCroG8H = 'ConStrain_on_google_colab/Data/Protein_seqs/Q8VWZ7.FASTA'\n",
    "pathCroG8H"
   ]
  },
  {
   "cell_type": "markdown",
   "id": "e03fbb0f-a8c7-422c-b20e-72847c654353",
   "metadata": {
    "id": "e03fbb0f-a8c7-422c-b20e-72847c654353"
   },
   "source": [
    "#### Then we read it into a Seqrecord object with biopython"
   ]
  },
  {
   "cell_type": "code",
   "execution_count": 6,
   "id": "e9fd8483-8dc2-4dae-aa2a-9e8b41c5c3e9",
   "metadata": {
    "id": "e9fd8483-8dc2-4dae-aa2a-9e8b41c5c3e9",
    "outputId": "e7db598e-9e5e-45a9-ad9c-613ec6c1cdf4"
   },
   "outputs": [
    {
     "data": {
      "text/plain": [
       "SeqRecord(seq=Seq('MDYLTIILTLLFALTLYEAFSYLSRRTKNLPPGPSPLPFIGSLHLLGDQPHKSL...STL'), id='sp|Q8VWZ7|C76B6_CATRO', name='sp|Q8VWZ7|C76B6_CATRO', description='sp|Q8VWZ7|C76B6_CATRO Geraniol 8-hydroxylase OS=Catharanthus roseus OX=4058 GN=CYP76B6 PE=1 SV=1', dbxrefs=[])"
      ]
     },
     "execution_count": 6,
     "metadata": {},
     "output_type": "execute_result"
    }
   ],
   "source": [
    "croG8H = SeqIO.read(pathCroG8H, format=\"fasta\")\n",
    "croG8H"
   ]
  },
  {
   "cell_type": "code",
   "execution_count": 7,
   "id": "dc6dabb2-4e15-4cc9-8aeb-8b32baa638b7",
   "metadata": {},
   "outputs": [
    {
     "name": "stdout",
     "output_type": "stream",
     "text": [
      "LENGTH OF THE PROTEIN:  493\n",
      "MDYLTIILTLLFALTLYEAFSYLSRRTKNLPPGPSPLPFIGSLHLLGDQPHKSLAKLSKKHGPIMSLKLGQITTIVISSSTMAKEVLQKQDLAFSSRSVPNALHAHNQFKFSVVWLPVASRWRSLRKVLNSNIFSGNRLDANQHLRTRKVQELIAYCRKNSQSGEAVDVGRAAFRTSLNLLSNLIFSKDLTDPYSDSAKEFKDLVWNIMVEAGKPNLVDFFPLLEKVDPQGIRHRMTIHFGEVLKLFGGLVNERLEQRRSKGEKNDVLDVLLTTSQESPEEIDRTHIERMCLDLFVAGTDTTSSTLEWAMSEMLKNPDKMKKTQDELAQVIGRGKTIEESDINRLPYLRCVMKETLRIHPPVPFLIPRKVEQSVEVCGYNVPKGSQVLVNAWAIGRDETVWDDALAFKPERFMESELDIRGRDFELIPFGAGRRICPGLPLALRTVPLMLGSLLNSFNWKLEGGMAPKDLDMEEKFGITLQKAHPLRAVPSTL\n"
     ]
    }
   ],
   "source": [
    "print('LENGTH OF THE PROTEIN: ',len(croG8H.seq))\n",
    "print(croG8H.seq)"
   ]
  },
  {
   "cell_type": "markdown",
   "id": "850c032c-872c-4ce5-86b9-919a92786cee",
   "metadata": {
    "id": "850c032c-872c-4ce5-86b9-919a92786cee"
   },
   "source": [
    "### 2.1 Blasting it on NCBI"
   ]
  },
  {
   "cell_type": "code",
   "execution_count": 25,
   "id": "5f8b5241-9bb1-448d-81da-29a1523ad065",
   "metadata": {
    "id": "5f8b5241-9bb1-448d-81da-29a1523ad065",
    "outputId": "dad8019f-b3c7-4913-8044-d2a3c16766ce"
   },
   "outputs": [
    {
     "name": "stdout",
     "output_type": "stream",
     "text": [
      "CPU times: user 222 ms, sys: 27.9 ms, total: 250 ms\n",
      "Wall time: 4min 1s\n"
     ]
    }
   ],
   "source": [
    "%%time\n",
    "result_handle = NCBIWWW.qblast(\"blastp\", \"nr\", sequence=croG8H,   hitlist_size=150) # format_type='Text', # 3000"
   ]
  },
  {
   "cell_type": "markdown",
   "id": "bd8fdbb6-cb11-4d2a-beb2-7273d9ff860d",
   "metadata": {
    "id": "bd8fdbb6-cb11-4d2a-beb2-7273d9ff860d",
    "tags": []
   },
   "source": [
    "#### 2.1.1 Write the blast onto an XML file "
   ]
  },
  {
   "cell_type": "code",
   "execution_count": 26,
   "id": "d0d5a324-6d8d-48de-9ea0-3b5acf35fa3c",
   "metadata": {
    "id": "d0d5a324-6d8d-48de-9ea0-3b5acf35fa3c"
   },
   "outputs": [],
   "source": [
    "blast_result = open(\"ConStrain_on_google_colab/Data/Protein_seqs/G8H_homologs.xml\", \"w\")\n",
    "blast_result.write(result_handle.read())\n",
    "blast_result.close()\n",
    "result_handle.close()"
   ]
  },
  {
   "cell_type": "markdown",
   "id": "5c4c0656-97be-4c5f-ad2b-c1cd6e170adb",
   "metadata": {
    "id": "5c4c0656-97be-4c5f-ad2b-c1cd6e170adb",
    "tags": []
   },
   "source": [
    "#### 2.1.2 Open the generated file and read it into a variable "
   ]
  },
  {
   "cell_type": "code",
   "execution_count": 27,
   "id": "79496707-768b-4add-ae1e-c2a222facfb5",
   "metadata": {
    "id": "79496707-768b-4add-ae1e-c2a222facfb5"
   },
   "outputs": [],
   "source": [
    "from Bio.Blast import NCBIXML\n",
    "\n",
    "with open(\"ConStrain_on_google_colab/Data/Protein_seqs/G8H_homologs.xml\", \"r\") as result_handle:\n",
    "    blast_record = NCBIXML.read(result_handle)"
   ]
  },
  {
   "cell_type": "markdown",
   "id": "70b18499-15e9-4699-8bcc-ddee50359d85",
   "metadata": {
    "id": "70b18499-15e9-4699-8bcc-ddee50359d85"
   },
   "source": [
    "#### 2.1.3. Filter BLAST results, on E-value, percentage protein identity"
   ]
  },
  {
   "cell_type": "code",
   "execution_count": 53,
   "id": "43baab75-579f-449c-9487-0633dfb72601",
   "metadata": {
    "id": "43baab75-579f-449c-9487-0633dfb72601",
    "outputId": "3e12c1e2-1ba6-407e-e81b-f01fb1d8c9ca",
    "tags": []
   },
   "outputs": [
    {
     "name": "stdout",
     "output_type": "stream",
     "text": [
      "\n",
      "TOTAL HOMOLOGS 1837\n"
     ]
    }
   ],
   "source": [
    "E_VALUE_THRESH = 0.4\n",
    "LOWER_PROTEIN_IDENTITY_THRESH = 0.1\n",
    "UPPER__PROTEIN_IDENTITY_THRESH = 0.99999\n",
    "Alignments_that_follow_our_criteria = [] #These are the ACC numbers\n",
    "\n",
    "# saving some of the metrics\n",
    "Names = []\n",
    "Identity = []\n",
    "E_value = []\n",
    "Length = []\n",
    "ACC_number = []\n",
    "\n",
    "counter = 0\n",
    "for alignment in blast_record.alignments:\n",
    "    for hsp in alignment.hsps:\n",
    "        IDENTITY = (hsp.identities/len(croG8H))# hsp.align_length)\n",
    "        if hsp.expect < E_VALUE_THRESH and IDENTITY > LOWER_PROTEIN_IDENTITY_THRESH and IDENTITY < UPPER__PROTEIN_IDENTITY_THRESH:\n",
    "            counter += 1\n",
    "            #print(\"\\nAlignment#\", counter)\n",
    "            #print(\"Name:\", alignment.hit_def)\n",
    "            #print(\"Title:\", alignment.title)\n",
    "            #print(\"Length:\", alignment.length)\n",
    "            #print(\"E value:\", hsp.expect)\n",
    "            #print('Query:', hsp.query[0:75] + \"...\")\n",
    "            #print('Match:', hsp.match[0:75] + \"...\")\n",
    "            #print('Subjt:',hsp.sbjct[0:75] + \"...\")\n",
    "            #print('Identitiy', \"{:.2f}\".format(IDENTITY))\n",
    "            #print(alignment)\n",
    "            #\n",
    "            # Saving the metrics we want into different lists\n",
    "            Alignments_that_follow_our_criteria.append(alignment)\n",
    "            Names.append(alignment.hit_def)\n",
    "            Identity.append(IDENTITY)\n",
    "            E_value.append(hsp.expect)\n",
    "            Length.append(alignment.length)\n",
    "            ACC_number.append(alignment.accession)\n",
    "            \n",
    "print('\\nTOTAL HOMOLOGS', counter)"
   ]
  },
  {
   "cell_type": "markdown",
   "id": "a70eb356-7904-49dd-9390-0316dd8651eb",
   "metadata": {
    "id": "a70eb356-7904-49dd-9390-0316dd8651eb"
   },
   "source": [
    "#### 2.1.4 Display results in a pandas dataframe \n",
    "\n",
    "Note: The alignments are saved onto a Bio.Blast.Record.Alignment datatype"
   ]
  },
  {
   "cell_type": "code",
   "execution_count": 29,
   "id": "0d8af242-2cb2-49b4-8b90-e3604f1d3060",
   "metadata": {
    "id": "0d8af242-2cb2-49b4-8b90-e3604f1d3060",
    "outputId": "788e20c5-5eb3-4790-991e-4b5f5a009ace"
   },
   "outputs": [
    {
     "data": {
      "text/plain": [
       "'RecName: Full=Geraniol 8-hydroxylase; AltName: Full=Cytochrome P450 76B6; AltName: Full=Geraniol 10-hydroxylase; Short=CrG10H [Catharanthus roseus] >gb|AHA82034.1| geraniol 10-hydroxylase [Catharanthus roseus] >gb|AJO70761.1| geraniol-8-hydroxylase [synthetic construct] >gb|KAI5665891.1| hypothetical protein M9H77_15744 [Catharanthus roseus] >emb|CAC80883.1| geraniol 10-hydroxylase [Catharanthus roseus]'"
      ]
     },
     "execution_count": 29,
     "metadata": {},
     "output_type": "execute_result"
    }
   ],
   "source": [
    "Alignments_that_follow_our_criteria[0].hit_def"
   ]
  },
  {
   "cell_type": "code",
   "execution_count": 30,
   "id": "156d119e-e8d6-4752-8b92-73599097e417",
   "metadata": {
    "id": "156d119e-e8d6-4752-8b92-73599097e417"
   },
   "outputs": [],
   "source": [
    "import pandas as pd"
   ]
  },
  {
   "cell_type": "code",
   "execution_count": 31,
   "id": "82b41e29-56d2-4ca6-945b-a4e650cd44cd",
   "metadata": {
    "id": "82b41e29-56d2-4ca6-945b-a4e650cd44cd"
   },
   "outputs": [],
   "source": [
    "pd.set_option('display.max_colwidth', None)\n",
    "pd.set_option(\"display.max_rows\", 100)\n"
   ]
  },
  {
   "cell_type": "code",
   "execution_count": 32,
   "id": "b4e68d8e-8c14-455e-acb7-6e8be5362b08",
   "metadata": {
    "id": "b4e68d8e-8c14-455e-acb7-6e8be5362b08",
    "outputId": "c68474d8-c01b-406b-fb53-d50d8f05b2e2"
   },
   "outputs": [
    {
     "name": "stdout",
     "output_type": "stream",
     "text": [
      "154\n"
     ]
    },
    {
     "data": {
      "text/html": [
       "<div>\n",
       "<style scoped>\n",
       "    .dataframe tbody tr th:only-of-type {\n",
       "        vertical-align: middle;\n",
       "    }\n",
       "\n",
       "    .dataframe tbody tr th {\n",
       "        vertical-align: top;\n",
       "    }\n",
       "\n",
       "    .dataframe thead th {\n",
       "        text-align: right;\n",
       "    }\n",
       "</style>\n",
       "<table border=\"1\" class=\"dataframe\">\n",
       "  <thead>\n",
       "    <tr style=\"text-align: right;\">\n",
       "      <th></th>\n",
       "      <th>Name</th>\n",
       "      <th>Identity</th>\n",
       "      <th>E_value</th>\n",
       "      <th>Length</th>\n",
       "      <th>ACC_number</th>\n",
       "    </tr>\n",
       "  </thead>\n",
       "  <tbody>\n",
       "    <tr>\n",
       "      <th>0</th>\n",
       "      <td>RecName: Full=Geraniol 8-hydroxylase; AltName: Full=Cytochrome P450 76B6; AltName: Full=Geraniol 10-hydroxylase; Short=CrG10H [Catharanthus roseus] &gt;gb|AHA82034.1| geraniol 10-hydroxylase [Catharanthus roseus] &gt;gb|AJO70761.1| geraniol-8-hydroxylase [synthetic construct] &gt;gb|KAI5665891.1| hypothetical protein M9H77_15744 [Catharanthus roseus] &gt;emb|CAC80883.1| geraniol 10-hydroxylase [Catharanthus roseus]</td>\n",
       "      <td>0.964912</td>\n",
       "      <td>3.274450e-27</td>\n",
       "      <td>493</td>\n",
       "      <td>Q8VWZ7</td>\n",
       "    </tr>\n",
       "    <tr>\n",
       "      <th>4</th>\n",
       "      <td>geraniol 10-hydroxylase-like protein [Cinchona calisaya]</td>\n",
       "      <td>0.754386</td>\n",
       "      <td>1.318650e-19</td>\n",
       "      <td>493</td>\n",
       "      <td>AGX93051</td>\n",
       "    </tr>\n",
       "    <tr>\n",
       "      <th>6</th>\n",
       "      <td>geraniol 10-hydroxylase [Gentiana rigescens]</td>\n",
       "      <td>0.754386</td>\n",
       "      <td>2.289230e-19</td>\n",
       "      <td>515</td>\n",
       "      <td>ANW12211</td>\n",
       "    </tr>\n",
       "    <tr>\n",
       "      <th>5</th>\n",
       "      <td>geraniol 10-hydroxylase [Gentiana rigescens]</td>\n",
       "      <td>0.754386</td>\n",
       "      <td>2.266950e-19</td>\n",
       "      <td>515</td>\n",
       "      <td>ANW12210</td>\n",
       "    </tr>\n",
       "    <tr>\n",
       "      <th>1</th>\n",
       "      <td>geraniol 10-hydroxylase-like protein [Tabernaemontana elegans]</td>\n",
       "      <td>0.754386</td>\n",
       "      <td>5.782710e-21</td>\n",
       "      <td>493</td>\n",
       "      <td>AGX93054</td>\n",
       "    </tr>\n",
       "    <tr>\n",
       "      <th>3</th>\n",
       "      <td>geraniol 10-hydroxylase-like protein [Rauvolfia serpentina]</td>\n",
       "      <td>0.754386</td>\n",
       "      <td>5.123990e-20</td>\n",
       "      <td>493</td>\n",
       "      <td>AGX93053</td>\n",
       "    </tr>\n",
       "    <tr>\n",
       "      <th>2</th>\n",
       "      <td>geraniol 10-hydroxylase-like protein [Amsonia hubrichtii]</td>\n",
       "      <td>0.754386</td>\n",
       "      <td>3.386930e-20</td>\n",
       "      <td>493</td>\n",
       "      <td>AGX93052</td>\n",
       "    </tr>\n",
       "    <tr>\n",
       "      <th>8</th>\n",
       "      <td>G10H [Gentiana rigescens]</td>\n",
       "      <td>0.736842</td>\n",
       "      <td>9.082290e-19</td>\n",
       "      <td>515</td>\n",
       "      <td>AIA22171</td>\n",
       "    </tr>\n",
       "    <tr>\n",
       "      <th>9</th>\n",
       "      <td>hypothetical protein BUALT_Bualt04G0118100 [Buddleja alternifolia]</td>\n",
       "      <td>0.736842</td>\n",
       "      <td>9.158870e-19</td>\n",
       "      <td>310</td>\n",
       "      <td>KAG8384440</td>\n",
       "    </tr>\n",
       "    <tr>\n",
       "      <th>10</th>\n",
       "      <td>geraniol 8-hydroxylase-like [Olea europaea var. sylvestris]</td>\n",
       "      <td>0.736842</td>\n",
       "      <td>1.466650e-18</td>\n",
       "      <td>494</td>\n",
       "      <td>XP_022858342</td>\n",
       "    </tr>\n",
       "  </tbody>\n",
       "</table>\n",
       "</div>"
      ],
      "text/plain": [
       "                                                                                                                                                                                                                                                                                                                                                                                                                      Name  \\\n",
       "0   RecName: Full=Geraniol 8-hydroxylase; AltName: Full=Cytochrome P450 76B6; AltName: Full=Geraniol 10-hydroxylase; Short=CrG10H [Catharanthus roseus] >gb|AHA82034.1| geraniol 10-hydroxylase [Catharanthus roseus] >gb|AJO70761.1| geraniol-8-hydroxylase [synthetic construct] >gb|KAI5665891.1| hypothetical protein M9H77_15744 [Catharanthus roseus] >emb|CAC80883.1| geraniol 10-hydroxylase [Catharanthus roseus]   \n",
       "4                                                                                                                                                                                                                                                                                                                                                                 geraniol 10-hydroxylase-like protein [Cinchona calisaya]   \n",
       "6                                                                                                                                                                                                                                                                                                                                                                             geraniol 10-hydroxylase [Gentiana rigescens]   \n",
       "5                                                                                                                                                                                                                                                                                                                                                                             geraniol 10-hydroxylase [Gentiana rigescens]   \n",
       "1                                                                                                                                                                                                                                                                                                                                                           geraniol 10-hydroxylase-like protein [Tabernaemontana elegans]   \n",
       "3                                                                                                                                                                                                                                                                                                                                                              geraniol 10-hydroxylase-like protein [Rauvolfia serpentina]   \n",
       "2                                                                                                                                                                                                                                                                                                                                                                geraniol 10-hydroxylase-like protein [Amsonia hubrichtii]   \n",
       "8                                                                                                                                                                                                                                                                                                                                                                                                G10H [Gentiana rigescens]   \n",
       "9                                                                                                                                                                                                                                                                                                                                                       hypothetical protein BUALT_Bualt04G0118100 [Buddleja alternifolia]   \n",
       "10                                                                                                                                                                                                                                                                                                                                                             geraniol 8-hydroxylase-like [Olea europaea var. sylvestris]   \n",
       "\n",
       "    Identity       E_value  Length    ACC_number  \n",
       "0   0.964912  3.274450e-27     493        Q8VWZ7  \n",
       "4   0.754386  1.318650e-19     493      AGX93051  \n",
       "6   0.754386  2.289230e-19     515      ANW12211  \n",
       "5   0.754386  2.266950e-19     515      ANW12210  \n",
       "1   0.754386  5.782710e-21     493      AGX93054  \n",
       "3   0.754386  5.123990e-20     493      AGX93053  \n",
       "2   0.754386  3.386930e-20     493      AGX93052  \n",
       "8   0.736842  9.082290e-19     515      AIA22171  \n",
       "9   0.736842  9.158870e-19     310    KAG8384440  \n",
       "10  0.736842  1.466650e-18     494  XP_022858342  "
      ]
     },
     "execution_count": 32,
     "metadata": {},
     "output_type": "execute_result"
    }
   ],
   "source": [
    "data = list(zip(Names,Identity, E_value, Length, ACC_number))\n",
    "df_alignments_that_follow_our_criteria = pd.DataFrame(data, columns=['Name','Identity', 'E_value', 'Length', 'ACC_number'])\n",
    "\n",
    "# Sort dataframe  \n",
    "df_alignments_that_follow_our_criteria = df_alignments_that_follow_our_criteria.sort_values(by='Identity', ascending=False)\n",
    "print(len(df_alignments_that_follow_our_criteria))\n",
    "df_alignments_that_follow_our_criteria.head(10)"
   ]
  },
  {
   "cell_type": "markdown",
   "id": "fd92b6ad-abd0-4538-992d-adb2565aa653",
   "metadata": {
    "id": "fd92b6ad-abd0-4538-992d-adb2565aa653"
   },
   "source": [
    "We need to narrow down the candidtates. One way to do this is to select is to take a range of amino acid identeties. another way is to limit the length to be more similar to the native enzyme\n"
   ]
  },
  {
   "cell_type": "code",
   "execution_count": 33,
   "id": "a211d4b9-7fb8-4a01-ac94-98425858a48f",
   "metadata": {
    "id": "a211d4b9-7fb8-4a01-ac94-98425858a48f",
    "outputId": "56790382-16d5-436c-85de-ba51d324a4a7"
   },
   "outputs": [
    {
     "data": {
      "text/plain": [
       "104"
      ]
     },
     "execution_count": 33,
     "metadata": {},
     "output_type": "execute_result"
    }
   ],
   "source": [
    "df_alignments_that_follow_our_criteria = df_alignments_that_follow_our_criteria[ df_alignments_that_follow_our_criteria['Length'] > len(croG8H)-50]\n",
    "df_alignments_that_follow_our_criteria = df_alignments_that_follow_our_criteria[ df_alignments_that_follow_our_criteria['Length'] <len(croG8H)+50]\n",
    "len(df_alignments_that_follow_our_criteria)"
   ]
  },
  {
   "cell_type": "code",
   "execution_count": 34,
   "id": "530f86e8-008e-48cc-899f-4ca7e4c439b4",
   "metadata": {
    "id": "530f86e8-008e-48cc-899f-4ca7e4c439b4",
    "outputId": "b8aa67c4-3094-4ce6-cc63-65f8ab0d15a3"
   },
   "outputs": [
    {
     "data": {
      "text/html": [
       "<div>\n",
       "<style scoped>\n",
       "    .dataframe tbody tr th:only-of-type {\n",
       "        vertical-align: middle;\n",
       "    }\n",
       "\n",
       "    .dataframe tbody tr th {\n",
       "        vertical-align: top;\n",
       "    }\n",
       "\n",
       "    .dataframe thead th {\n",
       "        text-align: right;\n",
       "    }\n",
       "</style>\n",
       "<table border=\"1\" class=\"dataframe\">\n",
       "  <thead>\n",
       "    <tr style=\"text-align: right;\">\n",
       "      <th></th>\n",
       "      <th>Name</th>\n",
       "      <th>Identity</th>\n",
       "      <th>E_value</th>\n",
       "      <th>Length</th>\n",
       "      <th>ACC_number</th>\n",
       "    </tr>\n",
       "  </thead>\n",
       "  <tbody>\n",
       "    <tr>\n",
       "      <th>0</th>\n",
       "      <td>RecName: Full=Geraniol 8-hydroxylase; AltName: Full=Cytochrome P450 76B6; AltName: Full=Geraniol 10-hydroxylase; Short=CrG10H [Catharanthus roseus] &gt;gb|AHA82034.1| geraniol 10-hydroxylase [Catharanthus roseus] &gt;gb|AJO70761.1| geraniol-8-hydroxylase [synthetic construct] &gt;gb|KAI5665891.1| hypothetical protein M9H77_15744 [Catharanthus roseus] &gt;emb|CAC80883.1| geraniol 10-hydroxylase [Catharanthus roseus]</td>\n",
       "      <td>0.964912</td>\n",
       "      <td>3.274450e-27</td>\n",
       "      <td>493</td>\n",
       "      <td>Q8VWZ7</td>\n",
       "    </tr>\n",
       "    <tr>\n",
       "      <th>1</th>\n",
       "      <td>geraniol 10-hydroxylase-like protein [Tabernaemontana elegans]</td>\n",
       "      <td>0.754386</td>\n",
       "      <td>5.782710e-21</td>\n",
       "      <td>493</td>\n",
       "      <td>AGX93054</td>\n",
       "    </tr>\n",
       "    <tr>\n",
       "      <th>2</th>\n",
       "      <td>geraniol 10-hydroxylase-like protein [Amsonia hubrichtii]</td>\n",
       "      <td>0.754386</td>\n",
       "      <td>3.386930e-20</td>\n",
       "      <td>493</td>\n",
       "      <td>AGX93052</td>\n",
       "    </tr>\n",
       "    <tr>\n",
       "      <th>3</th>\n",
       "      <td>geraniol 10-hydroxylase-like protein [Rauvolfia serpentina]</td>\n",
       "      <td>0.754386</td>\n",
       "      <td>5.123990e-20</td>\n",
       "      <td>493</td>\n",
       "      <td>AGX93053</td>\n",
       "    </tr>\n",
       "    <tr>\n",
       "      <th>4</th>\n",
       "      <td>geraniol 10-hydroxylase-like protein [Cinchona calisaya]</td>\n",
       "      <td>0.754386</td>\n",
       "      <td>1.318650e-19</td>\n",
       "      <td>493</td>\n",
       "      <td>AGX93051</td>\n",
       "    </tr>\n",
       "    <tr>\n",
       "      <th>...</th>\n",
       "      <td>...</td>\n",
       "      <td>...</td>\n",
       "      <td>...</td>\n",
       "      <td>...</td>\n",
       "      <td>...</td>\n",
       "    </tr>\n",
       "    <tr>\n",
       "      <th>128</th>\n",
       "      <td>PREDICTED: geraniol 8-hydroxylase-like [Nicotiana tabacum]</td>\n",
       "      <td>0.500000</td>\n",
       "      <td>4.128460e-08</td>\n",
       "      <td>495</td>\n",
       "      <td>XP_016438735</td>\n",
       "    </tr>\n",
       "    <tr>\n",
       "      <th>139</th>\n",
       "      <td>geraniol 8-hydroxylase-like [Pyrus ussuriensis x Pyrus communis]</td>\n",
       "      <td>0.500000</td>\n",
       "      <td>5.505970e-08</td>\n",
       "      <td>514</td>\n",
       "      <td>KAB2632611</td>\n",
       "    </tr>\n",
       "    <tr>\n",
       "      <th>95</th>\n",
       "      <td>geraniol 8-hydroxylase-like [Ipomoea triloba]</td>\n",
       "      <td>0.491803</td>\n",
       "      <td>1.623650e-08</td>\n",
       "      <td>499</td>\n",
       "      <td>XP_031114785</td>\n",
       "    </tr>\n",
       "    <tr>\n",
       "      <th>116</th>\n",
       "      <td>hypothetical protein L6452_44362 [Arctium lappa]</td>\n",
       "      <td>0.483333</td>\n",
       "      <td>3.194430e-08</td>\n",
       "      <td>497</td>\n",
       "      <td>KAI3665732</td>\n",
       "    </tr>\n",
       "    <tr>\n",
       "      <th>49</th>\n",
       "      <td>hypothetical protein Leryth_021809 [Lithospermum erythrorhizon]</td>\n",
       "      <td>0.482759</td>\n",
       "      <td>1.681740e-09</td>\n",
       "      <td>496</td>\n",
       "      <td>KAG9136401</td>\n",
       "    </tr>\n",
       "  </tbody>\n",
       "</table>\n",
       "<p>104 rows × 5 columns</p>\n",
       "</div>"
      ],
      "text/plain": [
       "                                                                                                                                                                                                                                                                                                                                                                                                                       Name  \\\n",
       "0    RecName: Full=Geraniol 8-hydroxylase; AltName: Full=Cytochrome P450 76B6; AltName: Full=Geraniol 10-hydroxylase; Short=CrG10H [Catharanthus roseus] >gb|AHA82034.1| geraniol 10-hydroxylase [Catharanthus roseus] >gb|AJO70761.1| geraniol-8-hydroxylase [synthetic construct] >gb|KAI5665891.1| hypothetical protein M9H77_15744 [Catharanthus roseus] >emb|CAC80883.1| geraniol 10-hydroxylase [Catharanthus roseus]   \n",
       "1                                                                                                                                                                                                                                                                                                                                                            geraniol 10-hydroxylase-like protein [Tabernaemontana elegans]   \n",
       "2                                                                                                                                                                                                                                                                                                                                                                 geraniol 10-hydroxylase-like protein [Amsonia hubrichtii]   \n",
       "3                                                                                                                                                                                                                                                                                                                                                               geraniol 10-hydroxylase-like protein [Rauvolfia serpentina]   \n",
       "4                                                                                                                                                                                                                                                                                                                                                                  geraniol 10-hydroxylase-like protein [Cinchona calisaya]   \n",
       "..                                                                                                                                                                                                                                                                                                                                                                                                                      ...   \n",
       "128                                                                                                                                                                                                                                                                                                                                                              PREDICTED: geraniol 8-hydroxylase-like [Nicotiana tabacum]   \n",
       "139                                                                                                                                                                                                                                                                                                                                                        geraniol 8-hydroxylase-like [Pyrus ussuriensis x Pyrus communis]   \n",
       "95                                                                                                                                                                                                                                                                                                                                                                            geraniol 8-hydroxylase-like [Ipomoea triloba]   \n",
       "116                                                                                                                                                                                                                                                                                                                                                                        hypothetical protein L6452_44362 [Arctium lappa]   \n",
       "49                                                                                                                                                                                                                                                                                                                                                          hypothetical protein Leryth_021809 [Lithospermum erythrorhizon]   \n",
       "\n",
       "     Identity       E_value  Length    ACC_number  \n",
       "0    0.964912  3.274450e-27     493        Q8VWZ7  \n",
       "1    0.754386  5.782710e-21     493      AGX93054  \n",
       "2    0.754386  3.386930e-20     493      AGX93052  \n",
       "3    0.754386  5.123990e-20     493      AGX93053  \n",
       "4    0.754386  1.318650e-19     493      AGX93051  \n",
       "..        ...           ...     ...           ...  \n",
       "128  0.500000  4.128460e-08     495  XP_016438735  \n",
       "139  0.500000  5.505970e-08     514    KAB2632611  \n",
       "95   0.491803  1.623650e-08     499  XP_031114785  \n",
       "116  0.483333  3.194430e-08     497    KAI3665732  \n",
       "49   0.482759  1.681740e-09     496    KAG9136401  \n",
       "\n",
       "[104 rows x 5 columns]"
      ]
     },
     "execution_count": 34,
     "metadata": {},
     "output_type": "execute_result"
    }
   ],
   "source": [
    "# Sorting the dataframe\n",
    "df_alignments_that_follow_our_criteria = df_alignments_that_follow_our_criteria.sort_values(by='Identity', ascending=False)\n",
    "df_alignments_that_follow_our_criteria"
   ]
  },
  {
   "cell_type": "markdown",
   "id": "37bfa7ef-eafb-47e9-b428-03eb02cfecce",
   "metadata": {},
   "source": [
    "#### 2.1.5 Choosing homologs\n",
    "\n"
   ]
  },
  {
   "cell_type": "markdown",
   "id": "d3f21f84-4fb5-469a-9de2-e513b79d6100",
   "metadata": {},
   "source": [
    "The idea is to create a diverse library. Therefore I chose the following homologs with AA identeties ranging from our query to 66.6% AA identity."
   ]
  },
  {
   "cell_type": "code",
   "execution_count": 35,
   "id": "441799e0-3cbe-438b-8142-2d95defa58d7",
   "metadata": {},
   "outputs": [],
   "source": [
    "chosen_homologs = ['Q8VWZ7','AGX93055','AGX93051' ,'AGX93053' , 'BAP90522', 'XP_022858342', 'D1MI46','AES93118']"
   ]
  },
  {
   "cell_type": "code",
   "execution_count": 36,
   "id": "2f0af3a5-5e2b-4139-8112-cea795220333",
   "metadata": {},
   "outputs": [
    {
     "name": "stdout",
     "output_type": "stream",
     "text": [
      "7\n"
     ]
    },
    {
     "data": {
      "text/html": [
       "<div>\n",
       "<style scoped>\n",
       "    .dataframe tbody tr th:only-of-type {\n",
       "        vertical-align: middle;\n",
       "    }\n",
       "\n",
       "    .dataframe tbody tr th {\n",
       "        vertical-align: top;\n",
       "    }\n",
       "\n",
       "    .dataframe thead th {\n",
       "        text-align: right;\n",
       "    }\n",
       "</style>\n",
       "<table border=\"1\" class=\"dataframe\">\n",
       "  <thead>\n",
       "    <tr style=\"text-align: right;\">\n",
       "      <th></th>\n",
       "      <th>Name</th>\n",
       "      <th>Identity</th>\n",
       "      <th>E_value</th>\n",
       "      <th>Length</th>\n",
       "      <th>ACC_number</th>\n",
       "    </tr>\n",
       "  </thead>\n",
       "  <tbody>\n",
       "    <tr>\n",
       "      <th>0</th>\n",
       "      <td>RecName: Full=Geraniol 8-hydroxylase; AltName: Full=Cytochrome P450 76B6; AltName: Full=Geraniol 10-hydroxylase; Short=CrG10H [Catharanthus roseus] &gt;gb|AHA82034.1| geraniol 10-hydroxylase [Catharanthus roseus] &gt;gb|AJO70761.1| geraniol-8-hydroxylase [synthetic construct] &gt;gb|KAI5665891.1| hypothetical protein M9H77_15744 [Catharanthus roseus] &gt;emb|CAC80883.1| geraniol 10-hydroxylase [Catharanthus roseus]</td>\n",
       "      <td>0.964912</td>\n",
       "      <td>3.274450e-27</td>\n",
       "      <td>493</td>\n",
       "      <td>Q8VWZ7</td>\n",
       "    </tr>\n",
       "    <tr>\n",
       "      <th>3</th>\n",
       "      <td>geraniol 10-hydroxylase-like protein [Rauvolfia serpentina]</td>\n",
       "      <td>0.754386</td>\n",
       "      <td>5.123990e-20</td>\n",
       "      <td>493</td>\n",
       "      <td>AGX93053</td>\n",
       "    </tr>\n",
       "    <tr>\n",
       "      <th>4</th>\n",
       "      <td>geraniol 10-hydroxylase-like protein [Cinchona calisaya]</td>\n",
       "      <td>0.754386</td>\n",
       "      <td>1.318650e-19</td>\n",
       "      <td>493</td>\n",
       "      <td>AGX93051</td>\n",
       "    </tr>\n",
       "    <tr>\n",
       "      <th>10</th>\n",
       "      <td>geraniol 8-hydroxylase-like [Olea europaea var. sylvestris]</td>\n",
       "      <td>0.736842</td>\n",
       "      <td>1.466650e-18</td>\n",
       "      <td>494</td>\n",
       "      <td>XP_022858342</td>\n",
       "    </tr>\n",
       "    <tr>\n",
       "      <th>142</th>\n",
       "      <td>geraniol 10-hydroxylase-like protein [Vinca minor]</td>\n",
       "      <td>0.719298</td>\n",
       "      <td>6.581610e-08</td>\n",
       "      <td>493</td>\n",
       "      <td>AGX93055</td>\n",
       "    </tr>\n",
       "    <tr>\n",
       "      <th>7</th>\n",
       "      <td>geraniol 10-hydroxylase [Ophiorrhiza pumila]</td>\n",
       "      <td>0.704918</td>\n",
       "      <td>2.454820e-19</td>\n",
       "      <td>512</td>\n",
       "      <td>BAP90522</td>\n",
       "    </tr>\n",
       "    <tr>\n",
       "      <th>90</th>\n",
       "      <td>RecName: Full=Geraniol 8-hydroxylase; AltName: Full=Cytochrome P450 76B10; AltName: Full=Geraniol 10-hydroxylase; Short=SmG10H [Swertia mussotii] &gt;gb|ACZ48680.1| geraniol 10-hydroxylase [Swertia mussotii]</td>\n",
       "      <td>0.666667</td>\n",
       "      <td>1.403400e-08</td>\n",
       "      <td>495</td>\n",
       "      <td>D1MI46</td>\n",
       "    </tr>\n",
       "  </tbody>\n",
       "</table>\n",
       "</div>"
      ],
      "text/plain": [
       "                                                                                                                                                                                                                                                                                                                                                                                                                       Name  \\\n",
       "0    RecName: Full=Geraniol 8-hydroxylase; AltName: Full=Cytochrome P450 76B6; AltName: Full=Geraniol 10-hydroxylase; Short=CrG10H [Catharanthus roseus] >gb|AHA82034.1| geraniol 10-hydroxylase [Catharanthus roseus] >gb|AJO70761.1| geraniol-8-hydroxylase [synthetic construct] >gb|KAI5665891.1| hypothetical protein M9H77_15744 [Catharanthus roseus] >emb|CAC80883.1| geraniol 10-hydroxylase [Catharanthus roseus]   \n",
       "3                                                                                                                                                                                                                                                                                                                                                               geraniol 10-hydroxylase-like protein [Rauvolfia serpentina]   \n",
       "4                                                                                                                                                                                                                                                                                                                                                                  geraniol 10-hydroxylase-like protein [Cinchona calisaya]   \n",
       "10                                                                                                                                                                                                                                                                                                                                                              geraniol 8-hydroxylase-like [Olea europaea var. sylvestris]   \n",
       "142                                                                                                                                                                                                                                                                                                                                                                      geraniol 10-hydroxylase-like protein [Vinca minor]   \n",
       "7                                                                                                                                                                                                                                                                                                                                                                              geraniol 10-hydroxylase [Ophiorrhiza pumila]   \n",
       "90                                                                                                                                                                                                             RecName: Full=Geraniol 8-hydroxylase; AltName: Full=Cytochrome P450 76B10; AltName: Full=Geraniol 10-hydroxylase; Short=SmG10H [Swertia mussotii] >gb|ACZ48680.1| geraniol 10-hydroxylase [Swertia mussotii]   \n",
       "\n",
       "     Identity       E_value  Length    ACC_number  \n",
       "0    0.964912  3.274450e-27     493        Q8VWZ7  \n",
       "3    0.754386  5.123990e-20     493      AGX93053  \n",
       "4    0.754386  1.318650e-19     493      AGX93051  \n",
       "10   0.736842  1.466650e-18     494  XP_022858342  \n",
       "142  0.719298  6.581610e-08     493      AGX93055  \n",
       "7    0.704918  2.454820e-19     512      BAP90522  \n",
       "90   0.666667  1.403400e-08     495        D1MI46  "
      ]
     },
     "execution_count": 36,
     "metadata": {},
     "output_type": "execute_result"
    }
   ],
   "source": [
    "chosen_homologs_df = df_alignments_that_follow_our_criteria[df_alignments_that_follow_our_criteria['ACC_number'].isin(chosen_homologs)]\n",
    "print(len(chosen_homologs_df))\n",
    "chosen_homologs_df"
   ]
  },
  {
   "cell_type": "markdown",
   "id": "51e58875-deb2-4987-a716-a4f1898943b1",
   "metadata": {},
   "source": [
    "Additionally i chose the AES93118 which looks promising from the following paper : https://www.nature.com/articles/srep08227"
   ]
  },
  {
   "cell_type": "code",
   "execution_count": 37,
   "id": "e7d343a5-18d3-41ba-b5b5-2f204e7ea2ef",
   "metadata": {},
   "outputs": [
    {
     "data": {
      "text/plain": [
       "8"
      ]
     },
     "execution_count": 37,
     "metadata": {},
     "output_type": "execute_result"
    }
   ],
   "source": [
    "extra_G8H_dict = {'Name': 'geraniol-10-hydroxylase [Camptotheca acuminata]', 'Identity': np.nan, 'E_value': np.nan, 'Length':np.nan, 'ACC_number': 'AES93118' }\n",
    "\n",
    "extra_G8H_df = pd.DataFrame([extra_G8H_dict])\n",
    "\n",
    "chosen_homologs_df = pd.concat([chosen_homologs_df, extra_G8H_df], ignore_index=True)\n",
    "len(chosen_homologs_df)"
   ]
  },
  {
   "cell_type": "code",
   "execution_count": 38,
   "id": "6b9b431d-2882-4249-a44c-68e6ee47f5dd",
   "metadata": {
    "id": "6b9b431d-2882-4249-a44c-68e6ee47f5dd",
    "outputId": "9ce1e4c8-6caf-4749-e143-cb28d7ac58dd"
   },
   "outputs": [
    {
     "data": {
      "text/plain": [
       "['Q8VWZ7',\n",
       " 'AGX93053',\n",
       " 'AGX93051',\n",
       " 'XP_022858342',\n",
       " 'AGX93055',\n",
       " 'BAP90522',\n",
       " 'D1MI46',\n",
       " 'AES93118']"
      ]
     },
     "execution_count": 38,
     "metadata": {},
     "output_type": "execute_result"
    }
   ],
   "source": [
    "acc_numbers = chosen_homologs_df['ACC_number'].tolist()\n",
    "Names_species = chosen_homologs_df['Name'].tolist()\n",
    "acc_numbers"
   ]
  },
  {
   "cell_type": "markdown",
   "id": "1d1cb743-7a4c-415b-8fa9-428a85b6679b",
   "metadata": {
    "id": "1d1cb743-7a4c-415b-8fa9-428a85b6679b",
    "tags": []
   },
   "source": [
    "## 3. Retrieve the sequences and write them onto a file"
   ]
  },
  {
   "cell_type": "markdown",
   "id": "73c80631-6d82-4947-a011-4f50d44a140c",
   "metadata": {
    "id": "73c80631-6d82-4947-a011-4f50d44a140c"
   },
   "source": [
    "### 3.1 Getting DNA sequences through Entrez \n",
    "\n",
    "Retrieve the sequences with the Entrez library which is possible with the ACC numbers we found before. Save the retrieved sequences as a fasta file called 'Homolog_seqs.fasta'. You need to provide an email for this so they know who you are. "
   ]
  },
  {
   "cell_type": "code",
   "execution_count": 39,
   "id": "fe14c029-4bdb-43bf-9b3a-2feea2c7989f",
   "metadata": {
    "id": "fe14c029-4bdb-43bf-9b3a-2feea2c7989f"
   },
   "outputs": [],
   "source": [
    "from Bio import Entrez"
   ]
  },
  {
   "cell_type": "code",
   "execution_count": 40,
   "id": "85b1d672-d14d-4cc2-937a-8953f2dd0519",
   "metadata": {
    "id": "85b1d672-d14d-4cc2-937a-8953f2dd0519",
    "outputId": "06260f85-eec5-4a2a-8168-abefcf59abc1"
   },
   "outputs": [
    {
     "name": "stdout",
     "output_type": "stream",
     "text": [
      "CPU times: user 239 ms, sys: 26.8 ms, total: 266 ms\n",
      "Wall time: 5.8 s\n"
     ]
    }
   ],
   "source": [
    "%%time\n",
    "\n",
    "# add ur email here\n",
    "email = \"youremail@gmail.com\"\n",
    "\n",
    "out_handle = open('ConStrain_on_google_colab/Data/Protein_seqs/G8H_CYP_Homolog_seqs.fasta', \"w\")\n",
    "\n",
    "for i in range(0, len(acc_numbers)):\n",
    "    Entrez.email = email\n",
    "    handle = Entrez.efetch(db=\"protein\", id=acc_numbers[i], rettype=\"fasta\", retmode=\"text\")\n",
    "    \n",
    "    out_handle.write(handle.read())\n",
    "out_handle.close()"
   ]
  },
  {
   "cell_type": "markdown",
   "id": "0e754cae-4aec-4fea-a521-35b4fedaf5ee",
   "metadata": {
    "id": "0e754cae-4aec-4fea-a521-35b4fedaf5ee"
   },
   "source": [
    "### 3.2 Read the sequences into variables\n",
    "\n",
    "Now parse through the file and get all the AA sequences which can be made into to DNA later. "
   ]
  },
  {
   "cell_type": "code",
   "execution_count": 41,
   "id": "37851248-d017-45db-bedd-cd1fb4c5525e",
   "metadata": {
    "id": "37851248-d017-45db-bedd-cd1fb4c5525e",
    "outputId": "c40e8606-994d-44eb-fdbf-133b247b06db"
   },
   "outputs": [
    {
     "name": "stdout",
     "output_type": "stream",
     "text": [
      "sp|Q8VWZ7.1|C76B6_CATRO MDYLTIILTLLFALTLYEAFSYLSRRTKNLPPGPSPLPFIGSLHLLGDQPHKSLAKLSKKHGPIMSLKLGQITTIVISSSTMAKEVLQKQDLAFSSRSVPNALHAHNQFKFSVVWLPVASRWRSLRKVLNSNIFSGNRLDANQHLRTRKVQELIAYCRKNSQSGEAVDVGRAAFRTSLNLLSNLIFSKDLTDPYSDSAKEFKDLVWNIMVEAGKPNLVDFFPLLEKVDPQGIRHRMTIHFGEVLKLFGGLVNERLEQRRSKGEKNDVLDVLLTTSQESPEEIDRTHIERMCLDLFVAGTDTTSSTLEWAMSEMLKNPDKMKKTQDELAQVIGRGKTIEESDINRLPYLRCVMKETLRIHPPVPFLIPRKVEQSVEVCGYNVPKGSQVLVNAWAIGRDETVWDDALAFKPERFMESELDIRGRDFELIPFGAGRRICPGLPLALRTVPLMLGSLLNSFNWKLEGGMAPKDLDMEEKFGITLQKAHPLRAVPSTL \n",
      "\n",
      "AGX93053.1 MDYLTITLGLLFALTFYQGLSYLSRRSKKLPPGPAPLPIIGNLHMLGDQPHKSLAKLSKKHGPIMSLKLGQITTVVVSSSGMAKEVLQKHDLAFSSRSIPNALHAHNQYQFSVVWLPVASRWRSLRKTLNSNIFSGNRLDANQHLRSRKVEELIAYCRKNCQTGEAVDVGRAAFRTSLNLLSNLIFSKDLTDPYSDSAKEFKDLVWNIMVEAGKPNLVDYFPVLEKVDPQGIRRRMTVHFGKVLKLFDGLVNERLEQRRSRGGKNDVLDVLLTNSEENPEEIDRTHIERMCLDLFVAGTDTTSSTLEWAMAEMLKNPDKMKKTQAELAEVIGRGKAIEESDLPRLPYLRCVVKETLRIHPPVPFLIPRRVEQDVEVCGYKVPKGSQVLVNAWTIGRDEAVWEDALAFKPERFLESELDIRGRDFELIPFGAGRRICPGLPLALRTVPLMVGSLLNSFNWKLEGGITPKDLDMEEKFGITLQKAHPLRAVPIPF \n",
      "\n",
      "AGX93051.1 MDYLTIVLGLLFALTLYQGLSSLSRKAKKLPPGPTPLPIIGNLHLLGDQPHKSLAKLAKKHGPLMSLKLGQITTVVVTSSDMAKEVLQKQDLAFSFRSIPDALHAHDQYRYSVVWLPVASRWRSLRKILNSNIFSGNRLDANQHLRLKKVQELVAYCRKNSQVGEAVDVGRAAFRTSLNLLSNTLFSKDLTDPYSDSAKEFKDLVWNIMLEAGKPNLVDFFPVLEKIDPQGIRRRMTIHFGKVLKLFGGLVDERLEQGKSKGGNSDVLDVLLTTSEEAPGEIDRTHIERMCLDLFVAGTDTTSNTLEWAMAEVLRNPEKMKKAKAELAEVIGKGKLVEEADVSRLPYLRCIVKETLRIHPPVPFLIPRRVDQDVEVCGYNVPKGSQVLVNAWAIGRDETVWENALAFKPERFWESELDIRGRDFELIPFGAGRRICPGLPLAVRMVPVMLGSLLNSFDWKLEAGIAPKGLDMEEKFGITLQKAYPLRAVPISL \n",
      "\n",
      "XP_022858342.1 MDFLTIVLGLLFALTLIQAFRSISTRGKNLPPGPTPLPIIGNLHLLGDQPHKSLAKLAKTYGPIMCLRFGSINTVVITSSAMAKEVLQKQDLAFSSRHIPNAIHAHNQFKYSVVWLPVASTWRSLRKILNSNMFSGNRLDANQHLRVRKVQELITYCRKNSQAGEAVDIGRAAFRTSLNLLSNTIFSKDLTDPFSDSAKEFKDLVWNVMVEAGKPNLVDFFPVLEKLDPLGIRRRMTIHFGKIIELFGGLINERLKRRMSDNSKNSDVLDVLLDTSQENPEEIDRVHIERLCLDLFVAGTDTTSSTLEWAMAETLKNPATMKKAKAELEEVIGKGKVLEEADVSRLPYLRCMVKEALRIHPPVPFLIPRRVEQDVEVSGYTVPKNSQVLVNAWAIGRDPTLWENPLEFKPERFMESELDIRGRDFELIPFGAGRRICPGLPLAIRMVPVMLGSLVNSFDWKLEGGISPKDLDMEEKFGITLQKANPLRAVPTPL \n",
      "\n",
      "AGX93055.1 MDYLTIALGLLFALTFYQGLTYLSRRSQKLPPGPLPLPIIGNLHLLGDHPHKSLAKLSKKYGPIMSLKLGRITTLVISSSTTAKEVLQKQDLAFSSRSVPNALHAHNQFQYSVVWLPVASRWRSLRKILNSNIFSGNRLDANQHLRCRKVEELIAYCRKNCQSGEAVDLGRAAFRTSLNLLSNTIFSKDLTDPYSDSAKEFKDLVWNIMVEAGKPNLVDFFPVLEKVDPQGIRRRMTVHFGKVIQLFNGLINERLDKRKSRGGYNDVLDVLLTTTEENPEEIDRTHIERMCLDLFVAGTDTTSSTLEWAMAEMLRNPEKMKKTQEELAEVVGRGKLIEEGDVSRLPYLRCVVKETLRVHPPVPFLIPRKVVQDVEVCGYKVPKGSQVLVNAWAIGRDETFWKDALGFKPERFLESELDTRGRDFELIPFGAGRRICPGLPLANRMVPVMLGSLLNSFNWKLEGGIAPKDLDMEEKFGITLQKAHPLRAVPSPL \n",
      "\n",
      "BAP90522.1 MRILDSEVSKISTETARQTMDYLTIALGLLFALTLIQGWSFLSRRSKKLPPGPTPLPIIGNLHLLGDQPHKSLAKLAKTHGPLMSLKLGQITTLAISSSGMAKEVLQKQDLAFSSRSIPDAIHAHNQFQYSVVWLPVATRWRSLRKILNSNIFSGNRLDANQHLRCRKVQELIAYCRKNCQTGEAVDIGRAAFRTSLNLLSNTIFSKDLTDPYSDSAKEFKDLVWNIMVEAGKPNLVDFFPVLEKFDPQGIRRRMTIHFGKVLEMFGGLINERLDNGKSRGGNNDVLDVLLNASEETPDEIDRTHIERLCLDLFVAGTDTTSNTLEWAMAEMLKTPEKMKKAKAELAEVIGKGKAIEEADVSRLPYLRCIVKETLRLHPPVPFLIPRKVEQDVEVCGYNVPKGTQVLVNAWAIGRDETTWENALEFKPERFLESELDIRGRDFELIPFGAGRRICPGLPLAVRMVPVMLGSLLNSFDWKLGGSIAPKDLDMEEKFGITLQKANPLLAVPISL \n",
      "\n",
      "sp|D1MI46.1|C76BA_SWEMU MDFDFLTIAIGFLFTITLYQALNFFSRKSKNLPPGPSPLPLIGNLHLLGDQPHKSLAKLAKKHGPIMGLQLGQVTTIVVTSSGMAKEVLQKQDLAFSSRSIPNAIHAHDQYKYSVIWLPVASRWRGLRKALNSNMFSGNRLDANQHLRSRKVQELIAYCRKSSQTGDAIDVGRAAFRTSLNLLSNTMFSKDLTDPYSDSAKEFKDLVWNVMVEAGKPNLVDYFPLLDKVDPQGIRKRMTIHFGKILELFGGLIDERLQQKKAKGVNDDVLDVLLTTSEESPEEIDRTHIQRMCLDLFVAGTDTTSSTLEWAMSEMLKNPEKMKAAQAELAQVIGKGKAVEEADLARLPYLRCAIKETLRIHPPVPLLIPRRTEQEVEVCGYTVPKNSQVLVNVWAISRDDAIWKDPLSFKPERFLESELEMRGKDFELIPFGAGRRICPGLPLAVRMVPVMLGSLLNSFDWKLEGGIAPKDLDMEEKFGITLQKAHPLRAVATPL \n",
      "\n",
      "AES93118.1 MDIMDFMSFFIMFFGHLQIVSSPTTAASCKGCKKASTGPKPFPVIGNLLDVVGNQPHKSLANLAKTHGPLMTLKLGQITTVVVSSSTMAKQILQNHDLYFSNRYTRDAIRALNQDQFSVIWLPVVTRWRNLRKILNLYMLSTERLGANQPIRCQKVEELIAYVRQSCQASVSVDIGQAAFRTMINLTSKTIFSVDLADPSSDTAQELKELFWRIMEELGKPNLADYFPVLRKLDPQGIRRRTTIHFAKVFDLFDRMIDQRLELLRSDDCCTGNDLLDSLLNISQNNSDEIDQNQIKRMLMDVFIAATDTTSSTLEWAMTELLRNPETLLKAKAELQQIVGKGKLVEELDIARLPYLQAIVKETFRLHTTVPFLIPRQVDEDVEVCGFTVPKGAQVLVNAWAIGHDPSIWPKPDSFMPERFLESEVDVRGLDFELIPFGGGRRICPGSALALRMLHLMLGSLINSFDWRLEDGIAPNDMDMEEKFGLSLQKARPLLFAPVHI \n",
      "\n",
      "8\n"
     ]
    }
   ],
   "source": [
    "fasta_sequences = SeqIO.parse(open('ConStrain_on_google_colab/Data/Protein_seqs/G8H_CYP_Homolog_seqs.fasta'),'fasta')\n",
    "names = []\n",
    "sequences = []\n",
    "\n",
    "for fasta in fasta_sequences:\n",
    "    name, sequence = fasta.id, str(fasta.seq)\n",
    "    print(name, sequence, '\\n')\n",
    "    sequences.append(str(sequence)+'*')\n",
    "\n",
    "print(len(sequences))"
   ]
  },
  {
   "cell_type": "markdown",
   "id": "5373b8e4-0a3a-4971-85d5-8c0e1bbac6ce",
   "metadata": {
    "id": "5373b8e4-0a3a-4971-85d5-8c0e1bbac6ce",
    "tags": []
   },
   "source": [
    "## 4. Codon optimize it for yeast"
   ]
  },
  {
   "cell_type": "code",
   "execution_count": 42,
   "id": "05755876-e58f-42ba-9995-e8917889a53c",
   "metadata": {},
   "outputs": [],
   "source": [
    "for i in range(len(sequences)):\n",
    "    if '-' in sequences[i]: \n",
    "        pos = sequences[i].find('-')\n",
    "        print(pos)\n",
    "        sequences[i] = sequences[i][0:pos]\n",
    "        "
   ]
  },
  {
   "cell_type": "code",
   "execution_count": 43,
   "id": "4641700f-ad7b-455f-bf3a-fa1740c4e67d",
   "metadata": {},
   "outputs": [
    {
     "data": {
      "text/plain": [
       "['MDYLTIILTLLFALTLYEAFSYLSRRTKNLPPGPSPLPFIGSLHLLGDQPHKSLAKLSKKHGPIMSLKLGQITTIVISSSTMAKEVLQKQDLAFSSRSVPNALHAHNQFKFSVVWLPVASRWRSLRKVLNSNIFSGNRLDANQHLRTRKVQELIAYCRKNSQSGEAVDVGRAAFRTSLNLLSNLIFSKDLTDPYSDSAKEFKDLVWNIMVEAGKPNLVDFFPLLEKVDPQGIRHRMTIHFGEVLKLFGGLVNERLEQRRSKGEKNDVLDVLLTTSQESPEEIDRTHIERMCLDLFVAGTDTTSSTLEWAMSEMLKNPDKMKKTQDELAQVIGRGKTIEESDINRLPYLRCVMKETLRIHPPVPFLIPRKVEQSVEVCGYNVPKGSQVLVNAWAIGRDETVWDDALAFKPERFMESELDIRGRDFELIPFGAGRRICPGLPLALRTVPLMLGSLLNSFNWKLEGGMAPKDLDMEEKFGITLQKAHPLRAVPSTL*',\n",
       " 'MDYLTITLGLLFALTFYQGLSYLSRRSKKLPPGPAPLPIIGNLHMLGDQPHKSLAKLSKKHGPIMSLKLGQITTVVVSSSGMAKEVLQKHDLAFSSRSIPNALHAHNQYQFSVVWLPVASRWRSLRKTLNSNIFSGNRLDANQHLRSRKVEELIAYCRKNCQTGEAVDVGRAAFRTSLNLLSNLIFSKDLTDPYSDSAKEFKDLVWNIMVEAGKPNLVDYFPVLEKVDPQGIRRRMTVHFGKVLKLFDGLVNERLEQRRSRGGKNDVLDVLLTNSEENPEEIDRTHIERMCLDLFVAGTDTTSSTLEWAMAEMLKNPDKMKKTQAELAEVIGRGKAIEESDLPRLPYLRCVVKETLRIHPPVPFLIPRRVEQDVEVCGYKVPKGSQVLVNAWTIGRDEAVWEDALAFKPERFLESELDIRGRDFELIPFGAGRRICPGLPLALRTVPLMVGSLLNSFNWKLEGGITPKDLDMEEKFGITLQKAHPLRAVPIPF*',\n",
       " 'MDYLTIVLGLLFALTLYQGLSSLSRKAKKLPPGPTPLPIIGNLHLLGDQPHKSLAKLAKKHGPLMSLKLGQITTVVVTSSDMAKEVLQKQDLAFSFRSIPDALHAHDQYRYSVVWLPVASRWRSLRKILNSNIFSGNRLDANQHLRLKKVQELVAYCRKNSQVGEAVDVGRAAFRTSLNLLSNTLFSKDLTDPYSDSAKEFKDLVWNIMLEAGKPNLVDFFPVLEKIDPQGIRRRMTIHFGKVLKLFGGLVDERLEQGKSKGGNSDVLDVLLTTSEEAPGEIDRTHIERMCLDLFVAGTDTTSNTLEWAMAEVLRNPEKMKKAKAELAEVIGKGKLVEEADVSRLPYLRCIVKETLRIHPPVPFLIPRRVDQDVEVCGYNVPKGSQVLVNAWAIGRDETVWENALAFKPERFWESELDIRGRDFELIPFGAGRRICPGLPLAVRMVPVMLGSLLNSFDWKLEAGIAPKGLDMEEKFGITLQKAYPLRAVPISL*',\n",
       " 'MDFLTIVLGLLFALTLIQAFRSISTRGKNLPPGPTPLPIIGNLHLLGDQPHKSLAKLAKTYGPIMCLRFGSINTVVITSSAMAKEVLQKQDLAFSSRHIPNAIHAHNQFKYSVVWLPVASTWRSLRKILNSNMFSGNRLDANQHLRVRKVQELITYCRKNSQAGEAVDIGRAAFRTSLNLLSNTIFSKDLTDPFSDSAKEFKDLVWNVMVEAGKPNLVDFFPVLEKLDPLGIRRRMTIHFGKIIELFGGLINERLKRRMSDNSKNSDVLDVLLDTSQENPEEIDRVHIERLCLDLFVAGTDTTSSTLEWAMAETLKNPATMKKAKAELEEVIGKGKVLEEADVSRLPYLRCMVKEALRIHPPVPFLIPRRVEQDVEVSGYTVPKNSQVLVNAWAIGRDPTLWENPLEFKPERFMESELDIRGRDFELIPFGAGRRICPGLPLAIRMVPVMLGSLVNSFDWKLEGGISPKDLDMEEKFGITLQKANPLRAVPTPL*',\n",
       " 'MDYLTIALGLLFALTFYQGLTYLSRRSQKLPPGPLPLPIIGNLHLLGDHPHKSLAKLSKKYGPIMSLKLGRITTLVISSSTTAKEVLQKQDLAFSSRSVPNALHAHNQFQYSVVWLPVASRWRSLRKILNSNIFSGNRLDANQHLRCRKVEELIAYCRKNCQSGEAVDLGRAAFRTSLNLLSNTIFSKDLTDPYSDSAKEFKDLVWNIMVEAGKPNLVDFFPVLEKVDPQGIRRRMTVHFGKVIQLFNGLINERLDKRKSRGGYNDVLDVLLTTTEENPEEIDRTHIERMCLDLFVAGTDTTSSTLEWAMAEMLRNPEKMKKTQEELAEVVGRGKLIEEGDVSRLPYLRCVVKETLRVHPPVPFLIPRKVVQDVEVCGYKVPKGSQVLVNAWAIGRDETFWKDALGFKPERFLESELDTRGRDFELIPFGAGRRICPGLPLANRMVPVMLGSLLNSFNWKLEGGIAPKDLDMEEKFGITLQKAHPLRAVPSPL*',\n",
       " 'MRILDSEVSKISTETARQTMDYLTIALGLLFALTLIQGWSFLSRRSKKLPPGPTPLPIIGNLHLLGDQPHKSLAKLAKTHGPLMSLKLGQITTLAISSSGMAKEVLQKQDLAFSSRSIPDAIHAHNQFQYSVVWLPVATRWRSLRKILNSNIFSGNRLDANQHLRCRKVQELIAYCRKNCQTGEAVDIGRAAFRTSLNLLSNTIFSKDLTDPYSDSAKEFKDLVWNIMVEAGKPNLVDFFPVLEKFDPQGIRRRMTIHFGKVLEMFGGLINERLDNGKSRGGNNDVLDVLLNASEETPDEIDRTHIERLCLDLFVAGTDTTSNTLEWAMAEMLKTPEKMKKAKAELAEVIGKGKAIEEADVSRLPYLRCIVKETLRLHPPVPFLIPRKVEQDVEVCGYNVPKGTQVLVNAWAIGRDETTWENALEFKPERFLESELDIRGRDFELIPFGAGRRICPGLPLAVRMVPVMLGSLLNSFDWKLGGSIAPKDLDMEEKFGITLQKANPLLAVPISL*',\n",
       " 'MDFDFLTIAIGFLFTITLYQALNFFSRKSKNLPPGPSPLPLIGNLHLLGDQPHKSLAKLAKKHGPIMGLQLGQVTTIVVTSSGMAKEVLQKQDLAFSSRSIPNAIHAHDQYKYSVIWLPVASRWRGLRKALNSNMFSGNRLDANQHLRSRKVQELIAYCRKSSQTGDAIDVGRAAFRTSLNLLSNTMFSKDLTDPYSDSAKEFKDLVWNVMVEAGKPNLVDYFPLLDKVDPQGIRKRMTIHFGKILELFGGLIDERLQQKKAKGVNDDVLDVLLTTSEESPEEIDRTHIQRMCLDLFVAGTDTTSSTLEWAMSEMLKNPEKMKAAQAELAQVIGKGKAVEEADLARLPYLRCAIKETLRIHPPVPLLIPRRTEQEVEVCGYTVPKNSQVLVNVWAISRDDAIWKDPLSFKPERFLESELEMRGKDFELIPFGAGRRICPGLPLAVRMVPVMLGSLLNSFDWKLEGGIAPKDLDMEEKFGITLQKAHPLRAVATPL*',\n",
       " 'MDIMDFMSFFIMFFGHLQIVSSPTTAASCKGCKKASTGPKPFPVIGNLLDVVGNQPHKSLANLAKTHGPLMTLKLGQITTVVVSSSTMAKQILQNHDLYFSNRYTRDAIRALNQDQFSVIWLPVVTRWRNLRKILNLYMLSTERLGANQPIRCQKVEELIAYVRQSCQASVSVDIGQAAFRTMINLTSKTIFSVDLADPSSDTAQELKELFWRIMEELGKPNLADYFPVLRKLDPQGIRRRTTIHFAKVFDLFDRMIDQRLELLRSDDCCTGNDLLDSLLNISQNNSDEIDQNQIKRMLMDVFIAATDTTSSTLEWAMTELLRNPETLLKAKAELQQIVGKGKLVEELDIARLPYLQAIVKETFRLHTTVPFLIPRQVDEDVEVCGFTVPKGAQVLVNAWAIGHDPSIWPKPDSFMPERFLESEVDVRGLDFELIPFGGGRRICPGSALALRMLHLMLGSLINSFDWRLEDGIAPNDMDMEEKFGLSLQKARPLLFAPVHI*']"
      ]
     },
     "execution_count": 43,
     "metadata": {},
     "output_type": "execute_result"
    }
   ],
   "source": [
    "sequences"
   ]
  },
  {
   "cell_type": "markdown",
   "id": "0ce7c084-90b9-4d10-9937-49b6122976b7",
   "metadata": {
    "id": "0ce7c084-90b9-4d10-9937-49b6122976b7"
   },
   "source": [
    "We can use DNA chisel to backtranslate the sequences and afterwards codon optimize them. "
   ]
  },
  {
   "cell_type": "code",
   "execution_count": 44,
   "id": "85aa5099-3572-42e8-993f-f866eefe3055",
   "metadata": {
    "id": "85aa5099-3572-42e8-993f-f866eefe3055",
    "outputId": "4a4b8657-c644-429d-b59f-9f7ee7f186e0"
   },
   "outputs": [
    {
     "name": "stdout",
     "output_type": "stream",
     "text": [
      "8\n",
      "ATGGATTATTTAACTATTACTTTAGGTTTATTATTTGCTTTAACTTTTTATCAAGGTTTATCTTATTTATCTCGTCGTTCTAAAAAATTACCTCCTGGTCCTGCTCCTTTACCTATTATTGGTAATTTACATATGTTAGGTGATCAACCTCATAAATCTTTAGCTAAATTATCTAAAAAACATGGTCCTATTATGTCTTTAAAATTAGGTCAAATTACTACTGTTGTTGTTTCTTCTTCTGGTATGGCTAAAGAAGTTTTACAAAAACATGATTTAGCTTTTTCTTCTCGTTCTATTCCTAATGCTTTACATGCTCATAATCAATATCAATTTTCTGTTGTTTGGTTACCTGTTGCTTCTCGTTGGCGTTCTTTACGTAAAACTTTAAATTCTAATATTTTTTCTGGTAATCGTTTAGATGCTAATCAACATTTACGTTCTCGTAAAGTTGAAGAATTAATTGCTTATTGTCGTAAAAATTGTCAAACTGGTGAAGCTGTTGATGTTGGTCGTGCTGCTTTTCGTACTTCTTTAAATTTATTATCTAATTTAATTTTTTCTAAAGATTTAACTGATCCTTATTCTGATTCTGCTAAAGAATTTAAAGATTTAGTTTGGAATATTATGGTTGAAGCTGGTAAACCTAATTTAGTTGATTATTTTCCTGTTTTAGAAAAAGTTGATCCTCAAGGTATTCGTCGTCGTATGACTGTTCATTTTGGTAAAGTTTTAAAATTATTTGATGGTTTAGTTAATGAACGTTTAGAACAACGTCGTTCTCGTGGTGGTAAAAATGATGTTTTAGATGTTTTATTAACTAATTCTGAAGAAAATCCTGAAGAAATTGATCGTACTCATATTGAACGTATGTGTTTAGATTTATTTGTTGCTGGTACTGATACTACTTCTTCTACTTTAGAATGGGCTATGGCTGAAATGTTAAAAAATCCTGATAAAATGAAAAAAACTCAAGCTGAATTAGCTGAAGTTATTGGTCGTGGTAAAGCTATTGAAGAATCTGATTTACCTCGTTTACCTTATTTACGTTGTGTTGTTAAAGAAACTTTACGTATTCATCCTCCTGTTCCTTTTTTAATTCCTCGTCGTGTTGAACAAGATGTTGAAGTTTGTGGTTATAAAGTTCCTAAAGGTTCTCAAGTTTTAGTTAATGCTTGGACTATTGGTCGTGATGAAGCTGTTTGGGAAGATGCTTTAGCTTTTAAACCTGAACGTTTTTTAGAATCTGAATTAGATATTCGTGGTCGTGATTTTGAATTAATTCCTTTTGGTGCTGGTCGTCGTATTTGTCCTGGTTTACCTTTAGCTTTACGTACTGTTCCTTTAATGGTTGGTTCTTTATTAAATTCTTTTAATTGGAAATTAGAAGGTGGTATTACTCCTAAAGATTTAGATATGGAAGAAAAATTTGGTATTACTTTACAAAAAGCTCATCCTTTACGTGCTGTTCCTATTCCTTTTTAA\n"
     ]
    }
   ],
   "source": [
    "from dnachisel.biotools import reverse_translate\n",
    "\n",
    "### First we just make a dummy dna sequece from the protein seq\n",
    "protein_to_dna = []\n",
    "\n",
    "for i in range(0, len(sequences)): \n",
    "    aa_seq = str(sequences[i])\n",
    "    protein_to_dna.append(reverse_translate(aa_seq))\n",
    "print(len(protein_to_dna))\n",
    "print(protein_to_dna[1]) "
   ]
  },
  {
   "cell_type": "markdown",
   "id": "2b61216c-8ea6-43fa-b5ba-275100ff9bab",
   "metadata": {
    "id": "2b61216c-8ea6-43fa-b5ba-275100ff9bab"
   },
   "source": [
    "### 4.1 DNA chisel"
   ]
  },
  {
   "cell_type": "markdown",
   "id": "5ab56c1b-1783-4302-887e-d386e0539d7f",
   "metadata": {
    "id": "5ab56c1b-1783-4302-887e-d386e0539d7f"
   },
   "source": [
    "Here the DNA is codon optimized for s_cerevisiae with DNA chisel"
   ]
  },
  {
   "cell_type": "code",
   "execution_count": 45,
   "id": "9ae9d2d2-d414-4bd1-a6e5-d26baccae50e",
   "metadata": {
    "id": "9ae9d2d2-d414-4bd1-a6e5-d26baccae50e",
    "outputId": "0ec6ac25-2e7d-476c-a610-d05a180de009"
   },
   "outputs": [
    {
     "name": "stderr",
     "output_type": "stream",
     "text": [
      "constraint:   0%|       | 0/1 [00:00<?, ?it/s, now=EnforceGCContent[0-1482](...]\n",
      "location:   0%|                                | 0/20 [00:00<?, ?it/s, now=None]\u001b[A\n",
      "location:   0%|                                | 0/20 [00:00<?, ?it/s, now=0-96]\u001b[A\n",
      "objective:   0%|        | 0/1 [00:00<?, ?it/s, now=MaximizeCAI[0-1482](s_cer...]\u001b[A\n",
      "location:   0%|                               | 0/191 [00:00<?, ?it/s, now=0-96]\u001b[A\n",
      "location:   0%|                                | 0/191 [00:00<?, ?it/s, now=3-6]\u001b[A\n",
      "                                                                                \u001b[A\n",
      "location:   0%|                                | 0/191 [00:00<?, ?it/s, now=3-6]\u001b[A\n",
      "                                                                                \u001b[A\r"
     ]
    },
    {
     "name": "stdout",
     "output_type": "stream",
     "text": [
      "===> SUCCESS - all constraints evaluations pass\n",
      "✔PASS ┍ EnforceGCContent[0-1482](mini:0.30, maxi:0.70, window:50)\n",
      "      │ Passed !\n",
      "\n",
      "\n",
      "===> TOTAL OBJECTIVES SCORE:     -1.64\n",
      "     -1.64 ┍ MaximizeCAI[0-1482](s_cerevisiae) \n",
      "           │ Codon opt. on window 0-1482 scored -1.64E+00\n",
      "\n",
      "\n"
     ]
    },
    {
     "name": "stderr",
     "output_type": "stream",
     "text": [
      "constraint:   0%|       | 0/1 [00:00<?, ?it/s, now=EnforceGCContent[0-1482](...]\n",
      "location:   0%|                                | 0/18 [00:00<?, ?it/s, now=None]\u001b[A\n",
      "location:   0%|                                | 0/18 [00:00<?, ?it/s, now=0-96]\u001b[A\n",
      "objective:   0%|        | 0/1 [00:00<?, ?it/s, now=MaximizeCAI[0-1482](s_cer...]\u001b[A\n",
      "location:   0%|                               | 0/169 [00:00<?, ?it/s, now=0-96]\u001b[A\n",
      "location:   0%|                               | 0/169 [00:00<?, ?it/s, now=9-12]\u001b[A\n",
      "                                                                                \u001b[A\n",
      "location:   0%|                               | 0/169 [00:00<?, ?it/s, now=9-12]\u001b[A\n",
      "                                                                                \u001b[A\r"
     ]
    },
    {
     "name": "stdout",
     "output_type": "stream",
     "text": [
      "===> SUCCESS - all constraints evaluations pass\n",
      "✔PASS ┍ EnforceGCContent[0-1482](mini:0.30, maxi:0.70, window:50)\n",
      "      │ Passed !\n",
      "\n",
      "\n",
      "===> TOTAL OBJECTIVES SCORE:     -2.19\n",
      "     -2.19 ┍ MaximizeCAI[0-1482](s_cerevisiae) \n",
      "           │ Codon opt. on window 0-1482 scored -2.19E+00\n",
      "\n",
      "\n"
     ]
    },
    {
     "name": "stderr",
     "output_type": "stream",
     "text": [
      "constraint:   0%|       | 0/1 [00:00<?, ?it/s, now=EnforceGCContent[0-1482](...]\n",
      "location:   0%|                                | 0/18 [00:00<?, ?it/s, now=None]\u001b[A\n",
      "location:   0%|                                | 0/18 [00:00<?, ?it/s, now=0-96]\u001b[A\n",
      "objective:   0%|        | 0/1 [00:00<?, ?it/s, now=MaximizeCAI[0-1482](s_cer...]\u001b[A\n",
      "location:   0%|                               | 0/163 [00:00<?, ?it/s, now=0-96]\u001b[A\n",
      "location:   0%|                               | 0/163 [00:00<?, ?it/s, now=9-12]\u001b[A\n",
      "                                                                                \u001b[A\n",
      "location:   0%|                               | 0/163 [00:00<?, ?it/s, now=9-12]\u001b[A\n",
      "                                                                                \u001b[A\r"
     ]
    },
    {
     "name": "stdout",
     "output_type": "stream",
     "text": [
      "===> SUCCESS - all constraints evaluations pass\n",
      "✔PASS ┍ EnforceGCContent[0-1482](mini:0.30, maxi:0.70, window:50)\n",
      "      │ Passed !\n",
      "\n",
      "\n",
      "===> TOTAL OBJECTIVES SCORE:     -0.55\n",
      "     -0.55 ┍ MaximizeCAI[0-1482](s_cerevisiae) \n",
      "           │ Codon opt. on window 0-1482 scored -5.47E-01\n",
      "\n",
      "\n"
     ]
    },
    {
     "name": "stderr",
     "output_type": "stream",
     "text": [
      "constraint:   0%|       | 0/1 [00:00<?, ?it/s, now=EnforceGCContent[0-1485](...]\n",
      "location:   0%|                                | 0/21 [00:00<?, ?it/s, now=None]\u001b[A\n",
      "location:   0%|                                | 0/21 [00:00<?, ?it/s, now=0-91]\u001b[A\n",
      "objective:   0%|        | 0/1 [00:00<?, ?it/s, now=MaximizeCAI[0-1485](s_cer...]\u001b[A\n",
      "location:   0%|                               | 0/181 [00:00<?, ?it/s, now=0-91]\u001b[A\n",
      "location:   0%|                                | 0/181 [00:00<?, ?it/s, now=3-6]\u001b[A\n",
      "                                                                                \u001b[A\n",
      "location:   0%|                                | 0/181 [00:00<?, ?it/s, now=3-6]\u001b[A\n",
      "                                                                                \u001b[A\r"
     ]
    },
    {
     "name": "stdout",
     "output_type": "stream",
     "text": [
      "===> SUCCESS - all constraints evaluations pass\n",
      "✔PASS ┍ EnforceGCContent[0-1485](mini:0.30, maxi:0.70, window:50)\n",
      "      │ Passed !\n",
      "\n",
      "\n",
      "===> TOTAL OBJECTIVES SCORE:         0\n",
      "✔        0 ┍ MaximizeCAI[0-1485](s_cerevisiae) \n",
      "           │ Codon opt. on window 0-1485 scored -0.00E+00\n",
      "\n",
      "\n"
     ]
    },
    {
     "name": "stderr",
     "output_type": "stream",
     "text": [
      "constraint:   0%|       | 0/1 [00:00<?, ?it/s, now=EnforceGCContent[0-1482](...]\n",
      "location:   0%|                                | 0/20 [00:00<?, ?it/s, now=None]\u001b[A\n",
      "location:   0%|                                | 0/20 [00:00<?, ?it/s, now=0-94]\u001b[A\n",
      "objective:   0%|        | 0/1 [00:00<?, ?it/s, now=MaximizeCAI[0-1482](s_cer...]\u001b[A\n",
      "location:   0%|                               | 0/160 [00:00<?, ?it/s, now=0-94]\u001b[A\n",
      "location:   0%|                                | 0/160 [00:00<?, ?it/s, now=0-3]\u001b[A\n",
      "                                                                                \u001b[A\n",
      "location:   0%|                                | 0/160 [00:00<?, ?it/s, now=0-3]\u001b[A\n",
      "                                                                                \u001b[A\r"
     ]
    },
    {
     "name": "stdout",
     "output_type": "stream",
     "text": [
      "===> SUCCESS - all constraints evaluations pass\n",
      "✔PASS ┍ EnforceGCContent[0-1482](mini:0.30, maxi:0.70, window:50)\n",
      "      │ Passed !\n",
      "\n",
      "\n",
      "===> TOTAL OBJECTIVES SCORE:         0\n",
      "✔        0 ┍ MaximizeCAI[0-1482](s_cerevisiae) \n",
      "           │ Codon opt. on window 0-1482 scored -0.00E+00\n",
      "\n",
      "\n"
     ]
    },
    {
     "name": "stderr",
     "output_type": "stream",
     "text": [
      "constraint:   0%|       | 0/1 [00:00<?, ?it/s, now=EnforceGCContent[0-1539](...]\n",
      "location:   0%|                                | 0/22 [00:00<?, ?it/s, now=None]\u001b[A\n",
      "location:   0%|                               | 0/22 [00:00<?, ?it/s, now=5-104]\u001b[A\n",
      "objective:   0%|        | 0/1 [00:00<?, ?it/s, now=MaximizeCAI[0-1539](s_cer...]\u001b[A\n",
      "location:   0%|                              | 0/170 [00:00<?, ?it/s, now=5-104]\u001b[A\n",
      "location:   0%|                                | 0/170 [00:00<?, ?it/s, now=3-6]\u001b[A\n",
      "                                                                                \u001b[A\n",
      "location:   0%|                                | 0/170 [00:00<?, ?it/s, now=3-6]\u001b[A\n",
      "                                                                                \u001b[A\r"
     ]
    },
    {
     "name": "stdout",
     "output_type": "stream",
     "text": [
      "===> SUCCESS - all constraints evaluations pass\n",
      "✔PASS ┍ EnforceGCContent[0-1539](mini:0.30, maxi:0.70, window:50)\n",
      "      │ Passed !\n",
      "\n",
      "\n",
      "===> TOTAL OBJECTIVES SCORE:     -1.64\n",
      "     -1.64 ┍ MaximizeCAI[0-1539](s_cerevisiae) \n",
      "           │ Codon opt. on window 0-1539 scored -1.64E+00\n",
      "\n",
      "\n"
     ]
    },
    {
     "name": "stderr",
     "output_type": "stream",
     "text": [
      "constraint:   0%|       | 0/1 [00:00<?, ?it/s, now=EnforceGCContent[0-1488](...]\n",
      "location:   0%|                                | 0/21 [00:00<?, ?it/s, now=None]\u001b[A\n",
      "location:   0%|                                | 0/21 [00:00<?, ?it/s, now=0-99]\u001b[A\n",
      "objective:   0%|        | 0/1 [00:00<?, ?it/s, now=MaximizeCAI[0-1488](s_cer...]\u001b[A\n",
      "location:   0%|                               | 0/167 [00:00<?, ?it/s, now=0-99]\u001b[A\n",
      "location:   0%|                                | 0/167 [00:00<?, ?it/s, now=0-3]\u001b[A\n",
      "                                                                                \u001b[A\n",
      "location:   0%|                                | 0/167 [00:00<?, ?it/s, now=0-3]\u001b[A\n",
      "                                                                                \u001b[A\r"
     ]
    },
    {
     "name": "stdout",
     "output_type": "stream",
     "text": [
      "===> SUCCESS - all constraints evaluations pass\n",
      "✔PASS ┍ EnforceGCContent[0-1488](mini:0.30, maxi:0.70, window:50)\n",
      "      │ Passed !\n",
      "\n",
      "\n",
      "===> TOTAL OBJECTIVES SCORE:     -1.09\n",
      "     -1.09 ┍ MaximizeCAI[0-1488](s_cerevisiae) \n",
      "           │ Codon opt. on window 0-1488 scored -1.09E+00\n",
      "\n",
      "\n"
     ]
    },
    {
     "name": "stderr",
     "output_type": "stream",
     "text": [
      "constraint:   0%|       | 0/1 [00:00<?, ?it/s, now=EnforceGCContent[0-1506](...]\n",
      "location:   0%|                                | 0/21 [00:00<?, ?it/s, now=None]\u001b[A\n",
      "location:   0%|                                | 0/21 [00:00<?, ?it/s, now=0-78]\u001b[A\n",
      "objective:   0%|        | 0/1 [00:00<?, ?it/s, now=MaximizeCAI[0-1506](s_cer...]\u001b[A\n",
      "location:   0%|                               | 0/165 [00:00<?, ?it/s, now=0-78]\u001b[A\n",
      "location:   0%|                                | 0/165 [00:00<?, ?it/s, now=3-6]\u001b[A\n",
      "                                                                                \u001b[A\n",
      "location:   0%|                                | 0/165 [00:00<?, ?it/s, now=3-6]\u001b[A\n",
      "                                                                                \u001b[A"
     ]
    },
    {
     "name": "stdout",
     "output_type": "stream",
     "text": [
      "===> SUCCESS - all constraints evaluations pass\n",
      "✔PASS ┍ EnforceGCContent[0-1506](mini:0.30, maxi:0.70, window:50)\n",
      "      │ Passed !\n",
      "\n",
      "\n",
      "===> TOTAL OBJECTIVES SCORE:     -1.09\n",
      "     -1.09 ┍ MaximizeCAI[0-1506](s_cerevisiae) \n",
      "           │ Codon opt. on window 0-1506 scored -1.09E+00\n",
      "\n",
      "\n"
     ]
    },
    {
     "name": "stderr",
     "output_type": "stream",
     "text": [
      "\r"
     ]
    }
   ],
   "source": [
    "### Using DNA chisel to optimize the pattern: \n",
    "list_of_names = ['CroG8H_tADH1',\n",
    "                'RsepG8H_tADH1',\n",
    "                'CcalG8H_tADH1',\n",
    "                'OeuG8H_tADH1', \n",
    "                'VminG8H_tADH1',\n",
    "                'OpumG8H_tADH1',\n",
    "                'SmusG8H_tADH1',\n",
    "                'CacuG8H_tADH1']\n",
    "\n",
    "\n",
    "\n",
    "from dnachisel import *\n",
    "\n",
    "codon_optimized_seqs = []\n",
    "\n",
    "# DEFINE THE OPTIMIZATION PROBLEM\n",
    "for i in range(0, len(protein_to_dna)):\n",
    "    problem = DnaOptimizationProblem(\n",
    "                                        sequence=protein_to_dna[i], \n",
    "                                        constraints=[EnforceGCContent(mini=0.3, maxi=0.7, window=50)],\n",
    "                                        objectives=[CodonOptimize(species='s_cerevisiae')]\n",
    "                                    )\n",
    "\n",
    "    # SOLVE THE CONSTRAINTS, OPTIMIZE WITH RESPECT TO THE OBJECTIVE\n",
    "    problem.resolve_constraints()\n",
    "    problem.optimize()\n",
    "    \n",
    "    \n",
    "    #\n",
    "    print(problem.constraints_text_summary())\n",
    "    print(problem.objectives_text_summary())\n",
    "\n",
    "    # GET THE FINAL SEQUENCE AS ANNOTATED BIOPYTHON RECORDS)\n",
    "    final_record = problem.to_record(with_sequence_edits=True)\n",
    "    final_record.id = acc_numbers[i]\n",
    "    final_record.name = list_of_names[i]\n",
    "    final_record.description = Names_species[i]\n",
    "    \n",
    "    codon_optimized_seqs.append(final_record)"
   ]
  },
  {
   "cell_type": "code",
   "execution_count": 46,
   "id": "2d955ae8-cf9b-435b-a3f2-c49db89f8043",
   "metadata": {
    "id": "2d955ae8-cf9b-435b-a3f2-c49db89f8043",
    "outputId": "96e036b0-b812-42f8-ac4b-1922c3789057"
   },
   "outputs": [
    {
     "data": {
      "text/plain": [
       "[SeqRecord(seq=Seq('ATGCCATCTTTGACTATTATGAGAGCTTTGTTGCCAGCTTTGACTGTTTCTGAT...TAA'), id='Q8VWZ7', name='CroG8H_tADH1', description='RecName: Full=Geraniol 8-hydroxylase; AltName: Full=Cytochrome P450 76B6; AltName: Full=Geraniol 10-hydroxylase; Short=CrG10H [Catharanthus roseus] >gb|AHA82034.1| geraniol 10-hydroxylase [Catharanthus roseus] >gb|AJO70761.1| geraniol-8-hydroxylase [synthetic construct] >gb|KAI5665891.1| hypothetical protein M9H77_15744 [Catharanthus roseus] >emb|CAC80883.1| geraniol 10-hydroxylase [Catharanthus roseus]', dbxrefs=[]),\n",
       " SeqRecord(seq=Seq('ATGGATTATTTGACTCCAACTCCAGGTTTGTTTGTTGCCTTGACTTTGTATCAA...TAA'), id='AGX93053', name='RsepG8H_tADH1', description='geraniol 10-hydroxylase-like protein [Rauvolfia serpentina]', dbxrefs=[]),\n",
       " SeqRecord(seq=Seq('ATGTATTGTTTGACTCCATATTTGGGTTTGGTTTTTGCTTTGACTACTTATCAA...TAA'), id='AGX93051', name='CcalG8H_tADH1', description='geraniol 10-hydroxylase-like protein [Cinchona calisaya]', dbxrefs=[]),\n",
       " SeqRecord(seq=Seq('TTGGAATTTTTGACTATTGTTTCTGGTTGGCCATTGGCTGTTACTTTGATTCAA...TAA'), id='XP_022858342', name='OeuG8H_tADH1', description='geraniol 8-hydroxylase-like [Olea europaea var. sylvestris]', dbxrefs=[]),\n",
       " SeqRecord(seq=Seq('ATGGAATATTTGACTATGGCTTTGGGTTTGTGGTTTGCTTGGACTTTTTTGCAA...TAA'), id='AGX93055', name='VminG8H_tADH1', description='geraniol 10-hydroxylase-like protein [Vinca minor]', dbxrefs=[]),\n",
       " SeqRecord(seq=Seq('ATGCCAATTTTGGATTCTGAAGTTTCTAAAATTTCTACTGAAACTGCTCCACCA...TAA'), id='BAP90522', name='OpumG8H_tADH1', description='geraniol 10-hydroxylase [Ophiorrhiza pumila]', dbxrefs=[]),\n",
       " SeqRecord(seq=Seq('AATGATGATTAATTGTTGCCAATTCCATTTCCATTTTTGTGGCCAAGAGCTTTG...TAA'), id='D1MI46', name='SmusG8H_tADH1', description='RecName: Full=Geraniol 8-hydroxylase; AltName: Full=Cytochrome P450 76B10; AltName: Full=Geraniol 10-hydroxylase; Short=SmG10H [Swertia mussotii] >gb|ACZ48680.1| geraniol 10-hydroxylase [Swertia mussotii]', dbxrefs=[]),\n",
       " SeqRecord(seq=Seq('ATGGTTGTTCCAGTTTTTATGGCCTGTTTTATTATGTTTGTTGGTCATTTGCAT...TCT'), id='AES93118', name='CacuG8H_tADH1', description='geraniol-10-hydroxylase [Camptotheca acuminata]', dbxrefs=[])]"
      ]
     },
     "execution_count": 46,
     "metadata": {},
     "output_type": "execute_result"
    }
   ],
   "source": [
    "codon_optimized_seqs"
   ]
  },
  {
   "cell_type": "markdown",
   "id": "6bfc449a-a3e9-4743-abf1-90b201071730",
   "metadata": {
    "id": "6bfc449a-a3e9-4743-abf1-90b201071730"
   },
   "source": [
    "Writing the sequences into a fasta_file"
   ]
  },
  {
   "cell_type": "code",
   "execution_count": 47,
   "id": "538de7c6-46f9-4fe0-bb78-43a0ec11184e",
   "metadata": {
    "id": "538de7c6-46f9-4fe0-bb78-43a0ec11184e"
   },
   "outputs": [],
   "source": [
    "with open('ConStrain_on_google_colab/Data/Protein_seqs/G8H_CYP_homologs_codon_optimized.fasta', 'w') as outfile:\n",
    "    for i in range(0, len(codon_optimized_seqs)):\n",
    "        print(codon_optimized_seqs[i].format(\"fasta\"), file = outfile)"
   ]
  },
  {
   "cell_type": "markdown",
   "id": "b82ad541-3cab-443e-99ba-b487f8a145f4",
   "metadata": {
    "id": "b82ad541-3cab-443e-99ba-b487f8a145f4"
   },
   "source": [
    "## 5. CPR BLAST\n",
    "\n",
    "\n",
    "- The CPR was found in the article: De novo production of the plant-derived alkaloid strictosidine in yeast, under suplementary information\n",
    "- From the fasta-file we have the CPR protein sequece and then we can repeat what was done above for finding G8H homologs "
   ]
  },
  {
   "cell_type": "code",
   "execution_count": 48,
   "id": "437cacb4-f1a6-429f-aeb3-46d0876b4a70",
   "metadata": {
    "id": "437cacb4-f1a6-429f-aeb3-46d0876b4a70",
    "outputId": "ebe15e44-ab1e-41fa-cb55-aeeab3ef829f"
   },
   "outputs": [
    {
     "data": {
      "text/plain": [
       "SeqRecord(seq=Seq('MDSSSEKLSPFELMSAILKGAKLDGSNSSDSGVAVSPAVMAMLLENKELVMILT...DVW'), id='sp|Q05001.1|NCPR_CATRO', name='sp|Q05001.1|NCPR_CATRO', description='sp|Q05001.1|NCPR_CATRO RecName: Full=NADPH--cytochrome P450 reductase; Short=CPR; Short=P450R', dbxrefs=[])"
      ]
     },
     "execution_count": 48,
     "metadata": {},
     "output_type": "execute_result"
    }
   ],
   "source": [
    "G8H_CPR = SeqIO.read('ConStrain_on_google_colab/Data/Protein_seqs/Q05001.1.fasta', format=\"fasta\")\n",
    "G8H_CPR"
   ]
  },
  {
   "cell_type": "code",
   "execution_count": 49,
   "id": "1d01776e-9a87-415c-af77-adc0476326ca",
   "metadata": {
    "id": "1d01776e-9a87-415c-af77-adc0476326ca",
    "outputId": "39a9ef24-8f8a-441a-e604-dcbe3064f80b"
   },
   "outputs": [
    {
     "name": "stdout",
     "output_type": "stream",
     "text": [
      "MDSSSEKLSPFELMSAILKGAKLDGSNSSDSGVAVSPAVMAMLLENKELVMILTTSVAVLIGCVVVLIWRRSSGSGKKVVEPPKLIVPKSVVEPEEIDEGKKKFTIFFGTQTGTAEGFAKALAEEAKARYEKAVIKVIDIDDYAADDEEYEEKFRKETLAFFILATYGDGEPTDNAARFYKWFVEGNDRGDWLKNLQYGVFGLGNRQYEHFNKIAKVVDEKVAEQGGKRIVPLVLGDDDQCIEDDFAAWRENVWPELDNLLRDEDDTTVSTTYTAAIPEYRVVFPDKSDSLISEANGHANGYANGNTVYDAQHPCRSNVAVRKELHTPASDRSCTHLDFDIAGTGLSYGTGDHVGVYCDNLSETVEEAERLLNLPPETYFSLHADKEDGTPLAGSSLPPPFPPCTLRTALTRYADLLNTPKKSALLALAAYASDPNEADRLKYLASPAGKDEYAQSLVANQRSLLEVMAEFPSAKPPLGVFFAAIAPRLQPRFYSISSSPRMAPSRIHVTCALVYEKTPGGRIHKGVCSTWMKNAIPLEESRDCSWAPIFVRQSNFKLPADPKVPVIMIGPGTGLAPFRGFLQERLALKEEGAELGTAVFFFGCRNRKMDYIYEDELNHFLEIGALSELLVAFSREGPTKQYVQHKMAEKASDIWRMISDGAYVYVCGDAKGMARDVHRTLHTIAQEQGSMDSTQAEGFVKNLQMTGRYLRDVW\n"
     ]
    }
   ],
   "source": [
    "print(G8H_CPR.seq)"
   ]
  },
  {
   "cell_type": "markdown",
   "id": "2ab61117-e2e1-4a62-9b73-fad67b2f5af5",
   "metadata": {
    "id": "2ab61117-e2e1-4a62-9b73-fad67b2f5af5",
    "tags": []
   },
   "source": [
    "### 5.1 Blasting on NCBI"
   ]
  },
  {
   "cell_type": "markdown",
   "id": "bfc25232-9120-4d49-a9c8-41f595ec2726",
   "metadata": {},
   "source": [
    "Have already done this - if you want to try you can do it again or else move to the next cell were the results are loaded in.\n"
   ]
  },
  {
   "cell_type": "code",
   "execution_count": 55,
   "id": "d775a334-e580-497a-8eea-b67c3e74a553",
   "metadata": {
    "id": "d775a334-e580-497a-8eea-b67c3e74a553",
    "outputId": "94f3217d-63d0-4196-9c81-744350a2b56b"
   },
   "outputs": [
    {
     "name": "stdout",
     "output_type": "stream",
     "text": [
      "CPU times: user 151 ms, sys: 34.8 ms, total: 185 ms\n",
      "Wall time: 2min 3s\n"
     ]
    }
   ],
   "source": [
    "%%time\n",
    "result_handle1 = NCBIWWW.qblast(\"blastp\", \"nr\", sequence = G8H_CPR.seq, hitlist_size=150)\n",
    "#\n",
    "## Writing the results into an XML files so we dont have to blast every time\n",
    "blast_result1 = open(\"ConStrain_on_google_colab/Data/Protein_seqs/G8H_CPR_homologs.xml\", \"w\")\n",
    "blast_result1.write(result_handle1.read())\n",
    "blast_result1.close()\n",
    "result_handle1.close()"
   ]
  },
  {
   "cell_type": "markdown",
   "id": "e2834550-17f5-4552-8036-a5e507a34d28",
   "metadata": {
    "id": "e2834550-17f5-4552-8036-a5e507a34d28"
   },
   "source": [
    "#### 5.1.1 Write the blast onto an XML file "
   ]
  },
  {
   "cell_type": "code",
   "execution_count": 56,
   "id": "de2bae4f-8174-4965-b86c-ece6f35c92e4",
   "metadata": {
    "id": "de2bae4f-8174-4965-b86c-ece6f35c92e4"
   },
   "outputs": [],
   "source": [
    "from Bio.Blast import NCBIXML\n",
    "\n",
    "with open(\"ConStrain_on_google_colab/Data/Protein_seqs/G8H_CPR_homologs.xml\", \"r\") as result_handle1:\n",
    "    blast_record = NCBIXML.read(result_handle1)"
   ]
  },
  {
   "cell_type": "markdown",
   "id": "671d1f6e-3ce3-4e5e-ab7e-5c0b08d00c96",
   "metadata": {
    "id": "671d1f6e-3ce3-4e5e-ab7e-5c0b08d00c96"
   },
   "source": [
    "#### 5.1.2 Filter BLAST results, on E-value, percentage protein identity"
   ]
  },
  {
   "cell_type": "code",
   "execution_count": 52,
   "id": "2bd45481-0fc8-4e1d-8a4e-c53da3edf317",
   "metadata": {
    "id": "2bd45481-0fc8-4e1d-8a4e-c53da3edf317",
    "outputId": "93e723ed-f0fb-4cac-a7f5-ab78a1c4a0c7",
    "tags": []
   },
   "outputs": [
    {
     "name": "stdout",
     "output_type": "stream",
     "text": [
      "\n",
      "TOTAL HOMOLOGS 2527\n"
     ]
    }
   ],
   "source": [
    "E_VALUE_THRESH = 0.04\n",
    "LOWER_PROTEIN_IDENTITY_THRESH = 0.1\n",
    "UPPER__PROTEIN_IDENTITY_THRESH = 0.99999\n",
    "#AA_length_min = 704\n",
    "#AA_length_max = 724\n",
    "Alignments_that_follow_our_criteria1 = []\n",
    "\n",
    "# saving the blast results\n",
    "Names = []\n",
    "Identity = []\n",
    "E_value = []\n",
    "Length = []\n",
    "ACC_number = []\n",
    "\n",
    "counter = 0\n",
    "for alignment in blast_record.alignments:\n",
    "    for hsp in alignment.hsps:\n",
    "        IDENTITY = (hsp.identities/ hsp.align_length)\n",
    "        LENGTH = alignment.length \n",
    "        # We add the added reqirement that the sequence should be +-10 amino acids \n",
    "        if hsp.expect < E_VALUE_THRESH and IDENTITY > LOWER_PROTEIN_IDENTITY_THRESH and IDENTITY < UPPER__PROTEIN_IDENTITY_THRESH:\n",
    "\n",
    "        #if hsp.expect < E_VALUE_THRESH and IDENTITY > LOWER_PROTEIN_IDENTITY_THRESH and IDENTITY < UPPER__PROTEIN_IDENTITY_THRESH and LENGTH > AA_length_min and LENGTH<AA_length_max :\n",
    "            counter += 1            \n",
    "            # Saving into different lists\n",
    "            Alignments_that_follow_our_criteria1.append(alignment)\n",
    "            Names.append(alignment.hit_def)\n",
    "            Identity.append(IDENTITY)\n",
    "            E_value.append(hsp.expect)\n",
    "            Length.append(alignment.length)\n",
    "            ACC_number.append(alignment.accession)\n",
    "            \n",
    "print('\\nTOTAL HOMOLOGS', counter)"
   ]
  },
  {
   "cell_type": "markdown",
   "id": "bfce9d7d-4d6e-4ee4-a595-a8201b6fc489",
   "metadata": {
    "id": "bfce9d7d-4d6e-4ee4-a595-a8201b6fc489"
   },
   "source": [
    "Now we can sort the results in a dataframe "
   ]
  },
  {
   "cell_type": "code",
   "execution_count": null,
   "id": "70bfa4c7-0638-4b09-a2d2-fd22dd2e4e9e",
   "metadata": {
    "id": "70bfa4c7-0638-4b09-a2d2-fd22dd2e4e9e",
    "outputId": "6247050b-b16c-4563-854b-655f6f98d067"
   },
   "outputs": [],
   "source": [
    "data = list(zip(Names,Identity, E_value, Length, ACC_number))\n",
    "df_with_CPR = pd.DataFrame(data, columns=['Name','Identity', 'E_value', 'Length', 'ACC_number'])\n",
    "df_with_CPR = df_with_CPR.sort_values(by=['Identity'])\n",
    "df_with_CPR"
   ]
  },
  {
   "cell_type": "markdown",
   "id": "01e0cf44-e082-432b-ba83-b51af6e3ecf0",
   "metadata": {},
   "source": [
    "Lets add our query "
   ]
  },
  {
   "cell_type": "code",
   "execution_count": null,
   "id": "d1240af1-d951-4002-8cbb-7a286dcaac7b",
   "metadata": {},
   "outputs": [],
   "source": [
    "G8H_CPR.id = 'Q05001'\n",
    "G8H_CPR_dict = {'Name': G8H_CPR.description, 'Identity': 1, 'E_value': 0, 'Length':len(G8H_CPR.seq), 'ACC_number': G8H_CPR.id }\n",
    "CPR_df = pd.DataFrame([G8H_CPR_dict])\n",
    "\n",
    "df_with_CPR = pd.concat([CPR_df, df_with_CPR], ignore_index=True)"
   ]
  },
  {
   "cell_type": "code",
   "execution_count": null,
   "id": "fe5d82a7-e226-474e-bce7-75742d5c37f4",
   "metadata": {},
   "outputs": [],
   "source": [
    "df_with_CPR = df_with_CPR[ df_with_CPR['Length'] > len(G8H_CPR)-100]\n",
    "df_with_CPR = df_with_CPR[ df_with_CPR['Length'] <len(G8H_CPR)+100]\n",
    "len(df_with_CPR)"
   ]
  },
  {
   "cell_type": "markdown",
   "id": "acf383e9-da84-4d52-9124-32cc2dc2694b",
   "metadata": {},
   "source": [
    "#### 5.1.3 Choosing CPRs"
   ]
  },
  {
   "cell_type": "code",
   "execution_count": null,
   "id": "d618e144-82a4-4bca-bfae-902049cd993a",
   "metadata": {},
   "outputs": [],
   "source": [
    "interesting_cprs = ['Q05001','KAI5675352', 'Q1PQK4', 'Q9SB48', 'Q00141' , 'AJW67229', 'XP_022867604', 'A0A0C5DKP2', 'AFX82679', 'QEG78946']\n"
   ]
  },
  {
   "cell_type": "code",
   "execution_count": null,
   "id": "c2a031b7-e0b9-421d-8469-8da5fdb5d620",
   "metadata": {},
   "outputs": [],
   "source": [
    "chosen_cpr_df = df_with_CPR[df_with_CPR['ACC_number'].isin(interesting_cprs)].sort_values(by=['Identity'], ascending=False)\n",
    "chosen_cpr_df"
   ]
  },
  {
   "cell_type": "markdown",
   "id": "52c08c07-9219-41b1-be0f-3b22ea0fb996",
   "metadata": {},
   "source": [
    "From a literature search the following enzymes were found: \n",
    "\n",
    "- Q1PQK4 # Acts as a redox partner for CYP71AV1 found  #https://www.nature.com/articles/nrmicro3240#Sec9\n",
    "- Q00141 # \n",
    "- Q9SB48 #  Found in https://www.ncbi.nlm.nih.gov/pmc/articles/PMC6906673/ \n",
    "- A0A0C5DKP2 # Found in https://www.nature.com/articles/s41586-022-05157-3#Sec23\n",
    "- CAA49446 # # Found in https://www.nature.com/articles/s41586-022-05157-3#Sec23\n",
    "\n",
    "    "
   ]
  },
  {
   "cell_type": "code",
   "execution_count": null,
   "id": "3e765986-2bfb-4067-8ba7-eb17b8f97534",
   "metadata": {},
   "outputs": [],
   "source": [
    "list_of_cprs_from_literature =['Q1PQK4', 'Q00141','Q9SB48', 'A0A0C5DKP2', 'AFX82679']\n",
    "\n",
    "for name in list_of_cprs_from_literature:\n",
    "    listen = [name,np.nan, np.nan,'NaN',name]\n",
    "    chosen_cpr_df.loc[len(chosen_cpr_df)] = listen\n",
    "\n",
    "len(chosen_cpr_df)"
   ]
  },
  {
   "cell_type": "code",
   "execution_count": null,
   "id": "61cbf951-8a3d-4f04-915f-c3a2bfd05990",
   "metadata": {},
   "outputs": [],
   "source": [
    "chosen_cpr_df"
   ]
  },
  {
   "cell_type": "code",
   "execution_count": null,
   "id": "62ab7d55-a4c9-4cc0-95e2-aa3ad669c70e",
   "metadata": {},
   "outputs": [],
   "source": [
    "acc_numbers = chosen_cpr_df['ACC_number'].tolist()\n",
    "acc_numbers"
   ]
  },
  {
   "cell_type": "markdown",
   "id": "33d7e2dc-37a1-4fef-bb34-6ef89cfb7ba4",
   "metadata": {
    "id": "33d7e2dc-37a1-4fef-bb34-6ef89cfb7ba4"
   },
   "source": [
    "We have to narrow it down the search make a library of feasible size. \n",
    "\n",
    "Lets try to sample every 6 from the sorted dataframe. THat way we get CPRs that have different amino acid identities and reduce the number of parts. \n"
   ]
  },
  {
   "cell_type": "code",
   "execution_count": null,
   "id": "760ce464-8b40-4d5c-b010-5285629f4fd7",
   "metadata": {
    "id": "760ce464-8b40-4d5c-b010-5285629f4fd7",
    "outputId": "b12e6fcc-61b2-471f-d5aa-f6f67b712dd7"
   },
   "outputs": [],
   "source": [
    "#rate = 250\n",
    "#subset = df_with_CPR.sort_values(by = 'Identity', ascending = False)[::rate]\n",
    "#print(len(subset))\n",
    "#subset"
   ]
  },
  {
   "cell_type": "code",
   "execution_count": null,
   "id": "ec501c35-aa9d-4bd1-9c9d-0661cf2fb695",
   "metadata": {
    "id": "ec501c35-aa9d-4bd1-9c9d-0661cf2fb695",
    "outputId": "85dfe21a-fd52-435a-cd4c-9bc4543b96b5"
   },
   "outputs": [],
   "source": [
    "#acc_numbers = subset['ACC_number'].tolist()\n",
    "#acc_numbers"
   ]
  },
  {
   "cell_type": "markdown",
   "id": "7c12eaea-99e7-41e3-b920-6118bb23127b",
   "metadata": {
    "id": "7c12eaea-99e7-41e3-b920-6118bb23127b"
   },
   "source": [
    "Now we blast we get all the sequences from the accession numbers"
   ]
  },
  {
   "cell_type": "markdown",
   "id": "5d9d692a-74ce-4bac-8ea7-0982dbe205ba",
   "metadata": {},
   "source": [
    "### 5.2 Retrieve the sequences and write them onto a file"
   ]
  },
  {
   "cell_type": "code",
   "execution_count": null,
   "id": "51979b50-f037-46b5-b7b8-aac788b3f285",
   "metadata": {
    "id": "51979b50-f037-46b5-b7b8-aac788b3f285",
    "outputId": "782da66e-71ec-4d0f-c824-e515dc849c83"
   },
   "outputs": [],
   "source": [
    "%%time\n",
    "\n",
    "email = \"youremail@gmail.com\"\n",
    "\n",
    "out_handle = open('ConStrain_on_google_colab/Data/Protein_seqs/G8H_CPR_homolog_protein_seqs.fasta', \"w\")\n",
    "\n",
    "for i in range(0, len(acc_numbers)):\n",
    "    Entrez.email = email\n",
    "    handle = Entrez.efetch(db=\"protein\", id=acc_numbers[i], rettype=\"fasta\", retmode=\"text\")\n",
    "    \n",
    "    out_handle.write(handle.read())\n",
    "    \n",
    "out_handle.close()"
   ]
  },
  {
   "cell_type": "markdown",
   "id": "8267dd14-3bcf-4bd3-a0c4-65099615e456",
   "metadata": {
    "id": "8267dd14-3bcf-4bd3-a0c4-65099615e456"
   },
   "source": [
    "#### Read in the sequences into variables\n",
    "\n",
    "\n",
    "Now we can parse through the file and get all the AA sequences which we can make to DNA later. "
   ]
  },
  {
   "cell_type": "code",
   "execution_count": null,
   "id": "18476f9d-cbba-4839-9773-6542861ab139",
   "metadata": {
    "id": "18476f9d-cbba-4839-9773-6542861ab139"
   },
   "outputs": [],
   "source": [
    "fasta_sequences = SeqIO.parse(open('ConStrain_on_google_colab/Data/Protein_seqs/G8H_CPR_homolog_protein_seqs.fasta'),'fasta')\n",
    "names = []\n",
    "sequences = []\n",
    "\n",
    "for fasta in fasta_sequences:\n",
    "    name, sequence = fasta.id, str(fasta.seq)\n",
    "    sequences.append(str(sequence)+'*')\n",
    "    "
   ]
  },
  {
   "cell_type": "markdown",
   "id": "ea0b8c07-5fad-49be-ad58-842a301700f5",
   "metadata": {
    "id": "ea0b8c07-5fad-49be-ad58-842a301700f5"
   },
   "source": [
    "### 5.3 Codon optimize it for yeast"
   ]
  },
  {
   "cell_type": "markdown",
   "id": "1bbeb7ac-926e-47bc-987d-e6561f1419e4",
   "metadata": {
    "id": "1bbeb7ac-926e-47bc-987d-e6561f1419e4"
   },
   "source": [
    "We can do the same as before of first making a dummy dna sequence with the use of the synbiopython translation table"
   ]
  },
  {
   "cell_type": "code",
   "execution_count": null,
   "id": "cfbcde92-fb4e-4f60-9a0a-3b3d5bffc8f7",
   "metadata": {
    "id": "cfbcde92-fb4e-4f60-9a0a-3b3d5bffc8f7",
    "outputId": "a261bfab-cbea-4924-bfbb-5b83e9f4c872"
   },
   "outputs": [],
   "source": [
    "### First we just make a dummy dna sequece from the protein seq\n",
    "protein_to_dna = []\n",
    "\n",
    "for i in range(0, len(sequences)): \n",
    "    aa_seq = str(sequences[i])\n",
    "    protein_to_dna.append(reverse_translate(aa_seq))\n",
    "print(len(protein_to_dna))\n",
    "print(protein_to_dna[1]) "
   ]
  },
  {
   "cell_type": "markdown",
   "id": "5331e387-9317-4cc1-aced-abdf03d7bb20",
   "metadata": {
    "id": "5331e387-9317-4cc1-aced-abdf03d7bb20"
   },
   "source": [
    "#### Now for making codon_optimized DNA from our protein sequences:  DNA chisel"
   ]
  },
  {
   "cell_type": "code",
   "execution_count": null,
   "id": "67b8075c-d716-47e0-a603-23904c6ea467",
   "metadata": {
    "id": "67b8075c-d716-47e0-a603-23904c6ea467",
    "outputId": "1839d68f-8f12-4dff-8ddf-469a2be9eee5"
   },
   "outputs": [],
   "source": [
    "### Using DNA chisel to optimize the pattern: \n",
    "\n",
    "from dnachisel import *\n",
    "\n",
    "codon_optimized_seqs1 = []\n",
    "\n",
    "# DEFINE THE OPTIMIZATION PROBLEM\n",
    "for i in range(0, len(protein_to_dna)):\n",
    "    problem = DnaOptimizationProblem(\n",
    "        sequence=protein_to_dna[i], \n",
    "        constraints=[EnforceGCContent(mini=0.3, maxi=0.7)],\n",
    "        objectives=[CodonOptimize(species='s_cerevisiae')]\n",
    "    )\n",
    "\n",
    "    # SOLVE THE CONSTRAINTS, OPTIMIZE WITH RESPECT TO THE OBJECTIVE\n",
    "    problem.resolve_constraints()\n",
    "    problem.optimize()\n",
    "\n",
    "    # GET THE FINAL SEQUENCE AS ANNOTATED BIOPYTHON RECORDS)\n",
    "    final_record = problem.to_record(with_sequence_edits=True)\n",
    "    final_record.id = acc_numbers[i]\n",
    "    final_record.name = 'G8H_CPR {}'.format(i)\n",
    "    final_record.description = Names_species[i]\n",
    "    \n",
    "    codon_optimized_seqs1.append(final_record)"
   ]
  },
  {
   "cell_type": "code",
   "execution_count": null,
   "id": "08be6fa3-4493-4b41-90de-18b6b625e458",
   "metadata": {
    "id": "08be6fa3-4493-4b41-90de-18b6b625e458",
    "outputId": "5b7c7cb7-726e-4be5-a1b3-9cbc5ad2a7e4"
   },
   "outputs": [],
   "source": [
    "codon_optimized_seqs1"
   ]
  },
  {
   "cell_type": "markdown",
   "id": "b5bdce6b-9b5e-418f-b477-9e0143db6b51",
   "metadata": {
    "id": "b5bdce6b-9b5e-418f-b477-9e0143db6b51"
   },
   "source": [
    "Writing the sequences into a fasta_file"
   ]
  },
  {
   "cell_type": "code",
   "execution_count": null,
   "id": "f3573d97-675c-4bbe-827c-91e4127cd7d2",
   "metadata": {
    "id": "f3573d97-675c-4bbe-827c-91e4127cd7d2"
   },
   "outputs": [],
   "source": [
    "with open('ConStrain_on_google_colab/Data/Protein_seqs/G8H_CPR_homologs_codon_optimized.fasta', 'w') as outfile:\n",
    "    for i in range(0, len(codon_optimized_seqs1)):\n",
    "        print(codon_optimized_seqs1[i].format(\"fasta\"), file = outfile)"
   ]
  },
  {
   "cell_type": "markdown",
   "id": "558c27d2-f283-43e3-bb31-0296ecb00d68",
   "metadata": {},
   "source": [
    "## 5. -  ONE-KB Plant database BLAST"
   ]
  },
  {
   "cell_type": "markdown",
   "id": "908a4ceb-e840-4943-aa4d-1a76602a968d",
   "metadata": {
    "id": "3f41bcd6-e970-4d25-8aed-3fbcaf1e7387",
    "tags": []
   },
   "source": [
    "<!-- My_api_key:\n",
    "\n",
    "4772e3e5-57ce-4b75-a3a8-06c49a2e202d -->"
   ]
  },
  {
   "cell_type": "markdown",
   "id": "52447ee3-30ed-43f5-852c-29c934ea08d5",
   "metadata": {},
   "source": [
    "### 5.1 Importing the results from 1 kb"
   ]
  },
  {
   "cell_type": "code",
   "execution_count": null,
   "id": "d17a4181-2b98-4a0b-8fc5-4135df6ac7ef",
   "metadata": {},
   "outputs": [],
   "source": [
    "import pandas as pd"
   ]
  },
  {
   "cell_type": "markdown",
   "id": "8095c0c5-73a5-4eca-b7b5-d2a212ec91d8",
   "metadata": {},
   "source": [
    "We can do a search on 1kb \n",
    "**Interesting organisms:** \n",
    "\n",
    "Catharanthus raseus\n",
    "\n",
    "Rauvalfia serpentina\n",
    "\n",
    "Olea eurapaea\n",
    "\n",
    "Camptatheca acuminata\n",
    "\n",
    "Vinca minar\n",
    "\n",
    "Cinchana calisaya\n",
    "\n",
    "Ophiarrhiza pumila\n",
    "\n",
    "\n",
    "Swertia mussatii\n",
    "\n",
    "Artemisia annua \n",
    "\n",
    "Arabidopsis thaliana\n",
    "\n",
    "Catharanthus langifalius\n",
    "\n",
    "Amsania hubrichtii \n",
    "\n",
    "- non-plants\n",
    "\n",
    "Chrysamela papuli\n",
    "\n",
    "Aspergillus niger\n"
   ]
  },
  {
   "cell_type": "code",
   "execution_count": null,
   "id": "96b7679b-48f6-4ab5-9282-6e9af1017ec2",
   "metadata": {},
   "outputs": [],
   "source": [
    "#ZwayQgpYDmtHyLK5\n",
    "#PWF5MET7016 "
   ]
  },
  {
   "cell_type": "code",
   "execution_count": null,
   "id": "50e47647-4e11-4e29-b52b-9b4506c4c80d",
   "metadata": {},
   "outputs": [],
   "source": [
    "g8h_1kb = pd.read_table('ConStrain_on_google_colab/Data/one_kb_protein_sequences/One_KB_G8H_tabular.txt')\n",
    "cpr_1kb = pd.read_table('ConStrain_on_google_colab/Data/one_kb_protein_sequences/One_KB_CPR_tabular.txt')\n",
    "\n",
    "\n",
    "# Sorting the data: \n",
    "g8h_1kb = g8h_1kb.sort_values(by='Percentage of identical matches', ascending=False )\n",
    "cpr_1kb = cpr_1kb.sort_values(by='Percentage of identical matches' , ascending=False)\n",
    "#list_of_g8h = g8h_1kb['']\n",
    "g8h_1kb"
   ]
  },
  {
   "cell_type": "code",
   "execution_count": null,
   "id": "54a23403-d070-432b-935a-d11d04f6878d",
   "metadata": {},
   "outputs": [],
   "source": [
    "list_of_species_names = ['Catharanthus roseus', 'Rauvolfia serpentina','Olea europaea', 'Camptotheca acuminata', 'Vinca minor', \n",
    "                         'Cinchona calisaya', 'Ophiorrhiza pumila', 'Swertia mussatii', 'Artemisia annua', 'Arabidopsis thaliana', \n",
    "                        'Catharanthus longifolius','Amsonia hubrichtii' , 'Chrysomela populi', 'Aspergillus niger']"
   ]
  },
  {
   "cell_type": "code",
   "execution_count": null,
   "id": "41de9412-3525-4468-a676-b66074f62c79",
   "metadata": {},
   "outputs": [],
   "source": [
    "df1 = g8h_1kb[g8h_1kb['Subject Scientific Name'].isin(list_of_species_names)]\n",
    "df1"
   ]
  },
  {
   "cell_type": "markdown",
   "id": "834ebf6f-fcf5-463a-8cc3-83ec3c3332dd",
   "metadata": {},
   "source": [
    "Lets investigate the second option gnl|onekp|TORX_scaffold_2008758"
   ]
  },
  {
   "cell_type": "code",
   "execution_count": null,
   "id": "25234940-1c79-47ca-ad12-c4fe3ea15536",
   "metadata": {},
   "outputs": [],
   "source": [
    "G8H_sites =[]\n",
    "for seq_record in SeqIO.parse('ConStrain_on_google_colab/Data/one_kb_protein_sequences/One_KB_G8H.fasta', format= 'fasta'):\n",
    "    G8H_sites.append(seq_record)\n",
    "\n",
    "\n",
    "for name in G8H_sites: \n",
    "    if name.name == 'gnl|onekp|TORX_scaffold_2013179': \n",
    "        G8H_2008758 = name\n",
    "\n",
    "print(G8H_2008758.seq)"
   ]
  },
  {
   "cell_type": "code",
   "execution_count": null,
   "id": "b54fc72c-45b2-43dc-b918-73001b8dfe05",
   "metadata": {},
   "outputs": [],
   "source": [
    "\n",
    "df2 = cpr_1kb[cpr_1kb['Subject Scientific Name'].isin(list_of_species_names)]\n",
    "df2"
   ]
  },
  {
   "cell_type": "code",
   "execution_count": null,
   "id": "77d88f93-d53f-4485-aa0d-09573f1c368b",
   "metadata": {},
   "outputs": [],
   "source": [
    "\n",
    "g8h_1kb_cro = g8h_1kb[g8h_1kb['Subject Scientific Name'] == 'Vinca minor' ]\n",
    "g8h_1kb_cro"
   ]
  },
  {
   "cell_type": "markdown",
   "id": "f7ef5c6f-48b8-4847-9c8e-dab6b536ccda",
   "metadata": {},
   "source": [
    "### 5.2 Phylogenetic tree"
   ]
  },
  {
   "cell_type": "code",
   "execution_count": null,
   "id": "254a45dc-1430-4839-8e5f-c259fbd619b3",
   "metadata": {},
   "outputs": [],
   "source": []
  },
  {
   "cell_type": "code",
   "execution_count": null,
   "id": "cc8110ea-e5c5-4979-a8b6-1ee47577f4a4",
   "metadata": {},
   "outputs": [],
   "source": [
    "import Bio as Bio \n",
    "from Bio import AlignIO\n",
    "\n",
    "with open(\"ConStrain_on_google_colab/G8H_CPR_homologs_TRANSLATED.fasta\",\"r\") as aln: \n",
    "    alignment = AlignIO.read(aln,\"clustal\")\n",
    "print(type(alignment))"
   ]
  },
  {
   "cell_type": "code",
   "execution_count": null,
   "id": "84981986-dd5b-4779-bd71-69ca43dc3bc8",
   "metadata": {},
   "outputs": [],
   "source": [
    "# Read the sequences and align\n",
    "align = AlignIO.read('/Users/lucaslevassor/Desktop/g8h_cpr_alignment.aln.clw','phylip')\n",
    "print(align)"
   ]
  },
  {
   "cell_type": "markdown",
   "id": "aaa48da7-1b70-416e-a519-12a501c0f85f",
   "metadata": {},
   "source": [
    "### 5.3 Codon optimizing"
   ]
  },
  {
   "cell_type": "code",
   "execution_count": null,
   "id": "891ee660-a328-4e4a-b8e3-1d02e50d2371",
   "metadata": {},
   "outputs": [],
   "source": []
  },
  {
   "cell_type": "markdown",
   "id": "944ba6c8-1dac-4230-b1dd-896da79c1ac6",
   "metadata": {
    "id": "944ba6c8-1dac-4230-b1dd-896da79c1ac6",
    "tags": []
   },
   "source": [
    "## 6. Homology analysis\n",
    "\n",
    "### Does the the G8G_CYP and G8H_CPR share too much homology? "
   ]
  },
  {
   "cell_type": "code",
   "execution_count": null,
   "id": "ef9534f1-1c95-4d6a-81f9-819753fdf2ab",
   "metadata": {},
   "outputs": [],
   "source": []
  },
  {
   "cell_type": "markdown",
   "id": "5499731a-cd24-4f14-9acf-3c3252a807b7",
   "metadata": {
    "id": "5499731a-cd24-4f14-9acf-3c3252a807b7"
   },
   "source": [
    "One way to figure this out is to use the Clustal Omega online tool: https://www.ebi.ac.uk/Tools/msa/clustalo/\n",
    "\n",
    "1. Upload fasta file with all sequences\n",
    "2. THis was done and a lot of homology was found between the G8H CPR and CYP. This information can be found in the files folder\n"
   ]
  },
  {
   "cell_type": "markdown",
   "id": "a7a0f1c1-51fb-4688-98f0-17409d1d60ad",
   "metadata": {
    "id": "a7a0f1c1-51fb-4688-98f0-17409d1d60ad"
   },
   "source": [
    "We can present the result visually as a phylogenetic tree as shown below."
   ]
  },
  {
   "cell_type": "code",
   "execution_count": null,
   "id": "52272d46-3058-4704-a387-635ddfd93371",
   "metadata": {
    "id": "52272d46-3058-4704-a387-635ddfd93371",
    "outputId": "ab21ecea-1863-4946-ba91-b2402df8e864"
   },
   "outputs": [],
   "source": [
    "display.Image('ConStrain_on_google_colab/pictures/PHYLO_G8H_CYP_CPR.png')"
   ]
  },
  {
   "cell_type": "markdown",
   "id": "1d2d5620-51c4-419e-be53-596b81f9af87",
   "metadata": {
    "id": "1d2d5620-51c4-419e-be53-596b81f9af87"
   },
   "source": [
    "Here it is clear that the CYPs and CPRs are clustered into their own clades. However, when looking closely at the clustal omega file there are found streches of DNA that show homology which could be a problem for integration. \n",
    "\n",
    "This problem could be alliviated by:\n",
    "1. Integrateting the CYPs and CPRs seperately in different genomic locations. \n",
    "2. Changing the parameters of the Codon optimization in either the CYP step or the CPR step, or constraing DNA chisel to avoid the same sequences. DNA chisel has the UniquifyAllKmers to do this. "
   ]
  },
  {
   "cell_type": "markdown",
   "id": "99a4fcb6-a576-42bd-9332-6d6473c6041e",
   "metadata": {
    "id": "99a4fcb6-a576-42bd-9332-6d6473c6041e"
   },
   "source": [
    "## 7. Conclusion \n",
    "\n",
    "- 8 G8H CYPs were found and codon-optimized\n",
    "- 8 CPRs were found and codon-optimized"
   ]
  },
  {
   "cell_type": "markdown",
   "id": "ae9b73b5-9370-4d11-8977-3dd38b841cc3",
   "metadata": {
    "id": "ae9b73b5-9370-4d11-8977-3dd38b841cc3",
    "tags": []
   },
   "source": [
    "## References: \n",
    "    \n",
    "    \n",
    "    "
   ]
  },
  {
   "cell_type": "markdown",
   "id": "d0dca30a-1683-4afb-8aaf-0ecc928c2e6a",
   "metadata": {
    "id": "d0dca30a-1683-4afb-8aaf-0ecc928c2e6a"
   },
   "source": [
    "Brown, S., Clastre, M., Courdavault, V. and O’Connor, S., 2015. De novo production of the plant-derived alkaloid strictosidine in yeast. Proceedings of the National Academy of Sciences, 112(11), pp.3205-3210."
   ]
  }
 ],
 "metadata": {
  "colab": {
   "include_colab_link": true,
   "provenance": []
  },
  "kernelspec": {
   "display_name": "Python 3 (ipykernel)",
   "language": "python",
   "name": "python3"
  },
  "language_info": {
   "codemirror_mode": {
    "name": "ipython",
    "version": 3
   },
   "file_extension": ".py",
   "mimetype": "text/x-python",
   "name": "python",
   "nbconvert_exporter": "python",
   "pygments_lexer": "ipython3",
   "version": "3.8.13"
  }
 },
 "nbformat": 4,
 "nbformat_minor": 5
}
