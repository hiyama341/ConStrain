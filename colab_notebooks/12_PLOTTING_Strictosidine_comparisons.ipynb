{
 "cells": [
  {
   "cell_type": "code",
   "execution_count": 1,
   "id": "112af712-0e2f-4866-9745-5217c81eca22",
   "metadata": {},
   "outputs": [],
   "source": [
    "import pandas as pd"
   ]
  },
  {
   "cell_type": "code",
   "execution_count": 2,
   "id": "e8ba2d11-3d0e-4f5f-a10a-3bb6c9c453aa",
   "metadata": {},
   "outputs": [],
   "source": [
    "# Christines data: "
   ]
  },
  {
   "cell_type": "markdown",
   "id": "dfe9858c-ab59-404e-8625-27078b613584",
   "metadata": {
    "tags": []
   },
   "source": [
    "## All the genotypes"
   ]
  },
  {
   "cell_type": "code",
   "execution_count": 3,
   "id": "9d418dae-4c06-41f3-ace1-8662cc4f9d43",
   "metadata": {},
   "outputs": [
    {
     "data": {
      "text/plain": [
       "1280"
      ]
     },
     "execution_count": 3,
     "metadata": {},
     "output_type": "execute_result"
    }
   ],
   "source": [
    "#ConStrain/colab_notebooks/ConStrain_on_google_colab/Data/AutoML/systematic_names_on_all_combinations.csv\n",
    "all_genotypes = pd.read_csv('ConStrain_on_google_colab/Data/AutoML/systematic_names_on_all_combinations.csv',)\n",
    "all_genotypes =all_genotypes[['0','1','2','3']]\n",
    "len(all_genotypes)"
   ]
  },
  {
   "cell_type": "markdown",
   "id": "6bdc3e3c-26c0-457b-9675-66afe5462312",
   "metadata": {},
   "source": [
    "### Strains made in first DBTL round (with re-sequenced strains)"
   ]
  },
  {
   "cell_type": "code",
   "execution_count": 4,
   "id": "f5df95bf-dbc3-468d-b011-0653af4e7f7f",
   "metadata": {},
   "outputs": [
    {
     "data": {
      "text/plain": [
       "166"
      ]
     },
     "execution_count": 4,
     "metadata": {},
     "output_type": "execute_result"
    }
   ],
   "source": [
    "first_round = pd.read_csv('ConStrain_on_google_colab/Data/AutoML/input_for_ml_reseq.csv',)\n",
    "first_round = first_round[['0','1','2','3']]\n",
    "len(first_round) # beware there are 8 duplicates here"
   ]
  },
  {
   "cell_type": "code",
   "execution_count": 5,
   "id": "b4c91efa-93d4-4416-b341-3e22f7d2c643",
   "metadata": {},
   "outputs": [
    {
     "name": "stdout",
     "output_type": "stream",
     "text": [
      "Unique genotypes from 1st round : 158\n",
      "Number of duplicates :  8\n"
     ]
    },
    {
     "data": {
      "text/html": [
       "<div>\n",
       "<style scoped>\n",
       "    .dataframe tbody tr th:only-of-type {\n",
       "        vertical-align: middle;\n",
       "    }\n",
       "\n",
       "    .dataframe tbody tr th {\n",
       "        vertical-align: top;\n",
       "    }\n",
       "\n",
       "    .dataframe thead th {\n",
       "        text-align: right;\n",
       "    }\n",
       "</style>\n",
       "<table border=\"1\" class=\"dataframe\">\n",
       "  <thead>\n",
       "    <tr style=\"text-align: right;\">\n",
       "      <th></th>\n",
       "      <th>0</th>\n",
       "      <th>1</th>\n",
       "      <th>2</th>\n",
       "      <th>3</th>\n",
       "    </tr>\n",
       "  </thead>\n",
       "  <tbody>\n",
       "    <tr>\n",
       "      <th>13</th>\n",
       "      <td>1</td>\n",
       "      <td>1</td>\n",
       "      <td>8</td>\n",
       "      <td>8</td>\n",
       "    </tr>\n",
       "    <tr>\n",
       "      <th>42</th>\n",
       "      <td>3</td>\n",
       "      <td>2</td>\n",
       "      <td>6</td>\n",
       "      <td>2</td>\n",
       "    </tr>\n",
       "    <tr>\n",
       "      <th>71</th>\n",
       "      <td>4</td>\n",
       "      <td>3</td>\n",
       "      <td>8</td>\n",
       "      <td>6</td>\n",
       "    </tr>\n",
       "    <tr>\n",
       "      <th>82</th>\n",
       "      <td>5</td>\n",
       "      <td>4</td>\n",
       "      <td>6</td>\n",
       "      <td>1</td>\n",
       "    </tr>\n",
       "    <tr>\n",
       "      <th>86</th>\n",
       "      <td>5</td>\n",
       "      <td>4</td>\n",
       "      <td>5</td>\n",
       "      <td>3</td>\n",
       "    </tr>\n",
       "    <tr>\n",
       "      <th>90</th>\n",
       "      <td>5</td>\n",
       "      <td>2</td>\n",
       "      <td>8</td>\n",
       "      <td>4</td>\n",
       "    </tr>\n",
       "    <tr>\n",
       "      <th>94</th>\n",
       "      <td>5</td>\n",
       "      <td>4</td>\n",
       "      <td>8</td>\n",
       "      <td>6</td>\n",
       "    </tr>\n",
       "    <tr>\n",
       "      <th>106</th>\n",
       "      <td>6</td>\n",
       "      <td>1</td>\n",
       "      <td>8</td>\n",
       "      <td>2</td>\n",
       "    </tr>\n",
       "  </tbody>\n",
       "</table>\n",
       "</div>"
      ],
      "text/plain": [
       "     0  1  2  3\n",
       "13   1  1  8  8\n",
       "42   3  2  6  2\n",
       "71   4  3  8  6\n",
       "82   5  4  6  1\n",
       "86   5  4  5  3\n",
       "90   5  2  8  4\n",
       "94   5  4  8  6\n",
       "106  6  1  8  2"
      ]
     },
     "execution_count": 5,
     "metadata": {},
     "output_type": "execute_result"
    }
   ],
   "source": [
    "# Are there any duplicated \n",
    "duplicateRows = first_round[first_round.duplicated(['0','1','2','3'])]\n",
    "print('Unique genotypes from 1st round :', len(first_round) -len(duplicateRows))\n",
    "print('Number of duplicates : ',abs(len(duplicateRows)) )\n",
    "duplicateRows"
   ]
  },
  {
   "cell_type": "code",
   "execution_count": 6,
   "id": "4680c7be-c9b3-4738-a1c8-e1b94b3bdc97",
   "metadata": {},
   "outputs": [
    {
     "data": {
      "text/html": [
       "<div>\n",
       "<style scoped>\n",
       "    .dataframe tbody tr th:only-of-type {\n",
       "        vertical-align: middle;\n",
       "    }\n",
       "\n",
       "    .dataframe tbody tr th {\n",
       "        vertical-align: top;\n",
       "    }\n",
       "\n",
       "    .dataframe thead th {\n",
       "        text-align: right;\n",
       "    }\n",
       "</style>\n",
       "<table border=\"1\" class=\"dataframe\">\n",
       "  <thead>\n",
       "    <tr style=\"text-align: right;\">\n",
       "      <th></th>\n",
       "      <th>0</th>\n",
       "      <th>1</th>\n",
       "      <th>2</th>\n",
       "      <th>3</th>\n",
       "    </tr>\n",
       "  </thead>\n",
       "  <tbody>\n",
       "    <tr>\n",
       "      <th>0</th>\n",
       "      <td>1</td>\n",
       "      <td>1</td>\n",
       "      <td>5</td>\n",
       "      <td>1</td>\n",
       "    </tr>\n",
       "    <tr>\n",
       "      <th>1</th>\n",
       "      <td>1</td>\n",
       "      <td>1</td>\n",
       "      <td>5</td>\n",
       "      <td>2</td>\n",
       "    </tr>\n",
       "    <tr>\n",
       "      <th>3</th>\n",
       "      <td>1</td>\n",
       "      <td>1</td>\n",
       "      <td>5</td>\n",
       "      <td>4</td>\n",
       "    </tr>\n",
       "    <tr>\n",
       "      <th>4</th>\n",
       "      <td>1</td>\n",
       "      <td>1</td>\n",
       "      <td>5</td>\n",
       "      <td>5</td>\n",
       "    </tr>\n",
       "    <tr>\n",
       "      <th>6</th>\n",
       "      <td>1</td>\n",
       "      <td>1</td>\n",
       "      <td>5</td>\n",
       "      <td>7</td>\n",
       "    </tr>\n",
       "    <tr>\n",
       "      <th>...</th>\n",
       "      <td>...</td>\n",
       "      <td>...</td>\n",
       "      <td>...</td>\n",
       "      <td>...</td>\n",
       "    </tr>\n",
       "    <tr>\n",
       "      <th>1275</th>\n",
       "      <td>8</td>\n",
       "      <td>4</td>\n",
       "      <td>8</td>\n",
       "      <td>6</td>\n",
       "    </tr>\n",
       "    <tr>\n",
       "      <th>1276</th>\n",
       "      <td>8</td>\n",
       "      <td>4</td>\n",
       "      <td>8</td>\n",
       "      <td>7</td>\n",
       "    </tr>\n",
       "    <tr>\n",
       "      <th>1277</th>\n",
       "      <td>8</td>\n",
       "      <td>4</td>\n",
       "      <td>8</td>\n",
       "      <td>8</td>\n",
       "    </tr>\n",
       "    <tr>\n",
       "      <th>1278</th>\n",
       "      <td>8</td>\n",
       "      <td>4</td>\n",
       "      <td>8</td>\n",
       "      <td>9</td>\n",
       "    </tr>\n",
       "    <tr>\n",
       "      <th>1279</th>\n",
       "      <td>8</td>\n",
       "      <td>4</td>\n",
       "      <td>8</td>\n",
       "      <td>10</td>\n",
       "    </tr>\n",
       "  </tbody>\n",
       "</table>\n",
       "<p>1122 rows × 4 columns</p>\n",
       "</div>"
      ],
      "text/plain": [
       "      0  1  2   3\n",
       "0     1  1  5   1\n",
       "1     1  1  5   2\n",
       "3     1  1  5   4\n",
       "4     1  1  5   5\n",
       "6     1  1  5   7\n",
       "...  .. .. ..  ..\n",
       "1275  8  4  8   6\n",
       "1276  8  4  8   7\n",
       "1277  8  4  8   8\n",
       "1278  8  4  8   9\n",
       "1279  8  4  8  10\n",
       "\n",
       "[1122 rows x 4 columns]"
      ]
     },
     "execution_count": 6,
     "metadata": {},
     "output_type": "execute_result"
    }
   ],
   "source": [
    "df_diff = all_genotypes[~all_genotypes.apply(tuple,1).isin(first_round.apply(tuple,1))]\n",
    "df_diff"
   ]
  },
  {
   "cell_type": "code",
   "execution_count": 7,
   "id": "ca385645-f3a8-4046-81e4-73bded75c7a8",
   "metadata": {},
   "outputs": [
    {
     "data": {
      "text/plain": [
       "127"
      ]
     },
     "execution_count": 7,
     "metadata": {},
     "output_type": "execute_result"
    }
   ],
   "source": [
    "second_round = pd.read_csv('ConStrain_on_google_colab/Data/AutoML/input_for_ml_2nd_iteration.csv')\n",
    "second_round = second_round[['0','1','2','3']]\n",
    "len(second_round) # beware there are 8 duplicates here"
   ]
  },
  {
   "cell_type": "code",
   "execution_count": 8,
   "id": "95357fac-4723-4036-9840-dd5510474257",
   "metadata": {},
   "outputs": [
    {
     "data": {
      "text/plain": [
       "43"
      ]
     },
     "execution_count": 8,
     "metadata": {},
     "output_type": "execute_result"
    }
   ],
   "source": [
    "# Are there any duplicated - \n",
    "duplicateRows = second_round[second_round.duplicated(['0','1','2','3'])]\n",
    "len(duplicateRows)"
   ]
  },
  {
   "cell_type": "markdown",
   "id": "0c086498-0ef8-418d-a113-d01c317d5978",
   "metadata": {},
   "source": [
    "The same 43 genotypes are sampled twice, lets remove them"
   ]
  },
  {
   "cell_type": "code",
   "execution_count": 9,
   "id": "a4077096-598a-4190-aac4-3479ed9dfc74",
   "metadata": {},
   "outputs": [
    {
     "name": "stdout",
     "output_type": "stream",
     "text": [
      "Unique rows from second iterations :  84\n"
     ]
    }
   ],
   "source": [
    "print('Unique rows from second iterations : ', len(second_round)-len(duplicateRows))"
   ]
  },
  {
   "cell_type": "code",
   "execution_count": 10,
   "id": "95d6bb5e-cb8a-45b4-a6c5-94a27831adb8",
   "metadata": {},
   "outputs": [],
   "source": [
    "second_round = second_round.drop_duplicates()"
   ]
  },
  {
   "cell_type": "code",
   "execution_count": 11,
   "id": "a10613bc-3965-4af6-9122-4342f1fd8c3c",
   "metadata": {},
   "outputs": [
    {
     "data": {
      "text/plain": [
       "73"
      ]
     },
     "execution_count": 11,
     "metadata": {},
     "output_type": "execute_result"
    }
   ],
   "source": [
    "# How many new combinations are seen between round 1 and round 2?\n",
    "df_diff_between_first_and_second = second_round[~second_round.apply(tuple,1).isin(first_round.apply(tuple,1))]\n",
    "len(df_diff_between_first_and_second)"
   ]
  },
  {
   "cell_type": "code",
   "execution_count": 12,
   "id": "df998bc5-787c-4bc4-8154-c044ce9ada89",
   "metadata": {},
   "outputs": [
    {
     "data": {
      "text/plain": [
       "231"
      ]
     },
     "execution_count": 12,
     "metadata": {},
     "output_type": "execute_result"
    }
   ],
   "source": [
    "158+73"
   ]
  },
  {
   "cell_type": "markdown",
   "id": "dfaadbf9-827e-4507-b36c-5af8cf50ffb9",
   "metadata": {},
   "source": [
    "We see 231 new combinations"
   ]
  },
  {
   "cell_type": "code",
   "execution_count": 13,
   "id": "2cfffcf0-29c2-4c15-894f-2f35d5c7696e",
   "metadata": {},
   "outputs": [
    {
     "data": {
      "text/html": [
       "<div>\n",
       "<style scoped>\n",
       "    .dataframe tbody tr th:only-of-type {\n",
       "        vertical-align: middle;\n",
       "    }\n",
       "\n",
       "    .dataframe tbody tr th {\n",
       "        vertical-align: top;\n",
       "    }\n",
       "\n",
       "    .dataframe thead th {\n",
       "        text-align: right;\n",
       "    }\n",
       "</style>\n",
       "<table border=\"1\" class=\"dataframe\">\n",
       "  <thead>\n",
       "    <tr style=\"text-align: right;\">\n",
       "      <th></th>\n",
       "      <th>0</th>\n",
       "      <th>1</th>\n",
       "      <th>2</th>\n",
       "      <th>3</th>\n",
       "    </tr>\n",
       "  </thead>\n",
       "  <tbody>\n",
       "    <tr>\n",
       "      <th>0</th>\n",
       "      <td>1</td>\n",
       "      <td>1</td>\n",
       "      <td>5</td>\n",
       "      <td>1</td>\n",
       "    </tr>\n",
       "    <tr>\n",
       "      <th>1</th>\n",
       "      <td>1</td>\n",
       "      <td>1</td>\n",
       "      <td>5</td>\n",
       "      <td>2</td>\n",
       "    </tr>\n",
       "    <tr>\n",
       "      <th>3</th>\n",
       "      <td>1</td>\n",
       "      <td>1</td>\n",
       "      <td>5</td>\n",
       "      <td>4</td>\n",
       "    </tr>\n",
       "    <tr>\n",
       "      <th>4</th>\n",
       "      <td>1</td>\n",
       "      <td>1</td>\n",
       "      <td>5</td>\n",
       "      <td>5</td>\n",
       "    </tr>\n",
       "    <tr>\n",
       "      <th>6</th>\n",
       "      <td>1</td>\n",
       "      <td>1</td>\n",
       "      <td>5</td>\n",
       "      <td>7</td>\n",
       "    </tr>\n",
       "    <tr>\n",
       "      <th>...</th>\n",
       "      <td>...</td>\n",
       "      <td>...</td>\n",
       "      <td>...</td>\n",
       "      <td>...</td>\n",
       "    </tr>\n",
       "    <tr>\n",
       "      <th>1275</th>\n",
       "      <td>8</td>\n",
       "      <td>4</td>\n",
       "      <td>8</td>\n",
       "      <td>6</td>\n",
       "    </tr>\n",
       "    <tr>\n",
       "      <th>1276</th>\n",
       "      <td>8</td>\n",
       "      <td>4</td>\n",
       "      <td>8</td>\n",
       "      <td>7</td>\n",
       "    </tr>\n",
       "    <tr>\n",
       "      <th>1277</th>\n",
       "      <td>8</td>\n",
       "      <td>4</td>\n",
       "      <td>8</td>\n",
       "      <td>8</td>\n",
       "    </tr>\n",
       "    <tr>\n",
       "      <th>1278</th>\n",
       "      <td>8</td>\n",
       "      <td>4</td>\n",
       "      <td>8</td>\n",
       "      <td>9</td>\n",
       "    </tr>\n",
       "    <tr>\n",
       "      <th>1279</th>\n",
       "      <td>8</td>\n",
       "      <td>4</td>\n",
       "      <td>8</td>\n",
       "      <td>10</td>\n",
       "    </tr>\n",
       "  </tbody>\n",
       "</table>\n",
       "<p>1049 rows × 4 columns</p>\n",
       "</div>"
      ],
      "text/plain": [
       "      0  1  2   3\n",
       "0     1  1  5   1\n",
       "1     1  1  5   2\n",
       "3     1  1  5   4\n",
       "4     1  1  5   5\n",
       "6     1  1  5   7\n",
       "...  .. .. ..  ..\n",
       "1275  8  4  8   6\n",
       "1276  8  4  8   7\n",
       "1277  8  4  8   8\n",
       "1278  8  4  8   9\n",
       "1279  8  4  8  10\n",
       "\n",
       "[1049 rows x 4 columns]"
      ]
     },
     "execution_count": 13,
     "metadata": {},
     "output_type": "execute_result"
    }
   ],
   "source": [
    "remaing_genotypes_in_the_library_after_2nd_iteration = df_diff[~df_diff.apply(tuple,1).isin(second_round.apply(tuple,1))]\n",
    "remaing_genotypes_in_the_library_after_2nd_iteration"
   ]
  },
  {
   "cell_type": "code",
   "execution_count": 14,
   "id": "dab9d688-e8be-45d7-8592-c06ac4a04e32",
   "metadata": {},
   "outputs": [
    {
     "name": "stdout",
     "output_type": "stream",
     "text": [
      "The total amount of unique genotypes seen in this study: 231\n",
      "Percent of the all genotypes sampled: 18.046875\n"
     ]
    }
   ],
   "source": [
    "# Unique genotypes\n",
    "print('The total amount of unique genotypes seen in this study:', len(all_genotypes)-len(remaing_genotypes_in_the_library_after_2nd_iteration))\n",
    "unique_genotypes = len(all_genotypes)-len(remaing_genotypes_in_the_library_after_2nd_iteration)\n",
    "\n",
    "# Out of the theoretical library\n",
    "print('Percent of the all genotypes sampled:', unique_genotypes/len(all_genotypes)*100)"
   ]
  },
  {
   "cell_type": "code",
   "execution_count": 15,
   "id": "4a082543-8ba9-41a1-8705-edf5988e15e7",
   "metadata": {},
   "outputs": [],
   "source": [
    "### Lets plot \n"
   ]
  },
  {
   "cell_type": "markdown",
   "id": "e3b26acc-7956-4bc0-a323-8954d2effd69",
   "metadata": {
    "tags": []
   },
   "source": [
    "## All the genotypes - Made with SECOND DATA LL"
   ]
  },
  {
   "cell_type": "code",
   "execution_count": 16,
   "id": "b56229fc-d485-4562-948d-7d9fa8a02ced",
   "metadata": {},
   "outputs": [
    {
     "data": {
      "text/plain": [
       "1280"
      ]
     },
     "execution_count": 16,
     "metadata": {},
     "output_type": "execute_result"
    }
   ],
   "source": [
    "#ConStrain/colab_notebooks/ConStrain_on_google_colab/Data/AutoML/systematic_names_on_all_combinations.csv\n",
    "all_genotypes = pd.read_csv('ConStrain_on_google_colab/Data/AutoML/systematic_names_on_all_combinations.csv',)\n",
    "all_genotypes =all_genotypes[['0','1','2','3']]\n",
    "len(all_genotypes)"
   ]
  },
  {
   "cell_type": "markdown",
   "id": "83aee809-abaf-45bb-ad7f-103b56e6db39",
   "metadata": {},
   "source": [
    "### Strains made in first DBTL round (with re-sequenced strains)"
   ]
  },
  {
   "cell_type": "code",
   "execution_count": 17,
   "id": "dbffac27-2270-45d3-9d77-55f80a3ce783",
   "metadata": {},
   "outputs": [
    {
     "data": {
      "text/plain": [
       "169"
      ]
     },
     "execution_count": 17,
     "metadata": {},
     "output_type": "execute_result"
    }
   ],
   "source": [
    "first_round = pd.read_csv('ConStrain_on_google_colab/Data/AutoML/input_for_ml_1st_iteration_LL.csv',)\n",
    "first_round = first_round[['0','1','2','3']]\n",
    "len(first_round) # beware there are 8 duplicates here"
   ]
  },
  {
   "cell_type": "code",
   "execution_count": 18,
   "id": "af41f59d-4094-459c-8946-15b33529fd95",
   "metadata": {},
   "outputs": [
    {
     "name": "stdout",
     "output_type": "stream",
     "text": [
      "Unique genotypes from 1st round : 161\n"
     ]
    },
    {
     "data": {
      "text/html": [
       "<div>\n",
       "<style scoped>\n",
       "    .dataframe tbody tr th:only-of-type {\n",
       "        vertical-align: middle;\n",
       "    }\n",
       "\n",
       "    .dataframe tbody tr th {\n",
       "        vertical-align: top;\n",
       "    }\n",
       "\n",
       "    .dataframe thead th {\n",
       "        text-align: right;\n",
       "    }\n",
       "</style>\n",
       "<table border=\"1\" class=\"dataframe\">\n",
       "  <thead>\n",
       "    <tr style=\"text-align: right;\">\n",
       "      <th></th>\n",
       "      <th>0</th>\n",
       "      <th>1</th>\n",
       "      <th>2</th>\n",
       "      <th>3</th>\n",
       "    </tr>\n",
       "  </thead>\n",
       "  <tbody>\n",
       "    <tr>\n",
       "      <th>13</th>\n",
       "      <td>1</td>\n",
       "      <td>1</td>\n",
       "      <td>8</td>\n",
       "      <td>8</td>\n",
       "    </tr>\n",
       "    <tr>\n",
       "      <th>42</th>\n",
       "      <td>3</td>\n",
       "      <td>2</td>\n",
       "      <td>6</td>\n",
       "      <td>2</td>\n",
       "    </tr>\n",
       "    <tr>\n",
       "      <th>73</th>\n",
       "      <td>4</td>\n",
       "      <td>3</td>\n",
       "      <td>8</td>\n",
       "      <td>6</td>\n",
       "    </tr>\n",
       "    <tr>\n",
       "      <th>84</th>\n",
       "      <td>5</td>\n",
       "      <td>4</td>\n",
       "      <td>6</td>\n",
       "      <td>1</td>\n",
       "    </tr>\n",
       "    <tr>\n",
       "      <th>88</th>\n",
       "      <td>5</td>\n",
       "      <td>4</td>\n",
       "      <td>5</td>\n",
       "      <td>3</td>\n",
       "    </tr>\n",
       "    <tr>\n",
       "      <th>92</th>\n",
       "      <td>5</td>\n",
       "      <td>2</td>\n",
       "      <td>8</td>\n",
       "      <td>4</td>\n",
       "    </tr>\n",
       "    <tr>\n",
       "      <th>96</th>\n",
       "      <td>5</td>\n",
       "      <td>4</td>\n",
       "      <td>8</td>\n",
       "      <td>6</td>\n",
       "    </tr>\n",
       "    <tr>\n",
       "      <th>108</th>\n",
       "      <td>6</td>\n",
       "      <td>1</td>\n",
       "      <td>8</td>\n",
       "      <td>2</td>\n",
       "    </tr>\n",
       "  </tbody>\n",
       "</table>\n",
       "</div>"
      ],
      "text/plain": [
       "     0  1  2  3\n",
       "13   1  1  8  8\n",
       "42   3  2  6  2\n",
       "73   4  3  8  6\n",
       "84   5  4  6  1\n",
       "88   5  4  5  3\n",
       "92   5  2  8  4\n",
       "96   5  4  8  6\n",
       "108  6  1  8  2"
      ]
     },
     "execution_count": 18,
     "metadata": {},
     "output_type": "execute_result"
    }
   ],
   "source": [
    "# Are there any duplicated \n",
    "duplicateRows = first_round[first_round.duplicated(['0','1','2','3'])]\n",
    "print('Unique genotypes from 1st round :', len(first_round) -len(duplicateRows))\n",
    "duplicateRows"
   ]
  },
  {
   "cell_type": "code",
   "execution_count": 19,
   "id": "df6872dd-2927-4116-9953-962bbb222ad4",
   "metadata": {},
   "outputs": [
    {
     "data": {
      "text/html": [
       "<div>\n",
       "<style scoped>\n",
       "    .dataframe tbody tr th:only-of-type {\n",
       "        vertical-align: middle;\n",
       "    }\n",
       "\n",
       "    .dataframe tbody tr th {\n",
       "        vertical-align: top;\n",
       "    }\n",
       "\n",
       "    .dataframe thead th {\n",
       "        text-align: right;\n",
       "    }\n",
       "</style>\n",
       "<table border=\"1\" class=\"dataframe\">\n",
       "  <thead>\n",
       "    <tr style=\"text-align: right;\">\n",
       "      <th></th>\n",
       "      <th>0</th>\n",
       "      <th>1</th>\n",
       "      <th>2</th>\n",
       "      <th>3</th>\n",
       "    </tr>\n",
       "  </thead>\n",
       "  <tbody>\n",
       "    <tr>\n",
       "      <th>0</th>\n",
       "      <td>1</td>\n",
       "      <td>1</td>\n",
       "      <td>5</td>\n",
       "      <td>1</td>\n",
       "    </tr>\n",
       "    <tr>\n",
       "      <th>1</th>\n",
       "      <td>1</td>\n",
       "      <td>1</td>\n",
       "      <td>5</td>\n",
       "      <td>2</td>\n",
       "    </tr>\n",
       "    <tr>\n",
       "      <th>3</th>\n",
       "      <td>1</td>\n",
       "      <td>1</td>\n",
       "      <td>5</td>\n",
       "      <td>4</td>\n",
       "    </tr>\n",
       "    <tr>\n",
       "      <th>4</th>\n",
       "      <td>1</td>\n",
       "      <td>1</td>\n",
       "      <td>5</td>\n",
       "      <td>5</td>\n",
       "    </tr>\n",
       "    <tr>\n",
       "      <th>6</th>\n",
       "      <td>1</td>\n",
       "      <td>1</td>\n",
       "      <td>5</td>\n",
       "      <td>7</td>\n",
       "    </tr>\n",
       "    <tr>\n",
       "      <th>...</th>\n",
       "      <td>...</td>\n",
       "      <td>...</td>\n",
       "      <td>...</td>\n",
       "      <td>...</td>\n",
       "    </tr>\n",
       "    <tr>\n",
       "      <th>1275</th>\n",
       "      <td>8</td>\n",
       "      <td>4</td>\n",
       "      <td>8</td>\n",
       "      <td>6</td>\n",
       "    </tr>\n",
       "    <tr>\n",
       "      <th>1276</th>\n",
       "      <td>8</td>\n",
       "      <td>4</td>\n",
       "      <td>8</td>\n",
       "      <td>7</td>\n",
       "    </tr>\n",
       "    <tr>\n",
       "      <th>1277</th>\n",
       "      <td>8</td>\n",
       "      <td>4</td>\n",
       "      <td>8</td>\n",
       "      <td>8</td>\n",
       "    </tr>\n",
       "    <tr>\n",
       "      <th>1278</th>\n",
       "      <td>8</td>\n",
       "      <td>4</td>\n",
       "      <td>8</td>\n",
       "      <td>9</td>\n",
       "    </tr>\n",
       "    <tr>\n",
       "      <th>1279</th>\n",
       "      <td>8</td>\n",
       "      <td>4</td>\n",
       "      <td>8</td>\n",
       "      <td>10</td>\n",
       "    </tr>\n",
       "  </tbody>\n",
       "</table>\n",
       "<p>1119 rows × 4 columns</p>\n",
       "</div>"
      ],
      "text/plain": [
       "      0  1  2   3\n",
       "0     1  1  5   1\n",
       "1     1  1  5   2\n",
       "3     1  1  5   4\n",
       "4     1  1  5   5\n",
       "6     1  1  5   7\n",
       "...  .. .. ..  ..\n",
       "1275  8  4  8   6\n",
       "1276  8  4  8   7\n",
       "1277  8  4  8   8\n",
       "1278  8  4  8   9\n",
       "1279  8  4  8  10\n",
       "\n",
       "[1119 rows x 4 columns]"
      ]
     },
     "execution_count": 19,
     "metadata": {},
     "output_type": "execute_result"
    }
   ],
   "source": [
    "df_diff = all_genotypes[~all_genotypes.apply(tuple,1).isin(first_round.apply(tuple,1))]\n",
    "df_diff"
   ]
  },
  {
   "cell_type": "code",
   "execution_count": 20,
   "id": "74e01ed9-c57e-4ef6-abe7-24874a9548ea",
   "metadata": {},
   "outputs": [
    {
     "data": {
      "text/plain": [
       "129"
      ]
     },
     "execution_count": 20,
     "metadata": {},
     "output_type": "execute_result"
    }
   ],
   "source": [
    "second_round = pd.read_csv('ConStrain_on_google_colab/Data/AutoML/input_for_ml_2nd_iteration_LL.csv')\n",
    "second_round = second_round[['0','1','2','3']]\n",
    "len(second_round) # beware there are 8 duplicates here"
   ]
  },
  {
   "cell_type": "code",
   "execution_count": 21,
   "id": "da4d5007-8de1-43d8-b1ae-99248e632b99",
   "metadata": {},
   "outputs": [
    {
     "data": {
      "text/plain": [
       "43"
      ]
     },
     "execution_count": 21,
     "metadata": {},
     "output_type": "execute_result"
    }
   ],
   "source": [
    "# Are there any duplicated - \n",
    "duplicateRows = second_round[second_round.duplicated(['0','1','2','3'])]\n",
    "len(duplicateRows)"
   ]
  },
  {
   "cell_type": "markdown",
   "id": "6f6675fb-0261-4bc9-9f97-ef0d99919512",
   "metadata": {},
   "source": [
    "The same 43 genotypes are sampled twice, lets remove them"
   ]
  },
  {
   "cell_type": "code",
   "execution_count": 22,
   "id": "94dfd158-e3c3-43a1-a844-77480dc9b9d9",
   "metadata": {},
   "outputs": [
    {
     "name": "stdout",
     "output_type": "stream",
     "text": [
      "Unique rows from second iterations :  86\n"
     ]
    }
   ],
   "source": [
    "print('Unique rows from second iterations : ', len(second_round)-len(duplicateRows))"
   ]
  },
  {
   "cell_type": "code",
   "execution_count": 23,
   "id": "fbeda882-183c-4927-b937-4c7182a58545",
   "metadata": {},
   "outputs": [],
   "source": [
    "second_round = second_round.drop_duplicates()"
   ]
  },
  {
   "cell_type": "code",
   "execution_count": 24,
   "id": "2ee5781d-85c9-47a1-85a2-15d4acf01558",
   "metadata": {},
   "outputs": [
    {
     "data": {
      "text/plain": [
       "75"
      ]
     },
     "execution_count": 24,
     "metadata": {},
     "output_type": "execute_result"
    }
   ],
   "source": [
    "# How many new combinations are seen between round 1 and round 2?\n",
    "df_diff_between_first_and_second = second_round[~second_round.apply(tuple,1).isin(first_round.apply(tuple,1))]\n",
    "len(df_diff_between_first_and_second)"
   ]
  },
  {
   "cell_type": "code",
   "execution_count": 25,
   "id": "4777e3d6-69a7-46df-bc0e-4a6c54ecc678",
   "metadata": {},
   "outputs": [
    {
     "data": {
      "text/html": [
       "<div>\n",
       "<style scoped>\n",
       "    .dataframe tbody tr th:only-of-type {\n",
       "        vertical-align: middle;\n",
       "    }\n",
       "\n",
       "    .dataframe tbody tr th {\n",
       "        vertical-align: top;\n",
       "    }\n",
       "\n",
       "    .dataframe thead th {\n",
       "        text-align: right;\n",
       "    }\n",
       "</style>\n",
       "<table border=\"1\" class=\"dataframe\">\n",
       "  <thead>\n",
       "    <tr style=\"text-align: right;\">\n",
       "      <th></th>\n",
       "      <th>0</th>\n",
       "      <th>1</th>\n",
       "      <th>2</th>\n",
       "      <th>3</th>\n",
       "    </tr>\n",
       "  </thead>\n",
       "  <tbody>\n",
       "    <tr>\n",
       "      <th>0</th>\n",
       "      <td>1</td>\n",
       "      <td>1</td>\n",
       "      <td>5</td>\n",
       "      <td>1</td>\n",
       "    </tr>\n",
       "    <tr>\n",
       "      <th>1</th>\n",
       "      <td>1</td>\n",
       "      <td>1</td>\n",
       "      <td>5</td>\n",
       "      <td>2</td>\n",
       "    </tr>\n",
       "    <tr>\n",
       "      <th>3</th>\n",
       "      <td>1</td>\n",
       "      <td>1</td>\n",
       "      <td>5</td>\n",
       "      <td>4</td>\n",
       "    </tr>\n",
       "    <tr>\n",
       "      <th>4</th>\n",
       "      <td>1</td>\n",
       "      <td>1</td>\n",
       "      <td>5</td>\n",
       "      <td>5</td>\n",
       "    </tr>\n",
       "    <tr>\n",
       "      <th>6</th>\n",
       "      <td>1</td>\n",
       "      <td>1</td>\n",
       "      <td>5</td>\n",
       "      <td>7</td>\n",
       "    </tr>\n",
       "    <tr>\n",
       "      <th>...</th>\n",
       "      <td>...</td>\n",
       "      <td>...</td>\n",
       "      <td>...</td>\n",
       "      <td>...</td>\n",
       "    </tr>\n",
       "    <tr>\n",
       "      <th>1275</th>\n",
       "      <td>8</td>\n",
       "      <td>4</td>\n",
       "      <td>8</td>\n",
       "      <td>6</td>\n",
       "    </tr>\n",
       "    <tr>\n",
       "      <th>1276</th>\n",
       "      <td>8</td>\n",
       "      <td>4</td>\n",
       "      <td>8</td>\n",
       "      <td>7</td>\n",
       "    </tr>\n",
       "    <tr>\n",
       "      <th>1277</th>\n",
       "      <td>8</td>\n",
       "      <td>4</td>\n",
       "      <td>8</td>\n",
       "      <td>8</td>\n",
       "    </tr>\n",
       "    <tr>\n",
       "      <th>1278</th>\n",
       "      <td>8</td>\n",
       "      <td>4</td>\n",
       "      <td>8</td>\n",
       "      <td>9</td>\n",
       "    </tr>\n",
       "    <tr>\n",
       "      <th>1279</th>\n",
       "      <td>8</td>\n",
       "      <td>4</td>\n",
       "      <td>8</td>\n",
       "      <td>10</td>\n",
       "    </tr>\n",
       "  </tbody>\n",
       "</table>\n",
       "<p>1044 rows × 4 columns</p>\n",
       "</div>"
      ],
      "text/plain": [
       "      0  1  2   3\n",
       "0     1  1  5   1\n",
       "1     1  1  5   2\n",
       "3     1  1  5   4\n",
       "4     1  1  5   5\n",
       "6     1  1  5   7\n",
       "...  .. .. ..  ..\n",
       "1275  8  4  8   6\n",
       "1276  8  4  8   7\n",
       "1277  8  4  8   8\n",
       "1278  8  4  8   9\n",
       "1279  8  4  8  10\n",
       "\n",
       "[1044 rows x 4 columns]"
      ]
     },
     "execution_count": 25,
     "metadata": {},
     "output_type": "execute_result"
    }
   ],
   "source": [
    "remaing_genotypes_in_the_library_after_2nd_iteration = df_diff[~df_diff.apply(tuple,1).isin(second_round.apply(tuple,1))]\n",
    "remaing_genotypes_in_the_library_after_2nd_iteration"
   ]
  },
  {
   "cell_type": "code",
   "execution_count": 26,
   "id": "1db7553f-1f1f-435b-ad2e-73e13cb0ca2b",
   "metadata": {},
   "outputs": [
    {
     "name": "stdout",
     "output_type": "stream",
     "text": [
      "The total amount of unique genotypes seen in this study: 236\n",
      "Percent of the all genotypes sampled: 18.4375\n"
     ]
    }
   ],
   "source": [
    "# Unique genotypes\n",
    "print('The total amount of unique genotypes seen in this study:', len(all_genotypes)-len(remaing_genotypes_in_the_library_after_2nd_iteration))\n",
    "unique_genotypes = len(all_genotypes)-len(remaing_genotypes_in_the_library_after_2nd_iteration)\n",
    "\n",
    "# Out of the theoretical library\n",
    "print('Percent of the all genotypes sampled:', unique_genotypes/len(all_genotypes)*100)"
   ]
  },
  {
   "cell_type": "code",
   "execution_count": 27,
   "id": "0473b979-60a2-47ae-b53b-862ca2ded5d4",
   "metadata": {},
   "outputs": [],
   "source": [
    "#print (pd.merge(input_fixed,old_input_for_ml, indicator=True, how='outer')\n",
    "#         .query('_merge==\"left_only\"')\n",
    "#         .drop('_merge', axis=1))"
   ]
  },
  {
   "cell_type": "markdown",
   "id": "a4b4d18e-a636-40b1-8c5c-bdc9b7c09dd6",
   "metadata": {},
   "source": [
    "## Whats the difference between LL and CH analysis\n"
   ]
  },
  {
   "cell_type": "markdown",
   "id": "d65e8d95-3e83-46d3-8479-707a2309a00f",
   "metadata": {},
   "source": [
    "### first round"
   ]
  },
  {
   "cell_type": "code",
   "execution_count": 28,
   "id": "886155b7-66fc-4a51-869c-957e14acfcdd",
   "metadata": {},
   "outputs": [
    {
     "data": {
      "text/html": [
       "<div>\n",
       "<style scoped>\n",
       "    .dataframe tbody tr th:only-of-type {\n",
       "        vertical-align: middle;\n",
       "    }\n",
       "\n",
       "    .dataframe tbody tr th {\n",
       "        vertical-align: top;\n",
       "    }\n",
       "\n",
       "    .dataframe thead th {\n",
       "        text-align: right;\n",
       "    }\n",
       "</style>\n",
       "<table border=\"1\" class=\"dataframe\">\n",
       "  <thead>\n",
       "    <tr style=\"text-align: right;\">\n",
       "      <th></th>\n",
       "      <th>Line Name</th>\n",
       "      <th>0</th>\n",
       "      <th>1</th>\n",
       "      <th>2</th>\n",
       "      <th>3</th>\n",
       "      <th>Amt_norm</th>\n",
       "    </tr>\n",
       "  </thead>\n",
       "  <tbody>\n",
       "    <tr>\n",
       "      <th>0</th>\n",
       "      <td>yp49_A01</td>\n",
       "      <td>1</td>\n",
       "      <td>2</td>\n",
       "      <td>5</td>\n",
       "      <td>1</td>\n",
       "      <td>0.972701</td>\n",
       "    </tr>\n",
       "    <tr>\n",
       "      <th>1</th>\n",
       "      <td>yp49_A02</td>\n",
       "      <td>1</td>\n",
       "      <td>3</td>\n",
       "      <td>8</td>\n",
       "      <td>1</td>\n",
       "      <td>0.269401</td>\n",
       "    </tr>\n",
       "    <tr>\n",
       "      <th>2</th>\n",
       "      <td>yp49_A04</td>\n",
       "      <td>1</td>\n",
       "      <td>3</td>\n",
       "      <td>8</td>\n",
       "      <td>2</td>\n",
       "      <td>0.202699</td>\n",
       "    </tr>\n",
       "    <tr>\n",
       "      <th>3</th>\n",
       "      <td>yp49_A06</td>\n",
       "      <td>1</td>\n",
       "      <td>2</td>\n",
       "      <td>6</td>\n",
       "      <td>2</td>\n",
       "      <td>1.133272</td>\n",
       "    </tr>\n",
       "    <tr>\n",
       "      <th>4</th>\n",
       "      <td>yp49_A07</td>\n",
       "      <td>1</td>\n",
       "      <td>1</td>\n",
       "      <td>5</td>\n",
       "      <td>3</td>\n",
       "      <td>0.981070</td>\n",
       "    </tr>\n",
       "    <tr>\n",
       "      <th>...</th>\n",
       "      <td>...</td>\n",
       "      <td>...</td>\n",
       "      <td>...</td>\n",
       "      <td>...</td>\n",
       "      <td>...</td>\n",
       "      <td>...</td>\n",
       "    </tr>\n",
       "    <tr>\n",
       "      <th>164</th>\n",
       "      <td>yp51_E05</td>\n",
       "      <td>8</td>\n",
       "      <td>3</td>\n",
       "      <td>6</td>\n",
       "      <td>8</td>\n",
       "      <td>0.000000</td>\n",
       "    </tr>\n",
       "    <tr>\n",
       "      <th>165</th>\n",
       "      <td>yp51_E07</td>\n",
       "      <td>8</td>\n",
       "      <td>1</td>\n",
       "      <td>8</td>\n",
       "      <td>9</td>\n",
       "      <td>6.795506</td>\n",
       "    </tr>\n",
       "    <tr>\n",
       "      <th>166</th>\n",
       "      <td>yp51_E08</td>\n",
       "      <td>8</td>\n",
       "      <td>4</td>\n",
       "      <td>5</td>\n",
       "      <td>9</td>\n",
       "      <td>0.668263</td>\n",
       "    </tr>\n",
       "    <tr>\n",
       "      <th>167</th>\n",
       "      <td>yp51_E11</td>\n",
       "      <td>8</td>\n",
       "      <td>3</td>\n",
       "      <td>7</td>\n",
       "      <td>10</td>\n",
       "      <td>0.000000</td>\n",
       "    </tr>\n",
       "    <tr>\n",
       "      <th>168</th>\n",
       "      <td>yp51_E12</td>\n",
       "      <td>8</td>\n",
       "      <td>1</td>\n",
       "      <td>6</td>\n",
       "      <td>10</td>\n",
       "      <td>0.466688</td>\n",
       "    </tr>\n",
       "  </tbody>\n",
       "</table>\n",
       "<p>169 rows × 6 columns</p>\n",
       "</div>"
      ],
      "text/plain": [
       "    Line Name  0  1  2   3  Amt_norm\n",
       "0    yp49_A01  1  2  5   1  0.972701\n",
       "1    yp49_A02  1  3  8   1  0.269401\n",
       "2    yp49_A04  1  3  8   2  0.202699\n",
       "3    yp49_A06  1  2  6   2  1.133272\n",
       "4    yp49_A07  1  1  5   3  0.981070\n",
       "..        ... .. .. ..  ..       ...\n",
       "164  yp51_E05  8  3  6   8  0.000000\n",
       "165  yp51_E07  8  1  8   9  6.795506\n",
       "166  yp51_E08  8  4  5   9  0.668263\n",
       "167  yp51_E11  8  3  7  10  0.000000\n",
       "168  yp51_E12  8  1  6  10  0.466688\n",
       "\n",
       "[169 rows x 6 columns]"
      ]
     },
     "execution_count": 28,
     "metadata": {},
     "output_type": "execute_result"
    }
   ],
   "source": [
    "LL_first_round = pd.read_csv('ConStrain_on_google_colab/Data/AutoML/input_for_ml_1st_iteration_LL.csv',)\n",
    "CH_first_round = pd.read_csv('ConStrain_on_google_colab/Data/AutoML/input_for_ml_reseq.csv',)\n",
    "LL_first_round"
   ]
  },
  {
   "cell_type": "code",
   "execution_count": null,
   "id": "0172d418-74c9-4f75-a265-1cee3fe56b3a",
   "metadata": {},
   "outputs": [],
   "source": []
  },
  {
   "cell_type": "code",
   "execution_count": 29,
   "id": "92d73a0d-3c0f-4a2c-aa4f-92340a5054de",
   "metadata": {},
   "outputs": [
    {
     "name": "stdout",
     "output_type": "stream",
     "text": [
      "169\n",
      "166\n"
     ]
    }
   ],
   "source": [
    "print(len(LL_first_round))\n",
    "print(len(CH_first_round))"
   ]
  },
  {
   "cell_type": "code",
   "execution_count": 30,
   "id": "b07b50fb-6e65-425f-898a-234833baf314",
   "metadata": {},
   "outputs": [],
   "source": [
    "#LL_first_round = LL_first_round[['Line Name']]\n",
    "#LL_first_round = LL_first_round.drop_duplicates(subset='Line Name')\n",
    "#CH_first_round = CH_first_round[['Line Name']]\n",
    "#CH_first_round = CH_first_round.drop_duplicates(subset='Line Name')\n"
   ]
  },
  {
   "cell_type": "code",
   "execution_count": 31,
   "id": "1242cbe3-c570-44f8-bc0a-dd1414a757a8",
   "metadata": {},
   "outputs": [
    {
     "data": {
      "text/html": [
       "<div>\n",
       "<style scoped>\n",
       "    .dataframe tbody tr th:only-of-type {\n",
       "        vertical-align: middle;\n",
       "    }\n",
       "\n",
       "    .dataframe tbody tr th {\n",
       "        vertical-align: top;\n",
       "    }\n",
       "\n",
       "    .dataframe thead th {\n",
       "        text-align: right;\n",
       "    }\n",
       "</style>\n",
       "<table border=\"1\" class=\"dataframe\">\n",
       "  <thead>\n",
       "    <tr style=\"text-align: right;\">\n",
       "      <th></th>\n",
       "      <th>Line Name</th>\n",
       "      <th>0</th>\n",
       "      <th>1</th>\n",
       "      <th>2</th>\n",
       "      <th>3</th>\n",
       "      <th>Amt_norm</th>\n",
       "    </tr>\n",
       "  </thead>\n",
       "  <tbody>\n",
       "    <tr>\n",
       "      <th>0</th>\n",
       "      <td>yp49_A01</td>\n",
       "      <td>1</td>\n",
       "      <td>2</td>\n",
       "      <td>5</td>\n",
       "      <td>1</td>\n",
       "      <td>0.972701</td>\n",
       "    </tr>\n",
       "    <tr>\n",
       "      <th>1</th>\n",
       "      <td>yp49_A02</td>\n",
       "      <td>1</td>\n",
       "      <td>3</td>\n",
       "      <td>8</td>\n",
       "      <td>1</td>\n",
       "      <td>0.269401</td>\n",
       "    </tr>\n",
       "    <tr>\n",
       "      <th>2</th>\n",
       "      <td>yp49_A04</td>\n",
       "      <td>1</td>\n",
       "      <td>3</td>\n",
       "      <td>8</td>\n",
       "      <td>2</td>\n",
       "      <td>0.202699</td>\n",
       "    </tr>\n",
       "    <tr>\n",
       "      <th>3</th>\n",
       "      <td>yp49_A06</td>\n",
       "      <td>1</td>\n",
       "      <td>2</td>\n",
       "      <td>6</td>\n",
       "      <td>2</td>\n",
       "      <td>1.133272</td>\n",
       "    </tr>\n",
       "    <tr>\n",
       "      <th>4</th>\n",
       "      <td>yp49_A07</td>\n",
       "      <td>1</td>\n",
       "      <td>1</td>\n",
       "      <td>5</td>\n",
       "      <td>3</td>\n",
       "      <td>0.981070</td>\n",
       "    </tr>\n",
       "    <tr>\n",
       "      <th>...</th>\n",
       "      <td>...</td>\n",
       "      <td>...</td>\n",
       "      <td>...</td>\n",
       "      <td>...</td>\n",
       "      <td>...</td>\n",
       "      <td>...</td>\n",
       "    </tr>\n",
       "    <tr>\n",
       "      <th>161</th>\n",
       "      <td>yp51_E05</td>\n",
       "      <td>8</td>\n",
       "      <td>3</td>\n",
       "      <td>6</td>\n",
       "      <td>8</td>\n",
       "      <td>0.000000</td>\n",
       "    </tr>\n",
       "    <tr>\n",
       "      <th>162</th>\n",
       "      <td>yp51_E07</td>\n",
       "      <td>8</td>\n",
       "      <td>1</td>\n",
       "      <td>8</td>\n",
       "      <td>9</td>\n",
       "      <td>6.795506</td>\n",
       "    </tr>\n",
       "    <tr>\n",
       "      <th>163</th>\n",
       "      <td>yp51_E08</td>\n",
       "      <td>8</td>\n",
       "      <td>4</td>\n",
       "      <td>5</td>\n",
       "      <td>9</td>\n",
       "      <td>0.668263</td>\n",
       "    </tr>\n",
       "    <tr>\n",
       "      <th>164</th>\n",
       "      <td>yp51_E11</td>\n",
       "      <td>8</td>\n",
       "      <td>3</td>\n",
       "      <td>7</td>\n",
       "      <td>10</td>\n",
       "      <td>0.000000</td>\n",
       "    </tr>\n",
       "    <tr>\n",
       "      <th>165</th>\n",
       "      <td>yp51_E12</td>\n",
       "      <td>8</td>\n",
       "      <td>1</td>\n",
       "      <td>6</td>\n",
       "      <td>10</td>\n",
       "      <td>0.466688</td>\n",
       "    </tr>\n",
       "  </tbody>\n",
       "</table>\n",
       "<p>166 rows × 6 columns</p>\n",
       "</div>"
      ],
      "text/plain": [
       "    Line Name  0  1  2   3  Amt_norm\n",
       "0    yp49_A01  1  2  5   1  0.972701\n",
       "1    yp49_A02  1  3  8   1  0.269401\n",
       "2    yp49_A04  1  3  8   2  0.202699\n",
       "3    yp49_A06  1  2  6   2  1.133272\n",
       "4    yp49_A07  1  1  5   3  0.981070\n",
       "..        ... .. .. ..  ..       ...\n",
       "161  yp51_E05  8  3  6   8  0.000000\n",
       "162  yp51_E07  8  1  8   9  6.795506\n",
       "163  yp51_E08  8  4  5   9  0.668263\n",
       "164  yp51_E11  8  3  7  10  0.000000\n",
       "165  yp51_E12  8  1  6  10  0.466688\n",
       "\n",
       "[166 rows x 6 columns]"
      ]
     },
     "execution_count": 31,
     "metadata": {},
     "output_type": "execute_result"
    }
   ],
   "source": [
    "CH_first_round"
   ]
  },
  {
   "cell_type": "code",
   "execution_count": 32,
   "id": "147bf310-04ec-4530-b432-cdc0e53da447",
   "metadata": {},
   "outputs": [
    {
     "data": {
      "text/html": [
       "<div>\n",
       "<style scoped>\n",
       "    .dataframe tbody tr th:only-of-type {\n",
       "        vertical-align: middle;\n",
       "    }\n",
       "\n",
       "    .dataframe tbody tr th {\n",
       "        vertical-align: top;\n",
       "    }\n",
       "\n",
       "    .dataframe thead th {\n",
       "        text-align: right;\n",
       "    }\n",
       "</style>\n",
       "<table border=\"1\" class=\"dataframe\">\n",
       "  <thead>\n",
       "    <tr style=\"text-align: right;\">\n",
       "      <th></th>\n",
       "      <th>Line Name</th>\n",
       "      <th>0</th>\n",
       "      <th>1</th>\n",
       "      <th>2</th>\n",
       "      <th>3</th>\n",
       "      <th>Amt_norm</th>\n",
       "    </tr>\n",
       "  </thead>\n",
       "  <tbody>\n",
       "    <tr>\n",
       "      <th>51</th>\n",
       "      <td>yp49_G04</td>\n",
       "      <td>3</td>\n",
       "      <td>2</td>\n",
       "      <td>6</td>\n",
       "      <td>6</td>\n",
       "      <td>4.263909</td>\n",
       "    </tr>\n",
       "    <tr>\n",
       "      <th>52</th>\n",
       "      <td>yp49_G04</td>\n",
       "      <td>3</td>\n",
       "      <td>2</td>\n",
       "      <td>7</td>\n",
       "      <td>6</td>\n",
       "      <td>4.263909</td>\n",
       "    </tr>\n",
       "    <tr>\n",
       "      <th>134</th>\n",
       "      <td>yp51_A08</td>\n",
       "      <td>7</td>\n",
       "      <td>1</td>\n",
       "      <td>6</td>\n",
       "      <td>3</td>\n",
       "      <td>13.996156</td>\n",
       "    </tr>\n",
       "  </tbody>\n",
       "</table>\n",
       "</div>"
      ],
      "text/plain": [
       "    Line Name  0  1  2  3   Amt_norm\n",
       "51   yp49_G04  3  2  6  6   4.263909\n",
       "52   yp49_G04  3  2  7  6   4.263909\n",
       "134  yp51_A08  7  1  6  3  13.996156"
      ]
     },
     "execution_count": 32,
     "metadata": {},
     "output_type": "execute_result"
    }
   ],
   "source": [
    "DIFF_LL_CH = LL_first_round[~LL_first_round.apply(tuple,1).isin(CH_first_round.apply(tuple,1))]\n",
    "DIFF_LL_CH"
   ]
  },
  {
   "cell_type": "code",
   "execution_count": 33,
   "id": "b744fa17-d118-4bf0-8251-b1c2659578c5",
   "metadata": {},
   "outputs": [
    {
     "data": {
      "text/html": [
       "<div>\n",
       "<style scoped>\n",
       "    .dataframe tbody tr th:only-of-type {\n",
       "        vertical-align: middle;\n",
       "    }\n",
       "\n",
       "    .dataframe tbody tr th {\n",
       "        vertical-align: top;\n",
       "    }\n",
       "\n",
       "    .dataframe thead th {\n",
       "        text-align: right;\n",
       "    }\n",
       "</style>\n",
       "<table border=\"1\" class=\"dataframe\">\n",
       "  <thead>\n",
       "    <tr style=\"text-align: right;\">\n",
       "      <th></th>\n",
       "      <th>Line Name</th>\n",
       "      <th>0</th>\n",
       "      <th>1</th>\n",
       "      <th>2</th>\n",
       "      <th>3</th>\n",
       "      <th>Amt_norm</th>\n",
       "    </tr>\n",
       "  </thead>\n",
       "  <tbody>\n",
       "  </tbody>\n",
       "</table>\n",
       "</div>"
      ],
      "text/plain": [
       "Empty DataFrame\n",
       "Columns: [Line Name, 0, 1, 2, 3, Amt_norm]\n",
       "Index: []"
      ]
     },
     "execution_count": 33,
     "metadata": {},
     "output_type": "execute_result"
    }
   ],
   "source": [
    "DIFF_LL_CH = CH_first_round[~CH_first_round.apply(tuple,1).isin(LL_first_round.apply(tuple,1))]\n",
    "DIFF_LL_CH"
   ]
  },
  {
   "cell_type": "code",
   "execution_count": 34,
   "id": "de956590-2b24-4a92-b8fd-ceb18ef4c2b6",
   "metadata": {},
   "outputs": [
    {
     "data": {
      "text/plain": [
       "0"
      ]
     },
     "execution_count": 34,
     "metadata": {},
     "output_type": "execute_result"
    }
   ],
   "source": [
    "len(DIFF_LL_CH)"
   ]
  },
  {
   "cell_type": "markdown",
   "id": "fe6bc8c2-d807-4c3d-857e-df548dd2bdf2",
   "metadata": {},
   "source": [
    "#### second round"
   ]
  },
  {
   "cell_type": "code",
   "execution_count": 55,
   "id": "4c3c5563-38f3-4455-a06c-30b18f232904",
   "metadata": {},
   "outputs": [
    {
     "data": {
      "text/html": [
       "<div>\n",
       "<style scoped>\n",
       "    .dataframe tbody tr th:only-of-type {\n",
       "        vertical-align: middle;\n",
       "    }\n",
       "\n",
       "    .dataframe tbody tr th {\n",
       "        vertical-align: top;\n",
       "    }\n",
       "\n",
       "    .dataframe thead th {\n",
       "        text-align: right;\n",
       "    }\n",
       "</style>\n",
       "<table border=\"1\" class=\"dataframe\">\n",
       "  <thead>\n",
       "    <tr style=\"text-align: right;\">\n",
       "      <th></th>\n",
       "      <th>Line_name</th>\n",
       "      <th>0</th>\n",
       "      <th>1</th>\n",
       "      <th>2</th>\n",
       "      <th>3</th>\n",
       "      <th>Amt_norm</th>\n",
       "    </tr>\n",
       "  </thead>\n",
       "  <tbody>\n",
       "    <tr>\n",
       "      <th>0</th>\n",
       "      <td>yp53_A01</td>\n",
       "      <td>4</td>\n",
       "      <td>1</td>\n",
       "      <td>5</td>\n",
       "      <td>2</td>\n",
       "      <td>9.058562</td>\n",
       "    </tr>\n",
       "    <tr>\n",
       "      <th>1</th>\n",
       "      <td>yp53_A02</td>\n",
       "      <td>4</td>\n",
       "      <td>1</td>\n",
       "      <td>5</td>\n",
       "      <td>2</td>\n",
       "      <td>28.175952</td>\n",
       "    </tr>\n",
       "    <tr>\n",
       "      <th>2</th>\n",
       "      <td>yp53_A04</td>\n",
       "      <td>4</td>\n",
       "      <td>2</td>\n",
       "      <td>5</td>\n",
       "      <td>2</td>\n",
       "      <td>80.375862</td>\n",
       "    </tr>\n",
       "    <tr>\n",
       "      <th>3</th>\n",
       "      <td>yp53_A05</td>\n",
       "      <td>5</td>\n",
       "      <td>1</td>\n",
       "      <td>5</td>\n",
       "      <td>2</td>\n",
       "      <td>119.800397</td>\n",
       "    </tr>\n",
       "    <tr>\n",
       "      <th>4</th>\n",
       "      <td>yp53_A06</td>\n",
       "      <td>5</td>\n",
       "      <td>1</td>\n",
       "      <td>5</td>\n",
       "      <td>2</td>\n",
       "      <td>121.767572</td>\n",
       "    </tr>\n",
       "    <tr>\n",
       "      <th>...</th>\n",
       "      <td>...</td>\n",
       "      <td>...</td>\n",
       "      <td>...</td>\n",
       "      <td>...</td>\n",
       "      <td>...</td>\n",
       "      <td>...</td>\n",
       "    </tr>\n",
       "    <tr>\n",
       "      <th>122</th>\n",
       "      <td>yp54_F02</td>\n",
       "      <td>7</td>\n",
       "      <td>2</td>\n",
       "      <td>5</td>\n",
       "      <td>7</td>\n",
       "      <td>2.814061</td>\n",
       "    </tr>\n",
       "    <tr>\n",
       "      <th>123</th>\n",
       "      <td>yp54_F03</td>\n",
       "      <td>7</td>\n",
       "      <td>2</td>\n",
       "      <td>5</td>\n",
       "      <td>7</td>\n",
       "      <td>2.560352</td>\n",
       "    </tr>\n",
       "    <tr>\n",
       "      <th>124</th>\n",
       "      <td>yp54_F04</td>\n",
       "      <td>7</td>\n",
       "      <td>2</td>\n",
       "      <td>6</td>\n",
       "      <td>7</td>\n",
       "      <td>2.256023</td>\n",
       "    </tr>\n",
       "    <tr>\n",
       "      <th>125</th>\n",
       "      <td>yp54_F05</td>\n",
       "      <td>4</td>\n",
       "      <td>2</td>\n",
       "      <td>5</td>\n",
       "      <td>2</td>\n",
       "      <td>54.525222</td>\n",
       "    </tr>\n",
       "    <tr>\n",
       "      <th>126</th>\n",
       "      <td>yp54_F06</td>\n",
       "      <td>4</td>\n",
       "      <td>1</td>\n",
       "      <td>5</td>\n",
       "      <td>2</td>\n",
       "      <td>20.815762</td>\n",
       "    </tr>\n",
       "  </tbody>\n",
       "</table>\n",
       "<p>127 rows × 6 columns</p>\n",
       "</div>"
      ],
      "text/plain": [
       "    Line_name  0  1  2  3    Amt_norm\n",
       "0    yp53_A01  4  1  5  2    9.058562\n",
       "1    yp53_A02  4  1  5  2   28.175952\n",
       "2    yp53_A04  4  2  5  2   80.375862\n",
       "3    yp53_A05  5  1  5  2  119.800397\n",
       "4    yp53_A06  5  1  5  2  121.767572\n",
       "..        ... .. .. .. ..         ...\n",
       "122  yp54_F02  7  2  5  7    2.814061\n",
       "123  yp54_F03  7  2  5  7    2.560352\n",
       "124  yp54_F04  7  2  6  7    2.256023\n",
       "125  yp54_F05  4  2  5  2   54.525222\n",
       "126  yp54_F06  4  1  5  2   20.815762\n",
       "\n",
       "[127 rows x 6 columns]"
      ]
     },
     "execution_count": 55,
     "metadata": {},
     "output_type": "execute_result"
    }
   ],
   "source": [
    "LL_second_round = pd.read_csv('ConStrain_on_google_colab/Data/AutoML/input_for_ml_2nd_iteration_LL2.csv',)\n",
    "CH_second_round = pd.read_csv('ConStrain_on_google_colab/Data/AutoML/input_for_ml_2nd_iteration.csv',)\n",
    "CH_second_round.columns = ['Line_name','0','1','2','3', 'Amt_norm']\n",
    "CH_second_round"
   ]
  },
  {
   "cell_type": "code",
   "execution_count": 56,
   "id": "7d77ce20-3e7b-42bd-8330-3f0babe671f2",
   "metadata": {},
   "outputs": [
    {
     "name": "stdout",
     "output_type": "stream",
     "text": [
      "129\n",
      "127\n"
     ]
    }
   ],
   "source": [
    "print(len(LL_second_round))\n",
    "print(len(CH_second_round))"
   ]
  },
  {
   "cell_type": "code",
   "execution_count": 60,
   "id": "bdaa89d5-0c94-45d6-9ed9-c5067bbeb38c",
   "metadata": {},
   "outputs": [],
   "source": [
    "LL_second_round = LL_second_round[['Line_name','G8H', 'inf_promoter1', 'inf_promoter2', 'CPR', 'norm_strict_x' ]]\n",
    "LL_second_round.columns = ['Line_name','0','1','2','3','Amt_norm']"
   ]
  },
  {
   "cell_type": "code",
   "execution_count": 61,
   "id": "6986f162-16c3-4f9b-bd6b-ddb4f07ef2d4",
   "metadata": {},
   "outputs": [],
   "source": [
    "LL_second_round = LL_second_round[['Line_name','0','1','2','3','Amt_norm']]\n",
    "CH_second_round = CH_second_round[['Line_name','0','1','2','3', 'Amt_norm']]"
   ]
  },
  {
   "cell_type": "code",
   "execution_count": 67,
   "id": "6a065caa-cb24-423b-9616-282aaf8f44d2",
   "metadata": {},
   "outputs": [
    {
     "data": {
      "text/html": [
       "<div>\n",
       "<style scoped>\n",
       "    .dataframe tbody tr th:only-of-type {\n",
       "        vertical-align: middle;\n",
       "    }\n",
       "\n",
       "    .dataframe tbody tr th {\n",
       "        vertical-align: top;\n",
       "    }\n",
       "\n",
       "    .dataframe thead th {\n",
       "        text-align: right;\n",
       "    }\n",
       "</style>\n",
       "<table border=\"1\" class=\"dataframe\">\n",
       "  <thead>\n",
       "    <tr style=\"text-align: right;\">\n",
       "      <th></th>\n",
       "      <th>Line_name</th>\n",
       "      <th>0</th>\n",
       "      <th>1</th>\n",
       "      <th>2</th>\n",
       "      <th>3</th>\n",
       "      <th>Amt_norm</th>\n",
       "    </tr>\n",
       "  </thead>\n",
       "  <tbody>\n",
       "    <tr>\n",
       "      <th>3</th>\n",
       "      <td>yp53_A05</td>\n",
       "      <td>5</td>\n",
       "      <td>1</td>\n",
       "      <td>5</td>\n",
       "      <td>2</td>\n",
       "      <td>119.800397</td>\n",
       "    </tr>\n",
       "    <tr>\n",
       "      <th>26</th>\n",
       "      <td>yp53_C04</td>\n",
       "      <td>5</td>\n",
       "      <td>1</td>\n",
       "      <td>5</td>\n",
       "      <td>4</td>\n",
       "      <td>140.086994</td>\n",
       "    </tr>\n",
       "    <tr>\n",
       "      <th>33</th>\n",
       "      <td>yp53_C11</td>\n",
       "      <td>3</td>\n",
       "      <td>1</td>\n",
       "      <td>6</td>\n",
       "      <td>4</td>\n",
       "      <td>2.715863</td>\n",
       "    </tr>\n",
       "    <tr>\n",
       "      <th>34</th>\n",
       "      <td>yp53_C12</td>\n",
       "      <td>3</td>\n",
       "      <td>1</td>\n",
       "      <td>6</td>\n",
       "      <td>4</td>\n",
       "      <td>43.073560</td>\n",
       "    </tr>\n",
       "    <tr>\n",
       "      <th>41</th>\n",
       "      <td>yp53_D07</td>\n",
       "      <td>4</td>\n",
       "      <td>1</td>\n",
       "      <td>5</td>\n",
       "      <td>5</td>\n",
       "      <td>5.225774</td>\n",
       "    </tr>\n",
       "    <tr>\n",
       "      <th>79</th>\n",
       "      <td>yp54_A08</td>\n",
       "      <td>5</td>\n",
       "      <td>1</td>\n",
       "      <td>6</td>\n",
       "      <td>1</td>\n",
       "      <td>83.107365</td>\n",
       "    </tr>\n",
       "    <tr>\n",
       "      <th>100</th>\n",
       "      <td>yp54_C08</td>\n",
       "      <td>6</td>\n",
       "      <td>1</td>\n",
       "      <td>5</td>\n",
       "      <td>3</td>\n",
       "      <td>48.138193</td>\n",
       "    </tr>\n",
       "  </tbody>\n",
       "</table>\n",
       "</div>"
      ],
      "text/plain": [
       "    Line_name  0  1  2  3    Amt_norm\n",
       "3    yp53_A05  5  1  5  2  119.800397\n",
       "26   yp53_C04  5  1  5  4  140.086994\n",
       "33   yp53_C11  3  1  6  4    2.715863\n",
       "34   yp53_C12  3  1  6  4   43.073560\n",
       "41   yp53_D07  4  1  5  5    5.225774\n",
       "79   yp54_A08  5  1  6  1   83.107365\n",
       "100  yp54_C08  6  1  5  3   48.138193"
      ]
     },
     "execution_count": 67,
     "metadata": {},
     "output_type": "execute_result"
    }
   ],
   "source": [
    "diff_ll_ch = CH_second_round[~CH_second_round.Line_name.isin(LL_second_round.Line_name)]\n",
    "diff_ll_ch"
   ]
  },
  {
   "cell_type": "code",
   "execution_count": 63,
   "id": "71eee3b7-feb9-402b-8a27-9b0fec891cbd",
   "metadata": {},
   "outputs": [
    {
     "data": {
      "text/html": [
       "<div>\n",
       "<style scoped>\n",
       "    .dataframe tbody tr th:only-of-type {\n",
       "        vertical-align: middle;\n",
       "    }\n",
       "\n",
       "    .dataframe tbody tr th {\n",
       "        vertical-align: top;\n",
       "    }\n",
       "\n",
       "    .dataframe thead th {\n",
       "        text-align: right;\n",
       "    }\n",
       "</style>\n",
       "<table border=\"1\" class=\"dataframe\">\n",
       "  <thead>\n",
       "    <tr style=\"text-align: right;\">\n",
       "      <th></th>\n",
       "      <th>Line_name</th>\n",
       "      <th>0</th>\n",
       "      <th>1</th>\n",
       "      <th>2</th>\n",
       "      <th>3</th>\n",
       "      <th>Amt_norm</th>\n",
       "    </tr>\n",
       "  </thead>\n",
       "  <tbody>\n",
       "    <tr>\n",
       "      <th>59</th>\n",
       "      <td>yp53_F08</td>\n",
       "      <td>5</td>\n",
       "      <td>1</td>\n",
       "      <td>5</td>\n",
       "      <td>7</td>\n",
       "      <td>0.968497</td>\n",
       "    </tr>\n",
       "    <tr>\n",
       "      <th>72</th>\n",
       "      <td>yp54_A05</td>\n",
       "      <td>5</td>\n",
       "      <td>2</td>\n",
       "      <td>6</td>\n",
       "      <td>1</td>\n",
       "      <td>113.173462</td>\n",
       "    </tr>\n",
       "    <tr>\n",
       "      <th>73</th>\n",
       "      <td>yp54_A06</td>\n",
       "      <td>5</td>\n",
       "      <td>1</td>\n",
       "      <td>5</td>\n",
       "      <td>1</td>\n",
       "      <td>16.572217</td>\n",
       "    </tr>\n",
       "    <tr>\n",
       "      <th>104</th>\n",
       "      <td>yp54_D09</td>\n",
       "      <td>5</td>\n",
       "      <td>1</td>\n",
       "      <td>6</td>\n",
       "      <td>6</td>\n",
       "      <td>0.000000</td>\n",
       "    </tr>\n",
       "    <tr>\n",
       "      <th>107</th>\n",
       "      <td>yp54_E01</td>\n",
       "      <td>6</td>\n",
       "      <td>2</td>\n",
       "      <td>6</td>\n",
       "      <td>6</td>\n",
       "      <td>6.318329</td>\n",
       "    </tr>\n",
       "    <tr>\n",
       "      <th>109</th>\n",
       "      <td>yp54_E05</td>\n",
       "      <td>3</td>\n",
       "      <td>2</td>\n",
       "      <td>5</td>\n",
       "      <td>6</td>\n",
       "      <td>5.318841</td>\n",
       "    </tr>\n",
       "    <tr>\n",
       "      <th>114</th>\n",
       "      <td>yp54_E10</td>\n",
       "      <td>7</td>\n",
       "      <td>2</td>\n",
       "      <td>5</td>\n",
       "      <td>6</td>\n",
       "      <td>3.004290</td>\n",
       "    </tr>\n",
       "    <tr>\n",
       "      <th>117</th>\n",
       "      <td>yp54_F01</td>\n",
       "      <td>7</td>\n",
       "      <td>2</td>\n",
       "      <td>5</td>\n",
       "      <td>7</td>\n",
       "      <td>0.000000</td>\n",
       "    </tr>\n",
       "    <tr>\n",
       "      <th>125</th>\n",
       "      <td>yp54_C04</td>\n",
       "      <td>5</td>\n",
       "      <td>2</td>\n",
       "      <td>6</td>\n",
       "      <td>3</td>\n",
       "      <td>94.318358</td>\n",
       "    </tr>\n",
       "  </tbody>\n",
       "</table>\n",
       "</div>"
      ],
      "text/plain": [
       "    Line_name  0  1  2  3    Amt_norm\n",
       "59   yp53_F08  5  1  5  7    0.968497\n",
       "72   yp54_A05  5  2  6  1  113.173462\n",
       "73   yp54_A06  5  1  5  1   16.572217\n",
       "104  yp54_D09  5  1  6  6    0.000000\n",
       "107  yp54_E01  6  2  6  6    6.318329\n",
       "109  yp54_E05  3  2  5  6    5.318841\n",
       "114  yp54_E10  7  2  5  6    3.004290\n",
       "117  yp54_F01  7  2  5  7    0.000000\n",
       "125  yp54_C04  5  2  6  3   94.318358"
      ]
     },
     "execution_count": 63,
     "metadata": {},
     "output_type": "execute_result"
    }
   ],
   "source": [
    "DIFF_LL_CH = LL_second_round[~LL_second_round.apply(tuple,1).isin(CH_second_round.apply(tuple,1))]\n",
    "DIFF_LL_CH"
   ]
  },
  {
   "cell_type": "code",
   "execution_count": 64,
   "id": "1f6da25b-02ba-4a01-b6a1-76d35e4bbd3e",
   "metadata": {},
   "outputs": [
    {
     "data": {
      "text/html": [
       "<div>\n",
       "<style scoped>\n",
       "    .dataframe tbody tr th:only-of-type {\n",
       "        vertical-align: middle;\n",
       "    }\n",
       "\n",
       "    .dataframe tbody tr th {\n",
       "        vertical-align: top;\n",
       "    }\n",
       "\n",
       "    .dataframe thead th {\n",
       "        text-align: right;\n",
       "    }\n",
       "</style>\n",
       "<table border=\"1\" class=\"dataframe\">\n",
       "  <thead>\n",
       "    <tr style=\"text-align: right;\">\n",
       "      <th></th>\n",
       "      <th>Line_name</th>\n",
       "      <th>0</th>\n",
       "      <th>1</th>\n",
       "      <th>2</th>\n",
       "      <th>3</th>\n",
       "      <th>Amt_norm</th>\n",
       "    </tr>\n",
       "  </thead>\n",
       "  <tbody>\n",
       "    <tr>\n",
       "      <th>3</th>\n",
       "      <td>yp53_A05</td>\n",
       "      <td>5</td>\n",
       "      <td>1</td>\n",
       "      <td>5</td>\n",
       "      <td>2</td>\n",
       "      <td>119.800397</td>\n",
       "    </tr>\n",
       "    <tr>\n",
       "      <th>26</th>\n",
       "      <td>yp53_C04</td>\n",
       "      <td>5</td>\n",
       "      <td>1</td>\n",
       "      <td>5</td>\n",
       "      <td>4</td>\n",
       "      <td>140.086994</td>\n",
       "    </tr>\n",
       "    <tr>\n",
       "      <th>33</th>\n",
       "      <td>yp53_C11</td>\n",
       "      <td>3</td>\n",
       "      <td>1</td>\n",
       "      <td>6</td>\n",
       "      <td>4</td>\n",
       "      <td>2.715863</td>\n",
       "    </tr>\n",
       "    <tr>\n",
       "      <th>34</th>\n",
       "      <td>yp53_C12</td>\n",
       "      <td>3</td>\n",
       "      <td>1</td>\n",
       "      <td>6</td>\n",
       "      <td>4</td>\n",
       "      <td>43.073560</td>\n",
       "    </tr>\n",
       "    <tr>\n",
       "      <th>41</th>\n",
       "      <td>yp53_D07</td>\n",
       "      <td>4</td>\n",
       "      <td>1</td>\n",
       "      <td>5</td>\n",
       "      <td>5</td>\n",
       "      <td>5.225774</td>\n",
       "    </tr>\n",
       "    <tr>\n",
       "      <th>79</th>\n",
       "      <td>yp54_A08</td>\n",
       "      <td>5</td>\n",
       "      <td>1</td>\n",
       "      <td>6</td>\n",
       "      <td>1</td>\n",
       "      <td>83.107365</td>\n",
       "    </tr>\n",
       "    <tr>\n",
       "      <th>100</th>\n",
       "      <td>yp54_C08</td>\n",
       "      <td>6</td>\n",
       "      <td>1</td>\n",
       "      <td>5</td>\n",
       "      <td>3</td>\n",
       "      <td>48.138193</td>\n",
       "    </tr>\n",
       "  </tbody>\n",
       "</table>\n",
       "</div>"
      ],
      "text/plain": [
       "    Line_name  0  1  2  3    Amt_norm\n",
       "3    yp53_A05  5  1  5  2  119.800397\n",
       "26   yp53_C04  5  1  5  4  140.086994\n",
       "33   yp53_C11  3  1  6  4    2.715863\n",
       "34   yp53_C12  3  1  6  4   43.073560\n",
       "41   yp53_D07  4  1  5  5    5.225774\n",
       "79   yp54_A08  5  1  6  1   83.107365\n",
       "100  yp54_C08  6  1  5  3   48.138193"
      ]
     },
     "execution_count": 64,
     "metadata": {},
     "output_type": "execute_result"
    }
   ],
   "source": [
    "DIFF_LL_CH = CH_second_round[~CH_second_round.apply(tuple,1).isin(LL_second_round.apply(tuple,1))]\n",
    "DIFF_LL_CH"
   ]
  },
  {
   "cell_type": "code",
   "execution_count": 65,
   "id": "a5412c4b-6337-454a-94c7-379cc5db3184",
   "metadata": {},
   "outputs": [
    {
     "ename": "NameError",
     "evalue": "name 'second_round_top_producers' is not defined",
     "output_type": "error",
     "traceback": [
      "\u001b[0;31m---------------------------------------------------------------------------\u001b[0m",
      "\u001b[0;31mNameError\u001b[0m                                 Traceback (most recent call last)",
      "Input \u001b[0;32mIn [65]\u001b[0m, in \u001b[0;36m<cell line: 23>\u001b[0;34m()\u001b[0m\n\u001b[1;32m     20\u001b[0m pcpr_genotype \u001b[38;5;241m=\u001b[39m []\n\u001b[1;32m     22\u001b[0m \u001b[38;5;66;03m# adding index of genotypes to individual rows \u001b[39;00m\n\u001b[0;32m---> 23\u001b[0m \u001b[38;5;28;01mfor\u001b[39;00m index, row \u001b[38;5;129;01min\u001b[39;00m \u001b[43msecond_round_top_producers\u001b[49m\u001b[38;5;241m.\u001b[39miterrows():\n\u001b[1;32m     24\u001b[0m     \u001b[38;5;66;03m# homologs\u001b[39;00m\n\u001b[1;32m     25\u001b[0m     g8h_name \u001b[38;5;241m=\u001b[39m g8h_list_of_index[\u001b[38;5;28mint\u001b[39m(row[\u001b[38;5;124m'\u001b[39m\u001b[38;5;124m0\u001b[39m\u001b[38;5;124m'\u001b[39m]\u001b[38;5;241m-\u001b[39m\u001b[38;5;241m1\u001b[39m)]\n\u001b[1;32m     26\u001b[0m     cpr_name \u001b[38;5;241m=\u001b[39m cpr_list_of_index[\u001b[38;5;28mint\u001b[39m(row[\u001b[38;5;124m'\u001b[39m\u001b[38;5;124m3\u001b[39m\u001b[38;5;124m'\u001b[39m]\u001b[38;5;241m-\u001b[39m\u001b[38;5;241m1\u001b[39m)]\n",
      "\u001b[0;31mNameError\u001b[0m: name 'second_round_top_producers' is not defined"
     ]
    }
   ],
   "source": [
    "list_of_promoters = [\"pCYC1\", \"pENO2\",\"pPCK1\",\"pRPL15B\", \"pCCW12\", \"pTPI1\",\"pMLS1\",\"pURE2\"]\n",
    "\n",
    "promoter_dict = {i+1:list_of_promoters[i]for i in range(len(list_of_promoters))}\n",
    "\n",
    "\n",
    "g8h_list_of_index = [\"CacuG8H\", \"OpumG8H\",\"CroG8H\",\"VminG8H\",\"SmusG8H\",\"RsepG8H\",\"OeuG8H\",\"CcalG8H\"]\n",
    "cpr_list_of_index = [\"CroCPR\", \"AanCPR\",\"AraCPR\",\"CloCPR\",\"RseCPR\",\"AhuCPR\",\"AniCPR\",\"CacCPR\",\"OeuCPR\",\"CpoCPR\"]\n",
    "\n",
    "\n",
    "list_of_promoters = [\"pCYC1\", \"pENO2\",\"pPCK1\",\"pRPL15B\", \"pCCW12\", \"pTPI1\",\"pMLS1\",\"pURE2\"]\n",
    "\n",
    "pg8h_list_of_index = ['pCYC1', 'pENO2']\n",
    "pcpr_list_of_index = ['pCCW12', 'pTPI1'] \n",
    "\n",
    "\n",
    "\n",
    "g8h_genotype = []\n",
    "cpr_genotype = []\n",
    "pg8h_genotype = []\n",
    "pcpr_genotype = []\n",
    "\n",
    "# adding index of genotypes to individual rows \n",
    "for index, row in second_round_top_producers.iterrows():\n",
    "    # homologs\n",
    "    g8h_name = g8h_list_of_index[int(row['0']-1)]\n",
    "    cpr_name = cpr_list_of_index[int(row['3']-1)]\n",
    "    \n",
    "    # promoters\n",
    "    pg8h_name =promoter_dict[row['1']]\n",
    "    pcpr_name = promoter_dict[row['2']]\n",
    "    \n",
    "    \n",
    "    # save the genotypes\n",
    "    g8h_genotype.append(g8h_name)\n",
    "    cpr_genotype.append(cpr_name)\n",
    "    pg8h_genotype.append(pg8h_name)\n",
    "    pcpr_genotype.append(pcpr_name)\n",
    "\n",
    "second_round_top_producers['G8H'] = g8h_genotype\n",
    "second_round_top_producers['CPR'] = cpr_genotype\n",
    "second_round_top_producers['pG8H'] = pg8h_genotype\n",
    "second_round_top_producers['pCPR'] = pcpr_genotype"
   ]
  },
  {
   "cell_type": "code",
   "execution_count": null,
   "id": "ebbe4918-efd6-467c-9b73-b73d60196cf4",
   "metadata": {},
   "outputs": [],
   "source": [
    "second_round_top_producers = second_round_top_producers[['G8H', 'pG8H','pCPR', 'CPR','Amt_norm' ]]\n",
    "second_round_top_producers"
   ]
  },
  {
   "cell_type": "code",
   "execution_count": null,
   "id": "c9395cd4-15e2-40ce-a46c-76e03a399cb1",
   "metadata": {},
   "outputs": [],
   "source": [
    "# Using DataFrame.agg() to combine two columns of text\n",
    "second_round_top_producers[\"Names\"] = second_round_top_producers[['G8H', 'pG8H','pCPR', 'CPR']].agg('-'.join, axis=1)\n",
    "second_round_top_producers= second_round_top_producers.reset_index()\n",
    "\n",
    "second_round_top_producers_TOP20 = second_round_top_producers[:20]\n",
    "second_round_top_producers_TOP20"
   ]
  },
  {
   "cell_type": "code",
   "execution_count": null,
   "id": "468df39f-15ec-4184-8354-5bcacee95066",
   "metadata": {},
   "outputs": [],
   "source": [
    "import seaborn as sns\n",
    "import matplotlib.pyplot as plt\n",
    "sns.set_theme(style=\"whitegrid\")\n",
    "# Font size\n",
    "#sns.set_context(\"paper\", rc={\"font.size\":8})\n",
    "\n",
    "# Initialize the matplotlib figure\n",
    "f, ax = plt.subplots(figsize=(15, 15))\n",
    "\n",
    "\n",
    "\n",
    "# Initializing plot\n",
    "sns.set_color_codes('pastel')\n",
    "ax = sns.barplot(x = 'Amt_norm', y = [i for i in second_round_top_producers_TOP20.index], data = second_round_top_producers_TOP20,\n",
    "            label = '', color = 'b', edgecolor = 'w', orient = 'h')\n",
    "\n",
    "# adding a horisontal line\n",
    "plt.axvline(100, color='black')\n",
    "\n",
    "# adding laves to each box\n",
    "second_round_top_producers_TOP20_NAMES = list(second_round_top_producers_TOP20['Names'])\n",
    "\n",
    "# adding the labels on the bar\n",
    "for c in ax.containers:\n",
    "    ax.bar_label(c, labels=second_round_top_producers_TOP20_NAMES, label_type='center')\n",
    "    ax.bar_label(c)\n",
    "\n",
    "\n",
    "None"
   ]
  },
  {
   "cell_type": "markdown",
   "id": "09dca187-a184-46a5-9256-ef6f4c33260c",
   "metadata": {
    "tags": []
   },
   "source": [
    "## Bar plots \n",
    "\n"
   ]
  },
  {
   "cell_type": "markdown",
   "id": "98dee33e-d82a-4a12-9280-d8a19de602a2",
   "metadata": {
    "tags": []
   },
   "source": [
    "#### First round"
   ]
  },
  {
   "cell_type": "code",
   "execution_count": null,
   "id": "f19123e0-0b59-48c1-9584-f0cfc123c132",
   "metadata": {},
   "outputs": [],
   "source": [
    "first_round_top_producers = pd.read_csv('ConStrain_on_google_colab/Data/AutoML/input_for_ml_reseq.csv')\n",
    "first_round_top_producers = first_round_top_producers.sort_values(by='Amt_norm', ascending=False)"
   ]
  },
  {
   "cell_type": "code",
   "execution_count": null,
   "id": "537c2e1c-d370-4948-a7fe-3acf9436ac09",
   "metadata": {},
   "outputs": [],
   "source": [
    "first_round_top_producers.sort_values(by='Amt_norm', ascending=False)"
   ]
  },
  {
   "cell_type": "code",
   "execution_count": null,
   "id": "4b4e4e72-17c9-4469-9d09-de3b0c954b81",
   "metadata": {},
   "outputs": [],
   "source": [
    "list_of_promoters = [\"pCYC1\", \"pENO2\",\"pPCK1\",\"pRPL15B\", \"pCCW12\", \"pTPI1\",\"pMLS1\",\"pURE2\"]\n",
    "\n",
    "promoter_dict = {i+1:list_of_promoters[i]for i in range(len(list_of_promoters))}\n",
    "\n",
    "\n",
    "g8h_list_of_index = [\"CacuG8H\", \"OpumG8H\",\"CroG8H\",\"VminG8H\",\"SmusG8H\",\"RsepG8H\",\"OeuG8H\",\"CcalG8H\"]\n",
    "cpr_list_of_index = [\"CroCPR\", \"AanCPR\",\"AraCPR\",\"CloCPR\",\"RseCPR\",\"AhuCPR\",\"AniCPR\",\"CacCPR\",\"OeuCPR\",\"CpoCPR\"]\n",
    "\n",
    "\n",
    "list_of_promoters = [\"pCYC1\", \"pENO2\",\"pPCK1\",\"pRPL15B\", \"pCCW12\", \"pTPI1\",\"pMLS1\",\"pURE2\"]\n",
    "\n",
    "pg8h_list_of_index = ['pCYC1', 'pENO2']\n",
    "pcpr_list_of_index = ['pCCW12', 'pTPI1'] \n",
    "\n",
    "\n",
    "\n",
    "g8h_genotype = []\n",
    "cpr_genotype = []\n",
    "pg8h_genotype = []\n",
    "pcpr_genotype = []\n",
    "\n",
    "# adding index of genotypes to individual rows \n",
    "for index, row in first_round_top_producers.iterrows():\n",
    "    # homologs\n",
    "    g8h_name = g8h_list_of_index[int(row['0']-1)]\n",
    "    cpr_name = cpr_list_of_index[int(row['3']-1)]\n",
    "    \n",
    "    # promoters\n",
    "    pg8h_name =promoter_dict[row['1']]\n",
    "    pcpr_name = promoter_dict[row['2']]\n",
    "    \n",
    "    \n",
    "    # save the genotypes\n",
    "    g8h_genotype.append(g8h_name)\n",
    "    cpr_genotype.append(cpr_name)\n",
    "    pg8h_genotype.append(pg8h_name)\n",
    "    pcpr_genotype.append(pcpr_name)\n",
    "\n",
    "first_round_top_producers['G8H'] = g8h_genotype\n",
    "first_round_top_producers['CPR'] = cpr_genotype\n",
    "first_round_top_producers['pG8H'] = pg8h_genotype\n",
    "first_round_top_producers['pCPR'] = pcpr_genotype"
   ]
  },
  {
   "cell_type": "code",
   "execution_count": null,
   "id": "c61c39de-1994-48e2-9f37-f57fee8e15fc",
   "metadata": {},
   "outputs": [],
   "source": [
    "first_round_top_producers = first_round_top_producers[['G8H', 'pG8H','pCPR', 'CPR','Amt_norm' ]]\n",
    "first_round_top_producers"
   ]
  },
  {
   "cell_type": "code",
   "execution_count": null,
   "id": "ad36bdc0-7e56-4776-a920-b9aaaff64919",
   "metadata": {},
   "outputs": [],
   "source": [
    "# Using DataFrame.agg() to combine two columns of text\n",
    "first_round_top_producers[\"Names\"] = first_round_top_producers[['G8H', 'pG8H','pCPR', 'CPR']].agg('-'.join, axis=1)\n",
    "first_round_top_producers= first_round_top_producers.reset_index()\n",
    "\n",
    "first_round_top_producers_TOP20 = first_round_top_producers[:20]\n",
    "first_round_top_producers_TOP20"
   ]
  },
  {
   "cell_type": "code",
   "execution_count": null,
   "id": "941fad16-60ce-4178-8e66-4af9a5fc0b4d",
   "metadata": {},
   "outputs": [],
   "source": [
    "import seaborn as sns\n",
    "import matplotlib.pyplot as plt\n",
    "sns.set_theme(style=\"whitegrid\")\n",
    "# Font size\n",
    "#sns.set_context(\"paper\", rc={\"font.size\":8})\n",
    "\n",
    "# Initialize the matplotlib figure\n",
    "f, ax = plt.subplots(figsize=(30, 15))\n",
    "\n",
    "\n",
    "\n",
    "# Initializing plot\n",
    "sns.set_color_codes('pastel')\n",
    "ax = sns.barplot(x = 'Amt_norm', y = [i for i in first_round_top_producers_TOP20.index], data = first_round_top_producers_TOP20,\n",
    "            label = '', color = 'b', edgecolor = 'w', orient = 'h')\n",
    "\n",
    "# adding a horisontal line\n",
    "plt.axvline(100, color='black')\n",
    "\n",
    "# adding laves to each box\n",
    "first_round_top_producers_TOP20_NAMES = list(first_round_top_producers_TOP20['Names'])\n",
    "\n",
    "# adding the labels on the bar\n",
    "for c in ax.containers:\n",
    "    ax.bar_label(c, labels=first_round_top_producers_TOP20_NAMES, label_type='center')\n",
    "    ax.bar_label(c)\n",
    "\n",
    "\n",
    "None"
   ]
  },
  {
   "cell_type": "markdown",
   "id": "e1593328-a045-4d71-be91-08a0933d0e1b",
   "metadata": {
    "tags": []
   },
   "source": [
    "#### Second round"
   ]
  },
  {
   "cell_type": "code",
   "execution_count": null,
   "id": "b8ab44a8-50c5-4e5b-a3e6-7283d0beb10c",
   "metadata": {},
   "outputs": [],
   "source": [
    "second_round_top_producers = pd.read_csv('ConStrain_on_google_colab/Data/AutoML/input_for_ml_2nd_iteration.csv')\n",
    "second_round_top_producers = second_round_top_producers.sort_values(by='Amt_norm', ascending=False)"
   ]
  },
  {
   "cell_type": "code",
   "execution_count": null,
   "id": "a0c4503f-e9da-4441-80ac-b7112360c37b",
   "metadata": {},
   "outputs": [],
   "source": [
    "second_round_top_producers.sort_values(by='Amt_norm', ascending=False)"
   ]
  },
  {
   "cell_type": "code",
   "execution_count": null,
   "id": "a7b4cb75-9c8a-4d71-81f3-8578127cf001",
   "metadata": {},
   "outputs": [],
   "source": [
    "list_of_promoters = [\"pCYC1\", \"pENO2\",\"pPCK1\",\"pRPL15B\", \"pCCW12\", \"pTPI1\",\"pMLS1\",\"pURE2\"]\n",
    "\n",
    "promoter_dict = {i+1:list_of_promoters[i]for i in range(len(list_of_promoters))}\n",
    "\n",
    "\n",
    "g8h_list_of_index = [\"CacuG8H\", \"OpumG8H\",\"CroG8H\",\"VminG8H\",\"SmusG8H\",\"RsepG8H\",\"OeuG8H\",\"CcalG8H\"]\n",
    "cpr_list_of_index = [\"CroCPR\", \"AanCPR\",\"AraCPR\",\"CloCPR\",\"RseCPR\",\"AhuCPR\",\"AniCPR\",\"CacCPR\",\"OeuCPR\",\"CpoCPR\"]\n",
    "\n",
    "\n",
    "list_of_promoters = [\"pCYC1\", \"pENO2\",\"pPCK1\",\"pRPL15B\", \"pCCW12\", \"pTPI1\",\"pMLS1\",\"pURE2\"]\n",
    "\n",
    "pg8h_list_of_index = ['pCYC1', 'pENO2']\n",
    "pcpr_list_of_index = ['pCCW12', 'pTPI1'] \n",
    "\n",
    "\n",
    "\n",
    "g8h_genotype = []\n",
    "cpr_genotype = []\n",
    "pg8h_genotype = []\n",
    "pcpr_genotype = []\n",
    "\n",
    "# adding index of genotypes to individual rows \n",
    "for index, row in second_round_top_producers.iterrows():\n",
    "    # homologs\n",
    "    g8h_name = g8h_list_of_index[int(row['0']-1)]\n",
    "    cpr_name = cpr_list_of_index[int(row['3']-1)]\n",
    "    \n",
    "    # promoters\n",
    "    pg8h_name =promoter_dict[row['1']]\n",
    "    pcpr_name = promoter_dict[row['2']]\n",
    "    \n",
    "    \n",
    "    # save the genotypes\n",
    "    g8h_genotype.append(g8h_name)\n",
    "    cpr_genotype.append(cpr_name)\n",
    "    pg8h_genotype.append(pg8h_name)\n",
    "    pcpr_genotype.append(pcpr_name)\n",
    "\n",
    "second_round_top_producers['G8H'] = g8h_genotype\n",
    "second_round_top_producers['CPR'] = cpr_genotype\n",
    "second_round_top_producers['pG8H'] = pg8h_genotype\n",
    "second_round_top_producers['pCPR'] = pcpr_genotype"
   ]
  },
  {
   "cell_type": "code",
   "execution_count": null,
   "id": "b9995ccf-e66a-44a6-9cd9-f3bd469f7d5e",
   "metadata": {},
   "outputs": [],
   "source": [
    "second_round_top_producers = second_round_top_producers[['G8H', 'pG8H','pCPR', 'CPR','Amt_norm' ]]\n",
    "second_round_top_producers"
   ]
  },
  {
   "cell_type": "code",
   "execution_count": null,
   "id": "ca63bfa4-0e45-43b3-b9d8-5eff01fd24d4",
   "metadata": {},
   "outputs": [],
   "source": [
    "# Using DataFrame.agg() to combine two columns of text\n",
    "second_round_top_producers[\"Names\"] = second_round_top_producers[['G8H', 'pG8H','pCPR', 'CPR']].agg('-'.join, axis=1)\n",
    "second_round_top_producers= second_round_top_producers.reset_index()\n",
    "\n",
    "second_round_top_producers_TOP20 = second_round_top_producers[:20]\n",
    "second_round_top_producers_TOP20"
   ]
  },
  {
   "cell_type": "code",
   "execution_count": null,
   "id": "dcd96737-82d7-47c6-8624-a429457a11ac",
   "metadata": {},
   "outputs": [],
   "source": [
    "import seaborn as sns\n",
    "import matplotlib.pyplot as plt\n",
    "sns.set_theme(style=\"whitegrid\")\n",
    "# Font size\n",
    "#sns.set_context(\"paper\", rc={\"font.size\":8})\n",
    "\n",
    "# Initialize the matplotlib figure\n",
    "f, ax = plt.subplots(figsize=(15, 15))\n",
    "\n",
    "\n",
    "\n",
    "# Initializing plot\n",
    "sns.set_color_codes('pastel')\n",
    "ax = sns.barplot(x = 'Amt_norm', y = [i for i in second_round_top_producers_TOP20.index], data = second_round_top_producers_TOP20,\n",
    "            label = '', color = 'b', edgecolor = 'w', orient = 'h')\n",
    "\n",
    "# adding a horisontal line\n",
    "plt.axvline(100, color='black')\n",
    "\n",
    "# adding laves to each box\n",
    "second_round_top_producers_TOP20_NAMES = list(second_round_top_producers_TOP20['Names'])\n",
    "\n",
    "# adding the labels on the bar\n",
    "for c in ax.containers:\n",
    "    ax.bar_label(c, labels=second_round_top_producers_TOP20_NAMES, label_type='center')\n",
    "    ax.bar_label(c)\n",
    "\n",
    "\n",
    "None"
   ]
  },
  {
   "cell_type": "code",
   "execution_count": null,
   "id": "74767243-fbb2-43fc-92d3-c38f8560e245",
   "metadata": {},
   "outputs": [],
   "source": []
  },
  {
   "cell_type": "code",
   "execution_count": null,
   "id": "9d7af9bf-5841-427f-ac42-9ec61c25290a",
   "metadata": {},
   "outputs": [],
   "source": []
  },
  {
   "cell_type": "code",
   "execution_count": null,
   "id": "e7bf814b-9029-441e-894e-452f6623b584",
   "metadata": {},
   "outputs": [],
   "source": []
  }
 ],
 "metadata": {
  "kernelspec": {
   "display_name": "Python 3 (ipykernel)",
   "language": "python",
   "name": "python3"
  },
  "language_info": {
   "codemirror_mode": {
    "name": "ipython",
    "version": 3
   },
   "file_extension": ".py",
   "mimetype": "text/x-python",
   "name": "python",
   "nbconvert_exporter": "python",
   "pygments_lexer": "ipython3",
   "version": "3.8.13"
  }
 },
 "nbformat": 4,
 "nbformat_minor": 5
}
