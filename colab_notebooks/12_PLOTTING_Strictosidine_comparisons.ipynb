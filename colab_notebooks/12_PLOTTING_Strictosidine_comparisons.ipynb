{
 "cells": [
  {
   "cell_type": "code",
   "execution_count": 1,
   "id": "112af712-0e2f-4866-9745-5217c81eca22",
   "metadata": {},
   "outputs": [],
   "source": [
    "import pandas as pd"
   ]
  },
  {
   "cell_type": "code",
   "execution_count": 2,
   "id": "e8ba2d11-3d0e-4f5f-a10a-3bb6c9c453aa",
   "metadata": {},
   "outputs": [],
   "source": [
    "# Christines data: "
   ]
  },
  {
   "cell_type": "markdown",
   "id": "dfe9858c-ab59-404e-8625-27078b613584",
   "metadata": {
    "tags": []
   },
   "source": [
    "## All the genotypes"
   ]
  },
  {
   "cell_type": "code",
   "execution_count": 3,
   "id": "9d418dae-4c06-41f3-ace1-8662cc4f9d43",
   "metadata": {},
   "outputs": [
    {
     "data": {
      "text/plain": [
       "1280"
      ]
     },
     "execution_count": 3,
     "metadata": {},
     "output_type": "execute_result"
    }
   ],
   "source": [
    "#ConStrain/colab_notebooks/ConStrain_on_google_colab/Data/AutoML/systematic_names_on_all_combinations.csv\n",
    "all_genotypes = pd.read_csv('ConStrain_on_google_colab/Data/AutoML/systematic_names_on_all_combinations.csv',)\n",
    "all_genotypes =all_genotypes[['0','1','2','3']]\n",
    "len(all_genotypes)"
   ]
  },
  {
   "cell_type": "markdown",
   "id": "6bdc3e3c-26c0-457b-9675-66afe5462312",
   "metadata": {},
   "source": [
    "### Strains made in first DBTL round (with re-sequenced strains)"
   ]
  },
  {
   "cell_type": "code",
   "execution_count": 4,
   "id": "f5df95bf-dbc3-468d-b011-0653af4e7f7f",
   "metadata": {},
   "outputs": [
    {
     "data": {
      "text/plain": [
       "166"
      ]
     },
     "execution_count": 4,
     "metadata": {},
     "output_type": "execute_result"
    }
   ],
   "source": [
    "first_round = pd.read_csv('ConStrain_on_google_colab/Data/AutoML/input_for_ml_reseq.csv',)\n",
    "first_round = first_round[['0','1','2','3']]\n",
    "len(first_round) # beware there are 8 duplicates here"
   ]
  },
  {
   "cell_type": "code",
   "execution_count": 5,
   "id": "b4c91efa-93d4-4416-b341-3e22f7d2c643",
   "metadata": {},
   "outputs": [
    {
     "name": "stdout",
     "output_type": "stream",
     "text": [
      "Unique genotypes from 1st round : 158\n"
     ]
    },
    {
     "data": {
      "text/html": [
       "<div>\n",
       "<style scoped>\n",
       "    .dataframe tbody tr th:only-of-type {\n",
       "        vertical-align: middle;\n",
       "    }\n",
       "\n",
       "    .dataframe tbody tr th {\n",
       "        vertical-align: top;\n",
       "    }\n",
       "\n",
       "    .dataframe thead th {\n",
       "        text-align: right;\n",
       "    }\n",
       "</style>\n",
       "<table border=\"1\" class=\"dataframe\">\n",
       "  <thead>\n",
       "    <tr style=\"text-align: right;\">\n",
       "      <th></th>\n",
       "      <th>0</th>\n",
       "      <th>1</th>\n",
       "      <th>2</th>\n",
       "      <th>3</th>\n",
       "    </tr>\n",
       "  </thead>\n",
       "  <tbody>\n",
       "    <tr>\n",
       "      <th>13</th>\n",
       "      <td>1</td>\n",
       "      <td>1</td>\n",
       "      <td>8</td>\n",
       "      <td>8</td>\n",
       "    </tr>\n",
       "    <tr>\n",
       "      <th>42</th>\n",
       "      <td>3</td>\n",
       "      <td>2</td>\n",
       "      <td>6</td>\n",
       "      <td>2</td>\n",
       "    </tr>\n",
       "    <tr>\n",
       "      <th>71</th>\n",
       "      <td>4</td>\n",
       "      <td>3</td>\n",
       "      <td>8</td>\n",
       "      <td>6</td>\n",
       "    </tr>\n",
       "    <tr>\n",
       "      <th>82</th>\n",
       "      <td>5</td>\n",
       "      <td>4</td>\n",
       "      <td>6</td>\n",
       "      <td>1</td>\n",
       "    </tr>\n",
       "    <tr>\n",
       "      <th>86</th>\n",
       "      <td>5</td>\n",
       "      <td>4</td>\n",
       "      <td>5</td>\n",
       "      <td>3</td>\n",
       "    </tr>\n",
       "    <tr>\n",
       "      <th>90</th>\n",
       "      <td>5</td>\n",
       "      <td>2</td>\n",
       "      <td>8</td>\n",
       "      <td>4</td>\n",
       "    </tr>\n",
       "    <tr>\n",
       "      <th>94</th>\n",
       "      <td>5</td>\n",
       "      <td>4</td>\n",
       "      <td>8</td>\n",
       "      <td>6</td>\n",
       "    </tr>\n",
       "    <tr>\n",
       "      <th>106</th>\n",
       "      <td>6</td>\n",
       "      <td>1</td>\n",
       "      <td>8</td>\n",
       "      <td>2</td>\n",
       "    </tr>\n",
       "  </tbody>\n",
       "</table>\n",
       "</div>"
      ],
      "text/plain": [
       "     0  1  2  3\n",
       "13   1  1  8  8\n",
       "42   3  2  6  2\n",
       "71   4  3  8  6\n",
       "82   5  4  6  1\n",
       "86   5  4  5  3\n",
       "90   5  2  8  4\n",
       "94   5  4  8  6\n",
       "106  6  1  8  2"
      ]
     },
     "execution_count": 5,
     "metadata": {},
     "output_type": "execute_result"
    }
   ],
   "source": [
    "# Are there any duplicated \n",
    "duplicateRows = first_round[first_round.duplicated(['0','1','2','3'])]\n",
    "print('Unique genotypes from 1st round :', len(first_round) -len(duplicateRows))\n",
    "duplicateRows"
   ]
  },
  {
   "cell_type": "code",
   "execution_count": 6,
   "id": "4680c7be-c9b3-4738-a1c8-e1b94b3bdc97",
   "metadata": {},
   "outputs": [
    {
     "data": {
      "text/html": [
       "<div>\n",
       "<style scoped>\n",
       "    .dataframe tbody tr th:only-of-type {\n",
       "        vertical-align: middle;\n",
       "    }\n",
       "\n",
       "    .dataframe tbody tr th {\n",
       "        vertical-align: top;\n",
       "    }\n",
       "\n",
       "    .dataframe thead th {\n",
       "        text-align: right;\n",
       "    }\n",
       "</style>\n",
       "<table border=\"1\" class=\"dataframe\">\n",
       "  <thead>\n",
       "    <tr style=\"text-align: right;\">\n",
       "      <th></th>\n",
       "      <th>0</th>\n",
       "      <th>1</th>\n",
       "      <th>2</th>\n",
       "      <th>3</th>\n",
       "    </tr>\n",
       "  </thead>\n",
       "  <tbody>\n",
       "    <tr>\n",
       "      <th>0</th>\n",
       "      <td>1</td>\n",
       "      <td>1</td>\n",
       "      <td>5</td>\n",
       "      <td>1</td>\n",
       "    </tr>\n",
       "    <tr>\n",
       "      <th>1</th>\n",
       "      <td>1</td>\n",
       "      <td>1</td>\n",
       "      <td>5</td>\n",
       "      <td>2</td>\n",
       "    </tr>\n",
       "    <tr>\n",
       "      <th>3</th>\n",
       "      <td>1</td>\n",
       "      <td>1</td>\n",
       "      <td>5</td>\n",
       "      <td>4</td>\n",
       "    </tr>\n",
       "    <tr>\n",
       "      <th>4</th>\n",
       "      <td>1</td>\n",
       "      <td>1</td>\n",
       "      <td>5</td>\n",
       "      <td>5</td>\n",
       "    </tr>\n",
       "    <tr>\n",
       "      <th>6</th>\n",
       "      <td>1</td>\n",
       "      <td>1</td>\n",
       "      <td>5</td>\n",
       "      <td>7</td>\n",
       "    </tr>\n",
       "    <tr>\n",
       "      <th>...</th>\n",
       "      <td>...</td>\n",
       "      <td>...</td>\n",
       "      <td>...</td>\n",
       "      <td>...</td>\n",
       "    </tr>\n",
       "    <tr>\n",
       "      <th>1275</th>\n",
       "      <td>8</td>\n",
       "      <td>4</td>\n",
       "      <td>8</td>\n",
       "      <td>6</td>\n",
       "    </tr>\n",
       "    <tr>\n",
       "      <th>1276</th>\n",
       "      <td>8</td>\n",
       "      <td>4</td>\n",
       "      <td>8</td>\n",
       "      <td>7</td>\n",
       "    </tr>\n",
       "    <tr>\n",
       "      <th>1277</th>\n",
       "      <td>8</td>\n",
       "      <td>4</td>\n",
       "      <td>8</td>\n",
       "      <td>8</td>\n",
       "    </tr>\n",
       "    <tr>\n",
       "      <th>1278</th>\n",
       "      <td>8</td>\n",
       "      <td>4</td>\n",
       "      <td>8</td>\n",
       "      <td>9</td>\n",
       "    </tr>\n",
       "    <tr>\n",
       "      <th>1279</th>\n",
       "      <td>8</td>\n",
       "      <td>4</td>\n",
       "      <td>8</td>\n",
       "      <td>10</td>\n",
       "    </tr>\n",
       "  </tbody>\n",
       "</table>\n",
       "<p>1122 rows × 4 columns</p>\n",
       "</div>"
      ],
      "text/plain": [
       "      0  1  2   3\n",
       "0     1  1  5   1\n",
       "1     1  1  5   2\n",
       "3     1  1  5   4\n",
       "4     1  1  5   5\n",
       "6     1  1  5   7\n",
       "...  .. .. ..  ..\n",
       "1275  8  4  8   6\n",
       "1276  8  4  8   7\n",
       "1277  8  4  8   8\n",
       "1278  8  4  8   9\n",
       "1279  8  4  8  10\n",
       "\n",
       "[1122 rows x 4 columns]"
      ]
     },
     "execution_count": 6,
     "metadata": {},
     "output_type": "execute_result"
    }
   ],
   "source": [
    "df_diff = all_genotypes[~all_genotypes.apply(tuple,1).isin(first_round.apply(tuple,1))]\n",
    "df_diff"
   ]
  },
  {
   "cell_type": "code",
   "execution_count": 7,
   "id": "ca385645-f3a8-4046-81e4-73bded75c7a8",
   "metadata": {},
   "outputs": [
    {
     "data": {
      "text/plain": [
       "127"
      ]
     },
     "execution_count": 7,
     "metadata": {},
     "output_type": "execute_result"
    }
   ],
   "source": [
    "second_round = pd.read_csv('ConStrain_on_google_colab/Data/AutoML/input_for_ml_2nd_iteration.csv')\n",
    "second_round = second_round[['0','1','2','3']]\n",
    "len(second_round) # beware there are 8 duplicates here"
   ]
  },
  {
   "cell_type": "code",
   "execution_count": 8,
   "id": "95357fac-4723-4036-9840-dd5510474257",
   "metadata": {},
   "outputs": [
    {
     "data": {
      "text/plain": [
       "43"
      ]
     },
     "execution_count": 8,
     "metadata": {},
     "output_type": "execute_result"
    }
   ],
   "source": [
    "# Are there any duplicated - \n",
    "duplicateRows = second_round[second_round.duplicated(['0','1','2','3'])]\n",
    "len(duplicateRows)"
   ]
  },
  {
   "cell_type": "markdown",
   "id": "0c086498-0ef8-418d-a113-d01c317d5978",
   "metadata": {},
   "source": [
    "The same 43 genotypes are sampled twice, lets remove them"
   ]
  },
  {
   "cell_type": "code",
   "execution_count": 9,
   "id": "a4077096-598a-4190-aac4-3479ed9dfc74",
   "metadata": {},
   "outputs": [
    {
     "name": "stdout",
     "output_type": "stream",
     "text": [
      "Unique rows from second iterations :  84\n"
     ]
    }
   ],
   "source": [
    "print('Unique rows from second iterations : ', len(second_round)-len(duplicateRows))"
   ]
  },
  {
   "cell_type": "code",
   "execution_count": 10,
   "id": "95d6bb5e-cb8a-45b4-a6c5-94a27831adb8",
   "metadata": {},
   "outputs": [],
   "source": [
    "second_round = second_round.drop_duplicates()"
   ]
  },
  {
   "cell_type": "code",
   "execution_count": 11,
   "id": "a10613bc-3965-4af6-9122-4342f1fd8c3c",
   "metadata": {},
   "outputs": [
    {
     "data": {
      "text/plain": [
       "73"
      ]
     },
     "execution_count": 11,
     "metadata": {},
     "output_type": "execute_result"
    }
   ],
   "source": [
    "# How many new combinations are seen between round 1 and round 2?\n",
    "df_diff_between_first_and_second = second_round[~second_round.apply(tuple,1).isin(first_round.apply(tuple,1))]\n",
    "len(df_diff_between_first_and_second)"
   ]
  },
  {
   "cell_type": "code",
   "execution_count": 12,
   "id": "df998bc5-787c-4bc4-8154-c044ce9ada89",
   "metadata": {},
   "outputs": [
    {
     "data": {
      "text/plain": [
       "231"
      ]
     },
     "execution_count": 12,
     "metadata": {},
     "output_type": "execute_result"
    }
   ],
   "source": [
    "158+73"
   ]
  },
  {
   "cell_type": "markdown",
   "id": "dfaadbf9-827e-4507-b36c-5af8cf50ffb9",
   "metadata": {},
   "source": [
    "We see 112 new combinations"
   ]
  },
  {
   "cell_type": "code",
   "execution_count": 13,
   "id": "2cfffcf0-29c2-4c15-894f-2f35d5c7696e",
   "metadata": {},
   "outputs": [
    {
     "data": {
      "text/html": [
       "<div>\n",
       "<style scoped>\n",
       "    .dataframe tbody tr th:only-of-type {\n",
       "        vertical-align: middle;\n",
       "    }\n",
       "\n",
       "    .dataframe tbody tr th {\n",
       "        vertical-align: top;\n",
       "    }\n",
       "\n",
       "    .dataframe thead th {\n",
       "        text-align: right;\n",
       "    }\n",
       "</style>\n",
       "<table border=\"1\" class=\"dataframe\">\n",
       "  <thead>\n",
       "    <tr style=\"text-align: right;\">\n",
       "      <th></th>\n",
       "      <th>0</th>\n",
       "      <th>1</th>\n",
       "      <th>2</th>\n",
       "      <th>3</th>\n",
       "    </tr>\n",
       "  </thead>\n",
       "  <tbody>\n",
       "    <tr>\n",
       "      <th>0</th>\n",
       "      <td>1</td>\n",
       "      <td>1</td>\n",
       "      <td>5</td>\n",
       "      <td>1</td>\n",
       "    </tr>\n",
       "    <tr>\n",
       "      <th>1</th>\n",
       "      <td>1</td>\n",
       "      <td>1</td>\n",
       "      <td>5</td>\n",
       "      <td>2</td>\n",
       "    </tr>\n",
       "    <tr>\n",
       "      <th>3</th>\n",
       "      <td>1</td>\n",
       "      <td>1</td>\n",
       "      <td>5</td>\n",
       "      <td>4</td>\n",
       "    </tr>\n",
       "    <tr>\n",
       "      <th>4</th>\n",
       "      <td>1</td>\n",
       "      <td>1</td>\n",
       "      <td>5</td>\n",
       "      <td>5</td>\n",
       "    </tr>\n",
       "    <tr>\n",
       "      <th>6</th>\n",
       "      <td>1</td>\n",
       "      <td>1</td>\n",
       "      <td>5</td>\n",
       "      <td>7</td>\n",
       "    </tr>\n",
       "    <tr>\n",
       "      <th>...</th>\n",
       "      <td>...</td>\n",
       "      <td>...</td>\n",
       "      <td>...</td>\n",
       "      <td>...</td>\n",
       "    </tr>\n",
       "    <tr>\n",
       "      <th>1275</th>\n",
       "      <td>8</td>\n",
       "      <td>4</td>\n",
       "      <td>8</td>\n",
       "      <td>6</td>\n",
       "    </tr>\n",
       "    <tr>\n",
       "      <th>1276</th>\n",
       "      <td>8</td>\n",
       "      <td>4</td>\n",
       "      <td>8</td>\n",
       "      <td>7</td>\n",
       "    </tr>\n",
       "    <tr>\n",
       "      <th>1277</th>\n",
       "      <td>8</td>\n",
       "      <td>4</td>\n",
       "      <td>8</td>\n",
       "      <td>8</td>\n",
       "    </tr>\n",
       "    <tr>\n",
       "      <th>1278</th>\n",
       "      <td>8</td>\n",
       "      <td>4</td>\n",
       "      <td>8</td>\n",
       "      <td>9</td>\n",
       "    </tr>\n",
       "    <tr>\n",
       "      <th>1279</th>\n",
       "      <td>8</td>\n",
       "      <td>4</td>\n",
       "      <td>8</td>\n",
       "      <td>10</td>\n",
       "    </tr>\n",
       "  </tbody>\n",
       "</table>\n",
       "<p>1049 rows × 4 columns</p>\n",
       "</div>"
      ],
      "text/plain": [
       "      0  1  2   3\n",
       "0     1  1  5   1\n",
       "1     1  1  5   2\n",
       "3     1  1  5   4\n",
       "4     1  1  5   5\n",
       "6     1  1  5   7\n",
       "...  .. .. ..  ..\n",
       "1275  8  4  8   6\n",
       "1276  8  4  8   7\n",
       "1277  8  4  8   8\n",
       "1278  8  4  8   9\n",
       "1279  8  4  8  10\n",
       "\n",
       "[1049 rows x 4 columns]"
      ]
     },
     "execution_count": 13,
     "metadata": {},
     "output_type": "execute_result"
    }
   ],
   "source": [
    "remaing_genotypes_in_the_library_after_2nd_iteration = df_diff[~df_diff.apply(tuple,1).isin(second_round.apply(tuple,1))]\n",
    "remaing_genotypes_in_the_library_after_2nd_iteration"
   ]
  },
  {
   "cell_type": "code",
   "execution_count": 14,
   "id": "dab9d688-e8be-45d7-8592-c06ac4a04e32",
   "metadata": {},
   "outputs": [
    {
     "name": "stdout",
     "output_type": "stream",
     "text": [
      "The total amount of unique genotypes seen in this study: 231\n",
      "Percent of the all genotypes sampled: 18.046875\n"
     ]
    }
   ],
   "source": [
    "# Unique genotypes\n",
    "print('The total amount of unique genotypes seen in this study:', len(all_genotypes)-len(remaing_genotypes_in_the_library_after_2nd_iteration))\n",
    "unique_genotypes = len(all_genotypes)-len(remaing_genotypes_in_the_library_after_2nd_iteration)\n",
    "\n",
    "# Out of the theoretical library\n",
    "print('Percent of the all genotypes sampled:', unique_genotypes/len(all_genotypes)*100)"
   ]
  },
  {
   "cell_type": "code",
   "execution_count": 15,
   "id": "4a082543-8ba9-41a1-8705-edf5988e15e7",
   "metadata": {},
   "outputs": [],
   "source": [
    "### Lets plot \n"
   ]
  },
  {
   "cell_type": "code",
   "execution_count": null,
   "id": "d8d56b98-da79-45ac-8e72-77efe958762d",
   "metadata": {},
   "outputs": [],
   "source": []
  },
  {
   "cell_type": "markdown",
   "id": "e3b26acc-7956-4bc0-a323-8954d2effd69",
   "metadata": {
    "tags": []
   },
   "source": [
    "## All the genotypes - Made with SECOND DATA LL"
   ]
  },
  {
   "cell_type": "code",
   "execution_count": 16,
   "id": "b56229fc-d485-4562-948d-7d9fa8a02ced",
   "metadata": {},
   "outputs": [
    {
     "data": {
      "text/plain": [
       "1280"
      ]
     },
     "execution_count": 16,
     "metadata": {},
     "output_type": "execute_result"
    }
   ],
   "source": [
    "#ConStrain/colab_notebooks/ConStrain_on_google_colab/Data/AutoML/systematic_names_on_all_combinations.csv\n",
    "all_genotypes = pd.read_csv('ConStrain_on_google_colab/Data/AutoML/systematic_names_on_all_combinations.csv',)\n",
    "all_genotypes =all_genotypes[['0','1','2','3']]\n",
    "len(all_genotypes)"
   ]
  },
  {
   "cell_type": "markdown",
   "id": "83aee809-abaf-45bb-ad7f-103b56e6db39",
   "metadata": {},
   "source": [
    "### Strains made in first DBTL round (with re-sequenced strains)"
   ]
  },
  {
   "cell_type": "code",
   "execution_count": 17,
   "id": "dbffac27-2270-45d3-9d77-55f80a3ce783",
   "metadata": {},
   "outputs": [
    {
     "data": {
      "text/plain": [
       "168"
      ]
     },
     "execution_count": 17,
     "metadata": {},
     "output_type": "execute_result"
    }
   ],
   "source": [
    "first_round = pd.read_csv('ConStrain_on_google_colab/Data/AutoML/input_for_ml_1st_iteration_LL.csv',)\n",
    "first_round = first_round[['0','1','2','3']]\n",
    "len(first_round) # beware there are 8 duplicates here"
   ]
  },
  {
   "cell_type": "code",
   "execution_count": 18,
   "id": "af41f59d-4094-459c-8946-15b33529fd95",
   "metadata": {},
   "outputs": [
    {
     "name": "stdout",
     "output_type": "stream",
     "text": [
      "Unique genotypes from 1st round : 160\n"
     ]
    },
    {
     "data": {
      "text/html": [
       "<div>\n",
       "<style scoped>\n",
       "    .dataframe tbody tr th:only-of-type {\n",
       "        vertical-align: middle;\n",
       "    }\n",
       "\n",
       "    .dataframe tbody tr th {\n",
       "        vertical-align: top;\n",
       "    }\n",
       "\n",
       "    .dataframe thead th {\n",
       "        text-align: right;\n",
       "    }\n",
       "</style>\n",
       "<table border=\"1\" class=\"dataframe\">\n",
       "  <thead>\n",
       "    <tr style=\"text-align: right;\">\n",
       "      <th></th>\n",
       "      <th>0</th>\n",
       "      <th>1</th>\n",
       "      <th>2</th>\n",
       "      <th>3</th>\n",
       "    </tr>\n",
       "  </thead>\n",
       "  <tbody>\n",
       "    <tr>\n",
       "      <th>13</th>\n",
       "      <td>1</td>\n",
       "      <td>1</td>\n",
       "      <td>8</td>\n",
       "      <td>8</td>\n",
       "    </tr>\n",
       "    <tr>\n",
       "      <th>42</th>\n",
       "      <td>3</td>\n",
       "      <td>2</td>\n",
       "      <td>6</td>\n",
       "      <td>2</td>\n",
       "    </tr>\n",
       "    <tr>\n",
       "      <th>73</th>\n",
       "      <td>4</td>\n",
       "      <td>3</td>\n",
       "      <td>8</td>\n",
       "      <td>6</td>\n",
       "    </tr>\n",
       "    <tr>\n",
       "      <th>84</th>\n",
       "      <td>5</td>\n",
       "      <td>4</td>\n",
       "      <td>6</td>\n",
       "      <td>1</td>\n",
       "    </tr>\n",
       "    <tr>\n",
       "      <th>88</th>\n",
       "      <td>5</td>\n",
       "      <td>4</td>\n",
       "      <td>5</td>\n",
       "      <td>3</td>\n",
       "    </tr>\n",
       "    <tr>\n",
       "      <th>92</th>\n",
       "      <td>5</td>\n",
       "      <td>2</td>\n",
       "      <td>8</td>\n",
       "      <td>4</td>\n",
       "    </tr>\n",
       "    <tr>\n",
       "      <th>96</th>\n",
       "      <td>5</td>\n",
       "      <td>4</td>\n",
       "      <td>8</td>\n",
       "      <td>6</td>\n",
       "    </tr>\n",
       "    <tr>\n",
       "      <th>108</th>\n",
       "      <td>6</td>\n",
       "      <td>1</td>\n",
       "      <td>8</td>\n",
       "      <td>2</td>\n",
       "    </tr>\n",
       "  </tbody>\n",
       "</table>\n",
       "</div>"
      ],
      "text/plain": [
       "     0  1  2  3\n",
       "13   1  1  8  8\n",
       "42   3  2  6  2\n",
       "73   4  3  8  6\n",
       "84   5  4  6  1\n",
       "88   5  4  5  3\n",
       "92   5  2  8  4\n",
       "96   5  4  8  6\n",
       "108  6  1  8  2"
      ]
     },
     "execution_count": 18,
     "metadata": {},
     "output_type": "execute_result"
    }
   ],
   "source": [
    "# Are there any duplicated \n",
    "duplicateRows = first_round[first_round.duplicated(['0','1','2','3'])]\n",
    "print('Unique genotypes from 1st round :', len(first_round) -len(duplicateRows))\n",
    "duplicateRows"
   ]
  },
  {
   "cell_type": "code",
   "execution_count": 19,
   "id": "df6872dd-2927-4116-9953-962bbb222ad4",
   "metadata": {},
   "outputs": [
    {
     "data": {
      "text/html": [
       "<div>\n",
       "<style scoped>\n",
       "    .dataframe tbody tr th:only-of-type {\n",
       "        vertical-align: middle;\n",
       "    }\n",
       "\n",
       "    .dataframe tbody tr th {\n",
       "        vertical-align: top;\n",
       "    }\n",
       "\n",
       "    .dataframe thead th {\n",
       "        text-align: right;\n",
       "    }\n",
       "</style>\n",
       "<table border=\"1\" class=\"dataframe\">\n",
       "  <thead>\n",
       "    <tr style=\"text-align: right;\">\n",
       "      <th></th>\n",
       "      <th>0</th>\n",
       "      <th>1</th>\n",
       "      <th>2</th>\n",
       "      <th>3</th>\n",
       "    </tr>\n",
       "  </thead>\n",
       "  <tbody>\n",
       "    <tr>\n",
       "      <th>0</th>\n",
       "      <td>1</td>\n",
       "      <td>1</td>\n",
       "      <td>5</td>\n",
       "      <td>1</td>\n",
       "    </tr>\n",
       "    <tr>\n",
       "      <th>1</th>\n",
       "      <td>1</td>\n",
       "      <td>1</td>\n",
       "      <td>5</td>\n",
       "      <td>2</td>\n",
       "    </tr>\n",
       "    <tr>\n",
       "      <th>3</th>\n",
       "      <td>1</td>\n",
       "      <td>1</td>\n",
       "      <td>5</td>\n",
       "      <td>4</td>\n",
       "    </tr>\n",
       "    <tr>\n",
       "      <th>4</th>\n",
       "      <td>1</td>\n",
       "      <td>1</td>\n",
       "      <td>5</td>\n",
       "      <td>5</td>\n",
       "    </tr>\n",
       "    <tr>\n",
       "      <th>6</th>\n",
       "      <td>1</td>\n",
       "      <td>1</td>\n",
       "      <td>5</td>\n",
       "      <td>7</td>\n",
       "    </tr>\n",
       "    <tr>\n",
       "      <th>...</th>\n",
       "      <td>...</td>\n",
       "      <td>...</td>\n",
       "      <td>...</td>\n",
       "      <td>...</td>\n",
       "    </tr>\n",
       "    <tr>\n",
       "      <th>1275</th>\n",
       "      <td>8</td>\n",
       "      <td>4</td>\n",
       "      <td>8</td>\n",
       "      <td>6</td>\n",
       "    </tr>\n",
       "    <tr>\n",
       "      <th>1276</th>\n",
       "      <td>8</td>\n",
       "      <td>4</td>\n",
       "      <td>8</td>\n",
       "      <td>7</td>\n",
       "    </tr>\n",
       "    <tr>\n",
       "      <th>1277</th>\n",
       "      <td>8</td>\n",
       "      <td>4</td>\n",
       "      <td>8</td>\n",
       "      <td>8</td>\n",
       "    </tr>\n",
       "    <tr>\n",
       "      <th>1278</th>\n",
       "      <td>8</td>\n",
       "      <td>4</td>\n",
       "      <td>8</td>\n",
       "      <td>9</td>\n",
       "    </tr>\n",
       "    <tr>\n",
       "      <th>1279</th>\n",
       "      <td>8</td>\n",
       "      <td>4</td>\n",
       "      <td>8</td>\n",
       "      <td>10</td>\n",
       "    </tr>\n",
       "  </tbody>\n",
       "</table>\n",
       "<p>1120 rows × 4 columns</p>\n",
       "</div>"
      ],
      "text/plain": [
       "      0  1  2   3\n",
       "0     1  1  5   1\n",
       "1     1  1  5   2\n",
       "3     1  1  5   4\n",
       "4     1  1  5   5\n",
       "6     1  1  5   7\n",
       "...  .. .. ..  ..\n",
       "1275  8  4  8   6\n",
       "1276  8  4  8   7\n",
       "1277  8  4  8   8\n",
       "1278  8  4  8   9\n",
       "1279  8  4  8  10\n",
       "\n",
       "[1120 rows x 4 columns]"
      ]
     },
     "execution_count": 19,
     "metadata": {},
     "output_type": "execute_result"
    }
   ],
   "source": [
    "df_diff = all_genotypes[~all_genotypes.apply(tuple,1).isin(first_round.apply(tuple,1))]\n",
    "df_diff"
   ]
  },
  {
   "cell_type": "code",
   "execution_count": 20,
   "id": "74e01ed9-c57e-4ef6-abe7-24874a9548ea",
   "metadata": {},
   "outputs": [
    {
     "data": {
      "text/plain": [
       "129"
      ]
     },
     "execution_count": 20,
     "metadata": {},
     "output_type": "execute_result"
    }
   ],
   "source": [
    "second_round = pd.read_csv('ConStrain_on_google_colab/Data/AutoML/input_for_ml_2nd_iteration_LL.csv')\n",
    "second_round = second_round[['0','1','2','3']]\n",
    "len(second_round) # beware there are 8 duplicates here"
   ]
  },
  {
   "cell_type": "code",
   "execution_count": 21,
   "id": "da4d5007-8de1-43d8-b1ae-99248e632b99",
   "metadata": {},
   "outputs": [
    {
     "data": {
      "text/plain": [
       "43"
      ]
     },
     "execution_count": 21,
     "metadata": {},
     "output_type": "execute_result"
    }
   ],
   "source": [
    "# Are there any duplicated - \n",
    "duplicateRows = second_round[second_round.duplicated(['0','1','2','3'])]\n",
    "len(duplicateRows)"
   ]
  },
  {
   "cell_type": "markdown",
   "id": "6f6675fb-0261-4bc9-9f97-ef0d99919512",
   "metadata": {},
   "source": [
    "The same 43 genotypes are sampled twice, lets remove them"
   ]
  },
  {
   "cell_type": "code",
   "execution_count": 22,
   "id": "94dfd158-e3c3-43a1-a844-77480dc9b9d9",
   "metadata": {},
   "outputs": [
    {
     "name": "stdout",
     "output_type": "stream",
     "text": [
      "Unique rows from second iterations :  86\n"
     ]
    }
   ],
   "source": [
    "print('Unique rows from second iterations : ', len(second_round)-len(duplicateRows))"
   ]
  },
  {
   "cell_type": "code",
   "execution_count": 23,
   "id": "fbeda882-183c-4927-b937-4c7182a58545",
   "metadata": {},
   "outputs": [],
   "source": [
    "second_round = second_round.drop_duplicates()"
   ]
  },
  {
   "cell_type": "code",
   "execution_count": 24,
   "id": "2ee5781d-85c9-47a1-85a2-15d4acf01558",
   "metadata": {},
   "outputs": [
    {
     "data": {
      "text/plain": [
       "76"
      ]
     },
     "execution_count": 24,
     "metadata": {},
     "output_type": "execute_result"
    }
   ],
   "source": [
    "# How many new combinations are seen between round 1 and round 2?\n",
    "df_diff_between_first_and_second = second_round[~second_round.apply(tuple,1).isin(first_round.apply(tuple,1))]\n",
    "len(df_diff_between_first_and_second)"
   ]
  },
  {
   "cell_type": "code",
   "execution_count": 25,
   "id": "4777e3d6-69a7-46df-bc0e-4a6c54ecc678",
   "metadata": {},
   "outputs": [
    {
     "data": {
      "text/html": [
       "<div>\n",
       "<style scoped>\n",
       "    .dataframe tbody tr th:only-of-type {\n",
       "        vertical-align: middle;\n",
       "    }\n",
       "\n",
       "    .dataframe tbody tr th {\n",
       "        vertical-align: top;\n",
       "    }\n",
       "\n",
       "    .dataframe thead th {\n",
       "        text-align: right;\n",
       "    }\n",
       "</style>\n",
       "<table border=\"1\" class=\"dataframe\">\n",
       "  <thead>\n",
       "    <tr style=\"text-align: right;\">\n",
       "      <th></th>\n",
       "      <th>0</th>\n",
       "      <th>1</th>\n",
       "      <th>2</th>\n",
       "      <th>3</th>\n",
       "    </tr>\n",
       "  </thead>\n",
       "  <tbody>\n",
       "    <tr>\n",
       "      <th>0</th>\n",
       "      <td>1</td>\n",
       "      <td>1</td>\n",
       "      <td>5</td>\n",
       "      <td>1</td>\n",
       "    </tr>\n",
       "    <tr>\n",
       "      <th>1</th>\n",
       "      <td>1</td>\n",
       "      <td>1</td>\n",
       "      <td>5</td>\n",
       "      <td>2</td>\n",
       "    </tr>\n",
       "    <tr>\n",
       "      <th>3</th>\n",
       "      <td>1</td>\n",
       "      <td>1</td>\n",
       "      <td>5</td>\n",
       "      <td>4</td>\n",
       "    </tr>\n",
       "    <tr>\n",
       "      <th>4</th>\n",
       "      <td>1</td>\n",
       "      <td>1</td>\n",
       "      <td>5</td>\n",
       "      <td>5</td>\n",
       "    </tr>\n",
       "    <tr>\n",
       "      <th>6</th>\n",
       "      <td>1</td>\n",
       "      <td>1</td>\n",
       "      <td>5</td>\n",
       "      <td>7</td>\n",
       "    </tr>\n",
       "    <tr>\n",
       "      <th>...</th>\n",
       "      <td>...</td>\n",
       "      <td>...</td>\n",
       "      <td>...</td>\n",
       "      <td>...</td>\n",
       "    </tr>\n",
       "    <tr>\n",
       "      <th>1275</th>\n",
       "      <td>8</td>\n",
       "      <td>4</td>\n",
       "      <td>8</td>\n",
       "      <td>6</td>\n",
       "    </tr>\n",
       "    <tr>\n",
       "      <th>1276</th>\n",
       "      <td>8</td>\n",
       "      <td>4</td>\n",
       "      <td>8</td>\n",
       "      <td>7</td>\n",
       "    </tr>\n",
       "    <tr>\n",
       "      <th>1277</th>\n",
       "      <td>8</td>\n",
       "      <td>4</td>\n",
       "      <td>8</td>\n",
       "      <td>8</td>\n",
       "    </tr>\n",
       "    <tr>\n",
       "      <th>1278</th>\n",
       "      <td>8</td>\n",
       "      <td>4</td>\n",
       "      <td>8</td>\n",
       "      <td>9</td>\n",
       "    </tr>\n",
       "    <tr>\n",
       "      <th>1279</th>\n",
       "      <td>8</td>\n",
       "      <td>4</td>\n",
       "      <td>8</td>\n",
       "      <td>10</td>\n",
       "    </tr>\n",
       "  </tbody>\n",
       "</table>\n",
       "<p>1044 rows × 4 columns</p>\n",
       "</div>"
      ],
      "text/plain": [
       "      0  1  2   3\n",
       "0     1  1  5   1\n",
       "1     1  1  5   2\n",
       "3     1  1  5   4\n",
       "4     1  1  5   5\n",
       "6     1  1  5   7\n",
       "...  .. .. ..  ..\n",
       "1275  8  4  8   6\n",
       "1276  8  4  8   7\n",
       "1277  8  4  8   8\n",
       "1278  8  4  8   9\n",
       "1279  8  4  8  10\n",
       "\n",
       "[1044 rows x 4 columns]"
      ]
     },
     "execution_count": 25,
     "metadata": {},
     "output_type": "execute_result"
    }
   ],
   "source": [
    "remaing_genotypes_in_the_library_after_2nd_iteration = df_diff[~df_diff.apply(tuple,1).isin(second_round.apply(tuple,1))]\n",
    "remaing_genotypes_in_the_library_after_2nd_iteration"
   ]
  },
  {
   "cell_type": "code",
   "execution_count": 26,
   "id": "1db7553f-1f1f-435b-ad2e-73e13cb0ca2b",
   "metadata": {},
   "outputs": [
    {
     "name": "stdout",
     "output_type": "stream",
     "text": [
      "The total amount of unique genotypes seen in this study: 236\n",
      "Percent of the all genotypes sampled: 18.4375\n"
     ]
    }
   ],
   "source": [
    "# Unique genotypes\n",
    "print('The total amount of unique genotypes seen in this study:', len(all_genotypes)-len(remaing_genotypes_in_the_library_after_2nd_iteration))\n",
    "unique_genotypes = len(all_genotypes)-len(remaing_genotypes_in_the_library_after_2nd_iteration)\n",
    "\n",
    "# Out of the theoretical library\n",
    "print('Percent of the all genotypes sampled:', unique_genotypes/len(all_genotypes)*100)"
   ]
  },
  {
   "cell_type": "code",
   "execution_count": 27,
   "id": "0473b979-60a2-47ae-b53b-862ca2ded5d4",
   "metadata": {},
   "outputs": [],
   "source": [
    "#print (pd.merge(input_fixed,old_input_for_ml, indicator=True, how='outer')\n",
    "#         .query('_merge==\"left_only\"')\n",
    "#         .drop('_merge', axis=1))"
   ]
  },
  {
   "cell_type": "markdown",
   "id": "a4b4d18e-a636-40b1-8c5c-bdc9b7c09dd6",
   "metadata": {},
   "source": [
    "## Whats the difference between LL and CH analysis\n"
   ]
  },
  {
   "cell_type": "code",
   "execution_count": 28,
   "id": "886155b7-66fc-4a51-869c-957e14acfcdd",
   "metadata": {},
   "outputs": [
    {
     "data": {
      "text/html": [
       "<div>\n",
       "<style scoped>\n",
       "    .dataframe tbody tr th:only-of-type {\n",
       "        vertical-align: middle;\n",
       "    }\n",
       "\n",
       "    .dataframe tbody tr th {\n",
       "        vertical-align: top;\n",
       "    }\n",
       "\n",
       "    .dataframe thead th {\n",
       "        text-align: right;\n",
       "    }\n",
       "</style>\n",
       "<table border=\"1\" class=\"dataframe\">\n",
       "  <thead>\n",
       "    <tr style=\"text-align: right;\">\n",
       "      <th></th>\n",
       "      <th>Line Name</th>\n",
       "      <th>0</th>\n",
       "      <th>1</th>\n",
       "      <th>2</th>\n",
       "      <th>3</th>\n",
       "      <th>Amt_norm</th>\n",
       "    </tr>\n",
       "  </thead>\n",
       "  <tbody>\n",
       "    <tr>\n",
       "      <th>0</th>\n",
       "      <td>yp49_A01</td>\n",
       "      <td>1</td>\n",
       "      <td>2</td>\n",
       "      <td>5</td>\n",
       "      <td>1</td>\n",
       "      <td>0.972701</td>\n",
       "    </tr>\n",
       "    <tr>\n",
       "      <th>1</th>\n",
       "      <td>yp49_A02</td>\n",
       "      <td>1</td>\n",
       "      <td>3</td>\n",
       "      <td>8</td>\n",
       "      <td>1</td>\n",
       "      <td>0.269401</td>\n",
       "    </tr>\n",
       "    <tr>\n",
       "      <th>2</th>\n",
       "      <td>yp49_A04</td>\n",
       "      <td>1</td>\n",
       "      <td>3</td>\n",
       "      <td>8</td>\n",
       "      <td>2</td>\n",
       "      <td>0.202699</td>\n",
       "    </tr>\n",
       "    <tr>\n",
       "      <th>3</th>\n",
       "      <td>yp49_A06</td>\n",
       "      <td>1</td>\n",
       "      <td>2</td>\n",
       "      <td>6</td>\n",
       "      <td>2</td>\n",
       "      <td>1.133272</td>\n",
       "    </tr>\n",
       "    <tr>\n",
       "      <th>4</th>\n",
       "      <td>yp49_A07</td>\n",
       "      <td>1</td>\n",
       "      <td>1</td>\n",
       "      <td>5</td>\n",
       "      <td>3</td>\n",
       "      <td>0.981070</td>\n",
       "    </tr>\n",
       "    <tr>\n",
       "      <th>...</th>\n",
       "      <td>...</td>\n",
       "      <td>...</td>\n",
       "      <td>...</td>\n",
       "      <td>...</td>\n",
       "      <td>...</td>\n",
       "      <td>...</td>\n",
       "    </tr>\n",
       "    <tr>\n",
       "      <th>161</th>\n",
       "      <td>yp51_E05</td>\n",
       "      <td>8</td>\n",
       "      <td>3</td>\n",
       "      <td>6</td>\n",
       "      <td>8</td>\n",
       "      <td>0.000000</td>\n",
       "    </tr>\n",
       "    <tr>\n",
       "      <th>162</th>\n",
       "      <td>yp51_E07</td>\n",
       "      <td>8</td>\n",
       "      <td>1</td>\n",
       "      <td>8</td>\n",
       "      <td>9</td>\n",
       "      <td>6.795506</td>\n",
       "    </tr>\n",
       "    <tr>\n",
       "      <th>163</th>\n",
       "      <td>yp51_E08</td>\n",
       "      <td>8</td>\n",
       "      <td>4</td>\n",
       "      <td>5</td>\n",
       "      <td>9</td>\n",
       "      <td>0.668263</td>\n",
       "    </tr>\n",
       "    <tr>\n",
       "      <th>164</th>\n",
       "      <td>yp51_E11</td>\n",
       "      <td>8</td>\n",
       "      <td>3</td>\n",
       "      <td>7</td>\n",
       "      <td>10</td>\n",
       "      <td>0.000000</td>\n",
       "    </tr>\n",
       "    <tr>\n",
       "      <th>165</th>\n",
       "      <td>yp51_E12</td>\n",
       "      <td>8</td>\n",
       "      <td>1</td>\n",
       "      <td>6</td>\n",
       "      <td>10</td>\n",
       "      <td>0.466688</td>\n",
       "    </tr>\n",
       "  </tbody>\n",
       "</table>\n",
       "<p>166 rows × 6 columns</p>\n",
       "</div>"
      ],
      "text/plain": [
       "    Line Name  0  1  2   3  Amt_norm\n",
       "0    yp49_A01  1  2  5   1  0.972701\n",
       "1    yp49_A02  1  3  8   1  0.269401\n",
       "2    yp49_A04  1  3  8   2  0.202699\n",
       "3    yp49_A06  1  2  6   2  1.133272\n",
       "4    yp49_A07  1  1  5   3  0.981070\n",
       "..        ... .. .. ..  ..       ...\n",
       "161  yp51_E05  8  3  6   8  0.000000\n",
       "162  yp51_E07  8  1  8   9  6.795506\n",
       "163  yp51_E08  8  4  5   9  0.668263\n",
       "164  yp51_E11  8  3  7  10  0.000000\n",
       "165  yp51_E12  8  1  6  10  0.466688\n",
       "\n",
       "[166 rows x 6 columns]"
      ]
     },
     "execution_count": 28,
     "metadata": {},
     "output_type": "execute_result"
    }
   ],
   "source": [
    "LL_first_round = pd.read_csv('ConStrain_on_google_colab/Data/AutoML/input_for_ml_1st_iteration_LL.csv',)\n",
    "CH_first_round = pd.read_csv('ConStrain_on_google_colab/Data/AutoML/input_for_ml_reseq.csv',)\n",
    "CH_first_round"
   ]
  },
  {
   "cell_type": "code",
   "execution_count": 29,
   "id": "b07b50fb-6e65-425f-898a-234833baf314",
   "metadata": {},
   "outputs": [],
   "source": [
    "LL_first_round = LL_first_round[['Line Name']]\n",
    "CH_first_round = CH_first_round[['Line Name']]"
   ]
  },
  {
   "cell_type": "code",
   "execution_count": 30,
   "id": "1242cbe3-c570-44f8-bc0a-dd1414a757a8",
   "metadata": {},
   "outputs": [
    {
     "data": {
      "text/html": [
       "<div>\n",
       "<style scoped>\n",
       "    .dataframe tbody tr th:only-of-type {\n",
       "        vertical-align: middle;\n",
       "    }\n",
       "\n",
       "    .dataframe tbody tr th {\n",
       "        vertical-align: top;\n",
       "    }\n",
       "\n",
       "    .dataframe thead th {\n",
       "        text-align: right;\n",
       "    }\n",
       "</style>\n",
       "<table border=\"1\" class=\"dataframe\">\n",
       "  <thead>\n",
       "    <tr style=\"text-align: right;\">\n",
       "      <th></th>\n",
       "      <th>Line Name</th>\n",
       "    </tr>\n",
       "  </thead>\n",
       "  <tbody>\n",
       "    <tr>\n",
       "      <th>0</th>\n",
       "      <td>yp49_A01</td>\n",
       "    </tr>\n",
       "    <tr>\n",
       "      <th>1</th>\n",
       "      <td>yp49_A02</td>\n",
       "    </tr>\n",
       "    <tr>\n",
       "      <th>2</th>\n",
       "      <td>yp49_A04</td>\n",
       "    </tr>\n",
       "    <tr>\n",
       "      <th>3</th>\n",
       "      <td>yp49_A06</td>\n",
       "    </tr>\n",
       "    <tr>\n",
       "      <th>4</th>\n",
       "      <td>yp49_A07</td>\n",
       "    </tr>\n",
       "    <tr>\n",
       "      <th>...</th>\n",
       "      <td>...</td>\n",
       "    </tr>\n",
       "    <tr>\n",
       "      <th>163</th>\n",
       "      <td>yp51_E05</td>\n",
       "    </tr>\n",
       "    <tr>\n",
       "      <th>164</th>\n",
       "      <td>yp51_E07</td>\n",
       "    </tr>\n",
       "    <tr>\n",
       "      <th>165</th>\n",
       "      <td>yp51_E08</td>\n",
       "    </tr>\n",
       "    <tr>\n",
       "      <th>166</th>\n",
       "      <td>yp51_E11</td>\n",
       "    </tr>\n",
       "    <tr>\n",
       "      <th>167</th>\n",
       "      <td>yp51_E12</td>\n",
       "    </tr>\n",
       "  </tbody>\n",
       "</table>\n",
       "<p>168 rows × 1 columns</p>\n",
       "</div>"
      ],
      "text/plain": [
       "    Line Name\n",
       "0    yp49_A01\n",
       "1    yp49_A02\n",
       "2    yp49_A04\n",
       "3    yp49_A06\n",
       "4    yp49_A07\n",
       "..        ...\n",
       "163  yp51_E05\n",
       "164  yp51_E07\n",
       "165  yp51_E08\n",
       "166  yp51_E11\n",
       "167  yp51_E12\n",
       "\n",
       "[168 rows x 1 columns]"
      ]
     },
     "execution_count": 30,
     "metadata": {},
     "output_type": "execute_result"
    }
   ],
   "source": [
    "LL_first_round"
   ]
  },
  {
   "cell_type": "code",
   "execution_count": 31,
   "id": "147bf310-04ec-4530-b432-cdc0e53da447",
   "metadata": {},
   "outputs": [
    {
     "data": {
      "text/html": [
       "<div>\n",
       "<style scoped>\n",
       "    .dataframe tbody tr th:only-of-type {\n",
       "        vertical-align: middle;\n",
       "    }\n",
       "\n",
       "    .dataframe tbody tr th {\n",
       "        vertical-align: top;\n",
       "    }\n",
       "\n",
       "    .dataframe thead th {\n",
       "        text-align: right;\n",
       "    }\n",
       "</style>\n",
       "<table border=\"1\" class=\"dataframe\">\n",
       "  <thead>\n",
       "    <tr style=\"text-align: right;\">\n",
       "      <th></th>\n",
       "      <th>Line Name</th>\n",
       "    </tr>\n",
       "  </thead>\n",
       "  <tbody>\n",
       "    <tr>\n",
       "      <th>114</th>\n",
       "      <td>yp50_G03</td>\n",
       "    </tr>\n",
       "  </tbody>\n",
       "</table>\n",
       "</div>"
      ],
      "text/plain": [
       "    Line Name\n",
       "114  yp50_G03"
      ]
     },
     "execution_count": 31,
     "metadata": {},
     "output_type": "execute_result"
    }
   ],
   "source": [
    "DIFF_LL_CH = CH_first_round[~CH_first_round.apply(tuple,1).isin(LL_first_round.apply(tuple,1))]\n",
    "DIFF_LL_CH"
   ]
  },
  {
   "cell_type": "code",
   "execution_count": 32,
   "id": "de956590-2b24-4a92-b8fd-ceb18ef4c2b6",
   "metadata": {},
   "outputs": [
    {
     "data": {
      "text/plain": [
       "1"
      ]
     },
     "execution_count": 32,
     "metadata": {},
     "output_type": "execute_result"
    }
   ],
   "source": [
    "len(DIFF_LL_CH)"
   ]
  },
  {
   "cell_type": "code",
   "execution_count": null,
   "id": "1c1b264a-4474-4d11-9dd7-4c9a62c6471c",
   "metadata": {},
   "outputs": [],
   "source": []
  }
 ],
 "metadata": {
  "kernelspec": {
   "display_name": "Python 3 (ipykernel)",
   "language": "python",
   "name": "python3"
  },
  "language_info": {
   "codemirror_mode": {
    "name": "ipython",
    "version": 3
   },
   "file_extension": ".py",
   "mimetype": "text/x-python",
   "name": "python",
   "nbconvert_exporter": "python",
   "pygments_lexer": "ipython3",
   "version": "3.8.13"
  }
 },
 "nbformat": 4,
 "nbformat_minor": 5
}
