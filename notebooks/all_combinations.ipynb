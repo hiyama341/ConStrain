{
 "cells": [
  {
   "cell_type": "code",
   "execution_count": 1,
   "id": "fd45b8f2-9278-44a8-b5e1-1435c9550362",
   "metadata": {},
   "outputs": [],
   "source": [
    "from Bio import SeqIO\n",
    "import pandas as pd"
   ]
  },
  {
   "cell_type": "code",
   "execution_count": 2,
   "id": "a4f4be53-3964-4786-a656-2c1172b52502",
   "metadata": {},
   "outputs": [],
   "source": [
    "CPR_templates = []\n",
    "G8H_templates = []\n",
    "\n",
    "\n",
    "\n",
    "# GEtting the objects from the gb files\n",
    "for seq_record in SeqIO.parse('../data/G8H_CPR_parts/CPR_tCYC1_-_2022-06-06.gb', format= 'gb'):\n",
    "    CPR_templates.append(seq_record)\n",
    "    \n",
    "# GEtting the objects from the fasta files\n",
    "for seq_record in SeqIO.parse('../data/G8H_CPR_parts/G8H_tADH1_-_2022-06-23.gb', format= 'gb'):\n",
    "    G8H_templates.append(seq_record) "
   ]
  },
  {
   "cell_type": "code",
   "execution_count": 3,
   "id": "52e8f2c1-cae3-4e12-9354-3706bee2885d",
   "metadata": {},
   "outputs": [],
   "source": [
    "pCPR_templates = []\n",
    "pG8H_templates = []\n",
    "\n",
    "\n",
    "# GEtting the objects from the gb files\n",
    "for seq_record in SeqIO.parse('../data/promoter_gb_files/pCPR_sites.gb', format= 'gb'):\n",
    "    pCPR_templates.append(seq_record)\n",
    "    \n",
    "# GEtting the objects from the fasta files\n",
    "for seq_record in SeqIO.parse('../data/promoter_gb_files/pG8H_sites.gb', format= 'gb'):\n",
    "    pG8H_templates.append(seq_record) "
   ]
  },
  {
   "cell_type": "code",
   "execution_count": 4,
   "id": "794b89a6-c9a4-4698-8a28-526f78d4603b",
   "metadata": {},
   "outputs": [
    {
     "name": "stdout",
     "output_type": "stream",
     "text": [
      "5\n",
      "6\n",
      "7\n"
     ]
    }
   ],
   "source": [
    "for i in range(4, len(pG8H_templates)+3):\n",
    "    print(i+1)"
   ]
  },
  {
   "cell_type": "code",
   "execution_count": 5,
   "id": "9dfa7fd1-ac73-4827-8348-358fcd022f76",
   "metadata": {},
   "outputs": [
    {
     "data": {
      "text/plain": [
       "[SeqRecord(seq=Seq('CAGCATTTTCAAAGGTGTGTTCTTCGTCAGACATGTTTTAGTGTGTGAATGAAA...ATA'), id='seq_DPrPIMvy', name='pCYC1', description='', dbxrefs=[]),\n",
       " SeqRecord(seq=Seq('AATCCTACTCTTGCCGTTGCCATCCAAAATGAGCTAGAAGGTGGATTAACAAAT...ATA'), id='seq_8wWqUcpf', name='pENO2', description='', dbxrefs=[]),\n",
       " SeqRecord(seq=Seq('CACATGTCGACGAGTTTGTCATCGAATCCGTAATGAAGGCGCAAGAAAAACTAG...AAC'), id='seq_Bs85fGcK', name='pPCK1', description='', dbxrefs=[]),\n",
       " SeqRecord(seq=Seq('GTACTGCTGGCCATTTTTATTCAGGTTATTTGCGATTAGGTTGGGGTTTGTGTT...GCA'), id='seq_NFnLfXI8', name='pRPL15B', description='', dbxrefs=[])]"
      ]
     },
     "execution_count": 5,
     "metadata": {},
     "output_type": "execute_result"
    }
   ],
   "source": [
    "pG8H_templates"
   ]
  },
  {
   "cell_type": "code",
   "execution_count": 34,
   "id": "786dbd52-8fd9-41eb-913c-241ed8e2c2b3",
   "metadata": {},
   "outputs": [
    {
     "name": "stdout",
     "output_type": "stream",
     "text": [
      "0\n",
      "1\n",
      "2\n",
      "3\n"
     ]
    }
   ],
   "source": [
    "for i in range(len(pG8H_templates)):\n",
    "    pG8H_templates[i].description = i+1\n",
    "    \n",
    "for i in range(len(pCPR_templates)):\n",
    "    print(i)\n",
    "    pCPR_templates[i].description = i+5\n",
    "\n",
    "    \n",
    "    \n",
    "\n",
    "for i in range(len(CPR_templates)):\n",
    "    CPR_templates[i].description = i+1\n",
    "    \n",
    "for i in range(len(G8H_templates)):\n",
    "    G8H_templates[i].description = i+1\n",
    "    "
   ]
  },
  {
   "cell_type": "code",
   "execution_count": 35,
   "id": "b87f7b63-506e-449d-a410-2478cf5668ed",
   "metadata": {},
   "outputs": [
    {
     "data": {
      "text/plain": [
       "[SeqRecord(seq=Seq('ATGGACTCCTCATCGGAGAAGCTTTCCCCGTTCGACTTAATGACGGCAATCCTA...GAA'), id='pL_01_C7\\\\(pRS415-USER).0', name='AhuCPR_tCYC1', description=1, dbxrefs=[]),\n",
       " SeqRecord(seq=Seq('ATGCAATCTACAACCTCCGTCAAGTTATCACCCTTTGACCTGATGACCGCATTA...GAA'), id='AanCPR_tCYC1', name='AanCPR_tCYC1', description=2, dbxrefs=[]),\n",
       " SeqRecord(seq=Seq('ATGGATTCTTCTTCTGAAAAATTGTCTCCATTTGAATTGATGTCTGCTATTTTG...GAA'), id='CloCPR_tCYC1', name='CloCPR_tCYC1', description=3, dbxrefs=[]),\n",
       " SeqRecord(seq=Seq('ATGCAGTCAAGTAGTGTAAAGGTGAGCACCTTCGACCTGATGAGTGCAATACTT...GAA'), id='pL_01_C7\\\\(pRS415-USER).0', name='CacCPR_tCYC1', description=4, dbxrefs=[]),\n",
       " SeqRecord(seq=Seq('ATGGCTCAATTGGATACTTTGGATTTGGTTGTTTTGGCTGTTTTGTTGGTTGGT...GAA'), id='pL_01_C7\\\\(pRS415-USER).0', name='AniCPR_tCYC1', description=5, dbxrefs=[]),\n",
       " SeqRecord(seq=Seq('ATGGATGAAACTGAAGCTACTTTGGGTACTCAACAAATTTCTGAAGCTTCTGAT...GAA'), id='pL_01_C7\\\\(pRS415-USER).0', name='CpoCPR_tCYC1', description=6, dbxrefs=[]),\n",
       " SeqRecord(seq=Seq('ATGGACTCCACCTCAGAGAAGCTTTCACCGTTCGACTTCCTGACGGCAATCCTG...GAA'), id='pL_01_C7\\\\(pRS415-USER).0', name='OeuCPR_tCYC1', description=7, dbxrefs=[]),\n",
       " SeqRecord(seq=Seq('ATGGATTCTTCTTCTGAAAAATTGTCTCCATTTGAATTGATGTCTGCTATTTTG...GAA'), id='pL_01_C7\\\\(pRS415-USER).0', name='RseCPR_tCYC1', description=8, dbxrefs=[]),\n",
       " SeqRecord(seq=Seq('ATGACATCAGCTCTTTACGCCTCTGATCTATTTAAACAGCTGAAATCTATTATG...GAA'), id='AthATR1_tCYC1', name='AthATR1_tCYC1', description=9, dbxrefs=[]),\n",
       " SeqRecord(seq=Seq('ATGGACTCATCCTCCGAGAAGTTGTCACCATTCGAACTTATGTCAGCAATTCTT...GAA'), id='CroCPR_tCYC1', name='CroCPR_tCYC1', description=10, dbxrefs=[])]"
      ]
     },
     "execution_count": 35,
     "metadata": {},
     "output_type": "execute_result"
    }
   ],
   "source": [
    "CPR_templates"
   ]
  },
  {
   "cell_type": "code",
   "execution_count": 36,
   "id": "bdc503c9-a0ce-4e41-9ead-49d350acbd09",
   "metadata": {},
   "outputs": [],
   "source": [
    "from constrain.design.combinatorial_design import systematic_names_function\n",
    "from constrain.design.cloning import multiplyList\n",
    "import itertools"
   ]
  },
  {
   "cell_type": "code",
   "execution_count": 42,
   "id": "aee9b6d5-82a0-403f-8a0a-994fccf1bebd",
   "metadata": {},
   "outputs": [
    {
     "name": "stdout",
     "output_type": "stream",
     "text": [
      "Number of fragments: 4\n",
      "Number of parts:  [8, 4, 4, 10]\n",
      "Number of possible combinations: 1280\n",
      "The number of time each fragment must be repeated: [160, 320, 320, 128]\n",
      "\n",
      "Combinations:\n"
     ]
    }
   ],
   "source": [
    "#Create a list of fragments within a list of parts.\n",
    "fragment_list = [G8H_templates[:-1],pG8H_templates,pCPR_templates,CPR_templates]\n",
    "\n",
    "#The number of fragments to be assembled\n",
    "no_frags = len(fragment_list)\n",
    "print(\"Number of fragments:\", no_frags)\n",
    "\n",
    "#The number of parts of each fragment\n",
    "no_parts = [len(l) for l in fragment_list]\n",
    "print(\"Number of parts: \",no_parts)\n",
    "\n",
    "#The number of possible combinations\n",
    "no_combs = multiplyList(no_parts)\n",
    "print(\"Number of possible combinations:\",no_combs)\n",
    "\n",
    "#How many repitions are needed?\n",
    "repetition_list = [int(no_comb/no_part) for no_comb, no_part in zip([no_combs]*len(no_parts),no_parts)]\n",
    "print(\"The number of time each fragment must be repeated:\", repetition_list)\n",
    "\n",
    "#Matrix with all combinations\n",
    "print(\"\\nCombinations:\")\n",
    "combinations_matrix = [t for t in itertools.product(*fragment_list)]\n",
    "#for row in combinations_matrix:\n",
    "#    names = []\n",
    "#    for element in row:\n",
    "#        names.append(element.name)\n",
    "#    print(names)\n",
    "#    #print(row)\n",
    "systematic_names = systematic_names_function(fragment_list)"
   ]
  },
  {
   "cell_type": "code",
   "execution_count": 43,
   "id": "6e4e76d7-c99c-4a3b-a67e-181ff722d797",
   "metadata": {},
   "outputs": [],
   "source": [
    "df = pd.DataFrame(systematic_names)\n",
    "df.to_csv('systematic_names_on_all_combinations', index=False)"
   ]
  },
  {
   "cell_type": "code",
   "execution_count": 44,
   "id": "bc520c65-b825-4b70-8d5c-01dad0b6171b",
   "metadata": {},
   "outputs": [
    {
     "data": {
      "text/plain": [
       "[8, 4, 8, 10]"
      ]
     },
     "execution_count": 44,
     "metadata": {},
     "output_type": "execute_result"
    }
   ],
   "source": [
    "list_of_list = []\n",
    "names = []\n",
    "for row in combinations_matrix:\n",
    "    names = []\n",
    "    for element in row:\n",
    "        names.append(element.description)\n",
    "    list_of_list.append(names)\n",
    "    #print(row)\n",
    "names"
   ]
  },
  {
   "cell_type": "code",
   "execution_count": 45,
   "id": "55127e42-5ef5-428c-9734-cc0729b0eb73",
   "metadata": {},
   "outputs": [],
   "source": [
    "df_with_correct_numbering = pd.DataFrame(list_of_list)\n",
    "df_with_correct_numbering.to_csv('systematic_names_on_all_combinations', index=False)"
   ]
  },
  {
   "cell_type": "code",
   "execution_count": null,
   "id": "405c932b-b993-4374-9afe-1e0d8ddb1a0a",
   "metadata": {},
   "outputs": [],
   "source": []
  }
 ],
 "metadata": {
  "kernelspec": {
   "display_name": "Python 3 (ipykernel)",
   "language": "python",
   "name": "python3"
  },
  "language_info": {
   "codemirror_mode": {
    "name": "ipython",
    "version": 3
   },
   "file_extension": ".py",
   "mimetype": "text/x-python",
   "name": "python",
   "nbconvert_exporter": "python",
   "pygments_lexer": "ipython3",
   "version": "3.8.13"
  }
 },
 "nbformat": 4,
 "nbformat_minor": 5
}
