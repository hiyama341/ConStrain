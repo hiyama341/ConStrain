{
 "cells": [
  {
   "cell_type": "code",
   "execution_count": 8,
   "metadata": {},
   "outputs": [
    {
     "ename": "ModuleNotFoundError",
     "evalue": "No module named 'design'",
     "output_type": "error",
     "traceback": [
      "\u001b[0;31m---------------------------------------------------------------------------\u001b[0m",
      "\u001b[0;31mModuleNotFoundError\u001b[0m                       Traceback (most recent call last)",
      "Input \u001b[0;32mIn [8]\u001b[0m, in \u001b[0;36m<cell line: 2>\u001b[0;34m()\u001b[0m\n\u001b[1;32m      1\u001b[0m \u001b[38;5;66;03m##### NOTE : Need to fix this import method\u001b[39;00m\n\u001b[0;32m----> 2\u001b[0m \u001b[38;5;28;01mfrom\u001b[39;00m \u001b[38;5;21;01mdesign\u001b[39;00m \u001b[38;5;28;01mimport\u001b[39;00m \u001b[38;5;241m*\u001b[39m\n\u001b[1;32m      3\u001b[0m \u001b[38;5;28;01mfrom\u001b[39;00m \u001b[38;5;21;01mlab\u001b[39;00m \u001b[38;5;28;01mimport\u001b[39;00m \u001b[38;5;241m*\u001b[39m\n\u001b[1;32m      4\u001b[0m \u001b[38;5;28;01mfrom\u001b[39;00m \u001b[38;5;21;01mlims\u001b[39;00m \u001b[38;5;28;01mimport\u001b[39;00m \u001b[38;5;241m*\u001b[39m\n",
      "\u001b[0;31mModuleNotFoundError\u001b[0m: No module named 'design'"
     ]
    }
   ],
   "source": [
    "\n",
    "##### NOTE : Need to fix this import method\n",
    "from design import *\n",
    "from lab import *\n",
    "from lims import *\n",
    "#from src.data.utils import bioimager, imagingStation, nanophotometer, figures\n",
    "#from IPython.core.display import Image"
   ]
  },
  {
   "cell_type": "code",
   "execution_count": 11,
   "metadata": {},
   "outputs": [],
   "source": [
    "import pydna\n",
    "import Bio"
   ]
  },
  {
   "cell_type": "code",
   "execution_count": 12,
   "metadata": {},
   "outputs": [],
   "source": [
    "from pydna.dseqrecord import Dseqrecord\n",
    "from pydna.dseq import Dseq\n",
    "from Bio.Restriction import AsiSI, BsmI\n",
    "from pydna.parsers import parse_primers\n",
    "from pydna.amplify import pcr\n",
    "from pydna.amplicon import Amplicon\n",
    "from pydna.assembly import Assembly\n",
    "from pydna.primer import Primer\n",
    "from pydna.gel import gel\n",
    "# see ladders.py\n",
    "from pydna.ladders import *\n"
   ]
  },
  {
   "cell_type": "markdown",
   "metadata": {},
   "source": [
    "# Project"
   ]
  },
  {
   "cell_type": "markdown",
   "metadata": {},
   "source": [
    "Debottlenecking the strictosidine module\n",
    "\n",
    "Hypothesis\n",
    "1. Specific combinations of CPR / G8H homologs and corresponding expression levels can remove the G8H bottleneck in the Strictosidine pathway\n",
    "\n",
    "Aim: To test the hypothesis\n",
    "\n",
    "Tasks\n",
    "1. **dgRNA**\n",
    "    - to knockout G8H and CPR in MIA-CM-3\n",
    "2. Base strain\n",
    "3. Library\n",
    "4. Phenotyping\n",
    "5. Data analysis"
   ]
  },
  {
   "cell_type": "markdown",
   "metadata": {},
   "source": [
    "### What gRNAs\n"
   ]
  },
  {
   "cell_type": "markdown",
   "metadata": {},
   "source": [
    "G8H/CPR\n",
    "- Both leu marker\n",
    "- Make  double gRNA p1_G09 (pESC-LEU-gRNA_ATF1_CroCPR) from\n",
    "    - PL_05_D9 (pESC-LEU-gRNA_ATF1)\n",
    "    - p1_F04 (pESC-LEU-gRNA_CroCPR)"
   ]
  },
  {
   "cell_type": "code",
   "execution_count": 13,
   "metadata": {},
   "outputs": [
    {
     "ename": "FileNotFoundError",
     "evalue": "No such file or directory: '../pictures/Construct multiple gRNA.png'",
     "output_type": "error",
     "traceback": [
      "\u001b[0;31m---------------------------------------------------------------------------\u001b[0m",
      "\u001b[0;31mTypeError\u001b[0m                                 Traceback (most recent call last)",
      "File \u001b[0;32m~/opt/anaconda3/envs/constrain/lib/python3.8/site-packages/IPython/core/display.py:1032\u001b[0m, in \u001b[0;36mImage._data_and_metadata\u001b[0;34m(self, always_both)\u001b[0m\n\u001b[1;32m   1031\u001b[0m \u001b[38;5;28;01mtry\u001b[39;00m:\n\u001b[0;32m-> 1032\u001b[0m     b64_data \u001b[38;5;241m=\u001b[39m \u001b[43mb2a_base64\u001b[49m\u001b[43m(\u001b[49m\u001b[38;5;28;43mself\u001b[39;49m\u001b[38;5;241;43m.\u001b[39;49m\u001b[43mdata\u001b[49m\u001b[43m)\u001b[49m\u001b[38;5;241m.\u001b[39mdecode(\u001b[38;5;124m'\u001b[39m\u001b[38;5;124mascii\u001b[39m\u001b[38;5;124m'\u001b[39m)\n\u001b[1;32m   1033\u001b[0m \u001b[38;5;28;01mexcept\u001b[39;00m \u001b[38;5;167;01mTypeError\u001b[39;00m \u001b[38;5;28;01mas\u001b[39;00m e:\n",
      "\u001b[0;31mTypeError\u001b[0m: a bytes-like object is required, not 'str'",
      "\nThe above exception was the direct cause of the following exception:\n",
      "\u001b[0;31mFileNotFoundError\u001b[0m                         Traceback (most recent call last)",
      "File \u001b[0;32m~/opt/anaconda3/envs/constrain/lib/python3.8/site-packages/IPython/core/formatters.py:973\u001b[0m, in \u001b[0;36mMimeBundleFormatter.__call__\u001b[0;34m(self, obj, include, exclude)\u001b[0m\n\u001b[1;32m    970\u001b[0m     method \u001b[38;5;241m=\u001b[39m get_real_method(obj, \u001b[38;5;28mself\u001b[39m\u001b[38;5;241m.\u001b[39mprint_method)\n\u001b[1;32m    972\u001b[0m     \u001b[38;5;28;01mif\u001b[39;00m method \u001b[38;5;129;01mis\u001b[39;00m \u001b[38;5;129;01mnot\u001b[39;00m \u001b[38;5;28;01mNone\u001b[39;00m:\n\u001b[0;32m--> 973\u001b[0m         \u001b[38;5;28;01mreturn\u001b[39;00m \u001b[43mmethod\u001b[49m\u001b[43m(\u001b[49m\u001b[43minclude\u001b[49m\u001b[38;5;241;43m=\u001b[39;49m\u001b[43minclude\u001b[49m\u001b[43m,\u001b[49m\u001b[43m \u001b[49m\u001b[43mexclude\u001b[49m\u001b[38;5;241;43m=\u001b[39;49m\u001b[43mexclude\u001b[49m\u001b[43m)\u001b[49m\n\u001b[1;32m    974\u001b[0m     \u001b[38;5;28;01mreturn\u001b[39;00m \u001b[38;5;28;01mNone\u001b[39;00m\n\u001b[1;32m    975\u001b[0m \u001b[38;5;28;01melse\u001b[39;00m:\n",
      "File \u001b[0;32m~/opt/anaconda3/envs/constrain/lib/python3.8/site-packages/IPython/core/display.py:1022\u001b[0m, in \u001b[0;36mImage._repr_mimebundle_\u001b[0;34m(self, include, exclude)\u001b[0m\n\u001b[1;32m   1020\u001b[0m \u001b[38;5;28;01mif\u001b[39;00m \u001b[38;5;28mself\u001b[39m\u001b[38;5;241m.\u001b[39membed:\n\u001b[1;32m   1021\u001b[0m     mimetype \u001b[38;5;241m=\u001b[39m \u001b[38;5;28mself\u001b[39m\u001b[38;5;241m.\u001b[39m_mimetype\n\u001b[0;32m-> 1022\u001b[0m     data, metadata \u001b[38;5;241m=\u001b[39m \u001b[38;5;28;43mself\u001b[39;49m\u001b[38;5;241;43m.\u001b[39;49m\u001b[43m_data_and_metadata\u001b[49m\u001b[43m(\u001b[49m\u001b[43malways_both\u001b[49m\u001b[38;5;241;43m=\u001b[39;49m\u001b[38;5;28;43;01mTrue\u001b[39;49;00m\u001b[43m)\u001b[49m\n\u001b[1;32m   1023\u001b[0m     \u001b[38;5;28;01mif\u001b[39;00m metadata:\n\u001b[1;32m   1024\u001b[0m         metadata \u001b[38;5;241m=\u001b[39m {mimetype: metadata}\n",
      "File \u001b[0;32m~/opt/anaconda3/envs/constrain/lib/python3.8/site-packages/IPython/core/display.py:1034\u001b[0m, in \u001b[0;36mImage._data_and_metadata\u001b[0;34m(self, always_both)\u001b[0m\n\u001b[1;32m   1032\u001b[0m     b64_data \u001b[38;5;241m=\u001b[39m b2a_base64(\u001b[38;5;28mself\u001b[39m\u001b[38;5;241m.\u001b[39mdata)\u001b[38;5;241m.\u001b[39mdecode(\u001b[38;5;124m'\u001b[39m\u001b[38;5;124mascii\u001b[39m\u001b[38;5;124m'\u001b[39m)\n\u001b[1;32m   1033\u001b[0m \u001b[38;5;28;01mexcept\u001b[39;00m \u001b[38;5;167;01mTypeError\u001b[39;00m \u001b[38;5;28;01mas\u001b[39;00m e:\n\u001b[0;32m-> 1034\u001b[0m     \u001b[38;5;28;01mraise\u001b[39;00m \u001b[38;5;167;01mFileNotFoundError\u001b[39;00m(\n\u001b[1;32m   1035\u001b[0m         \u001b[38;5;124m\"\u001b[39m\u001b[38;5;124mNo such file or directory: \u001b[39m\u001b[38;5;124m'\u001b[39m\u001b[38;5;132;01m%s\u001b[39;00m\u001b[38;5;124m'\u001b[39m\u001b[38;5;124m\"\u001b[39m \u001b[38;5;241m%\u001b[39m (\u001b[38;5;28mself\u001b[39m\u001b[38;5;241m.\u001b[39mdata)) \u001b[38;5;28;01mfrom\u001b[39;00m \u001b[38;5;21;01me\u001b[39;00m\n\u001b[1;32m   1036\u001b[0m md \u001b[38;5;241m=\u001b[39m {}\n\u001b[1;32m   1037\u001b[0m \u001b[38;5;28;01mif\u001b[39;00m \u001b[38;5;28mself\u001b[39m\u001b[38;5;241m.\u001b[39mmetadata:\n",
      "\u001b[0;31mFileNotFoundError\u001b[0m: No such file or directory: '../pictures/Construct multiple gRNA.png'"
     ]
    },
    {
     "ename": "FileNotFoundError",
     "evalue": "No such file or directory: '../pictures/Construct multiple gRNA.png'",
     "output_type": "error",
     "traceback": [
      "\u001b[0;31m---------------------------------------------------------------------------\u001b[0m",
      "\u001b[0;31mTypeError\u001b[0m                                 Traceback (most recent call last)",
      "File \u001b[0;32m~/opt/anaconda3/envs/constrain/lib/python3.8/site-packages/IPython/core/display.py:1032\u001b[0m, in \u001b[0;36mImage._data_and_metadata\u001b[0;34m(self, always_both)\u001b[0m\n\u001b[1;32m   1031\u001b[0m \u001b[38;5;28;01mtry\u001b[39;00m:\n\u001b[0;32m-> 1032\u001b[0m     b64_data \u001b[38;5;241m=\u001b[39m \u001b[43mb2a_base64\u001b[49m\u001b[43m(\u001b[49m\u001b[38;5;28;43mself\u001b[39;49m\u001b[38;5;241;43m.\u001b[39;49m\u001b[43mdata\u001b[49m\u001b[43m)\u001b[49m\u001b[38;5;241m.\u001b[39mdecode(\u001b[38;5;124m'\u001b[39m\u001b[38;5;124mascii\u001b[39m\u001b[38;5;124m'\u001b[39m)\n\u001b[1;32m   1033\u001b[0m \u001b[38;5;28;01mexcept\u001b[39;00m \u001b[38;5;167;01mTypeError\u001b[39;00m \u001b[38;5;28;01mas\u001b[39;00m e:\n",
      "\u001b[0;31mTypeError\u001b[0m: a bytes-like object is required, not 'str'",
      "\nThe above exception was the direct cause of the following exception:\n",
      "\u001b[0;31mFileNotFoundError\u001b[0m                         Traceback (most recent call last)",
      "File \u001b[0;32m~/opt/anaconda3/envs/constrain/lib/python3.8/site-packages/IPython/core/formatters.py:343\u001b[0m, in \u001b[0;36mBaseFormatter.__call__\u001b[0;34m(self, obj)\u001b[0m\n\u001b[1;32m    341\u001b[0m     method \u001b[38;5;241m=\u001b[39m get_real_method(obj, \u001b[38;5;28mself\u001b[39m\u001b[38;5;241m.\u001b[39mprint_method)\n\u001b[1;32m    342\u001b[0m     \u001b[38;5;28;01mif\u001b[39;00m method \u001b[38;5;129;01mis\u001b[39;00m \u001b[38;5;129;01mnot\u001b[39;00m \u001b[38;5;28;01mNone\u001b[39;00m:\n\u001b[0;32m--> 343\u001b[0m         \u001b[38;5;28;01mreturn\u001b[39;00m \u001b[43mmethod\u001b[49m\u001b[43m(\u001b[49m\u001b[43m)\u001b[49m\n\u001b[1;32m    344\u001b[0m     \u001b[38;5;28;01mreturn\u001b[39;00m \u001b[38;5;28;01mNone\u001b[39;00m\n\u001b[1;32m    345\u001b[0m \u001b[38;5;28;01melse\u001b[39;00m:\n",
      "File \u001b[0;32m~/opt/anaconda3/envs/constrain/lib/python3.8/site-packages/IPython/core/display.py:1054\u001b[0m, in \u001b[0;36mImage._repr_png_\u001b[0;34m(self)\u001b[0m\n\u001b[1;32m   1052\u001b[0m \u001b[38;5;28;01mdef\u001b[39;00m \u001b[38;5;21m_repr_png_\u001b[39m(\u001b[38;5;28mself\u001b[39m):\n\u001b[1;32m   1053\u001b[0m     \u001b[38;5;28;01mif\u001b[39;00m \u001b[38;5;28mself\u001b[39m\u001b[38;5;241m.\u001b[39membed \u001b[38;5;129;01mand\u001b[39;00m \u001b[38;5;28mself\u001b[39m\u001b[38;5;241m.\u001b[39mformat \u001b[38;5;241m==\u001b[39m \u001b[38;5;28mself\u001b[39m\u001b[38;5;241m.\u001b[39m_FMT_PNG:\n\u001b[0;32m-> 1054\u001b[0m         \u001b[38;5;28;01mreturn\u001b[39;00m \u001b[38;5;28;43mself\u001b[39;49m\u001b[38;5;241;43m.\u001b[39;49m\u001b[43m_data_and_metadata\u001b[49m\u001b[43m(\u001b[49m\u001b[43m)\u001b[49m\n",
      "File \u001b[0;32m~/opt/anaconda3/envs/constrain/lib/python3.8/site-packages/IPython/core/display.py:1034\u001b[0m, in \u001b[0;36mImage._data_and_metadata\u001b[0;34m(self, always_both)\u001b[0m\n\u001b[1;32m   1032\u001b[0m     b64_data \u001b[38;5;241m=\u001b[39m b2a_base64(\u001b[38;5;28mself\u001b[39m\u001b[38;5;241m.\u001b[39mdata)\u001b[38;5;241m.\u001b[39mdecode(\u001b[38;5;124m'\u001b[39m\u001b[38;5;124mascii\u001b[39m\u001b[38;5;124m'\u001b[39m)\n\u001b[1;32m   1033\u001b[0m \u001b[38;5;28;01mexcept\u001b[39;00m \u001b[38;5;167;01mTypeError\u001b[39;00m \u001b[38;5;28;01mas\u001b[39;00m e:\n\u001b[0;32m-> 1034\u001b[0m     \u001b[38;5;28;01mraise\u001b[39;00m \u001b[38;5;167;01mFileNotFoundError\u001b[39;00m(\n\u001b[1;32m   1035\u001b[0m         \u001b[38;5;124m\"\u001b[39m\u001b[38;5;124mNo such file or directory: \u001b[39m\u001b[38;5;124m'\u001b[39m\u001b[38;5;132;01m%s\u001b[39;00m\u001b[38;5;124m'\u001b[39m\u001b[38;5;124m\"\u001b[39m \u001b[38;5;241m%\u001b[39m (\u001b[38;5;28mself\u001b[39m\u001b[38;5;241m.\u001b[39mdata)) \u001b[38;5;28;01mfrom\u001b[39;00m \u001b[38;5;21;01me\u001b[39;00m\n\u001b[1;32m   1036\u001b[0m md \u001b[38;5;241m=\u001b[39m {}\n\u001b[1;32m   1037\u001b[0m \u001b[38;5;28;01mif\u001b[39;00m \u001b[38;5;28mself\u001b[39m\u001b[38;5;241m.\u001b[39mmetadata:\n",
      "\u001b[0;31mFileNotFoundError\u001b[0m: No such file or directory: '../pictures/Construct multiple gRNA.png'"
     ]
    },
    {
     "data": {
      "text/plain": [
       "<IPython.core.display.Image object>"
      ]
     },
     "execution_count": 13,
     "metadata": {},
     "output_type": "execute_result"
    }
   ],
   "source": [
    "from IPython import display\n",
    "display.Image('../pictures/Construct multiple gRNA.png')"
   ]
  },
  {
   "cell_type": "markdown",
   "metadata": {},
   "source": [
    "# Plasmid construction"
   ]
  },
  {
   "cell_type": "markdown",
   "metadata": {},
   "source": [
    "## Design"
   ]
  },
  {
   "cell_type": "code",
   "execution_count": 14,
   "metadata": {},
   "outputs": [],
   "source": [
    "# Most likly grna1 = pCfB-56(pESC-LEU-gRNA_ATF1-CroCPR)\n",
    "#gRNA1_template_names    = ['pL_05_D9\\(pRS425-gRNA_ATF1)']\n",
    "gRNA1_template_names= ['pESC-LEU-gRNA_CroCPR-2']\n",
    "gRNA2_template_names    = ['pESC-LEU-gRNA_CroCPR-2']\n",
    "backbone_template_names = ['p0056\\(pESC-LEU-ccdB-USER)']"
   ]
  },
  {
   "cell_type": "code",
   "execution_count": 15,
   "metadata": {
    "tags": []
   },
   "outputs": [],
   "source": [
    "##### NOTE : Need to fix this import method\n",
    "import sys\n",
    "sys.path.append('../constrain/lims')\n",
    "\n",
    "from benchling_api import from_benchling"
   ]
  },
  {
   "cell_type": "code",
   "execution_count": 16,
   "metadata": {},
   "outputs": [],
   "source": [
    "gRNA1_template    = from_benchling(gRNA1_template_names)\n",
    "gRNA2_template    = from_benchling(gRNA2_template_names)\n",
    "vector = Dseqrecord(from_benchling(backbone_template_names), circular = True)"
   ]
  },
  {
   "cell_type": "code",
   "execution_count": 17,
   "metadata": {},
   "outputs": [
    {
     "data": {
      "text/plain": [
       "SeqRecord(seq=Seq('TCGCGCGTTTCGGTGATGACGGTGAAAACCTCTGACACATGCAGCTCCCGGAGA...GTC'), id='seq_Qy1hV9Gf', name=['pESC-LEU-gRNA_CroCPR-2'], description='<unknown description>', dbxrefs=[])"
      ]
     },
     "execution_count": 17,
     "metadata": {},
     "output_type": "execute_result"
    }
   ],
   "source": [
    "gRNA2_template"
   ]
  },
  {
   "cell_type": "code",
   "execution_count": 18,
   "metadata": {},
   "outputs": [],
   "source": [
    "vector.name = \"p0056\\(pESC-LEU-ccdB-USER)\"\n",
    "vector.annotations['batches'] = [{'location'     :'l4_I06',\n",
    "                                       'volume'       : 50,\n",
    "                                       'concentration': 200}]"
   ]
  },
  {
   "cell_type": "code",
   "execution_count": 19,
   "metadata": {},
   "outputs": [],
   "source": [
    "from pydna.parsers import parse_primers\n",
    "U_pSNR52_Fw_1,TJOS_66_P2R,U_pSNR52_Fw_2,TJOS_65_P1R = parse_primers(''' >U_pSNR52_Fw_1\n",
    "                                      CGTGCGAUTCTTTGAAAAGATAATGTATGA\n",
    "\n",
    "                                      >TJOS_66_P2R\n",
    "                                      ACCTGCACUTAACTAATTACATGACTCGA \n",
    "                                      \n",
    "                                      >U_pSNR52_Fw_2\n",
    "                                      AGTGCAGGUTCTTTGAAAAGATAATGTATGA\n",
    "                                      \n",
    "                                      >TJOS_65_P1R\n",
    "                                      CACGCGAUTAACTAATTACATGACTCGA''')"
   ]
  },
  {
   "cell_type": "code",
   "execution_count": 20,
   "metadata": {},
   "outputs": [],
   "source": [
    "from pydna.amplify import pcr\n",
    "gRNA1_pcr_prod = pcr(U_pSNR52_Fw_1,TJOS_66_P2R, gRNA1_template)\n",
    "gRNA2_pcr_prod = pcr(U_pSNR52_Fw_2,TJOS_65_P1R, gRNA2_template)"
   ]
  },
  {
   "cell_type": "code",
   "execution_count": 21,
   "metadata": {},
   "outputs": [
    {
     "name": "stdout",
     "output_type": "stream",
     "text": [
      "425\n",
      "425\n",
      "CGTGCGATTCTTTGAAAAGATAATGTATGATTATGCTTTCACTCATATTTATACAGAAACTTGATGTTTTCTTTCGAGTATATACAAGGTGATTACATGTACGTTTGAAGTACAACTCTAGATTTTGTAGTGCCCTCTTGGGCTAGCGGTAAAGGTGCGCATTTTTTCACACCCTACAATGTTCTGTTCAAAAGATTTTGGTCAAACGCTGTAGAAGTGAAAGTTGGTGCGCATGTTTCGGCGTTCGAAACTTCTCCGCAGTGAAAGATAAATGATCGCCGTAGTAACGTCGCTGTCGTTTTAGAGCTAGAAATAGCAAGTTAAAATAAGGCTAGTCCGTTATCAACTTGAAAAAGTGGCACCGAGTCGGTGGTGCTTTTTTTGTTTTTTATGTCTTCGAGTCATGTAATTAGTTAAGTGCAGGT\n",
      "AGTGCAGGTTCTTTGAAAAGATAATGTATGATTATGCTTTCACTCATATTTATACAGAAACTTGATGTTTTCTTTCGAGTATATACAAGGTGATTACATGTACGTTTGAAGTACAACTCTAGATTTTGTAGTGCCCTCTTGGGCTAGCGGTAAAGGTGCGCATTTTTTCACACCCTACAATGTTCTGTTCAAAAGATTTTGGTCAAACGCTGTAGAAGTGAAAGTTGGTGCGCATGTTTCGGCGTTCGAAACTTCTCCGCAGTGAAAGATAAATGATCGCCGTAGTAACGTCGCTGTCGTTTTAGAGCTAGAAATAGCAAGTTAAAATAAGGCTAGTCCGTTATCAACTTGAAAAAGTGGCACCGAGTCGGTGGTGCTTTTTTTGTTTTTTATGTCTTCGAGTCATGTAATTAGTTAATCGCGTG\n"
     ]
    }
   ],
   "source": [
    "print(len(gRNA1_pcr_prod))\n",
    "print(len(gRNA2_pcr_prod))\n",
    "print(gRNA1_pcr_prod.seq)\n",
    "print(gRNA2_pcr_prod.seq)"
   ]
  },
  {
   "cell_type": "code",
   "execution_count": 22,
   "metadata": {},
   "outputs": [],
   "source": [
    "U_pSNR52_Fw_1.annotations['batches']   = [{'location':'o3_E07'}]\n",
    "TJOS_66_P2R.annotations['batches']   = [{'location':'o3_E08'}]\n",
    "U_pSNR52_Fw_2.annotations['batches']   = [{'location':'o3_E09'}]\n",
    "TJOS_65_P1R.annotations['batches']   = [{'location':'o3_F01'}]"
   ]
  },
  {
   "cell_type": "code",
   "execution_count": 23,
   "metadata": {},
   "outputs": [],
   "source": [
    "sys.path.append('../constrain/design')\n",
    "from cloning import USER_enzyme\n",
    "\n",
    "gRNA1_pcr_USER = USER_enzyme(gRNA1_pcr_prod)\n",
    "gRNA2_pcr_USER = USER_enzyme(gRNA2_pcr_prod)"
   ]
  },
  {
   "cell_type": "code",
   "execution_count": 24,
   "metadata": {},
   "outputs": [
    {
     "data": {
      "text/plain": [
       "(Dseqrecord(-6972), Dseqrecord(-1830))"
      ]
     },
     "execution_count": 24,
     "metadata": {},
     "output_type": "execute_result"
    }
   ],
   "source": [
    "vector.cut(AsiSI)"
   ]
  },
  {
   "cell_type": "code",
   "execution_count": 25,
   "metadata": {},
   "outputs": [
    {
     "data": {
      "text/plain": [
       "Dseq(-6972)\n",
       "  CGCG..TGCGAT\n",
       "TAGCGC..ACGC  "
      ]
     },
     "execution_count": 25,
     "metadata": {},
     "output_type": "execute_result"
    }
   ],
   "source": [
    "vector_asiSI, cCCDB,  = vector.cut(AsiSI)\n",
    "vector_asiSI.seq"
   ]
  },
  {
   "cell_type": "code",
   "execution_count": 26,
   "metadata": {},
   "outputs": [
    {
     "data": {
      "text/plain": [
       "(Dseqrecord(-8), Dseqrecord(-6960), Dseqrecord(-8))"
      ]
     },
     "execution_count": 26,
     "metadata": {},
     "output_type": "execute_result"
    }
   ],
   "source": [
    "vector_asiSI.cut(BsmI)"
   ]
  },
  {
   "cell_type": "code",
   "execution_count": 27,
   "metadata": {},
   "outputs": [],
   "source": [
    "BsmI_front,vector_asiSI_BsmI, BsmI_end = vector_asiSI.cut(BsmI)"
   ]
  },
  {
   "cell_type": "code",
   "execution_count": 28,
   "metadata": {},
   "outputs": [
    {
     "data": {
      "text/plain": [
       "Dseq(-8)\n",
       "  CGCGTG\n",
       "TAGCGC"
      ]
     },
     "execution_count": 28,
     "metadata": {},
     "output_type": "execute_result"
    }
   ],
   "source": [
    "BsmI_front.seq"
   ]
  },
  {
   "cell_type": "code",
   "execution_count": 29,
   "metadata": {},
   "outputs": [
    {
     "data": {
      "text/plain": [
       "'TAGCGCacg'"
      ]
     },
     "execution_count": 29,
     "metadata": {},
     "output_type": "execute_result"
    }
   ],
   "source": [
    "front_overhang_add = BsmI_front.reverse_complement().seq.watson[::-1] + \"acg\"\n",
    "front_overhang_add"
   ]
  },
  {
   "cell_type": "code",
   "execution_count": 30,
   "metadata": {},
   "outputs": [
    {
     "data": {
      "text/plain": [
       "Dseq(-9)\n",
       "        c\n",
       "TAGCGCacg"
      ]
     },
     "execution_count": 30,
     "metadata": {},
     "output_type": "execute_result"
    }
   ],
   "source": [
    "front_overhang_add_dseq = Dseqrecord(Dseq(crick = front_overhang_add,watson=\"c\", ovhg = 0))[::-1]\n",
    "front_overhang_add_dseq.seq"
   ]
  },
  {
   "cell_type": "code",
   "execution_count": 31,
   "metadata": {},
   "outputs": [
    {
     "data": {
      "text/plain": [
       "Dseq(-8)\n",
       "  TGCGAT\n",
       "GCACGC"
      ]
     },
     "execution_count": 31,
     "metadata": {},
     "output_type": "execute_result"
    }
   ],
   "source": [
    "BsmI_end.seq"
   ]
  },
  {
   "cell_type": "code",
   "execution_count": 32,
   "metadata": {},
   "outputs": [
    {
     "data": {
      "text/plain": [
       "'gcgTGCGAT'"
      ]
     },
     "execution_count": 32,
     "metadata": {},
     "output_type": "execute_result"
    }
   ],
   "source": [
    "end_overhang_add = \"gcg\" + BsmI_end.seq.watson\n",
    "end_overhang_add"
   ]
  },
  {
   "cell_type": "code",
   "execution_count": 33,
   "metadata": {},
   "outputs": [
    {
     "data": {
      "text/plain": [
       "Dseq(-9)\n",
       "gcgTGCGAT\n",
       "c"
      ]
     },
     "execution_count": 33,
     "metadata": {},
     "output_type": "execute_result"
    }
   ],
   "source": [
    "end_overhang_add_dseq = Dseqrecord(Dseq(watson = end_overhang_add, crick=\"c\", ovhg = 0))\n",
    "end_overhang_add_dseq.seq"
   ]
  },
  {
   "cell_type": "code",
   "execution_count": 34,
   "metadata": {},
   "outputs": [
    {
     "data": {
      "text/plain": [
       "Dseq(-6960)\n",
       "  CATT..AATGCG\n",
       "ACGTAA..TTAC  "
      ]
     },
     "execution_count": 34,
     "metadata": {},
     "output_type": "execute_result"
    }
   ],
   "source": [
    "vector_asiSI_BsmI.seq"
   ]
  },
  {
   "cell_type": "code",
   "execution_count": 35,
   "metadata": {},
   "outputs": [
    {
     "data": {
      "text/plain": [
       "Dseq(-6954)\n",
       "ATTC..GAAT\n",
       "TAAG..CTTA"
      ]
     },
     "execution_count": 35,
     "metadata": {},
     "output_type": "execute_result"
    }
   ],
   "source": [
    "vector_asiSI_BsmI_blunt = vector_asiSI_BsmI\n",
    "vector_asiSI_BsmI_blunt.seq = vector_asiSI_BsmI.seq.T4('g')[1:-1]\n",
    "vector_asiSI_BsmI_blunt.seq "
   ]
  },
  {
   "cell_type": "code",
   "execution_count": 36,
   "metadata": {},
   "outputs": [
    {
     "data": {
      "text/plain": [
       "Dseq(-6972)\n",
       "        cATT..AATgcgTGCGAT\n",
       "TAGCGCacgTAA..TTAc        "
      ]
     },
     "execution_count": 36,
     "metadata": {},
     "output_type": "execute_result"
    }
   ],
   "source": [
    "vector_overhangs = front_overhang_add_dseq + vector_asiSI_BsmI_blunt + end_overhang_add_dseq\n",
    "vector_overhangs.seq"
   ]
  },
  {
   "cell_type": "code",
   "execution_count": 37,
   "metadata": {},
   "outputs": [
    {
     "data": {
      "text/plain": [
       "Dseq(-6972)\n",
       "        cATT..ATgccgTGCGA\n",
       "TAGCGCaccgTA..TTAc       "
      ]
     },
     "execution_count": 37,
     "metadata": {},
     "output_type": "execute_result"
    }
   ],
   "source": [
    "vector_overhangs.seq.watson = vector_overhangs.seq.watson[:-1]\n",
    "vector_overhangs.seq"
   ]
  },
  {
   "cell_type": "code",
   "execution_count": 38,
   "metadata": {},
   "outputs": [
    {
     "data": {
      "text/plain": [
       "Dseq(-425)\n",
       "        TCTT..GTTAAGTGCAGGT\n",
       "GCACGCTAAGAA..CAAT         "
      ]
     },
     "execution_count": 38,
     "metadata": {},
     "output_type": "execute_result"
    }
   ],
   "source": [
    "gRNA1_pcr_USER.seq"
   ]
  },
  {
   "cell_type": "code",
   "execution_count": 39,
   "metadata": {},
   "outputs": [
    {
     "data": {
      "text/plain": [
       "Dseq(-425)\n",
       "        TCTT..TTAAAGTGCAGG\n",
       "GCACGCTAAAGA..CAAT        "
      ]
     },
     "execution_count": 39,
     "metadata": {},
     "output_type": "execute_result"
    }
   ],
   "source": [
    "gRNA1_pcr_USER.seq.watson = gRNA1_pcr_USER.seq.watson[:-1]\n",
    "gRNA1_pcr_USER.seq"
   ]
  },
  {
   "cell_type": "code",
   "execution_count": 40,
   "metadata": {},
   "outputs": [
    {
     "data": {
      "text/plain": [
       "Dseq(-425)\n",
       "         TCTT..GTTAATCGCGTG\n",
       "TCACGTCCAAGAA..CAAT        "
      ]
     },
     "execution_count": 40,
     "metadata": {},
     "output_type": "execute_result"
    }
   ],
   "source": [
    "gRNA2_pcr_USER.seq"
   ]
  },
  {
   "cell_type": "code",
   "execution_count": 41,
   "metadata": {},
   "outputs": [
    {
     "ename": "TypeError",
     "evalue": "sticky ends not compatible!",
     "output_type": "error",
     "traceback": [
      "\u001b[0;31m---------------------------------------------------------------------------\u001b[0m",
      "\u001b[0;31mTypeError\u001b[0m                                 Traceback (most recent call last)",
      "Input \u001b[0;32mIn [41]\u001b[0m, in \u001b[0;36m<cell line: 1>\u001b[0;34m()\u001b[0m\n\u001b[0;32m----> 1\u001b[0m rec_vec \u001b[38;5;241m=\u001b[39m  (\u001b[43mvector_overhangs\u001b[49m\u001b[43m \u001b[49m\u001b[38;5;241;43m+\u001b[39;49m\u001b[43m \u001b[49m\u001b[43mgRNA1_pcr_USER\u001b[49m \u001b[38;5;241m+\u001b[39m gRNA2_pcr_USER)\u001b[38;5;241m.\u001b[39mlooped()\n",
      "File \u001b[0;32m~/opt/anaconda3/envs/constrain/lib/python3.8/site-packages/pydna/dseqrecord.py:806\u001b[0m, in \u001b[0;36mDseqrecord.__add__\u001b[0;34m(self, other)\u001b[0m\n\u001b[1;32m    803\u001b[0m         \u001b[38;5;28;01mfor\u001b[39;00m f \u001b[38;5;129;01min\u001b[39;00m other\u001b[38;5;241m.\u001b[39mfeatures:\n\u001b[1;32m    804\u001b[0m             f\u001b[38;5;241m.\u001b[39mlocation \u001b[38;5;241m=\u001b[39m f\u001b[38;5;241m.\u001b[39mlocation \u001b[38;5;241m+\u001b[39m (\u001b[38;5;241m-\u001b[39mother\u001b[38;5;241m.\u001b[39mseq\u001b[38;5;241m.\u001b[39movhg)\n\u001b[0;32m--> 806\u001b[0m     answer \u001b[38;5;241m=\u001b[39m Dseqrecord(\u001b[43m_SeqRecord\u001b[49m\u001b[38;5;241;43m.\u001b[39;49m\u001b[38;5;21;43m__add__\u001b[39;49m\u001b[43m(\u001b[49m\u001b[38;5;28;43mself\u001b[39;49m\u001b[43m,\u001b[49m\u001b[43m \u001b[49m\u001b[43mother\u001b[49m\u001b[43m)\u001b[49m)\n\u001b[1;32m    807\u001b[0m     answer\u001b[38;5;241m.\u001b[39mn \u001b[38;5;241m=\u001b[39m \u001b[38;5;28mmin\u001b[39m(\u001b[38;5;28mself\u001b[39m\u001b[38;5;241m.\u001b[39mn, other\u001b[38;5;241m.\u001b[39mn)\n\u001b[1;32m    808\u001b[0m \u001b[38;5;28;01melse\u001b[39;00m:\n",
      "File \u001b[0;32m~/opt/anaconda3/envs/constrain/lib/python3.8/site-packages/pydna/seqrecord.py:609\u001b[0m, in \u001b[0;36mSeqRecord.__add__\u001b[0;34m(self, other)\u001b[0m\n\u001b[1;32m    607\u001b[0m \u001b[38;5;28;01mdef\u001b[39;00m \u001b[38;5;21m__add__\u001b[39m(\u001b[38;5;28mself\u001b[39m, other):\n\u001b[1;32m    608\u001b[0m     \u001b[38;5;124;03m\"\"\"docstring.\"\"\"\u001b[39;00m\n\u001b[0;32m--> 609\u001b[0m     answer \u001b[38;5;241m=\u001b[39m \u001b[38;5;28;43msuper\u001b[39;49m\u001b[43m(\u001b[49m\u001b[43m)\u001b[49m\u001b[38;5;241;43m.\u001b[39;49m\u001b[38;5;21;43m__add__\u001b[39;49m\u001b[43m(\u001b[49m\u001b[43mother\u001b[49m\u001b[43m)\u001b[49m\n\u001b[1;32m    610\u001b[0m     \u001b[38;5;28;01mif\u001b[39;00m answer\u001b[38;5;241m.\u001b[39mname \u001b[38;5;241m==\u001b[39m \u001b[38;5;124m\"\u001b[39m\u001b[38;5;124m<unknown name>\u001b[39m\u001b[38;5;124m\"\u001b[39m:\n\u001b[1;32m    611\u001b[0m         answer\u001b[38;5;241m.\u001b[39mname \u001b[38;5;241m=\u001b[39m \u001b[38;5;124m\"\u001b[39m\u001b[38;5;124mname\u001b[39m\u001b[38;5;124m\"\u001b[39m\n",
      "File \u001b[0;32m~/opt/anaconda3/envs/constrain/lib/python3.8/site-packages/Bio/SeqRecord.py:907\u001b[0m, in \u001b[0;36mSeqRecord.__add__\u001b[0;34m(self, other)\u001b[0m\n\u001b[1;32m    896\u001b[0m     \u001b[38;5;28;01mreturn\u001b[39;00m SeqRecord(\n\u001b[1;32m    897\u001b[0m         \u001b[38;5;28mself\u001b[39m\u001b[38;5;241m.\u001b[39mseq \u001b[38;5;241m+\u001b[39m other,\n\u001b[1;32m    898\u001b[0m         \u001b[38;5;28mid\u001b[39m\u001b[38;5;241m=\u001b[39m\u001b[38;5;28mself\u001b[39m\u001b[38;5;241m.\u001b[39mid,\n\u001b[0;32m   (...)\u001b[0m\n\u001b[1;32m    903\u001b[0m         dbxrefs\u001b[38;5;241m=\u001b[39m\u001b[38;5;28mself\u001b[39m\u001b[38;5;241m.\u001b[39mdbxrefs[:],\n\u001b[1;32m    904\u001b[0m     )\n\u001b[1;32m    905\u001b[0m \u001b[38;5;66;03m# Adding two SeqRecord objects... must merge annotation.\u001b[39;00m\n\u001b[1;32m    906\u001b[0m answer \u001b[38;5;241m=\u001b[39m SeqRecord(\n\u001b[0;32m--> 907\u001b[0m     \u001b[38;5;28;43mself\u001b[39;49m\u001b[38;5;241;43m.\u001b[39;49m\u001b[43mseq\u001b[49m\u001b[43m \u001b[49m\u001b[38;5;241;43m+\u001b[39;49m\u001b[43m \u001b[49m\u001b[43mother\u001b[49m\u001b[38;5;241;43m.\u001b[39;49m\u001b[43mseq\u001b[49m, features\u001b[38;5;241m=\u001b[39m\u001b[38;5;28mself\u001b[39m\u001b[38;5;241m.\u001b[39mfeatures[:], dbxrefs\u001b[38;5;241m=\u001b[39m\u001b[38;5;28mself\u001b[39m\u001b[38;5;241m.\u001b[39mdbxrefs[:]\n\u001b[1;32m    908\u001b[0m )\n\u001b[1;32m    909\u001b[0m \u001b[38;5;66;03m# Will take all the features and all the db cross refs,\u001b[39;00m\n\u001b[1;32m    910\u001b[0m length \u001b[38;5;241m=\u001b[39m \u001b[38;5;28mlen\u001b[39m(\u001b[38;5;28mself\u001b[39m)\n",
      "File \u001b[0;32m~/opt/anaconda3/envs/constrain/lib/python3.8/site-packages/pydna/dseq.py:981\u001b[0m, in \u001b[0;36mDseq.__add__\u001b[0;34m(self, other)\u001b[0m\n\u001b[1;32m    979\u001b[0m     answer \u001b[38;5;241m=\u001b[39m _copy\u001b[38;5;241m.\u001b[39mcopy(\u001b[38;5;28mself\u001b[39m)\n\u001b[1;32m    980\u001b[0m \u001b[38;5;28;01melse\u001b[39;00m:\n\u001b[0;32m--> 981\u001b[0m     \u001b[38;5;28;01mraise\u001b[39;00m \u001b[38;5;167;01mTypeError\u001b[39;00m(\u001b[38;5;124m\"\u001b[39m\u001b[38;5;124msticky ends not compatible!\u001b[39m\u001b[38;5;124m\"\u001b[39m)\n\u001b[1;32m    982\u001b[0m \u001b[38;5;28;01mreturn\u001b[39;00m answer\n",
      "\u001b[0;31mTypeError\u001b[0m: sticky ends not compatible!"
     ]
    }
   ],
   "source": [
    "rec_vec =  (vector_overhangs + gRNA1_pcr_USER + gRNA2_pcr_USER).looped()"
   ]
  },
  {
   "cell_type": "markdown",
   "metadata": {},
   "source": [
    "OBS this process has changed gRNA1 feature locations one bp to the rigth. I have manually fixed these in Benchling as a workaround."
   ]
  },
  {
   "cell_type": "code",
   "execution_count": null,
   "metadata": {},
   "outputs": [],
   "source": [
    "rec_vec.name = \"pCfB-56(pESC-LEU-gRNA_ATF1-CroCPR)\""
   ]
  },
  {
   "cell_type": "code",
   "execution_count": null,
   "metadata": {},
   "outputs": [],
   "source": [
    "rec_vec.annotations['batches'] = {'location':'p1_G09'}"
   ]
  },
  {
   "cell_type": "code",
   "execution_count": null,
   "metadata": {},
   "outputs": [],
   "source": [
    "sys.path.append('../constrain/design')\n",
    "from cloning import extract_gRNAs"
   ]
  },
  {
   "cell_type": "code",
   "execution_count": null,
   "metadata": {},
   "outputs": [],
   "source": [
    "gRNAs = extract_gRNAs(rec_vec, \"gRNA\")\n",
    "gRNAs"
   ]
  },
  {
   "cell_type": "markdown",
   "metadata": {},
   "source": [
    "Accounting for .looped() method movement of feature locations"
   ]
  },
  {
   "cell_type": "code",
   "execution_count": null,
   "metadata": {},
   "outputs": [],
   "source": [
    "gRNAs[0].seq = 'g' + gRNAs[0].seq[:-1]\n",
    "gRNAs[0]"
   ]
  },
  {
   "cell_type": "code",
   "execution_count": null,
   "metadata": {},
   "outputs": [],
   "source": [
    "gRNAs[1].name"
   ]
  },
  {
   "cell_type": "markdown",
   "metadata": {},
   "source": [
    "## PCR reactions"
   ]
  },
  {
   "cell_type": "markdown",
   "metadata": {},
   "source": [
    "Phusion U"
   ]
  },
  {
   "cell_type": "code",
   "execution_count": null,
   "metadata": {},
   "outputs": [],
   "source": [
    "gRNA1_pcr_prod.name = \"ATF1\"\n",
    "gRNA1_pcr_prod.annotations['batches'] = [{'location':'l4_I07'}]\n",
    "gRNA1_pcr_prod.annotations['template_location'] = \"PL_05_D9\"\n",
    "\n",
    "gRNA2_pcr_prod.name = \"CroCPR\"\n",
    "gRNA2_pcr_prod.annotations['batches'] = [{'location':'l4_I08'}]\n",
    "gRNA2_pcr_prod.annotations['template_location'] = \"p1_F04\""
   ]
  },
  {
   "cell_type": "code",
   "execution_count": null,
   "metadata": {},
   "outputs": [],
   "source": [
    "sys.path.append('../constrain/lab')\n",
    "from PCR import pcr_locations1\n",
    "\n",
    "pcr_locations1([gRNA1_pcr_prod, gRNA2_pcr_prod])"
   ]
  },
  {
   "cell_type": "code",
   "execution_count": null,
   "metadata": {},
   "outputs": [],
   "source": [
    "from PCR import pcr_volumes\n",
    "pcr_volumes(vol_p_reac = 20, \n",
    "        no_of_reactions = 3,\n",
    "        standard_reagents = [\"Template\", \"Primer 1\", \"Primer 2\", \"H20\", \"Pol\"],\n",
    "        standard_volumes = [1, 2.5, 2.5, 19, 25])"
   ]
  },
  {
   "cell_type": "code",
   "execution_count": null,
   "metadata": {},
   "outputs": [],
   "source": [
    "#gRNA1_pcr_prod.program() #.dbd_program"
   ]
  },
  {
   "cell_type": "code",
   "execution_count": null,
   "metadata": {},
   "outputs": [],
   "source": [
    "len(gRNA1_pcr_prod)"
   ]
  },
  {
   "cell_type": "code",
   "execution_count": null,
   "metadata": {},
   "outputs": [],
   "source": [
    "len(gRNA2_pcr_prod)"
   ]
  },
  {
   "cell_type": "code",
   "execution_count": null,
   "metadata": {},
   "outputs": [],
   "source": [
    "#gel([PennStateLadder,[gRNA1_pcr_prod],[gRNA2_pcr_prod]]) #GeneRuler_1kb_; [Dseqrecord(\"A\"*2000)]\n",
    "gel([PennStateLadder,[Dseqrecord(\"A\"*500)],[Dseqrecord(\"A\"*500)], [vector]])"
   ]
  },
  {
   "cell_type": "markdown",
   "metadata": {},
   "source": [
    "### Input picture from gel here: \n",
    "\n",
    "Image(\"..path/name_of_file.jpg\", width = 100)"
   ]
  },
  {
   "cell_type": "markdown",
   "metadata": {},
   "source": [
    "Plasmid contamination. Gel extraction."
   ]
  },
  {
   "cell_type": "code",
   "execution_count": null,
   "metadata": {},
   "outputs": [],
   "source": [
    "gRNA1_pcr_prod.annotations['batches'][0].update({'volume'       : 50,\n",
    "                                                 'concentration': 50})\n",
    "gRNA2_pcr_prod.annotations['batches'][0].update({'volume'       : 50,\n",
    "                                                 'concentration': 50})"
   ]
  },
  {
   "cell_type": "markdown",
   "metadata": {},
   "source": [
    "USER assembly\n",
    "\n",
    "BB_01_C1 made by asisI and nb.bsmI treatment of p0056\\(pESC-LEU-ccdB-USER)\n",
    "\n",
    "l4_I06  = BB_01_C1\n"
   ]
  },
  {
   "cell_type": "code",
   "execution_count": null,
   "metadata": {},
   "outputs": [],
   "source": [
    "LEU_plasmid = from_benchling(\"pESC-LEU-gRNA_CroCPR-2\")\n",
    "LEU_plasmid.name = \"LEU_plasmid\"\n",
    "LEU_plasmid.annotations['batches'] = [{'location'     :'p1_F06',\n",
    "                                       'volume'       : 30,\n",
    "                                       'concentration': 470}]"
   ]
  },
  {
   "cell_type": "code",
   "execution_count": null,
   "metadata": {},
   "outputs": [],
   "source": [
    "reaction_names = [\"pESC-LEU-gRNA_ATF1-CroCPR\", \"n.ctr\", \"n.ctr\", \"n.ctr\", \"p. ctr\"]"
   ]
  },
  {
   "cell_type": "code",
   "execution_count": null,
   "metadata": {},
   "outputs": [],
   "source": [
    "reaction_participants = [[vector, gRNA1_pcr_prod,gRNA2_pcr_prod],\n",
    "                         [vector],\n",
    "                         [gRNA1_pcr_prod],\n",
    "                         [gRNA2_pcr_prod], \n",
    "                         [LEU_plasmid]]"
   ]
  },
  {
   "cell_type": "markdown",
   "metadata": {},
   "source": [
    "- 15 ng vector\n",
    "- 30 ng gRNA\n",
    "- 10 ng LEU plasmid"
   ]
  },
  {
   "cell_type": "code",
   "execution_count": null,
   "metadata": {},
   "outputs": [],
   "source": [
    "sys.path.append('../constrain/lab')\n",
    "#from Transformation import transf_locations1\n",
    "from Transformation import ng_to_nmol, transformation_mix"
   ]
  },
  {
   "cell_type": "code",
   "execution_count": null,
   "metadata": {},
   "outputs": [],
   "source": [
    "nmol_vector = ng_to_nmol(ng = 15, bp = len(vector))\n",
    "nmol_gRNA = ng_to_nmol(ng = 30, bp = len(gRNA1_pcr_prod))\n",
    "nmol_pctr = ng_to_nmol(ng = 10, bp = len(LEU_plasmid))"
   ]
  },
  {
   "cell_type": "code",
   "execution_count": null,
   "metadata": {},
   "outputs": [],
   "source": [
    "# in nmol\n",
    "wanted_concentrations = {'p0056\\\\(pESC-LEU-ccdB-USER)' : nmol_vector,\n",
    "                         'ATF1'                        : nmol_gRNA,\n",
    "                         'CroCPR'                      : nmol_gRNA,\n",
    "                         'LEU_plasmid'                 : nmol_pctr}"
   ]
  },
  {
   "cell_type": "code",
   "execution_count": null,
   "metadata": {},
   "outputs": [],
   "source": [
    "media = ['LB_AMP'] * 5"
   ]
  },
  {
   "cell_type": "code",
   "execution_count": null,
   "metadata": {},
   "outputs": [],
   "source": [
    "transformation_mix(reaction_names, \n",
    "                  reaction_participants, \n",
    "                  wanted_amounts = wanted_concentrations,\n",
    "                  water_dna_p_reac = 7,\n",
    "                  media = media)"
   ]
  },
  {
   "cell_type": "code",
   "execution_count": null,
   "metadata": {},
   "outputs": [],
   "source": [
    "pcr_volumes(vol_p_reac = 10, \n",
    "        no_of_reactions = 6,\n",
    "        standard_reagents = [\"DNA\",\"Buffer, Cutsmart\",\"H20\",\"Enz, USER\"],\n",
    "        standard_volumes = [1,1,7,1])"
   ]
  },
  {
   "cell_type": "markdown",
   "metadata": {},
   "source": [
    "|  | °C | min | \n",
    "| --- | --- | --- |\n",
    "| Incubate | 37 | 25 | \n",
    "|  | 25 | 15 | \n",
    "|  | 0 | ... | "
   ]
  },
  {
   "cell_type": "markdown",
   "metadata": {},
   "source": [
    "Transformation:\n",
    "\n",
    "Add 90 µl DH5a cells to 10 µl USER reaction & incubate"
   ]
  },
  {
   "cell_type": "markdown",
   "metadata": {},
   "source": [
    "|  | °C | min | \n",
    "| --- | --- | --- |\n",
    "| Incubate | 0 | 30 | \n",
    "|  | 42 | 1.5 (90s) | \n",
    "|  | 0 | 5 | \n"
   ]
  },
  {
   "cell_type": "markdown",
   "metadata": {},
   "source": [
    "### Plate on lb amp and insert picture of the transformation below: \n",
    "Image('../figures/transformations/name_of_file.jpg', width=600)"
   ]
  },
  {
   "cell_type": "markdown",
   "metadata": {},
   "source": [
    "1. Pick 4 colonies from data (x example(2021-01-12)) plate no. 1\n",
    "2. Plasmid prep\n",
    "3. Sanger sequence from both ends"
   ]
  },
  {
   "cell_type": "code",
   "execution_count": null,
   "metadata": {},
   "outputs": [],
   "source": [
    "ADH1_test_fw,CYC1_test_rv, = parse_primers(''' >ADH1_test_fw\n",
    "                                      GAAATTCGCTTATTTAGAAGTGTC\n",
    "                                      >CYC1_test_rv\n",
    "                                      CTCCTTCCTTTTCGGTTAGAG''')"
   ]
  },
  {
   "cell_type": "code",
   "execution_count": null,
   "metadata": {},
   "outputs": [],
   "source": [
    "ADH1_test_fw.annotations['batches']   = [{'location':'o1_C07'}]\n",
    "CYC1_test_rv.annotations['batches']     = [{'location':'o1_C08'}]"
   ]
  },
  {
   "cell_type": "markdown",
   "metadata": {},
   "source": [
    "| Colony no. | Primer_batch_location | Result|\n",
    "| --- | --- |--- |\n",
    "| 1 | o1_C07 | Correct |\n",
    "| 2 | o1_C07 | Wrong |\n",
    "| 3 | o1_C07 | Correct |\n",
    "| 4 | o1_C07 | Bad trace |\n",
    "| 1 | o1_C08 | Correct |\n",
    "| 2 | o1_C08 | Wrong |\n",
    "| 3 | o1_C08 | Correct |\n",
    "| 4 | o1_C08 | Bad trace |\n",
    "\n",
    "Conclusion: Colony no. 1 and 3 seems correct\n",
    "\n",
    "Sample 1 becomes batch 001 in location p1_G09\n",
    "Sample 3 becomes batch 002 in location p1_I01"
   ]
  },
  {
   "cell_type": "code",
   "execution_count": null,
   "metadata": {},
   "outputs": [],
   "source": [
    "rec_vec.name"
   ]
  },
  {
   "cell_type": "code",
   "execution_count": null,
   "metadata": {},
   "outputs": [],
   "source": [
    "rec_vec.annotations['batches'] = [{'location':['p1_G09']},{'location':['p1_I01']}]"
   ]
  },
  {
   "cell_type": "code",
   "execution_count": null,
   "metadata": {},
   "outputs": [],
   "source": [
    "#rec_vec.write(\"../data/processed/p1_G09.gb\")"
   ]
  },
  {
   "cell_type": "code",
   "execution_count": null,
   "metadata": {},
   "outputs": [],
   "source": [
    "#rec_vec.to_benchling()..."
   ]
  },
  {
   "cell_type": "code",
   "execution_count": null,
   "metadata": {},
   "outputs": [],
   "source": []
  }
 ],
 "metadata": {
  "kernelspec": {
   "display_name": "Python 3 (ipykernel)",
   "language": "python",
   "name": "python3"
  },
  "language_info": {
   "codemirror_mode": {
    "name": "ipython",
    "version": 3
   },
   "file_extension": ".py",
   "mimetype": "text/x-python",
   "name": "python",
   "nbconvert_exporter": "python",
   "pygments_lexer": "ipython3",
   "version": "3.8.13"
  },
  "toc-autonumbering": false
 },
 "nbformat": 4,
 "nbformat_minor": 4
}
