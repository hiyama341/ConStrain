{
 "cells": [
  {
   "cell_type": "code",
   "execution_count": 1,
   "metadata": {},
   "outputs": [],
   "source": [
    "#import utils\n",
    "import sys\n",
    "import pathlib\n",
    "import Bio\n",
    "import pydna\n",
    "import pydna.dseqrecord\n",
    "import pydna.amplify\n",
    "import pydna.gel\n",
    "import pydna.ladders\n",
    "import pydna.assembly\n",
    "import IPython.core.display\n",
    "import IPython.display\n",
    "\n",
    "import pydna.editor\n",
    "\n",
    "# import constrain modules"
   ]
  },
  {
   "cell_type": "markdown",
   "metadata": {},
   "source": [
    "# Project"
   ]
  },
  {
   "cell_type": "markdown",
   "metadata": {},
   "source": [
    "Debottlenecking the strictosidine module\n",
    "\n",
    "Hypothesis\n",
    "1. Specific combinations of CPR / G8H homologs and corresponding expression levels can remove the G8H bottleneck in the Strictosidine pathway\n",
    "\n",
    "Aim: To test the hypothesis\n",
    "\n",
    "Tasks\n",
    "1. dgRNA \n",
    "2. **Base strain**\n",
    "    - From de novo producer (MIA-CM-3)\n",
    "    - MIA-HA-1 (MIA-CM-3 -CroCPR - CroG8H)\n",
    "3. Library\n",
    "4. Phenotyping\n",
    "5. Data analysis"
   ]
  },
  {
   "cell_type": "markdown",
   "metadata": {},
   "source": [
    "# Base strain"
   ]
  },
  {
   "cell_type": "markdown",
   "metadata": {},
   "source": [
    "MIA-CM-3"
   ]
  },
  {
   "cell_type": "code",
   "execution_count": 2,
   "metadata": {},
   "outputs": [],
   "source": [
    "sys.path.append('../constrain/lims')\n",
    "\n",
    "from Benchling_api import from_benchling"
   ]
  },
  {
   "cell_type": "code",
   "execution_count": 3,
   "metadata": {},
   "outputs": [],
   "source": [
    "#CM3 = from_benchling(\"MIA-CM-3\")"
   ]
  },
  {
   "cell_type": "markdown",
   "metadata": {},
   "source": [
    "# dgRNA"
   ]
  },
  {
   "cell_type": "code",
   "execution_count": 4,
   "metadata": {},
   "outputs": [],
   "source": [
    "gRNA_ATF1_CroCPR = from_benchling(\"pCfB-56(pESC-LEU-gRNA_ATF1-CroCPR)\")"
   ]
  },
  {
   "cell_type": "code",
   "execution_count": 5,
   "metadata": {},
   "outputs": [],
   "source": [
    "ATF1_gRNA = pydna.dseqrecord.Dseqrecord(\"GAATGGGCATGCTCGGCGTA\", name = \"ATF1\")\n",
    "CroCPR_gRNA = pydna.dseqrecord.Dseqrecord(\"GCCGTAGTAACGTCGCTGTC\", name = \"CroCPR\") #CroCPR gRNA-2"
   ]
  },
  {
   "cell_type": "markdown",
   "metadata": {},
   "source": [
    "# Repair templates"
   ]
  },
  {
   "cell_type": "markdown",
   "metadata": {},
   "source": [
    "Repair templates: \n",
    "- G8H; tADH1-P1_PGK1_400\n",
    "- CPR; XI-3 (l4_A08)"
   ]
  },
  {
   "cell_type": "markdown",
   "metadata": {},
   "source": [
    "**G8H**"
   ]
  },
  {
   "cell_type": "markdown",
   "metadata": {},
   "source": [
    "| Part | Template | Primer_Fw | Primer_Rv | Anneal | Size |\n",
    "| --- | --- | --- | --- | --- | --- |\n",
    "| tADH1-P1_PGK1_400 | pRS413U_P2_PGK1_mKate2 | pPGK1_Seq_Rv |USER_XhoI_Fw| Touchdown | 0.6 kb |"
   ]
  },
  {
   "cell_type": "code",
   "execution_count": 6,
   "metadata": {},
   "outputs": [],
   "source": [
    "pRS413U_P2_PGK1_mKate2 = from_benchling(\"PL_02_E2(pRS413U-P2_PGK1-mKate2)\")\n",
    "pPGK1_Seq_Rv = from_benchling(\"pPGK1_Seq_Rv\", 'Primer')\n",
    "USER_XhoI_Fw = from_benchling(\"USER_XhoI_Fw\", 'Primer')"
   ]
  },
  {
   "cell_type": "code",
   "execution_count": 10,
   "metadata": {},
   "outputs": [
    {
     "data": {
      "text/html": [
       "Amplicon(659)"
      ],
      "text/plain": [
       "Amplicon(659)"
      ]
     },
     "execution_count": 10,
     "metadata": {},
     "output_type": "execute_result"
    }
   ],
   "source": [
    "ATF1_repair_template = pydna.amplify.pcr(pPGK1_Seq_Rv, USER_XhoI_Fw, pRS413U_P2_PGK1_mKate2)\n",
    "ATF1_repair_template"
   ]
  },
  {
   "cell_type": "code",
   "execution_count": 8,
   "metadata": {},
   "outputs": [],
   "source": [
    "# Check annotations in clc\n",
    "    # clc.open(ATF1_repair_template)\n",
    "# Write function that can determine name from seqrecord features?\n",
    "ATF1_repair_template.name = \"tADH1-P1_PGK1_400\"\n",
    "# Use benchling API to find empty location, then create empty container with location\n",
    "ATF1_repair_template.annotations['batches'] = [{'location':'l5_A02'}]\n",
    "# Upload name, sequence to benchling\n",
    "    # utils.to_benchling(ATF1_repair_template, \"to_benchling\", schema = 'DNA Fragment')"
   ]
  },
  {
   "cell_type": "markdown",
   "metadata": {},
   "source": [
    "**CPR**"
   ]
  },
  {
   "cell_type": "markdown",
   "metadata": {},
   "source": [
    "| Part | Template | Primer_Fw | Primer_Rv | Anneal | Size |\n",
    "| --- | --- | --- | --- | --- | --- |\n",
    "| XI-3 | gDNA | XI-3- up-out-sq |XI-3- down-out-sq| Touchdown | 1.4 kb |"
   ]
  },
  {
   "cell_type": "code",
   "execution_count": 9,
   "metadata": {},
   "outputs": [
    {
     "ename": "FileNotFoundError",
     "evalue": "[Errno 2] No such file or directory: '../data/raw/CENPK113-7d/11.fa'",
     "output_type": "error",
     "traceback": [
      "\u001b[0;31m---------------------------------------------------------------------------\u001b[0m",
      "\u001b[0;31mFileNotFoundError\u001b[0m                         Traceback (most recent call last)",
      "Input \u001b[0;32mIn [9]\u001b[0m, in \u001b[0;36m<cell line: 5>\u001b[0;34m()\u001b[0m\n\u001b[1;32m      3\u001b[0m chromosome_no \u001b[38;5;241m=\u001b[39m \u001b[38;5;124m\"\u001b[39m\u001b[38;5;124m11\u001b[39m\u001b[38;5;124m\"\u001b[39m\n\u001b[1;32m      4\u001b[0m PathToXIChromosomeSeq \u001b[38;5;241m=\u001b[39m \u001b[38;5;124m\"\u001b[39m\u001b[38;5;124m../data/raw/\u001b[39m\u001b[38;5;124m\"\u001b[39m \u001b[38;5;241m+\u001b[39m strain \u001b[38;5;241m+\u001b[39m \u001b[38;5;124m\"\u001b[39m\u001b[38;5;124m/\u001b[39m\u001b[38;5;124m\"\u001b[39m \u001b[38;5;241m+\u001b[39m \u001b[38;5;28mstr\u001b[39m(chromosome_no)\u001b[38;5;241m.\u001b[39mzfill(\u001b[38;5;241m2\u001b[39m) \u001b[38;5;241m+\u001b[39m \u001b[38;5;124m\"\u001b[39m\u001b[38;5;124m.fa\u001b[39m\u001b[38;5;124m\"\u001b[39m\n\u001b[0;32m----> 5\u001b[0m XIChromosomeSeq      \u001b[38;5;241m=\u001b[39m \u001b[43mBio\u001b[49m\u001b[38;5;241;43m.\u001b[39;49m\u001b[43mSeqIO\u001b[49m\u001b[38;5;241;43m.\u001b[39;49m\u001b[43mread\u001b[49m\u001b[43m(\u001b[49m\u001b[43mPathToXIChromosomeSeq\u001b[49m\u001b[43m,\u001b[49m\u001b[43m \u001b[49m\u001b[38;5;124;43m\"\u001b[39;49m\u001b[38;5;124;43mfasta\u001b[39;49m\u001b[38;5;124;43m\"\u001b[39;49m\u001b[43m)\u001b[49m\n\u001b[1;32m      6\u001b[0m XIChromosomeSeq\u001b[38;5;241m.\u001b[39mannotations[\u001b[38;5;124m'\u001b[39m\u001b[38;5;124mbatches\u001b[39m\u001b[38;5;124m'\u001b[39m] \u001b[38;5;241m=\u001b[39m []\n\u001b[1;32m      7\u001b[0m XIChromosomeSeq\u001b[38;5;241m.\u001b[39mannotations[\u001b[38;5;124m'\u001b[39m\u001b[38;5;124mbatches\u001b[39m\u001b[38;5;124m'\u001b[39m]\u001b[38;5;241m.\u001b[39mappend({\u001b[38;5;124m'\u001b[39m\u001b[38;5;124mlocation\u001b[39m\u001b[38;5;124m'\u001b[39m:\u001b[38;5;124m\"\u001b[39m\u001b[38;5;124ml4_A01\u001b[39m\u001b[38;5;124m\"\u001b[39m})\n",
      "File \u001b[0;32m~/opt/anaconda3/envs/constrain/lib/python3.8/site-packages/Bio/SeqIO/__init__.py:652\u001b[0m, in \u001b[0;36mread\u001b[0;34m(handle, format, alphabet)\u001b[0m\n\u001b[1;32m    612\u001b[0m \u001b[38;5;28;01mdef\u001b[39;00m \u001b[38;5;21mread\u001b[39m(handle, \u001b[38;5;28mformat\u001b[39m, alphabet\u001b[38;5;241m=\u001b[39m\u001b[38;5;28;01mNone\u001b[39;00m):\n\u001b[1;32m    613\u001b[0m     \u001b[38;5;124;03m\"\"\"Turn a sequence file into a single SeqRecord.\u001b[39;00m\n\u001b[1;32m    614\u001b[0m \n\u001b[1;32m    615\u001b[0m \u001b[38;5;124;03m    Arguments:\u001b[39;00m\n\u001b[0;32m   (...)\u001b[0m\n\u001b[1;32m    650\u001b[0m \u001b[38;5;124;03m    to read multiple records from the handle.\u001b[39;00m\n\u001b[1;32m    651\u001b[0m \u001b[38;5;124;03m    \"\"\"\u001b[39;00m\n\u001b[0;32m--> 652\u001b[0m     iterator \u001b[38;5;241m=\u001b[39m \u001b[43mparse\u001b[49m\u001b[43m(\u001b[49m\u001b[43mhandle\u001b[49m\u001b[43m,\u001b[49m\u001b[43m \u001b[49m\u001b[38;5;28;43mformat\u001b[39;49m\u001b[43m,\u001b[49m\u001b[43m \u001b[49m\u001b[43malphabet\u001b[49m\u001b[43m)\u001b[49m\n\u001b[1;32m    653\u001b[0m     \u001b[38;5;28;01mtry\u001b[39;00m:\n\u001b[1;32m    654\u001b[0m         record \u001b[38;5;241m=\u001b[39m \u001b[38;5;28mnext\u001b[39m(iterator)\n",
      "File \u001b[0;32m~/opt/anaconda3/envs/constrain/lib/python3.8/site-packages/Bio/SeqIO/__init__.py:605\u001b[0m, in \u001b[0;36mparse\u001b[0;34m(handle, format, alphabet)\u001b[0m\n\u001b[1;32m    603\u001b[0m iterator_generator \u001b[38;5;241m=\u001b[39m _FormatToIterator\u001b[38;5;241m.\u001b[39mget(\u001b[38;5;28mformat\u001b[39m)\n\u001b[1;32m    604\u001b[0m \u001b[38;5;28;01mif\u001b[39;00m iterator_generator:\n\u001b[0;32m--> 605\u001b[0m     \u001b[38;5;28;01mreturn\u001b[39;00m \u001b[43miterator_generator\u001b[49m\u001b[43m(\u001b[49m\u001b[43mhandle\u001b[49m\u001b[43m)\u001b[49m\n\u001b[1;32m    606\u001b[0m \u001b[38;5;28;01mif\u001b[39;00m \u001b[38;5;28mformat\u001b[39m \u001b[38;5;129;01min\u001b[39;00m AlignIO\u001b[38;5;241m.\u001b[39m_FormatToIterator:\n\u001b[1;32m    607\u001b[0m     \u001b[38;5;66;03m# Use Bio.AlignIO to read in the alignments\u001b[39;00m\n\u001b[1;32m    608\u001b[0m     \u001b[38;5;28;01mreturn\u001b[39;00m (r \u001b[38;5;28;01mfor\u001b[39;00m alignment \u001b[38;5;129;01min\u001b[39;00m AlignIO\u001b[38;5;241m.\u001b[39mparse(handle, \u001b[38;5;28mformat\u001b[39m) \u001b[38;5;28;01mfor\u001b[39;00m r \u001b[38;5;129;01min\u001b[39;00m alignment)\n",
      "File \u001b[0;32m~/opt/anaconda3/envs/constrain/lib/python3.8/site-packages/Bio/SeqIO/FastaIO.py:183\u001b[0m, in \u001b[0;36mFastaIterator.__init__\u001b[0;34m(self, source, alphabet, title2ids)\u001b[0m\n\u001b[1;32m    181\u001b[0m     \u001b[38;5;28;01mraise\u001b[39;00m \u001b[38;5;167;01mValueError\u001b[39;00m(\u001b[38;5;124m\"\u001b[39m\u001b[38;5;124mThe alphabet argument is no longer supported\u001b[39m\u001b[38;5;124m\"\u001b[39m)\n\u001b[1;32m    182\u001b[0m \u001b[38;5;28mself\u001b[39m\u001b[38;5;241m.\u001b[39mtitle2ids \u001b[38;5;241m=\u001b[39m title2ids\n\u001b[0;32m--> 183\u001b[0m \u001b[38;5;28;43msuper\u001b[39;49m\u001b[43m(\u001b[49m\u001b[43m)\u001b[49m\u001b[38;5;241;43m.\u001b[39;49m\u001b[38;5;21;43m__init__\u001b[39;49m\u001b[43m(\u001b[49m\u001b[43msource\u001b[49m\u001b[43m,\u001b[49m\u001b[43m \u001b[49m\u001b[43mmode\u001b[49m\u001b[38;5;241;43m=\u001b[39;49m\u001b[38;5;124;43m\"\u001b[39;49m\u001b[38;5;124;43mt\u001b[39;49m\u001b[38;5;124;43m\"\u001b[39;49m\u001b[43m,\u001b[49m\u001b[43m \u001b[49m\u001b[43mfmt\u001b[49m\u001b[38;5;241;43m=\u001b[39;49m\u001b[38;5;124;43m\"\u001b[39;49m\u001b[38;5;124;43mFasta\u001b[39;49m\u001b[38;5;124;43m\"\u001b[39;49m\u001b[43m)\u001b[49m\n",
      "File \u001b[0;32m~/opt/anaconda3/envs/constrain/lib/python3.8/site-packages/Bio/SeqIO/Interfaces.py:48\u001b[0m, in \u001b[0;36mSequenceIterator.__init__\u001b[0;34m(self, source, alphabet, mode, fmt)\u001b[0m\n\u001b[1;32m     46\u001b[0m     \u001b[38;5;28;01mraise\u001b[39;00m \u001b[38;5;167;01mValueError\u001b[39;00m(\u001b[38;5;124m\"\u001b[39m\u001b[38;5;124mThe alphabet argument is no longer supported\u001b[39m\u001b[38;5;124m\"\u001b[39m)\n\u001b[1;32m     47\u001b[0m \u001b[38;5;28;01mtry\u001b[39;00m:\n\u001b[0;32m---> 48\u001b[0m     \u001b[38;5;28mself\u001b[39m\u001b[38;5;241m.\u001b[39mstream \u001b[38;5;241m=\u001b[39m \u001b[38;5;28;43mopen\u001b[39;49m\u001b[43m(\u001b[49m\u001b[43msource\u001b[49m\u001b[43m,\u001b[49m\u001b[43m \u001b[49m\u001b[38;5;124;43m\"\u001b[39;49m\u001b[38;5;124;43mr\u001b[39;49m\u001b[38;5;124;43m\"\u001b[39;49m\u001b[43m \u001b[49m\u001b[38;5;241;43m+\u001b[39;49m\u001b[43m \u001b[49m\u001b[43mmode\u001b[49m\u001b[43m)\u001b[49m\n\u001b[1;32m     49\u001b[0m     \u001b[38;5;28mself\u001b[39m\u001b[38;5;241m.\u001b[39mshould_close_stream \u001b[38;5;241m=\u001b[39m \u001b[38;5;28;01mTrue\u001b[39;00m\n\u001b[1;32m     50\u001b[0m \u001b[38;5;28;01mexcept\u001b[39;00m \u001b[38;5;167;01mTypeError\u001b[39;00m:  \u001b[38;5;66;03m# not a path, assume we received a stream\u001b[39;00m\n",
      "\u001b[0;31mFileNotFoundError\u001b[0m: [Errno 2] No such file or directory: '../data/raw/CENPK113-7d/11.fa'"
     ]
    }
   ],
   "source": [
    "# Create function to download PCR template\n",
    "strain = \"CENPK113-7d\"\n",
    "chromosome_no = \"11\"\n",
    "PathToXIChromosomeSeq = \"../data/raw/\" + strain + \"/\" + str(chromosome_no).zfill(2) + \".fa\"\n",
    "XIChromosomeSeq      = Bio.SeqIO.read(PathToXIChromosomeSeq, \"fasta\")\n",
    "XIChromosomeSeq.annotations['batches'] = []\n",
    "XIChromosomeSeq.annotations['batches'].append({'location':\"l4_A01\"})"
   ]
  },
  {
   "cell_type": "code",
   "execution_count": null,
   "metadata": {},
   "outputs": [],
   "source": [
    "XI_3_up_out_sq = utils.from_benchling(\"XI-3- up-out-sq\", 'Primer')\n",
    "XI_3_down_out_sq = utils.from_benchling(\"XI-3- down-out-sq\", 'Primer')\n",
    "CPR_repair_template = pydna.amplify.pcr(XI_3_up_out_sq,XI_3_down_out_sq, XIChromosomeSeq)\n",
    "\n",
    "CPR_repair_template"
   ]
  },
  {
   "cell_type": "code",
   "execution_count": null,
   "metadata": {},
   "outputs": [],
   "source": [
    "CPR_repair_template.name = \"XI-3\"\n",
    "CPR_repair_template.annotations['batches'] = [{'location':'l4_A08'}]"
   ]
  },
  {
   "cell_type": "markdown",
   "metadata": {},
   "source": [
    "## PCR reactions"
   ]
  },
  {
   "cell_type": "markdown",
   "metadata": {},
   "source": [
    "onetaq polymerase"
   ]
  },
  {
   "cell_type": "code",
   "execution_count": null,
   "metadata": {},
   "outputs": [],
   "source": [
    "utils.pcr_locations1([ATF1_repair_template, CPR_repair_template])"
   ]
  },
  {
   "cell_type": "code",
   "execution_count": null,
   "metadata": {},
   "outputs": [],
   "source": [
    "utils.volumes(vol_p_reac = 50, \n",
    "        no_of_reactions = 3,\n",
    "        standard_reagents = [\"Template\", \"Primer 1\", \"Primer 2\", \"H20\", \"Pol\"],\n",
    "        standard_volumes = [1, 2.5, 2.5, 19, 25])"
   ]
  },
  {
   "cell_type": "code",
   "execution_count": null,
   "metadata": {},
   "outputs": [],
   "source": [
    "# Insert code to determine thermocycler program\n",
    "    #ATF1_repair_template.program()\n",
    "    #CPR_repair_template.program()\n",
    "    #Suggest program that allows both on one thermocycler"
   ]
  },
  {
   "cell_type": "code",
   "execution_count": null,
   "metadata": {},
   "outputs": [],
   "source": [
    "pydna.gel.gel([pydna.ladders.PennStateLadder,[ATF1_repair_template],[CPR_repair_template]]) #GeneRuler_1kb_; [Dseqrecord(\"A\"*2000)]"
   ]
  },
  {
   "cell_type": "markdown",
   "metadata": {},
   "source": [
    "For each PCR:\n",
    "- Physically (eventually using robots):\n",
    "    - Mix\n",
    "    - Run thermocycler\n",
    "    - Run gel\n",
    "    - Determine purification method and elution volume\n",
    "    - Purify\n",
    "    - Measure concentration on nanodrop\n",
    "    - Label container, transfer purified PCR to container, place container at given location."
   ]
  },
  {
   "cell_type": "markdown",
   "metadata": {},
   "source": [
    "For each PCR:\n",
    "- Digitally (using benchlingapi):\n",
    "    - Create a batch with concentration and volume and place in container"
   ]
  },
  {
   "cell_type": "code",
   "execution_count": null,
   "metadata": {},
   "outputs": [],
   "source": [
    "ATF1_repair_template.annotations['batches'][0].update({'volume'        : 10,\n",
    "                                                       'concentration' : 50})\n",
    "#utils.to_benchling(ATF1_repair_template, \"to_benchling\")"
   ]
  },
  {
   "cell_type": "code",
   "execution_count": null,
   "metadata": {},
   "outputs": [],
   "source": [
    "CPR_repair_template.annotations['batches'][0].update({'volume'        : 60,\n",
    "                                                      'concentration' : 50})\n",
    "#utils.to_benchling(CPR_repair_template, \"to_benchling\")"
   ]
  },
  {
   "cell_type": "markdown",
   "metadata": {},
   "source": [
    "## Assemblies"
   ]
  },
  {
   "cell_type": "markdown",
   "metadata": {},
   "source": [
    "| Name | Parent | gRNA (500 ng) | Parts (300 ng) |\n",
    "| --- | --- | --- | --- |\n",
    "| MIA-HA-1 | CM-3 | pESC-LEU-gRNA_ATF1-CroCPR | tADH1-P1_PGK1_400, XI-3 | "
   ]
  },
  {
   "cell_type": "code",
   "execution_count": null,
   "metadata": {},
   "outputs": [],
   "source": [
    "parameters = {\n",
    "'bg_strain': CM3,\n",
    "'site_names': [\"X-3\", \"XI-3\"],\n",
    "'gRNAs': [ATF1_gRNA, CroCPR_gRNA],\n",
    "'parts': [[ATF1_repair_template],[CPR_repair_template]],\n",
    "'assembly_limits':[200,400],\n",
    "'assembly_names': [\"X_3_tADH1_P2_pPGK1\", \"XI_3_UP_DW\"],\n",
    "'verbose': False,\n",
    "'to_benchling': False  \n",
    "}"
   ]
  },
  {
   "cell_type": "code",
   "execution_count": null,
   "metadata": {},
   "outputs": [],
   "source": [
    "HA1 = utils.casembler(**parameters)"
   ]
  },
  {
   "cell_type": "code",
   "execution_count": null,
   "metadata": {},
   "outputs": [],
   "source": [
    "# Create function\n",
    "XI_2 = utils.extract_sites([\"XI-2\"], [CM3],[\"XI-2\"])[0]\n",
    "XI_2 = pydna.dseqrecord.Dseqrecord(XI_2)\n",
    "\n",
    "XI_2_feat = Bio.SeqFeature.SeqFeature(Bio.SeqFeature.FeatureLocation(0, len(XI_2), strand=1), type=\"misc_feature\")\n",
    "XI_2_feat.qualifiers['name']=\"XI_2\"\n",
    "XI_2_feat.qualifiers['label']=\"XI_2\"\n",
    "XI_2.features.append(XI_2_feat)"
   ]
  },
  {
   "cell_type": "code",
   "execution_count": null,
   "metadata": {},
   "outputs": [],
   "source": [
    "#HA1 = \"NN\" + HA1 + XI_2 + \"NN\""
   ]
  },
  {
   "cell_type": "code",
   "execution_count": null,
   "metadata": {},
   "outputs": [],
   "source": [
    "HA1.name = \"MIA-HA-1\""
   ]
  },
  {
   "cell_type": "code",
   "execution_count": null,
   "metadata": {},
   "outputs": [],
   "source": [
    "HA1.annotations['batches'] = []\n",
    "HA1.annotations['batches'].append({'location':'y01_D08'})"
   ]
  },
  {
   "cell_type": "code",
   "execution_count": null,
   "metadata": {},
   "outputs": [],
   "source": [
    "#clc20.open(HA1)"
   ]
  },
  {
   "cell_type": "code",
   "execution_count": null,
   "metadata": {},
   "outputs": [],
   "source": [
    "#utils.to_benchling(CPR_repair_template, \"to_benchling\")"
   ]
  },
  {
   "cell_type": "markdown",
   "metadata": {},
   "source": [
    "## Transformation reactions"
   ]
  },
  {
   "cell_type": "markdown",
   "metadata": {},
   "source": [
    " "
   ]
  },
  {
   "cell_type": "markdown",
   "metadata": {},
   "source": [
    "Protocol for transformation:"
   ]
  },
  {
   "cell_type": "code",
   "execution_count": null,
   "metadata": {},
   "outputs": [],
   "source": [
    "IPython.display.FileLink('../methods/methods.ipynb')"
   ]
  },
  {
   "cell_type": "code",
   "execution_count": null,
   "metadata": {},
   "outputs": [],
   "source": [
    "utils.time_to_inculate(td=0.33)"
   ]
  },
  {
   "cell_type": "markdown",
   "metadata": {},
   "source": [
    "import positive control"
   ]
  },
  {
   "cell_type": "code",
   "execution_count": null,
   "metadata": {},
   "outputs": [],
   "source": [
    "LEU_plasmid = utils.from_benchling(\"pMIA_042_Cro_CPR_in_pRS415_USER_(leu)_-_TEF1\")"
   ]
  },
  {
   "cell_type": "code",
   "execution_count": null,
   "metadata": {},
   "outputs": [],
   "source": [
    "reaction_names = [HA1.name + \"(MIA-CM-3 -CPR-G8H)\", \n",
    "                  \"n.ctr\", \"n.ctr\", \"n.ctr\", \"p. ctr\"]"
   ]
  },
  {
   "cell_type": "markdown",
   "metadata": {},
   "source": [
    "Parts needs equimolar 0.1 pmol = 0.0001 nmol"
   ]
  },
  {
   "cell_type": "code",
   "execution_count": null,
   "metadata": {},
   "outputs": [],
   "source": [
    "reaction_participants = [[gRNA_ATF1_CroCPR, ATF1_repair_template,CPR_repair_template],\n",
    "                         [gRNA_ATF1_CroCPR],\n",
    "                         [gRNA_ATF1_CroCPR, ATF1_repair_template],\n",
    "                         [gRNA_ATF1_CroCPR, CPR_repair_template], \n",
    "                         [LEU_plasmid]]"
   ]
  },
  {
   "cell_type": "markdown",
   "metadata": {},
   "source": [
    "500 ng gRNA_ATF1_CroCPR plasmid"
   ]
  },
  {
   "cell_type": "code",
   "execution_count": null,
   "metadata": {},
   "outputs": [],
   "source": [
    "nmol_gRNA = utils.ng_to_nmol(ng = 500, bp = len(gRNA_ATF1_CroCPR))\n",
    "nmol_gRNA"
   ]
  },
  {
   "cell_type": "markdown",
   "metadata": {},
   "source": [
    "10 ng LEU plasmid should be enough"
   ]
  },
  {
   "cell_type": "code",
   "execution_count": null,
   "metadata": {},
   "outputs": [],
   "source": [
    "nmol_pctr = utils.ng_to_nmol(ng = 10, bp = len(LEU_plasmid))\n",
    "nmol_pctr"
   ]
  },
  {
   "cell_type": "code",
   "execution_count": null,
   "metadata": {},
   "outputs": [],
   "source": [
    "# in nmol\n",
    "wanted_amounts = {'pCfB-56(pESC-LEU-gRNA_ATF1-CroCPR)' : nmol_gRNA,\n",
    "                         'tADH1-P1_PGK1_400'                  : 0.0001,\n",
    "                         'XI-3'                               : 0.0001,\n",
    "                         'pMIA_042_Cro_CPR_in_pRS415_USER_(leu)_-_TEF1': nmol_pctr}"
   ]
  },
  {
   "cell_type": "code",
   "execution_count": null,
   "metadata": {},
   "outputs": [],
   "source": [
    "media = ['SC-LEU'] * 5"
   ]
  },
  {
   "cell_type": "code",
   "execution_count": null,
   "metadata": {},
   "outputs": [],
   "source": [
    "utils.transf_locations1(reaction_names, reaction_participants, wanted_amounts = wanted_amounts, water_dna_p_reac = 18.5, media = media)"
   ]
  },
  {
   "cell_type": "code",
   "execution_count": null,
   "metadata": {},
   "outputs": [],
   "source": [
    "utils.volumes(vol_p_reac = 90, \n",
    "        no_of_reactions = 6,\n",
    "        standard_reagents = [\"PEG\", \"LiAc_1M\", \"ssDNA\", \"water_dna\"],\n",
    "        standard_volumes = [240, 36, 10, 74])"
   ]
  },
  {
   "cell_type": "markdown",
   "metadata": {},
   "source": [
    "Expectation"
   ]
  },
  {
   "cell_type": "code",
   "execution_count": null,
   "metadata": {},
   "outputs": [],
   "source": [
    "IPython.core.display.Image(utils.imagingStation / 'dgRNA ATF1 and CroCPR.jpg', width=600)"
   ]
  },
  {
   "cell_type": "markdown",
   "metadata": {},
   "source": [
    "Actual"
   ]
  },
  {
   "cell_type": "code",
   "execution_count": null,
   "metadata": {},
   "outputs": [],
   "source": [
    "IPython.core.display.Image(utils.imagingStation / '2021-02-09_transformation_plates.jpg', width=600)"
   ]
  },
  {
   "cell_type": "markdown",
   "metadata": {},
   "source": [
    "Before transformation:\n",
    "- MIA-CM-3 Doubling time is ~ 3h in YPD. WT is ~2h. This is also observed by Sam and Beata for MIA-CM-3.\n",
    "\n",
    "After transformation:\n",
    "\n",
    "1. Few colonies on all plates. This sometime happens with slow growing strains. Probably due to combination of cells less viable and generally less cells used for transformation. If we repeat, scale reaction to 360 µl, 5 ml OD 1 culture per transformation, 0.5 pmol DNA (repair templates), 500 ng gRNA\n",
    "\n",
    "2. Few colonies on plate # 1: Worry that we do not see more colonies on plate # 1 compared to 2, 3,and 4. \n",
    "- Viability probably decreased by accumulation of toxic geraniol due to G8H knockout (see figure below) \n",
    "- I can't tell by any geraniol smell whether the knockout worked. \n",
    "\n",
    "Next step:\n",
    "- Genotype all colonies on plate # 1. \n",
    "- If the plate#1 colonies are not correct we may switch to MIA-CH-A2. What do you think?"
   ]
  },
  {
   "cell_type": "code",
   "execution_count": null,
   "metadata": {},
   "outputs": [],
   "source": [
    "# Strictosidine module\n",
    "IPython.core.display.Image(utils.figures / 'Pathway.png', width=800)"
   ]
  },
  {
   "cell_type": "markdown",
   "metadata": {},
   "source": [
    "## Genotyping"
   ]
  },
  {
   "cell_type": "markdown",
   "metadata": {},
   "source": [
    "1. Pick 3 colonies from plate#1 and 1 colony from plate#5 \n",
    "2. Yeast DNA extraction for PCR\n",
    "3. Colony PCR"
   ]
  },
  {
   "cell_type": "markdown",
   "metadata": {},
   "source": [
    "Protocol for HT Yeast DNA extraction for PCR"
   ]
  },
  {
   "cell_type": "code",
   "execution_count": null,
   "metadata": {},
   "outputs": [],
   "source": [
    "IPython.display.FileLink('../references/methods.ipynb')"
   ]
  },
  {
   "cell_type": "markdown",
   "metadata": {},
   "source": [
    "### 3. Colony PCR reactions"
   ]
  },
  {
   "cell_type": "markdown",
   "metadata": {},
   "source": [
    "CroG8H"
   ]
  },
  {
   "cell_type": "code",
   "execution_count": null,
   "metadata": {},
   "outputs": [],
   "source": [
    "X_3_up_out_sq = utils.from_benchling(\"PR_BII_01_B2 (X-3-up-out-sq)\", 'Primer')\n",
    "pPGK1_Seq_Rv = utils.from_benchling(\"pPGK1_Seq_Rv\", 'Primer')\n",
    "pTDH3_Seq_Rv = utils.from_benchling(\"PR_BII_02_E2 (pTDH3_Seq_Rv)\", 'Primer')"
   ]
  },
  {
   "cell_type": "code",
   "execution_count": null,
   "metadata": {},
   "outputs": [],
   "source": [
    "CM3.annotations['location'] = \"unknown\"\n",
    "X_3 = utils.extract_sites([\"X-3\"], [CM3],[\"X-3\"])[0]"
   ]
  },
  {
   "cell_type": "code",
   "execution_count": null,
   "metadata": {},
   "outputs": [],
   "source": [
    "X_3.annotations['batches'] = []\n",
    "X_3.annotations['batches'].append({'location': 'l4_A01'})"
   ]
  },
  {
   "cell_type": "markdown",
   "metadata": {},
   "source": [
    "CroCPR"
   ]
  },
  {
   "cell_type": "code",
   "execution_count": null,
   "metadata": {},
   "outputs": [],
   "source": [
    "outside_XI_3_ie_911 = utils.from_benchling(\"outside_XI-3_ie_911\", 'Primer')\n",
    "outside_XI_3_ie_912 = utils.from_benchling(\"outside_XI-3_ie_912\", 'Primer')\n",
    "CroCPR_U_Rv = utils.from_benchling(\"CroCPR_U_Rv\", 'Primer')"
   ]
  },
  {
   "cell_type": "code",
   "execution_count": null,
   "metadata": {},
   "outputs": [],
   "source": [
    "CM3.annotations['location'] = \"unknown\"\n",
    "XI_3 = utils.extract_sites([\"XI-3\"], [CM3],[\"XI-3\"])[0]\n",
    "XI_3.annotations['batches'] = []\n",
    "XI_3.annotations['batches'].append({'location': 'l4_A01'})"
   ]
  },
  {
   "cell_type": "code",
   "execution_count": null,
   "metadata": {},
   "outputs": [],
   "source": [
    "# Trick to accomodate 3 primer PCR reactions\n",
    "X_3_up_out_sq.annotations['batches'][0]['location']='o3_F06, PR_07_A3'\n",
    "pTDH3_Seq_Rv.annotations['batches'][0]['location']='o3_F06, PR_07_A3'\n",
    "outside_XI_3_ie_912.annotations['batches'][0]['location']='o3_D05, PR_05_A6'\n",
    "CroCPR_U_Rv.annotations['batches'][0]['location']='o3_D05, PR_05_A6'"
   ]
  },
  {
   "cell_type": "code",
   "execution_count": null,
   "metadata": {},
   "outputs": [],
   "source": [
    "G8H_1_1     = pydna.amplify.pcr(X_3_up_out_sq, pPGK1_Seq_Rv, HA1) #  G8H_ko_band\n",
    "G8H_1_2     = pydna.amplify.pcr(X_3_up_out_sq, pPGK1_Seq_Rv, HA1) #  G8H_ko_band\n",
    "G8H_1_3     = pydna.amplify.pcr(X_3_up_out_sq, pPGK1_Seq_Rv, HA1) #  G8H_ko_band\n",
    "CPR_1_1     = pydna.amplify.pcr(outside_XI_3_ie_911, outside_XI_3_ie_912, HA1) # = CPR_ko_band\n",
    "CPR_1_2     = pydna.amplify.pcr(outside_XI_3_ie_911, outside_XI_3_ie_912, HA1) # = CPR_ko_band\n",
    "CPR_1_3     = pydna.amplify.pcr(outside_XI_3_ie_911, outside_XI_3_ie_912, HA1) # = CPR_ko_band\n",
    "nCtrG8H_5_1 = pydna.amplify.pcr(pTDH3_Seq_Rv, pPGK1_Seq_Rv, X_3) # G8H_no_ko_band\n",
    "nCtrCPR_5_1 = pydna.amplify.pcr(outside_XI_3_ie_911, CroCPR_U_Rv, XI_3) # = CPR_no_ko_band "
   ]
  },
  {
   "cell_type": "code",
   "execution_count": null,
   "metadata": {},
   "outputs": [],
   "source": [
    "col_nos   = [1,2,3,1,2,3,1,1]\n",
    "plate_nos = [1,1,1,1,1,1,5,5]\n",
    "templates = [str(p_no) + \"_\" + str(c_no) for p_no, c_no in zip(plate_nos,col_nos)]"
   ]
  },
  {
   "cell_type": "code",
   "execution_count": null,
   "metadata": {},
   "outputs": [],
   "source": [
    "descriptions = [\"G8HKoBand\"] * 3 + [\"CPRKoBand\"] * 3 + ['G8HnoKoBand'] + ['CPRnoKoBand']"
   ]
  },
  {
   "cell_type": "code",
   "execution_count": null,
   "metadata": {},
   "outputs": [],
   "source": [
    "bands = [G8H_1_1, G8H_1_2, G8H_1_3, CPR_1_1, CPR_1_2, CPR_1_3] + [nCtrG8H_5_1, nCtrCPR_5_1]"
   ]
  },
  {
   "cell_type": "code",
   "execution_count": null,
   "metadata": {},
   "outputs": [],
   "source": [
    "for band, desc, temp in zip(bands,descriptions, templates):\n",
    "    band.name = desc + \"-\" + temp\n",
    "    band.annotations['batches'] = [{'location':''}]\n",
    "    band.annotations['template_location'] = temp"
   ]
  },
  {
   "cell_type": "markdown",
   "metadata": {},
   "source": [
    "Explanation:\n",
    "\n",
    "| | name | Template |\n",
    "|---|---|---|\n",
    "|#|name-template|colony # Y from 2021-02-02 plate # X, X_Y|"
   ]
  },
  {
   "cell_type": "code",
   "execution_count": null,
   "metadata": {},
   "outputs": [],
   "source": [
    "#for band in bands:\n",
    "#    print(type(band.template.annotations['batches'][0]))"
   ]
  },
  {
   "cell_type": "code",
   "execution_count": null,
   "metadata": {},
   "outputs": [],
   "source": [
    "utils.pcr_locations1(bands)"
   ]
  },
  {
   "cell_type": "markdown",
   "metadata": {},
   "source": [
    "PCR\n",
    "- Polymerase: Onetaq (1min / kb) \n",
    "- Program: Touchdown\n",
    "- Elongation time: 1.5 min\n",
    "- Annealing temp 52/46"
   ]
  },
  {
   "cell_type": "code",
   "execution_count": null,
   "metadata": {},
   "outputs": [],
   "source": [
    "utils.volumes(vol_p_reac = 20, \n",
    "        no_of_reactions = len(bands) + 1,\n",
    "        standard_reagents = [\"Template\", \"Primer 1\", \"Primer 2\", \"H20\", \"Pol\"],\n",
    "        standard_volumes = [2.5, 2.5, 2.5, 19, 25])"
   ]
  },
  {
   "cell_type": "code",
   "execution_count": null,
   "metadata": {},
   "outputs": [],
   "source": [
    "pydna.gel.gel([pydna.ladders.PennStateLadder,*[[band] for band in bands]]) #GeneRuler_1kb_"
   ]
  },
  {
   "cell_type": "markdown",
   "metadata": {},
   "source": [
    "Actual gel"
   ]
  },
  {
   "cell_type": "code",
   "execution_count": null,
   "metadata": {},
   "outputs": [],
   "source": []
  },
  {
   "cell_type": "code",
   "execution_count": null,
   "metadata": {},
   "outputs": [],
   "source": [
    "IPython.core.display.Image(utils.bioimager / '2021-02-09 PCR_edited.jpg', width=300)"
   ]
  },
  {
   "cell_type": "markdown",
   "metadata": {},
   "source": [
    "Colony no. 1 has CPR knockout band. CPR gRNA + repair template worked!.\n",
    "Colony no. 4 has CPR noknockout band. \n",
    "\n",
    "No G8H bands. Why didn't G8H produce band for colony no.4 (well no. 7; negative control)?\n",
    "\n",
    "Troubleshooting.\n",
    "- template, polymerase, elongation time all worked for CPR\n",
    "\n",
    "- Primers\n",
    "    - primers sequences? \n",
    "        - Jie shown they work in MIA-CH-A2.\n",
    "        - Redilute from stock!\n",
    "- Program\n",
    "    - primer annealing temperature?\n",
    "        - 46/47 C (NEB). No unspecific bands. Decrease to 50/44\n",
    "    - elongation time\n",
    "        - Unlikely problem that 1.5 shouldn't work while 1.4 kb CPR band worked. But increase to 1:45 to make sure\n",
    "- Template\n",
    "    - Clear gDNA bands for all wells. Lower template volume to 0.4.\n",
    "    - Try MIA-CM-3 gDNA from Beata. If works primers and program are off suspicion and only templates are in.\n",
    "\n",
    "Additional comments:\n",
    "- Run gel 5 min shorter time (~ 25 min) to lighten ~ 500 bp part of gel."
   ]
  },
  {
   "cell_type": "code",
   "execution_count": null,
   "metadata": {},
   "outputs": [],
   "source": [
    "nCtrG8H_Beata = pydna.amplify.pcr(pTDH3_Seq_Rv, pPGK1_Seq_Rv, X_3) # G8H_no_ko_band\n",
    "nCtrG8H_Beata.name = \"G8HnoKoBand\" + \"-\" + \"MIA-CM-3_Beata\"\n",
    "nCtrG8H_Beata.annotations['batches'] = [{'location':''}]\n",
    "nCtrG8H_Beata.annotations['template_location'] = \"MIA-CM-3_Beata\""
   ]
  },
  {
   "cell_type": "code",
   "execution_count": null,
   "metadata": {},
   "outputs": [],
   "source": [
    "troubleshooting_bands = [G8H_1_1, G8H_1_2, G8H_1_3] + [nCtrG8H_5_1] + [nCtrG8H_Beata]\n",
    "troubleshooting_bands"
   ]
  },
  {
   "cell_type": "code",
   "execution_count": null,
   "metadata": {},
   "outputs": [],
   "source": [
    "utils.pcr_locations1(troubleshooting_bands)"
   ]
  },
  {
   "cell_type": "markdown",
   "metadata": {},
   "source": [
    "PCR\n",
    "- Polymerase: Onetaq (1min / kb) \n",
    "- Program: Touchdown\n",
    "- Elongation time: 2 min\n",
    "- Annealing temp 50/46"
   ]
  },
  {
   "cell_type": "code",
   "execution_count": null,
   "metadata": {},
   "outputs": [],
   "source": [
    "utils.volumes(vol_p_reac = 20, \n",
    "        no_of_reactions = len(troubleshooting_bands) + 1,\n",
    "        standard_reagents = [\"Template\", \"Primer 1\", \"Primer 2\", \"H20\", \"Pol\"],\n",
    "        standard_volumes = [1, 2.5, 2.5, 19, 25])"
   ]
  },
  {
   "cell_type": "code",
   "execution_count": null,
   "metadata": {},
   "outputs": [],
   "source": [
    "pydna.gel.gel([pydna.ladders.PennStateLadder,*[[band] for band in troubleshooting_bands]]) #GeneRuler_1kb_"
   ]
  },
  {
   "cell_type": "markdown",
   "metadata": {},
   "source": [
    "Actual gel"
   ]
  },
  {
   "cell_type": "code",
   "execution_count": null,
   "metadata": {},
   "outputs": [],
   "source": [
    "IPython.core.display.Image(bioimager / '2021-02-10 ColPCR.jpg', width=300)"
   ]
  },
  {
   "cell_type": "markdown",
   "metadata": {},
   "source": [
    "Observations:\n",
    "- The G8H colony PCR is working\n",
    "- Colony no. 4 and MIA-CM-3 gDNA from Beata now shows negative band\n",
    "- Colony no. 3 shows weak knockout band!\n",
    "- This means that our gRNA cutting and repair also worked for the G8H site aswell as for CPR!\n",
    "- PCR still fails for colony no 1, and 2 (no \"knockout\" or \"no knockout\" bands)\n",
    "\n",
    "Troubleshooting:\n",
    "- primers, polymerase, program works\n",
    "\n",
    "- template\n",
    "    - Likely the problem. Improve template quality by reinoculating and using thermo fisher yeast dna extraction kit\n",
    "    \n",
    "- If too little repair template was added the strain may looped out the entire integration site in which case the primers can't bind and no band would be observed.\n",
    "    - unlikely to happen for both integration sites\n",
    "\n",
    "The combined results for our two colony PCR's are the following .\n",
    "For colony #:\n",
    "1. One CPR \"knockout band\"\n",
    "3. One G8H \"knockout band\"\n",
    "4. (Background strain i.e. ctrl) One G8H and one CPR \"no knockout band\".\n",
    "- None of the three colonies has been confirmed to have \"incorrect\" genotype\n",
    "\n",
    "Next steps:\n",
    "1. Inoculate 6 colonies from plate # 1 (1-3 (the ones already used) + 3 colonies (hidden on the edge of the plate)) in 5 ml YPD\n",
    "2. gDNA prep cultures using thermo fisher yeast dna extraction kit (and glycerol stock as you suggested)\n",
    "3. Redo colony PCR with improved template quality and hopefully see all bands."
   ]
  },
  {
   "cell_type": "markdown",
   "metadata": {},
   "source": [
    "Protocol for thermo fisher yeast dna extraction kit"
   ]
  },
  {
   "cell_type": "code",
   "execution_count": null,
   "metadata": {},
   "outputs": [],
   "source": [
    "IPython.display.FileLink('../references/MAN0011405_Yeast_DNA_Extract_Kit_UG.pdf')"
   ]
  },
  {
   "cell_type": "code",
   "execution_count": null,
   "metadata": {},
   "outputs": [],
   "source": [
    "G8H_1_4     = pydna.amplify.pcr(X_3_up_out_sq, pPGK1_Seq_Rv, HA1) #  G8H_ko_band\n",
    "G8H_1_5     = pydna.amplify.pcr(X_3_up_out_sq, pPGK1_Seq_Rv, HA1) #  G8H_ko_band\n",
    "G8H_1_6     = pydna.amplify.pcr(X_3_up_out_sq, pPGK1_Seq_Rv, HA1) #  G8H_ko_band\n",
    "CPR_1_4     = pydna.amplify.pcr(outside_XI_3_ie_911, outside_XI_3_ie_912, HA1) # = CPR_ko_band\n",
    "CPR_1_5     = pydna.amplify.pcr(outside_XI_3_ie_911, outside_XI_3_ie_912, HA1) # = CPR_ko_band\n",
    "CPR_1_6     = pydna.amplify.pcr(outside_XI_3_ie_911, outside_XI_3_ie_912, HA1) # = CPR_ko_band\n",
    "nCtrG8H_5_1 = pydna.amplify.pcr(pTDH3_Seq_Rv, pPGK1_Seq_Rv, X_3) # G8H_no_ko_band\n",
    "nCtrCPR_5_1 = pydna.amplify.pcr(outside_XI_3_ie_911, CroCPR_U_Rv, XI_3) # = CPR_no_ko_band "
   ]
  },
  {
   "cell_type": "code",
   "execution_count": null,
   "metadata": {},
   "outputs": [],
   "source": [
    "col_nos   = [1,2,3,4,5,6,1,2,3,4,5,6,1,1]\n",
    "plate_nos = [1,1,1,1,1,1, 1,1,1,1,1,1,5,5]\n",
    "templates = [str(p_no) + \"_\" + str(c_no) for p_no, c_no in zip(plate_nos,col_nos)]"
   ]
  },
  {
   "cell_type": "code",
   "execution_count": null,
   "metadata": {},
   "outputs": [],
   "source": [
    "descriptions = [\"G8HKoBand\"] * 6 + [\"CPRKoBand\"] * 6 + ['G8HnoKoBand'] + ['CPRnoKoBand']"
   ]
  },
  {
   "cell_type": "code",
   "execution_count": null,
   "metadata": {},
   "outputs": [],
   "source": [
    "bands = [G8H_1_1, G8H_1_2, G8H_1_3, G8H_1_4, G8H_1_5, G8H_1_6, CPR_1_1, CPR_1_2, CPR_1_3, CPR_1_4, CPR_1_5, CPR_1_6] + [nCtrG8H_5_1, nCtrCPR_5_1]"
   ]
  },
  {
   "cell_type": "code",
   "execution_count": null,
   "metadata": {},
   "outputs": [],
   "source": [
    "for band, desc, temp in zip(bands,descriptions, templates):\n",
    "    band.name = desc + \"-\" + temp\n",
    "    band.annotations['batches'] = [{'location':''}]\n",
    "    band.annotations['template_location'] = temp"
   ]
  },
  {
   "cell_type": "code",
   "execution_count": null,
   "metadata": {},
   "outputs": [],
   "source": [
    "bands"
   ]
  },
  {
   "cell_type": "code",
   "execution_count": null,
   "metadata": {},
   "outputs": [],
   "source": [
    "utils.pcr_locations1(bands)"
   ]
  },
  {
   "cell_type": "markdown",
   "metadata": {},
   "source": [
    "PCR settings same as last"
   ]
  },
  {
   "cell_type": "markdown",
   "metadata": {},
   "source": [
    "Make 2 x 8 reaction mastermix"
   ]
  },
  {
   "cell_type": "code",
   "execution_count": null,
   "metadata": {},
   "outputs": [],
   "source": [
    "utils.volumes(vol_p_reac = 20, \n",
    "        no_of_reactions = len(bands)/2 + 1,\n",
    "        standard_reagents = [\"Template\", \"Primer 1\", \"Primer 2\", \"H20\", \"Pol\"],\n",
    "        standard_volumes = [1, 2.5, 2.5, 19, 25])"
   ]
  },
  {
   "cell_type": "code",
   "execution_count": null,
   "metadata": {},
   "outputs": [],
   "source": [
    "pydna.gel.gel([pydna.ladders.PennStateLadder,*[[band] for band in bands]]) #GeneRuler_1kb_"
   ]
  },
  {
   "cell_type": "markdown",
   "metadata": {},
   "source": [
    "Actual gel"
   ]
  },
  {
   "cell_type": "code",
   "execution_count": null,
   "metadata": {},
   "outputs": [],
   "source": [
    "IPython.core.display.Image(utils.bioimager / '2021-02-12 ColPCR.jpg', width=600)"
   ]
  },
  {
   "cell_type": "markdown",
   "metadata": {},
   "source": [
    "For plate # 1:\n",
    "- colony # 1-3 has correct G8H knockout. \n",
    "- colony # 1 and 3 has correct CPR knockout\n",
    "- colony # 1 and 3 have the correct genotype!\n",
    "\n",
    "Next:\n",
    "- Use colony # 3"
   ]
  },
  {
   "cell_type": "markdown",
   "metadata": {},
   "source": [
    "Exporting notebook (hiding code cells)"
   ]
  },
  {
   "cell_type": "code",
   "execution_count": null,
   "metadata": {},
   "outputs": [],
   "source": [
    "#!jupyter nbconvert ./03-SDP-Background_strain.ipynb --to=html --TemplateExporter.exclude_input=True"
   ]
  },
  {
   "cell_type": "code",
   "execution_count": null,
   "metadata": {},
   "outputs": [],
   "source": []
  },
  {
   "cell_type": "code",
   "execution_count": null,
   "metadata": {},
   "outputs": [],
   "source": []
  }
 ],
 "metadata": {
  "kernelspec": {
   "display_name": "Python 3 (ipykernel)",
   "language": "python",
   "name": "python3"
  },
  "language_info": {
   "codemirror_mode": {
    "name": "ipython",
    "version": 3
   },
   "file_extension": ".py",
   "mimetype": "text/x-python",
   "name": "python",
   "nbconvert_exporter": "python",
   "pygments_lexer": "ipython3",
   "version": "3.8.13"
  }
 },
 "nbformat": 4,
 "nbformat_minor": 4
}
