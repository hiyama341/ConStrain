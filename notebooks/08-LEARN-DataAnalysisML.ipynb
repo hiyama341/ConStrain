{
 "cells": [
  {
   "cell_type": "markdown",
   "id": "d4ef3e51-bdb2-46e9-834d-e2ff04bef2e9",
   "metadata": {},
   "source": [
    "# 08-LEARN-DataAnalysisML"
   ]
  },
  {
   "cell_type": "code",
   "execution_count": 10,
   "id": "db727d66-108d-4755-855d-a4c2cae3cabb",
   "metadata": {},
   "outputs": [],
   "source": [
    "from constrain.lab.transformation import ODtime, ng_to_nmol"
   ]
  },
  {
   "cell_type": "code",
   "execution_count": null,
   "id": "26be9a17-2315-4bcf-8dd1-da9e9025de73",
   "metadata": {},
   "outputs": [],
   "source": []
  }
 ],
 "metadata": {
  "kernelspec": {
   "display_name": "Python 3 (ipykernel)",
   "language": "python",
   "name": "python3"
  },
  "language_info": {
   "codemirror_mode": {
    "name": "ipython",
    "version": 3
   },
   "file_extension": ".py",
   "mimetype": "text/x-python",
   "name": "python",
   "nbconvert_exporter": "python",
   "pygments_lexer": "ipython3",
   "version": "3.8.13"
  }
 },
 "nbformat": 4,
 "nbformat_minor": 5
}
