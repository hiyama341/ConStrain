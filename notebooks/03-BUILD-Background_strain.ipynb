{
 "cells": [
  {
   "cell_type": "code",
   "execution_count": 1,
   "metadata": {},
   "outputs": [],
   "source": [
    "#import utils\n",
    "import sys\n",
    "import pathlib\n",
    "import Bio\n",
    "import pydna\n",
    "import pydna.dseqrecord\n",
    "import pydna.amplify\n",
    "import pydna.gel\n",
    "import pydna.ladders\n",
    "import pydna.assembly\n",
    "import IPython.core.display\n",
    "import IPython.display\n",
    "\n",
    "import pydna.editor\n",
    "\n",
    "from Bio import SeqIO\n",
    "# import constrain modules"
   ]
  },
  {
   "cell_type": "markdown",
   "metadata": {},
   "source": [
    "# Project"
   ]
  },
  {
   "cell_type": "markdown",
   "metadata": {},
   "source": [
    "Debottlenecking the strictosidine module\n",
    "\n",
    "Hypothesis\n",
    "1. Specific combinations of CPR / G8H homologs and corresponding expression levels can remove the G8H bottleneck in the Strictosidine pathway\n",
    "\n",
    "Aim: To test the hypothesis\n",
    "\n",
    "Tasks\n",
    "1. dgRNA \n",
    "2. **Base strain**\n",
    "    - From de novo producer (MIA-CM-3)\n",
    "    - MIA-HA-1 (MIA-CM-3 -CroCPR - CroG8H)\n",
    "3. Library\n",
    "4. Phenotyping\n",
    "5. Data analysis"
   ]
  },
  {
   "cell_type": "markdown",
   "metadata": {},
   "source": [
    "# Base strain"
   ]
  },
  {
   "cell_type": "markdown",
   "metadata": {},
   "source": [
    "MIA-CM-3"
   ]
  },
  {
   "cell_type": "code",
   "execution_count": 2,
   "metadata": {},
   "outputs": [],
   "source": [
    "sys.path.append('../constrain/lims')\n",
    "\n",
    "from benchling_api import from_benchling"
   ]
  },
  {
   "cell_type": "code",
   "execution_count": 3,
   "metadata": {},
   "outputs": [
    {
     "data": {
      "text/plain": [
       "SeqRecord(seq=Seq('CACCACACACACCACACACCACACCCACACACACACCACACCCACACACCACAC...ATT'), id='CEN.PK113-7d_11', name='CEN.PK113-7d_11', description='CEN.PK113-7d_11 Saccharomyces cerevisiae CEN.PK113-7D chromosome XI, whole genome shotgun sequence.', dbxrefs=[])"
      ]
     },
     "execution_count": 3,
     "metadata": {},
     "output_type": "execute_result"
    }
   ],
   "source": [
    "\n",
    "CM3 = SeqIO.read(\"../data/raw/CENPK113-7d/11.fa\", \"fasta\")\n",
    "CM3"
   ]
  },
  {
   "cell_type": "code",
   "execution_count": 4,
   "metadata": {},
   "outputs": [
    {
     "ename": "AttributeError",
     "evalue": "'NoneType' object has no attribute 'dump'",
     "output_type": "error",
     "traceback": [
      "\u001b[0;31m---------------------------------------------------------------------------\u001b[0m",
      "\u001b[0;31mAttributeError\u001b[0m                            Traceback (most recent call last)",
      "Input \u001b[0;32mIn [4]\u001b[0m, in \u001b[0;36m<cell line: 13>\u001b[0;34m()\u001b[0m\n\u001b[1;32m     10\u001b[0m pG8H_templates \u001b[38;5;241m=\u001b[39m [from_benchling(pname) \u001b[38;5;28;01mfor\u001b[39;00m pname \u001b[38;5;129;01min\u001b[39;00m pG8H_template_names]\n\u001b[1;32m     11\u001b[0m G8H_templates \u001b[38;5;241m=\u001b[39m [from_benchling(tname) \u001b[38;5;28;01mfor\u001b[39;00m tname \u001b[38;5;129;01min\u001b[39;00m G8H_template_names]\n\u001b[0;32m---> 13\u001b[0m CPR_templates \u001b[38;5;241m=\u001b[39m [from_benchling(tname) \u001b[38;5;28;01mfor\u001b[39;00m tname \u001b[38;5;129;01min\u001b[39;00m CPR_template_names]\n\u001b[1;32m     14\u001b[0m pCPR_templates \u001b[38;5;241m=\u001b[39m [from_benchling(pname) \u001b[38;5;28;01mfor\u001b[39;00m pname \u001b[38;5;129;01min\u001b[39;00m pCPR_template_names]\n\u001b[1;32m     16\u001b[0m marker_templates \u001b[38;5;241m=\u001b[39m [from_benchling(tname) \u001b[38;5;28;01mfor\u001b[39;00m tname \u001b[38;5;129;01min\u001b[39;00m marker_template_names]\n",
      "Input \u001b[0;32mIn [4]\u001b[0m, in \u001b[0;36m<listcomp>\u001b[0;34m(.0)\u001b[0m\n\u001b[1;32m     10\u001b[0m pG8H_templates \u001b[38;5;241m=\u001b[39m [from_benchling(pname) \u001b[38;5;28;01mfor\u001b[39;00m pname \u001b[38;5;129;01min\u001b[39;00m pG8H_template_names]\n\u001b[1;32m     11\u001b[0m G8H_templates \u001b[38;5;241m=\u001b[39m [from_benchling(tname) \u001b[38;5;28;01mfor\u001b[39;00m tname \u001b[38;5;129;01min\u001b[39;00m G8H_template_names]\n\u001b[0;32m---> 13\u001b[0m CPR_templates \u001b[38;5;241m=\u001b[39m [\u001b[43mfrom_benchling\u001b[49m\u001b[43m(\u001b[49m\u001b[43mtname\u001b[49m\u001b[43m)\u001b[49m \u001b[38;5;28;01mfor\u001b[39;00m tname \u001b[38;5;129;01min\u001b[39;00m CPR_template_names]\n\u001b[1;32m     14\u001b[0m pCPR_templates \u001b[38;5;241m=\u001b[39m [from_benchling(pname) \u001b[38;5;28;01mfor\u001b[39;00m pname \u001b[38;5;129;01min\u001b[39;00m pCPR_template_names]\n\u001b[1;32m     16\u001b[0m marker_templates \u001b[38;5;241m=\u001b[39m [from_benchling(tname) \u001b[38;5;28;01mfor\u001b[39;00m tname \u001b[38;5;129;01min\u001b[39;00m marker_template_names]\n",
      "File \u001b[0;32m~/projects/ConStrain/notebooks/../constrain/lims/benchling_api.py:111\u001b[0m, in \u001b[0;36mfrom_benchling\u001b[0;34m(bname, schema)\u001b[0m\n\u001b[1;32m    101\u001b[0m \u001b[38;5;124;03m\"\"\"Extract information of object on benchling.\u001b[39;00m\n\u001b[1;32m    102\u001b[0m \n\u001b[1;32m    103\u001b[0m \n\u001b[0;32m   (...)\u001b[0m\n\u001b[1;32m    108\u001b[0m \u001b[38;5;124;03m-------\u001b[39;00m\n\u001b[1;32m    109\u001b[0m \u001b[38;5;124;03m\"\"\"\u001b[39;00m\n\u001b[1;32m    110\u001b[0m \u001b[38;5;66;03m# retrieve benchling sequence dict\u001b[39;00m\n\u001b[0;32m--> 111\u001b[0m bench_dict \u001b[38;5;241m=\u001b[39m \u001b[43msession\u001b[49m\u001b[38;5;241;43m.\u001b[39;49m\u001b[43mDNASequence\u001b[49m\u001b[38;5;241;43m.\u001b[39;49m\u001b[43mfind_by_name\u001b[49m\u001b[43m(\u001b[49m\u001b[43mbname\u001b[49m\u001b[43m)\u001b[49m\u001b[38;5;241;43m.\u001b[39;49m\u001b[43mdump\u001b[49m()\n\u001b[1;32m    113\u001b[0m \u001b[38;5;66;03m# Convert benchling sequence dict into Biopython/Genbank object\u001b[39;00m\n\u001b[1;32m    114\u001b[0m \u001b[38;5;66;03m## rename keys from Benchling to Biopython/Genbank\u001b[39;00m\n\u001b[1;32m    115\u001b[0m trans_dict \u001b[38;5;241m=\u001b[39m {\n\u001b[1;32m    116\u001b[0m     \u001b[38;5;124m\"\u001b[39m\u001b[38;5;124mbases\u001b[39m\u001b[38;5;124m\"\u001b[39m: \u001b[38;5;124m\"\u001b[39m\u001b[38;5;124mseq\u001b[39m\u001b[38;5;124m\"\u001b[39m,\n\u001b[1;32m    117\u001b[0m     \u001b[38;5;124m\"\u001b[39m\u001b[38;5;124mid\u001b[39m\u001b[38;5;124m\"\u001b[39m: \u001b[38;5;124m\"\u001b[39m\u001b[38;5;124mid\u001b[39m\u001b[38;5;124m\"\u001b[39m,\n\u001b[0;32m   (...)\u001b[0m\n\u001b[1;32m    120\u001b[0m     \u001b[38;5;124m\"\u001b[39m\u001b[38;5;124mfields\u001b[39m\u001b[38;5;124m\"\u001b[39m: \u001b[38;5;124m\"\u001b[39m\u001b[38;5;124mannotations\u001b[39m\u001b[38;5;124m\"\u001b[39m,\n\u001b[1;32m    121\u001b[0m }\n",
      "\u001b[0;31mAttributeError\u001b[0m: 'NoneType' object has no attribute 'dump'"
     ]
    }
   ],
   "source": [
    "G8H_template_names = [\"pESC-CEN_RS-OeuG8H\",\"PL_10_A1pMIA_JZ-40_CroG8H\",\"pMIA_086_Rsep_G8O_in_p0057_(TRP)\",\"pMIA_087_Vmin_G8O_in_p0057_(TRP)\",\"pMIA_088_Opum_G8O_in_p0057_(TRP)\",\"pMIA_089_Cacu_G8O_in_p0057_(TRP)\",\"pMIA_090_Smus_G8O_in_p0057_(TRP)\",\"pMIA_091_Ccal_G8O_in_p0057_(TRP)\"]\n",
    "pG8H_template_names = ['pCYC1','pENO2','pPCK1','pRPL15B']\n",
    "\n",
    "\n",
    "CPR_template_names = [\"pMIA_042_Cro_CPR_in_pRS415_USER_(leu)_-_TEF1\",\"pMIA_048_(G2_Aan_CPR_(TEF1)_in_pRS415U_(LEU))\",\"pMIA_055_ATR1_in_pRS415_USER_(leu)_-_TEF1\",\"PL_13_E6_(pRS415U-P2_TEF1-CloCPR_opt2)\",\"PL_13_E7_(pRS415U-P2_TEF1-RseCPR_opt2)\",\"PL_13_E8_(pRS415U-P2_TEF1-AhuCPR_opt2)\",\"PL_13_E9_(pRS415U-P2_TEF1-AniCPR_opt2)\",\"PL_13_F1_(pRS415U-P2_TEF1-CacCPR_opt2)\",\"PL_13_F2_(pRS415U-P2_TEF1-OeuCPR_opt2)\",\"PL_13_F3_(pRS415U-P2_TEF1-CpoCPR_opt2)\"]\n",
    "pCPR_template_names = ['pCCW12','pMLS1','pTPI1','pURE2']\n",
    "\n",
    "marker_template_names = [\"pL_01_E8_(pRS414-USER-ccdB)\"]\n",
    "\n",
    "pG8H_templates = [from_benchling(pname) for pname in pG8H_template_names]\n",
    "G8H_templates = [from_benchling(tname) for tname in G8H_template_names]\n",
    "\n",
    "CPR_templates = [from_benchling(tname) for tname in CPR_template_names]\n",
    "pCPR_templates = [from_benchling(pname) for pname in pCPR_template_names]\n",
    "\n",
    "marker_templates = [from_benchling(tname) for tname in marker_template_names]\n"
   ]
  },
  {
   "cell_type": "markdown",
   "metadata": {},
   "source": [
    "# dgRNA"
   ]
  },
  {
   "cell_type": "code",
   "execution_count": 5,
   "metadata": {},
   "outputs": [],
   "source": [
    "gRNA_ATF1_CroCPR = from_benchling(\"pCfB-56(pESC-LEU-gRNA_ATF1-CroCPR)\")"
   ]
  },
  {
   "cell_type": "code",
   "execution_count": 6,
   "metadata": {},
   "outputs": [],
   "source": [
    "ATF1_gRNA = pydna.dseqrecord.Dseqrecord(\"GAATGGGCATGCTCGGCGTA\", name = \"ATF1\")\n",
    "CroCPR_gRNA = pydna.dseqrecord.Dseqrecord(\"GCCGTAGTAACGTCGCTGTC\", name = \"CroCPR\") #CroCPR gRNA-2"
   ]
  },
  {
   "cell_type": "markdown",
   "metadata": {},
   "source": [
    "# Repair templates"
   ]
  },
  {
   "cell_type": "markdown",
   "metadata": {},
   "source": [
    "Repair templates: \n",
    "- G8H; tADH1-P1_PGK1_400\n",
    "- CPR; XI-3 (l4_A08)"
   ]
  },
  {
   "cell_type": "markdown",
   "metadata": {},
   "source": [
    "**G8H**"
   ]
  },
  {
   "cell_type": "markdown",
   "metadata": {},
   "source": [
    "| Part | Template | Primer_Fw | Primer_Rv | Anneal | Size |\n",
    "| --- | --- | --- | --- | --- | --- |\n",
    "| tADH1-P1_PGK1_400 | pRS413U_P2_PGK1_mKate2 | pPGK1_Seq_Rv |USER_XhoI_Fw| Touchdown | 0.6 kb |"
   ]
  },
  {
   "cell_type": "code",
   "execution_count": 7,
   "metadata": {},
   "outputs": [],
   "source": [
    "pRS413U_P2_PGK1_mKate2 = from_benchling(\"PL_02_E2(pRS413U-P2_PGK1-mKate2)\")\n",
    "pPGK1_Seq_Rv = from_benchling(\"pPGK1_Seq_Rv\", 'Primer')\n",
    "USER_XhoI_Fw = from_benchling(\"USER_XhoI_Fw\", 'Primer')\n",
    "\n"
   ]
  },
  {
   "cell_type": "code",
   "execution_count": null,
   "metadata": {},
   "outputs": [],
   "source": []
  },
  {
   "cell_type": "code",
   "execution_count": 8,
   "metadata": {},
   "outputs": [
    {
     "data": {
      "text/html": [
       "Amplicon(659)"
      ],
      "text/plain": [
       "Amplicon(659)"
      ]
     },
     "execution_count": 8,
     "metadata": {},
     "output_type": "execute_result"
    }
   ],
   "source": [
    "ATF1_repair_template = pydna.amplify.pcr(pPGK1_Seq_Rv, USER_XhoI_Fw, pRS413U_P2_PGK1_mKate2)\n",
    "ATF1_repair_template"
   ]
  },
  {
   "cell_type": "code",
   "execution_count": 9,
   "metadata": {},
   "outputs": [],
   "source": [
    "# Check annotations in clc\n",
    "    # clc.open(ATF1_repair_template)\n",
    "# Write function that can determine name from seqrecord features?\n",
    "ATF1_repair_template.name = \"tADH1-P1_PGK1_400\"\n",
    "# Use benchling API to find empty location, then create empty container with location\n",
    "ATF1_repair_template.annotations['batches'] = [{'location':'l5_A02'}]\n",
    "# Upload name, sequence to benchling\n",
    "    # utils.to_benchling(ATF1_repair_template, \"to_benchling\", schema = 'DNA Fragment')"
   ]
  },
  {
   "cell_type": "markdown",
   "metadata": {},
   "source": [
    "**CPR**"
   ]
  },
  {
   "cell_type": "markdown",
   "metadata": {},
   "source": [
    "| Part | Template | Primer_Fw | Primer_Rv | Anneal | Size |\n",
    "| --- | --- | --- | --- | --- | --- |\n",
    "| XI-3 | gDNA | XI-3- up-out-sq |XI-3- down-out-sq| Touchdown | 1.4 kb |"
   ]
  },
  {
   "cell_type": "code",
   "execution_count": 10,
   "metadata": {},
   "outputs": [],
   "source": [
    "# Create function to download PCR template\n",
    "strain = \"CENPK113-7d\"\n",
    "chromosome_no = \"11\"\n",
    "PathToXIChromosomeSeq = \"../data/raw/\" + strain + \"/\" + str(chromosome_no).zfill(2) + \".fa\"\n",
    "XIChromosomeSeq      = Bio.SeqIO.read(PathToXIChromosomeSeq, \"fasta\")\n",
    "XIChromosomeSeq.annotations['batches'] = []\n",
    "XIChromosomeSeq.annotations['batches'].append({'location':\"l4_A01\"})"
   ]
  },
  {
   "cell_type": "code",
   "execution_count": 11,
   "metadata": {},
   "outputs": [],
   "source": [
    "XI_3_up_out_sq = from_benchling(\"XI-3- up-out-sq\", 'Primer')\n",
    "XI_3_down_out_sq = from_benchling(\"XI-3- down-out-sq\", 'Primer')\n",
    "CPR_repair_template = pydna.amplify.pcr(XI_3_up_out_sq,XI_3_down_out_sq, XIChromosomeSeq)"
   ]
  },
  {
   "cell_type": "code",
   "execution_count": 12,
   "metadata": {},
   "outputs": [
    {
     "data": {
      "text/plain": [
       "1"
      ]
     },
     "execution_count": 12,
     "metadata": {},
     "output_type": "execute_result"
    }
   ],
   "source": [
    "SeqIO.write(XI_3_up_out_sq, \"XI-3- up-out-sq.fasta\", \"fasta\")\n",
    "SeqIO.write(XI_3_down_out_sq, \"XI-3- down-out-sq.fasta\", \"fasta\")\n"
   ]
  },
  {
   "cell_type": "code",
   "execution_count": 13,
   "metadata": {},
   "outputs": [],
   "source": [
    "CPR_repair_template.name = \"XI-3\"\n",
    "CPR_repair_template.annotations['batches'] = [{'location':'l4_A08'}]"
   ]
  },
  {
   "cell_type": "markdown",
   "metadata": {},
   "source": [
    "## PCR reactions"
   ]
  },
  {
   "cell_type": "markdown",
   "metadata": {},
   "source": [
    "onetaq polymerase"
   ]
  },
  {
   "cell_type": "code",
   "execution_count": 14,
   "metadata": {},
   "outputs": [],
   "source": [
    "sys.path.append('../constrain/lab')\n",
    "\n",
    "from PCR import pcr_locations, pcr_volumes\n"
   ]
  },
  {
   "cell_type": "code",
   "execution_count": 15,
   "metadata": {},
   "outputs": [
    {
     "data": {
      "text/html": [
       "<div>\n",
       "<style scoped>\n",
       "    .dataframe tbody tr th:only-of-type {\n",
       "        vertical-align: middle;\n",
       "    }\n",
       "\n",
       "    .dataframe tbody tr th {\n",
       "        vertical-align: top;\n",
       "    }\n",
       "\n",
       "    .dataframe thead th {\n",
       "        text-align: right;\n",
       "    }\n",
       "</style>\n",
       "<table border=\"1\" class=\"dataframe\">\n",
       "  <thead>\n",
       "    <tr style=\"text-align: right;\">\n",
       "      <th></th>\n",
       "      <th>location</th>\n",
       "      <th>name</th>\n",
       "      <th>template</th>\n",
       "      <th>fw</th>\n",
       "      <th>rv</th>\n",
       "    </tr>\n",
       "  </thead>\n",
       "  <tbody>\n",
       "    <tr>\n",
       "      <th>0</th>\n",
       "      <td>PL02_e2</td>\n",
       "      <td>tADH1-P1_PGK1_400</td>\n",
       "      <td>PL02_e2</td>\n",
       "      <td>o3_a1</td>\n",
       "      <td>o3_e3</td>\n",
       "    </tr>\n",
       "    <tr>\n",
       "      <th>1</th>\n",
       "      <td>l4_A01</td>\n",
       "      <td>XI-3</td>\n",
       "      <td>l4_A01</td>\n",
       "      <td>o2_g4</td>\n",
       "      <td>o2_g5</td>\n",
       "    </tr>\n",
       "  </tbody>\n",
       "</table>\n",
       "</div>"
      ],
      "text/plain": [
       "  location               name template     fw     rv\n",
       "0  PL02_e2  tADH1-P1_PGK1_400  PL02_e2  o3_a1  o3_e3\n",
       "1   l4_A01               XI-3   l4_A01  o2_g4  o2_g5"
      ]
     },
     "execution_count": 15,
     "metadata": {},
     "output_type": "execute_result"
    }
   ],
   "source": [
    "pcr_locations([ATF1_repair_template, CPR_repair_template])"
   ]
  },
  {
   "cell_type": "code",
   "execution_count": 16,
   "metadata": {},
   "outputs": [
    {
     "data": {
      "text/html": [
       "<div>\n",
       "<style scoped>\n",
       "    .dataframe tbody tr th:only-of-type {\n",
       "        vertical-align: middle;\n",
       "    }\n",
       "\n",
       "    .dataframe tbody tr th {\n",
       "        vertical-align: top;\n",
       "    }\n",
       "\n",
       "    .dataframe thead th {\n",
       "        text-align: right;\n",
       "    }\n",
       "</style>\n",
       "<table border=\"1\" class=\"dataframe\">\n",
       "  <thead>\n",
       "    <tr style=\"text-align: right;\">\n",
       "      <th></th>\n",
       "      <th>vol_p_reac</th>\n",
       "      <th>vol_p_3_reac</th>\n",
       "    </tr>\n",
       "  </thead>\n",
       "  <tbody>\n",
       "    <tr>\n",
       "      <th>Template</th>\n",
       "      <td>1.0</td>\n",
       "      <td>3.0</td>\n",
       "    </tr>\n",
       "    <tr>\n",
       "      <th>Primer 1</th>\n",
       "      <td>2.5</td>\n",
       "      <td>7.5</td>\n",
       "    </tr>\n",
       "    <tr>\n",
       "      <th>Primer 2</th>\n",
       "      <td>2.5</td>\n",
       "      <td>7.5</td>\n",
       "    </tr>\n",
       "    <tr>\n",
       "      <th>H20</th>\n",
       "      <td>19.0</td>\n",
       "      <td>57.0</td>\n",
       "    </tr>\n",
       "    <tr>\n",
       "      <th>Pol</th>\n",
       "      <td>25.0</td>\n",
       "      <td>75.0</td>\n",
       "    </tr>\n",
       "    <tr>\n",
       "      <th>Total</th>\n",
       "      <td>50.0</td>\n",
       "      <td>150.0</td>\n",
       "    </tr>\n",
       "  </tbody>\n",
       "</table>\n",
       "</div>"
      ],
      "text/plain": [
       "          vol_p_reac  vol_p_3_reac\n",
       "Template         1.0           3.0\n",
       "Primer 1         2.5           7.5\n",
       "Primer 2         2.5           7.5\n",
       "H20             19.0          57.0\n",
       "Pol             25.0          75.0\n",
       "Total           50.0         150.0"
      ]
     },
     "execution_count": 16,
     "metadata": {},
     "output_type": "execute_result"
    }
   ],
   "source": [
    "pcr_volumes(vol_p_reac = 50, \n",
    "        no_of_reactions = 3,\n",
    "        standard_reagents = [\"Template\", \"Primer 1\", \"Primer 2\", \"H20\", \"Pol\"],\n",
    "        standard_volumes = [1, 2.5, 2.5, 19, 25])"
   ]
  },
  {
   "cell_type": "code",
   "execution_count": 17,
   "metadata": {},
   "outputs": [],
   "source": [
    "# Insert code to determine thermocycler program\n",
    "    #ATF1_repair_template.program()\n",
    "    #CPR_repair_template.program()\n",
    "    #Suggest program that allows both on one thermocycler"
   ]
  },
  {
   "cell_type": "code",
   "execution_count": 18,
   "metadata": {},
   "outputs": [
    {
     "data": {
      "image/png": "[encoded data removed]",
      "text/plain": [
       "<PIL.Image.Image image mode=RGB size=240x600>"
      ]
     },
     "execution_count": 18,
     "metadata": {},
     "output_type": "execute_result"
    }
   ],
   "source": [
    "pydna.gel.gel([pydna.ladders.PennStateLadder,[ATF1_repair_template],[CPR_repair_template]]) #GeneRuler_1kb_; [Dseqrecord(\"A\"*2000)]"
   ]
  },
  {
   "cell_type": "markdown",
   "metadata": {},
   "source": [
    "For each PCR:\n",
    "- Physically (eventually using robots):\n",
    "    - Mix\n",
    "    - Run thermocycler\n",
    "    - Run gel\n",
    "    - Determine purification method and elution volume\n",
    "    - Purify\n",
    "    - Measure concentration on nanodrop\n",
    "    - Label container, transfer purified PCR to container, place container at given location."
   ]
  },
  {
   "cell_type": "markdown",
   "metadata": {},
   "source": [
    "For each PCR:\n",
    "- Digitally (using benchlingapi):\n",
    "    - Create a batch with concentration and volume and place in container"
   ]
  },
  {
   "cell_type": "code",
   "execution_count": 19,
   "metadata": {},
   "outputs": [],
   "source": [
    "ATF1_repair_template.annotations['batches'][0].update({'volume'        : 10,\n",
    "                                                       'concentration' : 50})\n",
    "#utils.to_benchling(ATF1_repair_template, \"to_benchling\")"
   ]
  },
  {
   "cell_type": "code",
   "execution_count": 20,
   "metadata": {},
   "outputs": [],
   "source": [
    "CPR_repair_template.annotations['batches'][0].update({'volume'        : 60,\n",
    "                                                      'concentration' : 50})\n",
    "#utils.to_benchling(CPR_repair_template, \"to_benchling\")"
   ]
  },
  {
   "cell_type": "markdown",
   "metadata": {},
   "source": [
    "## Assemblies"
   ]
  },
  {
   "cell_type": "code",
   "execution_count": null,
   "metadata": {},
   "outputs": [],
   "source": []
  },
  {
   "cell_type": "markdown",
   "metadata": {},
   "source": [
    "| Name | Parent | gRNA (500 ng) | Parts (300 ng) |\n",
    "| --- | --- | --- | --- |\n",
    "| MIA-HA-1 | CM-3 | pESC-LEU-gRNA_ATF1-CroCPR | tADH1-P1_PGK1_400, XI-3 | "
   ]
  },
  {
   "cell_type": "code",
   "execution_count": 21,
   "metadata": {},
   "outputs": [],
   "source": [
    "parameters = {\n",
    "'bg_strain': CM3,\n",
    "'site_names': [\"X-3\", \"XI-3\"],\n",
    "'gRNAs': [ATF1_gRNA, CroCPR_gRNA],\n",
    "'parts': [[ATF1_repair_template],[CPR_repair_template]],\n",
    "'assembly_limits':[200,400],\n",
    "'assembly_names': [\"X_3_tADH1_P2_pPGK1\", \"XI_3_UP_DW\"],\n",
    "'verbose': False,\n",
    "'to_benchling': False  \n",
    "}"
   ]
  },
  {
   "cell_type": "code",
   "execution_count": 22,
   "metadata": {},
   "outputs": [],
   "source": [
    "sys.path.append('../constrain/design')\n",
    "\n",
    "from cloning import casembler"
   ]
  },
  {
   "cell_type": "code",
   "execution_count": 23,
   "metadata": {},
   "outputs": [
    {
     "ename": "IndexError",
     "evalue": "list index out of range",
     "output_type": "error",
     "traceback": [
      "\u001b[0;31m---------------------------------------------------------------------------\u001b[0m",
      "\u001b[0;31mIndexError\u001b[0m                                Traceback (most recent call last)",
      "Input \u001b[0;32mIn [23]\u001b[0m, in \u001b[0;36m<cell line: 3>\u001b[0;34m()\u001b[0m\n\u001b[1;32m      1\u001b[0m \u001b[38;5;66;03m# THIS function does not work atm \u001b[39;00m\n\u001b[0;32m----> 3\u001b[0m HA1 \u001b[38;5;241m=\u001b[39m \u001b[43mcasembler\u001b[49m\u001b[43m(\u001b[49m\u001b[38;5;241;43m*\u001b[39;49m\u001b[38;5;241;43m*\u001b[39;49m\u001b[43mparameters\u001b[49m\u001b[43m)\u001b[49m\n",
      "File \u001b[0;32m~/projects/ConStrain/notebooks/../constrain/design/cloning.py:464\u001b[0m, in \u001b[0;36mcasembler\u001b[0;34m(bg_strain, site_names, gRNAs, parts, assembly_limits, assembly_names, verbose, to_benchling)\u001b[0m\n\u001b[1;32m    460\u001b[0m gRNA \u001b[38;5;241m=\u001b[39m gRNAs[int_no]\n\u001b[1;32m    462\u001b[0m site_name \u001b[38;5;241m=\u001b[39m site_names[int_no]\n\u001b[0;32m--> 464\u001b[0m site \u001b[38;5;241m=\u001b[39m \u001b[43mextract_sites\u001b[49m\u001b[43m(\u001b[49m\u001b[43m[\u001b[49m\u001b[43msite_name\u001b[49m\u001b[43m]\u001b[49m\u001b[43m,\u001b[49m\u001b[43m \u001b[49m\u001b[43m[\u001b[49m\u001b[43mbg_strain\u001b[49m\u001b[43m]\u001b[49m\u001b[43m,\u001b[49m\u001b[43m \u001b[49m\u001b[43m[\u001b[49m\u001b[43msite_name\u001b[49m\u001b[43m]\u001b[49m\u001b[43m)\u001b[49m\u001b[43m[\u001b[49m\u001b[38;5;241;43m0\u001b[39;49m\u001b[43m]\u001b[49m\n\u001b[1;32m    466\u001b[0m UP, DW \u001b[38;5;241m=\u001b[39m CAS9_cutting(gRNA, site)\n\u001b[1;32m    468\u001b[0m fragments \u001b[38;5;241m=\u001b[39m [UP] \u001b[38;5;241m+\u001b[39m parts[int_no] \u001b[38;5;241m+\u001b[39m [DW]\n",
      "\u001b[0;31mIndexError\u001b[0m: list index out of range"
     ]
    }
   ],
   "source": [
    "# THIS function does not work atm \n",
    "\n",
    "HA1 = casembler(**parameters)"
   ]
  },
  {
   "cell_type": "code",
   "execution_count": 24,
   "metadata": {},
   "outputs": [],
   "source": [
    "# Create function\n",
    "#XI_2 = utils.extract_sites([\"XI-2\"], [CM3],[\"XI-2\"])[0]\n",
    "#XI_2 = pydna.dseqrecord.Dseqrecord(XI_2)\n",
    "\n",
    "#XI_2_feat = Bio.SeqFeature.SeqFeature(Bio.SeqFeature.FeatureLocation(0, len(XI_2), strand=1), type=\"misc_feature\")\n",
    "#XI_2_feat.qualifiers['name']=\"XI_2\"\n",
    "#XI_2_feat.qualifiers['label']=\"XI_2\"\n",
    "#XI_2.features.append(XI_2_feat)"
   ]
  },
  {
   "cell_type": "code",
   "execution_count": 25,
   "metadata": {},
   "outputs": [],
   "source": [
    "#HA1 = \"NN\" + HA1 + XI_2 + \"NN\""
   ]
  },
  {
   "cell_type": "code",
   "execution_count": 26,
   "metadata": {},
   "outputs": [],
   "source": [
    "#HA1.name = \"MIA-HA-1\""
   ]
  },
  {
   "cell_type": "code",
   "execution_count": 27,
   "metadata": {},
   "outputs": [],
   "source": [
    "#HA1.annotations['batches'] = []\n",
    "#HA1.annotations['batches'].append({'location':'y01_D08'})"
   ]
  },
  {
   "cell_type": "code",
   "execution_count": 28,
   "metadata": {},
   "outputs": [],
   "source": [
    "#clc20.open(HA1)"
   ]
  },
  {
   "cell_type": "code",
   "execution_count": 29,
   "metadata": {},
   "outputs": [],
   "source": [
    "#utils.to_benchling(CPR_repair_template, \"to_benchling\")"
   ]
  },
  {
   "cell_type": "markdown",
   "metadata": {},
   "source": [
    "## Transformation reactions"
   ]
  },
  {
   "cell_type": "markdown",
   "metadata": {},
   "source": [
    " "
   ]
  },
  {
   "cell_type": "markdown",
   "metadata": {},
   "source": [
    "Protocol for transformation:"
   ]
  },
  {
   "cell_type": "code",
   "execution_count": 30,
   "metadata": {},
   "outputs": [
    {
     "data": {
      "text/html": [
       "Path (<tt>../methods/methods.ipynb</tt>) doesn't exist. It may still be in the process of being generated, or you may have the incorrect path."
      ],
      "text/plain": [
       "/Users/lucaslevassor/projects/ConStrain/methods/methods.ipynb"
      ]
     },
     "execution_count": 30,
     "metadata": {},
     "output_type": "execute_result"
    }
   ],
   "source": [
    "IPython.display.FileLink('../methods/methods.ipynb')"
   ]
  },
  {
   "cell_type": "code",
   "execution_count": 31,
   "metadata": {},
   "outputs": [],
   "source": [
    "sys.path.append('../constrain/lab')\n",
    "\n",
    "from transformation import time_to_inculate, ng_to_nmol, transformation_mix"
   ]
  },
  {
   "cell_type": "code",
   "execution_count": 32,
   "metadata": {},
   "outputs": [
    {
     "name": "stdout",
     "output_type": "stream",
     "text": [
      "Assumed that: \n",
      "- transformation time 12 (reached OD=1 the day after)\n"
     ]
    },
    {
     "data": {
      "image/png": "[encoded data removed]",
      "text/plain": [
       "<Figure size 432x288 with 1 Axes>"
      ]
     },
     "metadata": {},
     "output_type": "display_data"
    },
    {
     "name": "stdout",
     "output_type": "stream",
     "text": [
      "Hours to OD = 1: \t26 hours\n",
      "Time of inoculation: \t9(the day before)\n",
      "\n",
      "If you innoculate now, the cells will have reached OD= 1 by:   2022-08-31 19:56:23.901370\n"
     ]
    }
   ],
   "source": [
    "time_to_inculate(td=0.33)"
   ]
  },
  {
   "cell_type": "markdown",
   "metadata": {},
   "source": [
    "import positive control"
   ]
  },
  {
   "cell_type": "code",
   "execution_count": 34,
   "metadata": {},
   "outputs": [],
   "source": [
    "LEU_plasmid = from_benchling(\"pESC-LEU-gRNA_CroCPR-2\")\n",
    "#SeqIO.write(LEU_plasmid, \"LEU_plasmid.fasta\", \"fasta\")\n"
   ]
  },
  {
   "cell_type": "code",
   "execution_count": 35,
   "metadata": {},
   "outputs": [],
   "source": [
    "HA1 = SeqIO.read('../data/raw/MIA-HA-1.gb','gb')"
   ]
  },
  {
   "cell_type": "code",
   "execution_count": 36,
   "metadata": {},
   "outputs": [],
   "source": [
    "reaction_names = [HA1.name + \"(MIA-CM-3 -CPR-G8H)\", \n",
    "                  \"n.ctr\", \"n.ctr\", \"n.ctr\", \"p. ctr\"]"
   ]
  },
  {
   "cell_type": "markdown",
   "metadata": {},
   "source": [
    "Parts needs equimolar 0.1 pmol = 0.0001 nmol"
   ]
  },
  {
   "cell_type": "code",
   "execution_count": 37,
   "metadata": {},
   "outputs": [],
   "source": [
    "reaction_participants = [[gRNA_ATF1_CroCPR, ATF1_repair_template,CPR_repair_template],\n",
    "                         [gRNA_ATF1_CroCPR],\n",
    "                         [gRNA_ATF1_CroCPR, ATF1_repair_template],\n",
    "                         [gRNA_ATF1_CroCPR, CPR_repair_template], \n",
    "                         [LEU_plasmid]]"
   ]
  },
  {
   "cell_type": "markdown",
   "metadata": {},
   "source": [
    "500 ng gRNA_ATF1_CroCPR plasmid"
   ]
  },
  {
   "cell_type": "code",
   "execution_count": 38,
   "metadata": {},
   "outputs": [
    {
     "data": {
      "text/plain": [
       "9.865727449413482e-05"
      ]
     },
     "execution_count": 38,
     "metadata": {},
     "output_type": "execute_result"
    }
   ],
   "source": [
    "nmol_gRNA = ng_to_nmol(ng = 500, bp = len(gRNA_ATF1_CroCPR))\n",
    "nmol_gRNA"
   ]
  },
  {
   "cell_type": "markdown",
   "metadata": {},
   "source": [
    "10 ng LEU plasmid should be enough"
   ]
  },
  {
   "cell_type": "code",
   "execution_count": 39,
   "metadata": {},
   "outputs": [
    {
     "data": {
      "text/plain": [
       "2.248883991319308e-06"
      ]
     },
     "execution_count": 39,
     "metadata": {},
     "output_type": "execute_result"
    }
   ],
   "source": [
    "nmol_pctr = ng_to_nmol(ng = 10, bp = len(LEU_plasmid))\n",
    "nmol_pctr"
   ]
  },
  {
   "cell_type": "code",
   "execution_count": 40,
   "metadata": {},
   "outputs": [],
   "source": [
    "# in nmol\n",
    "wanted_amounts = {'pCfB-56(pESC-LEU-gRNA_ATF1-CroCPR)' : nmol_gRNA,\n",
    "                         'tADH1-P1_PGK1_400'                  : 0.0001,\n",
    "                         'XI-3'                               : 0.0001,\n",
    "                         'pMIA_042_Cro_CPR_in_pRS415_USER_(leu)_-_TEF1': nmol_pctr}"
   ]
  },
  {
   "cell_type": "code",
   "execution_count": 41,
   "metadata": {},
   "outputs": [],
   "source": [
    "media = ['SC-LEU'] * 5"
   ]
  },
  {
   "cell_type": "code",
   "execution_count": 43,
   "metadata": {},
   "outputs": [
    {
     "data": {
      "text/plain": [
       "[[SeqRecord(seq=Seq('TGGCGGGTGTCGGGGCTGGCTTAACTATGCGGCATCAGAGCAGATTGTACTGAG...TGT'), id='seq_AA4vOQs1', name='pCfB-56(pESC-LEU-gRNA_ATF1-CroCPR)', description='<unknown description>', dbxrefs=[]),\n",
       "  Amplicon(659),\n",
       "  Amplicon(1449)],\n",
       " [SeqRecord(seq=Seq('TGGCGGGTGTCGGGGCTGGCTTAACTATGCGGCATCAGAGCAGATTGTACTGAG...TGT'), id='seq_AA4vOQs1', name='pCfB-56(pESC-LEU-gRNA_ATF1-CroCPR)', description='<unknown description>', dbxrefs=[])],\n",
       " [SeqRecord(seq=Seq('TGGCGGGTGTCGGGGCTGGCTTAACTATGCGGCATCAGAGCAGATTGTACTGAG...TGT'), id='seq_AA4vOQs1', name='pCfB-56(pESC-LEU-gRNA_ATF1-CroCPR)', description='<unknown description>', dbxrefs=[]),\n",
       "  Amplicon(659)],\n",
       " [SeqRecord(seq=Seq('TGGCGGGTGTCGGGGCTGGCTTAACTATGCGGCATCAGAGCAGATTGTACTGAG...TGT'), id='seq_AA4vOQs1', name='pCfB-56(pESC-LEU-gRNA_ATF1-CroCPR)', description='<unknown description>', dbxrefs=[]),\n",
       "  Amplicon(1449)],\n",
       " [SeqRecord(seq=Seq('TCGCGCGTTTCGGTGATGACGGTGAAAACCTCTGACACATGCAGCTCCCGGAGA...GTC'), id='seq_Qy1hV9Gf', name='pESC-LEU-gRNA_CroCPR-2', description='<unknown description>', dbxrefs=[])]]"
      ]
     },
     "execution_count": 43,
     "metadata": {},
     "output_type": "execute_result"
    }
   ],
   "source": [
    "reaction_participants"
   ]
  },
  {
   "cell_type": "code",
   "execution_count": 42,
   "metadata": {},
   "outputs": [
    {
     "ename": "TypeError",
     "evalue": "type str doesn't define __round__ method",
     "output_type": "error",
     "traceback": [
      "\u001b[0;31m---------------------------------------------------------------------------\u001b[0m",
      "\u001b[0;31mTypeError\u001b[0m                                 Traceback (most recent call last)",
      "Input \u001b[0;32mIn [42]\u001b[0m, in \u001b[0;36m<cell line: 1>\u001b[0;34m()\u001b[0m\n\u001b[0;32m----> 1\u001b[0m \u001b[43mtransformation_mix\u001b[49m\u001b[43m(\u001b[49m\u001b[43mreaction_names\u001b[49m\u001b[43m,\u001b[49m\u001b[43m \u001b[49m\u001b[43mreaction_participants\u001b[49m\u001b[43m,\u001b[49m\u001b[43m \u001b[49m\u001b[43mwanted_amounts\u001b[49m\u001b[43m \u001b[49m\u001b[38;5;241;43m=\u001b[39;49m\u001b[43m \u001b[49m\u001b[43mwanted_amounts\u001b[49m\u001b[43m,\u001b[49m\u001b[43m \u001b[49m\u001b[43mwater_dna_p_reac\u001b[49m\u001b[43m \u001b[49m\u001b[38;5;241;43m=\u001b[39;49m\u001b[43m \u001b[49m\u001b[38;5;241;43m18.5\u001b[39;49m\u001b[43m,\u001b[49m\u001b[43m \u001b[49m\u001b[43mmedia\u001b[49m\u001b[43m \u001b[49m\u001b[38;5;241;43m=\u001b[39;49m\u001b[43m \u001b[49m\u001b[43mmedia\u001b[49m\u001b[43m)\u001b[49m\n",
      "File \u001b[0;32m~/projects/ConStrain/notebooks/../constrain/lab/transformation.py:242\u001b[0m, in \u001b[0;36mtransformation_mix\u001b[0;34m(reaction_names, reaction_participants, wanted_amounts, water_dna_p_reac, media)\u001b[0m\n\u001b[1;32m    239\u001b[0m part_names \u001b[38;5;241m=\u001b[39m [part\u001b[38;5;241m.\u001b[39mname \u001b[38;5;28;01mfor\u001b[39;00m part \u001b[38;5;129;01min\u001b[39;00m parts]  \u001b[38;5;66;03m# ng/ul\u001b[39;00m\n\u001b[1;32m    240\u001b[0m sizes \u001b[38;5;241m=\u001b[39m [\u001b[38;5;28mlen\u001b[39m(part) \u001b[38;5;28;01mfor\u001b[39;00m part \u001b[38;5;129;01min\u001b[39;00m parts]  \u001b[38;5;66;03m# in bp\u001b[39;00m\n\u001b[0;32m--> 242\u001b[0m part_mass \u001b[38;5;241m=\u001b[39m [\n\u001b[1;32m    243\u001b[0m     \u001b[38;5;28mround\u001b[39m(wanted_amounts\u001b[38;5;241m.\u001b[39mget(pname, \u001b[38;5;124m\"\u001b[39m\u001b[38;5;124m\"\u001b[39m) \u001b[38;5;241m*\u001b[39m \u001b[38;5;28mint\u001b[39m(size) \u001b[38;5;241m*\u001b[39m \u001b[38;5;241m650\u001b[39m, \u001b[38;5;241m1\u001b[39m)\n\u001b[1;32m    244\u001b[0m     \u001b[38;5;28;01mfor\u001b[39;00m pname, size \u001b[38;5;129;01min\u001b[39;00m \u001b[38;5;28mzip\u001b[39m(part_names, sizes)\n\u001b[1;32m    245\u001b[0m ]  \u001b[38;5;66;03m# in ng = nmol * bp * 650 ng/(nmol * bp)\u001b[39;00m\n\u001b[1;32m    247\u001b[0m part_volume \u001b[38;5;241m=\u001b[39m [\n\u001b[1;32m    248\u001b[0m     \u001b[38;5;28mround\u001b[39m(mass \u001b[38;5;241m/\u001b[39m con, \u001b[38;5;241m1\u001b[39m) \u001b[38;5;28;01mfor\u001b[39;00m mass, con \u001b[38;5;129;01min\u001b[39;00m \u001b[38;5;28mzip\u001b[39m(part_mass, concentrations)\n\u001b[1;32m    249\u001b[0m ]  \u001b[38;5;66;03m# in µl\u001b[39;00m\n\u001b[1;32m    251\u001b[0m di \u001b[38;5;241m=\u001b[39m \u001b[38;5;28mdict\u001b[39m(\u001b[38;5;28mzip\u001b[39m(names, part_volume))\n",
      "File \u001b[0;32m~/projects/ConStrain/notebooks/../constrain/lab/transformation.py:243\u001b[0m, in \u001b[0;36m<listcomp>\u001b[0;34m(.0)\u001b[0m\n\u001b[1;32m    239\u001b[0m part_names \u001b[38;5;241m=\u001b[39m [part\u001b[38;5;241m.\u001b[39mname \u001b[38;5;28;01mfor\u001b[39;00m part \u001b[38;5;129;01min\u001b[39;00m parts]  \u001b[38;5;66;03m# ng/ul\u001b[39;00m\n\u001b[1;32m    240\u001b[0m sizes \u001b[38;5;241m=\u001b[39m [\u001b[38;5;28mlen\u001b[39m(part) \u001b[38;5;28;01mfor\u001b[39;00m part \u001b[38;5;129;01min\u001b[39;00m parts]  \u001b[38;5;66;03m# in bp\u001b[39;00m\n\u001b[1;32m    242\u001b[0m part_mass \u001b[38;5;241m=\u001b[39m [\n\u001b[0;32m--> 243\u001b[0m     \u001b[38;5;28;43mround\u001b[39;49m\u001b[43m(\u001b[49m\u001b[43mwanted_amounts\u001b[49m\u001b[38;5;241;43m.\u001b[39;49m\u001b[43mget\u001b[49m\u001b[43m(\u001b[49m\u001b[43mpname\u001b[49m\u001b[43m,\u001b[49m\u001b[43m \u001b[49m\u001b[38;5;124;43m\"\u001b[39;49m\u001b[38;5;124;43m\"\u001b[39;49m\u001b[43m)\u001b[49m\u001b[43m \u001b[49m\u001b[38;5;241;43m*\u001b[39;49m\u001b[43m \u001b[49m\u001b[38;5;28;43mint\u001b[39;49m\u001b[43m(\u001b[49m\u001b[43msize\u001b[49m\u001b[43m)\u001b[49m\u001b[43m \u001b[49m\u001b[38;5;241;43m*\u001b[39;49m\u001b[43m \u001b[49m\u001b[38;5;241;43m650\u001b[39;49m\u001b[43m,\u001b[49m\u001b[43m \u001b[49m\u001b[38;5;241;43m1\u001b[39;49m\u001b[43m)\u001b[49m\n\u001b[1;32m    244\u001b[0m     \u001b[38;5;28;01mfor\u001b[39;00m pname, size \u001b[38;5;129;01min\u001b[39;00m \u001b[38;5;28mzip\u001b[39m(part_names, sizes)\n\u001b[1;32m    245\u001b[0m ]  \u001b[38;5;66;03m# in ng = nmol * bp * 650 ng/(nmol * bp)\u001b[39;00m\n\u001b[1;32m    247\u001b[0m part_volume \u001b[38;5;241m=\u001b[39m [\n\u001b[1;32m    248\u001b[0m     \u001b[38;5;28mround\u001b[39m(mass \u001b[38;5;241m/\u001b[39m con, \u001b[38;5;241m1\u001b[39m) \u001b[38;5;28;01mfor\u001b[39;00m mass, con \u001b[38;5;129;01min\u001b[39;00m \u001b[38;5;28mzip\u001b[39m(part_mass, concentrations)\n\u001b[1;32m    249\u001b[0m ]  \u001b[38;5;66;03m# in µl\u001b[39;00m\n\u001b[1;32m    251\u001b[0m di \u001b[38;5;241m=\u001b[39m \u001b[38;5;28mdict\u001b[39m(\u001b[38;5;28mzip\u001b[39m(names, part_volume))\n",
      "\u001b[0;31mTypeError\u001b[0m: type str doesn't define __round__ method"
     ]
    }
   ],
   "source": [
    "transformation_mix(reaction_names, reaction_participants, wanted_amounts = wanted_amounts, water_dna_p_reac = 18.5, media = media)"
   ]
  },
  {
   "cell_type": "code",
   "execution_count": null,
   "metadata": {},
   "outputs": [],
   "source": [
    "utils.volumes(vol_p_reac = 90, \n",
    "        no_of_reactions = 6,\n",
    "        standard_reagents = [\"PEG\", \"LiAc_1M\", \"ssDNA\", \"water_dna\"],\n",
    "        standard_volumes = [240, 36, 10, 74])"
   ]
  },
  {
   "cell_type": "markdown",
   "metadata": {},
   "source": [
    "Expectation"
   ]
  },
  {
   "cell_type": "code",
   "execution_count": null,
   "metadata": {},
   "outputs": [],
   "source": [
    "IPython.core.display.Image(utils.imagingStation / 'dgRNA ATF1 and CroCPR.jpg', width=600)"
   ]
  },
  {
   "cell_type": "markdown",
   "metadata": {},
   "source": [
    "Actual"
   ]
  },
  {
   "cell_type": "code",
   "execution_count": null,
   "metadata": {},
   "outputs": [],
   "source": [
    "IPython.core.display.Image(utils.imagingStation / '2021-02-09_transformation_plates.jpg', width=600)"
   ]
  },
  {
   "cell_type": "markdown",
   "metadata": {},
   "source": [
    "Before transformation:\n",
    "- MIA-CM-3 Doubling time is ~ 3h in YPD. WT is ~2h. This is also observed by Sam and Beata for MIA-CM-3.\n",
    "\n",
    "After transformation:\n",
    "\n",
    "1. Few colonies on all plates. This sometime happens with slow growing strains. Probably due to combination of cells less viable and generally less cells used for transformation. If we repeat, scale reaction to 360 µl, 5 ml OD 1 culture per transformation, 0.5 pmol DNA (repair templates), 500 ng gRNA\n",
    "\n",
    "2. Few colonies on plate # 1: Worry that we do not see more colonies on plate # 1 compared to 2, 3,and 4. \n",
    "- Viability probably decreased by accumulation of toxic geraniol due to G8H knockout (see figure below) \n",
    "- I can't tell by any geraniol smell whether the knockout worked. \n",
    "\n",
    "Next step:\n",
    "- Genotype all colonies on plate # 1. \n",
    "- If the plate#1 colonies are not correct we may switch to MIA-CH-A2. What do you think?"
   ]
  },
  {
   "cell_type": "code",
   "execution_count": null,
   "metadata": {},
   "outputs": [],
   "source": [
    "# Strictosidine module\n",
    "IPython.core.display.Image(utils.figures / 'Pathway.png', width=800)"
   ]
  },
  {
   "cell_type": "markdown",
   "metadata": {},
   "source": [
    "## Genotyping"
   ]
  },
  {
   "cell_type": "markdown",
   "metadata": {},
   "source": [
    "1. Pick 3 colonies from plate#1 and 1 colony from plate#5 \n",
    "2. Yeast DNA extraction for PCR\n",
    "3. Colony PCR"
   ]
  },
  {
   "cell_type": "markdown",
   "metadata": {},
   "source": [
    "Protocol for HT Yeast DNA extraction for PCR"
   ]
  },
  {
   "cell_type": "code",
   "execution_count": null,
   "metadata": {},
   "outputs": [],
   "source": [
    "IPython.display.FileLink('../references/methods.ipynb')"
   ]
  },
  {
   "cell_type": "markdown",
   "metadata": {},
   "source": [
    "### 3. Colony PCR reactions"
   ]
  },
  {
   "cell_type": "code",
   "execution_count": null,
   "metadata": {},
   "outputs": [],
   "source": [
    "sys.path.append('../constrain/lims')\n",
    "\n",
    "from benchling_api import from_benchling"
   ]
  },
  {
   "cell_type": "markdown",
   "metadata": {},
   "source": [
    "CroG8H"
   ]
  },
  {
   "cell_type": "code",
   "execution_count": null,
   "metadata": {},
   "outputs": [],
   "source": [
    "CM3.features"
   ]
  },
  {
   "cell_type": "code",
   "execution_count": null,
   "metadata": {},
   "outputs": [],
   "source": [
    "X_3_up_out_sq = from_benchling(\"X-3-up-out-sq\", 'Primer')\n",
    "pPGK1_Seq_Rv = from_benchling(\"pPGK1_Seq_Rv\", 'Primer')\n",
    "pTDH3_Seq_Rv = from_benchling(\"pTDH3_Seq_Rv\", 'Primer')"
   ]
  },
  {
   "cell_type": "code",
   "execution_count": null,
   "metadata": {},
   "outputs": [],
   "source": [
    "X_3_up_out_sq = from_benchling(\"PR_BII_01_B2 (X-3-up-out-sq)\", 'Primer')\n",
    "pPGK1_Seq_Rv = from_benchling(\"pPGK1_Seq_Rv\", 'Primer')\n",
    "pTDH3_Seq_Rv = from_benchling(\"PR_BII_02_E2 (pTDH3_Seq_Rv)\", 'Primer')\n",
    "\n",
    "\n"
   ]
  },
  {
   "cell_type": "code",
   "execution_count": null,
   "metadata": {},
   "outputs": [],
   "source": [
    "CM3.annotations['location'] = \"unknown\"\n",
    "X_3 = utils.extract_sites([\"X-3\"], [CM3],[\"X-3\"])[0]"
   ]
  },
  {
   "cell_type": "code",
   "execution_count": null,
   "metadata": {},
   "outputs": [],
   "source": [
    "X_3.annotations['batches'] = []\n",
    "X_3.annotations['batches'].append({'location': 'l4_A01'})"
   ]
  },
  {
   "cell_type": "markdown",
   "metadata": {},
   "source": [
    "CroCPR"
   ]
  },
  {
   "cell_type": "code",
   "execution_count": null,
   "metadata": {},
   "outputs": [],
   "source": [
    "outside_XI_3_ie_911 = utils.from_benchling(\"outside_XI-3_ie_911\", 'Primer')\n",
    "outside_XI_3_ie_912 = utils.from_benchling(\"outside_XI-3_ie_912\", 'Primer')\n",
    "CroCPR_U_Rv = utils.from_benchling(\"CroCPR_U_Rv\", 'Primer')"
   ]
  },
  {
   "cell_type": "code",
   "execution_count": null,
   "metadata": {},
   "outputs": [],
   "source": [
    "CM3.annotations['location'] = \"unknown\"\n",
    "XI_3 = utils.extract_sites([\"XI-3\"], [CM3],[\"XI-3\"])[0]\n",
    "XI_3.annotations['batches'] = []\n",
    "XI_3.annotations['batches'].append({'location': 'l4_A01'})"
   ]
  },
  {
   "cell_type": "code",
   "execution_count": null,
   "metadata": {},
   "outputs": [],
   "source": [
    "# Trick to accomodate 3 primer PCR reactions\n",
    "X_3_up_out_sq.annotations['batches'][0]['location']='o3_F06, PR_07_A3'\n",
    "pTDH3_Seq_Rv.annotations['batches'][0]['location']='o3_F06, PR_07_A3'\n",
    "outside_XI_3_ie_912.annotations['batches'][0]['location']='o3_D05, PR_05_A6'\n",
    "CroCPR_U_Rv.annotations['batches'][0]['location']='o3_D05, PR_05_A6'"
   ]
  },
  {
   "cell_type": "code",
   "execution_count": null,
   "metadata": {},
   "outputs": [],
   "source": [
    "G8H_1_1     = pydna.amplify.pcr(X_3_up_out_sq, pPGK1_Seq_Rv, HA1) #  G8H_ko_band\n",
    "G8H_1_2     = pydna.amplify.pcr(X_3_up_out_sq, pPGK1_Seq_Rv, HA1) #  G8H_ko_band\n",
    "G8H_1_3     = pydna.amplify.pcr(X_3_up_out_sq, pPGK1_Seq_Rv, HA1) #  G8H_ko_band\n",
    "CPR_1_1     = pydna.amplify.pcr(outside_XI_3_ie_911, outside_XI_3_ie_912, HA1) # = CPR_ko_band\n",
    "CPR_1_2     = pydna.amplify.pcr(outside_XI_3_ie_911, outside_XI_3_ie_912, HA1) # = CPR_ko_band\n",
    "CPR_1_3     = pydna.amplify.pcr(outside_XI_3_ie_911, outside_XI_3_ie_912, HA1) # = CPR_ko_band\n",
    "nCtrG8H_5_1 = pydna.amplify.pcr(pTDH3_Seq_Rv, pPGK1_Seq_Rv, X_3) # G8H_no_ko_band\n",
    "nCtrCPR_5_1 = pydna.amplify.pcr(outside_XI_3_ie_911, CroCPR_U_Rv, XI_3) # = CPR_no_ko_band "
   ]
  },
  {
   "cell_type": "code",
   "execution_count": null,
   "metadata": {},
   "outputs": [],
   "source": [
    "col_nos   = [1,2,3,1,2,3,1,1]\n",
    "plate_nos = [1,1,1,1,1,1,5,5]\n",
    "templates = [str(p_no) + \"_\" + str(c_no) for p_no, c_no in zip(plate_nos,col_nos)]"
   ]
  },
  {
   "cell_type": "code",
   "execution_count": null,
   "metadata": {},
   "outputs": [],
   "source": [
    "descriptions = [\"G8HKoBand\"] * 3 + [\"CPRKoBand\"] * 3 + ['G8HnoKoBand'] + ['CPRnoKoBand']"
   ]
  },
  {
   "cell_type": "code",
   "execution_count": null,
   "metadata": {},
   "outputs": [],
   "source": [
    "bands = [G8H_1_1, G8H_1_2, G8H_1_3, CPR_1_1, CPR_1_2, CPR_1_3] + [nCtrG8H_5_1, nCtrCPR_5_1]"
   ]
  },
  {
   "cell_type": "code",
   "execution_count": null,
   "metadata": {},
   "outputs": [],
   "source": [
    "for band, desc, temp in zip(bands,descriptions, templates):\n",
    "    band.name = desc + \"-\" + temp\n",
    "    band.annotations['batches'] = [{'location':''}]\n",
    "    band.annotations['template_location'] = temp"
   ]
  },
  {
   "cell_type": "markdown",
   "metadata": {},
   "source": [
    "Explanation:\n",
    "\n",
    "| | name | Template |\n",
    "|---|---|---|\n",
    "|#|name-template|colony # Y from 2021-02-02 plate # X, X_Y|"
   ]
  },
  {
   "cell_type": "code",
   "execution_count": null,
   "metadata": {},
   "outputs": [],
   "source": [
    "#for band in bands:\n",
    "#    print(type(band.template.annotations['batches'][0]))"
   ]
  },
  {
   "cell_type": "code",
   "execution_count": null,
   "metadata": {},
   "outputs": [],
   "source": [
    "utils.pcr_locations1(bands)"
   ]
  },
  {
   "cell_type": "markdown",
   "metadata": {},
   "source": [
    "PCR\n",
    "- Polymerase: Onetaq (1min / kb) \n",
    "- Program: Touchdown\n",
    "- Elongation time: 1.5 min\n",
    "- Annealing temp 52/46"
   ]
  },
  {
   "cell_type": "code",
   "execution_count": null,
   "metadata": {},
   "outputs": [],
   "source": [
    "utils.volumes(vol_p_reac = 20, \n",
    "        no_of_reactions = len(bands) + 1,\n",
    "        standard_reagents = [\"Template\", \"Primer 1\", \"Primer 2\", \"H20\", \"Pol\"],\n",
    "        standard_volumes = [2.5, 2.5, 2.5, 19, 25])"
   ]
  },
  {
   "cell_type": "code",
   "execution_count": null,
   "metadata": {},
   "outputs": [],
   "source": [
    "pydna.gel.gel([pydna.ladders.PennStateLadder,*[[band] for band in bands]]) #GeneRuler_1kb_"
   ]
  },
  {
   "cell_type": "markdown",
   "metadata": {},
   "source": [
    "Actual gel"
   ]
  },
  {
   "cell_type": "code",
   "execution_count": null,
   "metadata": {},
   "outputs": [],
   "source": []
  },
  {
   "cell_type": "code",
   "execution_count": null,
   "metadata": {},
   "outputs": [],
   "source": [
    "IPython.core.display.Image(utils.bioimager / '2021-02-09 PCR_edited.jpg', width=300)"
   ]
  },
  {
   "cell_type": "markdown",
   "metadata": {},
   "source": [
    "Colony no. 1 has CPR knockout band. CPR gRNA + repair template worked!.\n",
    "Colony no. 4 has CPR noknockout band. \n",
    "\n",
    "No G8H bands. Why didn't G8H produce band for colony no.4 (well no. 7; negative control)?\n",
    "\n",
    "Troubleshooting.\n",
    "- template, polymerase, elongation time all worked for CPR\n",
    "\n",
    "- Primers\n",
    "    - primers sequences? \n",
    "        - Jie shown they work in MIA-CH-A2.\n",
    "        - Redilute from stock!\n",
    "- Program\n",
    "    - primer annealing temperature?\n",
    "        - 46/47 C (NEB). No unspecific bands. Decrease to 50/44\n",
    "    - elongation time\n",
    "        - Unlikely problem that 1.5 shouldn't work while 1.4 kb CPR band worked. But increase to 1:45 to make sure\n",
    "- Template\n",
    "    - Clear gDNA bands for all wells. Lower template volume to 0.4.\n",
    "    - Try MIA-CM-3 gDNA from Beata. If works primers and program are off suspicion and only templates are in.\n",
    "\n",
    "Additional comments:\n",
    "- Run gel 5 min shorter time (~ 25 min) to lighten ~ 500 bp part of gel."
   ]
  },
  {
   "cell_type": "code",
   "execution_count": null,
   "metadata": {},
   "outputs": [],
   "source": [
    "nCtrG8H_Beata = pydna.amplify.pcr(pTDH3_Seq_Rv, pPGK1_Seq_Rv, X_3) # G8H_no_ko_band\n",
    "nCtrG8H_Beata.name = \"G8HnoKoBand\" + \"-\" + \"MIA-CM-3_Beata\"\n",
    "nCtrG8H_Beata.annotations['batches'] = [{'location':''}]\n",
    "nCtrG8H_Beata.annotations['template_location'] = \"MIA-CM-3_Beata\""
   ]
  },
  {
   "cell_type": "code",
   "execution_count": null,
   "metadata": {},
   "outputs": [],
   "source": [
    "troubleshooting_bands = [G8H_1_1, G8H_1_2, G8H_1_3] + [nCtrG8H_5_1] + [nCtrG8H_Beata]\n",
    "troubleshooting_bands"
   ]
  },
  {
   "cell_type": "code",
   "execution_count": null,
   "metadata": {},
   "outputs": [],
   "source": [
    "utils.pcr_locations1(troubleshooting_bands)"
   ]
  },
  {
   "cell_type": "markdown",
   "metadata": {},
   "source": [
    "PCR\n",
    "- Polymerase: Onetaq (1min / kb) \n",
    "- Program: Touchdown\n",
    "- Elongation time: 2 min\n",
    "- Annealing temp 50/46"
   ]
  },
  {
   "cell_type": "code",
   "execution_count": null,
   "metadata": {},
   "outputs": [],
   "source": [
    "utils.volumes(vol_p_reac = 20, \n",
    "        no_of_reactions = len(troubleshooting_bands) + 1,\n",
    "        standard_reagents = [\"Template\", \"Primer 1\", \"Primer 2\", \"H20\", \"Pol\"],\n",
    "        standard_volumes = [1, 2.5, 2.5, 19, 25])"
   ]
  },
  {
   "cell_type": "code",
   "execution_count": null,
   "metadata": {},
   "outputs": [],
   "source": [
    "pydna.gel.gel([pydna.ladders.PennStateLadder,*[[band] for band in troubleshooting_bands]]) #GeneRuler_1kb_"
   ]
  },
  {
   "cell_type": "markdown",
   "metadata": {},
   "source": [
    "Actual gel"
   ]
  },
  {
   "cell_type": "code",
   "execution_count": null,
   "metadata": {},
   "outputs": [],
   "source": [
    "IPython.core.display.Image(bioimager / '2021-02-10 ColPCR.jpg', width=300)"
   ]
  },
  {
   "cell_type": "markdown",
   "metadata": {},
   "source": [
    "Observations:\n",
    "- The G8H colony PCR is working\n",
    "- Colony no. 4 and MIA-CM-3 gDNA from Beata now shows negative band\n",
    "- Colony no. 3 shows weak knockout band!\n",
    "- This means that our gRNA cutting and repair also worked for the G8H site aswell as for CPR!\n",
    "- PCR still fails for colony no 1, and 2 (no \"knockout\" or \"no knockout\" bands)\n",
    "\n",
    "Troubleshooting:\n",
    "- primers, polymerase, program works\n",
    "\n",
    "- template\n",
    "    - Likely the problem. Improve template quality by reinoculating and using thermo fisher yeast dna extraction kit\n",
    "    \n",
    "- If too little repair template was added the strain may looped out the entire integration site in which case the primers can't bind and no band would be observed.\n",
    "    - unlikely to happen for both integration sites\n",
    "\n",
    "The combined results for our two colony PCR's are the following .\n",
    "For colony #:\n",
    "1. One CPR \"knockout band\"\n",
    "3. One G8H \"knockout band\"\n",
    "4. (Background strain i.e. ctrl) One G8H and one CPR \"no knockout band\".\n",
    "- None of the three colonies has been confirmed to have \"incorrect\" genotype\n",
    "\n",
    "Next steps:\n",
    "1. Inoculate 6 colonies from plate # 1 (1-3 (the ones already used) + 3 colonies (hidden on the edge of the plate)) in 5 ml YPD\n",
    "2. gDNA prep cultures using thermo fisher yeast dna extraction kit (and glycerol stock as you suggested)\n",
    "3. Redo colony PCR with improved template quality and hopefully see all bands."
   ]
  },
  {
   "cell_type": "markdown",
   "metadata": {},
   "source": [
    "Protocol for thermo fisher yeast dna extraction kit"
   ]
  },
  {
   "cell_type": "code",
   "execution_count": null,
   "metadata": {},
   "outputs": [],
   "source": [
    "IPython.display.FileLink('../references/MAN0011405_Yeast_DNA_Extract_Kit_UG.pdf')"
   ]
  },
  {
   "cell_type": "code",
   "execution_count": null,
   "metadata": {},
   "outputs": [],
   "source": [
    "G8H_1_4     = pydna.amplify.pcr(X_3_up_out_sq, pPGK1_Seq_Rv, HA1) #  G8H_ko_band\n",
    "G8H_1_5     = pydna.amplify.pcr(X_3_up_out_sq, pPGK1_Seq_Rv, HA1) #  G8H_ko_band\n",
    "G8H_1_6     = pydna.amplify.pcr(X_3_up_out_sq, pPGK1_Seq_Rv, HA1) #  G8H_ko_band\n",
    "CPR_1_4     = pydna.amplify.pcr(outside_XI_3_ie_911, outside_XI_3_ie_912, HA1) # = CPR_ko_band\n",
    "CPR_1_5     = pydna.amplify.pcr(outside_XI_3_ie_911, outside_XI_3_ie_912, HA1) # = CPR_ko_band\n",
    "CPR_1_6     = pydna.amplify.pcr(outside_XI_3_ie_911, outside_XI_3_ie_912, HA1) # = CPR_ko_band\n",
    "nCtrG8H_5_1 = pydna.amplify.pcr(pTDH3_Seq_Rv, pPGK1_Seq_Rv, X_3) # G8H_no_ko_band\n",
    "nCtrCPR_5_1 = pydna.amplify.pcr(outside_XI_3_ie_911, CroCPR_U_Rv, XI_3) # = CPR_no_ko_band "
   ]
  },
  {
   "cell_type": "code",
   "execution_count": null,
   "metadata": {},
   "outputs": [],
   "source": [
    "col_nos   = [1,2,3,4,5,6,1,2,3,4,5,6,1,1]\n",
    "plate_nos = [1,1,1,1,1,1, 1,1,1,1,1,1,5,5]\n",
    "templates = [str(p_no) + \"_\" + str(c_no) for p_no, c_no in zip(plate_nos,col_nos)]"
   ]
  },
  {
   "cell_type": "code",
   "execution_count": null,
   "metadata": {},
   "outputs": [],
   "source": [
    "descriptions = [\"G8HKoBand\"] * 6 + [\"CPRKoBand\"] * 6 + ['G8HnoKoBand'] + ['CPRnoKoBand']"
   ]
  },
  {
   "cell_type": "code",
   "execution_count": null,
   "metadata": {},
   "outputs": [],
   "source": [
    "bands = [G8H_1_1, G8H_1_2, G8H_1_3, G8H_1_4, G8H_1_5, G8H_1_6, CPR_1_1, CPR_1_2, CPR_1_3, CPR_1_4, CPR_1_5, CPR_1_6] + [nCtrG8H_5_1, nCtrCPR_5_1]"
   ]
  },
  {
   "cell_type": "code",
   "execution_count": null,
   "metadata": {},
   "outputs": [],
   "source": [
    "for band, desc, temp in zip(bands,descriptions, templates):\n",
    "    band.name = desc + \"-\" + temp\n",
    "    band.annotations['batches'] = [{'location':''}]\n",
    "    band.annotations['template_location'] = temp"
   ]
  },
  {
   "cell_type": "code",
   "execution_count": null,
   "metadata": {},
   "outputs": [],
   "source": [
    "bands"
   ]
  },
  {
   "cell_type": "code",
   "execution_count": null,
   "metadata": {},
   "outputs": [],
   "source": [
    "utils.pcr_locations1(bands)"
   ]
  },
  {
   "cell_type": "markdown",
   "metadata": {},
   "source": [
    "PCR settings same as last"
   ]
  },
  {
   "cell_type": "markdown",
   "metadata": {},
   "source": [
    "Make 2 x 8 reaction mastermix"
   ]
  },
  {
   "cell_type": "code",
   "execution_count": null,
   "metadata": {},
   "outputs": [],
   "source": [
    "utils.volumes(vol_p_reac = 20, \n",
    "        no_of_reactions = len(bands)/2 + 1,\n",
    "        standard_reagents = [\"Template\", \"Primer 1\", \"Primer 2\", \"H20\", \"Pol\"],\n",
    "        standard_volumes = [1, 2.5, 2.5, 19, 25])"
   ]
  },
  {
   "cell_type": "code",
   "execution_count": null,
   "metadata": {},
   "outputs": [],
   "source": [
    "pydna.gel.gel([pydna.ladders.PennStateLadder,*[[band] for band in bands]]) #GeneRuler_1kb_"
   ]
  },
  {
   "cell_type": "markdown",
   "metadata": {},
   "source": [
    "Actual gel"
   ]
  },
  {
   "cell_type": "code",
   "execution_count": null,
   "metadata": {},
   "outputs": [],
   "source": [
    "IPython.core.display.Image(utils.bioimager / '2021-02-12 ColPCR.jpg', width=600)"
   ]
  },
  {
   "cell_type": "markdown",
   "metadata": {},
   "source": [
    "For plate # 1:\n",
    "- colony # 1-3 has correct G8H knockout. \n",
    "- colony # 1 and 3 has correct CPR knockout\n",
    "- colony # 1 and 3 have the correct genotype!\n",
    "\n",
    "Next:\n",
    "- Use colony # 3"
   ]
  },
  {
   "cell_type": "markdown",
   "metadata": {},
   "source": [
    "Exporting notebook (hiding code cells)"
   ]
  },
  {
   "cell_type": "code",
   "execution_count": null,
   "metadata": {},
   "outputs": [],
   "source": [
    "#!jupyter nbconvert ./03-SDP-Background_strain.ipynb --to=html --TemplateExporter.exclude_input=True"
   ]
  },
  {
   "cell_type": "code",
   "execution_count": null,
   "metadata": {},
   "outputs": [],
   "source": []
  },
  {
   "cell_type": "code",
   "execution_count": null,
   "metadata": {},
   "outputs": [],
   "source": []
  }
 ],
 "metadata": {
  "kernelspec": {
   "display_name": "Python 3 (ipykernel)",
   "language": "python",
   "name": "python3"
  },
  "language_info": {
   "codemirror_mode": {
    "name": "ipython",
    "version": 3
   },
   "file_extension": ".py",
   "mimetype": "text/x-python",
   "name": "python",
   "nbconvert_exporter": "python",
   "pygments_lexer": "ipython3",
   "version": "3.8.13"
  }
 },
 "nbformat": 4,
 "nbformat_minor": 4
}
