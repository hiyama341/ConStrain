{
 "cells": [
  {
   "cell_type": "code",
   "execution_count": 1,
   "id": "bca4648f-79f2-458c-afe5-77d7cf3359af",
   "metadata": {},
   "outputs": [],
   "source": [
    "import os\n",
    "import pathlib\n",
    "import itertools\n",
    "import string\n",
    "import numpy as np\n",
    "import pandas as pd\n",
    "\n",
    "# for plotting\n",
    "import matplotlib.pyplot as plt\n",
    "plt.style.use('seaborn-whitegrid')\n",
    "\n",
    "''' This part of the lab module is used for making transformations\n",
    "\n",
    "\n",
    "HELPER FUNCTIONS: \n",
    "-----------------\n",
    "ng_to_nmol\n",
    "ODtime\n",
    "time_to_inculate\n",
    "\n",
    "\n",
    "'''\n",
    "# Helper functions\n",
    "def ng_to_nmol(ng, bp):\n",
    "\n",
    "    ''' To do a transformation it is important to have the right ratio of plasmid to insert.\n",
    "        In other words this is done by calculating the nanomolar ratios and this tool can do that\n",
    "\n",
    "        parm: ng        eg. nanogram\n",
    "        param: bp       eg. basepairs\n",
    "\n",
    "        nmol = ng/(bp*650)\n",
    "    '''\n",
    "    if ng > 0 and bp > 0: \n",
    "        return ng/(bp*650)\n",
    "    else: \n",
    "        return 'non-valid_input'\n",
    "\n",
    "def ODtime(initialOD: float, time: float, td: float = 0.5):\n",
    "    \"\"\"\n",
    "    - initialOD in OD\n",
    "    - time in hours\n",
    "    - doupling time : td in h^-1\n",
    "    \"\"\"\n",
    "    if initialOD >= 0 and time >= 0: \n",
    "        return round(initialOD*2**(time*td),3)\n",
    "    else:\n",
    "        return 'non-valid_input'\n",
    "\n",
    "\n",
    "def time_to_inculate(initialOD = 0.0025, td=0.4, verbose=False, transformation_time:int = 12):\n",
    "\n",
    "    '''\n",
    "    Input:\n",
    "\n",
    "    param: initialOD in OD\n",
    "    param: td is doubling time \n",
    "    param: transformations time is given as the time you want to transform\n",
    "    param: verbose : Provides extra information \n",
    "\n",
    "\n",
    "    Returns:\n",
    "    A plot of cell growth at different td\n",
    "    Note: This is used to calculate when the cells should be used for transformation\n",
    "\n",
    "    # OD 1 = 1 * 10^7 cells / ml\n",
    "    For a succesfull S.cerevisiae transformation between 1 to 2 × 10^7 cells/ml should be used\n",
    "    Normal doupling time is between 3-6 hours\n",
    "\n",
    "\n",
    "    '''\n",
    "    if verbose:\n",
    "        print(\"GOAL: to get enough cells in exponential phase for transformation\")\n",
    "    print(\"Assumed that: \")\n",
    "    print(\"- transformation time \" +str(transformation_time)  +\" (reached OD=1 the day after)\")\n",
    "\n",
    "\n",
    "    times = list(range(0, 37))\n",
    "    ods_025_3     = [ODtime(initialOD,time, td=0.3) for time in times]\n",
    "    ods_025_input = [ODtime(initialOD,time, td=td) for time in times]\n",
    "    ods_025_5     = [ODtime(initialOD,time, td=0.5) for time in times]\n",
    "    fig = plt.figure()\n",
    "    ax = plt.axes()\n",
    "\n",
    "    #ax.set_xlim(lims)\n",
    "    ax.set_ylim([0, 2.2])\n",
    "    ax.plot(times, [2] * len(times), 'r-', label='end of exponential phase')\n",
    "    ax.plot(times, [1] * len(times), 'k-', label='target')\n",
    "    ax.plot(times, ods_025_3    , label='iOD='+str(initialOD)+', td=0.3');\n",
    "    ax.plot(times, ods_025_input, label='iOD='+str(initialOD)+', td=' + str(td));\n",
    "    ax.plot(times, ods_025_5    , label='iOD='+str(initialOD)+', td=0.5');\n",
    "\n",
    "    plt.xlabel('time, h^-1')\n",
    "    plt.ylabel('OD')\n",
    "    plt.legend()\n",
    "    plt.show()\n",
    "\n",
    "\n",
    "    def inoculation_time(times,ods):\n",
    "\n",
    "        def find_closest(A, target):\n",
    "            #A must be sorted\n",
    "            idx = A.searchsorted(target)\n",
    "            idx = np.clip(idx, 1, len(A)-1)\n",
    "            left = A[idx-1]\n",
    "            right = A[idx]\n",
    "            idx -= target - left < right - target\n",
    "            return idx\n",
    "        \n",
    "        \n",
    "        # In how many hours will the cells have reached OD 1?\n",
    "        hours_to_OD1 = times[find_closest(np.array(ods), 1)]\n",
    "        print(\"Hours to OD = 1: \\t\" + str(hours_to_OD1)+ \" hours\")\n",
    "        \n",
    "        ### When do u need to innoculate?\n",
    "        when_to_inoculate = 11+24 - hours_to_OD1\n",
    "        print(\"Time of inoculation: \\t\" + str(when_to_inoculate) + \"(the day before)\")\n",
    "        \n",
    "        # If i innoculate now? \n",
    "        from datetime import datetime, timedelta, time\n",
    "        print('\\nIf you innoculate now, the cells will have reached OD= 1 by:  ', datetime.now()  + timedelta(hours=hours_to_OD1))\n",
    "        \n",
    "    inoculation_time(times,ods_025_input)\n",
    "\n",
    "    \n",
    "    if verbose:\n",
    "        print()\n",
    "        print(\"How to hit initialOD = 0.0025 (e.g. from colony)? Guess. Inoculate 9/10 + 1/10 'normal' colony per ~10 ml\")\n",
    "        print(\"How much volume? ~2 ml per transformation\")\n"
   ]
  },
  {
   "cell_type": "code",
   "execution_count": 2,
   "id": "8e4fee22-d1b7-4c79-a53a-90644fc43906",
   "metadata": {},
   "outputs": [
    {
     "name": "stdout",
     "output_type": "stream",
     "text": [
      "Assumed that: \n",
      "- transformation time 12 (reached OD=1 the day after)\n"
     ]
    },
    {
     "data": {
      "image/png": "[encoded data removed]",
      "text/plain": [
       "<Figure size 432x288 with 1 Axes>"
      ]
     },
     "metadata": {},
     "output_type": "display_data"
    },
    {
     "name": "stdout",
     "output_type": "stream",
     "text": [
      "Hours to OD = 1: \t22 hours\n",
      "Time of inoculation: \t13(the day before)\n",
      "\n",
      "If you innoculate now, the cells will have reached OD= 1 by:   2022-05-31 14:46:32.400703\n"
     ]
    }
   ],
   "source": [
    "time_to_inculate(initialOD = 0.0025, td=0.4, transformation_time = 12, verbose= False)"
   ]
  },
  {
   "cell_type": "code",
   "execution_count": 3,
   "id": "a7a36fcb-a13f-421f-9a6c-c3208911e44a",
   "metadata": {},
   "outputs": [],
   "source": [
    "#!/usr/bin/env python\n",
    "# standard libraries\n",
    "import os\n",
    "import pathlib\n",
    "import itertools\n",
    "import string\n",
    "import numpy as np\n",
    "import pandas as pd\n",
    "import pydna\n",
    "import math\n",
    "import pathlib\n",
    "import textwrap as _textwrap\n",
    "from pydna._pretty import pretty_str as _pretty_str\n",
    "import csv\n",
    "\n",
    "\n",
    "''' This part of the lab module is used for PCRs\n",
    "\n",
    "HELPER FUNCTIONS: \n",
    "-----------------\n",
    "pcr_volumes (formerly known as volumes)\n",
    "det_proc_speed\n",
    "det_elon_time\n",
    "PCR_program\n",
    "det_no_of_thermal_cyclers\n",
    "pcr_locations1\n",
    "transf_locations1\n",
    "\n",
    "'''\n",
    "\n",
    "def grouper(iterable, max_diff):\n",
    "    prev = None\n",
    "    group = []\n",
    "    for item in iterable:\n",
    "        if not prev or item - prev <= max_diff:\n",
    "            group.append(item)\n",
    "        else:\n",
    "            yield group\n",
    "            group = [item]\n",
    "        prev = item\n",
    "    if group:\n",
    "        yield group\n",
    "\n",
    "\n",
    "def pcr_volumes(vol_p_reac=10, no_of_reactions = 1, standard_reagents = [], standard_volumes = []):\n",
    "\n",
    "    ''' Can make a reaction scheme for PCR master mixes such as:\n",
    "\n",
    "        3-reactions:\n",
    "        -----------------------\n",
    "    \t               vol_p_reac\tvol_p_3_reac\n",
    "        Template       \t 1.0\t        3.0\n",
    "        Primer 1\t     2.5\t        7.5\n",
    "        Primer 2\t     2.5\t        7.5\n",
    "        H20\t             19.0\t        57.0\n",
    "        MM\t             25.0\t        75.0\n",
    "        Total\t         50.0         \t150.0\n",
    "        -----------------------\n",
    "\n",
    "        If this is used as input:\n",
    "        ------------------------\n",
    "        (vol_p_reac = 10,\n",
    "        no_of_reactions = 6,\n",
    "        standard_reagents = [\"DNA\",\"Buffer, Cutsmart\",\"H20\",\"Enz, USER\"],\n",
    "        standard_volumes = [1,1,7,1])\n",
    "\n",
    "        The following reaction scheme will be made:\n",
    "        -------------------------\n",
    "                        vol_p_reac\tvol_p_x_reac\n",
    "        DNA\t                1.0\t        6.0\n",
    "        Buffer, Cutsmart\t1.0\t        6.0\n",
    "        H20\t                7.0\t        42.0\n",
    "        Enz, USER\t        1.0\t        6.0\n",
    "        Total\t            10.0      \t60.0\n",
    "        -------------------------\n",
    "\n",
    "\n",
    "        '''\n",
    "    standard_total_volume = float(sum(standard_volumes))\n",
    "    volumes_p_x = [float(val)/standard_total_volume*float(vol_p_reac) for val in standard_volumes]\n",
    "    volumes_p_x_p_y_reactions = [val*no_of_reactions for val in volumes_p_x]\n",
    "    volumes_p_x_p_y_reactions\n",
    "\n",
    "    volumes_p_x_plus_total = volumes_p_x + [sum(volumes_p_x)]\n",
    "    volumes_p_x_p_y_reactions_plus_total = volumes_p_x_p_y_reactions + [sum(volumes_p_x_p_y_reactions)]\n",
    "    reagents_plus_total = standard_reagents + ['Total']\n",
    "\n",
    "    volumes_df  = pd.DataFrame(data =  {'vol_p_reac': volumes_p_x_plus_total,\n",
    "                                        'vol_p_'+str(no_of_reactions)+'_reac': volumes_p_x_p_y_reactions_plus_total},\n",
    "                               index  = reagents_plus_total)\n",
    "    return(volumes_df)\n"
   ]
  },
  {
   "cell_type": "code",
   "execution_count": 4,
   "id": "a33a3183-802f-4eed-907b-ef48ebdf45dd",
   "metadata": {},
   "outputs": [
    {
     "data": {
      "text/html": [
       "<div>\n",
       "<style scoped>\n",
       "    .dataframe tbody tr th:only-of-type {\n",
       "        vertical-align: middle;\n",
       "    }\n",
       "\n",
       "    .dataframe tbody tr th {\n",
       "        vertical-align: top;\n",
       "    }\n",
       "\n",
       "    .dataframe thead th {\n",
       "        text-align: right;\n",
       "    }\n",
       "</style>\n",
       "<table border=\"1\" class=\"dataframe\">\n",
       "  <thead>\n",
       "    <tr style=\"text-align: right;\">\n",
       "      <th></th>\n",
       "      <th>vol_p_reac</th>\n",
       "      <th>vol_p_6_reac</th>\n",
       "    </tr>\n",
       "  </thead>\n",
       "  <tbody>\n",
       "    <tr>\n",
       "      <th>DNA</th>\n",
       "      <td>1.0</td>\n",
       "      <td>6.0</td>\n",
       "    </tr>\n",
       "    <tr>\n",
       "      <th>Buffer, Cutsmart</th>\n",
       "      <td>1.0</td>\n",
       "      <td>6.0</td>\n",
       "    </tr>\n",
       "    <tr>\n",
       "      <th>H20</th>\n",
       "      <td>7.0</td>\n",
       "      <td>42.0</td>\n",
       "    </tr>\n",
       "    <tr>\n",
       "      <th>Enz, USER</th>\n",
       "      <td>1.0</td>\n",
       "      <td>6.0</td>\n",
       "    </tr>\n",
       "    <tr>\n",
       "      <th>Total</th>\n",
       "      <td>10.0</td>\n",
       "      <td>60.0</td>\n",
       "    </tr>\n",
       "  </tbody>\n",
       "</table>\n",
       "</div>"
      ],
      "text/plain": [
       "                  vol_p_reac  vol_p_6_reac\n",
       "DNA                      1.0           6.0\n",
       "Buffer, Cutsmart         1.0           6.0\n",
       "H20                      7.0          42.0\n",
       "Enz, USER                1.0           6.0\n",
       "Total                   10.0          60.0"
      ]
     },
     "execution_count": 4,
     "metadata": {},
     "output_type": "execute_result"
    }
   ],
   "source": [
    "\n",
    "vol_p_reac = 10.0\n",
    "\n",
    "no_of_reactions = 6\n",
    "standard_reagents = [\"DNA\",\"Buffer, Cutsmart\",\"H20\",\"Enz, USER\"]\n",
    "standard_volumes = [1,1,7,1]\n",
    "\n",
    "pcr_reaction_df = pcr_volumes(vol_p_reac,no_of_reactions ,standard_reagents, standard_volumes)\n",
    "\n",
    "pcr_reaction_df"
   ]
  },
  {
   "cell_type": "code",
   "execution_count": 5,
   "id": "ed8b8cc9-6306-4cc8-8b8a-35fc8e8b774c",
   "metadata": {},
   "outputs": [
    {
     "data": {
      "text/plain": [
       "{'vol_p_reac': {'DNA': 1.0,\n",
       "  'Buffer, Cutsmart': 1.0,\n",
       "  'H20': 7.0,\n",
       "  'Enz, USER': 1.0,\n",
       "  'Total': 10.0},\n",
       " 'vol_p_6_reac': {'DNA': 6.0,\n",
       "  'Buffer, Cutsmart': 6.0,\n",
       "  'H20': 42.0,\n",
       "  'Enz, USER': 6.0,\n",
       "  'Total': 60.0}}"
      ]
     },
     "execution_count": 5,
     "metadata": {},
     "output_type": "execute_result"
    }
   ],
   "source": [
    "pcr_reaction_df.to_dict()"
   ]
  },
  {
   "cell_type": "code",
   "execution_count": 6,
   "id": "db36d217-c837-4558-8d86-45330599580b",
   "metadata": {},
   "outputs": [],
   "source": [
    "df_dict ={'vol_p_reac': {'DNA': 1.0,\n",
    "  'Buffer, Cutsmart': 1.0,\n",
    "  'H20': 7.0,\n",
    "  'Enz, USER': 1.0,\n",
    "  'Total': 10.0},\n",
    " 'vol_p_6_reac': {'DNA': 6.0,\n",
    "  'Buffer, Cutsmart': 6.0,\n",
    "  'H20': 42.0,\n",
    "  'Enz, USER': 6.0,\n",
    "  'Total': 60.0}}"
   ]
  },
  {
   "cell_type": "code",
   "execution_count": 7,
   "id": "408ab3eb-09a7-46fb-951e-cedc95a89439",
   "metadata": {},
   "outputs": [],
   "source": [
    "pcr_reaction_df_dict = pd.DataFrame(data =df_dict)\n",
    "\n"
   ]
  },
  {
   "cell_type": "code",
   "execution_count": 8,
   "id": "449d4436-faad-4d4c-a921-b0ab43a0dd1d",
   "metadata": {},
   "outputs": [],
   "source": [
    "#pd.testing.assert_index_equal(pcr_reaction_df_dict,pcr_reaction_df,check_names=True)"
   ]
  },
  {
   "cell_type": "code",
   "execution_count": 9,
   "id": "c9f01d37-13cc-4814-81e8-dcdbdaeb6ad5",
   "metadata": {},
   "outputs": [],
   "source": [
    "def det_proc_speed(amplicon):\n",
    "    '''\n",
    "    This function determines process speed dependent on the which polymerase is used\n",
    "    '''\n",
    "    \n",
    "    if \"proc_speed\" in amplicon.forward_primer.annotations:\n",
    "        print(\"proc_speed already set\")\n",
    "        return amplicon\n",
    "\n",
    "    # proc_speed units are seconds/kb\n",
    "    if amplicon.annotations['polymerase'] == \"OneTaq Hot Start\":\n",
    "        proc_speed = 60\n",
    "    elif amplicon.annotations['polymerase'] == \"Q5 Hot Start\":\n",
    "        proc_speed = 30\n",
    "    elif amplicon.annotations['polymerase'] == \"Phusion\":\n",
    "        proc_speed = 30\n",
    "\n",
    "    amplicon.annotations['proc_speed'] = proc_speed\n",
    "\n",
    "    return amplicon\n",
    "\n",
    "def det_elon_time(amplicon):\n",
    "\n",
    "    ''' This function determines elongation time for an amplicon\n",
    "    and add the elongation time to the amplicon annotations'''\n",
    "\n",
    "    if \"elongation_time\" in amplicon.forward_primer.annotations:\n",
    "        print(\"elongation_time already set\")\n",
    "        return amplicon\n",
    "\n",
    "    # elongation_time units are seconds\n",
    "    elongation_time = amplicon.annotations['proc_speed'] * len(amplicon)/1000\n",
    "    amplicon.annotations['elongation_time'] = math.ceil(elongation_time)\n",
    "\n",
    "    return amplicon\n",
    "\n"
   ]
  },
  {
   "cell_type": "code",
   "execution_count": 10,
   "id": "ad7eaa03-d35a-4538-86d4-bfb788f69de1",
   "metadata": {},
   "outputs": [
    {
     "name": "stdout",
     "output_type": "stream",
     "text": [
      "Dseqrecord\n",
      "circular: False\n",
      "size: 2123\n",
      "ID: 2123bp_uEC9clUhipmw1j2qRizKWJzHCHc\n",
      "Name: 2123bp_PCR_prod\n",
      "Description: pcr_product_description_<unknown description>\n",
      "Number of features: 2\n",
      "/molecule_type=DNA\n",
      "/polymerase=OneTaq Hot Start\n",
      "/proc_speed=60\n",
      "/elongation_time=128\n",
      "Dseq(-2123)\n",
      "taca..gcac\n",
      "atgt..cgtg\n"
     ]
    }
   ],
   "source": [
    "from pydna.dseqrecord import Dseqrecord\n",
    "from pydna.readers import read\n",
    "from pydna.amplify import pcr\n",
    "from pydna.primer import Primer\n",
    "from Bio.SeqRecord import SeqRecord\n",
    "    \n",
    "# initialize\n",
    "middle = 'a'*2000\n",
    "template = Dseqrecord(\"tacactcaccgtctatcattatcagcgacgaagcgagcgcgaccgcgagcgcgagcgca\"+middle+\"caggagcgagacacggcgacgcgagcgagcgagcgatactatcgactgtatcatctgatagcac\")\n",
    "p1 = Primer(\"tacactcaccgtctatcattatc\")\n",
    "p2 = Primer(\"cgactgtatcatctgatagcac\").reverse_complement()\n",
    "amplicon = pcr(p1, p2, template)\n",
    "amplicon.annotations['polymerase'] = \"OneTaq Hot Start\"\n",
    "det_proc_speed(amplicon)\n",
    "\n",
    "\n",
    "print(    det_elon_time(amplicon))"
   ]
  },
  {
   "cell_type": "code",
   "execution_count": 11,
   "id": "fd3c51d8-ae29-485e-9a10-74994a2edca4",
   "metadata": {},
   "outputs": [],
   "source": [
    "def well_keys_96(row = True):\n",
    "    '''\n",
    "    If true it generates keys for a 96 well plate by row.\n",
    "    else it does it by column\n",
    "    '''\n",
    "    key_list = 'ABCDEFGH'\n",
    "\n",
    "    if row == True:\n",
    "        wells_keys = []\n",
    "        for i in range(0,len(key_list)):\n",
    "            for j in range(1,13):\n",
    "                wells_keys.append(key_list[i]+str(j))\n",
    "\n",
    "    else:\n",
    "        wells_keys = []\n",
    "        for i in range(1,13):\n",
    "            for j in range(0,len(key_list)):\n",
    "                wells_keys.append(str(key_list[j])+str(i))\n",
    "\n",
    "    return wells_keys\n",
    "\n",
    "well_keys = well_keys_96()\n"
   ]
  },
  {
   "cell_type": "code",
   "execution_count": 12,
   "id": "79bd9ff3-a4e5-46bd-97b2-6f8e214730fb",
   "metadata": {},
   "outputs": [
    {
     "name": "stdout",
     "output_type": "stream",
     "text": [
      "['A1', 'B1', 'C1', 'D1', 'E1', 'F1', 'G1', 'H1', 'A2', 'B2', 'C2', 'D2', 'E2', 'F2', 'G2', 'H2', 'A3', 'B3', 'C3', 'D3', 'E3', 'F3', 'G3', 'H3', 'A4', 'B4', 'C4', 'D4', 'E4', 'F4', 'G4', 'H4', 'A5', 'B5', 'C5', 'D5', 'E5', 'F5', 'G5', 'H5', 'A6', 'B6', 'C6', 'D6', 'E6', 'F6', 'G6', 'H6', 'A7', 'B7', 'C7', 'D7', 'E7', 'F7', 'G7', 'H7', 'A8', 'B8', 'C8', 'D8', 'E8', 'F8', 'G8', 'H8', 'A9', 'B9', 'C9', 'D9', 'E9', 'F9', 'G9', 'H9', 'A10', 'B10', 'C10', 'D10', 'E10', 'F10', 'G10', 'H10', 'A11', 'B11', 'C11', 'D11', 'E11', 'F11', 'G11', 'H11', 'A12', 'B12', 'C12', 'D12', 'E12', 'F12', 'G12', 'H12']\n"
     ]
    }
   ],
   "source": [
    "print(well_keys_96(row = False ))"
   ]
  },
  {
   "cell_type": "code",
   "execution_count": 13,
   "id": "8bd53382-c047-499c-a9bb-ef7f4ab1ea60",
   "metadata": {},
   "outputs": [],
   "source": [
    "def make_virtual_plates_fromDF(f_primers:list, r_primers:list, templates:list, Dataframe_with_PCR_contents):\n",
    "    '''\n",
    "    THis function can make virtual plates from lists of primers and templates.\n",
    "    The Pandas DataFrame is used to calculate how much pcr and h2o is needed for the reactions.\n",
    "    '''\n",
    "\n",
    "    #initializing\n",
    "    source_plate1 = lab.Plate96(name=\"1\") # Forward primers\n",
    "    source_plate2 = lab.Plate96(name=\"2\") # Reverse primers\n",
    "    source_plate3 = lab.Plate96(name=\"3\") # Templates\n",
    "    source_plate4 = lab.Plate2x4(name=\"4\") # PCR mix and H20\n",
    "    well_keys = well_keys_96()\n",
    "    volume_needed = len(Dataframe_with_PCR_contents)+1\n",
    "\n",
    "    # Adding each primer/template to the virtual plates here a volume of 5 is arbitrarily chosen\n",
    "    for i in range(0,len(f_primers)):\n",
    "        source_plate1[well_keys[i]].add_content({f_primers[i]:1},volume= 5.0)\n",
    "    for j in range(0,len(r_primers)):\n",
    "        source_plate2[well_keys[j]].add_content({r_primers[j]:1},volume= 5.0)\n",
    "    for k in range(0,len(templates)):\n",
    "        source_plate3[well_keys[k]].add_content({templates[k]:1},volume= 5.0 )\n",
    "\n",
    "    # Adding MM and H2O to the final plate\n",
    "    source_plate4[\"A1\"].add_content({'PCR_2x_mix':10},volume = volume_needed*10)\n",
    "    source_plate4[\"A2\"].add_content({'H2O_MQ':10},volume = volume_needed*7)\n",
    "\n",
    "    return source_plate1, source_plate2, source_plate3, source_plate4"
   ]
  },
  {
   "cell_type": "code",
   "execution_count": 14,
   "id": "b4a38e81-8b09-48b5-a401-49220fa5531a",
   "metadata": {},
   "outputs": [],
   "source": [
    "import pandas as pd\n",
    "import synbiopython.lab_automation as lab\n",
    "# Read in test data\n",
    "test_data = pd.read_excel('../tests/files_for_testing/Random_PCR_list.xlsx')\n",
    "\n",
    "# Add test primers and templates\n",
    "fwd_primers = ['F0069','F0078', 'F0083','F0088','F0093','F0098','F00103','F00108']\n",
    "rev_primers = ['R00174','R00175','R00176','R00177']\n",
    "templates = ['pRPL15B']"
   ]
  },
  {
   "cell_type": "code",
   "execution_count": 15,
   "id": "0866674e-235d-42d1-ba84-c1dd82d6673c",
   "metadata": {},
   "outputs": [],
   "source": [
    "f, r, t, pcr_mix = make_virtual_plates_fromDF(fwd_primers, rev_primers, templates, test_data)"
   ]
  },
  {
   "cell_type": "code",
   "execution_count": 16,
   "id": "d3e069ed-579f-4d45-9514-878a5ab6fefa",
   "metadata": {},
   "outputs": [
    {
     "data": {
      "text/plain": [
       "synbiopython.lab_automation.containers.builtin_containers.Plate96"
      ]
     },
     "execution_count": 16,
     "metadata": {},
     "output_type": "execute_result"
    }
   ],
   "source": [
    "type(f)"
   ]
  },
  {
   "cell_type": "code",
   "execution_count": 17,
   "id": "7d086e73-f807-4d2c-8e8e-99aa70d0662b",
   "metadata": {},
   "outputs": [
    {
     "data": {
      "text/plain": [
       "'A1'"
      ]
     },
     "execution_count": 17,
     "metadata": {},
     "output_type": "execute_result"
    }
   ],
   "source": [
    "f.index_to_wellname(1)"
   ]
  },
  {
   "cell_type": "code",
   "execution_count": 18,
   "id": "70ff53b1-1a03-4cc4-8706-022d9edff085",
   "metadata": {},
   "outputs": [
    {
     "data": {
      "text/plain": [
       "96"
      ]
     },
     "execution_count": 18,
     "metadata": {},
     "output_type": "execute_result"
    }
   ],
   "source": [
    "f.num_wells"
   ]
  },
  {
   "cell_type": "code",
   "execution_count": 19,
   "id": "9524af07-628b-4ea7-bf53-9a031af4876c",
   "metadata": {},
   "outputs": [
    {
     "name": "stdout",
     "output_type": "stream",
     "text": [
      "{1: ['A1', 'B1', 'C1', 'D1', 'E1', 'F1', 'G1', 'H1'], 2: ['A2', 'B2', 'C2', 'D2', 'E2', 'F2', 'G2', 'H2'], 3: ['A3', 'B3', 'C3', 'D3', 'E3', 'F3', 'G3', 'H3'], 4: ['A4', 'B4', 'C4', 'D4', 'E4', 'F4', 'G4', 'H4'], 5: ['A5', 'B5', 'C5', 'D5', 'E5', 'F5', 'G5', 'H5'], 6: ['A6', 'B6', 'C6', 'D6', 'E6', 'F6', 'G6', 'H6'], 7: ['A7', 'B7', 'C7', 'D7', 'E7', 'F7', 'G7', 'H7'], 8: ['A8', 'B8', 'C8', 'D8', 'E8', 'F8', 'G8', 'H8'], 9: ['A9', 'B9', 'C9', 'D9', 'E9', 'F9', 'G9', 'H9'], 10: ['A10', 'B10', 'C10', 'D10', 'E10', 'F10', 'G10', 'H10'], 11: ['A11', 'B11', 'C11', 'D11', 'E11', 'F11', 'G11', 'H11'], 12: ['A12', 'B12', 'C12', 'D12', 'E12', 'F12', 'G12', 'H12']}\n"
     ]
    }
   ],
   "source": [
    "print(f.columns)"
   ]
  },
  {
   "cell_type": "code",
   "execution_count": 20,
   "id": "e8f0961b-f4a2-4986-850e-8af88fe72d12",
   "metadata": {},
   "outputs": [
    {
     "data": {
      "text/plain": [
       "'1'"
      ]
     },
     "execution_count": 20,
     "metadata": {},
     "output_type": "execute_result"
    }
   ],
   "source": [
    "f.name"
   ]
  },
  {
   "cell_type": "code",
   "execution_count": 21,
   "id": "aaf4157a-55fd-46f8-813d-99bf75001272",
   "metadata": {},
   "outputs": [
    {
     "data": {
      "text/plain": [
       "<bound method Plate.list_well_data_fields of Plate96(1)>"
      ]
     },
     "execution_count": 21,
     "metadata": {},
     "output_type": "execute_result"
    }
   ],
   "source": [
    "f.list_well_data_fields"
   ]
  },
  {
   "cell_type": "code",
   "execution_count": 22,
   "id": "c0390d51-2668-4a1c-9ff1-283d59e5fb96",
   "metadata": {},
   "outputs": [],
   "source": [
    "def picklist_from_plates(F_primer_plate, R_primer_plate, Templates_plate, MM_H20_plate, PCR_dataframe):\n",
    "    '''This function can generate picklist from virtual plates and pandas dataframe with PCR components'''\n",
    "\n",
    "    FORWARD_PRIMERS = F_primer_plate.to_pandas_dataframe()\n",
    "    REVERSE_PRIMERS = R_primer_plate.to_pandas_dataframe()\n",
    "    TEMPLATES = Templates_plate.to_pandas_dataframe()\n",
    "    MM_H2O = MM_H20_plate.to_pandas_dataframe()\n",
    "\n",
    "    destination_plate = lab.Plate96(name=\"5\")\n",
    "    picklist = lab.PickList()\n",
    "    counter = 0\n",
    "\n",
    "    # FIRST WE CHECK WICH COMPONENTS WE NEED FOR THE PCRs\n",
    "    for index,row in PCR_dataframe.iterrows():\n",
    "        templates = row['Template']\n",
    "        f_primers = row['forward_primer']\n",
    "        r_primers = row['reverse_primer']\n",
    "\n",
    "        # FORWARD PRIMERS\n",
    "        # we see if we can find the primer we need in the primer plate and if we find it we will add it to the picklist\n",
    "        for index1, row1 in FORWARD_PRIMERS.iterrows():\n",
    "            for k, v in  row1['content']['quantities'].items():\n",
    "                if k == f_primers:\n",
    "                    transfer_forward_primers = lab.Transfer(F_primer_plate.wells[index1], destination_plate.wells[well_keys[counter]], 1 )\n",
    "                    picklist.add_transfer(transfer = transfer_forward_primers)\n",
    "\n",
    "        # REVERSE PRIMERS\n",
    "        # we see if we can find the primer we need in the primer plate\n",
    "        for index2, row2 in REVERSE_PRIMERS.iterrows():\n",
    "            for k, v in row2['content']['quantities'].items():\n",
    "                if k == r_primers:\n",
    "                    transfer_reverse_primers = lab.Transfer(R_primer_plate.wells[index2], destination_plate.wells[well_keys[counter]], 1 )\n",
    "                    picklist.add_transfer(transfer = transfer_reverse_primers)\n",
    "\n",
    "        # TEMPLATE\n",
    "        # we see if we can find the primer we need in the plate\n",
    "        for index3, row3 in TEMPLATES.iterrows():\n",
    "            for k, v in row3['content']['quantities'].items():\n",
    "                if k == templates:\n",
    "                    transfer_template = lab.Transfer(Templates_plate.wells[index3], destination_plate.wells[well_keys[counter]], 1 )\n",
    "                    picklist.add_transfer(transfer = transfer_template)\n",
    "\n",
    "        # Master mix\n",
    "        transfer_MM = lab.Transfer(MM_H20_plate.wells['A1'], destination_plate.wells[well_keys[counter]], 10 )\n",
    "        picklist.add_transfer(transfer = transfer_MM)\n",
    "        #H20\n",
    "        transfer_H20 = lab.Transfer(MM_H20_plate.wells['A2'], destination_plate.wells[well_keys[counter]], 7 )\n",
    "        picklist.add_transfer(transfer = transfer_H20)\n",
    "\n",
    "        # TO MAKE SURE WE ADD TO THE CORRECT WELL\n",
    "        counter += 1\n",
    "\n",
    "    return picklist"
   ]
  },
  {
   "cell_type": "code",
   "execution_count": 23,
   "id": "53c6b0cc-b5d6-472d-940d-928520f6736d",
   "metadata": {},
   "outputs": [],
   "source": [
    "picklisten = picklist_from_plates(f, r, t, pcr_mix, test_data)"
   ]
  },
  {
   "cell_type": "code",
   "execution_count": 24,
   "id": "ba0df261-ec63-4c00-8bb4-6fdbdee8309f",
   "metadata": {},
   "outputs": [
    {
     "data": {
      "text/plain": [
       "'Transfer 1.00E+00L from 1 A1 into 5 A1'"
      ]
     },
     "execution_count": 24,
     "metadata": {},
     "output_type": "execute_result"
    }
   ],
   "source": [
    "picklisten.to_plain_string()[:38]"
   ]
  },
  {
   "cell_type": "code",
   "execution_count": 25,
   "id": "b485da24-b971-426f-8a86-9b02abfa11f6",
   "metadata": {},
   "outputs": [
    {
     "data": {
      "text/plain": [
       "'1:A1, 5:A1, 1 \\n2:A1, 5:A1, 1 \\n3:A1, 5:A1, 1 \\n4:A1, 5:A1, 10 \\n4:A2, 5:A1, 7 \\n1:A1, 5:A2, 1 \\n2:A2, 5:A2, 1 \\n3:A1, 5:A2, 1 \\n4:A1, 5:A2, 10 \\n4:A2, 5:A2, 7 \\n1:A1, 5:A3, 1 \\n2:A3, 5:A3, 1 \\n3:A1, 5:A3, 1 \\n4:A1, 5:A3, 10 \\n4:A2, 5:A3, 7 \\n1:A1, 5:A4, 1 \\n2:A4, 5:A4, 1 \\n3:A1, 5:A4, 1 \\n4:A1, 5:A4, 10 \\n4:A2, 5:A4, 7 \\n1:A2, 5:A5, 1 \\n2:A1, 5:A5, 1 \\n3:A1, 5:A5, 1 \\n4:A1, 5:A5, 10 \\n4:A2, 5:A5, 7 \\n1:A2, 5:A6, 1 \\n2:A2, 5:A6, 1 \\n3:A1, 5:A6, 1 \\n4:A1, 5:A6, 10 \\n4:A2, 5:A6, 7 \\n1:A2, 5:A7, 1 \\n2:A3, 5:A7, 1 \\n3:A1, 5:A7, 1 \\n4:A1, 5:A7, 10 \\n4:A2, 5:A7, 7 \\n1:A2, 5:A8, 1 \\n2:A4, 5:A8, 1 \\n3:A1, 5:A8, 1 \\n4:A1, 5:A8, 10 \\n4:A2, 5:A8, 7 \\n1:A3, 5:A9, 1 \\n2:A1, 5:A9, 1 \\n3:A1, 5:A9, 1 \\n4:A1, 5:A9, 10 \\n4:A2, 5:A9, 7 \\n1:A3, 5:A10, 1 \\n2:A2, 5:A10, 1 \\n3:A1, 5:A10, 1 \\n4:A1, 5:A10, 10 \\n4:A2, 5:A10, 7 \\n1:A3, 5:A11, 1 \\n2:A3, 5:A11, 1 \\n3:A1, 5:A11, 1 \\n4:A1, 5:A11, 10 \\n4:A2, 5:A11, 7 \\n1:A3, 5:A12, 1 \\n2:A4, 5:A12, 1 \\n3:A1, 5:A12, 1 \\n4:A1, 5:A12, 10 \\n4:A2, 5:A12, 7 \\n1:A4, 5:B1, 1 \\n2:A1, 5:B1, 1 \\n3:A1, 5:B1, 1 \\n4:A1, 5:B1, 10 \\n4:A2, 5:B1, 7 \\n1:A4, 5:B2, 1 \\n2:A2, 5:B2, 1 \\n3:A1, 5:B2, 1 \\n4:A1, 5:B2, 10 \\n4:A2, 5:B2, 7 \\n1:A4, 5:B3, 1 \\n2:A3, 5:B3, 1 \\n3:A1, 5:B3, 1 \\n4:A1, 5:B3, 10 \\n4:A2, 5:B3, 7 \\n1:A4, 5:B4, 1 \\n2:A4, 5:B4, 1 \\n3:A1, 5:B4, 1 \\n4:A1, 5:B4, 10 \\n4:A2, 5:B4, 7 \\n1:A5, 5:B5, 1 \\n2:A1, 5:B5, 1 \\n3:A1, 5:B5, 1 \\n4:A1, 5:B5, 10 \\n4:A2, 5:B5, 7 \\n1:A5, 5:B6, 1 \\n2:A2, 5:B6, 1 \\n3:A1, 5:B6, 1 \\n4:A1, 5:B6, 10 \\n4:A2, 5:B6, 7 \\n1:A5, 5:B7, 1 \\n2:A3, 5:B7, 1 \\n3:A1, 5:B7, 1 \\n4:A1, 5:B7, 10 \\n4:A2, 5:B7, 7 \\n1:A5, 5:B8, 1 \\n2:A4, 5:B8, 1 \\n3:A1, 5:B8, 1 \\n4:A1, 5:B8, 10 \\n4:A2, 5:B8, 7 \\n1:A6, 5:B9, 1 \\n2:A1, 5:B9, 1 \\n3:A1, 5:B9, 1 \\n4:A1, 5:B9, 10 \\n4:A2, 5:B9, 7 \\n1:A6, 5:B10, 1 \\n2:A2, 5:B10, 1 \\n3:A1, 5:B10, 1 \\n4:A1, 5:B10, 10 \\n4:A2, 5:B10, 7 \\n1:A6, 5:B11, 1 \\n2:A3, 5:B11, 1 \\n3:A1, 5:B11, 1 \\n4:A1, 5:B11, 10 \\n4:A2, 5:B11, 7 \\n1:A6, 5:B12, 1 \\n2:A4, 5:B12, 1 \\n3:A1, 5:B12, 1 \\n4:A1, 5:B12, 10 \\n4:A2, 5:B12, 7 \\n1:A7, 5:C1, 1 \\n2:A1, 5:C1, 1 \\n3:A1, 5:C1, 1 \\n4:A1, 5:C1, 10 \\n4:A2, 5:C1, 7 \\n1:A7, 5:C2, 1 \\n2:A2, 5:C2, 1 \\n3:A1, 5:C2, 1 \\n4:A1, 5:C2, 10 \\n4:A2, 5:C2, 7 \\n1:A7, 5:C3, 1 \\n2:A3, 5:C3, 1 \\n3:A1, 5:C3, 1 \\n4:A1, 5:C3, 10 \\n4:A2, 5:C3, 7 \\n1:A7, 5:C4, 1 \\n2:A4, 5:C4, 1 \\n3:A1, 5:C4, 1 \\n4:A1, 5:C4, 10 \\n4:A2, 5:C4, 7 \\n1:A8, 5:C5, 1 \\n2:A1, 5:C5, 1 \\n3:A1, 5:C5, 1 \\n4:A1, 5:C5, 10 \\n4:A2, 5:C5, 7 \\n1:A8, 5:C6, 1 \\n2:A2, 5:C6, 1 \\n3:A1, 5:C6, 1 \\n4:A1, 5:C6, 10 \\n4:A2, 5:C6, 7 \\n1:A8, 5:C7, 1 \\n2:A3, 5:C7, 1 \\n3:A1, 5:C7, 1 \\n4:A1, 5:C7, 10 \\n4:A2, 5:C7, 7 \\n1:A8, 5:C8, 1 \\n2:A4, 5:C8, 1 \\n3:A1, 5:C8, 1 \\n4:A1, 5:C8, 10 \\n4:A2, 5:C8, 7 '"
      ]
     },
     "execution_count": 25,
     "metadata": {},
     "output_type": "execute_result"
    }
   ],
   "source": [
    "picklisten.to_flowbot_instructions()"
   ]
  },
  {
   "cell_type": "code",
   "execution_count": 26,
   "id": "5ca912db-7e57-47a1-8590-aaae909b08f8",
   "metadata": {},
   "outputs": [
    {
     "data": {
      "text/plain": [
       "640"
      ]
     },
     "execution_count": 26,
     "metadata": {},
     "output_type": "execute_result"
    }
   ],
   "source": [
    "picklisten.total_transferred_volume()"
   ]
  },
  {
   "cell_type": "code",
   "execution_count": 27,
   "id": "acb6a421-ba2c-4a02-afaf-78d15ee7c59f",
   "metadata": {},
   "outputs": [],
   "source": [
    "\n",
    "class RobotAssembly:\n",
    "    \"\"\"Class to generate instructions for robot on demand. It can be initialized in two ways:\n",
    "    1. Use a design assembly object\n",
    "    2. Pandas dataframe with PCRs and Pandas dataframe with Forward and Reverse primers, and Template\n",
    "\n",
    "    Input:\n",
    "    :param DesignAssembly_object\n",
    "    :param Pandas_dataframe_PCR\n",
    "    :param F_primers: list\n",
    "    :param R_primers: list\n",
    "    :param:Templates:list\n",
    "\n",
    "    Robot_output:\n",
    "    :param  self.source_plateF_primers, self.source_plateR_primers, self.source_plateTemplates, self.source_platePCRmix = sourceplate objets\n",
    "    :param  self.picklist\n",
    "    \"\"\"\n",
    "\n",
    "    def __init__(self, Pandas_dataframe_PCR, F_primers:list, R_primers:list, Templates:list):\n",
    "\n",
    "        ###  1.INITIALIZING ##\n",
    "        ######################## Assembly from plates ############################\n",
    "        if Pandas_dataframe_PCR is not None and F_primers is not None and R_primers is not None and Templates is not None:\n",
    "            # Initializing instances\n",
    "            self.pandas_PCR = Pandas_dataframe_PCR\n",
    "            self.forward_primers = F_primers\n",
    "            self.reverse_primers = R_primers\n",
    "            self.templates = Templates\n",
    "\n",
    "            #Virtual plates\n",
    "            self.source_plateF_primers, self.source_plateR_primers, self.source_plateTemplates, self.source_platePCRmix = make_virtual_plates_fromDF( self.forward_primers, self.reverse_primers, self.templates, self.pandas_PCR)\n",
    "\n",
    "            # Generating Picklist from virtual plates\n",
    "            self.picklist = picklist_from_plates(self.source_plateF_primers, self.source_plateR_primers, self.source_plateTemplates, self.source_platePCRmix, self.pandas_PCR)\n",
    "\n",
    "        else:\n",
    "            print('Remember to put in all the neccesarry components')\n",
    "    ##########################################################\n",
    "    ###################  CLASS METHODS  ######################\n",
    "\n",
    "    def PlatesToExcelFile(self):\n",
    "        '''Returns an excel file of the plate setup that needs to be made before the flowbot can operate'''\n",
    "        df1 = self.source_plateF_primers.to_pandas_dataframe()\n",
    "        df2 = self.source_plateR_primers.to_pandas_dataframe()\n",
    "        df3 = self.source_plateTemplates.to_pandas_dataframe()\n",
    "        df4 = self.source_platePCRmix.to_pandas_dataframe()\n",
    "\n",
    "        with pd.ExcelWriter('Plate_instructions.xlsx') as writer:\n",
    "            return df1.to_excel(writer, sheet_name='Forward_primer_wells'), df2.to_excel(writer, sheet_name='Reverse_primer_wells'), df3.to_excel(writer, sheet_name='Template_wells'),df4.to_excel(writer, sheet_name='PCR_MIX_H20')\n",
    "\n",
    "\n",
    "    def print_well_df_to_string(self):\n",
    "        ''' Prints Pandas dataframe in string format'''\n",
    "\n",
    "        df1 = self.source_plateF_primers.to_pandas_dataframe()\n",
    "        df2 = self.source_plateR_primers.to_pandas_dataframe()\n",
    "        df3 = self.source_plateTemplates.to_pandas_dataframe()\n",
    "        df4 = self.source_platePCRmix.to_pandas_dataframe()\n",
    "\n",
    "        return print(' ###Forward primers: ', df1.to_csv(sep=' ', index=False, header=True),'\\n', '###Reverse primers: ', df2.to_csv(sep=' ', index=False, header=True),'\\n','###Templates: ',df3.to_csv(sep=' ', index=False, header=True),  df4.to_csv(sep=' ', index=False, header=True))\n",
    "\n",
    "    def FlowbotInstructionsToCSV(self):\n",
    "        '''Function that prints flowbot instructions to csv format'''\n",
    "\n",
    "        with open('Flowbot_instructions.csv','w') as outfile:\n",
    "\n",
    "            return print('source, target, volume','\\n',*self.picklist.to_flowbot_instructions(), sep='',end='\\n', file = outfile)\n"
   ]
  },
  {
   "cell_type": "code",
   "execution_count": 28,
   "id": "3a942a47-d568-445e-8d06-a4026b2dba0d",
   "metadata": {},
   "outputs": [],
   "source": [
    "test_Robotassemly = RobotAssembly(test_data,fwd_primers ,rev_primers, templates)\n"
   ]
  },
  {
   "cell_type": "code",
   "execution_count": 29,
   "id": "89448136-d7ac-4096-8c6b-4cc8ed7059ae",
   "metadata": {},
   "outputs": [
    {
     "data": {
      "text/plain": [
       "['pRPL15B']"
      ]
     },
     "execution_count": 29,
     "metadata": {},
     "output_type": "execute_result"
    }
   ],
   "source": [
    "test_Robotassemly.templates"
   ]
  },
  {
   "cell_type": "code",
   "execution_count": 30,
   "id": "96890adf-9c48-4563-bc82-9b56a431379a",
   "metadata": {},
   "outputs": [],
   "source": [
    "\n",
    "template = 'TCTTTGAAAAGATAATGTATGATTATGCTTTCACTCATATTTATACAGAAACTTGATGTTTTCTTTCGAGTATATACAAGGTGATTACATGTACGTTTGAAGTACAACTCTAGATTTTGTAGTGCCCTCTTGGGCTAGCGGTAAAGGTGCGCATTTTTTCACACCCTACAATGTTCTGTTCAAAAGATTTTGGTCAAACGCTGTAGAAGTGAAAGTTGGTGCGCATGTTTCGGCGTTCGAAACTTCTCCGCAGTGAAAGATAAATGATCGCCGTAGTAACGTCGCTGTCGTTTTAGAGCTAGAAATAGCAAGTTAAAATAAGGCTAGTCCGTTATCAACTTGAAAAAGTGGCACCGAGTCGGTGGTGCTTTTTTTGTTTTTTATGTCTTCGAGTCATGTAATTAGTTAAGTGCAGGT'\n",
    "primerF = 'CGTGCGAUTCTTTGAAAAGATAATGTATGA'\n",
    "primerR = 'ACCTGCACUTAACTAATTACATGACTCGA'\n",
    "\n",
    "from pydna.amplify import pcr\n",
    "gRNA1_pcr_prod = pcr(primerF,primerR, template)"
   ]
  },
  {
   "cell_type": "code",
   "execution_count": null,
   "id": "d095e680-d884-47d2-908b-bfd6d8f2bb99",
   "metadata": {},
   "outputs": [],
   "source": [
    "\n"
   ]
  },
  {
   "cell_type": "code",
   "execution_count": 31,
   "id": "b83cc7da-0c7f-4e7d-9364-1a072d4c8f03",
   "metadata": {},
   "outputs": [],
   "source": [
    "def USER_enzyme(amplicon):\n",
    "    \"\"\"\n",
    "    Take pydna.amplicon.Amplicon\n",
    "    Return Dseqrecord trimmed according to pcr primers\n",
    "    \"\"\"\n",
    "    fw_U_idx = amplicon.forward_primer.seq.find(\"U\")\n",
    "    #fw_U_idx\n",
    "\n",
    "    rv_U_idx = amplicon.reverse_primer.seq.find(\"U\")\n",
    "    #rv_U_idx\n",
    "\n",
    "    digested_watson = amplicon.seq.watson[fw_U_idx:]\n",
    "    #digested_watson\n",
    "\n",
    "    digested_crick = amplicon.seq.crick[rv_U_idx+1:]\n",
    "    #digested_crick\n",
    "\n",
    "    digested_pcr = pydna.dseqrecord.Dseqrecord(pydna.dseq.Dseq(watson=digested_watson, crick = digested_crick),\n",
    "                                features = amplicon.features, annotations = amplicon.annotations)\n",
    "    #digested_pcr.seq\n",
    "    return digested_pcr\n",
    "\n",
    "DIGESTED = USER_enzyme(gRNA1_pcr_prod)"
   ]
  },
  {
   "cell_type": "code",
   "execution_count": 32,
   "id": "8e50093a-be9b-4935-afbc-2a673727256a",
   "metadata": {},
   "outputs": [
    {
     "data": {
      "text/plain": [
       "UTCTTTGAAAAGATAATGTATGATTATGCTTTCACTCATATTTATACAGAAACTTGATGTTTTCTTTCGAGTATATACAAGGTGATTACATGTACGTTTGAAGTACAACTCTAGATTTTGTAGTGCCCTCTTGGGCTAGCGGTAAAGGTGCGCATTTTTTCACACCCTACAATGTTCTGTTCAAAAGATTTTGGTCAAACGCTGTAGAAGTGAAAGTTGGTGCGCATGTTTCGGCGTTCGAAACTTCTCCGCAGTGAAAGATAAATGATCGCCGTAGTAACGTCGCTGTCGTTTTAGAGCTAGAAATAGCAAGTTAAAATAAGGCTAGTCCGTTATCAACTTGAAAAAGTGGCACCGAGTCGGTGGTGCTTTTTTTGTTTTTTATGTCTTCGAGTCATGTAATTAGTTAAGTGCAGGT"
      ]
     },
     "execution_count": 32,
     "metadata": {},
     "output_type": "execute_result"
    }
   ],
   "source": [
    "\n",
    "Digested_USER = USER_enzyme(gRNA1_pcr_prod)\n",
    "Digested_USER.seq.watson"
   ]
  },
  {
   "cell_type": "code",
   "execution_count": 33,
   "id": "914f468b-1e32-4eaf-945f-90a117c08e65",
   "metadata": {},
   "outputs": [
    {
     "data": {
      "text/plain": [
       "418"
      ]
     },
     "execution_count": 33,
     "metadata": {},
     "output_type": "execute_result"
    }
   ],
   "source": [
    "len(Digested_USER.seq.watson)"
   ]
  },
  {
   "cell_type": "code",
   "execution_count": 34,
   "id": "f6ddfd6d-e4e6-42f1-b80f-b801bd846d51",
   "metadata": {},
   "outputs": [],
   "source": [
    "def extract_gRNAs(template, name):\n",
    "    gRNAs = []\n",
    "    for feature in template.features:\n",
    "        if name in feature.qualifiers.get('name',\"\"):\n",
    "            \n",
    "            gRNA = template[feature.location.start:feature.location.end]\n",
    "            gRNA.name = feature.qualifiers.get('name',\"\")\n",
    "            gRNAs.append(gRNA)\n",
    "    \n",
    "    return(gRNAs)"
   ]
  },
  {
   "cell_type": "code",
   "execution_count": 35,
   "id": "d5840ab9-6fb7-4537-b9bf-239b6eb90c78",
   "metadata": {},
   "outputs": [],
   "source": [
    "from Bio.SeqRecord import SeqRecord\n",
    "from pydna.amplify import pcr\n",
    "\n",
    "template = 'TCTTTGAAAAGATAATGTATGATTATGCTTTCACTCATATTTATACAGAAACTTGATGTTTTCTTTCGAGTATATACAAGGTGATTACATGTACGTTTGAAGTACAACTCTAGATTTTGTAGTGCCCTCTTGGGCTAGCGGTAAAGGTGCGCATTTTTTCACACCCTACAATGTTCTGTTCAAAAGATTTTGGTCAAACGCTGTAGAAGTGAAAGTTGGTGCGCATGTTTCGGCGTTCGAAACTTCTCCGCAGTGAAAGATAAATGATCGCCGTAGTAACGTCGCTGTCGTTTTAGAGCTAGAAATAGCAAGTTAAAATAAGGCTAGTCCGTTATCAACTTGAAAAAGTGGCACCGAGTCGGTGGTGCTTTTTTTGTTTTTTATGTCTTCGAGTCATGTAATTAGTTAAGTGCAGGT'\n",
    "primerF = 'CGTGCGAUTCTTTGAAAAGATAATGTATGA'\n",
    "primerR = 'ACCTGCACUTAACTAATTACATGACTCGA'\n",
    "\n",
    "rec_vector = pcr(primerF,primerR, template)\n",
    "\n",
    "# Adding a feature\n",
    "rec_vector.add_feature(40,60, name ='gRNA' , label = ['gRNA'])\n",
    "gRNA = extract_gRNAs(rec_vector, 'gRNA')\n",
    "\n",
    "assert gRNA[0].seq.watson == 'ACTCATATTTATACAGAAAC'\n"
   ]
  },
  {
   "cell_type": "code",
   "execution_count": 36,
   "id": "e9bdd1fb-23fa-4b7e-9eef-8b3320e715a4",
   "metadata": {},
   "outputs": [
    {
     "name": "stdout",
     "output_type": "stream",
     "text": [
      "OrderedDict([('label', ['name']), ('ApEinfo_fwdcolor', ['#baffa3']), ('ApEinfo_revcolor', ['#ffbaba'])])\n",
      "OrderedDict([('label', ['name']), ('ApEinfo_fwdcolor', ['#baffa3']), ('ApEinfo_revcolor', ['#ffbaba'])])\n",
      "{'name': 'gRNA', 'label': ['gRNA']}\n",
      "{'name': 'gRNA', 'label': ['gRNA']}\n"
     ]
    }
   ],
   "source": [
    "rec_vector.add_feature(40,60, name ='gRNA' , label = ['gRNA'])\n",
    "for feature in rec_vector.features:\n",
    "    print(feature.qualifiers)"
   ]
  },
  {
   "cell_type": "code",
   "execution_count": 37,
   "id": "18eea0fa-48d1-4bbf-b5a6-5a6a19dc62b5",
   "metadata": {},
   "outputs": [
    {
     "name": "stdout",
     "output_type": "stream",
     "text": [
      "['name']\n",
      "OrderedDict([('label', ['name']), ('ApEinfo_fwdcolor', ['#baffa3']), ('ApEinfo_revcolor', ['#ffbaba'])])\n",
      "['name']\n",
      "OrderedDict([('label', ['name']), ('ApEinfo_fwdcolor', ['#baffa3']), ('ApEinfo_revcolor', ['#ffbaba'])])\n",
      "['gRNA']\n",
      "{'name': 'gRNA', 'label': ['gRNA']}\n",
      "['gRNA']\n",
      "{'name': 'gRNA', 'label': ['gRNA']}\n"
     ]
    }
   ],
   "source": [
    "for feature in rec_vector.features:\n",
    "    print(feature.qualifiers['label'])\n",
    "    print(feature.qualifiers)"
   ]
  },
  {
   "cell_type": "code",
   "execution_count": 38,
   "id": "85babe1b-3af0-4054-afea-3b01eb2e5313",
   "metadata": {},
   "outputs": [
    {
     "data": {
      "text/plain": [
       "OrderedDict([('label', [name]),\n",
       "             ('ApEinfo_fwdcolor', ['#baffa3']),\n",
       "             ('ApEinfo_revcolor', ['#ffbaba'])])"
      ]
     },
     "execution_count": 38,
     "metadata": {},
     "output_type": "execute_result"
    }
   ],
   "source": [
    "rec_vector.features[1].qualifiers"
   ]
  },
  {
   "cell_type": "code",
   "execution_count": 39,
   "id": "847950a6-6c05-4e3f-be2a-7c8337cc7e7f",
   "metadata": {},
   "outputs": [
    {
     "data": {
      "text/plain": [
       "[Amplicon(20), Amplicon(20)]"
      ]
     },
     "execution_count": 39,
     "metadata": {},
     "output_type": "execute_result"
    }
   ],
   "source": [
    "gRNA = extract_gRNAs(rec_vector, 'gRNA')\n",
    "gRNA"
   ]
  },
  {
   "cell_type": "code",
   "execution_count": 40,
   "id": "9c8787b2-07a7-4f6e-98bf-ce9743184ef5",
   "metadata": {},
   "outputs": [
    {
     "data": {
      "text/plain": [
       "ACTCATATTTATACAGAAAC"
      ]
     },
     "execution_count": 40,
     "metadata": {},
     "output_type": "execute_result"
    }
   ],
   "source": [
    "gRNA[0].seq.watson\n"
   ]
  },
  {
   "cell_type": "code",
   "execution_count": 41,
   "id": "df02d3b6-1e97-4958-a302-13527989be1d",
   "metadata": {},
   "outputs": [],
   "source": [
    "from Bio.SeqRecord import SeqRecord\n",
    "\n",
    "template = 'TCTTTGAAAAGATAATGTATGATTATGCTTTCACTCATATTTATACAGAAACTTGATGTTTTCTTTCGAGTATATACAAGGTGATTACATGTACGTTTGAAGTACAACTCTAGATTTTGTAGTGCCCTCTTGGGCTAGCGGTAAAGGTGCGCATTTTTTCACACCCTACAATGTTCTGTTCAAAAGATTTTGGTCAAACGCTGTAGAAGTGAAAGTTGGTGCGCATGTTTCGGCGTTCGAAACTTCTCCGCAGTGAAAGATAAATGATCGCCGTAGTAACGTCGCTGTCGTTTTAGAGCTAGAAATAGCAAGTTAAAATAAGGCTAGTCCGTTATCAACTTGAAAAAGTGGCACCGAGTCGGTGGTGCTTTTTTTGTTTTTTATGTCTTCGAGTCATGTAATTAGTTAAGTGCAGGT'\n",
    "primerF = 'CGTGCGAUTCTTTGAAAAGATAATGTATGA'\n",
    "primerR = 'ACCTGCACUTAACTAATTACATGACTCGA'\n",
    "from pydna.amplify import pcr\n",
    "rec_vector = pcr(primerF,primerR, template)\n",
    "rec_vector.add_feature(-40,60, label =['gRNA'] , type = 'gRNA')\n",
    "\n"
   ]
  },
  {
   "cell_type": "code",
   "execution_count": 42,
   "id": "dc77123e-4386-4011-a4d4-409ef0fafea9",
   "metadata": {},
   "outputs": [],
   "source": [
    "#def remove_features_with_negative_loc(record):\n",
    "#    for i in range(len(record.features)):\n",
    "#\n",
    "#        if record.features[i].location.start < 0 or record.features[i].location.end < 0:\n",
    "#            del record.features[i]\n",
    "        "
   ]
  },
  {
   "cell_type": "code",
   "execution_count": 43,
   "id": "23649337-00c1-41f5-8400-c2ee3c119dc2",
   "metadata": {},
   "outputs": [],
   "source": [
    "def remove_features_with_negative_loc1(record):\n",
    "    for i, feature in enumerate(record.features):\n",
    "        if feature.location.start < 0 or feature.location.start < 0:\n",
    "            del record.features[i]\n",
    "            print(feature.qualifiers.get(\"label\",\"\") + \" deleted\")"
   ]
  },
  {
   "cell_type": "code",
   "execution_count": 45,
   "id": "95a32f07-0c48-499b-9946-e58a212fefe1",
   "metadata": {},
   "outputs": [
    {
     "ename": "TypeError",
     "evalue": "can only concatenate list (not \"str\") to list",
     "output_type": "error",
     "traceback": [
      "\u001b[0;31m---------------------------------------------------------------------------\u001b[0m",
      "\u001b[0;31mTypeError\u001b[0m                                 Traceback (most recent call last)",
      "Input \u001b[0;32mIn [45]\u001b[0m, in \u001b[0;36m<cell line: 1>\u001b[0;34m()\u001b[0m\n\u001b[0;32m----> 1\u001b[0m \u001b[43mremove_features_with_negative_loc1\u001b[49m\u001b[43m(\u001b[49m\u001b[43mrec_vector\u001b[49m\u001b[43m)\u001b[49m\n",
      "Input \u001b[0;32mIn [43]\u001b[0m, in \u001b[0;36mremove_features_with_negative_loc1\u001b[0;34m(record)\u001b[0m\n\u001b[1;32m      3\u001b[0m \u001b[38;5;28;01mif\u001b[39;00m feature\u001b[38;5;241m.\u001b[39mlocation\u001b[38;5;241m.\u001b[39mstart \u001b[38;5;241m<\u001b[39m \u001b[38;5;241m0\u001b[39m \u001b[38;5;129;01mor\u001b[39;00m feature\u001b[38;5;241m.\u001b[39mlocation\u001b[38;5;241m.\u001b[39mstart \u001b[38;5;241m<\u001b[39m \u001b[38;5;241m0\u001b[39m:\n\u001b[1;32m      4\u001b[0m     \u001b[38;5;28;01mdel\u001b[39;00m record\u001b[38;5;241m.\u001b[39mfeatures[i]\n\u001b[0;32m----> 5\u001b[0m     \u001b[38;5;28mprint\u001b[39m(\u001b[43mfeature\u001b[49m\u001b[38;5;241;43m.\u001b[39;49m\u001b[43mqualifiers\u001b[49m\u001b[38;5;241;43m.\u001b[39;49m\u001b[43mget\u001b[49m\u001b[43m(\u001b[49m\u001b[38;5;124;43m\"\u001b[39;49m\u001b[38;5;124;43mlabel\u001b[39;49m\u001b[38;5;124;43m\"\u001b[39;49m\u001b[43m,\u001b[49m\u001b[38;5;124;43m\"\u001b[39;49m\u001b[38;5;124;43m\"\u001b[39;49m\u001b[43m)\u001b[49m\u001b[43m \u001b[49m\u001b[38;5;241;43m+\u001b[39;49m\u001b[43m \u001b[49m\u001b[38;5;124;43m\"\u001b[39;49m\u001b[38;5;124;43m deleted\u001b[39;49m\u001b[38;5;124;43m\"\u001b[39;49m)\n",
      "\u001b[0;31mTypeError\u001b[0m: can only concatenate list (not \"str\") to list"
     ]
    }
   ],
   "source": [
    "remove_features_with_negative_loc1(rec_vector)"
   ]
  },
  {
   "cell_type": "code",
   "execution_count": null,
   "id": "0b5fbd01-c783-4028-b74b-0734954362c2",
   "metadata": {},
   "outputs": [],
   "source": [
    "len(rec_vector.features)"
   ]
  },
  {
   "cell_type": "code",
   "execution_count": 46,
   "id": "d504b08e-41b5-4e5b-9fc2-d1ca0c1d55e3",
   "metadata": {},
   "outputs": [],
   "source": [
    "def CAS9_cutting(gRNA_record, background_record):\n",
    "    from Bio.Seq import Seq\n",
    "\n",
    "    \n",
    "    \"\"\" Simulates cutting by CAS9 given a gRNA\n",
    "    \n",
    "    Parameters\n",
    "    ----------\n",
    "    gRNA_sequence: pydna.dseqrecord\n",
    "    \n",
    "    background_record: pydna.dseqrecord (pydna.assembly)\n",
    "    \n",
    "    up_surrounding: int (number of bp)\n",
    "\n",
    "    dw_surrounding: int (number of bp)\n",
    "\n",
    "    Returns\n",
    "    -------\n",
    "    \n",
    "    Two dseqrecords\n",
    "\n",
    "    Examples\n",
    "    --------\n",
    "    \"\"\"\n",
    "    gRNA_sequence = gRNA_record.seq.watson.upper()\n",
    "    \n",
    "    background_sequence = background_record.seq.upper()\n",
    "    \n",
    "    gRNA_strand = 1\n",
    "    if background_sequence.find(gRNA_sequence) == -1:\n",
    "\n",
    "        gRNA_strand = -1\n",
    "        gRNA_sequence = Seq(gRNA_sequence)\n",
    "\n",
    "        gRNA_sequence = (gRNA_sequence).reverse_complement()\n",
    "        if background_sequence.find(gRNA_sequence) ==-1:\n",
    "            print(\"not on -1, CAN'T FIND THE CUT SITE IN YOUR SEQUENCE\")\n",
    "\n",
    "    if gRNA_strand == 1:\n",
    "        cut_pos_rel_start = 17\n",
    "    else:\n",
    "        cut_pos_rel_start = 3\n",
    "    \n",
    "    gRNA_start = background_sequence.find(gRNA_sequence)\n",
    "    \n",
    "    cut_site = gRNA_start + cut_pos_rel_start\n",
    " \n",
    "    up = background_record[0 : cut_site]\n",
    "    dw = background_record[cut_site : len(background_sequence)]\n",
    "    \n",
    "    up.name = 'UP' + '_' + gRNA_record.name + '_' + background_record.name\n",
    "    dw.name = 'DW' + '_' + gRNA_record.name + '_' + background_record.name\n",
    "    \n",
    "    up_feature = Bio.SeqFeature.SeqFeature(Bio.SeqFeature.FeatureLocation(0, len(up)), type=\"misc_feature\", strand=+1)\n",
    "    up_feature.qualifiers[\"label\"] = up.name\n",
    "    up.features.append(up_feature)\n",
    "    \n",
    "    dw_feature = Bio.SeqFeature.SeqFeature(Bio.SeqFeature.FeatureLocation(0, len(dw)), type=\"misc_feature\", strand=+1)\n",
    "    dw_feature.qualifiers[\"label\"] = dw.name\n",
    "    dw.features.append(dw_feature)\n",
    "    \n",
    "    up = pydna.dseqrecord.Dseqrecord(up,)\n",
    "    dw = pydna.dseqrecord.Dseqrecord(dw)\n",
    "    \n",
    "    # UPS more than one cut site?\n",
    "    if dw.seq.find(gRNA_sequence) != -1:\n",
    "        print(\"OBS\", gRNA_sequence, \"cuts more than one location!\")\n",
    "        \n",
    "    return(up,dw)"
   ]
  },
  {
   "cell_type": "code",
   "execution_count": 47,
   "id": "838f2fe1-d9d9-47e9-8ecd-db6c797f4e4e",
   "metadata": {},
   "outputs": [],
   "source": [
    "from pydna.dseqrecord import Dseqrecord\n",
    "import Bio\n",
    "\n",
    "template = Dseqrecord('TCTTTGAAAAGATAATGTATGATTATGCTTTCACTCATATTTATACAGAAACTTGATGTTTTCTTTCGAGTATATACAAGGTGATTACATGTACGTTTGAAGTACAACTCTAGATTTTGTAGTGCCCTCTTGGGCTAGCGGTAAAGGTGCGCATTTTTTCACACCCTACAATGTTCTGTTCAAAAGATTTTGGTCAAACGCTGTAGAAGTGAAAGTTGGTGCGCATGTTTCGGCGTTCGAAACTTCTCCGCAGTGAAAGATAAATGATCGCCGTAGTAACGTCGCTGTCGTTTTAGAGCTAGAAATAGCAAGTTAAAATAAGGCTAGTCCGTTATCAACTTGAAAAAGTGGCACCGAGTCGGTGGTGCTTTTTTTGTTTTTTATGTCTTCGAGTCATGTAATTAGTTAAGTGCAGGT')\n",
    "gRNA = Dseqrecord('TCTAGATTTTGTAGTGCCCT')\n"
   ]
  },
  {
   "cell_type": "code",
   "execution_count": 48,
   "id": "dd57c544-684b-4767-93aa-c73711560057",
   "metadata": {},
   "outputs": [
    {
     "data": {
      "text/plain": [
       "TCTTTGAAAAGATAATGTATGATTATGCTTTCACTCATATTTATACAGAAACTTGATGTTTTCTTTCGAGTATATACAAGGTGATTACATGTACGTTTGAAGTACAACTCTAGATTTTGTAGTGC"
      ]
     },
     "execution_count": 48,
     "metadata": {},
     "output_type": "execute_result"
    }
   ],
   "source": [
    "up, dw = CAS9_cutting(gRNA, template)\n",
    "\n",
    "up.seq.watson\n"
   ]
  },
  {
   "cell_type": "code",
   "execution_count": 49,
   "id": "e41446f9-ca44-4431-8438-3884fbd24beb",
   "metadata": {},
   "outputs": [
    {
     "data": {
      "text/plain": [
       "CCTCTTGGGCTAGCGGTAAAGGTGCGCATTTTTTCACACCCTACAATGTTCTGTTCAAAAGATTTTGGTCAAACGCTGTAGAAGTGAAAGTTGGTGCGCATGTTTCGGCGTTCGAAACTTCTCCGCAGTGAAAGATAAATGATCGCCGTAGTAACGTCGCTGTCGTTTTAGAGCTAGAAATAGCAAGTTAAAATAAGGCTAGTCCGTTATCAACTTGAAAAAGTGGCACCGAGTCGGTGGTGCTTTTTTTGTTTTTTATGTCTTCGAGTCATGTAATTAGTTAAGTGCAGGT"
      ]
     },
     "execution_count": 49,
     "metadata": {},
     "output_type": "execute_result"
    }
   ],
   "source": [
    "dw.seq.watson"
   ]
  },
  {
   "cell_type": "code",
   "execution_count": 50,
   "id": "80bd8773-f3cd-48a3-b49f-8c80b9e92816",
   "metadata": {},
   "outputs": [],
   "source": [
    "\n",
    "def CRIPSIR_knockout(gRNA_record, insertion_site, repair_DNA):\n",
    "    from pydna.assembly import Assembly\n",
    "    \"\"\"Cuts the insertion site with CAS9_cutting and assebmle knockout\"\"\"\n",
    "    #Create fragments after CAS9 cut\n",
    "    IS_UP, IS_DW = CAS9_cutting(gRNA_record, insertion_site)\n",
    "    \n",
    "    #create list of parts and assemble to knockout sequence\n",
    "    assmeble_parts = IS_UP, repair_DNA, IS_DW\n",
    "    assembled_knockout = pydna.assembly.Assembly(assmeble_parts).assemble_linear()[0]\n",
    "    \n",
    "    return assembled_knockout"
   ]
  },
  {
   "cell_type": "code",
   "execution_count": 51,
   "id": "c2ad7106-e8f2-4e73-b5a5-6f9ae4e59e2b",
   "metadata": {},
   "outputs": [],
   "source": [
    "insertion_site = Dseqrecord('TCTTTGAAAAGATAATGTATGATTATGCTTTCACTCATATTTATACAGAAACTTGATGTTTTCTTTCGAGTATATACAAGGTGATTACATGTACGTTTGAAGTACAACTCTAGATTTTGTAGTGCCCTCTTGGGCTAGCGGTAAAGGTGCGCATTTTTTCACACCCTACAATGTTCTGTTCAAAAGATTTTGGTCAAACGCTGTAGAAGTGAAAGTTGGTGCGCATGTTTCGGCGTTCGAAACTTCTCCGCAGTGAAAGATAAATGATCGCCGTAGTAACGTCGCTGTCGTTTTAGAGCTAGAAATAGCAAGTTAAAATAAGGCTAGTCCGTTATCAACTTGAAAAAGTGGCACCGAGTCGGTGGTGCTTTTTTTGTTTTTTATGTCTTCGAGTCATGTAATTAGTTAAGTGCAGGT')\n",
    "gRNA = Dseqrecord('TCTAGATTTTGTAGTGCCCT')\n",
    "repair_template = Dseqrecord('CGTTTGAAGTACAACTCTAGATTTTGTAGTGCCCTCTTGGGCTAGCGGTAAAGGTGCGCATTTTTTCACACCCTACAATGT')\n",
    "\n"
   ]
  },
  {
   "cell_type": "code",
   "execution_count": 52,
   "id": "9b812df3-9954-47ef-9542-61863e66f79d",
   "metadata": {},
   "outputs": [],
   "source": [
    "Knock_out = CRIPSIR_knockout(gRNA,insertion_site, repair_template)"
   ]
  },
  {
   "cell_type": "code",
   "execution_count": 53,
   "id": "0048d372-fb83-412c-8ee6-b19a6effa61c",
   "metadata": {},
   "outputs": [
    {
     "data": {
      "text/plain": [
       "TCTTTGAAAAGATAATGTATGATTATGCTTTCACTCATATTTATACAGAAACTTGATGTTTTCTTTCGAGTATATACAAGGTGATTACATGTACGTTTGAAGTACAACTCTAGATTTTGTAGTGCCCTCTTGGGCTAGCGGTAAAGGTGCGCATTTTTTCACACCCTACAATGTTCTGTTCAAAAGATTTTGGTCAAACGCTGTAGAAGTGAAAGTTGGTGCGCATGTTTCGGCGTTCGAAACTTCTCCGCAGTGAAAGATAAATGATCGCCGTAGTAACGTCGCTGTCGTTTTAGAGCTAGAAATAGCAAGTTAAAATAAGGCTAGTCCGTTATCAACTTGAAAAAGTGGCACCGAGTCGGTGGTGCTTTTTTTGTTTTTTATGTCTTCGAGTCATGTAATTAGTTAAGTGCAGGT"
      ]
     },
     "execution_count": 53,
     "metadata": {},
     "output_type": "execute_result"
    }
   ],
   "source": [
    "Knock_out.seq.watson"
   ]
  },
  {
   "cell_type": "code",
   "execution_count": 54,
   "id": "7b45013c-363d-4992-98e7-da5ce78df7bf",
   "metadata": {},
   "outputs": [
    {
     "name": "stdout",
     "output_type": "stream",
     "text": [
      "https://biosustain.benchling.com/api/v2 sk_o6KcYcFcXYJYLQQBN6xlAEOKRooID\n"
     ]
    }
   ],
   "source": [
    "import sys\n",
    "sys.path.append('../constrain/lims')\n",
    "from benchling_api import from_benchling"
   ]
  },
  {
   "cell_type": "code",
   "execution_count": null,
   "id": "0d1b438b-3134-4f4a-a404-37fe4bf6ea92",
   "metadata": {},
   "outputs": [],
   "source": []
  },
  {
   "cell_type": "code",
   "execution_count": 55,
   "id": "df2cad2d-3473-4f2d-9f89-fd8e44875961",
   "metadata": {},
   "outputs": [],
   "source": [
    "def extract_template_amplification_sites(templates, names, terminator):\n",
    "    template_amplification_sites = []\n",
    "    for name, template in zip(names, templates):\n",
    "        for feature in template.features:\n",
    "            if feature.qualifiers['name'] == name:\n",
    "                \n",
    "                CDS_strand = feature.strand\n",
    "                if CDS_strand == 1:\n",
    "                    start = feature.location.start\n",
    "                    print(start)\n",
    "                else:\n",
    "                    end = feature.location.end\n",
    "                    print(end)\n",
    "\n",
    "            if feature.qualifiers['name'].endswith(terminator):\n",
    "                terminator_strand = feature.strand\n",
    "                if terminator_strand == 1:\n",
    "                    end = feature.location.end\n",
    "                    print(end)\n",
    "                    \n",
    "                else:\n",
    "                    start = feature.location.start\n",
    "                    print(start)\n",
    "        \n",
    "        template_amplification_site = template[start:end]\n",
    "        \n",
    "        if 'batches' in template_amplification_site.annotations.keys():\n",
    "            template_amplification_site.annotations[\"batches\"].append(template.annotations['batches'][0]) #{'location': template.annotations['batches'][0]['location']}\n",
    "        else: \n",
    "            template_amplification_site.annotations[\"batches\"] = []\n",
    "            template_amplification_site.annotations[\"batches\"].append(template.annotations) #{'location': template.annotations['batches'][0]['location']}\n",
    "\n",
    "        template_amplification_sites.append(template_amplification_site)\n",
    "    return template_amplification_sites"
   ]
  },
  {
   "cell_type": "code",
   "execution_count": 56,
   "id": "58cee599-0177-4dd4-b2e2-0e82aa363e3c",
   "metadata": {},
   "outputs": [],
   "source": [
    "G8H_template_names = [\"pESC-CEN_RS-OeuG8H\",\"PL_10_A1pMIA_JZ-40_CroG8H\",\"pMIA_086_Rsep_G8O_in_p0057_(TRP)\",\"pMIA_087_Vmin_G8O_in_p0057_(TRP)\",\"pMIA_088_Opum_G8O_in_p0057_(TRP)\",\"pMIA_089_Cacu_G8O_in_p0057_(TRP)\",\"pMIA_090_Smus_G8O_in_p0057_(TRP)\",\"pMIA_091_Ccal_G8O_in_p0057_(TRP)\"]\n",
    "\n",
    "#G8H_templates = [from_benchling(tname) for tname in G8H_template_names]\n",
    "#G8H_CDS_annotations = [\"OeuG8O\", \"CroG8O\", \"Rsep_G8O_opt\", \"Vmin_G8O_opt\", \"Opum_G8O_opt\", \"Cacu_G8O_opt\", \"Smus_G8O_opt\", \"Ccal_G8O_opt\"]\n",
    "\n",
    "\n",
    "\n",
    "#G8H_sites = extract_template_amplification_sites(G8H_templates, G8H_CDS_annotations, \"T ADH1\")\n"
   ]
  },
  {
   "cell_type": "code",
   "execution_count": null,
   "id": "28479d2d-76bc-4f79-ac38-30219393824f",
   "metadata": {},
   "outputs": [],
   "source": []
  },
  {
   "cell_type": "code",
   "execution_count": 57,
   "id": "b1a29a82-66a3-423e-bac3-f5c038ede4ff",
   "metadata": {},
   "outputs": [],
   "source": [
    "from Bio.SeqFeature import SeqFeature, FeatureLocation\n",
    "from Bio.SeqRecord import SeqRecord\n",
    "from Bio.Seq import Seq\n",
    "\n",
    "features1 = [SeqFeature(FeatureLocation(0, 200, strand=1), type='CDS')]\n",
    "features2 = [SeqFeature(FeatureLocation(200, 300, strand=1), type='terminator')]\n",
    "dict1 = {'name': 'ATF'}\n",
    "dict2 = {'name': 'ATF_tTEF'}\n",
    "features1[0].qualifiers = dict1\n",
    "features2[0].qualifiers = dict2\n",
    "\n",
    "TEMPLATES = [SeqRecord(seq = Seq('ATGATGA'*1000), id='seq_DPrPIMvy', name='ATF_plasmid', description='<unknown description>', dbxrefs=[], features = features1+ features2)]\n",
    "\n"
   ]
  },
  {
   "cell_type": "code",
   "execution_count": 58,
   "id": "af453fa7-6aae-45e0-9436-31e366df7cbc",
   "metadata": {},
   "outputs": [
    {
     "data": {
      "text/plain": [
       "7000"
      ]
     },
     "execution_count": 58,
     "metadata": {},
     "output_type": "execute_result"
    }
   ],
   "source": [
    "len(TEMPLATES[0].seq)"
   ]
  },
  {
   "cell_type": "code",
   "execution_count": 59,
   "id": "cded4e8d-8594-4af5-bf84-e041f1057ae3",
   "metadata": {},
   "outputs": [
    {
     "name": "stdout",
     "output_type": "stream",
     "text": [
      "0\n",
      "300\n",
      "ATF_plasmid\n",
      "300\n"
     ]
    }
   ],
   "source": [
    "names_of_sites_we_want_to_amplify = ['ATF']\n",
    "name_of_terminator_site_to_be_incorporated= 'tTEF'\n",
    "\n",
    "extractions_sites = extract_template_amplification_sites(TEMPLATES, names_of_sites_we_want_to_amplify, name_of_terminator_site_to_be_incorporated)\n",
    "print(str(extractions_sites[0].name))\n",
    "print(len(extractions_sites[0].seq))"
   ]
  },
  {
   "cell_type": "code",
   "execution_count": 60,
   "id": "810965b5-7368-4c7a-a5c7-75f20bbb1a86",
   "metadata": {},
   "outputs": [
    {
     "data": {
      "text/plain": [
       "[{}]"
      ]
     },
     "execution_count": 60,
     "metadata": {},
     "output_type": "execute_result"
    }
   ],
   "source": [
    "extractions_sites[0].annotations['batches']"
   ]
  },
  {
   "cell_type": "code",
   "execution_count": 61,
   "id": "3d10fc8a-5059-47af-b67f-a3ec9ecf5406",
   "metadata": {},
   "outputs": [
    {
     "data": {
      "text/plain": [
       "' This function extracts the sequences from annotated sequences based on they names\\n    \\n    '"
      ]
     },
     "execution_count": 61,
     "metadata": {},
     "output_type": "execute_result"
    }
   ],
   "source": [
    "#def extract_sites(annotations, templates, names):\n",
    "''' This function extracts the sequences from annotated sequences based on they names\n",
    "    \n",
    "    '''\n",
    "    \n",
    "#    sites = []\n",
    "#    for anno, template, name in zip(annotations, templates, names):\n",
    "#        for feature in template.features:\n",
    "#            site = template[feature.location.start:feature.location.end]\n",
    "#            if feature.qualifiers['name'] == anno:\n",
    "#                site.name = name\n",
    "\n",
    "            # If there is an batch anotation we can save it \n",
    "#            if 'batches' in site.annotations.keys():\n",
    "#                site.annotations[\"batches\"].append(template.annotations['batches'][0])\n",
    "#            else: \n",
    "#                site.annotations[\"batches\"] = []\n",
    "#                site.annotations[\"batches\"].append(template.annotations)\n",
    "#\n",
    "#            sites.append(site) \n",
    "#    return(sites)\n"
   ]
  },
  {
   "cell_type": "code",
   "execution_count": 62,
   "id": "78da2388-fa4c-4007-848d-7d2d744057c6",
   "metadata": {},
   "outputs": [
    {
     "ename": "NameError",
     "evalue": "name 'extract_sites' is not defined",
     "output_type": "error",
     "traceback": [
      "\u001b[0;31m---------------------------------------------------------------------------\u001b[0m",
      "\u001b[0;31mNameError\u001b[0m                                 Traceback (most recent call last)",
      "Input \u001b[0;32mIn [62]\u001b[0m, in \u001b[0;36m<cell line: 15>\u001b[0;34m()\u001b[0m\n\u001b[1;32m     12\u001b[0m p_annotations \u001b[38;5;241m=\u001b[39m \u001b[38;5;124m'\u001b[39m\u001b[38;5;124mpCYC1\u001b[39m\u001b[38;5;124m'\u001b[39m\n\u001b[1;32m     13\u001b[0m p_names \u001b[38;5;241m=\u001b[39m \u001b[38;5;124m'\u001b[39m\u001b[38;5;124mpCYC1\u001b[39m\u001b[38;5;124m'\u001b[39m\n\u001b[0;32m---> 15\u001b[0m promoter_sites \u001b[38;5;241m=\u001b[39m  \u001b[43mextract_sites\u001b[49m(p_annotations, prom_template, p_names)\n\u001b[1;32m     16\u001b[0m \u001b[38;5;28mprint\u001b[39m(promoter_sites[\u001b[38;5;241m0\u001b[39m]\u001b[38;5;241m.\u001b[39mname)\n\u001b[1;32m     17\u001b[0m rec_vector\u001b[38;5;241m.\u001b[39madd_feature(\u001b[38;5;241m61\u001b[39m,\u001b[38;5;241m80\u001b[39m, label \u001b[38;5;241m=\u001b[39m [\u001b[38;5;124m'\u001b[39m\u001b[38;5;124mterminator\u001b[39m\u001b[38;5;124m'\u001b[39m], \u001b[38;5;28mtype\u001b[39m \u001b[38;5;241m=\u001b[39m \u001b[38;5;124m'\u001b[39m\u001b[38;5;124mterminator\u001b[39m\u001b[38;5;124m'\u001b[39m, name \u001b[38;5;241m=\u001b[39m \u001b[38;5;124m'\u001b[39m\u001b[38;5;124mtTEF\u001b[39m\u001b[38;5;124m'\u001b[39m)\n",
      "\u001b[0;31mNameError\u001b[0m: name 'extract_sites' is not defined"
     ]
    }
   ],
   "source": [
    "from Bio.SeqRecord import SeqRecord\n",
    "from pydna.dseqrecord import Dseqrecord\n",
    "\n",
    "features1 = [SeqFeature(FeatureLocation(2, 100, strand=1), type='Terminator1')]\n",
    "features2 = [SeqFeature(FeatureLocation(200, 300, strand=1), type='Terminator2')]\n",
    "features1[0].qualifiers['name'] =  'tTEF'\n",
    "features2[0].qualifiers['name'] =  'tTEF'\n",
    "\n",
    "prom_seq = Seq('CAGCATTTTCAAAGGTGTGTTCTTCGTCAGACATGTTTTAGTGTGTGAATGAAAATATAGATAGATGATGATGATA'*50)\n",
    "prom_template = [SeqRecord(seq = prom_seq, id='seq_DPrPIMvy', name='pCYC1', description='<unknown description>', dbxrefs=[], features = features1+ features2)]\n",
    "\n",
    "p_annotations = 'pCYC1'\n",
    "p_names = 'pCYC1'\n",
    "\n",
    "promoter_sites =  extract_sites(p_annotations, prom_template, p_names)\n",
    "print(promoter_sites[0].name)\n",
    "rec_vector.add_feature(61,80, label = ['terminator'], type = 'terminator', name = 'tTEF')\n"
   ]
  },
  {
   "cell_type": "code",
   "execution_count": null,
   "id": "cb908156-7d4a-47fc-84aa-588f209fd05e",
   "metadata": {},
   "outputs": [],
   "source": [
    "\n",
    "\n"
   ]
  },
  {
   "cell_type": "markdown",
   "id": "8e18b2ad-b047-44dc-8d3b-683991c7b7ab",
   "metadata": {},
   "source": [
    "#####  NOT WORKING RN"
   ]
  },
  {
   "cell_type": "code",
   "execution_count": 63,
   "id": "5435f6ec-f194-424d-8bb3-407ee541d576",
   "metadata": {},
   "outputs": [
    {
     "data": {
      "text/plain": [
       "[]"
      ]
     },
     "execution_count": 63,
     "metadata": {},
     "output_type": "execute_result"
    }
   ],
   "source": [
    "def extract_template_amplification_site(template, name):\n",
    "    \n",
    "    template_amplification_site = []\n",
    "    for feature in template.features:\n",
    "        if name in feature.qualifiers.get('name',\"\"):\n",
    "            \n",
    "            template_amp = template[feature.location.start:feature.location.end]\n",
    "            template_amp.name = feature.qualifiers.get('name',\"\")\n",
    "            template_amplification_site.append(template_amp)\n",
    "    \n",
    "    return template_amplification_site\n",
    "\n",
    "extract_template_amplification_site(rec_vector, 'ATF')"
   ]
  },
  {
   "cell_type": "code",
   "execution_count": 64,
   "id": "b9905296-a21b-46a2-a372-9048f551b82d",
   "metadata": {
    "tags": []
   },
   "outputs": [],
   "source": [
    "import sys\n",
    "sys.path.append('../constrain/lims')\n",
    "from benchling_api import from_benchling"
   ]
  },
  {
   "cell_type": "code",
   "execution_count": 65,
   "id": "b1af0f85-7675-447c-af13-53ce712263ae",
   "metadata": {
    "tags": []
   },
   "outputs": [
    {
     "data": {
      "text/plain": [
       "991"
      ]
     },
     "execution_count": 65,
     "metadata": {},
     "output_type": "execute_result"
    }
   ],
   "source": [
    "pG8H_template_names = ['pCYC1','pENO2','pPCK1','pRPL15B']\n",
    "pG8H_annotations = ['pCYC1','pENO2','pPCK1','pRPL15B']\n",
    "pG8H_names = ['pCYC1','pENO2','pPCK1','pRPL15B']\n",
    "\n",
    "\n",
    "pG8H_templates = [from_benchling(pname) for pname in pG8H_template_names]\n",
    "len(pG8H_templates[0].seq)\n"
   ]
  },
  {
   "cell_type": "code",
   "execution_count": 66,
   "id": "260d6101-ec8d-4ca3-888b-f084c0464aee",
   "metadata": {
    "tags": []
   },
   "outputs": [
    {
     "data": {
      "text/plain": [
       "[SeqFeature(FeatureLocation(ExactPosition(2), ExactPosition(989), strand=1), type='promoter')]"
      ]
     },
     "execution_count": 66,
     "metadata": {},
     "output_type": "execute_result"
    }
   ],
   "source": [
    "pG8H_templates[0].features"
   ]
  },
  {
   "cell_type": "code",
   "execution_count": 67,
   "id": "f04fc8df-2ff9-4e59-bf4b-ff27f4aa8454",
   "metadata": {},
   "outputs": [
    {
     "ename": "NameError",
     "evalue": "name 'extract_sites' is not defined",
     "output_type": "error",
     "traceback": [
      "\u001b[0;31m---------------------------------------------------------------------------\u001b[0m",
      "\u001b[0;31mNameError\u001b[0m                                 Traceback (most recent call last)",
      "Input \u001b[0;32mIn [67]\u001b[0m, in \u001b[0;36m<cell line: 1>\u001b[0;34m()\u001b[0m\n\u001b[0;32m----> 1\u001b[0m pG8H_sites1 \u001b[38;5;241m=\u001b[39m  \u001b[43mextract_sites\u001b[49m(pG8H_annotations, pG8H_templates, pG8H_names)\n\u001b[1;32m      2\u001b[0m \u001b[38;5;28mlen\u001b[39m(pG8H_sites1[\u001b[38;5;241m0\u001b[39m]\u001b[38;5;241m.\u001b[39mseq)\n",
      "\u001b[0;31mNameError\u001b[0m: name 'extract_sites' is not defined"
     ]
    }
   ],
   "source": [
    "pG8H_sites1 =  extract_sites(pG8H_annotations, pG8H_templates, pG8H_names)\n",
    "len(pG8H_sites1[0].seq)\n"
   ]
  },
  {
   "cell_type": "code",
   "execution_count": null,
   "id": "fa38e813-7c3f-410b-a57d-67306473c471",
   "metadata": {},
   "outputs": [],
   "source": [
    "from Bio.SeqRecord import SeqRecord\n",
    "from Bio.Seq import Seq\n",
    "from Bio.SeqFeature import SeqFeature, FeatureLocation\n",
    "\n",
    "features1 = [SeqFeature(FeatureLocation(2, 100, strand=1), type='promoter1')]\n",
    "features2 = [SeqFeature(FeatureLocation(200, 300, strand=1), type='promoter2')]\n",
    "features1[0].qualifiers['name'] =  'pCYC1'\n",
    "features2[0].qualifiers['name'] =  'pCYC1'\n",
    "\n",
    "prom_seq = Seq('CAGCATTTTCAAAGGTGTGTTCTTCGTCAGACATGTTTTAGTGTGTGAATGAAAATATAGATAGATGATGATGATA'*50)\n",
    "prom_template = [SeqRecord(seq = prom_seq, id='seq_DPrPIMvy', name='pCYC1', description='<unknown description>', dbxrefs=[], features = features1+ features2)]\n",
    "\n",
    "p_annotations = 'pCYC1'\n",
    "p_names = 'pCYC1'\n",
    "\n",
    "promoter_sites =  extract_sites(p_annotations, prom_template, p_names)\n",
    "print(promoter_sites[0].name)"
   ]
  },
  {
   "cell_type": "code",
   "execution_count": null,
   "id": "f9976fcf-1e2a-4306-8a8d-c53bb3734ac2",
   "metadata": {},
   "outputs": [],
   "source": [
    "def seq_to_annotation(seqrec_from, seqrec_onto, aType):\n",
    "    from Bio.Seq import Seq\n",
    "\n",
    "    ''' Anotate an amplicon object from another amplicon object'''\n",
    "    seq_from = seqrec_from.seq.watson.upper()\n",
    "    seq_onto = seqrec_onto.seq.watson.upper()\n",
    "    \n",
    "    # Find the match\n",
    "    strand = 1\n",
    "    match_index = seq_onto.find(seq_from)\n",
    "        \n",
    "    # if there is match\n",
    "    if match_index !=-1:\n",
    "        start = match_index\n",
    "        end =  start + len(seq_from)\n",
    "    else:\n",
    "        # If no match we look at the reverse complement\n",
    "        seq_onto = Seq(seq_onto)\n",
    "        rev_match_index = seq_onto.reverse_complement().find(seq_from)\n",
    "        \n",
    "        # if we get a match here\n",
    "        if rev_match_index != -1:\n",
    "            strand = -1\n",
    "            reclength = len(str(seqrec_onto.seq))\n",
    "            end = reclength - rev_match_index\n",
    "            start = end - len(seq_from)\n",
    "\n",
    "        else:\n",
    "            print(\"no match! seq:\" + str(seqrec_from.name) + \"\\nnot annealing to:\" + str(seqrec_onto.name))\n",
    "    \n",
    "    # add the feature to the amplicon\n",
    "    feature = Bio.SeqFeature.SeqFeature(Bio.SeqFeature.FeatureLocation(start, end), type=aType, strand=strand)\n",
    "    feature.qualifiers[\"label\"] = seqrec_from.id\n",
    "    seqrec_onto.features.append(feature)\n"
   ]
  },
  {
   "cell_type": "code",
   "execution_count": 68,
   "id": "483d18e0-8e3e-44ac-8520-220854177461",
   "metadata": {},
   "outputs": [
    {
     "data": {
      "text/plain": [
       "[SeqFeature(FeatureLocation(ExactPosition(0), ExactPosition(22), strand=1), type='primer_bind'),\n",
       " SeqFeature(FeatureLocation(ExactPosition(116), ExactPosition(142), strand=-1), type='primer_bind')]"
      ]
     },
     "execution_count": 68,
     "metadata": {},
     "output_type": "execute_result"
    }
   ],
   "source": [
    "template1 = 'TCTTTGAAAAGATAATGTATGATTATGCTTTCACTCATATTTATACAGAAACTTGATGTTTTCTTTCGAGTATATACAAGGTGATTACATGTACGTTTGAAGTACAACTCTAGATTTTGTAGTGCCCTCTTGGGCTAGCGGTAAAGGTGCGCATTTTTTCACACCCTACAATGTTCTGTTCAAAAGATTTTGGTCAAACGCTGTAGAAGTGAAAGTTGGTGCGCATGTTTCGGCGTTCGAAACTTCTCCGCAGTGAAAGATAAATGATCGCCGTAGTAACGTCGCTGTCGTTTTAGAGCTAGAAATAGCAAGTTAAAATAAGGCTAGTCCGTTATCAACTTGAAAAAGTGGCACCGAGTCGGTGGTGCTTTTTTTGTTTTTTATGTCTTCGAGTCATGTAATTAGTTAAGTGCAGGT'\n",
    "primerF1 = 'CGTGCGAUTCTTTGAAAAGATAATGTATGA'\n",
    "primerR1 = 'ACCTGCACUTAACTAATTACATGACTCGA'\n",
    "rec_vector1 = pcr(primerF,primerR, template)\n",
    "\n",
    "template2 = 'ATATTTATACAGAAACTTGATGTTTTCTTTCGAGTATATACAAGGTGATTACATGTACGTTTGAAGTACAACTCTAGATTTTGTAGTGCCCTCTTGGGCTAGCGGTAAAGGTGCGCATTTTTTCACACCCTACAATGTTCTG'\n",
    "primerF2 = 'ATATTTATACAGAAACTTGATG'\n",
    "primerR2 = 'CAGAACATTGTAGGGTGTGAAAAAAT'\n",
    "rec_vector2 = pcr(primerF2,primerR2, template2)\n",
    "\n",
    "rec_vector2.features"
   ]
  },
  {
   "cell_type": "code",
   "execution_count": 69,
   "id": "63dc7ad9-8dfe-4301-b960-e5eb6c2dac63",
   "metadata": {},
   "outputs": [
    {
     "data": {
      "text/plain": [
       "Dseq(-142)\n",
       "ATAT..TCTG\n",
       "TATA..AGAC"
      ]
     },
     "execution_count": 69,
     "metadata": {},
     "output_type": "execute_result"
    }
   ],
   "source": [
    "rec_vector2.seq"
   ]
  },
  {
   "cell_type": "code",
   "execution_count": 70,
   "id": "f4e38233-83e3-4e2b-82c6-bedb1c243c4a",
   "metadata": {},
   "outputs": [
    {
     "ename": "NameError",
     "evalue": "name 'seq_to_annotation' is not defined",
     "output_type": "error",
     "traceback": [
      "\u001b[0;31m---------------------------------------------------------------------------\u001b[0m",
      "\u001b[0;31mNameError\u001b[0m                                 Traceback (most recent call last)",
      "Input \u001b[0;32mIn [70]\u001b[0m, in \u001b[0;36m<cell line: 1>\u001b[0;34m()\u001b[0m\n\u001b[0;32m----> 1\u001b[0m \u001b[43mseq_to_annotation\u001b[49m(rec_vector2, rec_vector1, \u001b[38;5;124m'\u001b[39m\u001b[38;5;124mAMPLICON2\u001b[39m\u001b[38;5;124m'\u001b[39m)\n",
      "\u001b[0;31mNameError\u001b[0m: name 'seq_to_annotation' is not defined"
     ]
    }
   ],
   "source": [
    "seq_to_annotation(rec_vector2, rec_vector1, 'AMPLICON2')"
   ]
  },
  {
   "cell_type": "code",
   "execution_count": 71,
   "id": "745cf141-3aa9-4410-ac00-300aa7edb3f2",
   "metadata": {},
   "outputs": [
    {
     "ename": "IndexError",
     "evalue": "list index out of range",
     "output_type": "error",
     "traceback": [
      "\u001b[0;31m---------------------------------------------------------------------------\u001b[0m",
      "\u001b[0;31mIndexError\u001b[0m                                Traceback (most recent call last)",
      "Input \u001b[0;32mIn [71]\u001b[0m, in \u001b[0;36m<cell line: 1>\u001b[0;34m()\u001b[0m\n\u001b[0;32m----> 1\u001b[0m \u001b[43mrec_vector1\u001b[49m\u001b[38;5;241;43m.\u001b[39;49m\u001b[43mfeatures\u001b[49m\u001b[43m[\u001b[49m\u001b[38;5;241;43m2\u001b[39;49m\u001b[43m]\u001b[49m\u001b[38;5;241m.\u001b[39mlocation\u001b[38;5;241m.\u001b[39mend\u001b[38;5;241m.\u001b[39mposition\n",
      "\u001b[0;31mIndexError\u001b[0m: list index out of range"
     ]
    }
   ],
   "source": [
    "rec_vector1.features[2].location.end.position"
   ]
  },
  {
   "cell_type": "markdown",
   "id": "4177e2f7-86bc-4c12-9465-40f2c377bf95",
   "metadata": {},
   "source": [
    "## Test of CASEMBLER"
   ]
  },
  {
   "cell_type": "code",
   "execution_count": 72,
   "id": "2fc50e09-a8da-4434-a42f-5136b09f10cf",
   "metadata": {},
   "outputs": [],
   "source": [
    "import sys\n",
    "sys.path.append('../constrain/lims')\n",
    "from benchling_api import from_benchling"
   ]
  },
  {
   "cell_type": "code",
   "execution_count": 73,
   "id": "ad01f14d-de3f-4b82-a923-58d6a3cbeafd",
   "metadata": {},
   "outputs": [],
   "source": [
    "sites = [\"MIA-HA-2\"]"
   ]
  },
  {
   "cell_type": "code",
   "execution_count": 74,
   "id": "16a895e3-a5ad-4da2-adaf-60fb921dbd5f",
   "metadata": {},
   "outputs": [],
   "source": [
    "#CM3 = [from_benchling(name) for name in sites]\n"
   ]
  },
  {
   "cell_type": "code",
   "execution_count": 75,
   "id": "1484199d-6faa-494a-925d-f8a10cbaf398",
   "metadata": {},
   "outputs": [],
   "source": [
    "ATF1_gRNA = pydna.dseqrecord.Dseqrecord(\"GAATGGGCATGCTCGGCGTA\", name = \"ATF1\")\n",
    "CroCPR_gRNA = pydna.dseqrecord.Dseqrecord(\"GCCGTAGTAACGTCGCTGTC\", name = \"CroCPR\") #CroCPR gRNA-2"
   ]
  },
  {
   "cell_type": "code",
   "execution_count": 76,
   "id": "b48153ff-ef71-4467-bf9f-d22f812dccd6",
   "metadata": {},
   "outputs": [],
   "source": [
    "pRS413U_P2_PGK1_mKate2 = from_benchling(\"PL_02_E2(pRS413U-P2_PGK1-mKate2)\")\n",
    "pPGK1_Seq_Rv = from_benchling(\"pPGK1_Seq_Rv\", 'Primer')\n",
    "USER_XhoI_Fw = from_benchling(\"USER_XhoI_Fw\", 'Primer')"
   ]
  },
  {
   "cell_type": "code",
   "execution_count": 77,
   "id": "b073ab8b-328f-4206-880e-fa7f5f0ae4dd",
   "metadata": {},
   "outputs": [
    {
     "data": {
      "text/html": [
       "Amplicon(659)"
      ],
      "text/plain": [
       "Amplicon(659)"
      ]
     },
     "execution_count": 77,
     "metadata": {},
     "output_type": "execute_result"
    }
   ],
   "source": [
    "ATF1_repair_template = pydna.amplify.pcr(pPGK1_Seq_Rv, USER_XhoI_Fw, pRS413U_P2_PGK1_mKate2)\n",
    "ATF1_repair_template"
   ]
  },
  {
   "cell_type": "code",
   "execution_count": 78,
   "id": "0c10721e-686b-4173-ad85-ff53d93c3c18",
   "metadata": {},
   "outputs": [
    {
     "data": {
      "text/plain": [
       "665806"
      ]
     },
     "execution_count": 78,
     "metadata": {},
     "output_type": "execute_result"
    }
   ],
   "source": [
    "# Create function to download PCR template\n",
    "\n",
    "\n",
    "XIChromosomeSeq      = Bio.SeqIO.read('../data/raw/CENPK113-7d_11.fasta', \"fasta\")\n",
    "XIChromosomeSeq.annotations['batches'] = []\n",
    "XIChromosomeSeq.annotations['batches'].append({'location':\"l4_A01\"})\n",
    "len(XIChromosomeSeq)"
   ]
  },
  {
   "cell_type": "code",
   "execution_count": 79,
   "id": "a5972b67-a99c-4158-a67a-b55d8ff25efc",
   "metadata": {},
   "outputs": [
    {
     "data": {
      "text/plain": [
       "seq_OvLTlQju 20-mer:5'-GTGCTTGATTTGCGTCATTC-3'"
      ]
     },
     "execution_count": 79,
     "metadata": {},
     "output_type": "execute_result"
    }
   ],
   "source": [
    "XI_3_up_out_sq = from_benchling(\"XI-3- up-out-sq\", 'Primer')\n",
    "XI_3_down_out_sq = from_benchling(\"XI-3- down-out-sq\", 'Primer')\n",
    "XI_3_up_out_sq"
   ]
  },
  {
   "cell_type": "code",
   "execution_count": 80,
   "id": "bbb4bb82-9a3c-4b92-b42c-b216fd906241",
   "metadata": {},
   "outputs": [
    {
     "data": {
      "text/html": [
       "Amplicon(1449)"
      ],
      "text/plain": [
       "Amplicon(1449)"
      ]
     },
     "execution_count": 80,
     "metadata": {},
     "output_type": "execute_result"
    }
   ],
   "source": [
    "from pydna.amplify import pcr\n",
    "\n",
    "CPR_repair_template = pydna.amplify.pcr(XI_3_up_out_sq,XI_3_down_out_sq, XIChromosomeSeq)\n",
    "CPR_repair_template"
   ]
  },
  {
   "cell_type": "code",
   "execution_count": 81,
   "id": "5b3a6fcc-9375-439f-97c3-7f6dac87bb47",
   "metadata": {},
   "outputs": [
    {
     "ename": "NameError",
     "evalue": "name 'CM3' is not defined",
     "output_type": "error",
     "traceback": [
      "\u001b[0;31m---------------------------------------------------------------------------\u001b[0m",
      "\u001b[0;31mNameError\u001b[0m                                 Traceback (most recent call last)",
      "Input \u001b[0;32mIn [81]\u001b[0m, in \u001b[0;36m<cell line: 2>\u001b[0;34m()\u001b[0m\n\u001b[1;32m      1\u001b[0m parameters \u001b[38;5;241m=\u001b[39m {\n\u001b[0;32m----> 2\u001b[0m \u001b[38;5;124m'\u001b[39m\u001b[38;5;124mbg_strain\u001b[39m\u001b[38;5;124m'\u001b[39m: \u001b[43mCM3\u001b[49m,\n\u001b[1;32m      3\u001b[0m \u001b[38;5;124m'\u001b[39m\u001b[38;5;124msite_names\u001b[39m\u001b[38;5;124m'\u001b[39m: [\u001b[38;5;124m\"\u001b[39m\u001b[38;5;124mX-3\u001b[39m\u001b[38;5;124m\"\u001b[39m, \u001b[38;5;124m\"\u001b[39m\u001b[38;5;124mXI-3\u001b[39m\u001b[38;5;124m\"\u001b[39m],\n\u001b[1;32m      4\u001b[0m \u001b[38;5;124m'\u001b[39m\u001b[38;5;124mgRNAs\u001b[39m\u001b[38;5;124m'\u001b[39m: [ATF1_gRNA, CroCPR_gRNA],\n\u001b[1;32m      5\u001b[0m \u001b[38;5;124m'\u001b[39m\u001b[38;5;124mparts\u001b[39m\u001b[38;5;124m'\u001b[39m: [ATF1_repair_template,CPR_repair_template],\n\u001b[1;32m      6\u001b[0m \u001b[38;5;124m'\u001b[39m\u001b[38;5;124massembly_limits\u001b[39m\u001b[38;5;124m'\u001b[39m:[\u001b[38;5;241m200\u001b[39m,\u001b[38;5;241m400\u001b[39m],\n\u001b[1;32m      7\u001b[0m \u001b[38;5;124m'\u001b[39m\u001b[38;5;124massembly_names\u001b[39m\u001b[38;5;124m'\u001b[39m: [\u001b[38;5;124m\"\u001b[39m\u001b[38;5;124mX_3_tADH1_P2_pPGK1\u001b[39m\u001b[38;5;124m\"\u001b[39m, \u001b[38;5;124m\"\u001b[39m\u001b[38;5;124mXI_3_UP_DW\u001b[39m\u001b[38;5;124m\"\u001b[39m],\n\u001b[1;32m      8\u001b[0m \u001b[38;5;124m'\u001b[39m\u001b[38;5;124mverbose\u001b[39m\u001b[38;5;124m'\u001b[39m: \u001b[38;5;28;01mFalse\u001b[39;00m,\n\u001b[1;32m      9\u001b[0m \u001b[38;5;124m'\u001b[39m\u001b[38;5;124mto_benchling\u001b[39m\u001b[38;5;124m'\u001b[39m: \u001b[38;5;28;01mFalse\u001b[39;00m  \n\u001b[1;32m     10\u001b[0m }\n",
      "\u001b[0;31mNameError\u001b[0m: name 'CM3' is not defined"
     ]
    }
   ],
   "source": [
    "parameters = {\n",
    "'bg_strain': CM3,\n",
    "'site_names': [\"X-3\", \"XI-3\"],\n",
    "'gRNAs': [ATF1_gRNA, CroCPR_gRNA],\n",
    "'parts': [ATF1_repair_template,CPR_repair_template],\n",
    "'assembly_limits':[200,400],\n",
    "'assembly_names': [\"X_3_tADH1_P2_pPGK1\", \"XI_3_UP_DW\"],\n",
    "'verbose': False,\n",
    "'to_benchling': False  \n",
    "}"
   ]
  },
  {
   "cell_type": "code",
   "execution_count": 82,
   "id": "3765e8b2-ea71-4891-8fd3-ab50ee89b8e3",
   "metadata": {},
   "outputs": [
    {
     "ename": "NameError",
     "evalue": "name 'CM3' is not defined",
     "output_type": "error",
     "traceback": [
      "\u001b[0;31m---------------------------------------------------------------------------\u001b[0m",
      "\u001b[0;31mNameError\u001b[0m                                 Traceback (most recent call last)",
      "Input \u001b[0;32mIn [82]\u001b[0m, in \u001b[0;36m<cell line: 1>\u001b[0;34m()\u001b[0m\n\u001b[0;32m----> 1\u001b[0m \u001b[38;5;28mprint\u001b[39m(\u001b[38;5;28mlen\u001b[39m(\u001b[43mCM3\u001b[49m))\n\u001b[1;32m      2\u001b[0m \u001b[38;5;28mprint\u001b[39m(\u001b[38;5;28mlen\u001b[39m(ATF1_gRNA))\n\u001b[1;32m      3\u001b[0m \u001b[38;5;28mprint\u001b[39m(\u001b[38;5;28mlen\u001b[39m(CroCPR_gRNA))\n",
      "\u001b[0;31mNameError\u001b[0m: name 'CM3' is not defined"
     ]
    }
   ],
   "source": [
    "print(len(CM3))\n",
    "print(len(ATF1_gRNA))\n",
    "print(len(CroCPR_gRNA))\n",
    "print(len(ATF1_repair_template))\n",
    "print(len(CPR_repair_template))"
   ]
  },
  {
   "cell_type": "code",
   "execution_count": 83,
   "id": "d0f1caad-3b0d-41a8-a564-8ce86b4fabae",
   "metadata": {},
   "outputs": [],
   "source": [
    "def casembler(bg_strain, site_names=None, gRNAs=None, parts=None, assembly_limits=None, assembly_names=None, verbose=False, to_benchling=False):\n",
    "\n",
    "    \"\"\"\n",
    "    Simulate in vivo assembly and integration\n",
    "    \n",
    "    Parameters\n",
    "    ----------\n",
    "    bg_strain      \n",
    "    site_names      list of names                      e.g. [X-3, XI-3]    \n",
    "    gRNAs           list of 20 bp seqrecords           e.g. [ATF1_gRNA, CroCPR_gRNA]\n",
    "    parts           list of list of parts              e.g. [[ATF1_repair_template],[CPR_repair_template]]\n",
    "    assembly_limits list of numbers of bp              e.g. [200,400]\n",
    "    assembly_names  list of names of DNA post assembly e.g. [\"X_3_tADH1_P2_pPGK1\", \"XI_3_UP_DW\"]\n",
    "    verbose         write DNA                          e.g. False\n",
    "    to_benchling    upload DNA                         e.g. False\n",
    "    \n",
    "    Returns\n",
    "    -------\n",
    "    \n",
    "    One dseqrecord\n",
    "    Examples\n",
    "    --------\n",
    "    \"\"\"\n",
    "    \n",
    "    assemblies = []\n",
    "    for int_no in range(0,len(gRNAs)):  \n",
    "        \n",
    "        gRNA = Dseqrecord(gRNAs[int_no])\n",
    "        print(gRNA)\n",
    "        print(type(gRNA))\n",
    "        site_name = site_names[int_no]\n",
    "        site = extract_sites([site_name][int_no], [bg_strain][int_no], [site_name][int_no])\n",
    "        print(site)\n",
    "        print(type(site))\n",
    "        UP, DW = CAS9_cutting(gRNA, site[int_no])\n",
    "        print(UP, DW)\n",
    "\n",
    "        fragments = [UP] + [parts[int_no]] +  [DW]\n",
    "        print(fragments)\n",
    "        \n",
    "        assembly = pydna.assembly.Assembly(fragments, limit=assembly_limits[int_no]).assemble_linear()\n",
    "        print(assembly)\n",
    "        # sometimes pydna.assembly.Assembly distorts the start, end location of features to become negative which produces and error when printing. This function is created as a workaround. \n",
    "        # CPR assembly gives DW_XI_3 annotation called \"DW_XI_3\" a negative start location.\n",
    "        # A quick workaround is to remove featuere\n",
    "        #remove_features_with_negative_loc(assembly)\n",
    "        \n",
    "        assembly.name = assembly_names[int_no]\n",
    "        \n",
    "        assembly_feat = Bio.SeqFeature.SeqFeature(Bio.SeqFeature.FeatureLocation(0, len(assembly), strand=1), type=\"misc_feature\")\n",
    "        assembly_feat.qualifiers['name']= site_names[int_no]\n",
    "        assembly_feat.qualifiers['label']= site_names[int_no]\n",
    "        assembly.features.append(assembly_feat)\n",
    "        \n",
    "        if verbose:\n",
    "            DNAs = [UP] + [assembly] + [DW]\n",
    "            for DNA in DNAs:\n",
    "                DNA.write(\"./\" + DNA.name + \".gb\") # \"../data/processed/\"\n",
    "        \n",
    "        if to_benchling:\n",
    "            utils.to_benchling(assembly, \"to_benchling\")\n",
    "        \n",
    "        assemblies.append(assembly)\n",
    "        \n",
    "    return functools.reduce(lambda x, y: x+y, assemblies)\n"
   ]
  },
  {
   "cell_type": "code",
   "execution_count": 84,
   "id": "116c4eab-4e84-455d-9c75-8bef1dfa40e8",
   "metadata": {},
   "outputs": [
    {
     "ename": "NameError",
     "evalue": "name 'parameters' is not defined",
     "output_type": "error",
     "traceback": [
      "\u001b[0;31m---------------------------------------------------------------------------\u001b[0m",
      "\u001b[0;31mNameError\u001b[0m                                 Traceback (most recent call last)",
      "Input \u001b[0;32mIn [84]\u001b[0m, in \u001b[0;36m<cell line: 1>\u001b[0;34m()\u001b[0m\n\u001b[0;32m----> 1\u001b[0m HA1 \u001b[38;5;241m=\u001b[39m casembler(\u001b[38;5;241m*\u001b[39m\u001b[38;5;241m*\u001b[39m\u001b[43mparameters\u001b[49m)\n",
      "\u001b[0;31mNameError\u001b[0m: name 'parameters' is not defined"
     ]
    }
   ],
   "source": [
    "HA1 = casembler(**parameters)"
   ]
  },
  {
   "cell_type": "markdown",
   "id": "e9ca328a-a298-4f42-95d7-655ec000560a",
   "metadata": {},
   "source": [
    "### 2nd try"
   ]
  },
  {
   "cell_type": "code",
   "execution_count": 85,
   "id": "1b36f237-7b61-4073-baf4-5c0204f4c56d",
   "metadata": {},
   "outputs": [],
   "source": [
    "HA1 = from_benchling(\"MIA-HA-1\")\n"
   ]
  },
  {
   "cell_type": "code",
   "execution_count": 86,
   "id": "f89465b7-6d5d-472d-804e-2b03b41f7d86",
   "metadata": {},
   "outputs": [],
   "source": [
    "XI2_2_gRNA = pydna.dseqrecord.Dseqrecord(\"ACCCCCCTCAACTGATCAAC\", name = \"XI2-2_gRNA\")"
   ]
  },
  {
   "cell_type": "code",
   "execution_count": 87,
   "id": "722d7190-1189-446c-976a-58c453cba559",
   "metadata": {},
   "outputs": [],
   "source": [
    "parameters = {\n",
    "'bg_strain': HA1,\n",
    "'site_names': [\"XI_2\"],\n",
    "'gRNAs': [XI2_2_gRNA],\n",
    "#'parts': [flat_cro_combinations_matrix[0]],\n",
    "'assembly_limits':[30],\n",
    "#'assembly_names': [\"pCYC1_pURE2\"],\n",
    "'verbose': False,\n",
    "'to_benchling': False  \n",
    "}"
   ]
  },
  {
   "cell_type": "code",
   "execution_count": 88,
   "id": "eb04bc17-32f5-47a2-92fe-2c31dc5a4388",
   "metadata": {},
   "outputs": [],
   "source": [
    "parts= [['PCR_UP_tADH1_01', 'PCR_G8H_21', 'PCR_PRO_01', 'PCR_PRO_05', 'PCR_CPR_01', 'PCR_TRP1-DW_01', 'PCR_TRP1-DW_02'],\n",
    "        ['PCR_UP_tADH1_01', 'PCR_G8H_21', 'PCR_PRO_01', 'PCR_PRO_04', 'PCR_CPR_11', 'PCR_TRP1-DW_01', 'PCR_TRP1-DW_02'],\n",
    "        ['PCR_UP_tADH1_01', 'PCR_G8H_21', 'PCR_PRO_01', 'PCR_PRO_03', 'PCR_CPR_21', 'PCR_TRP1-DW_01', 'PCR_TRP1-DW_02']]"
   ]
  },
  {
   "cell_type": "code",
   "execution_count": 89,
   "id": "0ee3c712-09e4-4a6a-bc5a-17e8d805cb15",
   "metadata": {},
   "outputs": [],
   "source": [
    "assembly_names = ['MIA-HA-2',\n",
    " 'MIA-HA-3',\n",
    " 'MIA-HA-4',\n",
    " 'MIA-HA-5',\n",
    " 'MIA-HA-6',\n",
    " 'MIA-HA-7',\n",
    " 'MIA-HA-8',\n",
    " 'MIA-HA-9',\n",
    " 'MIA-HA-10',\n",
    " 'MIA-HA-11',\n",
    " 'MIA-HA-12',\n",
    " 'MIA-HA-13',\n",
    " 'MIA-HA-14',\n",
    " 'MIA-HA-15',\n",
    " 'MIA-HA-16',\n",
    " 'MIA-HA-17']"
   ]
  },
  {
   "cell_type": "code",
   "execution_count": 90,
   "id": "c2bac759-6774-4973-ac41-e39abb692cba",
   "metadata": {},
   "outputs": [],
   "source": [
    "def extract_sites(annotations, templates, names):\n",
    "    sites = []\n",
    "    for anno, template, name in zip(annotations, templates, names):\n",
    "        for feature in template.features:\n",
    "            if feature.qualifiers['name'] == anno:\n",
    "                site = template[feature.location.start:feature.location.end]\n",
    "        site.name = name\n",
    "        site.annotations['template_location'] = template.annotations['location']\n",
    "        sites.append(site) \n",
    "    return(sites)"
   ]
  },
  {
   "cell_type": "code",
   "execution_count": 91,
   "id": "9d9296ea-f16e-4881-b6f2-242554642456",
   "metadata": {},
   "outputs": [
    {
     "name": "stdout",
     "output_type": "stream",
     "text": [
      "Dseqrecord\n",
      "circular: False\n",
      "size: 20\n",
      "ID: id\n",
      "Name: XI2-2_gRNA\n",
      "Description: description\n",
      "Number of features: 0\n",
      "/molecule_type=DNA\n",
      "Dseq(-20)\n",
      "ACCCCCCTCAACTGATCAAC\n",
      "TGGGGGGAGTTGACTAGTTG\n",
      "<class 'pydna.dseqrecord.Dseqrecord'>\n"
     ]
    },
    {
     "ename": "AttributeError",
     "evalue": "'str' object has no attribute 'features'",
     "output_type": "error",
     "traceback": [
      "\u001b[0;31m---------------------------------------------------------------------------\u001b[0m",
      "\u001b[0;31mAttributeError\u001b[0m                            Traceback (most recent call last)",
      "Input \u001b[0;32mIn [91]\u001b[0m, in \u001b[0;36m<cell line: 2>\u001b[0;34m()\u001b[0m\n\u001b[1;32m      1\u001b[0m assemblies \u001b[38;5;241m=\u001b[39m []\n\u001b[1;32m      2\u001b[0m \u001b[38;5;28;01mfor\u001b[39;00m i, name \u001b[38;5;129;01min\u001b[39;00m \u001b[38;5;28menumerate\u001b[39m(assembly_names):\n\u001b[0;32m----> 3\u001b[0m     assembly \u001b[38;5;241m=\u001b[39m \u001b[43mcasembler\u001b[49m\u001b[43m(\u001b[49m\u001b[38;5;241;43m*\u001b[39;49m\u001b[38;5;241;43m*\u001b[39;49m\u001b[43m{\u001b[49m\u001b[38;5;124;43m'\u001b[39;49m\u001b[38;5;124;43mparts\u001b[39;49m\u001b[38;5;124;43m'\u001b[39;49m\u001b[43m          \u001b[49m\u001b[43m:\u001b[49m\u001b[43m \u001b[49m\u001b[43m[\u001b[49m\u001b[43mparts\u001b[49m\u001b[43m[\u001b[49m\u001b[43mi\u001b[49m\u001b[43m]\u001b[49m\u001b[43m]\u001b[49m\u001b[43m,\u001b[49m\n\u001b[1;32m      4\u001b[0m \u001b[43m                                  \u001b[49m\u001b[38;5;124;43m'\u001b[39;49m\u001b[38;5;124;43massembly_names\u001b[39;49m\u001b[38;5;124;43m'\u001b[39;49m\u001b[43m \u001b[49m\u001b[43m:\u001b[49m\u001b[43m \u001b[49m\u001b[43m[\u001b[49m\u001b[43mname\u001b[49m\u001b[43m]\u001b[49m\u001b[43m,\u001b[49m\u001b[43m \u001b[49m\n\u001b[1;32m      5\u001b[0m \u001b[43m                                   \u001b[49m\u001b[38;5;241;43m*\u001b[39;49m\u001b[38;5;241;43m*\u001b[39;49m\u001b[43mparameters\u001b[49m\u001b[43m}\u001b[49m\u001b[43m)\u001b[49m\n\u001b[1;32m      6\u001b[0m     assemblies\u001b[38;5;241m.\u001b[39mappend(assembly)\n",
      "Input \u001b[0;32mIn [83]\u001b[0m, in \u001b[0;36mcasembler\u001b[0;34m(bg_strain, site_names, gRNAs, parts, assembly_limits, assembly_names, verbose, to_benchling)\u001b[0m\n\u001b[1;32m     30\u001b[0m \u001b[38;5;28mprint\u001b[39m(\u001b[38;5;28mtype\u001b[39m(gRNA))\n\u001b[1;32m     31\u001b[0m site_name \u001b[38;5;241m=\u001b[39m site_names[int_no]\n\u001b[0;32m---> 32\u001b[0m site \u001b[38;5;241m=\u001b[39m \u001b[43mextract_sites\u001b[49m\u001b[43m(\u001b[49m\u001b[43m[\u001b[49m\u001b[43msite_name\u001b[49m\u001b[43m]\u001b[49m\u001b[43m[\u001b[49m\u001b[43mint_no\u001b[49m\u001b[43m]\u001b[49m\u001b[43m,\u001b[49m\u001b[43m \u001b[49m\u001b[43m[\u001b[49m\u001b[43mbg_strain\u001b[49m\u001b[43m]\u001b[49m\u001b[43m[\u001b[49m\u001b[43mint_no\u001b[49m\u001b[43m]\u001b[49m\u001b[43m,\u001b[49m\u001b[43m \u001b[49m\u001b[43m[\u001b[49m\u001b[43msite_name\u001b[49m\u001b[43m]\u001b[49m\u001b[43m[\u001b[49m\u001b[43mint_no\u001b[49m\u001b[43m]\u001b[49m\u001b[43m)\u001b[49m\n\u001b[1;32m     33\u001b[0m \u001b[38;5;28mprint\u001b[39m(site)\n\u001b[1;32m     34\u001b[0m \u001b[38;5;28mprint\u001b[39m(\u001b[38;5;28mtype\u001b[39m(site))\n",
      "Input \u001b[0;32mIn [90]\u001b[0m, in \u001b[0;36mextract_sites\u001b[0;34m(annotations, templates, names)\u001b[0m\n\u001b[1;32m      2\u001b[0m sites \u001b[38;5;241m=\u001b[39m []\n\u001b[1;32m      3\u001b[0m \u001b[38;5;28;01mfor\u001b[39;00m anno, template, name \u001b[38;5;129;01min\u001b[39;00m \u001b[38;5;28mzip\u001b[39m(annotations, templates, names):\n\u001b[0;32m----> 4\u001b[0m     \u001b[38;5;28;01mfor\u001b[39;00m feature \u001b[38;5;129;01min\u001b[39;00m \u001b[43mtemplate\u001b[49m\u001b[38;5;241;43m.\u001b[39;49m\u001b[43mfeatures\u001b[49m:\n\u001b[1;32m      5\u001b[0m         \u001b[38;5;28;01mif\u001b[39;00m feature\u001b[38;5;241m.\u001b[39mqualifiers[\u001b[38;5;124m'\u001b[39m\u001b[38;5;124mname\u001b[39m\u001b[38;5;124m'\u001b[39m] \u001b[38;5;241m==\u001b[39m anno:\n\u001b[1;32m      6\u001b[0m             site \u001b[38;5;241m=\u001b[39m template[feature\u001b[38;5;241m.\u001b[39mlocation\u001b[38;5;241m.\u001b[39mstart:feature\u001b[38;5;241m.\u001b[39mlocation\u001b[38;5;241m.\u001b[39mend]\n",
      "\u001b[0;31mAttributeError\u001b[0m: 'str' object has no attribute 'features'"
     ]
    }
   ],
   "source": [
    "\n",
    "\n",
    "assemblies = []\n",
    "for i, name in enumerate(assembly_names):\n",
    "    assembly = casembler(**{'parts'          : [parts[i]],\n",
    "                                  'assembly_names' : [name], \n",
    "                                   **parameters})\n",
    "    assemblies.append(assembly)"
   ]
  },
  {
   "cell_type": "code",
   "execution_count": null,
   "id": "9507a54c-d1ac-4091-b8c7-7ca412ca40a0",
   "metadata": {},
   "outputs": [],
   "source": [
    "def UPandDW(strain, isite_name):\n",
    "    \"\"\"\n",
    "    take strain and grna\n",
    "    output UP and DW seqrecord\n",
    "    \"\"\" \n",
    "    \n",
    "    # load lookup table\n",
    "    gRNAtable = pd.read_csv(\"../data/raw/gRNAtable.csv\", index_col=\"name\")\n",
    "    \n",
    "    chromosome_no      = gRNAtable.loc[isite_name,'chromosome']\n",
    "    \n",
    "    # load chromosome\n",
    "    PathToChromosomeSeq = \"../data/raw/\" + strain + \"/\" + str(chromosome_no).zfill(2) + \".fa\"\n",
    "    ChromosomeSeq      = Bio.SeqIO.read(PathToChromosomeSeq, \"fasta\").seq\n",
    "    \n",
    "    \n",
    "    # define homology region location with respect to gRNA sequence\n",
    "    # f_hom is the length of the UP homology\n",
    "    # e_hom is the length of the DW homology\n",
    "    # f_dist is distance from end of UP homology to the first base in isite_sequence\n",
    "    # e_dist is distance from end of the isite_sequence to DW homology\n",
    "    f_dist = gRNAtable.loc[isite_name,'f_dist']\n",
    "    e_dist = gRNAtable.loc[isite_name,'e_dist']\n",
    "    f_hom   = gRNAtable.loc[isite_name,'f_hom']\n",
    "    e_hom   = gRNAtable.loc[isite_name,'e_hom']\n",
    "    \n",
    "    \n",
    "    isite_sequence = gRNAtable.loc[isite_name,'sequence']\n",
    "    isite_sequence = Bio.Seq.Seq(isite_sequence)\n",
    "    \n",
    "    # Determine gRNA sequence strand\n",
    "    gRNA_strand = 1\n",
    "    if ChromosomeSeq.find(isite_sequence)==-1:\n",
    "        print('not on +1')\n",
    "        gRNA_strand = -1\n",
    "        isite_sequence = isite_sequence.reverse_complement()\n",
    "        if ChromosomeSeq.find(isite_sequence)==-1:\n",
    "            print('not on -1')\n",
    "            print(\"CAN'T FIND THE CUT SITE IN YOUR SEQUENCE\")\n",
    "    \n",
    "    # Locate UP and DW\n",
    "    StartIndex = ChromosomeSeq.find(isite_sequence)\n",
    "    EndIndex   = StartIndex \n",
    "    \n",
    "    \n",
    "    \n",
    "    UPseq = ChromosomeSeq[StartIndex + f_dist - f_hom : StartIndex  + f_dist]\n",
    "    DWseq = ChromosomeSeq[EndIndex + e_dist          : EndIndex + e_dist+ e_hom]\n",
    "\n",
    "    UPrec = Bio.SeqRecord.SeqRecord(UPseq, name=isite_name + \"UP\")\n",
    "    DWrec = Bio.SeqRecord.SeqRecord(DWseq, name=isite_name + \"DW\")\n",
    "    \n",
    "    # Annotate \n",
    "    UP_feature = Bio.SeqFeature.SeqFeature(Bio.SeqFeature.FeatureLocation(0, len(UPseq)), type=\"misc_feature\", strand=+1)\n",
    "    UP_feature.qualifiers[\"label\"] = UPrec.name\n",
    "    UPrec.features.append(UP_feature)\n",
    "    \n",
    "    DW_feature = Bio.SeqFeature.SeqFeature(Bio.SeqFeature.FeatureLocation(0, len(DWseq)), type=\"misc_feature\", strand=+1)\n",
    "    DW_feature.qualifiers[\"label\"] = DWrec.name\n",
    "    DWrec.features.append(DW_feature)\n",
    "    \n",
    "    return(([UPrec], [DWrec]))\n"
   ]
  },
  {
   "cell_type": "code",
   "execution_count": null,
   "id": "476ac8a4-0a69-4663-9558-ac56b07fa523",
   "metadata": {},
   "outputs": [],
   "source": []
  },
  {
   "cell_type": "code",
   "execution_count": null,
   "id": "9e67195e-b5ac-47b5-9e57-988a77e60d95",
   "metadata": {},
   "outputs": [],
   "source": []
  }
 ],
 "metadata": {
  "kernelspec": {
   "display_name": "Python 3 (ipykernel)",
   "language": "python",
   "name": "python3"
  },
  "language_info": {
   "codemirror_mode": {
    "name": "ipython",
    "version": 3
   },
   "file_extension": ".py",
   "mimetype": "text/x-python",
   "name": "python",
   "nbconvert_exporter": "python",
   "pygments_lexer": "ipython3",
   "version": "3.8.13"
  }
 },
 "nbformat": 4,
 "nbformat_minor": 5
}
