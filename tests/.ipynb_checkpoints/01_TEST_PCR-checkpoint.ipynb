{
 "cells": [
  {
   "cell_type": "code",
   "execution_count": 2,
   "id": "418e9f63-8807-4e65-8b24-9690015cc1a6",
   "metadata": {},
   "outputs": [],
   "source": [
    "import math"
   ]
  },
  {
   "cell_type": "code",
   "execution_count": 8,
   "id": "4792014e-76ea-4fd2-a444-dd0f099147b5",
   "metadata": {},
   "outputs": [],
   "source": [
    "from constrain.lab.PCR import *"
   ]
  },
  {
   "cell_type": "code",
   "execution_count": 9,
   "id": "d9b7598f-c862-4421-bc87-4c4beb81d603",
   "metadata": {},
   "outputs": [],
   "source": [
    "def grouper(iterable, max_diff):\n",
    "    prev = None\n",
    "    group = []\n",
    "    for item in iterable:\n",
    "        if not prev or item - prev <= max_diff:\n",
    "            group.append(item)\n",
    "        else:\n",
    "            yield group\n",
    "            group = [item]\n",
    "        prev = item\n",
    "    if group:\n",
    "        yield group"
   ]
  },
  {
   "cell_type": "code",
   "execution_count": 10,
   "id": "1bab925e-37da-4eed-9c73-475f09a38e92",
   "metadata": {},
   "outputs": [],
   "source": [
    "elong_times = [60,60, 46, 60, 45, 30, 200, 100]\n",
    "elong_times.sort()\n",
    "elong_time_max_diff = 10"
   ]
  },
  {
   "cell_type": "code",
   "execution_count": 11,
   "id": "a3030177-43cf-411f-8266-5e3f1e040a85",
   "metadata": {},
   "outputs": [
    {
     "data": {
      "text/plain": [
       "{1: [30], 2: [45, 46], 3: [60, 60, 60], 4: [100], 5: [200]}"
      ]
     },
     "execution_count": 11,
     "metadata": {},
     "output_type": "execute_result"
    }
   ],
   "source": [
    "groups = dict(enumerate(grouper(elong_times,elong_time_max_diff), 1))\n",
    "groups"
   ]
  },
  {
   "cell_type": "code",
   "execution_count": 12,
   "id": "3c57a912-e144-4e90-9979-6ba31a5ce7ff",
   "metadata": {},
   "outputs": [
    {
     "data": {
      "text/plain": [
       "<generator object grouper at 0x7ff09019c740>"
      ]
     },
     "execution_count": 12,
     "metadata": {},
     "output_type": "execute_result"
    }
   ],
   "source": [
    "grouper(elong_times,elong_time_max_diff)"
   ]
  },
  {
   "cell_type": "code",
   "execution_count": 13,
   "id": "6ff10f62-25b5-4c32-87ab-5156b7781ab2",
   "metadata": {},
   "outputs": [
    {
     "data": {
      "text/html": [
       "Amplicon(2123)"
      ],
      "text/plain": [
       "Amplicon(2123)"
      ]
     },
     "execution_count": 13,
     "metadata": {},
     "output_type": "execute_result"
    }
   ],
   "source": [
    "from pydna.dseqrecord import Dseqrecord\n",
    "from pydna.readers import read\n",
    "from pydna.amplify import pcr\n",
    "from pydna.primer import Primer\n",
    "from Bio.SeqRecord import SeqRecord\n",
    "    \n",
    "# initialize\n",
    "middle = 'a'*2000\n",
    "template = Dseqrecord(\"tacactcaccgtctatcattatcagcgacgaagcgagcgcgaccgcgagcgcgagcgca\"+middle+\"caggagcgagacacggcgacgcgagcgagcgagcgatactatcgactgtatcatctgatagcac\")\n",
    "p1 = Primer(\"tacactcaccgtctatcattatc\")\n",
    "p2 = Primer(\"cgactgtatcatctgatagcac\").reverse_complement()\n",
    "amplicon = pcr(p1, p2, template)\n",
    "amplicon.annotations['polymerase'] = \"OneTaq Hot Start\"\n",
    "det_proc_speed(amplicon)\n"
   ]
  },
  {
   "cell_type": "code",
   "execution_count": null,
   "id": "047036b0-db38-406d-bf62-6cf876f7df63",
   "metadata": {},
   "outputs": [],
   "source": [
    "\n",
    "    "
   ]
  },
  {
   "cell_type": "code",
   "execution_count": 25,
   "id": "6e83fb03-34ab-4730-8d87-1b9b319b8508",
   "metadata": {},
   "outputs": [],
   "source": [
    "list_of_conc = nanophotometer_concentrations(path = '../tests/files_for_testing/2021-03-29_G8H_CPR_library_part_concentrations.tsv')\n",
    "\n",
    "assert list_of_conc[0] ==142.8\n",
    "assert list_of_conc[1] ==134.5\n",
    "\n",
    "assert list_of_conc[-2] ==17.5\n",
    "assert list_of_conc[-1] ==39.9"
   ]
  },
  {
   "cell_type": "code",
   "execution_count": null,
   "id": "3ca1434f-dbea-4c5c-b3bd-148087934922",
   "metadata": {},
   "outputs": [],
   "source": [
    "# It looks like such when we try to find the locations of the PCR products\n",
    "pcr_locations([gRNA1_pcr_prod, gRNA2_pcr_prod])"
   ]
  },
  {
   "cell_type": "code",
   "execution_count": 31,
   "id": "11f8b778-e3cd-44b8-802b-b74e2f44d20e",
   "metadata": {},
   "outputs": [
    {
     "data": {
      "text/plain": [
       "SeqRecord(seq=Seq('TTTAATCTTTAGGGAGGGTAAAGTTGGATTCATCAATTTGATGAAATCCGTGTA...AAA'), id='gRNA_prod1', name='gRNA_prod1', description=' gRNA_prod1', dbxrefs=[])"
      ]
     },
     "execution_count": 31,
     "metadata": {},
     "output_type": "execute_result"
    }
   ],
   "source": [
    "from Bio import SeqIO\n",
    "from pydna.dseqrecord import Dseqrecord\n",
    "\n",
    "dna = Dseqrecord('ATGATATATGGCTCGACTGCAGGGGGATTTTTCCGGATCGCGGTCGATGACTGATACTACTACGACTACTAG')\n",
    "primer1 = Dseqrecord('ATGATATATGGCTCGAC')\n",
    "primer2 = Dseqrecord('ATGATATATGGCTCGAC').rreverse_complement\n",
    "gRNA1_pcr_prod\n",
    "\n"
   ]
  },
  {
   "cell_type": "code",
   "execution_count": null,
   "id": "51e2b821-cfcf-4ade-8514-1f7091d487b6",
   "metadata": {},
   "outputs": [],
   "source": []
  },
  {
   "cell_type": "code",
   "execution_count": 28,
   "id": "224d99c1-ca77-489b-b4a6-d4df2d2360e5",
   "metadata": {},
   "outputs": [
    {
     "ename": "AttributeError",
     "evalue": "'SeqRecord' object has no attribute 'template'",
     "output_type": "error",
     "traceback": [
      "\u001b[0;31m---------------------------------------------------------------------------\u001b[0m",
      "\u001b[0;31mAttributeError\u001b[0m                            Traceback (most recent call last)",
      "Input \u001b[0;32mIn [28]\u001b[0m, in \u001b[0;36m<cell line: 1>\u001b[0;34m()\u001b[0m\n\u001b[0;32m----> 1\u001b[0m \u001b[43mpcr_locations\u001b[49m\u001b[43m(\u001b[49m\u001b[43m[\u001b[49m\u001b[43mgRNA1_pcr_prod\u001b[49m\u001b[43m,\u001b[49m\u001b[43m \u001b[49m\u001b[43mgRNA2_pcr_prod\u001b[49m\u001b[43m]\u001b[49m\u001b[43m)\u001b[49m\n",
      "File \u001b[0;32m~/projects/ConStrain/constrain/lab/PCR.py:296\u001b[0m, in \u001b[0;36mpcr_locations\u001b[0;34m(amplicons)\u001b[0m\n\u001b[1;32m    292\u001b[0m product_names\u001b[38;5;241m.\u001b[39mappend(amplicons[i]\u001b[38;5;241m.\u001b[39mname)\n\u001b[1;32m    294\u001b[0m \u001b[38;5;66;03m# Test if batches is present\u001b[39;00m\n\u001b[1;32m    295\u001b[0m \u001b[38;5;28;01mif\u001b[39;00m (\n\u001b[0;32m--> 296\u001b[0m     \u001b[38;5;124m\"\u001b[39m\u001b[38;5;124mbatches\u001b[39m\u001b[38;5;124m\"\u001b[39m \u001b[38;5;129;01min\u001b[39;00m \u001b[43mamplicons\u001b[49m\u001b[43m[\u001b[49m\u001b[43mi\u001b[49m\u001b[43m]\u001b[49m\u001b[38;5;241;43m.\u001b[39;49m\u001b[43mtemplate\u001b[49m\u001b[38;5;241m.\u001b[39mannotations\u001b[38;5;241m.\u001b[39mkeys()\n\u001b[1;32m    297\u001b[0m     \u001b[38;5;129;01mand\u001b[39;00m \u001b[38;5;28mlen\u001b[39m(amplicons[i]\u001b[38;5;241m.\u001b[39mtemplate\u001b[38;5;241m.\u001b[39mannotations[\u001b[38;5;124m\"\u001b[39m\u001b[38;5;124mbatches\u001b[39m\u001b[38;5;124m\"\u001b[39m]) \u001b[38;5;241m!=\u001b[39m \u001b[38;5;241m0\u001b[39m\n\u001b[1;32m    298\u001b[0m ):\n\u001b[1;32m    299\u001b[0m     product_loc\u001b[38;5;241m.\u001b[39mappend(\n\u001b[1;32m    300\u001b[0m         amplicons[i]\u001b[38;5;241m.\u001b[39mtemplate\u001b[38;5;241m.\u001b[39mannotations[\u001b[38;5;124m\"\u001b[39m\u001b[38;5;124mbatches\u001b[39m\u001b[38;5;124m\"\u001b[39m][\u001b[38;5;241m0\u001b[39m][\u001b[38;5;124m\"\u001b[39m\u001b[38;5;124mlocation\u001b[39m\u001b[38;5;124m\"\u001b[39m]\n\u001b[1;32m    301\u001b[0m     )\n\u001b[1;32m    302\u001b[0m     template_loc\u001b[38;5;241m.\u001b[39mappend(\n\u001b[1;32m    303\u001b[0m         amplicons[i]\u001b[38;5;241m.\u001b[39mtemplate\u001b[38;5;241m.\u001b[39mannotations[\u001b[38;5;124m\"\u001b[39m\u001b[38;5;124mbatches\u001b[39m\u001b[38;5;124m\"\u001b[39m][\u001b[38;5;241m0\u001b[39m][\u001b[38;5;124m\"\u001b[39m\u001b[38;5;124mlocation\u001b[39m\u001b[38;5;124m\"\u001b[39m]\n\u001b[1;32m    304\u001b[0m     )\n",
      "\u001b[0;31mAttributeError\u001b[0m: 'SeqRecord' object has no attribute 'template'"
     ]
    }
   ],
   "source": [
    "pcr_locations([gRNA1_pcr_prod, gRNA2_pcr_prod])"
   ]
  },
  {
   "cell_type": "code",
   "execution_count": null,
   "id": "3a2abac6-c714-4f54-a557-bb7600535148",
   "metadata": {},
   "outputs": [],
   "source": []
  }
 ],
 "metadata": {
  "kernelspec": {
   "display_name": "Python 3 (ipykernel)",
   "language": "python",
   "name": "python3"
  },
  "language_info": {
   "codemirror_mode": {
    "name": "ipython",
    "version": 3
   },
   "file_extension": ".py",
   "mimetype": "text/x-python",
   "name": "python",
   "nbconvert_exporter": "python",
   "pygments_lexer": "ipython3",
   "version": "3.8.13"
  }
 },
 "nbformat": 4,
 "nbformat_minor": 5
}
