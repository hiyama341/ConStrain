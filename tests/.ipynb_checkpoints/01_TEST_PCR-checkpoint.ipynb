{
 "cells": [
  {
   "cell_type": "code",
   "execution_count": 40,
   "id": "418e9f63-8807-4e65-8b24-9690015cc1a6",
   "metadata": {},
   "outputs": [],
   "source": [
    "import math"
   ]
  },
  {
   "cell_type": "code",
   "execution_count": 41,
   "id": "d9b7598f-c862-4421-bc87-4c4beb81d603",
   "metadata": {},
   "outputs": [],
   "source": [
    "def grouper(iterable, max_diff):\n",
    "    prev = None\n",
    "    group = []\n",
    "    for item in iterable:\n",
    "        if not prev or item - prev <= max_diff:\n",
    "            group.append(item)\n",
    "        else:\n",
    "            yield group\n",
    "            group = [item]\n",
    "        prev = item\n",
    "    if group:\n",
    "        yield group"
   ]
  },
  {
   "cell_type": "code",
   "execution_count": 89,
   "id": "1bab925e-37da-4eed-9c73-475f09a38e92",
   "metadata": {},
   "outputs": [],
   "source": [
    "elong_times = [60,60, 46, 60, 45, 30, 200, 100]\n",
    "elong_times.sort()\n",
    "elong_time_max_diff = 10"
   ]
  },
  {
   "cell_type": "code",
   "execution_count": 90,
   "id": "a3030177-43cf-411f-8266-5e3f1e040a85",
   "metadata": {},
   "outputs": [
    {
     "data": {
      "text/plain": [
       "{1: [30], 2: [45, 46], 3: [60, 60, 60], 4: [100], 5: [200]}"
      ]
     },
     "execution_count": 90,
     "metadata": {},
     "output_type": "execute_result"
    }
   ],
   "source": [
    "groups = dict(enumerate(grouper(elong_times,elong_time_max_diff), 1))\n",
    "groups"
   ]
  },
  {
   "cell_type": "code",
   "execution_count": 92,
   "id": "3c57a912-e144-4e90-9979-6ba31a5ce7ff",
   "metadata": {},
   "outputs": [
    {
     "data": {
      "text/plain": [
       "<generator object grouper at 0x7fabab806c80>"
      ]
     },
     "execution_count": 92,
     "metadata": {},
     "output_type": "execute_result"
    }
   ],
   "source": [
    "grouper(elong_times,elong_time_max_diff)"
   ]
  },
  {
   "cell_type": "code",
   "execution_count": 93,
   "id": "6ff10f62-25b5-4c32-87ab-5156b7781ab2",
   "metadata": {},
   "outputs": [
    {
     "data": {
      "text/html": [
       "Amplicon(2123)"
      ],
      "text/plain": [
       "Amplicon(2123)"
      ]
     },
     "execution_count": 93,
     "metadata": {},
     "output_type": "execute_result"
    }
   ],
   "source": [
    "from pydna.dseqrecord import Dseqrecord\n",
    "from pydna.readers import read\n",
    "from pydna.amplify import pcr\n",
    "from pydna.primer import Primer\n",
    "from Bio.SeqRecord import SeqRecord\n",
    "    \n",
    "# initialize\n",
    "middle = 'a'*2000\n",
    "template = Dseqrecord(\"tacactcaccgtctatcattatcagcgacgaagcgagcgcgaccgcgagcgcgagcgca\"+middle+\"caggagcgagacacggcgacgcgagcgagcgagcgatactatcgactgtatcatctgatagcac\")\n",
    "p1 = Primer(\"tacactcaccgtctatcattatc\")\n",
    "p2 = Primer(\"cgactgtatcatctgatagcac\").reverse_complement()\n",
    "amplicon = pcr(p1, p2, template)\n",
    "amplicon.annotations['polymerase'] = \"OneTaq Hot Start\"\n",
    "det_proc_speed(amplicon)\n"
   ]
  },
  {
   "cell_type": "code",
   "execution_count": null,
   "id": "047036b0-db38-406d-bf62-6cf876f7df63",
   "metadata": {},
   "outputs": [],
   "source": []
  },
  {
   "cell_type": "code",
   "execution_count": null,
   "id": "6e83fb03-34ab-4730-8d87-1b9b319b8508",
   "metadata": {},
   "outputs": [],
   "source": []
  },
  {
   "cell_type": "code",
   "execution_count": null,
   "id": "3ca1434f-dbea-4c5c-b3bd-148087934922",
   "metadata": {},
   "outputs": [],
   "source": []
  }
 ],
 "metadata": {
  "kernelspec": {
   "display_name": "Python 3 (ipykernel)",
   "language": "python",
   "name": "python3"
  },
  "language_info": {
   "codemirror_mode": {
    "name": "ipython",
    "version": 3
   },
   "file_extension": ".py",
   "mimetype": "text/x-python",
   "name": "python",
   "nbconvert_exporter": "python",
   "pygments_lexer": "ipython3",
   "version": "3.8.13"
  }
 },
 "nbformat": 4,
 "nbformat_minor": 5
}
