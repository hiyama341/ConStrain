{
 "cells": [
  {
   "cell_type": "code",
   "execution_count": 2,
   "id": "418e9f63-8807-4e65-8b24-9690015cc1a6",
   "metadata": {},
   "outputs": [],
   "source": [
    "import math"
   ]
  },
  {
   "cell_type": "code",
   "execution_count": 8,
   "id": "4792014e-76ea-4fd2-a444-dd0f099147b5",
   "metadata": {},
   "outputs": [],
   "source": [
    "from constrain.lab.PCR import *"
   ]
  },
  {
   "cell_type": "code",
   "execution_count": 9,
   "id": "d9b7598f-c862-4421-bc87-4c4beb81d603",
   "metadata": {},
   "outputs": [],
   "source": [
    "def grouper(iterable, max_diff):\n",
    "    prev = None\n",
    "    group = []\n",
    "    for item in iterable:\n",
    "        if not prev or item - prev <= max_diff:\n",
    "            group.append(item)\n",
    "        else:\n",
    "            yield group\n",
    "            group = [item]\n",
    "        prev = item\n",
    "    if group:\n",
    "        yield group"
   ]
  },
  {
   "cell_type": "code",
   "execution_count": 10,
   "id": "1bab925e-37da-4eed-9c73-475f09a38e92",
   "metadata": {},
   "outputs": [],
   "source": [
    "elong_times = [60,60, 46, 60, 45, 30, 200, 100]\n",
    "elong_times.sort()\n",
    "elong_time_max_diff = 10"
   ]
  },
  {
   "cell_type": "code",
   "execution_count": 11,
   "id": "a3030177-43cf-411f-8266-5e3f1e040a85",
   "metadata": {},
   "outputs": [
    {
     "data": {
      "text/plain": [
       "{1: [30], 2: [45, 46], 3: [60, 60, 60], 4: [100], 5: [200]}"
      ]
     },
     "execution_count": 11,
     "metadata": {},
     "output_type": "execute_result"
    }
   ],
   "source": [
    "groups = dict(enumerate(grouper(elong_times,elong_time_max_diff), 1))\n",
    "groups"
   ]
  },
  {
   "cell_type": "code",
   "execution_count": 12,
   "id": "3c57a912-e144-4e90-9979-6ba31a5ce7ff",
   "metadata": {},
   "outputs": [
    {
     "data": {
      "text/plain": [
       "<generator object grouper at 0x7ff09019c740>"
      ]
     },
     "execution_count": 12,
     "metadata": {},
     "output_type": "execute_result"
    }
   ],
   "source": [
    "grouper(elong_times,elong_time_max_diff)"
   ]
  },
  {
   "cell_type": "code",
   "execution_count": 64,
   "id": "6ff10f62-25b5-4c32-87ab-5156b7781ab2",
   "metadata": {},
   "outputs": [
    {
     "data": {
      "text/html": [
       "Amplicon(2123)"
      ],
      "text/plain": [
       "Amplicon(2123)"
      ]
     },
     "execution_count": 64,
     "metadata": {},
     "output_type": "execute_result"
    }
   ],
   "source": [
    "from pydna.dseqrecord import Dseqrecord\n",
    "from pydna.readers import read\n",
    "from pydna.amplify import pcr\n",
    "from pydna.primer import Primer\n",
    "from Bio.SeqRecord import SeqRecord\n",
    "    \n",
    "# initialize\n",
    "middle = 'a'*2000\n",
    "template = Dseqrecord(\"tacactcaccgtctatcattatcagcgacgaagcgagcgcgaccgcgagcgcgagcgca\"+middle+\"caggagcgagacacggcgacgcgagcgagcgagcgatactatcgactgtatcatctgatagcac\")\n",
    "p1 = Primer(\"tacactcaccgtctatcattatc\")\n",
    "p2 = Primer(\"cgactgtatcatctgatagcac\").reverse_complement()\n",
    "amplicon = pcr(p1, p2, template)\n",
    "amplicon.name = 'AMPICON_FOR_TESTING_amplicon_byname_function'\n",
    "amplicon.annotations['polymerase'] = \"OneTaq Hot Start\"\n",
    "det_proc_speed(amplicon)\n"
   ]
  },
  {
   "cell_type": "code",
   "execution_count": 66,
   "id": "1e0290a0-29bc-4f2a-9abb-e2efbfacbead",
   "metadata": {},
   "outputs": [],
   "source": [
    "amplicon_list = [amplicon]"
   ]
  },
  {
   "cell_type": "code",
   "execution_count": 72,
   "id": "047036b0-db38-406d-bf62-6cf876f7df63",
   "metadata": {},
   "outputs": [
    {
     "data": {
      "text/plain": [
       "2123"
      ]
     },
     "execution_count": 72,
     "metadata": {},
     "output_type": "execute_result"
    }
   ],
   "source": [
    "my_amplicon = amplicon_by_name('AMPICON_FOR_TESTING_amplicon_byname_function', amplicon_list)\n",
    "len(my_amplicon)"
   ]
  },
  {
   "cell_type": "code",
   "execution_count": 25,
   "id": "6e83fb03-34ab-4730-8d87-1b9b319b8508",
   "metadata": {},
   "outputs": [],
   "source": [
    "list_of_conc = nanophotometer_concentrations(path = '../tests/files_for_testing/2021-03-29_G8H_CPR_library_part_concentrations.tsv')\n",
    "\n",
    "assert list_of_conc[0] ==142.8\n",
    "assert list_of_conc[1] ==134.5\n",
    "\n",
    "assert list_of_conc[-2] ==17.5\n",
    "assert list_of_conc[-1] ==39.9"
   ]
  },
  {
   "cell_type": "code",
   "execution_count": null,
   "id": "3ca1434f-dbea-4c5c-b3bd-148087934922",
   "metadata": {},
   "outputs": [],
   "source": [
    "# It looks like such when we try to find the locations of the PCR products\n",
    "pcr_locations([gRNA1_pcr_prod, gRNA2_pcr_prod])"
   ]
  },
  {
   "cell_type": "code",
   "execution_count": 45,
   "id": "11f8b778-e3cd-44b8-802b-b74e2f44d20e",
   "metadata": {},
   "outputs": [
    {
     "data": {
      "text/html": [
       "<div>\n",
       "<style scoped>\n",
       "    .dataframe tbody tr th:only-of-type {\n",
       "        vertical-align: middle;\n",
       "    }\n",
       "\n",
       "    .dataframe tbody tr th {\n",
       "        vertical-align: top;\n",
       "    }\n",
       "\n",
       "    .dataframe thead th {\n",
       "        text-align: right;\n",
       "    }\n",
       "</style>\n",
       "<table border=\"1\" class=\"dataframe\">\n",
       "  <thead>\n",
       "    <tr style=\"text-align: right;\">\n",
       "      <th></th>\n",
       "      <th>location</th>\n",
       "      <th>name</th>\n",
       "      <th>template</th>\n",
       "      <th>fw</th>\n",
       "      <th>rv</th>\n",
       "    </tr>\n",
       "  </thead>\n",
       "  <tbody>\n",
       "    <tr>\n",
       "      <th>0</th>\n",
       "      <td>Freezer1</td>\n",
       "      <td>72bp_PCR_prod</td>\n",
       "      <td>Freezer1</td>\n",
       "      <td>Freezer2</td>\n",
       "      <td>Freezer3</td>\n",
       "    </tr>\n",
       "  </tbody>\n",
       "</table>\n",
       "</div>"
      ],
      "text/plain": [
       "   location           name  template        fw        rv\n",
       "0  Freezer1  72bp_PCR_prod  Freezer1  Freezer2  Freezer3"
      ]
     },
     "execution_count": 45,
     "metadata": {},
     "output_type": "execute_result"
    }
   ],
   "source": [
    "    vol_p_reac = 10,\n",
    "    \n",
    "    #no_of_reactions = 6,\n",
    "    #standard_reagents = [\"DNA\",\"Buffer, Cutsmart\",\"H20\",\"Enz, USER\"],\n",
    "    # standard_volumes = [1,1,7,1]\n",
    "    #pcr_reaction_df = pcr_volumes(vol_p_reac,no_of_reactions ,standard_reagents, standard_volumes)\n",
    "    "
   ]
  },
  {
   "cell_type": "code",
   "execution_count": 46,
   "id": "51e2b821-cfcf-4ade-8514-1f7091d487b6",
   "metadata": {},
   "outputs": [],
   "source": [
    "assert pcr_locations_df.iloc[0]['location'] == 'Freezer1'\n",
    "assert pcr_locations_df.iloc[0]['name'] == '72bp_PCR_prod'\n",
    "assert pcr_locations_df.iloc[0]['template'] == 'Freezer1'\n",
    "assert pcr_locations_df.iloc[0]['fw'] == 'Freezer2'\n",
    "assert pcr_locations_df.iloc[0]['rv'] == 'Freezer3'\n"
   ]
  },
  {
   "cell_type": "code",
   "execution_count": 52,
   "id": "3a2abac6-c714-4f54-a557-bb7600535148",
   "metadata": {},
   "outputs": [
    {
     "data": {
      "text/html": [
       "<div>\n",
       "<style scoped>\n",
       "    .dataframe tbody tr th:only-of-type {\n",
       "        vertical-align: middle;\n",
       "    }\n",
       "\n",
       "    .dataframe tbody tr th {\n",
       "        vertical-align: top;\n",
       "    }\n",
       "\n",
       "    .dataframe thead th {\n",
       "        text-align: right;\n",
       "    }\n",
       "</style>\n",
       "<table border=\"1\" class=\"dataframe\">\n",
       "  <thead>\n",
       "    <tr style=\"text-align: right;\">\n",
       "      <th></th>\n",
       "      <th>vol_p_reac</th>\n",
       "      <th>vol_p_3_reac</th>\n",
       "    </tr>\n",
       "  </thead>\n",
       "  <tbody>\n",
       "    <tr>\n",
       "      <th>Template</th>\n",
       "      <td>0.4</td>\n",
       "      <td>1.2</td>\n",
       "    </tr>\n",
       "    <tr>\n",
       "      <th>Primer 1</th>\n",
       "      <td>1.0</td>\n",
       "      <td>3.0</td>\n",
       "    </tr>\n",
       "    <tr>\n",
       "      <th>Primer 2</th>\n",
       "      <td>1.0</td>\n",
       "      <td>3.0</td>\n",
       "    </tr>\n",
       "    <tr>\n",
       "      <th>H20</th>\n",
       "      <td>7.6</td>\n",
       "      <td>22.8</td>\n",
       "    </tr>\n",
       "    <tr>\n",
       "      <th>Pol</th>\n",
       "      <td>10.0</td>\n",
       "      <td>30.0</td>\n",
       "    </tr>\n",
       "    <tr>\n",
       "      <th>Total</th>\n",
       "      <td>20.0</td>\n",
       "      <td>60.0</td>\n",
       "    </tr>\n",
       "  </tbody>\n",
       "</table>\n",
       "</div>"
      ],
      "text/plain": [
       "          vol_p_reac  vol_p_3_reac\n",
       "Template         0.4           1.2\n",
       "Primer 1         1.0           3.0\n",
       "Primer 2         1.0           3.0\n",
       "H20              7.6          22.8\n",
       "Pol             10.0          30.0\n",
       "Total           20.0          60.0"
      ]
     },
     "execution_count": 52,
     "metadata": {},
     "output_type": "execute_result"
    }
   ],
   "source": [
    "\n",
    "pcr_volumes_df = pcr_volumes(vol_p_reac = 20, \n",
    "        no_of_reactions = 3,\n",
    "        standard_reagents = [\"Template\", \"Primer 1\", \"Primer 2\", \"H20\", \"Pol\"],\n",
    "        standard_volumes = [1, 2.5, 2.5, 19, 25])\n",
    "\n",
    "pcr_volumes_df"
   ]
  },
  {
   "cell_type": "code",
   "execution_count": 60,
   "id": "5caf3a23-b409-4073-99b8-227692d751ec",
   "metadata": {},
   "outputs": [
    {
     "data": {
      "text/plain": [
       "1.2"
      ]
     },
     "execution_count": 60,
     "metadata": {},
     "output_type": "execute_result"
    }
   ],
   "source": [
    "round(pcr_volumes_df.iloc[0]['vol_p_3_reac'],2)"
   ]
  },
  {
   "cell_type": "code",
   "execution_count": 62,
   "id": "1f5c1a6f-42b7-4378-b511-fdc277590265",
   "metadata": {},
   "outputs": [],
   "source": [
    "# template\n",
    "assert pcr_volumes_df.iloc[0]['vol_p_reac'] == 0.4\n",
    "assert round(pcr_volumes_df.iloc[0]['vol_p_3_reac'],2) == 1.2\n",
    "\n",
    "# h2o\n",
    "assert pcr_volumes_df.iloc[3]['vol_p_reac'] == 7.6\n",
    "assert round(pcr_volumes_df.iloc[3]['vol_p_3_reac'],2) == 22.8\n",
    "\n",
    "# total\n",
    "assert pcr_volumes_df.iloc[5]['vol_p_reac'] == 20.0\n",
    "assert round(pcr_volumes_df.iloc[5]['vol_p_3_reac'],2) == 60.0\n"
   ]
  },
  {
   "cell_type": "code",
   "execution_count": 79,
   "id": "e0e79394-437b-4255-895d-88351d935293",
   "metadata": {},
   "outputs": [],
   "source": [
    "\n",
    "middle = 'a'*2000\n",
    "template = Dseqrecord(\"tacactcaccgtctatcattatcagcgacgaagcgagcgcgaccgcgagcgcgagcgca\"+middle+\"caggagcgagacacggcgacgcgagcgagcgagcgatactatcgactgtatcatctgatagcac\")\n",
    "p1 = Primer(\"tacactcaccgtctatcattatc\")\n",
    "p2 = Primer(\"cgactgtatcatctgatagcac\").reverse_complement()\n",
    "amplicon = pcr(p1, p2, template)\n",
    "amplicon.name = 'AMPICON_FOR_TESTING_amplicon_byname_function'\n",
    "amplicon.annotations['polymerase'] = \"OneTaq Hot Start\"\n",
    "det_proc_speed(amplicon)\n",
    "\n",
    "\n",
    "program = simple_PCR_program(amplicon)\n",
    "\n",
    "assert program[1:5] == '98°C'\n",
    "assert program[35:39] == '61.0'\n",
    "assert program[61:65] == '72°C'"
   ]
  },
  {
   "cell_type": "code",
   "execution_count": 85,
   "id": "90cf7b2f-add8-4af9-90c2-784cb1804e39",
   "metadata": {},
   "outputs": [],
   "source": [
    "assert program[1:5] == '98°C'\n",
    "assert program[35:39] == '61.0'\n",
    "assert program[61:65] == '72°C'"
   ]
  },
  {
   "cell_type": "code",
   "execution_count": 77,
   "id": "cd398129-aae4-4f3a-9605-cf4eaac75b20",
   "metadata": {},
   "outputs": [
    {
     "ename": "SyntaxError",
     "evalue": "invalid syntax (4013338846.py, line 6)",
     "output_type": "error",
     "traceback": [
      "\u001b[0;36m  Input \u001b[0;32mIn [77]\u001b[0;36m\u001b[0m\n\u001b[0;31m    |    |       20s         |    |2bp)\"\"\"\u001b[0m\n\u001b[0m                                  ^\u001b[0m\n\u001b[0;31mSyntaxError\u001b[0m\u001b[0;31m:\u001b[0m invalid syntax\n"
     ]
    }
   ],
   "source": [
    "formated = _textwrap.dedent(r \"\"\"\n",
    "|98°C|98°C               |    |tmf:61.0\n",
    "|____|_____          72°C|72°C|tmr:62.0\n",
    "|30 s|10s  \\ 62.0°C _____|____|60s/kb\n",
    "|    |      \\______/ 0: 1|2min|GC 0%\n",
    "|    |       20s         |    |2bp)\"\"\""
   ]
  },
  {
   "cell_type": "code",
   "execution_count": 97,
   "id": "522b42c6-7b7c-4e56-a302-45f3f295b0d2",
   "metadata": {},
   "outputs": [
    {
     "data": {
      "text/plain": [
       "'72°C'"
      ]
     },
     "execution_count": 97,
     "metadata": {},
     "output_type": "execute_result"
    }
   ],
   "source": [
    "program[61:65]"
   ]
  },
  {
   "cell_type": "code",
   "execution_count": null,
   "id": "2cd2146a-02c0-46d3-8464-b4f50d730754",
   "metadata": {},
   "outputs": [],
   "source": []
  }
 ],
 "metadata": {
  "kernelspec": {
   "display_name": "Python 3 (ipykernel)",
   "language": "python",
   "name": "python3"
  },
  "language_info": {
   "codemirror_mode": {
    "name": "ipython",
    "version": 3
   },
   "file_extension": ".py",
   "mimetype": "text/x-python",
   "name": "python",
   "nbconvert_exporter": "python",
   "pygments_lexer": "ipython3",
   "version": "3.8.13"
  }
 },
 "nbformat": 4,
 "nbformat_minor": 5
}
