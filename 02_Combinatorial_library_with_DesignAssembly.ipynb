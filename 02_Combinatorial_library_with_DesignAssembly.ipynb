{
  "nbformat": 4,
  "nbformat_minor": 0,
  "metadata": {
    "colab": {
      "name": "02-Combinatorial_library_with_DesignAssembly.ipynb",
      "provenance": [],
      "collapsed_sections": [],
      "authorship_tag": "ABX9TyPrM1ZBvMdSo1Ps9rkYZaoC",
      "include_colab_link": true
    },
    "kernelspec": {
      "name": "python3",
      "display_name": "Python 3"
    },
    "language_info": {
      "name": "python"
    }
  },
  "cells": [
    {
      "cell_type": "markdown",
      "metadata": {
        "id": "view-in-github",
        "colab_type": "text"
      },
      "source": [
        "<a href=\"https://colab.research.google.com/github/hiyama341/ConStrain/blob/main/02_Combinatorial_library_with_DesignAssembly.ipynb\" target=\"_parent\"><img src=\"https://colab.research.google.com/assets/colab-badge.svg\" alt=\"Open In Colab\"/></a>"
      ]
    },
    {
      "cell_type": "code",
      "execution_count": null,
      "metadata": {
        "colab": {
          "base_uri": "https://localhost:8080/"
        },
        "id": "NynYf9M_xlgy",
        "outputId": "8fe9e63e-1854-4274-c275-dfb4cbf770f1"
      },
      "outputs": [
        {
          "output_type": "stream",
          "name": "stdout",
          "text": [
            "Looking in indexes: https://pypi.org/simple, https://us-python.pkg.dev/colab-wheels/public/simple/\n",
            "Collecting pydna\n",
            "  Downloading pydna-4.0.7-py3-none-any.whl (111 kB)\n",
            "\u001b[K     |████████████████████████████████| 111 kB 15.2 MB/s \n",
            "\u001b[?25hRequirement already satisfied: prettytable in /usr/local/lib/python3.7/dist-packages (from pydna) (3.3.0)\n",
            "Requirement already satisfied: appdirs in /usr/local/lib/python3.7/dist-packages (from pydna) (1.4.4)\n",
            "Requirement already satisfied: networkx in /usr/local/lib/python3.7/dist-packages (from pydna) (2.6.3)\n",
            "Requirement already satisfied: pyparsing in /usr/local/lib/python3.7/dist-packages (from pydna) (3.0.9)\n",
            "Collecting biopython\n",
            "  Downloading biopython-1.79-cp37-cp37m-manylinux_2_5_x86_64.manylinux1_x86_64.whl (2.3 MB)\n",
            "\u001b[K     |████████████████████████████████| 2.3 MB 45.5 MB/s \n",
            "\u001b[?25hRequirement already satisfied: requests in /usr/local/lib/python3.7/dist-packages (from pydna) (2.23.0)\n",
            "Requirement already satisfied: numpy in /usr/local/lib/python3.7/dist-packages (from biopython->pydna) (1.21.6)\n",
            "Requirement already satisfied: importlib-metadata in /usr/local/lib/python3.7/dist-packages (from prettytable->pydna) (4.11.4)\n",
            "Requirement already satisfied: wcwidth in /usr/local/lib/python3.7/dist-packages (from prettytable->pydna) (0.2.5)\n",
            "Requirement already satisfied: zipp>=0.5 in /usr/local/lib/python3.7/dist-packages (from importlib-metadata->prettytable->pydna) (3.8.0)\n",
            "Requirement already satisfied: typing-extensions>=3.6.4 in /usr/local/lib/python3.7/dist-packages (from importlib-metadata->prettytable->pydna) (4.2.0)\n",
            "Requirement already satisfied: chardet<4,>=3.0.2 in /usr/local/lib/python3.7/dist-packages (from requests->pydna) (3.0.4)\n",
            "Requirement already satisfied: urllib3!=1.25.0,!=1.25.1,<1.26,>=1.21.1 in /usr/local/lib/python3.7/dist-packages (from requests->pydna) (1.24.3)\n",
            "Requirement already satisfied: certifi>=2017.4.17 in /usr/local/lib/python3.7/dist-packages (from requests->pydna) (2022.5.18.1)\n",
            "Requirement already satisfied: idna<3,>=2.5 in /usr/local/lib/python3.7/dist-packages (from requests->pydna) (2.10)\n",
            "Installing collected packages: biopython, pydna\n",
            "Successfully installed biopython-1.79 pydna-4.0.7\n",
            "Looking in indexes: https://pypi.org/simple, https://us-python.pkg.dev/colab-wheels/public/simple/\n",
            "Collecting Bio\n",
            "  Downloading bio-1.3.9-py3-none-any.whl (270 kB)\n",
            "\u001b[K     |████████████████████████████████| 270 kB 16.6 MB/s \n",
            "\u001b[?25hRequirement already satisfied: biopython>=1.79 in /usr/local/lib/python3.7/dist-packages (from Bio) (1.79)\n",
            "Requirement already satisfied: tqdm in /usr/local/lib/python3.7/dist-packages (from Bio) (4.64.0)\n",
            "Collecting mygene\n",
            "  Downloading mygene-3.2.2-py2.py3-none-any.whl (5.4 kB)\n",
            "Requirement already satisfied: requests in /usr/local/lib/python3.7/dist-packages (from Bio) (2.23.0)\n",
            "Requirement already satisfied: numpy in /usr/local/lib/python3.7/dist-packages (from biopython>=1.79->Bio) (1.21.6)\n",
            "Collecting biothings-client>=0.2.6\n",
            "  Downloading biothings_client-0.2.6-py2.py3-none-any.whl (37 kB)\n",
            "Requirement already satisfied: certifi>=2017.4.17 in /usr/local/lib/python3.7/dist-packages (from requests->Bio) (2022.5.18.1)\n",
            "Requirement already satisfied: urllib3!=1.25.0,!=1.25.1,<1.26,>=1.21.1 in /usr/local/lib/python3.7/dist-packages (from requests->Bio) (1.24.3)\n",
            "Requirement already satisfied: idna<3,>=2.5 in /usr/local/lib/python3.7/dist-packages (from requests->Bio) (2.10)\n",
            "Requirement already satisfied: chardet<4,>=3.0.2 in /usr/local/lib/python3.7/dist-packages (from requests->Bio) (3.0.4)\n",
            "Installing collected packages: biothings-client, mygene, Bio\n",
            "Successfully installed Bio-1.3.9 biothings-client-0.2.6 mygene-3.2.2\n"
          ]
        }
      ],
      "source": [
        "!pip install pydna\n",
        "!pip install Bio"
      ]
    },
    {
      "cell_type": "markdown",
      "metadata": {
        "id": "ee22d5b6-4552-474b-9f00-d05db61178a5"
      },
      "source": [
        "# 03-Combinatorial_library_with_DesignAssembly.ipynb"
      ]
    },
    {
      "cell_type": "code",
      "execution_count": null,
      "metadata": {
        "id": "39a192ea-7f27-4102-9aec-1d47072a83c5"
      },
      "outputs": [],
      "source": [
        "import pandas as pd\n",
        "from pydna.dseqrecord import Dseqrecord\n",
        "from IPython import display\n",
        "\n",
        "# to show assemblies\n",
        "from pydna.assembly import Assembly\n",
        "\n",
        "# Biopython I/O + biopython objects\n",
        "from Bio.Seq import Seq\n",
        "from Bio import SeqIO\n",
        "from Bio.SeqRecord import SeqRecord\n",
        "import numpy as np"
      ]
    },
    {
      "cell_type": "code",
      "source": [
        "!git clone https://github.com/hiyama341/ConStrain_on_google_colab.git"
      ],
      "metadata": {
        "colab": {
          "base_uri": "https://localhost:8080/"
        },
        "id": "ywfHkGH61TVp",
        "outputId": "83a1a969-cac6-4886-f638-1bdadc06fbaf"
      },
      "execution_count": null,
      "outputs": [
        {
          "output_type": "stream",
          "name": "stdout",
          "text": [
            "Cloning into 'ConStrain_on_google_colab'...\n",
            "remote: Enumerating objects: 212, done.\u001b[K\n",
            "remote: Counting objects: 100% (145/145), done.\u001b[K\n",
            "remote: Compressing objects: 100% (122/122), done.\u001b[K\n",
            "remote: Total 212 (delta 64), reused 65 (delta 20), pack-reused 67\u001b[K\n",
            "Receiving objects: 100% (212/212), 4.97 MiB | 10.05 MiB/s, done.\n",
            "Resolving deltas: 100% (83/83), done.\n"
          ]
        }
      ]
    },
    {
      "cell_type": "markdown",
      "metadata": {
        "tags": [],
        "id": "0fbf25e9-7e47-4a32-bdde-dc833fc95576"
      },
      "source": [
        "## 1. Intro"
      ]
    },
    {
      "cell_type": "markdown",
      "metadata": {
        "id": "b58dde13-da21-4f91-abec-d11c1722b5c1"
      },
      "source": [
        "Up until now, the previous notebooks have enabled us to retrieve DNA sequences that enables the construction of combinatorial libraries. There are plenty of good reasons to make combinatorial libraries which I will not go into detail about here but for more information read **\"Combinatorial pathway optimization for streamlined metabolic engineering\"** by Jeschek et al 2017 or see the Master thesis attached to this work. The focus of this notebook is to show how combinatorial libraries can be made with a literal programming approach.  \n",
        "\n",
        "**The general method to accomblish this is as follows:**\n",
        "\n",
        "1. Retrieve sequences of interest, along with names\n",
        "2. Make amplicons from sequences consisting of primers and their annealing temperatures\n",
        "3. Generate combinatorial lists of all possible combinations\n",
        "4. If a pad is wanted, add the pad at a chosen location in each list\n",
        "5. Assemble contigs by making overlapping primers between each amplicon\n",
        "6. Save all primers\n",
        "7. Primers containing the same sequences are updated to have the same names ( happens quite frequently with homologs)\n",
        "8. Unique primers are saved\n",
        "9. Unique amplicons are saved\n",
        "\n",
        "\n",
        "Last part of this notebook includes how robot instructions can be made from the DesignAssembly object or from predefined plates. \n",
        "\n",
        "**Contents of this notebook:**\n",
        "    \n",
        "1. Fetching data from FASTA files\n",
        "2. Generating a combinatorial library for the G8H bottleneck\n",
        "3. Generating Robot excecutable intructions with focus on FLOWBOT instruction"
      ]
    },
    {
      "cell_type": "markdown",
      "metadata": {
        "id": "e27a8705-41bf-4c90-830d-0fc8e5c56988"
      },
      "source": [
        "## 1.1 Data aquisition and processing\n",
        "Previously I found homologs and promoters to have the neccessary parts to build a combinatorial library. These parts can be fetched from databases such as benchling or Teselagen but for ease of use it shown with fasta files here. These files are read and made into Biopython objects that that can be used for the genetic constructs. \n",
        "\n",
        "To build a combinatorial library from the generated promoters and homologs some of them need to be reversed. Namely, the upstream part from the pad which we can easily do with a simple Python trick (see below). "
      ]
    },
    {
      "cell_type": "code",
      "execution_count": null,
      "metadata": {
        "id": "8583dbae-2985-420b-8110-7757d1ec9482"
      },
      "outputs": [],
      "source": [
        "CYP_sites = []\n",
        "CPR_sites = []\n",
        "pCPR_sites = []\n",
        "pCYP_sites = []\n",
        "\n",
        "# GEtting the objects from the fasta files\n",
        "#G8H_CPR and Promoter seqs1\n",
        "for seq_record in SeqIO.parse('/content/ConStrain_on_google_colab/Data/G8H_CYP_CPR_PARTS/CPR_tCYC1_-_2022-06-06.gb', format= 'gb'):\n",
        "    CPR_sites.append(seq_record)\n",
        "    \n",
        "for seq_record in SeqIO.parse('/content/ConStrain_on_google_colab/Data/G8H_CYP_CPR_PARTS/CPR_promoters_-_2022-06-06.gb', format= 'gb'):\n",
        "    pCPR_sites.append(seq_record)\n",
        "    \n",
        "# REVERSE COMPLEMENT THE DNA HERE TO MAKE THE CONSTRUCTS IN THE CORRECT ORIENTATION\n",
        "# G8H_CYP and Promoter seqs2\n",
        "for seq_record in SeqIO.parse('/content/ConStrain_on_google_colab/Data/G8H_CYP_CPR_PARTS/G8H_tADH1_-_2022-06-06.gb', format= 'gb'):    \n",
        "    CYP_sites.append(seq_record[::-1])\n",
        "    \n",
        "for seq_record in SeqIO.parse('/content/ConStrain_on_google_colab/Data/G8H_CYP_CPR_PARTS/G8H_promoters_-_2022-06-06.gb', format= 'gb'):\n",
        "    pCYP_sites.append(seq_record[::-1])"
      ]
    },
    {
      "cell_type": "markdown",
      "metadata": {
        "id": "7df2ad69-e271-4aed-8031-43100bb71772"
      },
      "source": [
        "Lets check that the information is read in, correctly and that the right amount of constructs are there and no mistakes have been made. "
      ]
    },
    {
      "cell_type": "code",
      "execution_count": null,
      "metadata": {
        "id": "606eef53-28ea-4fe2-aedd-7d38848184a4",
        "outputId": "14feed2c-4e7a-4d41-8f9d-c8d7a3aedd58",
        "colab": {
          "base_uri": "https://localhost:8080/"
        }
      },
      "outputs": [
        {
          "output_type": "stream",
          "name": "stdout",
          "text": [
            "ID: pL_01_C7\\(pRS415-USER).0\n",
            "Name: AhuCPR_tCYC1\n",
            "Number of features: 2\n",
            "/molecule_type=ds-DNA\n",
            "/topology=linear\n",
            "/data_file_division=   \n",
            "/date=13-DEC-2020\n",
            "/accessions=['pL_01_C7\\\\(pRS415-USER)']\n",
            "/sequence_version=0\n",
            "/keywords=['\"Antibiotic resistance\" \"Backbones\" \"Cloning sites\" \"Comment\" \"DNA fragments\" \"Design entry\" \"Genes:AmpR\" \"LabCollector ID\" \"Markers\" \"Origin of replication:CEN6 ARS4\" \"Parent plasmids\" \"Promoters:Bla promoter\" \"Protein\" \"RBS\" \"Responsible person/group\" \"Spacers\" \"Status\" \"Tags\" \"Terminators\" \"Usage\" \"gRNAs\"']\n",
            "Seq('ATGGACTCCTCATCGGAGAAGCTTTCCCCGTTCGACTTAATGACGGCAATCCTA...GAA')\n"
          ]
        }
      ],
      "source": [
        "print(CPR_sites[0])"
      ]
    },
    {
      "cell_type": "code",
      "execution_count": null,
      "metadata": {
        "id": "beb12ed4-b734-4734-a8dd-c97ad8e41a3f",
        "outputId": "f485ab0d-ff5e-4acf-e094-98869aa18d1f",
        "colab": {
          "base_uri": "https://localhost:8080/"
        }
      },
      "outputs": [
        {
          "output_type": "stream",
          "name": "stdout",
          "text": [
            "4\n",
            "10\n",
            "9\n",
            "4\n",
            "Total combinations 1440\n"
          ]
        }
      ],
      "source": [
        "print(len(pCPR_sites))\n",
        "print(len(CPR_sites))\n",
        "print(len(CYP_sites))\n",
        "print(len(pCYP_sites))\n",
        "\n",
        "print('Total combinations', len(CPR_sites)*len(pCPR_sites)*len(pCYP_sites)*len(CYP_sites))"
      ]
    },
    {
      "cell_type": "markdown",
      "metadata": {
        "id": "59358907-37e7-4d02-9208-76ec57dd4184"
      },
      "source": [
        "Now lets fetch the up/down sites of XI-2 and the Trp marker. "
      ]
    },
    {
      "cell_type": "code",
      "execution_count": null,
      "metadata": {
        "id": "e0b0be5a-3a0b-409f-a984-a56bb7923f27",
        "outputId": "b70b46ef-08db-41d7-e9e6-39926d323a28",
        "colab": {
          "base_uri": "https://localhost:8080/"
        }
      },
      "outputs": [
        {
          "output_type": "execute_result",
          "data": {
            "text/plain": [
              "[SeqRecord(seq=Seq('GAGGATTTTCGATGGAGCAGGATGAGGAGAAATAGTACCACATGTATATATCCA...CAA'), id='UP_XI-2', name='UP_XI-2', description='UP_XI-2 Upstream of XI-2 site', dbxrefs=[]),\n",
              " SeqRecord(seq=Seq('CACACGACTAGCGCTTTCAGATATTAAAAAGTTTAGATGTAGGTTTTAGCGGTA...CAC'), id='DW_XI-2', name='DW_XI-2', description='DW_XI-2 Downstream of XI-2 site', dbxrefs=[]),\n",
              " SeqRecord(seq=Seq('AGACGGTCACAGCTTGTCTGTAAGCGGATGCCGGGAGCAGACAAGCCCGTCAGG...ACG'), id='seq_3HMRtcpy', name='seq_3HMRtcpy', description='seq_3HMRtcpy <unknown description>', dbxrefs=[])]"
            ]
          },
          "metadata": {},
          "execution_count": 7
        }
      ],
      "source": [
        "UP_DW_marker = []\n",
        "for seq_record in SeqIO.parse('/content/ConStrain_on_google_colab/Data/G8H_CYP_CPR_PARTS/UP_DW_Marker.fasta', format= 'fasta'):\n",
        "    UP_DW_marker.append(seq_record)\n",
        "UP_DW_marker"
      ]
    },
    {
      "cell_type": "code",
      "execution_count": null,
      "metadata": {
        "id": "cd06e65d-c03b-4529-b253-c8eeedcc4af0"
      },
      "outputs": [],
      "source": [
        "UP_sites = UP_DW_marker[0]\n",
        "DW_sites = UP_DW_marker[1]\n",
        "marker_sites = UP_DW_marker[2]"
      ]
    },
    {
      "cell_type": "markdown",
      "metadata": {
        "id": "24f734f4-1d52-4da1-980c-45d40314a574"
      },
      "source": [
        "Now the terminators ADH1 and CYC1"
      ]
    },
    {
      "cell_type": "markdown",
      "metadata": {
        "id": "fdfde947-3720-43fd-bfc5-3bd33cc9cb10"
      },
      "source": [
        "Now, the sequences needs to be made into Dseqrecord elements to make it into a DesignAssembly class. The names for these objects also need to be retrieved. "
      ]
    },
    {
      "cell_type": "code",
      "execution_count": null,
      "metadata": {
        "id": "fd3c2726-26ab-4f7a-b945-0147557155f0"
      },
      "outputs": [],
      "source": [
        "#Getting the objects names\n",
        "UP_sites_names = [UP_sites.name]\n",
        "G8H_templates_names = [names.name for names in CYP_sites]\n",
        "pG8H_templates_names = [names.name for names in pCYP_sites]\n",
        "pG8H_CPR_templates_names = [names.name for names in pCPR_sites]\n",
        "G8H_CPR_templates_names = [names.name for names in CPR_sites]\n",
        "marker_templates_names = [marker_sites.name]\n",
        "DW_sites_names = [DW_sites.name]\n",
        "\n",
        "# Getting their sequences\n",
        "UP_sites_seqrecord = [Dseqrecord(UP_sites.seq) ]\n",
        "G8H_templates_seqrecord = [Dseqrecord(seq.seq) for seq in CYP_sites]\n",
        "pG8H_templates_seqrecord = [Dseqrecord(seq.seq) for seq in pCYP_sites]\n",
        "pCPR_templates_seqrecord = [Dseqrecord(seq.seq) for seq in pCPR_sites]\n",
        "G8H_CPR_templates_seqrecord = [Dseqrecord(seq.seq) for seq in CPR_sites]\n",
        "marker_templates_seqrecord = [Dseqrecord(marker_sites.seq) ]\n",
        "DW_sites_seqrecord = [Dseqrecord(DW_sites.seq)]"
      ]
    },
    {
      "cell_type": "code",
      "execution_count": null,
      "metadata": {
        "id": "f868be07-695e-4cca-900c-3d2bda90f5b6",
        "outputId": "5e0d0659-111b-417c-d441-83f03d31c5f7",
        "colab": {
          "base_uri": "https://localhost:8080/"
        }
      },
      "outputs": [
        {
          "output_type": "execute_result",
          "data": {
            "text/plain": [
              "[Dseqrecord(-1803),\n",
              " Dseqrecord(-1370),\n",
              " Dseqrecord(-1695),\n",
              " Dseqrecord(-1860),\n",
              " Dseqrecord(-1827),\n",
              " Dseqrecord(-1803),\n",
              " Dseqrecord(-1809),\n",
              " Dseqrecord(-1803),\n",
              " Dseqrecord(-1803)]"
            ]
          },
          "metadata": {},
          "execution_count": 10
        }
      ],
      "source": [
        "G8H_templates_seqrecord"
      ]
    },
    {
      "cell_type": "markdown",
      "metadata": {
        "id": "677f4cf4-98a2-4c01-8540-67c4c5e76413"
      },
      "source": [
        "Now, for making the SLS de-bottlenecking construct. This can be achieved by following the scheme below and adding the genetic parts into lists that will be put into: 1) list of sequences 2) a list of names (final product - list of list)"
      ]
    },
    {
      "cell_type": "code",
      "execution_count": null,
      "metadata": {
        "id": "92564d37-0ef3-453a-a623-b9b31c3fc1b5",
        "outputId": "1e096022-0743-4610-d3c0-2b5e51a9ed72",
        "colab": {
          "base_uri": "https://localhost:8080/",
          "height": 758
        }
      },
      "outputs": [
        {
          "output_type": "execute_result",
          "data": {
            "text/plain": [
              "<IPython.core.display.Image object>"
            ],
            "image/png": "[encoded data removed]"
          },
          "metadata": {},
          "execution_count": 11
        }
      ],
      "source": [
        "display.Image('/content/ConStrain_on_google_colab/pictures/library_design_1.png')"
      ]
    },
    {
      "cell_type": "code",
      "execution_count": null,
      "metadata": {
        "id": "a16fe185-5e29-4669-a22a-ec29a46b20ec",
        "outputId": "8bf204c6-e867-4bb4-a68b-5c7104d0fa31",
        "colab": {
          "base_uri": "https://localhost:8080/"
        }
      },
      "outputs": [
        {
          "output_type": "stream",
          "name": "stdout",
          "text": [
            "The lengths are the same\n"
          ]
        }
      ],
      "source": [
        "list_of_seqs = [UP_sites_seqrecord, G8H_templates_seqrecord, pG8H_templates_seqrecord, pCPR_templates_seqrecord, G8H_CPR_templates_seqrecord, marker_templates_seqrecord, DW_sites_seqrecord]\n",
        "\n",
        "list_of_names = [UP_sites_names,G8H_templates_names, pG8H_templates_names, pG8H_CPR_templates_names, G8H_CPR_templates_names, marker_templates_names, DW_sites_names]\n",
        "\n",
        "# Check that the lists are the same lenght\n",
        "if len(list_of_seqs) != len(list_of_names): \n",
        "    print('!!!!!!!!!!!!!!!!!The lengths are not the same, check the sequences!!!!!!!!!!!!!!!!!!')\n",
        "else: \n",
        "    print('The lengths are the same')"
      ]
    },
    {
      "cell_type": "markdown",
      "metadata": {
        "id": "34b3e348-fae8-494f-a1b0-b602e8a7683f"
      },
      "source": [
        "Now it's a good idea at this point to make sure that all the objects have been made into Dseqrecords and that they have the right size and configuration.  "
      ]
    },
    {
      "cell_type": "code",
      "execution_count": null,
      "metadata": {
        "id": "23154817-3c4f-407c-ac23-b2e34f16853e",
        "outputId": "19126bf2-a504-4ce9-c398-b94069383357",
        "colab": {
          "base_uri": "https://localhost:8080/"
        }
      },
      "outputs": [
        {
          "output_type": "execute_result",
          "data": {
            "text/plain": [
              "[[Dseqrecord(-569)],\n",
              " [Dseqrecord(-1803),\n",
              "  Dseqrecord(-1370),\n",
              "  Dseqrecord(-1695),\n",
              "  Dseqrecord(-1860),\n",
              "  Dseqrecord(-1827),\n",
              "  Dseqrecord(-1803),\n",
              "  Dseqrecord(-1809),\n",
              "  Dseqrecord(-1803),\n",
              "  Dseqrecord(-1803)],\n",
              " [Dseqrecord(-991), Dseqrecord(-1004), Dseqrecord(-1004), Dseqrecord(-984)],\n",
              " [Dseqrecord(-1004), Dseqrecord(-1004), Dseqrecord(-1003), Dseqrecord(-984)],\n",
              " [Dseqrecord(-2328),\n",
              "  Dseqrecord(-2298),\n",
              "  Dseqrecord(-2328),\n",
              "  Dseqrecord(-2310),\n",
              "  Dseqrecord(-2268),\n",
              "  Dseqrecord(-2223),\n",
              "  Dseqrecord(-2310),\n",
              "  Dseqrecord(-2328),\n",
              "  Dseqrecord(-2262),\n",
              "  Dseqrecord(-2328)],\n",
              " [Dseqrecord(-1415)],\n",
              " [Dseqrecord(-563)]]"
            ]
          },
          "metadata": {},
          "execution_count": 13
        }
      ],
      "source": [
        "list_of_seqs"
      ]
    },
    {
      "cell_type": "code",
      "execution_count": null,
      "metadata": {
        "id": "9d7a09a8-9b97-467a-9b6d-ba7e901fbd76",
        "outputId": "7c8a60da-b5bc-42b4-8e7e-4b179b1c7b48",
        "colab": {
          "base_uri": "https://localhost:8080/"
        }
      },
      "outputs": [
        {
          "output_type": "execute_result",
          "data": {
            "text/plain": [
              "[['UP_XI-2'],\n",
              " ['CcalG8H_tADH1',\n",
              "  'PcoG8H_tADH1',\n",
              "  'CroG8H_tADH1',\n",
              "  'OpumG8H_tADH1',\n",
              "  'CacuG8H_tADH1',\n",
              "  'RsepG8H_tADH1',\n",
              "  'SmusG8H_tADH1',\n",
              "  'VminG8H_tADH1',\n",
              "  'OeuG8H_tADH1'],\n",
              " ['pCYC1', 'pENO2', 'pPCK1', 'pRPL15B'],\n",
              " ['pMLS1', 'pTPI1', 'pURE2', 'pCCW12'],\n",
              " ['AhuCPR_tCYC1',\n",
              "  'AanCPR_tCYC1',\n",
              "  'CloCPR_tCYC1',\n",
              "  'CacCPR_tCYC1',\n",
              "  'AniCPR_tCYC1',\n",
              "  'CpoCPR_tCYC1',\n",
              "  'OeuCPR_tCYC1',\n",
              "  'RseCPR_tCYC1',\n",
              "  'AthATR1_tCYC1',\n",
              "  'CroCPR_tCYC1'],\n",
              " ['seq_3HMRtcpy'],\n",
              " ['DW_XI-2']]"
            ]
          },
          "metadata": {},
          "execution_count": 14
        }
      ],
      "source": [
        "list_of_names"
      ]
    },
    {
      "cell_type": "markdown",
      "metadata": {
        "jp-MarkdownHeadingCollapsed": true,
        "tags": [],
        "id": "7261f023-bf90-47e6-99ec-aa747d816fb2"
      },
      "source": [
        "### Things to look out for when running DesignAssembly. \n",
        "\n",
        "1. if the melting temperature is set too low it will make a warning saying that PCR_prod is not unique. It helps to raise the melting temperature if that happens so it can make longer and unique primers "
      ]
    },
    {
      "cell_type": "markdown",
      "metadata": {
        "tags": [],
        "id": "72db247a-ddf8-493d-b098-a2bd2ddcfa7f"
      },
      "source": [
        "# 2. Initiating the DesignAssembly class"
      ]
    },
    {
      "cell_type": "markdown",
      "metadata": {
        "id": "96d04b6e-83bc-4bb8-bdc3-e56fbe9dfc78"
      },
      "source": [
        "Before we initiate the designAssembly object we can define and add a piece of DNA that can be used for easier genotyping and contain a crRNA so we can delete the genetic module if we need to. Below, a pad consisting of a ATF1 CRISPR Guide RNA flanked by arbitrary sequences is inititalized as a pad  "
      ]
    },
    {
      "cell_type": "code",
      "execution_count": null,
      "metadata": {
        "id": "617a21da-a42d-49b1-8f58-f9d4bf2fc556",
        "outputId": "c814a84e-7601-46a9-ba1b-70bc132f0ba9",
        "colab": {
          "base_uri": "https://localhost:8080/"
        }
      },
      "outputs": [
        {
          "output_type": "execute_result",
          "data": {
            "text/plain": [
              "Dseqrecord(-40)"
            ]
          },
          "metadata": {},
          "execution_count": 15
        }
      ],
      "source": [
        "# ATF1_CRISPR_Guide_RNA = 'CTATGCTGTCGGATGAGTCC'\n",
        "pad = Dseqrecord('GTATAGGACGCTATGCTGTCGGATGAGTCCCGTAGAATGA')\n",
        "pad"
      ]
    },
    {
      "cell_type": "markdown",
      "metadata": {
        "id": "e5e86718-5d59-4af0-8dfa-26adb8c78ec7"
      },
      "source": [
        "We simply initiate the class by calling it with the list of sequences, their names, the pad, and the position of the pad. \n",
        "This normally takes about 20 sec. "
      ]
    },
    {
      "cell_type": "code",
      "source": [
        "from ConStrain_on_google_colab.Script.combinatorial_design import DesignAssembly"
      ],
      "metadata": {
        "id": "mFACR1Gi9qmh"
      },
      "execution_count": null,
      "outputs": []
    },
    {
      "cell_type": "code",
      "execution_count": null,
      "metadata": {
        "id": "6c9117c7-7a00-450f-b603-71ab3d1b1972",
        "outputId": "7a21ed4b-68a8-4948-9f51-591b5f3076e5",
        "colab": {
          "base_uri": "https://localhost:8080/"
        }
      },
      "outputs": [
        {
          "output_type": "stream",
          "name": "stdout",
          "text": [
            "CPU times: user 27.1 s, sys: 344 ms, total: 27.4 s\n",
            "Wall time: 29.8 s\n"
          ]
        }
      ],
      "source": [
        "%%time\n",
        "G8H_assembly = DesignAssembly(list_of_seqs, list_of_names, pad , 4 )"
      ]
    },
    {
      "cell_type": "markdown",
      "metadata": {
        "id": "5b6f03e3-f047-4835-91ef-6269fe36f29e"
      },
      "source": [
        "The DesignAssembly class have class methods attached to it. These include displaying primers, the PCRs that needs to made and a graphical representation of the construts. "
      ]
    },
    {
      "cell_type": "markdown",
      "metadata": {
        "tags": [],
        "id": "8c961ea8-bdb6-45ab-a674-60d847b011e5"
      },
      "source": [
        "The methods are as follows: \n",
        "\n",
        "- ShowContigs\n",
        "- ShowVariantsLibDF\n",
        "- PCR_list_to_dataframe\n",
        "- print_PCR_list\n",
        "- Primer_list_to_dataframe\n",
        "- print_primer_list"
      ]
    },
    {
      "cell_type": "markdown",
      "metadata": {
        "id": "6883a690-1070-4077-ad3a-d447305854c0"
      },
      "source": [
        "Here it is shown how a dataframe with all the variants are generated:"
      ]
    },
    {
      "cell_type": "code",
      "execution_count": null,
      "metadata": {
        "id": "de260e50-83bb-423c-af7f-7c8cf11165a3",
        "outputId": "3756571b-b050-4dbc-b305-1efb737d4ec3",
        "colab": {
          "base_uri": "https://localhost:8080/",
          "height": 424
        }
      },
      "outputs": [
        {
          "output_type": "execute_result",
          "data": {
            "text/plain": [
              "            0              1        2       3              4             5  \\\n",
              "0     UP_XI-2  CcalG8H_tADH1    pCYC1   pMLS1   AhuCPR_tCYC1  seq_3HMRtcpy   \n",
              "1     UP_XI-2  CcalG8H_tADH1    pCYC1   pMLS1   AanCPR_tCYC1  seq_3HMRtcpy   \n",
              "2     UP_XI-2  CcalG8H_tADH1    pCYC1   pMLS1   CloCPR_tCYC1  seq_3HMRtcpy   \n",
              "3     UP_XI-2  CcalG8H_tADH1    pCYC1   pMLS1   CacCPR_tCYC1  seq_3HMRtcpy   \n",
              "4     UP_XI-2  CcalG8H_tADH1    pCYC1   pMLS1   AniCPR_tCYC1  seq_3HMRtcpy   \n",
              "...       ...            ...      ...     ...            ...           ...   \n",
              "1435  UP_XI-2   OeuG8H_tADH1  pRPL15B  pCCW12   CpoCPR_tCYC1  seq_3HMRtcpy   \n",
              "1436  UP_XI-2   OeuG8H_tADH1  pRPL15B  pCCW12   OeuCPR_tCYC1  seq_3HMRtcpy   \n",
              "1437  UP_XI-2   OeuG8H_tADH1  pRPL15B  pCCW12   RseCPR_tCYC1  seq_3HMRtcpy   \n",
              "1438  UP_XI-2   OeuG8H_tADH1  pRPL15B  pCCW12  AthATR1_tCYC1  seq_3HMRtcpy   \n",
              "1439  UP_XI-2   OeuG8H_tADH1  pRPL15B  pCCW12   CroCPR_tCYC1  seq_3HMRtcpy   \n",
              "\n",
              "            6         Systematic_name  Variant  \n",
              "0     DW_XI-2   (1, 1, 1, 1, 1, 1, 1)        0  \n",
              "1     DW_XI-2   (1, 1, 1, 1, 2, 1, 1)        1  \n",
              "2     DW_XI-2   (1, 1, 1, 1, 3, 1, 1)        2  \n",
              "3     DW_XI-2   (1, 1, 1, 1, 4, 1, 1)        3  \n",
              "4     DW_XI-2   (1, 1, 1, 1, 5, 1, 1)        4  \n",
              "...       ...                     ...      ...  \n",
              "1435  DW_XI-2   (1, 9, 4, 4, 6, 1, 1)     1435  \n",
              "1436  DW_XI-2   (1, 9, 4, 4, 7, 1, 1)     1436  \n",
              "1437  DW_XI-2   (1, 9, 4, 4, 8, 1, 1)     1437  \n",
              "1438  DW_XI-2   (1, 9, 4, 4, 9, 1, 1)     1438  \n",
              "1439  DW_XI-2  (1, 9, 4, 4, 10, 1, 1)     1439  \n",
              "\n",
              "[1440 rows x 9 columns]"
            ],
            "text/html": [
              "\n",
              "  <div id=\"df-da82d7e4-f8b0-41c5-bb70-52a8b72be057\">\n",
              "    <div class=\"colab-df-container\">\n",
              "      <div>\n",
              "<style scoped>\n",
              "    .dataframe tbody tr th:only-of-type {\n",
              "        vertical-align: middle;\n",
              "    }\n",
              "\n",
              "    .dataframe tbody tr th {\n",
              "        vertical-align: top;\n",
              "    }\n",
              "\n",
              "    .dataframe thead th {\n",
              "        text-align: right;\n",
              "    }\n",
              "</style>\n",
              "<table border=\"1\" class=\"dataframe\">\n",
              "  <thead>\n",
              "    <tr style=\"text-align: right;\">\n",
              "      <th></th>\n",
              "      <th>0</th>\n",
              "      <th>1</th>\n",
              "      <th>2</th>\n",
              "      <th>3</th>\n",
              "      <th>4</th>\n",
              "      <th>5</th>\n",
              "      <th>6</th>\n",
              "      <th>Systematic_name</th>\n",
              "      <th>Variant</th>\n",
              "    </tr>\n",
              "  </thead>\n",
              "  <tbody>\n",
              "    <tr>\n",
              "      <th>0</th>\n",
              "      <td>UP_XI-2</td>\n",
              "      <td>CcalG8H_tADH1</td>\n",
              "      <td>pCYC1</td>\n",
              "      <td>pMLS1</td>\n",
              "      <td>AhuCPR_tCYC1</td>\n",
              "      <td>seq_3HMRtcpy</td>\n",
              "      <td>DW_XI-2</td>\n",
              "      <td>(1, 1, 1, 1, 1, 1, 1)</td>\n",
              "      <td>0</td>\n",
              "    </tr>\n",
              "    <tr>\n",
              "      <th>1</th>\n",
              "      <td>UP_XI-2</td>\n",
              "      <td>CcalG8H_tADH1</td>\n",
              "      <td>pCYC1</td>\n",
              "      <td>pMLS1</td>\n",
              "      <td>AanCPR_tCYC1</td>\n",
              "      <td>seq_3HMRtcpy</td>\n",
              "      <td>DW_XI-2</td>\n",
              "      <td>(1, 1, 1, 1, 2, 1, 1)</td>\n",
              "      <td>1</td>\n",
              "    </tr>\n",
              "    <tr>\n",
              "      <th>2</th>\n",
              "      <td>UP_XI-2</td>\n",
              "      <td>CcalG8H_tADH1</td>\n",
              "      <td>pCYC1</td>\n",
              "      <td>pMLS1</td>\n",
              "      <td>CloCPR_tCYC1</td>\n",
              "      <td>seq_3HMRtcpy</td>\n",
              "      <td>DW_XI-2</td>\n",
              "      <td>(1, 1, 1, 1, 3, 1, 1)</td>\n",
              "      <td>2</td>\n",
              "    </tr>\n",
              "    <tr>\n",
              "      <th>3</th>\n",
              "      <td>UP_XI-2</td>\n",
              "      <td>CcalG8H_tADH1</td>\n",
              "      <td>pCYC1</td>\n",
              "      <td>pMLS1</td>\n",
              "      <td>CacCPR_tCYC1</td>\n",
              "      <td>seq_3HMRtcpy</td>\n",
              "      <td>DW_XI-2</td>\n",
              "      <td>(1, 1, 1, 1, 4, 1, 1)</td>\n",
              "      <td>3</td>\n",
              "    </tr>\n",
              "    <tr>\n",
              "      <th>4</th>\n",
              "      <td>UP_XI-2</td>\n",
              "      <td>CcalG8H_tADH1</td>\n",
              "      <td>pCYC1</td>\n",
              "      <td>pMLS1</td>\n",
              "      <td>AniCPR_tCYC1</td>\n",
              "      <td>seq_3HMRtcpy</td>\n",
              "      <td>DW_XI-2</td>\n",
              "      <td>(1, 1, 1, 1, 5, 1, 1)</td>\n",
              "      <td>4</td>\n",
              "    </tr>\n",
              "    <tr>\n",
              "      <th>...</th>\n",
              "      <td>...</td>\n",
              "      <td>...</td>\n",
              "      <td>...</td>\n",
              "      <td>...</td>\n",
              "      <td>...</td>\n",
              "      <td>...</td>\n",
              "      <td>...</td>\n",
              "      <td>...</td>\n",
              "      <td>...</td>\n",
              "    </tr>\n",
              "    <tr>\n",
              "      <th>1435</th>\n",
              "      <td>UP_XI-2</td>\n",
              "      <td>OeuG8H_tADH1</td>\n",
              "      <td>pRPL15B</td>\n",
              "      <td>pCCW12</td>\n",
              "      <td>CpoCPR_tCYC1</td>\n",
              "      <td>seq_3HMRtcpy</td>\n",
              "      <td>DW_XI-2</td>\n",
              "      <td>(1, 9, 4, 4, 6, 1, 1)</td>\n",
              "      <td>1435</td>\n",
              "    </tr>\n",
              "    <tr>\n",
              "      <th>1436</th>\n",
              "      <td>UP_XI-2</td>\n",
              "      <td>OeuG8H_tADH1</td>\n",
              "      <td>pRPL15B</td>\n",
              "      <td>pCCW12</td>\n",
              "      <td>OeuCPR_tCYC1</td>\n",
              "      <td>seq_3HMRtcpy</td>\n",
              "      <td>DW_XI-2</td>\n",
              "      <td>(1, 9, 4, 4, 7, 1, 1)</td>\n",
              "      <td>1436</td>\n",
              "    </tr>\n",
              "    <tr>\n",
              "      <th>1437</th>\n",
              "      <td>UP_XI-2</td>\n",
              "      <td>OeuG8H_tADH1</td>\n",
              "      <td>pRPL15B</td>\n",
              "      <td>pCCW12</td>\n",
              "      <td>RseCPR_tCYC1</td>\n",
              "      <td>seq_3HMRtcpy</td>\n",
              "      <td>DW_XI-2</td>\n",
              "      <td>(1, 9, 4, 4, 8, 1, 1)</td>\n",
              "      <td>1437</td>\n",
              "    </tr>\n",
              "    <tr>\n",
              "      <th>1438</th>\n",
              "      <td>UP_XI-2</td>\n",
              "      <td>OeuG8H_tADH1</td>\n",
              "      <td>pRPL15B</td>\n",
              "      <td>pCCW12</td>\n",
              "      <td>AthATR1_tCYC1</td>\n",
              "      <td>seq_3HMRtcpy</td>\n",
              "      <td>DW_XI-2</td>\n",
              "      <td>(1, 9, 4, 4, 9, 1, 1)</td>\n",
              "      <td>1438</td>\n",
              "    </tr>\n",
              "    <tr>\n",
              "      <th>1439</th>\n",
              "      <td>UP_XI-2</td>\n",
              "      <td>OeuG8H_tADH1</td>\n",
              "      <td>pRPL15B</td>\n",
              "      <td>pCCW12</td>\n",
              "      <td>CroCPR_tCYC1</td>\n",
              "      <td>seq_3HMRtcpy</td>\n",
              "      <td>DW_XI-2</td>\n",
              "      <td>(1, 9, 4, 4, 10, 1, 1)</td>\n",
              "      <td>1439</td>\n",
              "    </tr>\n",
              "  </tbody>\n",
              "</table>\n",
              "<p>1440 rows × 9 columns</p>\n",
              "</div>\n",
              "      <button class=\"colab-df-convert\" onclick=\"convertToInteractive('df-da82d7e4-f8b0-41c5-bb70-52a8b72be057')\"\n",
              "              title=\"Convert this dataframe to an interactive table.\"\n",
              "              style=\"display:none;\">\n",
              "        \n",
              "  <svg xmlns=\"http://www.w3.org/2000/svg\" height=\"24px\"viewBox=\"0 0 24 24\"\n",
              "       width=\"24px\">\n",
              "    <path d=\"M0 0h24v24H0V0z\" fill=\"none\"/>\n",
              "    <path d=\"M18.56 5.44l.94 2.06.94-2.06 2.06-.94-2.06-.94-.94-2.06-.94 2.06-2.06.94zm-11 1L8.5 8.5l.94-2.06 2.06-.94-2.06-.94L8.5 2.5l-.94 2.06-2.06.94zm10 10l.94 2.06.94-2.06 2.06-.94-2.06-.94-.94-2.06-.94 2.06-2.06.94z\"/><path d=\"M17.41 7.96l-1.37-1.37c-.4-.4-.92-.59-1.43-.59-.52 0-1.04.2-1.43.59L10.3 9.45l-7.72 7.72c-.78.78-.78 2.05 0 2.83L4 21.41c.39.39.9.59 1.41.59.51 0 1.02-.2 1.41-.59l7.78-7.78 2.81-2.81c.8-.78.8-2.07 0-2.86zM5.41 20L4 18.59l7.72-7.72 1.47 1.35L5.41 20z\"/>\n",
              "  </svg>\n",
              "      </button>\n",
              "      \n",
              "  <style>\n",
              "    .colab-df-container {\n",
              "      display:flex;\n",
              "      flex-wrap:wrap;\n",
              "      gap: 12px;\n",
              "    }\n",
              "\n",
              "    .colab-df-convert {\n",
              "      background-color: #E8F0FE;\n",
              "      border: none;\n",
              "      border-radius: 50%;\n",
              "      cursor: pointer;\n",
              "      display: none;\n",
              "      fill: #1967D2;\n",
              "      height: 32px;\n",
              "      padding: 0 0 0 0;\n",
              "      width: 32px;\n",
              "    }\n",
              "\n",
              "    .colab-df-convert:hover {\n",
              "      background-color: #E2EBFA;\n",
              "      box-shadow: 0px 1px 2px rgba(60, 64, 67, 0.3), 0px 1px 3px 1px rgba(60, 64, 67, 0.15);\n",
              "      fill: #174EA6;\n",
              "    }\n",
              "\n",
              "    [theme=dark] .colab-df-convert {\n",
              "      background-color: #3B4455;\n",
              "      fill: #D2E3FC;\n",
              "    }\n",
              "\n",
              "    [theme=dark] .colab-df-convert:hover {\n",
              "      background-color: #434B5C;\n",
              "      box-shadow: 0px 1px 3px 1px rgba(0, 0, 0, 0.15);\n",
              "      filter: drop-shadow(0px 1px 2px rgba(0, 0, 0, 0.3));\n",
              "      fill: #FFFFFF;\n",
              "    }\n",
              "  </style>\n",
              "\n",
              "      <script>\n",
              "        const buttonEl =\n",
              "          document.querySelector('#df-da82d7e4-f8b0-41c5-bb70-52a8b72be057 button.colab-df-convert');\n",
              "        buttonEl.style.display =\n",
              "          google.colab.kernel.accessAllowed ? 'block' : 'none';\n",
              "\n",
              "        async function convertToInteractive(key) {\n",
              "          const element = document.querySelector('#df-da82d7e4-f8b0-41c5-bb70-52a8b72be057');\n",
              "          const dataTable =\n",
              "            await google.colab.kernel.invokeFunction('convertToInteractive',\n",
              "                                                     [key], {});\n",
              "          if (!dataTable) return;\n",
              "\n",
              "          const docLinkHtml = 'Like what you see? Visit the ' +\n",
              "            '<a target=\"_blank\" href=https://colab.research.google.com/notebooks/data_table.ipynb>data table notebook</a>'\n",
              "            + ' to learn more about interactive tables.';\n",
              "          element.innerHTML = '';\n",
              "          dataTable['output_type'] = 'display_data';\n",
              "          await google.colab.output.renderOutput(dataTable, element);\n",
              "          const docLink = document.createElement('div');\n",
              "          docLink.innerHTML = docLinkHtml;\n",
              "          element.appendChild(docLink);\n",
              "        }\n",
              "      </script>\n",
              "    </div>\n",
              "  </div>\n",
              "  "
            ]
          },
          "metadata": {},
          "execution_count": 18
        }
      ],
      "source": [
        "combinatorial_lib_variants_df = G8H_assembly.ShowVariantsLibDF()\n",
        "combinatorial_lib_variants_df"
      ]
    },
    {
      "cell_type": "markdown",
      "metadata": {
        "id": "4b8247ca-ae06-4d4d-9f9c-095ffc5fccc5"
      },
      "source": [
        "We can change the coloumn names to get a better overview. \n"
      ]
    },
    {
      "cell_type": "code",
      "execution_count": null,
      "metadata": {
        "id": "18618e72-cd10-4b1f-b368-4e682eac73f5",
        "outputId": "6cd70b50-f20a-4d55-b496-39f8eddaefbb",
        "colab": {
          "base_uri": "https://localhost:8080/",
          "height": 424
        }
      },
      "outputs": [
        {
          "output_type": "execute_result",
          "data": {
            "text/plain": [
              "      UP_site     <- G8H-CYP <-Promoters1 Promoters2->      G8H-CPR->  \\\n",
              "0     UP_XI-2  CcalG8H_tADH1        pCYC1        pMLS1   AhuCPR_tCYC1   \n",
              "1     UP_XI-2  CcalG8H_tADH1        pCYC1        pMLS1   AanCPR_tCYC1   \n",
              "2     UP_XI-2  CcalG8H_tADH1        pCYC1        pMLS1   CloCPR_tCYC1   \n",
              "3     UP_XI-2  CcalG8H_tADH1        pCYC1        pMLS1   CacCPR_tCYC1   \n",
              "4     UP_XI-2  CcalG8H_tADH1        pCYC1        pMLS1   AniCPR_tCYC1   \n",
              "...       ...            ...          ...          ...            ...   \n",
              "1435  UP_XI-2   OeuG8H_tADH1      pRPL15B       pCCW12   CpoCPR_tCYC1   \n",
              "1436  UP_XI-2   OeuG8H_tADH1      pRPL15B       pCCW12   OeuCPR_tCYC1   \n",
              "1437  UP_XI-2   OeuG8H_tADH1      pRPL15B       pCCW12   RseCPR_tCYC1   \n",
              "1438  UP_XI-2   OeuG8H_tADH1      pRPL15B       pCCW12  AthATR1_tCYC1   \n",
              "1439  UP_XI-2   OeuG8H_tADH1      pRPL15B       pCCW12   CroCPR_tCYC1   \n",
              "\n",
              "      Trp_marker-> Down_site         Systematic_name  Variant  \n",
              "0     seq_3HMRtcpy   DW_XI-2   (1, 1, 1, 1, 1, 1, 1)        0  \n",
              "1     seq_3HMRtcpy   DW_XI-2   (1, 1, 1, 1, 2, 1, 1)        1  \n",
              "2     seq_3HMRtcpy   DW_XI-2   (1, 1, 1, 1, 3, 1, 1)        2  \n",
              "3     seq_3HMRtcpy   DW_XI-2   (1, 1, 1, 1, 4, 1, 1)        3  \n",
              "4     seq_3HMRtcpy   DW_XI-2   (1, 1, 1, 1, 5, 1, 1)        4  \n",
              "...            ...       ...                     ...      ...  \n",
              "1435  seq_3HMRtcpy   DW_XI-2   (1, 9, 4, 4, 6, 1, 1)     1435  \n",
              "1436  seq_3HMRtcpy   DW_XI-2   (1, 9, 4, 4, 7, 1, 1)     1436  \n",
              "1437  seq_3HMRtcpy   DW_XI-2   (1, 9, 4, 4, 8, 1, 1)     1437  \n",
              "1438  seq_3HMRtcpy   DW_XI-2   (1, 9, 4, 4, 9, 1, 1)     1438  \n",
              "1439  seq_3HMRtcpy   DW_XI-2  (1, 9, 4, 4, 10, 1, 1)     1439  \n",
              "\n",
              "[1440 rows x 9 columns]"
            ],
            "text/html": [
              "\n",
              "  <div id=\"df-9d4862f3-4585-476e-a9aa-21baf17da58d\">\n",
              "    <div class=\"colab-df-container\">\n",
              "      <div>\n",
              "<style scoped>\n",
              "    .dataframe tbody tr th:only-of-type {\n",
              "        vertical-align: middle;\n",
              "    }\n",
              "\n",
              "    .dataframe tbody tr th {\n",
              "        vertical-align: top;\n",
              "    }\n",
              "\n",
              "    .dataframe thead th {\n",
              "        text-align: right;\n",
              "    }\n",
              "</style>\n",
              "<table border=\"1\" class=\"dataframe\">\n",
              "  <thead>\n",
              "    <tr style=\"text-align: right;\">\n",
              "      <th></th>\n",
              "      <th>UP_site</th>\n",
              "      <th>&lt;- G8H-CYP</th>\n",
              "      <th>&lt;-Promoters1</th>\n",
              "      <th>Promoters2-&gt;</th>\n",
              "      <th>G8H-CPR-&gt;</th>\n",
              "      <th>Trp_marker-&gt;</th>\n",
              "      <th>Down_site</th>\n",
              "      <th>Systematic_name</th>\n",
              "      <th>Variant</th>\n",
              "    </tr>\n",
              "  </thead>\n",
              "  <tbody>\n",
              "    <tr>\n",
              "      <th>0</th>\n",
              "      <td>UP_XI-2</td>\n",
              "      <td>CcalG8H_tADH1</td>\n",
              "      <td>pCYC1</td>\n",
              "      <td>pMLS1</td>\n",
              "      <td>AhuCPR_tCYC1</td>\n",
              "      <td>seq_3HMRtcpy</td>\n",
              "      <td>DW_XI-2</td>\n",
              "      <td>(1, 1, 1, 1, 1, 1, 1)</td>\n",
              "      <td>0</td>\n",
              "    </tr>\n",
              "    <tr>\n",
              "      <th>1</th>\n",
              "      <td>UP_XI-2</td>\n",
              "      <td>CcalG8H_tADH1</td>\n",
              "      <td>pCYC1</td>\n",
              "      <td>pMLS1</td>\n",
              "      <td>AanCPR_tCYC1</td>\n",
              "      <td>seq_3HMRtcpy</td>\n",
              "      <td>DW_XI-2</td>\n",
              "      <td>(1, 1, 1, 1, 2, 1, 1)</td>\n",
              "      <td>1</td>\n",
              "    </tr>\n",
              "    <tr>\n",
              "      <th>2</th>\n",
              "      <td>UP_XI-2</td>\n",
              "      <td>CcalG8H_tADH1</td>\n",
              "      <td>pCYC1</td>\n",
              "      <td>pMLS1</td>\n",
              "      <td>CloCPR_tCYC1</td>\n",
              "      <td>seq_3HMRtcpy</td>\n",
              "      <td>DW_XI-2</td>\n",
              "      <td>(1, 1, 1, 1, 3, 1, 1)</td>\n",
              "      <td>2</td>\n",
              "    </tr>\n",
              "    <tr>\n",
              "      <th>3</th>\n",
              "      <td>UP_XI-2</td>\n",
              "      <td>CcalG8H_tADH1</td>\n",
              "      <td>pCYC1</td>\n",
              "      <td>pMLS1</td>\n",
              "      <td>CacCPR_tCYC1</td>\n",
              "      <td>seq_3HMRtcpy</td>\n",
              "      <td>DW_XI-2</td>\n",
              "      <td>(1, 1, 1, 1, 4, 1, 1)</td>\n",
              "      <td>3</td>\n",
              "    </tr>\n",
              "    <tr>\n",
              "      <th>4</th>\n",
              "      <td>UP_XI-2</td>\n",
              "      <td>CcalG8H_tADH1</td>\n",
              "      <td>pCYC1</td>\n",
              "      <td>pMLS1</td>\n",
              "      <td>AniCPR_tCYC1</td>\n",
              "      <td>seq_3HMRtcpy</td>\n",
              "      <td>DW_XI-2</td>\n",
              "      <td>(1, 1, 1, 1, 5, 1, 1)</td>\n",
              "      <td>4</td>\n",
              "    </tr>\n",
              "    <tr>\n",
              "      <th>...</th>\n",
              "      <td>...</td>\n",
              "      <td>...</td>\n",
              "      <td>...</td>\n",
              "      <td>...</td>\n",
              "      <td>...</td>\n",
              "      <td>...</td>\n",
              "      <td>...</td>\n",
              "      <td>...</td>\n",
              "      <td>...</td>\n",
              "    </tr>\n",
              "    <tr>\n",
              "      <th>1435</th>\n",
              "      <td>UP_XI-2</td>\n",
              "      <td>OeuG8H_tADH1</td>\n",
              "      <td>pRPL15B</td>\n",
              "      <td>pCCW12</td>\n",
              "      <td>CpoCPR_tCYC1</td>\n",
              "      <td>seq_3HMRtcpy</td>\n",
              "      <td>DW_XI-2</td>\n",
              "      <td>(1, 9, 4, 4, 6, 1, 1)</td>\n",
              "      <td>1435</td>\n",
              "    </tr>\n",
              "    <tr>\n",
              "      <th>1436</th>\n",
              "      <td>UP_XI-2</td>\n",
              "      <td>OeuG8H_tADH1</td>\n",
              "      <td>pRPL15B</td>\n",
              "      <td>pCCW12</td>\n",
              "      <td>OeuCPR_tCYC1</td>\n",
              "      <td>seq_3HMRtcpy</td>\n",
              "      <td>DW_XI-2</td>\n",
              "      <td>(1, 9, 4, 4, 7, 1, 1)</td>\n",
              "      <td>1436</td>\n",
              "    </tr>\n",
              "    <tr>\n",
              "      <th>1437</th>\n",
              "      <td>UP_XI-2</td>\n",
              "      <td>OeuG8H_tADH1</td>\n",
              "      <td>pRPL15B</td>\n",
              "      <td>pCCW12</td>\n",
              "      <td>RseCPR_tCYC1</td>\n",
              "      <td>seq_3HMRtcpy</td>\n",
              "      <td>DW_XI-2</td>\n",
              "      <td>(1, 9, 4, 4, 8, 1, 1)</td>\n",
              "      <td>1437</td>\n",
              "    </tr>\n",
              "    <tr>\n",
              "      <th>1438</th>\n",
              "      <td>UP_XI-2</td>\n",
              "      <td>OeuG8H_tADH1</td>\n",
              "      <td>pRPL15B</td>\n",
              "      <td>pCCW12</td>\n",
              "      <td>AthATR1_tCYC1</td>\n",
              "      <td>seq_3HMRtcpy</td>\n",
              "      <td>DW_XI-2</td>\n",
              "      <td>(1, 9, 4, 4, 9, 1, 1)</td>\n",
              "      <td>1438</td>\n",
              "    </tr>\n",
              "    <tr>\n",
              "      <th>1439</th>\n",
              "      <td>UP_XI-2</td>\n",
              "      <td>OeuG8H_tADH1</td>\n",
              "      <td>pRPL15B</td>\n",
              "      <td>pCCW12</td>\n",
              "      <td>CroCPR_tCYC1</td>\n",
              "      <td>seq_3HMRtcpy</td>\n",
              "      <td>DW_XI-2</td>\n",
              "      <td>(1, 9, 4, 4, 10, 1, 1)</td>\n",
              "      <td>1439</td>\n",
              "    </tr>\n",
              "  </tbody>\n",
              "</table>\n",
              "<p>1440 rows × 9 columns</p>\n",
              "</div>\n",
              "      <button class=\"colab-df-convert\" onclick=\"convertToInteractive('df-9d4862f3-4585-476e-a9aa-21baf17da58d')\"\n",
              "              title=\"Convert this dataframe to an interactive table.\"\n",
              "              style=\"display:none;\">\n",
              "        \n",
              "  <svg xmlns=\"http://www.w3.org/2000/svg\" height=\"24px\"viewBox=\"0 0 24 24\"\n",
              "       width=\"24px\">\n",
              "    <path d=\"M0 0h24v24H0V0z\" fill=\"none\"/>\n",
              "    <path d=\"M18.56 5.44l.94 2.06.94-2.06 2.06-.94-2.06-.94-.94-2.06-.94 2.06-2.06.94zm-11 1L8.5 8.5l.94-2.06 2.06-.94-2.06-.94L8.5 2.5l-.94 2.06-2.06.94zm10 10l.94 2.06.94-2.06 2.06-.94-2.06-.94-.94-2.06-.94 2.06-2.06.94z\"/><path d=\"M17.41 7.96l-1.37-1.37c-.4-.4-.92-.59-1.43-.59-.52 0-1.04.2-1.43.59L10.3 9.45l-7.72 7.72c-.78.78-.78 2.05 0 2.83L4 21.41c.39.39.9.59 1.41.59.51 0 1.02-.2 1.41-.59l7.78-7.78 2.81-2.81c.8-.78.8-2.07 0-2.86zM5.41 20L4 18.59l7.72-7.72 1.47 1.35L5.41 20z\"/>\n",
              "  </svg>\n",
              "      </button>\n",
              "      \n",
              "  <style>\n",
              "    .colab-df-container {\n",
              "      display:flex;\n",
              "      flex-wrap:wrap;\n",
              "      gap: 12px;\n",
              "    }\n",
              "\n",
              "    .colab-df-convert {\n",
              "      background-color: #E8F0FE;\n",
              "      border: none;\n",
              "      border-radius: 50%;\n",
              "      cursor: pointer;\n",
              "      display: none;\n",
              "      fill: #1967D2;\n",
              "      height: 32px;\n",
              "      padding: 0 0 0 0;\n",
              "      width: 32px;\n",
              "    }\n",
              "\n",
              "    .colab-df-convert:hover {\n",
              "      background-color: #E2EBFA;\n",
              "      box-shadow: 0px 1px 2px rgba(60, 64, 67, 0.3), 0px 1px 3px 1px rgba(60, 64, 67, 0.15);\n",
              "      fill: #174EA6;\n",
              "    }\n",
              "\n",
              "    [theme=dark] .colab-df-convert {\n",
              "      background-color: #3B4455;\n",
              "      fill: #D2E3FC;\n",
              "    }\n",
              "\n",
              "    [theme=dark] .colab-df-convert:hover {\n",
              "      background-color: #434B5C;\n",
              "      box-shadow: 0px 1px 3px 1px rgba(0, 0, 0, 0.15);\n",
              "      filter: drop-shadow(0px 1px 2px rgba(0, 0, 0, 0.3));\n",
              "      fill: #FFFFFF;\n",
              "    }\n",
              "  </style>\n",
              "\n",
              "      <script>\n",
              "        const buttonEl =\n",
              "          document.querySelector('#df-9d4862f3-4585-476e-a9aa-21baf17da58d button.colab-df-convert');\n",
              "        buttonEl.style.display =\n",
              "          google.colab.kernel.accessAllowed ? 'block' : 'none';\n",
              "\n",
              "        async function convertToInteractive(key) {\n",
              "          const element = document.querySelector('#df-9d4862f3-4585-476e-a9aa-21baf17da58d');\n",
              "          const dataTable =\n",
              "            await google.colab.kernel.invokeFunction('convertToInteractive',\n",
              "                                                     [key], {});\n",
              "          if (!dataTable) return;\n",
              "\n",
              "          const docLinkHtml = 'Like what you see? Visit the ' +\n",
              "            '<a target=\"_blank\" href=https://colab.research.google.com/notebooks/data_table.ipynb>data table notebook</a>'\n",
              "            + ' to learn more about interactive tables.';\n",
              "          element.innerHTML = '';\n",
              "          dataTable['output_type'] = 'display_data';\n",
              "          await google.colab.output.renderOutput(dataTable, element);\n",
              "          const docLink = document.createElement('div');\n",
              "          docLink.innerHTML = docLinkHtml;\n",
              "          element.appendChild(docLink);\n",
              "        }\n",
              "      </script>\n",
              "    </div>\n",
              "  </div>\n",
              "  "
            ]
          },
          "metadata": {},
          "execution_count": 19
        }
      ],
      "source": [
        "combinatorial_lib_variants_df = combinatorial_lib_variants_df.rename(columns={0: 'UP_site',1: '<- G8H-CYP', 2: '<-Promoters1', 3:'Promoters2->', 4:'G8H-CPR->', 5:'Trp_marker->', 6:'Down_site'})\n",
        "combinatorial_lib_variants_df"
      ]
    },
    {
      "cell_type": "markdown",
      "metadata": {
        "id": "2eae88c3-bec8-4e16-970e-2a1e4dd695e1"
      },
      "source": [
        "Lets see how the first assembly overlaps. We can do that with the following code: "
      ]
    },
    {
      "cell_type": "code",
      "execution_count": null,
      "metadata": {
        "id": "d83c6996-208b-4400-a445-0f0b20c979ef",
        "outputId": "64f6681e-4bff-4564-8579-c163d7c45c93",
        "colab": {
          "base_uri": "https://localhost:8080/"
        }
      },
      "outputs": [
        {
          "output_type": "stream",
          "name": "stdout",
          "text": [
            "UP_XI-2|36\n",
            "        \\/\n",
            "        /\\\n",
            "        36|CcalG8H_tADH1|36\n",
            "                         \\/\n",
            "                         /\\\n",
            "                         36|pCYC1|36\n",
            "                                  \\/\n",
            "                                  /\\\n",
            "                                  36|pMLS1|36\n",
            "                                           \\/\n",
            "                                           /\\\n",
            "                                           36|AhuCPR_tCYC1|36\n",
            "                                                           \\/\n",
            "                                                           /\\\n",
            "                                                           36|seq_3HMRtcpy|36\n",
            "                                                                           \\/\n",
            "                                                                           /\\\n",
            "                                                                           36|DW_XI-2\n"
          ]
        }
      ],
      "source": [
        "# the first variant is chosen here\n",
        "subset_of_the_assemblies = G8H_assembly.list_of_assemblies[0]\n",
        "assemble = Assembly(subset_of_the_assemblies, limit = 35)\n",
        "print(assemble.assemble_linear()[0].figure())"
      ]
    },
    {
      "cell_type": "markdown",
      "metadata": {
        "id": "fec87d23-8654-4bf4-baf8-9f013a8fcc2a"
      },
      "source": [
        "How long is the contig?"
      ]
    },
    {
      "cell_type": "code",
      "execution_count": null,
      "metadata": {
        "id": "5966a9ef-40e3-43cc-861b-78f3d88862b8",
        "outputId": "5defdbac-d946-469d-e71f-9db24129fb38",
        "colab": {
          "base_uri": "https://localhost:8080/"
        }
      },
      "outputs": [
        {
          "output_type": "execute_result",
          "data": {
            "text/plain": [
              "[Contig(-8713)]"
            ]
          },
          "metadata": {},
          "execution_count": 21
        }
      ],
      "source": [
        "assemble.assemble_linear()"
      ]
    },
    {
      "cell_type": "markdown",
      "metadata": {
        "id": "ccc8e585-2eea-45e9-a487-1d5365c34547"
      },
      "source": [
        "We can retrieve the primers needed for the assembly in the following way:"
      ]
    },
    {
      "cell_type": "code",
      "execution_count": null,
      "metadata": {
        "id": "5c0b5422-53e7-415b-a304-006bd7fa1b4b",
        "outputId": "3de3f78c-8791-48fb-ffb0-b1627a46abf7",
        "colab": {
          "base_uri": "https://localhost:8080/",
          "height": 424
        }
      },
      "outputs": [
        {
          "output_type": "execute_result",
          "data": {
            "text/plain": [
              "       ID     Anneals to                                           Sequence  \\\n",
              "0    F001        UP_XI-2  (G, A, G, G, A, T, T, T, T, C, G, A, T, G, G, ...   \n",
              "1    F002  CcalG8H_tADH1  (T, G, C, C, A, T, G, A, A, C, T, T, C, C, A, ...   \n",
              "2    F003          pCYC1  (A, T, A, T, C, G, T, A, C, T, C, C, A, G, C, ...   \n",
              "3    F004          pMLS1  (T, G, G, A, A, A, C, T, T, T, T, A, C, G, A, ...   \n",
              "4    F005   AhuCPR_tCYC1  (A, T, A, G, G, A, C, G, C, T, A, T, G, C, T, ...   \n",
              "..    ...            ...                                                ...   \n",
              "205  R206        UP_XI-2  (C, T, A, A, C, A, A, T, T, C, T, T, C, A, G, ...   \n",
              "206  R207   OeuG8H_tADH1  (T, G, T, G, T, G, A, T, T, T, A, A, T, T, A, ...   \n",
              "207  R208   OeuG8H_tADH1  (T, A, T, T, G, T, A, T, G, T, T, A, T, T, A, ...   \n",
              "208  R209   OeuG8H_tADH1  (T, A, T, T, A, T, T, T, T, A, T, T, G, T, T, ...   \n",
              "209  R210   OeuG8H_tADH1  (T, G, G, A, T, G, G, T, G, T, G, T, T, C, G, ...   \n",
              "\n",
              "     Annealing temperature  Length  Price(DKK)  \n",
              "0                    57.29      18        32.4  \n",
              "1                    55.96      40        72.0  \n",
              "2                    56.37      45        81.0  \n",
              "3                    56.11      38        68.4  \n",
              "4                    57.66      54        97.2  \n",
              "..                     ...     ...         ...  \n",
              "205                  56.60      35        63.0  \n",
              "206                  56.54      33        59.4  \n",
              "207                  56.54      33        59.4  \n",
              "208                  56.54      33        59.4  \n",
              "209                  56.54      33        59.4  \n",
              "\n",
              "[210 rows x 6 columns]"
            ],
            "text/html": [
              "\n",
              "  <div id=\"df-53efad15-0c6a-438c-82fb-53ba6de3a047\">\n",
              "    <div class=\"colab-df-container\">\n",
              "      <div>\n",
              "<style scoped>\n",
              "    .dataframe tbody tr th:only-of-type {\n",
              "        vertical-align: middle;\n",
              "    }\n",
              "\n",
              "    .dataframe tbody tr th {\n",
              "        vertical-align: top;\n",
              "    }\n",
              "\n",
              "    .dataframe thead th {\n",
              "        text-align: right;\n",
              "    }\n",
              "</style>\n",
              "<table border=\"1\" class=\"dataframe\">\n",
              "  <thead>\n",
              "    <tr style=\"text-align: right;\">\n",
              "      <th></th>\n",
              "      <th>ID</th>\n",
              "      <th>Anneals to</th>\n",
              "      <th>Sequence</th>\n",
              "      <th>Annealing temperature</th>\n",
              "      <th>Length</th>\n",
              "      <th>Price(DKK)</th>\n",
              "    </tr>\n",
              "  </thead>\n",
              "  <tbody>\n",
              "    <tr>\n",
              "      <th>0</th>\n",
              "      <td>F001</td>\n",
              "      <td>UP_XI-2</td>\n",
              "      <td>(G, A, G, G, A, T, T, T, T, C, G, A, T, G, G, ...</td>\n",
              "      <td>57.29</td>\n",
              "      <td>18</td>\n",
              "      <td>32.4</td>\n",
              "    </tr>\n",
              "    <tr>\n",
              "      <th>1</th>\n",
              "      <td>F002</td>\n",
              "      <td>CcalG8H_tADH1</td>\n",
              "      <td>(T, G, C, C, A, T, G, A, A, C, T, T, C, C, A, ...</td>\n",
              "      <td>55.96</td>\n",
              "      <td>40</td>\n",
              "      <td>72.0</td>\n",
              "    </tr>\n",
              "    <tr>\n",
              "      <th>2</th>\n",
              "      <td>F003</td>\n",
              "      <td>pCYC1</td>\n",
              "      <td>(A, T, A, T, C, G, T, A, C, T, C, C, A, G, C, ...</td>\n",
              "      <td>56.37</td>\n",
              "      <td>45</td>\n",
              "      <td>81.0</td>\n",
              "    </tr>\n",
              "    <tr>\n",
              "      <th>3</th>\n",
              "      <td>F004</td>\n",
              "      <td>pMLS1</td>\n",
              "      <td>(T, G, G, A, A, A, C, T, T, T, T, A, C, G, A, ...</td>\n",
              "      <td>56.11</td>\n",
              "      <td>38</td>\n",
              "      <td>68.4</td>\n",
              "    </tr>\n",
              "    <tr>\n",
              "      <th>4</th>\n",
              "      <td>F005</td>\n",
              "      <td>AhuCPR_tCYC1</td>\n",
              "      <td>(A, T, A, G, G, A, C, G, C, T, A, T, G, C, T, ...</td>\n",
              "      <td>57.66</td>\n",
              "      <td>54</td>\n",
              "      <td>97.2</td>\n",
              "    </tr>\n",
              "    <tr>\n",
              "      <th>...</th>\n",
              "      <td>...</td>\n",
              "      <td>...</td>\n",
              "      <td>...</td>\n",
              "      <td>...</td>\n",
              "      <td>...</td>\n",
              "      <td>...</td>\n",
              "    </tr>\n",
              "    <tr>\n",
              "      <th>205</th>\n",
              "      <td>R206</td>\n",
              "      <td>UP_XI-2</td>\n",
              "      <td>(C, T, A, A, C, A, A, T, T, C, T, T, C, A, G, ...</td>\n",
              "      <td>56.60</td>\n",
              "      <td>35</td>\n",
              "      <td>63.0</td>\n",
              "    </tr>\n",
              "    <tr>\n",
              "      <th>206</th>\n",
              "      <td>R207</td>\n",
              "      <td>OeuG8H_tADH1</td>\n",
              "      <td>(T, G, T, G, T, G, A, T, T, T, A, A, T, T, A, ...</td>\n",
              "      <td>56.54</td>\n",
              "      <td>33</td>\n",
              "      <td>59.4</td>\n",
              "    </tr>\n",
              "    <tr>\n",
              "      <th>207</th>\n",
              "      <td>R208</td>\n",
              "      <td>OeuG8H_tADH1</td>\n",
              "      <td>(T, A, T, T, G, T, A, T, G, T, T, A, T, T, A, ...</td>\n",
              "      <td>56.54</td>\n",
              "      <td>33</td>\n",
              "      <td>59.4</td>\n",
              "    </tr>\n",
              "    <tr>\n",
              "      <th>208</th>\n",
              "      <td>R209</td>\n",
              "      <td>OeuG8H_tADH1</td>\n",
              "      <td>(T, A, T, T, A, T, T, T, T, A, T, T, G, T, T, ...</td>\n",
              "      <td>56.54</td>\n",
              "      <td>33</td>\n",
              "      <td>59.4</td>\n",
              "    </tr>\n",
              "    <tr>\n",
              "      <th>209</th>\n",
              "      <td>R210</td>\n",
              "      <td>OeuG8H_tADH1</td>\n",
              "      <td>(T, G, G, A, T, G, G, T, G, T, G, T, T, C, G, ...</td>\n",
              "      <td>56.54</td>\n",
              "      <td>33</td>\n",
              "      <td>59.4</td>\n",
              "    </tr>\n",
              "  </tbody>\n",
              "</table>\n",
              "<p>210 rows × 6 columns</p>\n",
              "</div>\n",
              "      <button class=\"colab-df-convert\" onclick=\"convertToInteractive('df-53efad15-0c6a-438c-82fb-53ba6de3a047')\"\n",
              "              title=\"Convert this dataframe to an interactive table.\"\n",
              "              style=\"display:none;\">\n",
              "        \n",
              "  <svg xmlns=\"http://www.w3.org/2000/svg\" height=\"24px\"viewBox=\"0 0 24 24\"\n",
              "       width=\"24px\">\n",
              "    <path d=\"M0 0h24v24H0V0z\" fill=\"none\"/>\n",
              "    <path d=\"M18.56 5.44l.94 2.06.94-2.06 2.06-.94-2.06-.94-.94-2.06-.94 2.06-2.06.94zm-11 1L8.5 8.5l.94-2.06 2.06-.94-2.06-.94L8.5 2.5l-.94 2.06-2.06.94zm10 10l.94 2.06.94-2.06 2.06-.94-2.06-.94-.94-2.06-.94 2.06-2.06.94z\"/><path d=\"M17.41 7.96l-1.37-1.37c-.4-.4-.92-.59-1.43-.59-.52 0-1.04.2-1.43.59L10.3 9.45l-7.72 7.72c-.78.78-.78 2.05 0 2.83L4 21.41c.39.39.9.59 1.41.59.51 0 1.02-.2 1.41-.59l7.78-7.78 2.81-2.81c.8-.78.8-2.07 0-2.86zM5.41 20L4 18.59l7.72-7.72 1.47 1.35L5.41 20z\"/>\n",
              "  </svg>\n",
              "      </button>\n",
              "      \n",
              "  <style>\n",
              "    .colab-df-container {\n",
              "      display:flex;\n",
              "      flex-wrap:wrap;\n",
              "      gap: 12px;\n",
              "    }\n",
              "\n",
              "    .colab-df-convert {\n",
              "      background-color: #E8F0FE;\n",
              "      border: none;\n",
              "      border-radius: 50%;\n",
              "      cursor: pointer;\n",
              "      display: none;\n",
              "      fill: #1967D2;\n",
              "      height: 32px;\n",
              "      padding: 0 0 0 0;\n",
              "      width: 32px;\n",
              "    }\n",
              "\n",
              "    .colab-df-convert:hover {\n",
              "      background-color: #E2EBFA;\n",
              "      box-shadow: 0px 1px 2px rgba(60, 64, 67, 0.3), 0px 1px 3px 1px rgba(60, 64, 67, 0.15);\n",
              "      fill: #174EA6;\n",
              "    }\n",
              "\n",
              "    [theme=dark] .colab-df-convert {\n",
              "      background-color: #3B4455;\n",
              "      fill: #D2E3FC;\n",
              "    }\n",
              "\n",
              "    [theme=dark] .colab-df-convert:hover {\n",
              "      background-color: #434B5C;\n",
              "      box-shadow: 0px 1px 3px 1px rgba(0, 0, 0, 0.15);\n",
              "      filter: drop-shadow(0px 1px 2px rgba(0, 0, 0, 0.3));\n",
              "      fill: #FFFFFF;\n",
              "    }\n",
              "  </style>\n",
              "\n",
              "      <script>\n",
              "        const buttonEl =\n",
              "          document.querySelector('#df-53efad15-0c6a-438c-82fb-53ba6de3a047 button.colab-df-convert');\n",
              "        buttonEl.style.display =\n",
              "          google.colab.kernel.accessAllowed ? 'block' : 'none';\n",
              "\n",
              "        async function convertToInteractive(key) {\n",
              "          const element = document.querySelector('#df-53efad15-0c6a-438c-82fb-53ba6de3a047');\n",
              "          const dataTable =\n",
              "            await google.colab.kernel.invokeFunction('convertToInteractive',\n",
              "                                                     [key], {});\n",
              "          if (!dataTable) return;\n",
              "\n",
              "          const docLinkHtml = 'Like what you see? Visit the ' +\n",
              "            '<a target=\"_blank\" href=https://colab.research.google.com/notebooks/data_table.ipynb>data table notebook</a>'\n",
              "            + ' to learn more about interactive tables.';\n",
              "          element.innerHTML = '';\n",
              "          dataTable['output_type'] = 'display_data';\n",
              "          await google.colab.output.renderOutput(dataTable, element);\n",
              "          const docLink = document.createElement('div');\n",
              "          docLink.innerHTML = docLinkHtml;\n",
              "          element.appendChild(docLink);\n",
              "        }\n",
              "      </script>\n",
              "    </div>\n",
              "  </div>\n",
              "  "
            ]
          },
          "metadata": {},
          "execution_count": 27
        }
      ],
      "source": [
        "G8H_primer_df = G8H_assembly.primer_list_to_dataframe()\n",
        "G8H_primer_df"
      ]
    },
    {
      "cell_type": "markdown",
      "metadata": {
        "id": "f5ac0d7d-8d51-4887-90d0-fe94b817ab8c"
      },
      "source": [
        "If we want to take a closer look at the PCRs needed to complete the library do the following: "
      ]
    },
    {
      "cell_type": "code",
      "execution_count": null,
      "metadata": {
        "id": "3c6dfb2a-1a32-43ff-9b1b-8b7a70d9209d",
        "outputId": "eaf05988-56c1-4843-83ce-e2230283c19b",
        "colab": {
          "base_uri": "https://localhost:8080/",
          "height": 1000
        }
      },
      "outputs": [
        {
          "output_type": "execute_result",
          "data": {
            "text/plain": [
              "     PCR#       Template forward_primer reverse_primer   F_tm   R_tm\n",
              "0    PCR1        UP_XI-2           F001           R114  57.29  56.60\n",
              "1    PCR2  CcalG8H_tADH1           F002           R207  55.96  56.54\n",
              "2    PCR3          pCYC1           F110           R116  56.37  56.64\n",
              "3    PCR4          pMLS1           F004           R132  56.11  56.18\n",
              "4    PCR5   AhuCPR_tCYC1           F049           R134  57.66  57.04\n",
              "5    PCR6   seq_3HMRtcpy           F025           R119  55.48  54.59\n",
              "6    PCR7        DW_XI-2           F007           R120  55.09  57.06\n",
              "7    PCR8   AanCPR_tCYC1           F050           R134  56.61  57.04\n",
              "8    PCR9   CloCPR_tCYC1           F056           R133  56.13  55.63\n",
              "9   PCR10   CacCPR_tCYC1           F052           R133  55.61  55.63\n",
              "10  PCR11   AniCPR_tCYC1           F053           R133  56.10  55.63\n",
              "11  PCR12   CpoCPR_tCYC1           F054           R134  56.70  57.04\n",
              "12  PCR13   OeuCPR_tCYC1           F055           R133  55.76  55.63\n",
              "13  PCR14   RseCPR_tCYC1           F056           R133  56.13  55.63\n",
              "14  PCR15  AthATR1_tCYC1           F057           R133  55.60  55.63\n",
              "15  PCR16   CroCPR_tCYC1           F058           R134  57.66  57.04\n",
              "16  PCR17          pCYC1           F110           R135  56.37  56.64\n",
              "17  PCR18          pTPI1           F026           R141  55.95  56.50\n",
              "18  PCR19          pCYC1           F110           R142  56.37  56.64\n",
              "19  PCR20          pURE2           F037           R148  56.78  57.28\n",
              "20  PCR21          pCYC1           F110           R149  56.37  56.64\n",
              "21  PCR22         pCCW12           F048           R155  55.35  55.79\n",
              "22  PCR23  CcalG8H_tADH1           F002           R208  55.96  56.54\n",
              "23  PCR24          pENO2           F111           R157  54.94  56.87\n",
              "24  PCR25          pMLS1           F060           R132  56.11  56.18\n",
              "25  PCR26          pENO2           F111           R158  54.94  56.87\n",
              "26  PCR27          pTPI1           F061           R141  55.95  56.50\n",
              "27  PCR28          pENO2           F111           R159  54.94  56.87\n",
              "28  PCR29          pURE2           F062           R148  56.78  57.28\n",
              "29  PCR30          pENO2           F111           R160  54.94  56.87\n",
              "30  PCR31         pCCW12           F063           R155  55.35  55.79\n",
              "31  PCR32  CcalG8H_tADH1           F002           R209  55.96  56.54\n",
              "32  PCR33          pPCK1           F112           R162  55.73  56.82\n",
              "33  PCR34          pMLS1           F065           R132  56.11  56.18\n",
              "34  PCR35          pPCK1           F112           R163  55.73  56.82\n",
              "35  PCR36          pTPI1           F066           R141  55.95  56.50\n",
              "36  PCR37          pPCK1           F112           R164  55.73  56.82\n",
              "37  PCR38          pURE2           F067           R148  56.78  57.28\n",
              "38  PCR39          pPCK1           F112           R165  55.73  56.82\n",
              "39  PCR40         pCCW12           F068           R155  55.35  55.79"
            ],
            "text/html": [
              "\n",
              "  <div id=\"df-26f07146-7c06-4f84-a7b5-f3b7002153cc\">\n",
              "    <div class=\"colab-df-container\">\n",
              "      <div>\n",
              "<style scoped>\n",
              "    .dataframe tbody tr th:only-of-type {\n",
              "        vertical-align: middle;\n",
              "    }\n",
              "\n",
              "    .dataframe tbody tr th {\n",
              "        vertical-align: top;\n",
              "    }\n",
              "\n",
              "    .dataframe thead th {\n",
              "        text-align: right;\n",
              "    }\n",
              "</style>\n",
              "<table border=\"1\" class=\"dataframe\">\n",
              "  <thead>\n",
              "    <tr style=\"text-align: right;\">\n",
              "      <th></th>\n",
              "      <th>PCR#</th>\n",
              "      <th>Template</th>\n",
              "      <th>forward_primer</th>\n",
              "      <th>reverse_primer</th>\n",
              "      <th>F_tm</th>\n",
              "      <th>R_tm</th>\n",
              "    </tr>\n",
              "  </thead>\n",
              "  <tbody>\n",
              "    <tr>\n",
              "      <th>0</th>\n",
              "      <td>PCR1</td>\n",
              "      <td>UP_XI-2</td>\n",
              "      <td>F001</td>\n",
              "      <td>R114</td>\n",
              "      <td>57.29</td>\n",
              "      <td>56.60</td>\n",
              "    </tr>\n",
              "    <tr>\n",
              "      <th>1</th>\n",
              "      <td>PCR2</td>\n",
              "      <td>CcalG8H_tADH1</td>\n",
              "      <td>F002</td>\n",
              "      <td>R207</td>\n",
              "      <td>55.96</td>\n",
              "      <td>56.54</td>\n",
              "    </tr>\n",
              "    <tr>\n",
              "      <th>2</th>\n",
              "      <td>PCR3</td>\n",
              "      <td>pCYC1</td>\n",
              "      <td>F110</td>\n",
              "      <td>R116</td>\n",
              "      <td>56.37</td>\n",
              "      <td>56.64</td>\n",
              "    </tr>\n",
              "    <tr>\n",
              "      <th>3</th>\n",
              "      <td>PCR4</td>\n",
              "      <td>pMLS1</td>\n",
              "      <td>F004</td>\n",
              "      <td>R132</td>\n",
              "      <td>56.11</td>\n",
              "      <td>56.18</td>\n",
              "    </tr>\n",
              "    <tr>\n",
              "      <th>4</th>\n",
              "      <td>PCR5</td>\n",
              "      <td>AhuCPR_tCYC1</td>\n",
              "      <td>F049</td>\n",
              "      <td>R134</td>\n",
              "      <td>57.66</td>\n",
              "      <td>57.04</td>\n",
              "    </tr>\n",
              "    <tr>\n",
              "      <th>5</th>\n",
              "      <td>PCR6</td>\n",
              "      <td>seq_3HMRtcpy</td>\n",
              "      <td>F025</td>\n",
              "      <td>R119</td>\n",
              "      <td>55.48</td>\n",
              "      <td>54.59</td>\n",
              "    </tr>\n",
              "    <tr>\n",
              "      <th>6</th>\n",
              "      <td>PCR7</td>\n",
              "      <td>DW_XI-2</td>\n",
              "      <td>F007</td>\n",
              "      <td>R120</td>\n",
              "      <td>55.09</td>\n",
              "      <td>57.06</td>\n",
              "    </tr>\n",
              "    <tr>\n",
              "      <th>7</th>\n",
              "      <td>PCR8</td>\n",
              "      <td>AanCPR_tCYC1</td>\n",
              "      <td>F050</td>\n",
              "      <td>R134</td>\n",
              "      <td>56.61</td>\n",
              "      <td>57.04</td>\n",
              "    </tr>\n",
              "    <tr>\n",
              "      <th>8</th>\n",
              "      <td>PCR9</td>\n",
              "      <td>CloCPR_tCYC1</td>\n",
              "      <td>F056</td>\n",
              "      <td>R133</td>\n",
              "      <td>56.13</td>\n",
              "      <td>55.63</td>\n",
              "    </tr>\n",
              "    <tr>\n",
              "      <th>9</th>\n",
              "      <td>PCR10</td>\n",
              "      <td>CacCPR_tCYC1</td>\n",
              "      <td>F052</td>\n",
              "      <td>R133</td>\n",
              "      <td>55.61</td>\n",
              "      <td>55.63</td>\n",
              "    </tr>\n",
              "    <tr>\n",
              "      <th>10</th>\n",
              "      <td>PCR11</td>\n",
              "      <td>AniCPR_tCYC1</td>\n",
              "      <td>F053</td>\n",
              "      <td>R133</td>\n",
              "      <td>56.10</td>\n",
              "      <td>55.63</td>\n",
              "    </tr>\n",
              "    <tr>\n",
              "      <th>11</th>\n",
              "      <td>PCR12</td>\n",
              "      <td>CpoCPR_tCYC1</td>\n",
              "      <td>F054</td>\n",
              "      <td>R134</td>\n",
              "      <td>56.70</td>\n",
              "      <td>57.04</td>\n",
              "    </tr>\n",
              "    <tr>\n",
              "      <th>12</th>\n",
              "      <td>PCR13</td>\n",
              "      <td>OeuCPR_tCYC1</td>\n",
              "      <td>F055</td>\n",
              "      <td>R133</td>\n",
              "      <td>55.76</td>\n",
              "      <td>55.63</td>\n",
              "    </tr>\n",
              "    <tr>\n",
              "      <th>13</th>\n",
              "      <td>PCR14</td>\n",
              "      <td>RseCPR_tCYC1</td>\n",
              "      <td>F056</td>\n",
              "      <td>R133</td>\n",
              "      <td>56.13</td>\n",
              "      <td>55.63</td>\n",
              "    </tr>\n",
              "    <tr>\n",
              "      <th>14</th>\n",
              "      <td>PCR15</td>\n",
              "      <td>AthATR1_tCYC1</td>\n",
              "      <td>F057</td>\n",
              "      <td>R133</td>\n",
              "      <td>55.60</td>\n",
              "      <td>55.63</td>\n",
              "    </tr>\n",
              "    <tr>\n",
              "      <th>15</th>\n",
              "      <td>PCR16</td>\n",
              "      <td>CroCPR_tCYC1</td>\n",
              "      <td>F058</td>\n",
              "      <td>R134</td>\n",
              "      <td>57.66</td>\n",
              "      <td>57.04</td>\n",
              "    </tr>\n",
              "    <tr>\n",
              "      <th>16</th>\n",
              "      <td>PCR17</td>\n",
              "      <td>pCYC1</td>\n",
              "      <td>F110</td>\n",
              "      <td>R135</td>\n",
              "      <td>56.37</td>\n",
              "      <td>56.64</td>\n",
              "    </tr>\n",
              "    <tr>\n",
              "      <th>17</th>\n",
              "      <td>PCR18</td>\n",
              "      <td>pTPI1</td>\n",
              "      <td>F026</td>\n",
              "      <td>R141</td>\n",
              "      <td>55.95</td>\n",
              "      <td>56.50</td>\n",
              "    </tr>\n",
              "    <tr>\n",
              "      <th>18</th>\n",
              "      <td>PCR19</td>\n",
              "      <td>pCYC1</td>\n",
              "      <td>F110</td>\n",
              "      <td>R142</td>\n",
              "      <td>56.37</td>\n",
              "      <td>56.64</td>\n",
              "    </tr>\n",
              "    <tr>\n",
              "      <th>19</th>\n",
              "      <td>PCR20</td>\n",
              "      <td>pURE2</td>\n",
              "      <td>F037</td>\n",
              "      <td>R148</td>\n",
              "      <td>56.78</td>\n",
              "      <td>57.28</td>\n",
              "    </tr>\n",
              "    <tr>\n",
              "      <th>20</th>\n",
              "      <td>PCR21</td>\n",
              "      <td>pCYC1</td>\n",
              "      <td>F110</td>\n",
              "      <td>R149</td>\n",
              "      <td>56.37</td>\n",
              "      <td>56.64</td>\n",
              "    </tr>\n",
              "    <tr>\n",
              "      <th>21</th>\n",
              "      <td>PCR22</td>\n",
              "      <td>pCCW12</td>\n",
              "      <td>F048</td>\n",
              "      <td>R155</td>\n",
              "      <td>55.35</td>\n",
              "      <td>55.79</td>\n",
              "    </tr>\n",
              "    <tr>\n",
              "      <th>22</th>\n",
              "      <td>PCR23</td>\n",
              "      <td>CcalG8H_tADH1</td>\n",
              "      <td>F002</td>\n",
              "      <td>R208</td>\n",
              "      <td>55.96</td>\n",
              "      <td>56.54</td>\n",
              "    </tr>\n",
              "    <tr>\n",
              "      <th>23</th>\n",
              "      <td>PCR24</td>\n",
              "      <td>pENO2</td>\n",
              "      <td>F111</td>\n",
              "      <td>R157</td>\n",
              "      <td>54.94</td>\n",
              "      <td>56.87</td>\n",
              "    </tr>\n",
              "    <tr>\n",
              "      <th>24</th>\n",
              "      <td>PCR25</td>\n",
              "      <td>pMLS1</td>\n",
              "      <td>F060</td>\n",
              "      <td>R132</td>\n",
              "      <td>56.11</td>\n",
              "      <td>56.18</td>\n",
              "    </tr>\n",
              "    <tr>\n",
              "      <th>25</th>\n",
              "      <td>PCR26</td>\n",
              "      <td>pENO2</td>\n",
              "      <td>F111</td>\n",
              "      <td>R158</td>\n",
              "      <td>54.94</td>\n",
              "      <td>56.87</td>\n",
              "    </tr>\n",
              "    <tr>\n",
              "      <th>26</th>\n",
              "      <td>PCR27</td>\n",
              "      <td>pTPI1</td>\n",
              "      <td>F061</td>\n",
              "      <td>R141</td>\n",
              "      <td>55.95</td>\n",
              "      <td>56.50</td>\n",
              "    </tr>\n",
              "    <tr>\n",
              "      <th>27</th>\n",
              "      <td>PCR28</td>\n",
              "      <td>pENO2</td>\n",
              "      <td>F111</td>\n",
              "      <td>R159</td>\n",
              "      <td>54.94</td>\n",
              "      <td>56.87</td>\n",
              "    </tr>\n",
              "    <tr>\n",
              "      <th>28</th>\n",
              "      <td>PCR29</td>\n",
              "      <td>pURE2</td>\n",
              "      <td>F062</td>\n",
              "      <td>R148</td>\n",
              "      <td>56.78</td>\n",
              "      <td>57.28</td>\n",
              "    </tr>\n",
              "    <tr>\n",
              "      <th>29</th>\n",
              "      <td>PCR30</td>\n",
              "      <td>pENO2</td>\n",
              "      <td>F111</td>\n",
              "      <td>R160</td>\n",
              "      <td>54.94</td>\n",
              "      <td>56.87</td>\n",
              "    </tr>\n",
              "    <tr>\n",
              "      <th>30</th>\n",
              "      <td>PCR31</td>\n",
              "      <td>pCCW12</td>\n",
              "      <td>F063</td>\n",
              "      <td>R155</td>\n",
              "      <td>55.35</td>\n",
              "      <td>55.79</td>\n",
              "    </tr>\n",
              "    <tr>\n",
              "      <th>31</th>\n",
              "      <td>PCR32</td>\n",
              "      <td>CcalG8H_tADH1</td>\n",
              "      <td>F002</td>\n",
              "      <td>R209</td>\n",
              "      <td>55.96</td>\n",
              "      <td>56.54</td>\n",
              "    </tr>\n",
              "    <tr>\n",
              "      <th>32</th>\n",
              "      <td>PCR33</td>\n",
              "      <td>pPCK1</td>\n",
              "      <td>F112</td>\n",
              "      <td>R162</td>\n",
              "      <td>55.73</td>\n",
              "      <td>56.82</td>\n",
              "    </tr>\n",
              "    <tr>\n",
              "      <th>33</th>\n",
              "      <td>PCR34</td>\n",
              "      <td>pMLS1</td>\n",
              "      <td>F065</td>\n",
              "      <td>R132</td>\n",
              "      <td>56.11</td>\n",
              "      <td>56.18</td>\n",
              "    </tr>\n",
              "    <tr>\n",
              "      <th>34</th>\n",
              "      <td>PCR35</td>\n",
              "      <td>pPCK1</td>\n",
              "      <td>F112</td>\n",
              "      <td>R163</td>\n",
              "      <td>55.73</td>\n",
              "      <td>56.82</td>\n",
              "    </tr>\n",
              "    <tr>\n",
              "      <th>35</th>\n",
              "      <td>PCR36</td>\n",
              "      <td>pTPI1</td>\n",
              "      <td>F066</td>\n",
              "      <td>R141</td>\n",
              "      <td>55.95</td>\n",
              "      <td>56.50</td>\n",
              "    </tr>\n",
              "    <tr>\n",
              "      <th>36</th>\n",
              "      <td>PCR37</td>\n",
              "      <td>pPCK1</td>\n",
              "      <td>F112</td>\n",
              "      <td>R164</td>\n",
              "      <td>55.73</td>\n",
              "      <td>56.82</td>\n",
              "    </tr>\n",
              "    <tr>\n",
              "      <th>37</th>\n",
              "      <td>PCR38</td>\n",
              "      <td>pURE2</td>\n",
              "      <td>F067</td>\n",
              "      <td>R148</td>\n",
              "      <td>56.78</td>\n",
              "      <td>57.28</td>\n",
              "    </tr>\n",
              "    <tr>\n",
              "      <th>38</th>\n",
              "      <td>PCR39</td>\n",
              "      <td>pPCK1</td>\n",
              "      <td>F112</td>\n",
              "      <td>R165</td>\n",
              "      <td>55.73</td>\n",
              "      <td>56.82</td>\n",
              "    </tr>\n",
              "    <tr>\n",
              "      <th>39</th>\n",
              "      <td>PCR40</td>\n",
              "      <td>pCCW12</td>\n",
              "      <td>F068</td>\n",
              "      <td>R155</td>\n",
              "      <td>55.35</td>\n",
              "      <td>55.79</td>\n",
              "    </tr>\n",
              "  </tbody>\n",
              "</table>\n",
              "</div>\n",
              "      <button class=\"colab-df-convert\" onclick=\"convertToInteractive('df-26f07146-7c06-4f84-a7b5-f3b7002153cc')\"\n",
              "              title=\"Convert this dataframe to an interactive table.\"\n",
              "              style=\"display:none;\">\n",
              "        \n",
              "  <svg xmlns=\"http://www.w3.org/2000/svg\" height=\"24px\"viewBox=\"0 0 24 24\"\n",
              "       width=\"24px\">\n",
              "    <path d=\"M0 0h24v24H0V0z\" fill=\"none\"/>\n",
              "    <path d=\"M18.56 5.44l.94 2.06.94-2.06 2.06-.94-2.06-.94-.94-2.06-.94 2.06-2.06.94zm-11 1L8.5 8.5l.94-2.06 2.06-.94-2.06-.94L8.5 2.5l-.94 2.06-2.06.94zm10 10l.94 2.06.94-2.06 2.06-.94-2.06-.94-.94-2.06-.94 2.06-2.06.94z\"/><path d=\"M17.41 7.96l-1.37-1.37c-.4-.4-.92-.59-1.43-.59-.52 0-1.04.2-1.43.59L10.3 9.45l-7.72 7.72c-.78.78-.78 2.05 0 2.83L4 21.41c.39.39.9.59 1.41.59.51 0 1.02-.2 1.41-.59l7.78-7.78 2.81-2.81c.8-.78.8-2.07 0-2.86zM5.41 20L4 18.59l7.72-7.72 1.47 1.35L5.41 20z\"/>\n",
              "  </svg>\n",
              "      </button>\n",
              "      \n",
              "  <style>\n",
              "    .colab-df-container {\n",
              "      display:flex;\n",
              "      flex-wrap:wrap;\n",
              "      gap: 12px;\n",
              "    }\n",
              "\n",
              "    .colab-df-convert {\n",
              "      background-color: #E8F0FE;\n",
              "      border: none;\n",
              "      border-radius: 50%;\n",
              "      cursor: pointer;\n",
              "      display: none;\n",
              "      fill: #1967D2;\n",
              "      height: 32px;\n",
              "      padding: 0 0 0 0;\n",
              "      width: 32px;\n",
              "    }\n",
              "\n",
              "    .colab-df-convert:hover {\n",
              "      background-color: #E2EBFA;\n",
              "      box-shadow: 0px 1px 2px rgba(60, 64, 67, 0.3), 0px 1px 3px 1px rgba(60, 64, 67, 0.15);\n",
              "      fill: #174EA6;\n",
              "    }\n",
              "\n",
              "    [theme=dark] .colab-df-convert {\n",
              "      background-color: #3B4455;\n",
              "      fill: #D2E3FC;\n",
              "    }\n",
              "\n",
              "    [theme=dark] .colab-df-convert:hover {\n",
              "      background-color: #434B5C;\n",
              "      box-shadow: 0px 1px 3px 1px rgba(0, 0, 0, 0.15);\n",
              "      filter: drop-shadow(0px 1px 2px rgba(0, 0, 0, 0.3));\n",
              "      fill: #FFFFFF;\n",
              "    }\n",
              "  </style>\n",
              "\n",
              "      <script>\n",
              "        const buttonEl =\n",
              "          document.querySelector('#df-26f07146-7c06-4f84-a7b5-f3b7002153cc button.colab-df-convert');\n",
              "        buttonEl.style.display =\n",
              "          google.colab.kernel.accessAllowed ? 'block' : 'none';\n",
              "\n",
              "        async function convertToInteractive(key) {\n",
              "          const element = document.querySelector('#df-26f07146-7c06-4f84-a7b5-f3b7002153cc');\n",
              "          const dataTable =\n",
              "            await google.colab.kernel.invokeFunction('convertToInteractive',\n",
              "                                                     [key], {});\n",
              "          if (!dataTable) return;\n",
              "\n",
              "          const docLinkHtml = 'Like what you see? Visit the ' +\n",
              "            '<a target=\"_blank\" href=https://colab.research.google.com/notebooks/data_table.ipynb>data table notebook</a>'\n",
              "            + ' to learn more about interactive tables.';\n",
              "          element.innerHTML = '';\n",
              "          dataTable['output_type'] = 'display_data';\n",
              "          await google.colab.output.renderOutput(dataTable, element);\n",
              "          const docLink = document.createElement('div');\n",
              "          docLink.innerHTML = docLinkHtml;\n",
              "          element.appendChild(docLink);\n",
              "        }\n",
              "      </script>\n",
              "    </div>\n",
              "  </div>\n",
              "  "
            ]
          },
          "metadata": {},
          "execution_count": 34
        }
      ],
      "source": [
        "G8H_pcr_df = G8H_assembly.PCR_list_to_dataframe()\n",
        "G8H_pcr_df.head(40)"
      ]
    },
    {
      "cell_type": "markdown",
      "metadata": {
        "id": "1beb667a-33f6-4b67-9d93-b4d710bc3d41"
      },
      "source": [
        "With this information it is possible to: \n",
        "1. Order the primers\n",
        "2. Go into the lab and make the PCRs."
      ]
    },
    {
      "cell_type": "markdown",
      "metadata": {
        "id": "5591e62b-0628-40be-afa2-825593b00464"
      },
      "source": [
        "Now, making that many PCRs can be a tough/tedious task to perform so lets make robot instructions that can help us increase the speed at which we make the library and limit mistakes. "
      ]
    },
    {
      "cell_type": "markdown",
      "metadata": {
        "id": "59352723-a467-4a7b-b0a4-0b02ee0c19ec"
      },
      "source": [
        "# 3. Robotassembly "
      ]
    },
    {
      "cell_type": "markdown",
      "metadata": {
        "id": "4e72cbc4-03f4-4d1a-bc32-fa0e891e893b"
      },
      "source": [
        "Here I show how to make robot instructions with the RobotAssembly class. "
      ]
    },
    {
      "cell_type": "markdown",
      "metadata": {
        "id": "192c0cd3-b2d1-4bae-bb83-25e3093d2fb0"
      },
      "source": [
        "The RobotAssembly is made from a already configured plates and a dataframe holding the information about the contents of the PCRs needed to be performed. With this method a subset of all the PCRs can be chosen from the DesignAssembly dataframe and made seperately. The workflow is as follows: "
      ]
    },
    {
      "cell_type": "code",
      "execution_count": null,
      "metadata": {
        "id": "ec936873-3c9e-4489-8d5c-0c027996d879",
        "outputId": "33c01641-c629-4a2a-e72c-6c4e25972089",
        "colab": {
          "base_uri": "https://localhost:8080/",
          "height": 720
        }
      },
      "outputs": [
        {
          "output_type": "execute_result",
          "data": {
            "text/plain": [
              "<IPython.core.display.Image object>"
            ],
            "image/png": "[encoded data removed]"
          },
          "metadata": {},
          "execution_count": 29
        }
      ],
      "source": [
        "display.Image('/content/ConStrain_on_google_colab/pictures/ROBOTassembly.png')"
      ]
    },
    {
      "cell_type": "markdown",
      "metadata": {
        "id": "49b5dbef-8272-47b9-b67b-06cd9c453ee6"
      },
      "source": [
        "As an example we can make some virtual plates from the list of primers and templates"
      ]
    },
    {
      "cell_type": "markdown",
      "metadata": {
        "id": "120c8c4c-2fbe-4172-89b1-a93fca444b7f"
      },
      "source": [
        "We can for example choose the promoter MSL1 and generate a picklist for that. We can slice it from the PCR dataframe like such: "
      ]
    },
    {
      "cell_type": "code",
      "execution_count": null,
      "metadata": {
        "id": "2267d457-0161-48b7-bbaa-be2981123207",
        "outputId": "98eb51c5-7a1c-40ce-c252-0941c078384b",
        "colab": {
          "base_uri": "https://localhost:8080/",
          "height": 175
        }
      },
      "outputs": [
        {
          "output_type": "execute_result",
          "data": {
            "text/plain": [
              "     PCR# Template forward_primer reverse_primer   F_tm   R_tm\n",
              "3    PCR4    pMLS1           F004           R132  56.11  56.18\n",
              "24  PCR25    pMLS1           F060           R132  56.11  56.18\n",
              "33  PCR34    pMLS1           F065           R132  56.11  56.18\n",
              "42  PCR43    pMLS1           F070           R132  56.11  56.18"
            ],
            "text/html": [
              "\n",
              "  <div id=\"df-fcdea073-868b-4148-af7d-d7c6d85c1581\">\n",
              "    <div class=\"colab-df-container\">\n",
              "      <div>\n",
              "<style scoped>\n",
              "    .dataframe tbody tr th:only-of-type {\n",
              "        vertical-align: middle;\n",
              "    }\n",
              "\n",
              "    .dataframe tbody tr th {\n",
              "        vertical-align: top;\n",
              "    }\n",
              "\n",
              "    .dataframe thead th {\n",
              "        text-align: right;\n",
              "    }\n",
              "</style>\n",
              "<table border=\"1\" class=\"dataframe\">\n",
              "  <thead>\n",
              "    <tr style=\"text-align: right;\">\n",
              "      <th></th>\n",
              "      <th>PCR#</th>\n",
              "      <th>Template</th>\n",
              "      <th>forward_primer</th>\n",
              "      <th>reverse_primer</th>\n",
              "      <th>F_tm</th>\n",
              "      <th>R_tm</th>\n",
              "    </tr>\n",
              "  </thead>\n",
              "  <tbody>\n",
              "    <tr>\n",
              "      <th>3</th>\n",
              "      <td>PCR4</td>\n",
              "      <td>pMLS1</td>\n",
              "      <td>F004</td>\n",
              "      <td>R132</td>\n",
              "      <td>56.11</td>\n",
              "      <td>56.18</td>\n",
              "    </tr>\n",
              "    <tr>\n",
              "      <th>24</th>\n",
              "      <td>PCR25</td>\n",
              "      <td>pMLS1</td>\n",
              "      <td>F060</td>\n",
              "      <td>R132</td>\n",
              "      <td>56.11</td>\n",
              "      <td>56.18</td>\n",
              "    </tr>\n",
              "    <tr>\n",
              "      <th>33</th>\n",
              "      <td>PCR34</td>\n",
              "      <td>pMLS1</td>\n",
              "      <td>F065</td>\n",
              "      <td>R132</td>\n",
              "      <td>56.11</td>\n",
              "      <td>56.18</td>\n",
              "    </tr>\n",
              "    <tr>\n",
              "      <th>42</th>\n",
              "      <td>PCR43</td>\n",
              "      <td>pMLS1</td>\n",
              "      <td>F070</td>\n",
              "      <td>R132</td>\n",
              "      <td>56.11</td>\n",
              "      <td>56.18</td>\n",
              "    </tr>\n",
              "  </tbody>\n",
              "</table>\n",
              "</div>\n",
              "      <button class=\"colab-df-convert\" onclick=\"convertToInteractive('df-fcdea073-868b-4148-af7d-d7c6d85c1581')\"\n",
              "              title=\"Convert this dataframe to an interactive table.\"\n",
              "              style=\"display:none;\">\n",
              "        \n",
              "  <svg xmlns=\"http://www.w3.org/2000/svg\" height=\"24px\"viewBox=\"0 0 24 24\"\n",
              "       width=\"24px\">\n",
              "    <path d=\"M0 0h24v24H0V0z\" fill=\"none\"/>\n",
              "    <path d=\"M18.56 5.44l.94 2.06.94-2.06 2.06-.94-2.06-.94-.94-2.06-.94 2.06-2.06.94zm-11 1L8.5 8.5l.94-2.06 2.06-.94-2.06-.94L8.5 2.5l-.94 2.06-2.06.94zm10 10l.94 2.06.94-2.06 2.06-.94-2.06-.94-.94-2.06-.94 2.06-2.06.94z\"/><path d=\"M17.41 7.96l-1.37-1.37c-.4-.4-.92-.59-1.43-.59-.52 0-1.04.2-1.43.59L10.3 9.45l-7.72 7.72c-.78.78-.78 2.05 0 2.83L4 21.41c.39.39.9.59 1.41.59.51 0 1.02-.2 1.41-.59l7.78-7.78 2.81-2.81c.8-.78.8-2.07 0-2.86zM5.41 20L4 18.59l7.72-7.72 1.47 1.35L5.41 20z\"/>\n",
              "  </svg>\n",
              "      </button>\n",
              "      \n",
              "  <style>\n",
              "    .colab-df-container {\n",
              "      display:flex;\n",
              "      flex-wrap:wrap;\n",
              "      gap: 12px;\n",
              "    }\n",
              "\n",
              "    .colab-df-convert {\n",
              "      background-color: #E8F0FE;\n",
              "      border: none;\n",
              "      border-radius: 50%;\n",
              "      cursor: pointer;\n",
              "      display: none;\n",
              "      fill: #1967D2;\n",
              "      height: 32px;\n",
              "      padding: 0 0 0 0;\n",
              "      width: 32px;\n",
              "    }\n",
              "\n",
              "    .colab-df-convert:hover {\n",
              "      background-color: #E2EBFA;\n",
              "      box-shadow: 0px 1px 2px rgba(60, 64, 67, 0.3), 0px 1px 3px 1px rgba(60, 64, 67, 0.15);\n",
              "      fill: #174EA6;\n",
              "    }\n",
              "\n",
              "    [theme=dark] .colab-df-convert {\n",
              "      background-color: #3B4455;\n",
              "      fill: #D2E3FC;\n",
              "    }\n",
              "\n",
              "    [theme=dark] .colab-df-convert:hover {\n",
              "      background-color: #434B5C;\n",
              "      box-shadow: 0px 1px 3px 1px rgba(0, 0, 0, 0.15);\n",
              "      filter: drop-shadow(0px 1px 2px rgba(0, 0, 0, 0.3));\n",
              "      fill: #FFFFFF;\n",
              "    }\n",
              "  </style>\n",
              "\n",
              "      <script>\n",
              "        const buttonEl =\n",
              "          document.querySelector('#df-fcdea073-868b-4148-af7d-d7c6d85c1581 button.colab-df-convert');\n",
              "        buttonEl.style.display =\n",
              "          google.colab.kernel.accessAllowed ? 'block' : 'none';\n",
              "\n",
              "        async function convertToInteractive(key) {\n",
              "          const element = document.querySelector('#df-fcdea073-868b-4148-af7d-d7c6d85c1581');\n",
              "          const dataTable =\n",
              "            await google.colab.kernel.invokeFunction('convertToInteractive',\n",
              "                                                     [key], {});\n",
              "          if (!dataTable) return;\n",
              "\n",
              "          const docLinkHtml = 'Like what you see? Visit the ' +\n",
              "            '<a target=\"_blank\" href=https://colab.research.google.com/notebooks/data_table.ipynb>data table notebook</a>'\n",
              "            + ' to learn more about interactive tables.';\n",
              "          element.innerHTML = '';\n",
              "          dataTable['output_type'] = 'display_data';\n",
              "          await google.colab.output.renderOutput(dataTable, element);\n",
              "          const docLink = document.createElement('div');\n",
              "          docLink.innerHTML = docLinkHtml;\n",
              "          element.appendChild(docLink);\n",
              "        }\n",
              "      </script>\n",
              "    </div>\n",
              "  </div>\n",
              "  "
            ]
          },
          "metadata": {},
          "execution_count": 37
        }
      ],
      "source": [
        "only_a_subset_templates = G8H_pcr_df.loc[G8H_pcr_df['Template']== 'pMLS1']\n",
        "only_a_subset_templates"
      ]
    },
    {
      "cell_type": "markdown",
      "metadata": {
        "id": "20aea09f-e085-4d73-af1f-558a11a28ec7"
      },
      "source": [
        "This step is just to make viirtual plate of primers that we generated earlier. These lists that are generated should be made from actual plates in the lab but this serves as an example how it could look like"
      ]
    },
    {
      "cell_type": "code",
      "execution_count": null,
      "metadata": {
        "id": "b6820f06-c5e6-4f18-a963-04310bdaeea1"
      },
      "outputs": [],
      "source": [
        "fwd_primers = []\n",
        "rev_primers = []\n",
        "templates = []\n",
        "\n",
        "for index,row in G8H_primer_df.iterrows(): \n",
        "    primers = row['ID']\n",
        "    template = row['Anneals to']\n",
        "    \n",
        "    if primers.startswith('F'): \n",
        "        fwd_primers.append(primers)\n",
        "    else:\n",
        "        rev_primers.append(primers)\n",
        "    \n",
        "    if template not in templates: \n",
        "        templates.append(template)"
      ]
    },
    {
      "cell_type": "markdown",
      "metadata": {
        "id": "33418ec6-94fd-4781-bf0f-46d1e79bae68"
      },
      "source": [
        "These are all primers needed to construct the SLS library. We can take a subset of them (96) and make virtual plates and generate the instructions. "
      ]
    },
    {
      "cell_type": "code",
      "execution_count": null,
      "metadata": {
        "id": "5bd1b388-9959-4608-a241-269c42cd50fe"
      },
      "outputs": [],
      "source": [
        "f_primers = fwd_primers[:96]\n",
        "r_primers = rev_primers[:96]\n",
        "templates = templates[:96]"
      ]
    },
    {
      "cell_type": "code",
      "source": [
        "!pip install synbiopython"
      ],
      "metadata": {
        "colab": {
          "base_uri": "https://localhost:8080/",
          "height": 1000
        },
        "id": "0Nl_b6HuC92_",
        "outputId": "9ddec380-1922-4653-c2dd-2b410cce373f"
      },
      "execution_count": null,
      "outputs": [
        {
          "output_type": "stream",
          "name": "stdout",
          "text": [
            "Looking in indexes: https://pypi.org/simple, https://us-python.pkg.dev/colab-wheels/public/simple/\n",
            "Collecting synbiopython\n",
            "  Downloading synbiopython-0.2.0-py3-none-any.whl (459 kB)\n",
            "\u001b[K     |████████████████████████████████| 459 kB 14.3 MB/s \n",
            "\u001b[?25hRequirement already satisfied: biopython in /usr/local/lib/python3.7/dist-packages (from synbiopython) (1.79)\n",
            "Collecting tellurium\n",
            "  Downloading tellurium-2.2.2.1-py3-none-any.whl (121 kB)\n",
            "\u001b[K     |████████████████████████████████| 121 kB 67.2 MB/s \n",
            "\u001b[?25hRequirement already satisfied: pandas>=0.22 in /usr/local/lib/python3.7/dist-packages (from synbiopython) (1.3.5)\n",
            "Requirement already satisfied: numpy in /usr/local/lib/python3.7/dist-packages (from synbiopython) (1.21.6)\n",
            "Collecting dnaplotlib\n",
            "  Downloading dnaplotlib-1.0.tar.gz (17 kB)\n",
            "Collecting reportlab\n",
            "  Downloading reportlab-3.6.10-cp37-cp37m-manylinux_2_17_x86_64.manylinux2014_x86_64.whl (2.8 MB)\n",
            "\u001b[K     |████████████████████████████████| 2.8 MB 63.4 MB/s \n",
            "\u001b[?25hCollecting tesbml\n",
            "  Downloading tesbml-5.18.1.2-cp37-cp37m-manylinux2014_x86_64.whl (6.3 MB)\n",
            "\u001b[K     |████████████████████████████████| 6.3 MB 39.5 MB/s \n",
            "\u001b[?25hCollecting nbgitpuller\n",
            "  Downloading nbgitpuller-1.1.0-py2.py3-none-any.whl (456 kB)\n",
            "\u001b[K     |████████████████████████████████| 456 kB 53.0 MB/s \n",
            "\u001b[?25hRequirement already satisfied: python-dateutil>=2.7.3 in /usr/local/lib/python3.7/dist-packages (from pandas>=0.22->synbiopython) (2.8.2)\n",
            "Requirement already satisfied: pytz>=2017.3 in /usr/local/lib/python3.7/dist-packages (from pandas>=0.22->synbiopython) (2022.1)\n",
            "Requirement already satisfied: six>=1.5 in /usr/local/lib/python3.7/dist-packages (from python-dateutil>=2.7.3->pandas>=0.22->synbiopython) (1.15.0)\n",
            "Requirement already satisfied: tornado in /usr/local/lib/python3.7/dist-packages (from nbgitpuller->synbiopython) (5.1.1)\n",
            "Collecting notebook>=5.5.0\n",
            "  Downloading notebook-6.4.12-py3-none-any.whl (9.9 MB)\n",
            "\u001b[K     |████████████████████████████████| 9.9 MB 59.9 MB/s \n",
            "\u001b[?25hCollecting jupyter-server>=1.10.1\n",
            "  Downloading jupyter_server-1.17.1-py3-none-any.whl (344 kB)\n",
            "\u001b[K     |████████████████████████████████| 344 kB 60.6 MB/s \n",
            "\u001b[?25hRequirement already satisfied: Send2Trash in /usr/local/lib/python3.7/dist-packages (from jupyter-server>=1.10.1->nbgitpuller->synbiopython) (1.8.0)\n",
            "Requirement already satisfied: argon2-cffi in /usr/local/lib/python3.7/dist-packages (from jupyter-server>=1.10.1->nbgitpuller->synbiopython) (21.3.0)\n",
            "Collecting jupyter-client>=6.1.12\n",
            "  Downloading jupyter_client-7.3.4-py3-none-any.whl (132 kB)\n",
            "\u001b[K     |████████████████████████████████| 132 kB 69.0 MB/s \n",
            "\u001b[?25hCollecting tornado\n",
            "  Downloading tornado-6.1-cp37-cp37m-manylinux2010_x86_64.whl (428 kB)\n",
            "\u001b[K     |████████████████████████████████| 428 kB 78.9 MB/s \n",
            "\u001b[?25hRequirement already satisfied: nbformat>=5.2.0 in /usr/local/lib/python3.7/dist-packages (from jupyter-server>=1.10.1->nbgitpuller->synbiopython) (5.4.0)\n",
            "Requirement already satisfied: packaging in /usr/local/lib/python3.7/dist-packages (from jupyter-server>=1.10.1->nbgitpuller->synbiopython) (21.3)\n",
            "Requirement already satisfied: pyzmq>=17 in /usr/local/lib/python3.7/dist-packages (from jupyter-server>=1.10.1->nbgitpuller->synbiopython) (23.1.0)\n",
            "Collecting nbconvert>=6.4.4\n",
            "  Downloading nbconvert-6.5.0-py3-none-any.whl (561 kB)\n",
            "\u001b[K     |████████████████████████████████| 561 kB 49.5 MB/s \n",
            "\u001b[?25hRequirement already satisfied: prometheus-client in /usr/local/lib/python3.7/dist-packages (from jupyter-server>=1.10.1->nbgitpuller->synbiopython) (0.14.1)\n",
            "Requirement already satisfied: jupyter-core>=4.7.0 in /usr/local/lib/python3.7/dist-packages (from jupyter-server>=1.10.1->nbgitpuller->synbiopython) (4.10.0)\n",
            "Requirement already satisfied: jinja2 in /usr/local/lib/python3.7/dist-packages (from jupyter-server>=1.10.1->nbgitpuller->synbiopython) (2.11.3)\n",
            "Collecting anyio<4,>=3.1.0\n",
            "  Downloading anyio-3.6.1-py3-none-any.whl (80 kB)\n",
            "\u001b[K     |████████████████████████████████| 80 kB 9.8 MB/s \n",
            "\u001b[?25hCollecting websocket-client\n",
            "  Downloading websocket_client-1.3.2-py3-none-any.whl (54 kB)\n",
            "\u001b[K     |████████████████████████████████| 54 kB 2.7 MB/s \n",
            "\u001b[?25hRequirement already satisfied: terminado>=0.8.3 in /usr/local/lib/python3.7/dist-packages (from jupyter-server>=1.10.1->nbgitpuller->synbiopython) (0.13.3)\n",
            "Requirement already satisfied: traitlets>=5.1 in /usr/local/lib/python3.7/dist-packages (from jupyter-server>=1.10.1->nbgitpuller->synbiopython) (5.1.1)\n",
            "Requirement already satisfied: typing-extensions in /usr/local/lib/python3.7/dist-packages (from anyio<4,>=3.1.0->jupyter-server>=1.10.1->nbgitpuller->synbiopython) (4.2.0)\n",
            "Requirement already satisfied: idna>=2.8 in /usr/local/lib/python3.7/dist-packages (from anyio<4,>=3.1.0->jupyter-server>=1.10.1->nbgitpuller->synbiopython) (2.10)\n",
            "Collecting sniffio>=1.1\n",
            "  Downloading sniffio-1.2.0-py3-none-any.whl (10 kB)\n",
            "Requirement already satisfied: nest-asyncio>=1.5.4 in /usr/local/lib/python3.7/dist-packages (from jupyter-client>=6.1.12->jupyter-server>=1.10.1->nbgitpuller->synbiopython) (1.5.5)\n",
            "Requirement already satisfied: entrypoints in /usr/local/lib/python3.7/dist-packages (from jupyter-client>=6.1.12->jupyter-server>=1.10.1->nbgitpuller->synbiopython) (0.4)\n",
            "Requirement already satisfied: defusedxml in /usr/local/lib/python3.7/dist-packages (from nbconvert>=6.4.4->jupyter-server>=1.10.1->nbgitpuller->synbiopython) (0.7.1)\n",
            "Requirement already satisfied: beautifulsoup4 in /usr/local/lib/python3.7/dist-packages (from nbconvert>=6.4.4->jupyter-server>=1.10.1->nbgitpuller->synbiopython) (4.6.3)\n",
            "Requirement already satisfied: MarkupSafe>=2.0 in /usr/local/lib/python3.7/dist-packages (from nbconvert>=6.4.4->jupyter-server>=1.10.1->nbgitpuller->synbiopython) (2.0.1)\n",
            "Requirement already satisfied: mistune<2,>=0.8.1 in /usr/local/lib/python3.7/dist-packages (from nbconvert>=6.4.4->jupyter-server>=1.10.1->nbgitpuller->synbiopython) (0.8.4)\n",
            "Requirement already satisfied: jupyterlab-pygments in /usr/local/lib/python3.7/dist-packages (from nbconvert>=6.4.4->jupyter-server>=1.10.1->nbgitpuller->synbiopython) (0.2.2)\n",
            "Requirement already satisfied: pandocfilters>=1.4.1 in /usr/local/lib/python3.7/dist-packages (from nbconvert>=6.4.4->jupyter-server>=1.10.1->nbgitpuller->synbiopython) (1.5.0)\n",
            "Requirement already satisfied: pygments>=2.4.1 in /usr/local/lib/python3.7/dist-packages (from nbconvert>=6.4.4->jupyter-server>=1.10.1->nbgitpuller->synbiopython) (2.6.1)\n",
            "Requirement already satisfied: nbclient>=0.5.0 in /usr/local/lib/python3.7/dist-packages (from nbconvert>=6.4.4->jupyter-server>=1.10.1->nbgitpuller->synbiopython) (0.6.4)\n",
            "Requirement already satisfied: tinycss2 in /usr/local/lib/python3.7/dist-packages (from nbconvert>=6.4.4->jupyter-server>=1.10.1->nbgitpuller->synbiopython) (1.1.1)\n",
            "Requirement already satisfied: bleach in /usr/local/lib/python3.7/dist-packages (from nbconvert>=6.4.4->jupyter-server>=1.10.1->nbgitpuller->synbiopython) (5.0.0)\n",
            "Collecting jinja2\n",
            "  Downloading Jinja2-3.1.2-py3-none-any.whl (133 kB)\n",
            "\u001b[K     |████████████████████████████████| 133 kB 52.2 MB/s \n",
            "\u001b[?25hCollecting traitlets>=5.1\n",
            "  Downloading traitlets-5.3.0-py3-none-any.whl (106 kB)\n",
            "\u001b[K     |████████████████████████████████| 106 kB 60.6 MB/s \n",
            "\u001b[?25hRequirement already satisfied: fastjsonschema in /usr/local/lib/python3.7/dist-packages (from nbformat>=5.2.0->jupyter-server>=1.10.1->nbgitpuller->synbiopython) (2.15.3)\n",
            "Requirement already satisfied: jsonschema>=2.6 in /usr/local/lib/python3.7/dist-packages (from nbformat>=5.2.0->jupyter-server>=1.10.1->nbgitpuller->synbiopython) (4.3.3)\n",
            "Requirement already satisfied: pyrsistent!=0.17.0,!=0.17.1,!=0.17.2,>=0.14.0 in /usr/local/lib/python3.7/dist-packages (from jsonschema>=2.6->nbformat>=5.2.0->jupyter-server>=1.10.1->nbgitpuller->synbiopython) (0.18.1)\n",
            "Requirement already satisfied: importlib-metadata in /usr/local/lib/python3.7/dist-packages (from jsonschema>=2.6->nbformat>=5.2.0->jupyter-server>=1.10.1->nbgitpuller->synbiopython) (4.11.4)\n",
            "Requirement already satisfied: attrs>=17.4.0 in /usr/local/lib/python3.7/dist-packages (from jsonschema>=2.6->nbformat>=5.2.0->jupyter-server>=1.10.1->nbgitpuller->synbiopython) (21.4.0)\n",
            "Requirement already satisfied: importlib-resources>=1.4.0 in /usr/local/lib/python3.7/dist-packages (from jsonschema>=2.6->nbformat>=5.2.0->jupyter-server>=1.10.1->nbgitpuller->synbiopython) (5.7.1)\n",
            "Requirement already satisfied: zipp>=3.1.0 in /usr/local/lib/python3.7/dist-packages (from importlib-resources>=1.4.0->jsonschema>=2.6->nbformat>=5.2.0->jupyter-server>=1.10.1->nbgitpuller->synbiopython) (3.8.0)\n",
            "Requirement already satisfied: ipython-genutils in /usr/local/lib/python3.7/dist-packages (from notebook>=5.5.0->nbgitpuller->synbiopython) (0.2.0)\n",
            "Requirement already satisfied: ipykernel in /usr/local/lib/python3.7/dist-packages (from notebook>=5.5.0->nbgitpuller->synbiopython) (4.10.1)\n",
            "Requirement already satisfied: ptyprocess in /usr/local/lib/python3.7/dist-packages (from terminado>=0.8.3->jupyter-server>=1.10.1->nbgitpuller->synbiopython) (0.7.0)\n",
            "Requirement already satisfied: argon2-cffi-bindings in /usr/local/lib/python3.7/dist-packages (from argon2-cffi->jupyter-server>=1.10.1->nbgitpuller->synbiopython) (21.2.0)\n",
            "Requirement already satisfied: cffi>=1.0.1 in /usr/local/lib/python3.7/dist-packages (from argon2-cffi-bindings->argon2-cffi->jupyter-server>=1.10.1->nbgitpuller->synbiopython) (1.15.0)\n",
            "Requirement already satisfied: pycparser in /usr/local/lib/python3.7/dist-packages (from cffi>=1.0.1->argon2-cffi-bindings->argon2-cffi->jupyter-server>=1.10.1->nbgitpuller->synbiopython) (2.21)\n",
            "Requirement already satisfied: webencodings in /usr/local/lib/python3.7/dist-packages (from bleach->nbconvert>=6.4.4->jupyter-server>=1.10.1->nbgitpuller->synbiopython) (0.5.1)\n",
            "Requirement already satisfied: ipython>=4.0.0 in /usr/local/lib/python3.7/dist-packages (from ipykernel->notebook>=5.5.0->nbgitpuller->synbiopython) (5.5.0)\n",
            "Requirement already satisfied: simplegeneric>0.8 in /usr/local/lib/python3.7/dist-packages (from ipython>=4.0.0->ipykernel->notebook>=5.5.0->nbgitpuller->synbiopython) (0.8.1)\n",
            "Requirement already satisfied: prompt-toolkit<2.0.0,>=1.0.4 in /usr/local/lib/python3.7/dist-packages (from ipython>=4.0.0->ipykernel->notebook>=5.5.0->nbgitpuller->synbiopython) (1.0.18)\n",
            "Requirement already satisfied: decorator in /usr/local/lib/python3.7/dist-packages (from ipython>=4.0.0->ipykernel->notebook>=5.5.0->nbgitpuller->synbiopython) (4.4.2)\n",
            "Requirement already satisfied: pexpect in /usr/local/lib/python3.7/dist-packages (from ipython>=4.0.0->ipykernel->notebook>=5.5.0->nbgitpuller->synbiopython) (4.8.0)\n",
            "Requirement already satisfied: pickleshare in /usr/local/lib/python3.7/dist-packages (from ipython>=4.0.0->ipykernel->notebook>=5.5.0->nbgitpuller->synbiopython) (0.7.5)\n",
            "Requirement already satisfied: setuptools>=18.5 in /usr/local/lib/python3.7/dist-packages (from ipython>=4.0.0->ipykernel->notebook>=5.5.0->nbgitpuller->synbiopython) (57.4.0)\n",
            "Requirement already satisfied: wcwidth in /usr/local/lib/python3.7/dist-packages (from prompt-toolkit<2.0.0,>=1.0.4->ipython>=4.0.0->ipykernel->notebook>=5.5.0->nbgitpuller->synbiopython) (0.2.5)\n",
            "Requirement already satisfied: pyparsing!=3.0.5,>=2.0.2 in /usr/local/lib/python3.7/dist-packages (from packaging->jupyter-server>=1.10.1->nbgitpuller->synbiopython) (3.0.9)\n",
            "Collecting pillow>=9.0.0\n",
            "  Downloading Pillow-9.1.1-cp37-cp37m-manylinux_2_17_x86_64.manylinux2014_x86_64.whl (3.1 MB)\n",
            "\u001b[K     |████████████████████████████████| 3.1 MB 57.1 MB/s \n",
            "\u001b[?25hRequirement already satisfied: appdirs>=1.4.3 in /usr/local/lib/python3.7/dist-packages (from tellurium->synbiopython) (1.4.4)\n",
            "Collecting libroadrunner>=2.0.3\n",
            "  Downloading libroadrunner-2.2.1-cp37-cp37m-manylinux2014_x86_64.whl (54.8 MB)\n",
            "\u001b[K     |████████████████████████████████| 54.8 MB 255 kB/s \n",
            "\u001b[?25hCollecting sbml2matlab>=0.9.1\n",
            "  Downloading sbml2matlab-1.2.3-cp37-cp37m-manylinux1_x86_64.whl (3.2 MB)\n",
            "\u001b[K     |████████████████████████████████| 3.2 MB 55.3 MB/s \n",
            "\u001b[?25hCollecting python-libsbml>=5.18.0\n",
            "  Downloading python_libsbml-5.19.5-cp37-cp37m-manylinux_2_17_x86_64.manylinux2014_x86_64.whl (6.8 MB)\n",
            "\u001b[K     |████████████████████████████████| 6.8 MB 45.5 MB/s \n",
            "\u001b[?25hRequirement already satisfied: requests in /usr/local/lib/python3.7/dist-packages (from tellurium->synbiopython) (2.23.0)\n",
            "Requirement already satisfied: plotly>=2.0.12 in /usr/local/lib/python3.7/dist-packages (from tellurium->synbiopython) (5.5.0)\n",
            "Collecting antimony>=2.12.0\n",
            "  Downloading antimony-2.13.1-py3-none-manylinux2014_x86_64.whl (5.0 MB)\n",
            "\u001b[K     |████████████████████████████████| 5.0 MB 55.0 MB/s \n",
            "\u001b[?25hCollecting python-libsedml>=2.0.17\n",
            "  Downloading python_libsedml-2.0.32-cp37-cp37m-manylinux_2_17_x86_64.manylinux2014_x86_64.whl (3.3 MB)\n",
            "\u001b[K     |████████████████████████████████| 3.3 MB 54.4 MB/s \n",
            "\u001b[?25hCollecting python-libcombine>=0.2.2\n",
            "  Downloading python_libcombine-0.2.17-cp37-cp37m-manylinux_2_17_x86_64.manylinux2014_x86_64.whl (2.6 MB)\n",
            "\u001b[K     |████████████████████████████████| 2.6 MB 33.8 MB/s \n",
            "\u001b[?25hCollecting python-libnuml>=1.0.0\n",
            "  Downloading python_libnuml-1.1.6-cp37-cp37m-manylinux_2_17_x86_64.manylinux2014_x86_64.whl (2.1 MB)\n",
            "\u001b[K     |████████████████████████████████| 2.1 MB 53.1 MB/s \n",
            "\u001b[?25hCollecting scipy>=1.5.1\n",
            "  Downloading scipy-1.7.3-cp37-cp37m-manylinux_2_12_x86_64.manylinux2010_x86_64.whl (38.1 MB)\n",
            "\u001b[K     |████████████████████████████████| 38.1 MB 1.2 MB/s \n",
            "\u001b[?25hRequirement already satisfied: pytest in /usr/local/lib/python3.7/dist-packages (from tellurium->synbiopython) (3.6.4)\n",
            "Requirement already satisfied: matplotlib>=2.0.2 in /usr/local/lib/python3.7/dist-packages (from tellurium->synbiopython) (3.2.2)\n",
            "Collecting phrasedml>=1.0.9\n",
            "  Downloading phrasedml-1.1.1-cp37-cp37m-manylinux2010_x86_64.whl (5.6 MB)\n",
            "\u001b[K     |████████████████████████████████| 5.6 MB 28.8 MB/s \n",
            "\u001b[?25hCollecting rrplugins>=2.0.3\n",
            "  Downloading rrplugins-2.0.4-py3-none-manylinux2010_x86_64.whl (36.7 MB)\n",
            "\u001b[K     |████████████████████████████████| 36.7 MB 30 kB/s \n",
            "\u001b[?25hRequirement already satisfied: cycler>=0.10 in /usr/local/lib/python3.7/dist-packages (from matplotlib>=2.0.2->tellurium->synbiopython) (0.11.0)\n",
            "Requirement already satisfied: kiwisolver>=1.0.1 in /usr/local/lib/python3.7/dist-packages (from matplotlib>=2.0.2->tellurium->synbiopython) (1.4.2)\n",
            "Requirement already satisfied: tenacity>=6.2.0 in /usr/local/lib/python3.7/dist-packages (from plotly>=2.0.12->tellurium->synbiopython) (8.0.1)\n",
            "Requirement already satisfied: atomicwrites>=1.0 in /usr/local/lib/python3.7/dist-packages (from pytest->tellurium->synbiopython) (1.4.0)\n",
            "Requirement already satisfied: py>=1.5.0 in /usr/local/lib/python3.7/dist-packages (from pytest->tellurium->synbiopython) (1.11.0)\n",
            "Requirement already satisfied: more-itertools>=4.0.0 in /usr/local/lib/python3.7/dist-packages (from pytest->tellurium->synbiopython) (8.13.0)\n",
            "Requirement already satisfied: pluggy<0.8,>=0.5 in /usr/local/lib/python3.7/dist-packages (from pytest->tellurium->synbiopython) (0.7.1)\n",
            "Requirement already satisfied: urllib3!=1.25.0,!=1.25.1,<1.26,>=1.21.1 in /usr/local/lib/python3.7/dist-packages (from requests->tellurium->synbiopython) (1.24.3)\n",
            "Requirement already satisfied: chardet<4,>=3.0.2 in /usr/local/lib/python3.7/dist-packages (from requests->tellurium->synbiopython) (3.0.4)\n",
            "Requirement already satisfied: certifi>=2017.4.17 in /usr/local/lib/python3.7/dist-packages (from requests->tellurium->synbiopython) (2022.5.18.1)\n",
            "Building wheels for collected packages: dnaplotlib\n",
            "  Building wheel for dnaplotlib (setup.py) ... \u001b[?25l\u001b[?25hdone\n",
            "  Created wheel for dnaplotlib: filename=dnaplotlib-1.0-py3-none-any.whl size=20648 sha256=14932a4ff582f23d79bd41f9f711752bb4f83fa2f7828809377f14f2647ab721\n",
            "  Stored in directory: /root/.cache/pip/wheels/20/b8/59/be8c5b2a697a4b9014d1e116e3d60d7a199b5a045a0132c1df\n",
            "Successfully built dnaplotlib\n",
            "Installing collected packages: traitlets, tornado, jupyter-client, sniffio, jinja2, websocket-client, nbconvert, anyio, scipy, sbml2matlab, rrplugins, python-libsedml, python-libsbml, python-libnuml, python-libcombine, pillow, phrasedml, notebook, libroadrunner, jupyter-server, antimony, tesbml, tellurium, reportlab, nbgitpuller, dnaplotlib, synbiopython\n",
            "  Attempting uninstall: traitlets\n",
            "    Found existing installation: traitlets 5.1.1\n",
            "    Uninstalling traitlets-5.1.1:\n",
            "      Successfully uninstalled traitlets-5.1.1\n",
            "  Attempting uninstall: tornado\n",
            "    Found existing installation: tornado 5.1.1\n",
            "    Uninstalling tornado-5.1.1:\n",
            "      Successfully uninstalled tornado-5.1.1\n",
            "  Attempting uninstall: jupyter-client\n",
            "    Found existing installation: jupyter-client 5.3.5\n",
            "    Uninstalling jupyter-client-5.3.5:\n",
            "      Successfully uninstalled jupyter-client-5.3.5\n",
            "  Attempting uninstall: jinja2\n",
            "    Found existing installation: Jinja2 2.11.3\n",
            "    Uninstalling Jinja2-2.11.3:\n",
            "      Successfully uninstalled Jinja2-2.11.3\n",
            "  Attempting uninstall: nbconvert\n",
            "    Found existing installation: nbconvert 5.6.1\n",
            "    Uninstalling nbconvert-5.6.1:\n",
            "      Successfully uninstalled nbconvert-5.6.1\n",
            "  Attempting uninstall: scipy\n",
            "    Found existing installation: scipy 1.4.1\n",
            "    Uninstalling scipy-1.4.1:\n",
            "      Successfully uninstalled scipy-1.4.1\n",
            "  Attempting uninstall: pillow\n",
            "    Found existing installation: Pillow 7.1.2\n",
            "    Uninstalling Pillow-7.1.2:\n",
            "      Successfully uninstalled Pillow-7.1.2\n",
            "  Attempting uninstall: notebook\n",
            "    Found existing installation: notebook 5.3.1\n",
            "    Uninstalling notebook-5.3.1:\n",
            "      Successfully uninstalled notebook-5.3.1\n",
            "\u001b[31mERROR: pip's dependency resolver does not currently take into account all the packages that are installed. This behaviour is the source of the following dependency conflicts.\n",
            "google-colab 1.0.0 requires notebook~=5.3.0; python_version >= \"3.0\", but you have notebook 6.4.12 which is incompatible.\n",
            "google-colab 1.0.0 requires tornado~=5.1.0; python_version >= \"3.0\", but you have tornado 6.1 which is incompatible.\n",
            "flask 1.1.4 requires Jinja2<3.0,>=2.10.1, but you have jinja2 3.1.2 which is incompatible.\n",
            "datascience 0.10.6 requires folium==0.2.1, but you have folium 0.8.3 which is incompatible.\n",
            "albumentations 0.1.12 requires imgaug<0.2.7,>=0.2.5, but you have imgaug 0.2.9 which is incompatible.\u001b[0m\n",
            "Successfully installed antimony-2.13.1 anyio-3.6.1 dnaplotlib-1.0 jinja2-3.1.2 jupyter-client-7.3.4 jupyter-server-1.17.1 libroadrunner-2.2.1 nbconvert-6.5.0 nbgitpuller-1.1.0 notebook-6.4.12 phrasedml-1.1.1 pillow-9.1.1 python-libcombine-0.2.17 python-libnuml-1.1.6 python-libsbml-5.19.5 python-libsedml-2.0.32 reportlab-3.6.10 rrplugins-2.0.4 sbml2matlab-1.2.3 scipy-1.7.3 sniffio-1.2.0 synbiopython-0.2.0 tellurium-2.2.2.1 tesbml-5.18.1.2 tornado-6.1 traitlets-5.3.0 websocket-client-1.3.2\n"
          ]
        },
        {
          "output_type": "display_data",
          "data": {
            "application/vnd.colab-display-data+json": {
              "pip_warning": {
                "packages": [
                  "PIL",
                  "scipy",
                  "tornado"
                ]
              }
            }
          },
          "metadata": {}
        }
      ]
    },
    {
      "cell_type": "code",
      "source": [
        "from ConStrain_on_google_colab.Script.robot_assembly import RobotAssembly"
      ],
      "metadata": {
        "colab": {
          "base_uri": "https://localhost:8080/",
          "height": 426
        },
        "id": "dE_mjUgfChhl",
        "outputId": "597d2c36-3623-4729-9885-04d98f9c0ceb"
      },
      "execution_count": null,
      "outputs": [
        {
          "output_type": "error",
          "ename": "ModuleNotFoundError",
          "evalue": "ignored",
          "traceback": [
            "\u001b[0;31m---------------------------------------------------------------------------\u001b[0m",
            "\u001b[0;31mModuleNotFoundError\u001b[0m                       Traceback (most recent call last)",
            "\u001b[0;32m<ipython-input-41-1a50e5d8018a>\u001b[0m in \u001b[0;36m<module>\u001b[0;34m()\u001b[0m\n\u001b[0;32m----> 1\u001b[0;31m \u001b[0;32mfrom\u001b[0m \u001b[0mConStrain_on_google_colab\u001b[0m\u001b[0;34m.\u001b[0m\u001b[0mScript\u001b[0m\u001b[0;34m.\u001b[0m\u001b[0mrobot_assembly\u001b[0m \u001b[0;32mimport\u001b[0m \u001b[0mRobotAssembly\u001b[0m\u001b[0;34m\u001b[0m\u001b[0;34m\u001b[0m\u001b[0m\n\u001b[0m",
            "\u001b[0;32m/content/ConStrain_on_google_colab/Script/robot_assembly.py\u001b[0m in \u001b[0;36m<module>\u001b[0;34m()\u001b[0m\n\u001b[1;32m      5\u001b[0m \u001b[0;34m\u001b[0m\u001b[0m\n\u001b[1;32m      6\u001b[0m \u001b[0;31m# For automating part\u001b[0m\u001b[0;34m\u001b[0m\u001b[0;34m\u001b[0m\u001b[0;34m\u001b[0m\u001b[0m\n\u001b[0;32m----> 7\u001b[0;31m \u001b[0;32mimport\u001b[0m \u001b[0msynbiopython\u001b[0m\u001b[0;34m.\u001b[0m\u001b[0mlab_automation\u001b[0m \u001b[0;32mas\u001b[0m \u001b[0mlab\u001b[0m\u001b[0;34m\u001b[0m\u001b[0;34m\u001b[0m\u001b[0m\n\u001b[0m\u001b[1;32m      8\u001b[0m \u001b[0;34m\u001b[0m\u001b[0m\n\u001b[1;32m      9\u001b[0m ''' This part of the design module is used for robot instructions - primarily for Flowbot one\n",
            "\u001b[0;31mModuleNotFoundError\u001b[0m: No module named 'synbiopython'",
            "",
            "\u001b[0;31m---------------------------------------------------------------------------\u001b[0;32m\nNOTE: If your import is failing due to a missing package, you can\nmanually install dependencies using either !pip or !apt.\n\nTo view examples of installing some common dependencies, click the\n\"Open Examples\" button below.\n\u001b[0;31m---------------------------------------------------------------------------\u001b[0m\n"
          ],
          "errorDetails": {
            "actions": [
              {
                "action": "open_url",
                "actionText": "Open Examples",
                "url": "/notebooks/snippets/importing_libraries.ipynb"
              }
            ]
          }
        }
      ]
    },
    {
      "cell_type": "code",
      "execution_count": null,
      "metadata": {
        "tags": [],
        "id": "bd9c356f-bf50-4566-bae3-99b982000de6"
      },
      "outputs": [],
      "source": [
        "Robot_intstructions_test = RobotAssembly(DesignAssembly_object = None, Pandas_dataframe_PCR = only_a_subset_templates, F_primers=f_primers, R_primers = r_primers, Templates= templates)"
      ]
    },
    {
      "cell_type": "markdown",
      "metadata": {
        "id": "cf3c65cd-fad2-4eb2-9d55-29fae195ee41"
      },
      "source": [
        "Now a good thing to do is look at the virtual plates that we have generated with the RobotAssembly object. It can be done in a few ways but here are 2: \n",
        "\n",
        "1. Each plate can be accessed an made into a dataframe\n",
        "2. All the plates can be printed at once. \n",
        "\n"
      ]
    },
    {
      "cell_type": "code",
      "execution_count": null,
      "metadata": {
        "id": "c843fdb8-58d6-4e3d-8bd6-883a2eb0d70d"
      },
      "outputs": [],
      "source": [
        "# source_plateF_primers is a class instance and can be access like this: \n",
        "Robot_intstructions_test.source_plateF_primers.to_pandas_dataframe()"
      ]
    },
    {
      "cell_type": "markdown",
      "metadata": {
        "id": "c43031a2-d4ff-4948-bef8-49381a3f44a9"
      },
      "source": [
        "With the *print_well_df_to_string* method we can print all the wells in one go. \n"
      ]
    },
    {
      "cell_type": "code",
      "execution_count": null,
      "metadata": {
        "id": "5ddd8d4e-1c87-4658-ae95-ab34541f63be"
      },
      "outputs": [],
      "source": [
        "Robot_intstructions_test.print_well_df_to_string()"
      ]
    },
    {
      "cell_type": "markdown",
      "metadata": {
        "id": "6d5b2214-a217-48ea-aff1-f9ce8b594e7f"
      },
      "source": [
        "Lets check out the picklist generated for the PCR reactions we made in FLOWBOT INSTRUCTIONS\n",
        "\n",
        "The first number from the source and target columns indicate which plate the action is performed on, followed by which well. \n",
        "\n",
        "So this: \n",
        "\n",
        "source, target, volume\n",
        "1:A4, 5:A1, 1 \n",
        "\n",
        "means that plate 1, well A4 is transferd to target plate 5, A1 and the volume is 1. "
      ]
    },
    {
      "cell_type": "code",
      "execution_count": null,
      "metadata": {
        "id": "4ed67a24-020c-44ee-b040-0832201df5d6"
      },
      "outputs": [],
      "source": [
        "print(Robot_intstructions_test.picklist.to_flowbot_instructions())"
      ]
    },
    {
      "cell_type": "markdown",
      "metadata": {
        "id": "d18e0d7c-350b-4c2e-a223-b1cecd2b196d"
      },
      "source": [
        "The picklist exported as a CSV file. Then loaded onto ur favourite robot and the assembly initated."
      ]
    },
    {
      "cell_type": "code",
      "execution_count": null,
      "metadata": {
        "id": "596336c0-a4d7-4522-851b-96cc15e13fef"
      },
      "outputs": [],
      "source": [
        "Robot_intstructions_test.FlowbotInstructionsToCSV()"
      ]
    },
    {
      "cell_type": "markdown",
      "metadata": {
        "id": "528408b0-47ff-4e1b-84b8-1f03057cfaed"
      },
      "source": [
        "## Conclusion\n",
        "\n",
        "1. A combinatorial library was made\n",
        "2. Instructions for Flowbot One was automatically generated for the assembly of the combinatorial library. "
      ]
    }
  ]
}